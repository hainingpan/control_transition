{
 "cells": [
  {
   "cell_type": "code",
<<<<<<< HEAD
   "execution_count": 1,
=======
   "execution_count": null,
>>>>>>> 7bb95c828d0a914cf2fa2d30016d1fd57604a2a5
   "metadata": {},
   "outputs": [
    {
     "ename": "",
     "evalue": "",
     "output_type": "error",
     "traceback": [
      "\u001b[1;31mFailed to start the Kernel. \n",
      "\u001b[1;31mJupyter Server crashed. Unable to connect. \n",
      "\u001b[1;31mError code from Jupyter: 1\n",
      "\u001b[1;31mTraceback (most recent call last):\n",
      "\u001b[1;31m  File \"/home/hp636/.pyenv/versions/3.9.2/bin/jupyter-notebook\", line 5, in <module>\n",
      "\u001b[1;31m    from notebook.app import main\n",
      "\u001b[1;31m  File \"/home/hp636/.local/lib/python3.9/site-packages/notebook/app.py\", line 20, in <module>\n",
      "\u001b[1;31m    from jupyterlab.commands import (  # type:ignore[import-untyped]\n",
      "\u001b[1;31m  File \"/home/hp636/.local/lib/python3.9/site-packages/jupyterlab/__init__.py\", line 8, in <module>\n",
      "\u001b[1;31m    from .handlers.announcements import (\n",
      "\u001b[1;31m  File \"/home/hp636/.local/lib/python3.9/site-packages/jupyterlab/handlers/announcements.py\", line 15, in <module>\n",
      "\u001b[1;31m    from jupyterlab_server.translation_utils import translator\n",
      "\u001b[1;31m  File \"/home/hp636/.local/lib/python3.9/site-packages/jupyterlab_server/__init__.py\", line 6, in <module>\n",
      "\u001b[1;31m    from .app import LabServerApp\n",
      "\u001b[1;31m  File \"/home/hp636/.local/lib/python3.9/site-packages/jupyterlab_server/app.py\", line 15, in <module>\n",
      "\u001b[1;31m    from .handlers import LabConfig, add_handlers\n",
      "\u001b[1;31m  File \"/home/hp636/.local/lib/python3.9/site-packages/jupyterlab_server/handlers.py\", line 21, in <module>\n",
      "\u001b[1;31m    from .listings_handler import ListingsHandler, fetch_listings\n",
      "\u001b[1;31m  File \"/home/hp636/.local/lib/python3.9/site-packages/jupyterlab_server/listings_handler.py\", line 10, in <module>\n",
      "\u001b[1;31m    import requests\n",
      "\u001b[1;31m  File \"/home/hp636/.local/lib/python3.9/site-packages/requests/__init__.py\", line 43, in <module>\n",
      "\u001b[1;31m    import urllib3\n",
      "\u001b[1;31m  File \"/home/hp636/.local/lib/python3.9/site-packages/urllib3/__init__.py\", line 42, in <module>\n",
      "\u001b[1;31m    raise ImportError(\n",
      "\u001b[1;31mImportError: urllib3 v2 only supports OpenSSL 1.1.1+, currently the 'ssl' module is compiled with 'OpenSSL 1.0.2k-fips  26 Jan 2017'. See: https://github.com/urllib3/urllib3/issues/2168. \n",
      "\u001b[1;31mView Jupyter <a href='command:jupyter.viewOutput'>log</a> for further details."
     ]
    }
   ],
   "source": [
    "from fractions import Fraction\n"
   ]
  },
  {
   "cell_type": "code",
<<<<<<< HEAD
   "execution_count": 2,
=======
   "execution_count": null,
>>>>>>> 7bb95c828d0a914cf2fa2d30016d1fd57604a2a5
   "metadata": {},
   "outputs": [
    {
     "ename": "",
     "evalue": "",
     "output_type": "error",
     "traceback": [
      "\u001b[1;31mFailed to start the Kernel. \n",
      "\u001b[1;31mJupyter Server crashed. Unable to connect. \n",
      "\u001b[1;31mError code from Jupyter: 1\n",
      "\u001b[1;31mTraceback (most recent call last):\n",
      "\u001b[1;31m  File \"/home/hp636/.pyenv/versions/3.9.2/bin/jupyter-notebook\", line 5, in <module>\n",
      "\u001b[1;31m    from notebook.app import main\n",
      "\u001b[1;31m  File \"/home/hp636/.local/lib/python3.9/site-packages/notebook/app.py\", line 20, in <module>\n",
      "\u001b[1;31m    from jupyterlab.commands import (  # type:ignore[import-untyped]\n",
      "\u001b[1;31m  File \"/home/hp636/.local/lib/python3.9/site-packages/jupyterlab/__init__.py\", line 8, in <module>\n",
      "\u001b[1;31m    from .handlers.announcements import (\n",
      "\u001b[1;31m  File \"/home/hp636/.local/lib/python3.9/site-packages/jupyterlab/handlers/announcements.py\", line 15, in <module>\n",
      "\u001b[1;31m    from jupyterlab_server.translation_utils import translator\n",
      "\u001b[1;31m  File \"/home/hp636/.local/lib/python3.9/site-packages/jupyterlab_server/__init__.py\", line 6, in <module>\n",
      "\u001b[1;31m    from .app import LabServerApp\n",
      "\u001b[1;31m  File \"/home/hp636/.local/lib/python3.9/site-packages/jupyterlab_server/app.py\", line 15, in <module>\n",
      "\u001b[1;31m    from .handlers import LabConfig, add_handlers\n",
      "\u001b[1;31m  File \"/home/hp636/.local/lib/python3.9/site-packages/jupyterlab_server/handlers.py\", line 21, in <module>\n",
      "\u001b[1;31m    from .listings_handler import ListingsHandler, fetch_listings\n",
      "\u001b[1;31m  File \"/home/hp636/.local/lib/python3.9/site-packages/jupyterlab_server/listings_handler.py\", line 10, in <module>\n",
      "\u001b[1;31m    import requests\n",
      "\u001b[1;31m  File \"/home/hp636/.local/lib/python3.9/site-packages/requests/__init__.py\", line 43, in <module>\n",
      "\u001b[1;31m    import urllib3\n",
      "\u001b[1;31m  File \"/home/hp636/.local/lib/python3.9/site-packages/urllib3/__init__.py\", line 42, in <module>\n",
      "\u001b[1;31m    raise ImportError(\n",
      "\u001b[1;31mImportError: urllib3 v2 only supports OpenSSL 1.1.1+, currently the 'ssl' module is compiled with 'OpenSSL 1.0.2k-fips  26 Jan 2017'. See: https://github.com/urllib3/urllib3/issues/2168. \n",
      "\u001b[1;31mView Jupyter <a href='command:jupyter.viewOutput'>log</a> for further details."
     ]
    }
   ],
   "source": [
    "from rqc import utils\n",
    "import numpy as np\n",
    "from tqdm import tqdm\n",
    "\n",
    "\n",
    "from rqc.APT_classical import APT_classical"
   ]
  },
  {
   "cell_type": "code",
   "execution_count": 2,
   "metadata": {},
   "outputs": [],
   "source": [
    "import matplotlib.pyplot as plt"
   ]
  },
  {
   "cell_type": "code",
   "execution_count": 202,
   "metadata": {},
   "outputs": [],
   "source": [
    "from importlib import reload\n",
    "\n",
    "import rqc.APT\n",
    "reload(rqc.APT)\n",
    "from rqc.APT import APT"
   ]
  },
  {
   "cell_type": "code",
   "execution_count": null,
   "metadata": {},
   "outputs": [
    {
     "ename": "",
     "evalue": "",
     "output_type": "error",
     "traceback": [
      "\u001b[1;31mFailed to start the Kernel. \n",
      "\u001b[1;31mJupyter Server crashed. Unable to connect. \n",
      "\u001b[1;31mError code from Jupyter: 1\n",
      "\u001b[1;31mTraceback (most recent call last):\n",
      "\u001b[1;31m  File \"/home/hp636/.pyenv/versions/3.9.2/bin/jupyter-notebook\", line 5, in <module>\n",
      "\u001b[1;31m    from notebook.app import main\n",
      "\u001b[1;31m  File \"/home/hp636/.local/lib/python3.9/site-packages/notebook/app.py\", line 20, in <module>\n",
      "\u001b[1;31m    from jupyterlab.commands import (  # type:ignore[import-untyped]\n",
      "\u001b[1;31m  File \"/home/hp636/.local/lib/python3.9/site-packages/jupyterlab/__init__.py\", line 8, in <module>\n",
      "\u001b[1;31m    from .handlers.announcements import (\n",
      "\u001b[1;31m  File \"/home/hp636/.local/lib/python3.9/site-packages/jupyterlab/handlers/announcements.py\", line 15, in <module>\n",
      "\u001b[1;31m    from jupyterlab_server.translation_utils import translator\n",
      "\u001b[1;31m  File \"/home/hp636/.local/lib/python3.9/site-packages/jupyterlab_server/__init__.py\", line 6, in <module>\n",
      "\u001b[1;31m    from .app import LabServerApp\n",
      "\u001b[1;31m  File \"/home/hp636/.local/lib/python3.9/site-packages/jupyterlab_server/app.py\", line 15, in <module>\n",
      "\u001b[1;31m    from .handlers import LabConfig, add_handlers\n",
      "\u001b[1;31m  File \"/home/hp636/.local/lib/python3.9/site-packages/jupyterlab_server/handlers.py\", line 21, in <module>\n",
      "\u001b[1;31m    from .listings_handler import ListingsHandler, fetch_listings\n",
      "\u001b[1;31m  File \"/home/hp636/.local/lib/python3.9/site-packages/jupyterlab_server/listings_handler.py\", line 10, in <module>\n",
      "\u001b[1;31m    import requests\n",
      "\u001b[1;31m  File \"/home/hp636/.local/lib/python3.9/site-packages/requests/__init__.py\", line 43, in <module>\n",
      "\u001b[1;31m    import urllib3\n",
      "\u001b[1;31m  File \"/home/hp636/.local/lib/python3.9/site-packages/urllib3/__init__.py\", line 42, in <module>\n",
      "\u001b[1;31m    raise ImportError(\n",
      "\u001b[1;31mImportError: urllib3 v2 only supports OpenSSL 1.1.1+, currently the 'ssl' module is compiled with 'OpenSSL 1.0.2k-fips  26 Jan 2017'. See: https://github.com/urllib3/urllib3/issues/2168. \n",
      "\u001b[1;31mView Jupyter <a href='command:jupyter.viewOutput'>log</a> for further details."
     ]
    }
   ],
   "source": [
    "from rqc.APT import APT_classical"
   ]
  },
  {
   "cell_type": "code",
   "execution_count": 165,
   "metadata": {},
   "outputs": [],
   "source": [
    "def run(inputs):\n",
    "    L,seed, p_m,p_f  = inputs\n",
    "    apt=APT(L=L,x0=Fraction(2**L-1,2**L),seed=seed,seed_C=None,seed_vec=None,store_op=False)\n",
    "    for i in range(2*apt.L):\n",
    "        apt.random_cicuit(p_m=p_m,p_f=p_f,even=True)\n",
    "        apt.random_cicuit(p_m=p_m,p_f=p_f,even=False)\n",
    "    OP=apt.order_parameter()\n",
    "    # TMI=apt.tripartite_mutual_information(np.arange(apt.L//4),np.arange(apt.L//4)+apt.L//4,np.arange(apt.L//4)+apt.L//2,selfaverage=True)\n",
    "    # return OP,TMI\n",
    "    return OP"
   ]
  },
  {
   "cell_type": "code",
<<<<<<< HEAD
   "execution_count": 5,
=======
   "execution_count": null,
>>>>>>> 7bb95c828d0a914cf2fa2d30016d1fd57604a2a5
   "metadata": {},
   "outputs": [],
   "source": [
    "def run_classical(inputs):\n",
    "    L,seed, p_m,p_f  = inputs\n",
<<<<<<< HEAD
    "    apt=APT_classical(L=L,x0=Fraction(2**L-1,2**L),seed=seed,seed_C=None,seed_vec=None,)\n",
    "    for i in range(2*apt.L):\n",
    "        apt.random_circuit(p_m=p_m,p_f=p_f,even=True)\n",
    "        apt.random_circuit(p_m=p_m,p_f=p_f,even=False)\n",
=======
    "    apt=APT(L=L,x0=Fraction(2**L-1,2**L),seed=seed,seed_C=None,seed_vec=None,store_op=False)\n",
    "    for i in range(2*apt.L):\n",
    "        apt.random_cicuit(p_m=p_m,p_f=p_f,even=True)\n",
    "        apt.random_cicuit(p_m=p_m,p_f=p_f,even=False)\n",
>>>>>>> 7bb95c828d0a914cf2fa2d30016d1fd57604a2a5
    "    OP=apt.order_parameter()\n",
    "    # TMI=apt.tripartite_mutual_information(np.arange(apt.L//4),np.arange(apt.L//4)+apt.L//4,np.arange(apt.L//4)+apt.L//2,selfaverage=True)\n",
    "    # return OP,TMI\n",
    "    return OP"
   ]
  },
  {
   "cell_type": "code",
<<<<<<< HEAD
   "execution_count": null,
   "metadata": {},
   "outputs": [],
   "source": [
    "pm * pf =0.09"
   ]
  },
  {
   "cell_type": "code",
   "execution_count": 8,
   "metadata": {},
   "outputs": [
    {
     "data": {
      "text/plain": [
       "0.3"
      ]
     },
     "execution_count": 8,
     "metadata": {},
     "output_type": "execute_result"
    }
   ],
   "source": [
    "np.sqrt(0.09)"
   ]
  },
  {
   "cell_type": "code",
   "execution_count": 6,
   "metadata": {},
   "outputs": [
    {
     "ename": "TypeError",
     "evalue": "APT_classical.random_circuit() got an unexpected keyword argument 'p_m'",
     "output_type": "error",
     "traceback": [
      "\u001b[0;31m---------------------------------------------------------------------------\u001b[0m",
      "\u001b[0;31mTypeError\u001b[0m                                 Traceback (most recent call last)",
      "Cell \u001b[0;32mIn[6], line 1\u001b[0m\n\u001b[0;32m----> 1\u001b[0m run_classical((\u001b[38;5;241m8\u001b[39m,\u001b[38;5;241m0\u001b[39m,\u001b[38;5;241m0.1\u001b[39m,\u001b[38;5;241m1\u001b[39m))\n",
      "Cell \u001b[0;32mIn[5], line 5\u001b[0m, in \u001b[0;36mrun_classical\u001b[0;34m(inputs)\u001b[0m\n\u001b[1;32m      3\u001b[0m apt\u001b[38;5;241m=\u001b[39mAPT_classical(L\u001b[38;5;241m=\u001b[39mL,x0\u001b[38;5;241m=\u001b[39mFraction(\u001b[38;5;241m2\u001b[39m\u001b[38;5;241m*\u001b[39m\u001b[38;5;241m*\u001b[39mL\u001b[38;5;241m-\u001b[39m\u001b[38;5;241m1\u001b[39m,\u001b[38;5;241m2\u001b[39m\u001b[38;5;241m*\u001b[39m\u001b[38;5;241m*\u001b[39mL),seed\u001b[38;5;241m=\u001b[39mseed,seed_C\u001b[38;5;241m=\u001b[39m\u001b[38;5;28;01mNone\u001b[39;00m,seed_vec\u001b[38;5;241m=\u001b[39m\u001b[38;5;28;01mNone\u001b[39;00m,)\n\u001b[1;32m      4\u001b[0m \u001b[38;5;28;01mfor\u001b[39;00m i \u001b[38;5;129;01min\u001b[39;00m \u001b[38;5;28mrange\u001b[39m(\u001b[38;5;241m2\u001b[39m\u001b[38;5;241m*\u001b[39mapt\u001b[38;5;241m.\u001b[39mL):\n\u001b[0;32m----> 5\u001b[0m     apt\u001b[38;5;241m.\u001b[39mrandom_circuit(p_m\u001b[38;5;241m=\u001b[39mp_m,p_f\u001b[38;5;241m=\u001b[39mp_f,even\u001b[38;5;241m=\u001b[39m\u001b[38;5;28;01mTrue\u001b[39;00m)\n\u001b[1;32m      6\u001b[0m     apt\u001b[38;5;241m.\u001b[39mrandom_circuit(p_m\u001b[38;5;241m=\u001b[39mp_m,p_f\u001b[38;5;241m=\u001b[39mp_f,even\u001b[38;5;241m=\u001b[39m\u001b[38;5;28;01mFalse\u001b[39;00m)\n\u001b[1;32m      7\u001b[0m OP\u001b[38;5;241m=\u001b[39mapt\u001b[38;5;241m.\u001b[39morder_parameter()\n",
      "\u001b[0;31mTypeError\u001b[0m: APT_classical.random_circuit() got an unexpected keyword argument 'p_m'"
     ]
    }
   ],
   "source": [
    "run_classical((8,0,0.1,1))"
   ]
  },
  {
   "cell_type": "code",
   "execution_count": null,
=======
   "execution_count": 113,
>>>>>>> 7bb95c828d0a914cf2fa2d30016d1fd57604a2a5
   "metadata": {},
   "outputs": [
    {
     "data": {
      "text/plain": [
       "(0.3075797190915678, -0.17935728221722272)"
      ]
     },
     "metadata": {},
     "output_type": "display_data"
    }
   ],
   "source": [
    "run((8,0,0.1,1))"
   ]
  },
  {
   "cell_type": "code",
   "execution_count": null,
   "metadata": {},
   "outputs": [],
   "source": []
  },
  {
   "cell_type": "code",
   "execution_count": 126,
   "metadata": {},
   "outputs": [
    {
     "name": "stderr",
     "output_type": "stream",
     "text": [
      "11it [01:13,  6.72s/it]\n",
      "11it [05:55, 32.29s/it]\n",
      "11it [33:32, 182.97s/it]\n"
     ]
    }
   ],
   "source": [
    "# OP_map={}\n",
    "# TMI_map={}\n",
    "seed_list=np.arange(200)\n",
    "p_m_list=np.linspace(0.05,0.25,11)\n",
    "L_list=np.arange(8,20,4)\n",
    "# L_list=np.arange(16,20,4)\n",
    "for L in (L_list):\n",
    "    OP_map[L]=np.zeros((p_m_list.shape[0],seed_list.shape[0]),dtype=float)\n",
    "    TMI_map[L]=np.zeros((p_m_list.shape[0],seed_list.shape[0]),dtype=float)\n",
    "    for p_m_idx,p_m in tqdm(enumerate(p_m_list)):\n",
    "        for seed_idx,seed in enumerate(seed_list):\n",
    "            # OP_map[L][p_m_idx,seed_idx],TMI_map[L][p_m_idx,seed_idx]=run((L,seed,p_m,p_m))\n",
    "            OP_map[L][p_m_idx,seed_idx],TMI_map[L][p_m_idx,seed_idx]=run((L,seed,p_m,1))"
   ]
  },
  {
   "cell_type": "code",
   "execution_count": 131,
   "metadata": {},
   "outputs": [
    {
     "data": {
      "text/plain": [
       "<matplotlib.legend.Legend at 0x7f817c137310>"
      ]
     },
     "execution_count": 131,
     "metadata": {},
     "output_type": "execute_result"
    },
    {
     "data": {
      "image/png": "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",
      "text/plain": [
       "<Figure size 640x480 with 1 Axes>"
      ]
     },
     "metadata": {},
     "output_type": "display_data"
    }
   ],
   "source": [
    "fig,ax=plt.subplots()\n",
    "for i in OP_map.keys():\n",
    "    ax.plot(p_m_list,OP_map[i].mean(axis=1),label=f'L={i}')\n",
    "ax.legend()"
   ]
  },
  {
   "cell_type": "code",
   "execution_count": 130,
   "metadata": {},
   "outputs": [
    {
     "data": {
      "text/plain": [
       "<matplotlib.legend.Legend at 0x7f817cd491b0>"
      ]
     },
     "execution_count": 130,
     "metadata": {},
     "output_type": "execute_result"
    },
    {
     "data": {
      "image/png": "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",
      "text/plain": [
       "<Figure size 640x480 with 1 Axes>"
      ]
     },
     "metadata": {},
     "output_type": "display_data"
    }
   ],
   "source": [
    "fig,ax=plt.subplots()\n",
    "for i in TMI_map.keys():\n",
    "        ax.errorbar(p_m_list,y=(TMI_map[i].mean(axis=1))/np.log(2),yerr=(TMI_map[i].std(axis=1)/np.sqrt(seed_list.shape[0])),label=f'L={i}')\n",
    "    # ax.plot(p_m_list,np.log(-TMI_map[i].mean(axis=1)),label=f'L={i}')\n",
    "ax.legend()\n",
    "# ax.set_xlim(0.05,0.15)\n",
    "# ax.set_ylim(-4,0)"
   ]
  },
  {
   "cell_type": "code",
   "execution_count": 25,
   "metadata": {},
   "outputs": [],
   "source": [
    "res=[run((16,seed,0.05,1)) for seed in range(100)]"
   ]
  },
  {
   "cell_type": "code",
   "execution_count": 26,
   "metadata": {},
   "outputs": [
    {
     "data": {
      "text/plain": [
       "0.3836154268272466"
      ]
     },
     "execution_count": 26,
     "metadata": {},
     "output_type": "execute_result"
    }
   ],
   "source": [
    "(np.array(res)[:,0]).mean()"
   ]
  },
  {
   "cell_type": "code",
   "execution_count": 27,
   "metadata": {},
   "outputs": [
    {
     "data": {
      "text/plain": [
       "(-1.7919392255298745, 0.07118405303324324)"
      ]
     },
     "execution_count": 27,
     "metadata": {},
     "output_type": "execute_result"
    }
   ],
   "source": [
    "np.array(res)[:,1].mean(),(np.array(res)[:,1]).std()/np.sqrt((np.array(res)[:,1]).shape[0])"
   ]
  },
  {
   "cell_type": "code",
   "execution_count": 29,
   "metadata": {},
   "outputs": [
    {
     "data": {
      "text/plain": [
       "-2.5852218342463598"
      ]
     },
     "execution_count": 29,
     "metadata": {},
     "output_type": "execute_result"
    }
   ],
   "source": [
    "(np.array(res)[:,1]).mean()/np.log(2)"
   ]
  },
  {
   "cell_type": "code",
   "execution_count": null,
   "metadata": {},
   "outputs": [
    {
     "data": {
      "text/plain": [
       "0.0"
      ]
     },
     "execution_count": 243,
     "metadata": {},
     "output_type": "execute_result"
    }
   ],
   "source": [
    "np.array(res)[:,3].mean(),(np.array(res)[:,3]).std()/np.sqrt((np.array(res)[:,3]).shape[0])"
   ]
  },
  {
   "cell_type": "code",
   "execution_count": null,
   "metadata": {},
   "outputs": [],
   "source": []
  },
  {
   "cell_type": "code",
   "execution_count": 242,
   "metadata": {},
   "outputs": [
    {
     "data": {
      "text/plain": [
       "array([0.  , 0.  , 0.25, 0.  , 0.  , 0.  , 0.  , 0.  , 0.  , 0.25, 0.25,\n",
       "       0.  , 0.75, 0.  , 0.  , 0.  , 0.  , 0.  , 0.  , 0.5 , 0.  , 0.25,\n",
       "       0.  , 0.  , 0.  , 0.25, 0.  , 0.  , 0.  , 0.  , 0.  , 0.  , 0.  ,\n",
       "       0.  , 0.  , 0.  , 0.  , 0.  , 0.  , 0.  , 0.  , 0.  , 0.  , 0.25,\n",
       "       0.  , 0.  , 0.  , 0.  , 0.25, 0.  , 0.  , 0.  , 0.  , 0.25, 0.  ,\n",
       "       0.  , 0.  , 0.  , 0.  , 0.  , 0.  , 0.  , 0.  , 0.  , 0.  , 0.25,\n",
       "       0.  , 0.  , 0.  , 0.  , 0.  , 0.  , 0.  , 0.  , 0.5 , 0.  , 0.5 ,\n",
       "       0.  , 0.  , 0.  , 0.  , 0.25, 0.25, 0.  , 0.  , 0.  , 0.  , 0.25,\n",
       "       0.  , 0.  , 0.  , 0.  , 0.  , 0.5 , 0.  , 0.  , 0.  , 0.  , 0.  ,\n",
       "       0.  ])"
      ]
     },
     "execution_count": 242,
     "metadata": {},
     "output_type": "execute_result"
    }
   ],
   "source": [
    "OP_map[-1,:]"
   ]
  },
  {
   "cell_type": "code",
   "execution_count": null,
   "metadata": {},
   "outputs": [],
   "source": []
  },
  {
   "cell_type": "code",
   "execution_count": 132,
   "metadata": {},
   "outputs": [],
   "source": [
    "def run_T(inputs):\n",
    "    L,seed, p_m,p_f,t  = inputs\n",
    "    apt=APT(L=L,x0=Fraction(2**L-1,2**L),seed=seed,seed_C=None,seed_vec=None,store_op=False)\n",
    "    OP_list=[]\n",
    "    for i in range(t):\n",
    "        apt.random_cicuit(p_m=p_m,p_f=p_f,even=True)\n",
    "        apt.random_cicuit(p_m=p_m,p_f=p_f,even=False)\n",
    "        OP_list.append(apt.order_parameter())\n",
    "        \n",
    "    return OP_list"
   ]
  },
  {
   "cell_type": "code",
   "execution_count": 90,
   "metadata": {},
   "outputs": [
    {
     "data": {
      "text/plain": [
       "{}"
      ]
     },
     "execution_count": 90,
     "metadata": {},
     "output_type": "execute_result"
    }
   ],
   "source": [
    "TMI_T_map"
   ]
  },
  {
   "cell_type": "code",
   "execution_count": 133,
   "metadata": {},
   "outputs": [
    {
     "name": "stderr",
     "output_type": "stream",
     "text": [
      "200it [00:55,  3.64it/s]\n",
      "200it [03:08,  1.06it/s]\n",
      "200it [12:17,  3.69s/it]\n"
     ]
    }
   ],
   "source": [
    "OP_T_map={}\n",
    "seed_list=np.arange(200)\n",
    "L_list=np.arange(8,20,4)\n",
    "# L_list=np.arange(16,20,4)\n",
    "for L in (L_list):\n",
    "    t=15*L\n",
    "    OP_T_map[L]=np.zeros((seed_list.shape[0],t),dtype=float)\n",
    "    for seed_idx,seed in tqdm(enumerate(seed_list)):\n",
    "        OP_T_map[L][seed_idx]=run_T((L,seed,0.09085,1,t))"
   ]
  },
  {
   "cell_type": "code",
   "execution_count": null,
   "metadata": {},
   "outputs": [],
   "source": []
  },
  {
   "cell_type": "code",
   "execution_count": 136,
   "metadata": {},
   "outputs": [
    {
     "data": {
      "text/plain": [
       "Text(0.5, 0, '$t/L^z$')"
      ]
     },
     "execution_count": 136,
     "metadata": {},
     "output_type": "execute_result"
    },
    {
     "data": {
      "image/png": "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",
      "text/plain": [
       "<Figure size 640x480 with 1 Axes>"
      ]
     },
     "metadata": {},
     "output_type": "display_data"
    }
   ],
   "source": [
    "z=1.6\n",
    "delta=0.16\n",
    "fig,ax=plt.subplots()\n",
    "for L in OP_T_map.keys():\n",
    "    t_list=np.arange(1,OP_T_map[L].shape[1]+1)\n",
    "    ax.plot(t_list/L**z,t_list**delta*OP_T_map[L].mean(axis=0),label=f'L={L}')\n",
    "ax.legend()\n",
    "ax.set_xlim(0,5)\n",
    "ax.set_ylim(0,.5)\n",
    "ax.set_ylabel(r'$nt^\\delta$')\n",
    "ax.set_xlabel(r'$t/L^z$')   "
   ]
  },
  {
   "cell_type": "code",
   "execution_count": 105,
   "metadata": {},
   "outputs": [
    {
     "data": {
      "text/plain": [
       "<matplotlib.legend.Legend at 0x7f81721d0130>"
      ]
     },
     "execution_count": 105,
     "metadata": {},
     "output_type": "execute_result"
    },
    {
     "data": {
      "image/png": "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",
      "text/plain": [
       "<Figure size 640x480 with 1 Axes>"
      ]
     },
     "metadata": {},
     "output_type": "display_data"
    }
   ],
   "source": [
    "z=1\n",
    "delta=1\n",
    "fig,ax=plt.subplots()\n",
    "for L in S_T_map.keys():\n",
    "    t_list=np.arange(1,S_T_map[L].shape[1]+1)\n",
    "    ax.plot(t_list/L**z,t_list**delta*S_T_map[L].mean(axis=0),label=f'L={L}')\n",
    "ax.legend()\n",
    "# ax.set_xlim(0,5)\n",
    "# ax.set_ylim(0,.5)"
   ]
  },
  {
   "cell_type": "markdown",
   "metadata": {},
   "source": [
    "# Profiler"
   ]
  },
  {
   "cell_type": "code",
   "execution_count": 137,
   "metadata": {},
   "outputs": [],
   "source": [
    "%load_ext line_profiler\n"
   ]
  },
  {
   "cell_type": "code",
   "execution_count": 186,
   "metadata": {},
   "outputs": [],
   "source": [
    "from opt_einsum import contract, contract_expression\n"
   ]
  },
  {
   "cell_type": "code",
   "execution_count": null,
   "metadata": {},
   "outputs": [],
   "source": [
    "0,0\n",
    "1,0\n",
    "1,1"
   ]
  },
  {
   "cell_type": "code",
   "execution_count": 203,
   "metadata": {},
   "outputs": [
    {
     "data": {
      "text/plain": [
       "0.5000378587791519"
      ]
     },
     "execution_count": 203,
     "metadata": {},
     "output_type": "execute_result"
    }
   ],
   "source": [
    "run((20,0,0,0))"
   ]
  },
  {
   "cell_type": "code",
   "execution_count": 182,
   "metadata": {},
   "outputs": [
    {
     "data": {
      "text/plain": [
       "0.5000378587791521"
      ]
     },
     "execution_count": 182,
     "metadata": {},
     "output_type": "execute_result"
    }
   ],
   "source": [
    "run((20,0,0,0))"
   ]
  },
  {
   "cell_type": "code",
   "execution_count": 173,
   "metadata": {},
   "outputs": [
    {
     "name": "stdout",
     "output_type": "stream",
     "text": [
      "Timer unit: 1e-09 s\n",
      "\n",
      "Total time: 5.21511 s\n",
      "File: /home/hnpan/control_transition/rqc/APT.py\n",
      "Function: unitary at line 56\n",
      "\n",
      "Line #      Hits         Time  Per Hit   % Time  Line Contents\n",
      "==============================================================\n",
      "    56                                               def unitary(self,i):\n",
      "    57                                                   \"\"\" applies to (i,i+1)\"\"\"\n",
      "    58       800  100964941.0 126206.2      1.9          self.generate_U3(self.rng_C)\n",
      "    59       800     904148.0   1130.2      0.0          l,r=i,(i+1)%self.L\n",
      "    60       800    1548229.0   1935.3      0.0          new_sites=np.arange(self.L)\n",
      "    61       800    3380587.0   4225.7      0.1          new_sites[[l,r]]=self.L,self.L+1\n",
      "    62       800 5108315927.0 6385394.9     98.0          self.vec=contract(self.vec, self.sites, self.U3, [self.L,self.L+1,l,r], new_sites)"
     ]
    }
   ],
   "source": [
    "%lprun -f APT.unitary run((20,0,0,0))"
   ]
  },
  {
   "cell_type": "code",
   "execution_count": null,
   "metadata": {},
   "outputs": [],
   "source": []
  },
  {
   "cell_type": "code",
   "execution_count": 74,
   "metadata": {},
   "outputs": [],
   "source": [
    "apt1=APT(L=4,x0=Fraction(2**4-1,2**4),seed=0,seed_C=2,seed_vec=2,store_op=True)\n",
    "# for i in range(apt1.L):\n",
    "#     apt1.random_cicuit(0.1,1,even=True)\n",
    "#     apt1.random_cicuit(0.1,1,even=False)"
   ]
  },
  {
   "cell_type": "code",
   "execution_count": 76,
   "metadata": {},
   "outputs": [
    {
     "data": {
      "text/plain": [
       "array([[[[0.+0.j, 0.+0.j],\n",
       "         [0.+0.j, 0.+0.j]],\n",
       "\n",
       "        [[0.+0.j, 0.+0.j],\n",
       "         [0.+0.j, 0.+0.j]]],\n",
       "\n",
       "\n",
       "       [[[0.+0.j, 0.+0.j],\n",
       "         [0.+0.j, 0.+0.j]],\n",
       "\n",
       "        [[0.+0.j, 0.+0.j],\n",
       "         [0.+0.j, 1.+0.j]]]])"
      ]
     },
     "execution_count": 76,
     "metadata": {},
     "output_type": "execute_result"
    }
   ],
   "source": [
    "apt1.vec"
   ]
  },
  {
   "cell_type": "code",
   "execution_count": 217,
   "metadata": {},
   "outputs": [
    {
     "data": {
      "text/plain": [
       "(0.354078576391018+0j)"
      ]
     },
     "execution_count": 217,
     "metadata": {},
     "output_type": "execute_result"
    }
   ],
   "source": [
    "apt1.order_parameter()"
   ]
  },
  {
   "cell_type": "code",
   "execution_count": 214,
   "metadata": {},
   "outputs": [
    {
     "data": {
      "text/plain": [
       "[[0,\n",
       "  array([[[[ 1.        +0.j        ,  0.        +0.j        ],\n",
       "           [ 0.        +0.j        ,  0.        +0.j        ]],\n",
       "  \n",
       "          [[ 0.        +0.j        ,  0.19648596+0.16723249j],\n",
       "           [ 0.79509854+0.08047076j, -0.05882505+0.53973043j]]],\n",
       "  \n",
       "  \n",
       "         [[[ 0.        +0.j        , -0.74092538-0.41871964j],\n",
       "           [ 0.32465862-0.24462438j, -0.3231795 -0.07755089j]],\n",
       "  \n",
       "          [[ 0.        +0.j        , -0.30529108+0.34048106j],\n",
       "           [ 0.37175065+0.240624j  ,  0.57375669-0.51533951j]]]])],\n",
       " [2,\n",
       "  array([[[[ 1.        +0.j        ,  0.        +0.j        ],\n",
       "           [ 0.        +0.j        ,  0.        +0.j        ]],\n",
       "  \n",
       "          [[ 0.        +0.j        , -0.19034658-0.10277738j],\n",
       "           [-0.02590874+0.11395722j,  0.94689631-0.20720728j]]],\n",
       "  \n",
       "  \n",
       "         [[[ 0.        +0.j        , -0.06709234+0.51556337j],\n",
       "           [ 0.51808344-0.64875246j,  0.16104532+0.12027983j]],\n",
       "  \n",
       "          [[ 0.        +0.j        , -0.66000117+0.49728914j],\n",
       "           [-0.54395131+0.03419442j, -0.07087193+0.12258408j]]]])],\n",
       " [2, 1, 'X'],\n",
       " [1,\n",
       "  array([[[[ 1.        +0.j        ,  0.        +0.j        ],\n",
       "           [ 0.        +0.j        ,  0.        +0.j        ]],\n",
       "  \n",
       "          [[ 0.        +0.j        , -0.49263744+0.23134619j],\n",
       "           [-0.36659977-0.56882687j, -0.37329834-0.32630697j]]],\n",
       "  \n",
       "  \n",
       "         [[[ 0.        +0.j        , -0.07085711-0.36156102j],\n",
       "           [ 0.03713183+0.54528996j, -0.58657434-0.47059912j]],\n",
       "  \n",
       "          [[ 0.        +0.j        , -0.36505927+0.65937237j],\n",
       "           [ 0.29756112+0.39341844j,  0.28510113-0.32765296j]]]])],\n",
       " [3,\n",
       "  array([[[[ 1.        +0.j        ,  0.        +0.j        ],\n",
       "           [ 0.        +0.j        ,  0.        +0.j        ]],\n",
       "  \n",
       "          [[ 0.        +0.j        , -0.15404379-0.80912993j],\n",
       "           [ 0.08184746+0.40916009j, -0.20565166+0.324308j  ]]],\n",
       "  \n",
       "  \n",
       "         [[[ 0.        +0.j        , -0.48200139-0.14600905j],\n",
       "           [-0.542364  -0.46142731j, -0.46014281-0.16598415j]],\n",
       "  \n",
       "          [[ 0.        +0.j        , -0.22905384+0.12437696j],\n",
       "           [ 0.21789244+0.52090116j, -0.32106344-0.71426034j]]]])],\n",
       " [0,\n",
       "  array([[[[ 1.00000000e+00+0.j        ,  0.00000000e+00+0.j        ],\n",
       "           [ 0.00000000e+00+0.j        ,  0.00000000e+00+0.j        ]],\n",
       "  \n",
       "          [[ 0.00000000e+00+0.j        ,  1.49720831e-01+0.67752817j],\n",
       "           [-5.16114257e-01-0.32817439j, -1.21300420e-01-0.36021258j]]],\n",
       "  \n",
       "  \n",
       "         [[[ 0.00000000e+00+0.j        ,  6.83363541e-01-0.20014655j],\n",
       "           [ 2.82258798e-01-0.59024205j,  2.50992618e-01-0.04361909j]],\n",
       "  \n",
       "          [[ 0.00000000e+00+0.j        , -8.10950698e-04-0.1072111j ],\n",
       "           [ 4.32725171e-01+0.10305756j, -4.59820970e-01-0.7610505j ]]]])],\n",
       " [2,\n",
       "  array([[[[ 1.        +0.j        ,  0.        +0.j        ],\n",
       "           [ 0.        +0.j        ,  0.        +0.j        ]],\n",
       "  \n",
       "          [[ 0.        +0.j        ,  0.18130884+0.95520141j],\n",
       "           [-0.01039204+0.21622616j,  0.08557885-0.0230627j ]]],\n",
       "  \n",
       "  \n",
       "         [[[ 0.        +0.j        , -0.06841954+0.07858778j],\n",
       "           [ 0.6420322 -0.10800728j, -0.18496876+0.72873752j]],\n",
       "  \n",
       "          [[ 0.        +0.j        ,  0.20861081+0.01848326j],\n",
       "           [-0.72153904-0.09299863j, -0.35270165+0.54997646j]]]])],\n",
       " [1,\n",
       "  array([[[[ 1.        +0.j        ,  0.        +0.j        ],\n",
       "           [ 0.        +0.j        ,  0.        +0.j        ]],\n",
       "  \n",
       "          [[ 0.        +0.j        , -0.49561267-0.11315866j],\n",
       "           [-0.78328315+0.04567672j,  0.00662713-0.35482449j]]],\n",
       "  \n",
       "  \n",
       "         [[[ 0.        +0.j        ,  0.8282167 +0.09032827j],\n",
       "           [-0.45094359+0.18143467j,  0.20755303-0.16294471j]],\n",
       "  \n",
       "          [[ 0.        +0.j        ,  0.19144956-0.10396235j],\n",
       "           [-0.27930138-0.26477011j, -0.83292273+0.33266522j]]]])],\n",
       " [3,\n",
       "  array([[[[ 1.        +0.j        ,  0.        +0.j        ],\n",
       "           [ 0.        +0.j        ,  0.        +0.j        ]],\n",
       "  \n",
       "          [[ 0.        +0.j        , -0.78998293+0.19851446j],\n",
       "           [-0.18069192-0.34881278j,  0.3873681 +0.1792903j ]]],\n",
       "  \n",
       "  \n",
       "         [[[ 0.        +0.j        , -0.03738401-0.41502584j],\n",
       "           [-0.11902898-0.31754255j,  0.17669623-0.82470192j]],\n",
       "  \n",
       "          [[ 0.        +0.j        , -0.29582689-0.27452035j],\n",
       "           [-0.08070223+0.85097947j,  0.31126977-0.0977612j ]]]])],\n",
       " [0,\n",
       "  array([[[[ 1.        +0.j        ,  0.        +0.j        ],\n",
       "           [ 0.        +0.j        ,  0.        +0.j        ]],\n",
       "  \n",
       "          [[ 0.        +0.j        , -0.24207127-0.0741552j ],\n",
       "           [-0.33573589-0.3844644j , -0.79768714-0.1976519j ]]],\n",
       "  \n",
       "  \n",
       "         [[[ 0.        +0.j        ,  0.71615079+0.1779412j ],\n",
       "           [-0.40605414-0.50838873j,  0.16433178+0.07156104j]],\n",
       "  \n",
       "          [[ 0.        +0.j        ,  0.21394712-0.58787253j],\n",
       "           [ 0.48436362-0.28551945j, -0.200941  +0.50212126j]]]])],\n",
       " [2,\n",
       "  array([[[[ 1.        +0.j        ,  0.        +0.j        ],\n",
       "           [ 0.        +0.j        ,  0.        +0.j        ]],\n",
       "  \n",
       "          [[ 0.        +0.j        ,  0.47092301-0.55579156j],\n",
       "           [ 0.24203522+0.10611359j,  0.53156887-0.34193662j]]],\n",
       "  \n",
       "  \n",
       "         [[[ 0.        +0.j        , -0.33325387+0.43837216j],\n",
       "           [ 0.7380781 +0.23400289j,  0.26267563-0.16809692j]],\n",
       "  \n",
       "          [[ 0.        +0.j        , -0.40727965+0.01490801j],\n",
       "           [-0.23620092-0.52426266j,  0.6912335 +0.15954644j]]]])],\n",
       " [1,\n",
       "  array([[[[ 1.        +0.j        ,  0.        +0.j        ],\n",
       "           [ 0.        +0.j        ,  0.        +0.j        ]],\n",
       "  \n",
       "          [[ 0.        +0.j        ,  0.6816923 +0.16923002j],\n",
       "           [-0.33706734-0.10787848j,  0.61433151-0.0632569j ]]],\n",
       "  \n",
       "  \n",
       "         [[[ 0.        +0.j        , -0.22721209-0.19020544j],\n",
       "           [-0.39322395-0.83486855j, -0.08173764-0.2321313j ]],\n",
       "  \n",
       "          [[ 0.        +0.j        ,  0.6300854 -0.1478031j ],\n",
       "           [-0.03488766-0.14798688j, -0.66945892+0.3314425j ]]]])],\n",
       " [3,\n",
       "  array([[[[ 1.        +0.j        ,  0.        +0.j        ],\n",
       "           [ 0.        +0.j        ,  0.        +0.j        ]],\n",
       "  \n",
       "          [[ 0.        +0.j        ,  0.03979706-0.80206206j],\n",
       "           [-0.38366124+0.07648297j, -0.1900407 -0.40737156j]]],\n",
       "  \n",
       "  \n",
       "         [[[ 0.        +0.j        , -0.22688762+0.28261158j],\n",
       "           [ 0.12087295-0.56793641j, -0.38258656-0.62057892j]],\n",
       "  \n",
       "          [[ 0.        +0.j        , -0.36962006+0.29520563j],\n",
       "           [-0.7139942 +0.00215471j,  0.48682402-0.17159446j]]]])],\n",
       " [1, 0],\n",
       " [0,\n",
       "  array([[[[ 1.        +0.j        ,  0.        +0.j        ],\n",
       "           [ 0.        +0.j        ,  0.        +0.j        ]],\n",
       "  \n",
       "          [[ 0.        +0.j        ,  0.20259056-0.0597305j ],\n",
       "           [-0.82526385+0.01658433j,  0.52344722-0.00754208j]]],\n",
       "  \n",
       "  \n",
       "         [[[ 0.        +0.j        , -0.60255914+0.67862756j],\n",
       "           [-0.32859037+0.03127845j, -0.21058663-0.15195532j]],\n",
       "  \n",
       "          [[ 0.        +0.j        , -0.35474557+0.07701971j],\n",
       "           [ 0.22987103+0.39607308j,  0.50510214+0.63512266j]]]])],\n",
       " [2,\n",
       "  array([[[[ 1.        +0.j        ,  0.        +0.j        ],\n",
       "           [ 0.        +0.j        ,  0.        +0.j        ]],\n",
       "  \n",
       "          [[ 0.        +0.j        , -0.28410932-0.30132696j],\n",
       "           [ 0.02577027-0.89776648j, -0.01948817+0.14647665j]]],\n",
       "  \n",
       "  \n",
       "         [[[ 0.        +0.j        , -0.33956103-0.80950806j],\n",
       "           [-0.19136335+0.37130001j, -0.22994806-0.04511392j]],\n",
       "  \n",
       "          [[ 0.        +0.j        ,  0.00922116-0.24040369j],\n",
       "           [ 0.07103041+0.11756824j,  0.89466999+0.35045546j]]]])],\n",
       " [1, 0],\n",
       " [1,\n",
       "  array([[[[ 1.        +0.j        ,  0.        +0.j        ],\n",
       "           [ 0.        +0.j        ,  0.        +0.j        ]],\n",
       "  \n",
       "          [[ 0.        +0.j        ,  0.25607149+0.07592042j],\n",
       "           [-0.51320698+0.39843937j, -0.27532082-0.65629764j]]],\n",
       "  \n",
       "  \n",
       "         [[[ 0.        +0.j        ,  0.10501293+0.13852596j],\n",
       "           [-0.34534667-0.62129067j, -0.64492917+0.22041502j]],\n",
       "  \n",
       "          [[ 0.        +0.j        , -0.11887459+0.94038032j],\n",
       "           [ 0.09978469+0.25028236j, -0.0571308 +0.16028569j]]]])],\n",
       " [3,\n",
       "  array([[[[ 1.00000000e+00+0.j        ,  0.00000000e+00+0.j        ],\n",
       "           [ 0.00000000e+00+0.j        ,  0.00000000e+00+0.j        ]],\n",
       "  \n",
       "          [[ 0.00000000e+00+0.j        , -9.51522938e-02-0.1813115j ],\n",
       "           [-2.86241599e-01+0.87951986j, -2.14507911e-01+0.2378426j ]]],\n",
       "  \n",
       "  \n",
       "         [[[ 0.00000000e+00+0.j        ,  8.33104216e-02-0.4873026j ],\n",
       "           [-1.41642952e-01-0.22990061j,  4.14082586e-01+0.71499241j]],\n",
       "  \n",
       "          [[ 0.00000000e+00+0.j        ,  1.21561015e-04-0.84478856j],\n",
       "           [ 2.64880386e-01-0.03784082j, -2.36482102e-01-0.39851592j]]]])],\n",
       " [0, 0],\n",
       " [2, 1, 'X'],\n",
       " [3, 0]]"
      ]
     },
     "execution_count": 214,
     "metadata": {},
     "output_type": "execute_result"
    }
   ],
   "source": [
    "apt.op_history"
   ]
  },
  {
   "cell_type": "code",
   "execution_count": 215,
   "metadata": {},
   "outputs": [
    {
     "data": {
      "text/plain": [
       "[[0,\n",
       "  array([[[[ 1.        +0.j        ,  0.        +0.j        ],\n",
       "           [ 0.        +0.j        ,  0.        +0.j        ]],\n",
       "  \n",
       "          [[ 0.        +0.j        ,  0.0739988 -0.21677594j],\n",
       "           [-0.51971706+0.43515569j, -0.56690521-0.40827021j]]],\n",
       "  \n",
       "  \n",
       "         [[[ 0.        +0.j        , -0.95563302-0.12870743j],\n",
       "           [-0.19718674-0.1634919j ,  0.02506838-0.06292288j]],\n",
       "  \n",
       "          [[ 0.        +0.j        , -0.12737619-0.03882785j],\n",
       "           [ 0.44053973+0.52994928j,  0.41700573-0.5774534j ]]]])],\n",
       " [2,\n",
       "  array([[[[ 1.        +0.j        ,  0.        +0.j        ],\n",
       "           [ 0.        +0.j        ,  0.        +0.j        ]],\n",
       "  \n",
       "          [[ 0.        +0.j        ,  0.05679002-0.73364945j],\n",
       "           [-0.04023658-0.63883338j,  0.06353141+0.21158939j]]],\n",
       "  \n",
       "  \n",
       "         [[[ 0.        +0.j        ,  0.08419694+0.37678213j],\n",
       "           [-0.14719889-0.10323472j,  0.23094014+0.87480731j]],\n",
       "  \n",
       "          [[ 0.        +0.j        , -0.45258939+0.32348466j],\n",
       "           [ 0.58716681-0.46171761j,  0.33604484-0.14016552j]]]])],\n",
       " [1,\n",
       "  array([[[[ 1.        +0.j        ,  0.        +0.j        ],\n",
       "           [ 0.        +0.j        ,  0.        +0.j        ]],\n",
       "  \n",
       "          [[ 0.        +0.j        ,  0.12848382+0.59684551j],\n",
       "           [-0.04033964-0.03730928j, -0.02074953-0.78982121j]]],\n",
       "  \n",
       "  \n",
       "         [[[ 0.        +0.j        , -0.57068603+0.08122532j],\n",
       "           [ 0.51343943-0.40411089j, -0.49003355-0.02571703j]],\n",
       "  \n",
       "          [[ 0.        +0.j        , -0.12428809+0.52871517j],\n",
       "           [ 0.22430987+0.72093006j, -0.14483488+0.33761003j]]]])],\n",
       " [3,\n",
       "  array([[[[ 1.        +0.j        ,  0.        +0.j        ],\n",
       "           [ 0.        +0.j        ,  0.        +0.j        ]],\n",
       "  \n",
       "          [[ 0.        +0.j        , -0.09360503-0.8125445j ],\n",
       "           [-0.36857644+0.17630416j,  0.34145731-0.21790982j]]],\n",
       "  \n",
       "  \n",
       "         [[[ 0.        +0.j        , -0.06567791+0.50415012j],\n",
       "           [-0.38949167+0.41239745j,  0.63386219+0.13402377j]],\n",
       "  \n",
       "          [[ 0.        +0.j        ,  0.21695759+0.15955567j],\n",
       "           [-0.69587929+0.16445315j, -0.57876369-0.28497572j]]]])],\n",
       " [3, 1, 'X'],\n",
       " [0,\n",
       "  array([[[[ 1.        +0.j        ,  0.        +0.j        ],\n",
       "           [ 0.        +0.j        ,  0.        +0.j        ]],\n",
       "  \n",
       "          [[ 0.        +0.j        , -0.34411613+0.71273176j],\n",
       "           [ 0.36387265-0.27374034j,  0.1089577 -0.39292323j]]],\n",
       "  \n",
       "  \n",
       "         [[[ 0.        +0.j        , -0.37873559-0.41729148j],\n",
       "           [-0.11447738-0.26815386j, -0.58395543-0.50637108j]],\n",
       "  \n",
       "          [[ 0.        +0.j        ,  0.09481801-0.2168738j ],\n",
       "           [ 0.7104218 -0.4505022j , -0.2163943 +0.43531304j]]]])],\n",
       " [2,\n",
       "  array([[[[ 1.        +0.j        ,  0.        +0.j        ],\n",
       "           [ 0.        +0.j        ,  0.        +0.j        ]],\n",
       "  \n",
       "          [[ 0.        +0.j        , -0.23608888+0.53810726j],\n",
       "           [-0.51822172-0.4264661j ,  0.26679225-0.3648252j ]]],\n",
       "  \n",
       "  \n",
       "         [[[ 0.        +0.j        ,  0.11533562-0.2746104j ],\n",
       "           [ 0.32410442+0.12066908j,  0.37500908-0.80687688j]],\n",
       "  \n",
       "          [[ 0.        +0.j        ,  0.70650041+0.2585471j ],\n",
       "           [ 0.34883019-0.55523483j, -0.02860273+0.05678238j]]]])],\n",
       " [1, 0],\n",
       " [1,\n",
       "  array([[[[ 1.        +0.j        ,  0.        +0.j        ],\n",
       "           [ 0.        +0.j        ,  0.        +0.j        ]],\n",
       "  \n",
       "          [[ 0.        +0.j        , -0.09345576+0.39391161j],\n",
       "           [ 0.42244295+0.60184068j,  0.30908486+0.44709727j]]],\n",
       "  \n",
       "  \n",
       "         [[[ 0.        +0.j        , -0.38068782+0.31411164j],\n",
       "           [-0.22160701-0.62108495j,  0.309631  +0.47506118j]],\n",
       "  \n",
       "          [[ 0.        +0.j        , -0.76924557-0.02777729j],\n",
       "           [ 0.108866  +0.11234664j,  0.25255252-0.56500737j]]]])],\n",
       " [3,\n",
       "  array([[[[ 1.        +0.j        ,  0.        +0.j        ],\n",
       "           [ 0.        +0.j        ,  0.        +0.j        ]],\n",
       "  \n",
       "          [[ 0.        +0.j        , -0.42235906+0.57166135j],\n",
       "           [-0.312268  -0.21038532j, -0.56417089+0.18642436j]]],\n",
       "  \n",
       "  \n",
       "         [[[ 0.        +0.j        ,  0.18405893-0.46265233j],\n",
       "           [-0.54513497-0.60956846j,  0.01766654+0.28812702j]],\n",
       "  \n",
       "          [[ 0.        +0.j        , -0.468618  -0.16519209j],\n",
       "           [ 0.43182525-0.05484356j,  0.20365248+0.72260193j]]]])],\n",
       " [0,\n",
       "  array([[[[ 1.        +0.j        ,  0.        +0.j        ],\n",
       "           [ 0.        +0.j        ,  0.        +0.j        ]],\n",
       "  \n",
       "          [[ 0.        +0.j        , -0.14833489+0.23522293j],\n",
       "           [-0.8342443 +0.05495203j, -0.47243137+0.0221867j ]]],\n",
       "  \n",
       "  \n",
       "         [[[ 0.        +0.j        , -0.1815866 +0.79057285j],\n",
       "           [-0.07553504-0.07183834j,  0.57336194-0.04909852j]],\n",
       "  \n",
       "          [[ 0.        +0.j        ,  0.5061113 +0.09240758j],\n",
       "           [-0.08790069-0.53143569j,  0.01183312+0.6670995j ]]]])],\n",
       " [2,\n",
       "  array([[[[ 1.        +0.j        ,  0.        +0.j        ],\n",
       "           [ 0.        +0.j        ,  0.        +0.j        ]],\n",
       "  \n",
       "          [[ 0.        +0.j        ,  0.26593825-0.66969279j],\n",
       "           [-0.53939872+0.12752907j, -0.14538429+0.39043206j]]],\n",
       "  \n",
       "  \n",
       "         [[[ 0.        +0.j        ,  0.0335635 -0.05896985j],\n",
       "           [-0.15554579-0.56446782j,  0.79531203+0.14162063j]],\n",
       "  \n",
       "          [[ 0.        +0.j        ,  0.24417157+0.64541825j],\n",
       "           [-0.37879798+0.45439964j,  0.22326945+0.3521354j ]]]])],\n",
       " [1,\n",
       "  array([[[[ 1.        +0.j        ,  0.        +0.j        ],\n",
       "           [ 0.        +0.j        ,  0.        +0.j        ]],\n",
       "  \n",
       "          [[ 0.        +0.j        ,  0.57558839+0.04151511j],\n",
       "           [-0.34266238+0.10136992j,  0.72159299+0.13632568j]]],\n",
       "  \n",
       "  \n",
       "         [[[ 0.        +0.j        ,  0.18572318+0.233382j  ],\n",
       "           [-0.7486535 +0.17166435j, -0.48622545-0.29098771j]],\n",
       "  \n",
       "          [[ 0.        +0.j        , -0.19550958+0.73470419j],\n",
       "           [ 0.25608945+0.46559008j,  0.22609075-0.29751101j]]]])],\n",
       " [3,\n",
       "  array([[[[ 1.        +0.j        ,  0.        +0.j        ],\n",
       "           [ 0.        +0.j        ,  0.        +0.j        ]],\n",
       "  \n",
       "          [[ 0.        +0.j        ,  0.60285729-0.1541052j ],\n",
       "           [ 0.13065466-0.05219546j,  0.10301909+0.76315577j]]],\n",
       "  \n",
       "  \n",
       "         [[[ 0.        +0.j        , -0.49883001+0.55740442j],\n",
       "           [ 0.24035831+0.13927847j,  0.43605069+0.41612272j]],\n",
       "  \n",
       "          [[ 0.        +0.j        , -0.15602075+0.17012092j],\n",
       "           [-0.55531673-0.77114053j, -0.03941285+0.20525263j]]]])],\n",
       " [0,\n",
       "  array([[[[ 1.        +0.j        ,  0.        +0.j        ],\n",
       "           [ 0.        +0.j        ,  0.        +0.j        ]],\n",
       "  \n",
       "          [[ 0.        +0.j        ,  0.05581233+0.4007022j ],\n",
       "           [ 0.01044037-0.53318579j,  0.74241454-0.02733661j]]],\n",
       "  \n",
       "  \n",
       "         [[[ 0.        +0.j        , -0.5287985 -0.47870694j],\n",
       "           [-0.41353208-0.555136j  , -0.09258144+0.05878541j]],\n",
       "  \n",
       "          [[ 0.        +0.j        , -0.20949633+0.5325841j ],\n",
       "           [ 0.27381356-0.40180254j, -0.57600724-0.32289622j]]]])],\n",
       " [2,\n",
       "  array([[[[ 1.        +0.j        ,  0.        +0.j        ],\n",
       "           [ 0.        +0.j        ,  0.        +0.j        ]],\n",
       "  \n",
       "          [[ 0.        +0.j        , -0.03352521-0.56629129j],\n",
       "           [-0.09537678-0.19342926j,  0.4681302 +0.64228712j]]],\n",
       "  \n",
       "  \n",
       "         [[[ 0.        +0.j        , -0.75860174+0.04043389j],\n",
       "           [ 0.37605459-0.33359643j, -0.35498775+0.21016321j]],\n",
       "  \n",
       "          [[ 0.        +0.j        , -0.28125702-0.14823368j],\n",
       "           [-0.7967667 +0.25680262j, -0.4272087 +0.12501691j]]]])],\n",
       " [1,\n",
       "  array([[[[ 1.        +0.j        ,  0.        +0.j        ],\n",
       "           [ 0.        +0.j        ,  0.        +0.j        ]],\n",
       "  \n",
       "          [[ 0.        +0.j        ,  0.2322756 +0.74745964j],\n",
       "           [-0.32490345-0.27368559j, -0.05467938+0.45154872j]]],\n",
       "  \n",
       "  \n",
       "         [[[ 0.        +0.j        , -0.13485901+0.02244123j],\n",
       "           [-0.78045572+0.24478312j, -0.36293229-0.42492315j]],\n",
       "  \n",
       "          [[ 0.        +0.j        , -0.269921  -0.54387887j],\n",
       "           [-0.36557767-0.12983454j, -0.04491357+0.69196615j]]]])],\n",
       " [3,\n",
       "  array([[[[ 1.        +0.j        ,  0.        +0.j        ],\n",
       "           [ 0.        +0.j        ,  0.        +0.j        ]],\n",
       "  \n",
       "          [[ 0.        +0.j        ,  0.58381337+0.5411751j ],\n",
       "           [ 0.01846316+0.06251277j, -0.44903075-0.4005173j ]]],\n",
       "  \n",
       "  \n",
       "         [[[ 0.        +0.j        , -0.30937678+0.15008391j],\n",
       "           [ 0.85743705+0.1266879j , -0.31926432+0.16906506j]],\n",
       "  \n",
       "          [[ 0.        +0.j        , -0.19579606-0.4579478j ],\n",
       "           [ 0.1018406 -0.4838715j , -0.28885922-0.65115661j]]]])],\n",
       " [0, 0]]"
      ]
     },
     "execution_count": 215,
     "metadata": {},
     "output_type": "execute_result"
    }
   ],
   "source": [
    "apt1.op_history"
   ]
  },
  {
   "cell_type": "code",
   "execution_count": 213,
   "metadata": {},
   "outputs": [
    {
     "name": "stdout",
     "output_type": "stream",
     "text": [
      "Different unitary at 0\n",
      "Different unitary at 1\n",
      "Different measurment at 2 [2, 1, 'X'] <> [1, array([[[[ 1.        +0.j        ,  0.        +0.j        ],\n",
      "         [ 0.        +0.j        ,  0.        +0.j        ]],\n",
      "\n",
      "        [[ 0.        +0.j        ,  0.12848382+0.59684551j],\n",
      "         [-0.04033964-0.03730928j, -0.02074953-0.78982121j]]],\n",
      "\n",
      "\n",
      "       [[[ 0.        +0.j        , -0.57068603+0.08122532j],\n",
      "         [ 0.51343943-0.40411089j, -0.49003355-0.02571703j]],\n",
      "\n",
      "        [[ 0.        +0.j        , -0.12428809+0.52871517j],\n",
      "         [ 0.22430987+0.72093006j, -0.14483488+0.33761003j]]]])]\n",
      "Different index for unitary at 3\n",
      "Different unitary at 3\n",
      "Different operation at 4\n",
      "Different measurment at 4 [3, array([[[[ 1.        +0.j        ,  0.        +0.j        ],\n",
      "         [ 0.        +0.j        ,  0.        +0.j        ]],\n",
      "\n",
      "        [[ 0.        +0.j        , -0.15404379-0.80912993j],\n",
      "         [ 0.08184746+0.40916009j, -0.20565166+0.324308j  ]]],\n",
      "\n",
      "\n",
      "       [[[ 0.        +0.j        , -0.48200139-0.14600905j],\n",
      "         [-0.542364  -0.46142731j, -0.46014281-0.16598415j]],\n",
      "\n",
      "        [[ 0.        +0.j        , -0.22905384+0.12437696j],\n",
      "         [ 0.21789244+0.52090116j, -0.32106344-0.71426034j]]]])] <> [3, 1, 'X']\n",
      "Different unitary at 5\n",
      "Different unitary at 6\n",
      "Different operation at 7\n"
     ]
    },
    {
     "ename": "ValueError",
     "evalue": "The truth value of an array with more than one element is ambiguous. Use a.any() or a.all()",
     "output_type": "error",
     "traceback": [
      "\u001b[0;31m---------------------------------------------------------------------------\u001b[0m",
      "\u001b[0;31mValueError\u001b[0m                                Traceback (most recent call last)",
      "Cell \u001b[0;32mIn[213], line 10\u001b[0m\n\u001b[1;32m      8\u001b[0m \u001b[38;5;28;01mif\u001b[39;00m \u001b[38;5;28misinstance\u001b[39m(a[\u001b[38;5;241m1\u001b[39m],np\u001b[38;5;241m.\u001b[39mndarray) \u001b[38;5;129;01mor\u001b[39;00m \u001b[38;5;28misinstance\u001b[39m(a[\u001b[38;5;241m1\u001b[39m],np\u001b[38;5;241m.\u001b[39mndarray):\n\u001b[1;32m      9\u001b[0m     \u001b[38;5;28mprint\u001b[39m(\u001b[38;5;124mf\u001b[39m\u001b[38;5;124m'\u001b[39m\u001b[38;5;124mDifferent operation at \u001b[39m\u001b[38;5;132;01m{\u001b[39;00midx\u001b[38;5;132;01m}\u001b[39;00m\u001b[38;5;124m'\u001b[39m) \n\u001b[0;32m---> 10\u001b[0m \u001b[38;5;28;01mif\u001b[39;00m \u001b[38;5;129;01mnot\u001b[39;00m a \u001b[38;5;241m==\u001b[39m a1:\n\u001b[1;32m     11\u001b[0m     \u001b[38;5;28mprint\u001b[39m(\u001b[38;5;124mf\u001b[39m\u001b[38;5;124m'\u001b[39m\u001b[38;5;124mDifferent measurment at \u001b[39m\u001b[38;5;132;01m{\u001b[39;00midx\u001b[38;5;132;01m}\u001b[39;00m\u001b[38;5;124m'\u001b[39m,a,\u001b[38;5;124m'\u001b[39m\u001b[38;5;124m<>\u001b[39m\u001b[38;5;124m'\u001b[39m,a1)\n",
      "\u001b[0;31mValueError\u001b[0m: The truth value of an array with more than one element is ambiguous. Use a.any() or a.all()"
     ]
    }
   ],
   "source": [
    "for idx,(a,a1) in enumerate(zip(apt.op_history,apt1.op_history)):\n",
    "    if isinstance(a[1],np.ndarray) and isinstance(a1[1],np.ndarray):\n",
    "        if a[0] != a1[0]:\n",
    "            print(f'Different index for unitary at {idx}')\n",
    "        if not np.allclose(a[1],a1[1]):\n",
    "            print(f'Different unitary at {idx}')\n",
    "    else:\n",
    "        if isinstance(a[1],np.ndarray) or isinstance(a[1],np.ndarray):\n",
    "            print(f'Different operation at {idx}') \n",
    "        if not a == a1:\n",
    "            print(f'Different measurment at {idx}',a,'<>',a1)\n",
    "\n"
   ]
  },
  {
   "cell_type": "code",
   "execution_count": null,
   "metadata": {},
   "outputs": [
    {
     "data": {
      "text/plain": [
       "[2, 1]"
      ]
     },
     "execution_count": 170,
     "metadata": {},
     "output_type": "execute_result"
    }
   ],
   "source": [
    "a"
   ]
  },
  {
   "cell_type": "code",
   "execution_count": 138,
   "metadata": {},
   "outputs": [
    {
     "data": {
      "text/plain": [
       "array([[[[ 0.56422116-0.10790331j, -0.25409574+0.0316278j ],\n",
       "         [-0.07548876+0.07413723j, -0.17351858-0.03721281j]],\n",
       "\n",
       "        [[ 0.08231458-0.02294691j,  0.10815432+0.09404981j],\n",
       "         [ 0.05081723-0.05801394j,  0.12815807+0.01756341j]]],\n",
       "\n",
       "\n",
       "       [[[-0.16872102-0.01444957j, -0.37079933+0.10908974j],\n",
       "         [-0.15463151+0.11540343j, -0.22831561+0.25143312j]],\n",
       "\n",
       "        [[ 0.15438017-0.02122675j,  0.25958085-0.0886376j ],\n",
       "         [ 0.10608726-0.09233494j,  0.1522095 -0.19523745j]]]])"
      ]
     },
     "execution_count": 138,
     "metadata": {},
     "output_type": "execute_result"
    }
   ],
   "source": [
    "apt.vec"
   ]
  },
  {
   "cell_type": "code",
   "execution_count": 159,
   "metadata": {},
   "outputs": [
    {
     "data": {
      "text/plain": [
       "array([[[[ True,  True],\n",
       "         [ True,  True]],\n",
       "\n",
       "        [[ True,  True],\n",
       "         [ True,  True]]],\n",
       "\n",
       "\n",
       "       [[[ True,  True],\n",
       "         [ True,  True]],\n",
       "\n",
       "        [[ True,  True],\n",
       "         [ True,  True]]]])"
      ]
     },
     "execution_count": 159,
     "metadata": {},
     "output_type": "execute_result"
    }
   ],
   "source": [
    "apt1.op_history[1][1] == apt.op_history[1][1]"
   ]
  },
  {
   "cell_type": "code",
   "execution_count": 166,
   "metadata": {},
   "outputs": [
    {
     "data": {
      "text/plain": [
       "[[0, 1],\n",
       " array([[[[ 1.        +0.j        ,  0.        +0.j        ],\n",
       "          [ 0.        +0.j        ,  0.        +0.j        ]],\n",
       " \n",
       "         [[ 0.        +0.j        ,  0.19648596+0.16723249j],\n",
       "          [ 0.79509854+0.08047076j, -0.05882505+0.53973043j]]],\n",
       " \n",
       " \n",
       "        [[[ 0.        +0.j        , -0.74092538-0.41871964j],\n",
       "          [ 0.32465862-0.24462438j, -0.3231795 -0.07755089j]],\n",
       " \n",
       "         [[ 0.        +0.j        , -0.30529108+0.34048106j],\n",
       "          [ 0.37175065+0.240624j  ,  0.57375669-0.51533951j]]]])]"
      ]
     },
     "execution_count": 166,
     "metadata": {},
     "output_type": "execute_result"
    }
   ],
   "source": [
    "apt1.op_history[0]"
   ]
  },
  {
   "cell_type": "code",
   "execution_count": 167,
   "metadata": {},
   "outputs": [
    {
     "data": {
      "text/plain": [
       "[2, 1]"
      ]
     },
     "execution_count": 167,
     "metadata": {},
     "output_type": "execute_result"
    }
   ],
   "source": [
    "apt1.op_history[2]"
   ]
  },
  {
   "cell_type": "code",
   "execution_count": 164,
   "metadata": {},
   "outputs": [
    {
     "data": {
      "text/plain": [
       "[[[0, 1],\n",
       "  array([[[[ 1.        +0.j        ,  0.        +0.j        ],\n",
       "           [ 0.        +0.j        ,  0.        +0.j        ]],\n",
       "  \n",
       "          [[ 0.        +0.j        ,  0.19648596+0.16723249j],\n",
       "           [ 0.79509854+0.08047076j, -0.05882505+0.53973043j]]],\n",
       "  \n",
       "  \n",
       "         [[[ 0.        +0.j        , -0.74092538-0.41871964j],\n",
       "           [ 0.32465862-0.24462438j, -0.3231795 -0.07755089j]],\n",
       "  \n",
       "          [[ 0.        +0.j        , -0.30529108+0.34048106j],\n",
       "           [ 0.37175065+0.240624j  ,  0.57375669-0.51533951j]]]])],\n",
       " [[2, 3],\n",
       "  array([[[[ 1.        +0.j        ,  0.        +0.j        ],\n",
       "           [ 0.        +0.j        ,  0.        +0.j        ]],\n",
       "  \n",
       "          [[ 0.        +0.j        , -0.19034658-0.10277738j],\n",
       "           [-0.02590874+0.11395722j,  0.94689631-0.20720728j]]],\n",
       "  \n",
       "  \n",
       "         [[[ 0.        +0.j        , -0.06709234+0.51556337j],\n",
       "           [ 0.51808344-0.64875246j,  0.16104532+0.12027983j]],\n",
       "  \n",
       "          [[ 0.        +0.j        , -0.66000117+0.49728914j],\n",
       "           [-0.54395131+0.03419442j, -0.07087193+0.12258408j]]]])],\n",
       " [2, 1],\n",
       " [2, 'X'],\n",
       " [[1, 2],\n",
       "  array([[[[ 1.        +0.j        ,  0.        +0.j        ],\n",
       "           [ 0.        +0.j        ,  0.        +0.j        ]],\n",
       "  \n",
       "          [[ 0.        +0.j        , -0.49263744+0.23134619j],\n",
       "           [-0.36659977-0.56882687j, -0.37329834-0.32630697j]]],\n",
       "  \n",
       "  \n",
       "         [[[ 0.        +0.j        , -0.07085711-0.36156102j],\n",
       "           [ 0.03713183+0.54528996j, -0.58657434-0.47059912j]],\n",
       "  \n",
       "          [[ 0.        +0.j        , -0.36505927+0.65937237j],\n",
       "           [ 0.29756112+0.39341844j,  0.28510113-0.32765296j]]]])],\n",
       " [[3, 0],\n",
       "  array([[[[ 1.        +0.j        ,  0.        +0.j        ],\n",
       "           [ 0.        +0.j        ,  0.        +0.j        ]],\n",
       "  \n",
       "          [[ 0.        +0.j        , -0.15404379-0.80912993j],\n",
       "           [ 0.08184746+0.40916009j, -0.20565166+0.324308j  ]]],\n",
       "  \n",
       "  \n",
       "         [[[ 0.        +0.j        , -0.48200139-0.14600905j],\n",
       "           [-0.542364  -0.46142731j, -0.46014281-0.16598415j]],\n",
       "  \n",
       "          [[ 0.        +0.j        , -0.22905384+0.12437696j],\n",
       "           [ 0.21789244+0.52090116j, -0.32106344-0.71426034j]]]])],\n",
       " [[0, 1],\n",
       "  array([[[[ 1.00000000e+00+0.j        ,  0.00000000e+00+0.j        ],\n",
       "           [ 0.00000000e+00+0.j        ,  0.00000000e+00+0.j        ]],\n",
       "  \n",
       "          [[ 0.00000000e+00+0.j        ,  1.49720831e-01+0.67752817j],\n",
       "           [-5.16114257e-01-0.32817439j, -1.21300420e-01-0.36021258j]]],\n",
       "  \n",
       "  \n",
       "         [[[ 0.00000000e+00+0.j        ,  6.83363541e-01-0.20014655j],\n",
       "           [ 2.82258798e-01-0.59024205j,  2.50992618e-01-0.04361909j]],\n",
       "  \n",
       "          [[ 0.00000000e+00+0.j        , -8.10950698e-04-0.1072111j ],\n",
       "           [ 4.32725171e-01+0.10305756j, -4.59820970e-01-0.7610505j ]]]])],\n",
       " [[2, 3],\n",
       "  array([[[[ 1.        +0.j        ,  0.        +0.j        ],\n",
       "           [ 0.        +0.j        ,  0.        +0.j        ]],\n",
       "  \n",
       "          [[ 0.        +0.j        ,  0.18130884+0.95520141j],\n",
       "           [-0.01039204+0.21622616j,  0.08557885-0.0230627j ]]],\n",
       "  \n",
       "  \n",
       "         [[[ 0.        +0.j        , -0.06841954+0.07858778j],\n",
       "           [ 0.6420322 -0.10800728j, -0.18496876+0.72873752j]],\n",
       "  \n",
       "          [[ 0.        +0.j        ,  0.20861081+0.01848326j],\n",
       "           [-0.72153904-0.09299863j, -0.35270165+0.54997646j]]]])],\n",
       " [[1, 2],\n",
       "  array([[[[ 1.        +0.j        ,  0.        +0.j        ],\n",
       "           [ 0.        +0.j        ,  0.        +0.j        ]],\n",
       "  \n",
       "          [[ 0.        +0.j        , -0.49561267-0.11315866j],\n",
       "           [-0.78328315+0.04567672j,  0.00662713-0.35482449j]]],\n",
       "  \n",
       "  \n",
       "         [[[ 0.        +0.j        ,  0.8282167 +0.09032827j],\n",
       "           [-0.45094359+0.18143467j,  0.20755303-0.16294471j]],\n",
       "  \n",
       "          [[ 0.        +0.j        ,  0.19144956-0.10396235j],\n",
       "           [-0.27930138-0.26477011j, -0.83292273+0.33266522j]]]])],\n",
       " [[3, 0],\n",
       "  array([[[[ 1.        +0.j        ,  0.        +0.j        ],\n",
       "           [ 0.        +0.j        ,  0.        +0.j        ]],\n",
       "  \n",
       "          [[ 0.        +0.j        , -0.78998293+0.19851446j],\n",
       "           [-0.18069192-0.34881278j,  0.3873681 +0.1792903j ]]],\n",
       "  \n",
       "  \n",
       "         [[[ 0.        +0.j        , -0.03738401-0.41502584j],\n",
       "           [-0.11902898-0.31754255j,  0.17669623-0.82470192j]],\n",
       "  \n",
       "          [[ 0.        +0.j        , -0.29582689-0.27452035j],\n",
       "           [-0.08070223+0.85097947j,  0.31126977-0.0977612j ]]]])],\n",
       " [[0, 1],\n",
       "  array([[[[ 1.        +0.j        ,  0.        +0.j        ],\n",
       "           [ 0.        +0.j        ,  0.        +0.j        ]],\n",
       "  \n",
       "          [[ 0.        +0.j        , -0.24207127-0.0741552j ],\n",
       "           [-0.33573589-0.3844644j , -0.79768714-0.1976519j ]]],\n",
       "  \n",
       "  \n",
       "         [[[ 0.        +0.j        ,  0.71615079+0.1779412j ],\n",
       "           [-0.40605414-0.50838873j,  0.16433178+0.07156104j]],\n",
       "  \n",
       "          [[ 0.        +0.j        ,  0.21394712-0.58787253j],\n",
       "           [ 0.48436362-0.28551945j, -0.200941  +0.50212126j]]]])],\n",
       " [[2, 3],\n",
       "  array([[[[ 1.        +0.j        ,  0.        +0.j        ],\n",
       "           [ 0.        +0.j        ,  0.        +0.j        ]],\n",
       "  \n",
       "          [[ 0.        +0.j        ,  0.47092301-0.55579156j],\n",
       "           [ 0.24203522+0.10611359j,  0.53156887-0.34193662j]]],\n",
       "  \n",
       "  \n",
       "         [[[ 0.        +0.j        , -0.33325387+0.43837216j],\n",
       "           [ 0.7380781 +0.23400289j,  0.26267563-0.16809692j]],\n",
       "  \n",
       "          [[ 0.        +0.j        , -0.40727965+0.01490801j],\n",
       "           [-0.23620092-0.52426266j,  0.6912335 +0.15954644j]]]])],\n",
       " [[1, 2],\n",
       "  array([[[[ 1.        +0.j        ,  0.        +0.j        ],\n",
       "           [ 0.        +0.j        ,  0.        +0.j        ]],\n",
       "  \n",
       "          [[ 0.        +0.j        ,  0.6816923 +0.16923002j],\n",
       "           [-0.33706734-0.10787848j,  0.61433151-0.0632569j ]]],\n",
       "  \n",
       "  \n",
       "         [[[ 0.        +0.j        , -0.22721209-0.19020544j],\n",
       "           [-0.39322395-0.83486855j, -0.08173764-0.2321313j ]],\n",
       "  \n",
       "          [[ 0.        +0.j        ,  0.6300854 -0.1478031j ],\n",
       "           [-0.03488766-0.14798688j, -0.66945892+0.3314425j ]]]])],\n",
       " [[3, 0],\n",
       "  array([[[[ 1.        +0.j        ,  0.        +0.j        ],\n",
       "           [ 0.        +0.j        ,  0.        +0.j        ]],\n",
       "  \n",
       "          [[ 0.        +0.j        ,  0.03979706-0.80206206j],\n",
       "           [-0.38366124+0.07648297j, -0.1900407 -0.40737156j]]],\n",
       "  \n",
       "  \n",
       "         [[[ 0.        +0.j        , -0.22688762+0.28261158j],\n",
       "           [ 0.12087295-0.56793641j, -0.38258656-0.62057892j]],\n",
       "  \n",
       "          [[ 0.        +0.j        , -0.36962006+0.29520563j],\n",
       "           [-0.7139942 +0.00215471j,  0.48682402-0.17159446j]]]])],\n",
       " [1, 0],\n",
       " [[0, 1],\n",
       "  array([[[[ 1.        +0.j        ,  0.        +0.j        ],\n",
       "           [ 0.        +0.j        ,  0.        +0.j        ]],\n",
       "  \n",
       "          [[ 0.        +0.j        ,  0.20259056-0.0597305j ],\n",
       "           [-0.82526385+0.01658433j,  0.52344722-0.00754208j]]],\n",
       "  \n",
       "  \n",
       "         [[[ 0.        +0.j        , -0.60255914+0.67862756j],\n",
       "           [-0.32859037+0.03127845j, -0.21058663-0.15195532j]],\n",
       "  \n",
       "          [[ 0.        +0.j        , -0.35474557+0.07701971j],\n",
       "           [ 0.22987103+0.39607308j,  0.50510214+0.63512266j]]]])],\n",
       " [[2, 3],\n",
       "  array([[[[ 1.        +0.j        ,  0.        +0.j        ],\n",
       "           [ 0.        +0.j        ,  0.        +0.j        ]],\n",
       "  \n",
       "          [[ 0.        +0.j        , -0.28410932-0.30132696j],\n",
       "           [ 0.02577027-0.89776648j, -0.01948817+0.14647665j]]],\n",
       "  \n",
       "  \n",
       "         [[[ 0.        +0.j        , -0.33956103-0.80950806j],\n",
       "           [-0.19136335+0.37130001j, -0.22994806-0.04511392j]],\n",
       "  \n",
       "          [[ 0.        +0.j        ,  0.00922116-0.24040369j],\n",
       "           [ 0.07103041+0.11756824j,  0.89466999+0.35045546j]]]])],\n",
       " [1, 0],\n",
       " [[1, 2],\n",
       "  array([[[[ 1.        +0.j        ,  0.        +0.j        ],\n",
       "           [ 0.        +0.j        ,  0.        +0.j        ]],\n",
       "  \n",
       "          [[ 0.        +0.j        ,  0.25607149+0.07592042j],\n",
       "           [-0.51320698+0.39843937j, -0.27532082-0.65629764j]]],\n",
       "  \n",
       "  \n",
       "         [[[ 0.        +0.j        ,  0.10501293+0.13852596j],\n",
       "           [-0.34534667-0.62129067j, -0.64492917+0.22041502j]],\n",
       "  \n",
       "          [[ 0.        +0.j        , -0.11887459+0.94038032j],\n",
       "           [ 0.09978469+0.25028236j, -0.0571308 +0.16028569j]]]])],\n",
       " [[3, 0],\n",
       "  array([[[[ 1.00000000e+00+0.j        ,  0.00000000e+00+0.j        ],\n",
       "           [ 0.00000000e+00+0.j        ,  0.00000000e+00+0.j        ]],\n",
       "  \n",
       "          [[ 0.00000000e+00+0.j        , -9.51522938e-02-0.1813115j ],\n",
       "           [-2.86241599e-01+0.87951986j, -2.14507911e-01+0.2378426j ]]],\n",
       "  \n",
       "  \n",
       "         [[[ 0.00000000e+00+0.j        ,  8.33104216e-02-0.4873026j ],\n",
       "           [-1.41642952e-01-0.22990061j,  4.14082586e-01+0.71499241j]],\n",
       "  \n",
       "          [[ 0.00000000e+00+0.j        ,  1.21561015e-04-0.84478856j],\n",
       "           [ 2.64880386e-01-0.03784082j, -2.36482102e-01-0.39851592j]]]])],\n",
       " [0, 0],\n",
       " [2, 1],\n",
       " [2, 'X'],\n",
       " [3, 0],\n",
       " [[0, 1],\n",
       "  array([[[[ 1.        +0.j        ,  0.        +0.j        ],\n",
       "           [ 0.        +0.j        ,  0.        +0.j        ]],\n",
       "  \n",
       "          [[ 0.        +0.j        , -0.3357188 -0.01116275j],\n",
       "           [-0.14321259+0.38842214j,  0.12722881+0.83642065j]]],\n",
       "  \n",
       "  \n",
       "         [[[ 0.        +0.j        ,  0.34280624-0.83249719j],\n",
       "           [ 0.2239134 -0.1445601j ,  0.28810513+0.18813001j]],\n",
       "  \n",
       "          [[ 0.        +0.j        ,  0.17286054+0.21614767j],\n",
       "           [-0.52981845-0.69056207j,  0.31843537+0.25380066j]]]])],\n",
       " [[2, 3],\n",
       "  array([[[[ 1.        +0.j        ,  0.        +0.j        ],\n",
       "           [ 0.        +0.j        ,  0.        +0.j        ]],\n",
       "  \n",
       "          [[ 0.        +0.j        ,  0.15241455+0.3129342j ],\n",
       "           [ 0.30783793+0.37290084j, -0.16860195+0.78523636j]]],\n",
       "  \n",
       "  \n",
       "         [[[ 0.        +0.j        , -0.59604762+0.62260527j],\n",
       "           [-0.20573158-0.31637573j,  0.29721174+0.16228373j]],\n",
       "  \n",
       "          [[ 0.        +0.j        , -0.00413459-0.36866626j],\n",
       "           [-0.74900067+0.25051883j,  0.30090014+0.3869955j ]]]])],\n",
       " [[1, 2],\n",
       "  array([[[[ 1.        +0.j        ,  0.        +0.j        ],\n",
       "           [ 0.        +0.j        ,  0.        +0.j        ]],\n",
       "  \n",
       "          [[ 0.        +0.j        ,  0.30188278-0.5095945j ],\n",
       "           [-0.28987202+0.16790172j, -0.20487373+0.70355541j]]],\n",
       "  \n",
       "  \n",
       "         [[[ 0.        +0.j        ,  0.31655343-0.28409095j],\n",
       "           [ 0.86070735+0.21259982j, -0.16098048-0.08459147j]],\n",
       "  \n",
       "          [[ 0.        +0.j        , -0.22787092+0.64524517j],\n",
       "           [ 0.31494071+0.05079126j, -0.16878296+0.63362325j]]]])],\n",
       " [[3, 0],\n",
       "  array([[[[ 1.        +0.j        ,  0.        +0.j        ],\n",
       "           [ 0.        +0.j        ,  0.        +0.j        ]],\n",
       "  \n",
       "          [[ 0.        +0.j        , -0.50239088-0.14333367j],\n",
       "           [ 0.02066693-0.32229446j, -0.17557566-0.76937066j]]],\n",
       "  \n",
       "  \n",
       "         [[[ 0.        +0.j        ,  0.63366861+0.1049949j ],\n",
       "           [ 0.22967208+0.4117564j , -0.27907576-0.53597041j]],\n",
       "  \n",
       "          [[ 0.        +0.j        ,  0.3793684 +0.41301168j],\n",
       "           [ 0.25660082-0.77946301j,  0.10879269-0.01607976j]]]])],\n",
       " [[0, 1],\n",
       "  array([[[[ 1.        +0.j        ,  0.        +0.j        ],\n",
       "           [ 0.        +0.j        ,  0.        +0.j        ]],\n",
       "  \n",
       "          [[ 0.        +0.j        ,  0.41117233+0.45927519j],\n",
       "           [ 0.13070734-0.30577594j,  0.17064132-0.69303811j]]],\n",
       "  \n",
       "  \n",
       "         [[[ 0.        +0.j        , -0.43762637+0.39431235j],\n",
       "           [-0.78044621-0.0547689j , -0.13143579-0.15371938j]],\n",
       "  \n",
       "          [[ 0.        +0.j        , -0.52189714+0.02505844j],\n",
       "           [ 0.4593066 +0.25760084j, -0.50268074-0.44383192j]]]])],\n",
       " [[2, 3],\n",
       "  array([[[[ 1.        +0.j        ,  0.        +0.j        ],\n",
       "           [ 0.        +0.j        ,  0.        +0.j        ]],\n",
       "  \n",
       "          [[ 0.        +0.j        ,  0.14959347+0.08491488j],\n",
       "           [-0.8991057 -0.1463515j ,  0.34704256+0.14199612j]]],\n",
       "  \n",
       "  \n",
       "         [[[ 0.        +0.j        , -0.29474295+0.28260465j],\n",
       "           [ 0.02867454-0.28227669j,  0.3397892 -0.79831206j]],\n",
       "  \n",
       "          [[ 0.        +0.j        ,  0.7128133 -0.5436632j ],\n",
       "           [ 0.12093   -0.27397766j,  0.14354083-0.2933185j ]]]])],\n",
       " [[1, 2],\n",
       "  array([[[[ 1.        +0.j        ,  0.        +0.j        ],\n",
       "           [ 0.        +0.j        ,  0.        +0.j        ]],\n",
       "  \n",
       "          [[ 0.        +0.j        , -0.19610271-0.08436976j],\n",
       "           [ 0.07559491+0.31238796j,  0.36028006+0.84930732j]]],\n",
       "  \n",
       "  \n",
       "         [[[ 0.        +0.j        ,  0.97583408+0.02382718j],\n",
       "           [ 0.01257261+0.0305499j ,  0.1532908 +0.15030194j]],\n",
       "  \n",
       "          [[ 0.        +0.j        ,  0.01741279+0.03608841j],\n",
       "           [-0.26458378+0.90862711j,  0.03647114-0.31852233j]]]])],\n",
       " [[3, 0],\n",
       "  array([[[[ 1.        +0.j        ,  0.        +0.j        ],\n",
       "           [ 0.        +0.j        ,  0.        +0.j        ]],\n",
       "  \n",
       "          [[ 0.        +0.j        , -0.23327685-0.85053931j],\n",
       "           [ 0.40457719-0.10408631j,  0.01462677+0.21779391j]]],\n",
       "  \n",
       "  \n",
       "         [[[ 0.        +0.j        , -0.12980775+0.09160152j],\n",
       "           [-0.27958154+0.30056081j, -0.12057723+0.88978514j]],\n",
       "  \n",
       "          [[ 0.        +0.j        ,  0.24257688-0.37159165j],\n",
       "           [-0.74126437-0.32788388j,  0.38221021+0.0032792j ]]]])],\n",
       " [[0, 1],\n",
       "  array([[[[ 1.        +0.j        ,  0.        +0.j        ],\n",
       "           [ 0.        +0.j        ,  0.        +0.j        ]],\n",
       "  \n",
       "          [[ 0.        +0.j        ,  0.35710501-0.13546518j],\n",
       "           [ 0.61360726+0.27924405j,  0.09989076-0.62422426j]]],\n",
       "  \n",
       "  \n",
       "         [[[ 0.        +0.j        , -0.29310879+0.08300984j],\n",
       "           [-0.56278538-0.01729737j, -0.09667898-0.76211757j]],\n",
       "  \n",
       "          [[ 0.        +0.j        ,  0.3966255 +0.77718082j],\n",
       "           [ 0.05987754-0.47423305j, -0.0219564 -0.09855863j]]]])],\n",
       " [[2, 3],\n",
       "  array([[[[ 1.        +0.j        ,  0.        +0.j        ],\n",
       "           [ 0.        +0.j        ,  0.        +0.j        ]],\n",
       "  \n",
       "          [[ 0.        +0.j        , -0.45199673-0.4858312j ],\n",
       "           [ 0.57476287-0.4053136j , -0.15689378+0.20104694j]]],\n",
       "  \n",
       "  \n",
       "         [[[ 0.        +0.j        ,  0.25167774+0.30449838j],\n",
       "           [ 0.31793615+0.1132256j ,  0.25087555+0.81676011j]],\n",
       "  \n",
       "          [[ 0.        +0.j        , -0.49216383-0.40172231j],\n",
       "           [-0.32934075+0.53197723j,  0.38538458+0.23750277j]]]])],\n",
       " [[1, 2],\n",
       "  array([[[[ 1.        +0.j        ,  0.        +0.j        ],\n",
       "           [ 0.        +0.j        ,  0.        +0.j        ]],\n",
       "  \n",
       "          [[ 0.        +0.j        ,  0.01937534-0.43381751j],\n",
       "           [ 0.50034517+0.3524827j , -0.28958167+0.59412127j]]],\n",
       "  \n",
       "  \n",
       "         [[[ 0.        +0.j        , -0.69276302+0.41675033j],\n",
       "           [-0.27972515+0.43931445j, -0.08358295+0.26109215j]],\n",
       "  \n",
       "          [[ 0.        +0.j        , -0.20138266+0.34244788j],\n",
       "           [ 0.37651054-0.46087647j, -0.68779124-0.12227173j]]]])],\n",
       " [[3, 0],\n",
       "  array([[[[ 1.        +0.j        ,  0.        +0.j        ],\n",
       "           [ 0.        +0.j        ,  0.        +0.j        ]],\n",
       "  \n",
       "          [[ 0.        +0.j        , -0.03752855-0.64332885j],\n",
       "           [ 0.35423151+0.49977517j, -0.2001046 +0.41160973j]]],\n",
       "  \n",
       "  \n",
       "         [[[ 0.        +0.j        , -0.46879485+0.34412615j],\n",
       "           [ 0.17309883+0.58748321j, -0.23469766-0.48127525j]],\n",
       "  \n",
       "          [[ 0.        +0.j        , -0.4857224 +0.10296571j],\n",
       "           [-0.47378701-0.15865359j, -0.54871526+0.45026468j]]]])],\n",
       " [[0, 1],\n",
       "  array([[[[ 1.        +0.j        ,  0.        +0.j        ],\n",
       "           [ 0.        +0.j        ,  0.        +0.j        ]],\n",
       "  \n",
       "          [[ 0.        +0.j        ,  0.03310133+0.01522461j],\n",
       "           [-0.08459836-0.81392386j,  0.49716166-0.28613609j]]],\n",
       "  \n",
       "  \n",
       "         [[[ 0.        +0.j        ,  0.07586548-0.52602351j],\n",
       "           [-0.46548726+0.0697462j ,  0.38532205+0.58951479j]],\n",
       "  \n",
       "          [[ 0.        +0.j        ,  0.79466919+0.291062j  ],\n",
       "           [-0.01103663+0.32970645j,  0.39182608-0.14638295j]]]])],\n",
       " [[2, 3],\n",
       "  array([[[[ 1.        +0.j        ,  0.        +0.j        ],\n",
       "           [ 0.        +0.j        ,  0.        +0.j        ]],\n",
       "  \n",
       "          [[ 0.        +0.j        , -0.23744963-0.28187697j],\n",
       "           [-0.06956735-0.17615265j,  0.59587181-0.68791748j]]],\n",
       "  \n",
       "  \n",
       "         [[[ 0.        +0.j        , -0.77617726-0.39253586j],\n",
       "           [-0.28538318+0.13565554j, -0.05539223+0.37490024j]],\n",
       "  \n",
       "          [[ 0.        +0.j        ,  0.07992225+0.31818226j],\n",
       "           [-0.75085727-0.54817698j,  0.09334413+0.13919309j]]]])],\n",
       " [[1, 2],\n",
       "  array([[[[ 1.        +0.j        ,  0.        +0.j        ],\n",
       "           [ 0.        +0.j        ,  0.        +0.j        ]],\n",
       "  \n",
       "          [[ 0.        +0.j        ,  0.56163974+0.03877844j],\n",
       "           [-0.38058803+0.70623795j, -0.1972166 +0.02330991j]]],\n",
       "  \n",
       "  \n",
       "         [[[ 0.        +0.j        , -0.42656759+0.22044418j],\n",
       "           [-0.14529628+0.4271006j ,  0.67713883+0.32772173j]],\n",
       "  \n",
       "          [[ 0.        +0.j        , -0.42913095+0.51802328j],\n",
       "           [ 0.27040704+0.28237353j, -0.61678176+0.11926441j]]]])],\n",
       " [[3, 0],\n",
       "  array([[[[ 1.        +0.j        ,  0.        +0.j        ],\n",
       "           [ 0.        +0.j        ,  0.        +0.j        ]],\n",
       "  \n",
       "          [[ 0.        +0.j        , -0.29217013-0.8082292j ],\n",
       "           [-0.43694606+0.04845999j,  0.24544876-0.08880792j]]],\n",
       "  \n",
       "  \n",
       "         [[[ 0.        +0.j        , -0.1389227 -0.39141958j],\n",
       "           [ 0.89470216-0.0681649j ,  0.1493347 -0.00720705j]],\n",
       "  \n",
       "          [[ 0.        +0.j        , -0.09206131+0.28358083j],\n",
       "           [-0.03380716+0.0211764j ,  0.8867949 +0.35087046j]]]])],\n",
       " [[0, 1],\n",
       "  array([[[[ 1.        +0.j        ,  0.        +0.j        ],\n",
       "           [ 0.        +0.j        ,  0.        +0.j        ]],\n",
       "  \n",
       "          [[ 0.        +0.j        , -0.80647865-0.22668578j],\n",
       "           [-0.21035583+0.09428291j, -0.48608858+0.09372724j]]],\n",
       "  \n",
       "  \n",
       "         [[[ 0.        +0.j        , -0.30915155-0.26719804j],\n",
       "           [ 0.4781405 +0.56678138j,  0.51394013-0.13797316j]],\n",
       "  \n",
       "          [[ 0.        +0.j        , -0.33612411-0.13511793j],\n",
       "           [-0.21045882-0.5938929j ,  0.64308414+0.24125678j]]]])],\n",
       " [[2, 3],\n",
       "  array([[[[ 1.        +0.j        ,  0.        +0.j        ],\n",
       "           [ 0.        +0.j        ,  0.        +0.j        ]],\n",
       "  \n",
       "          [[ 0.        +0.j        , -0.33821423-0.18925755j],\n",
       "           [-0.50694293-0.55231299j, -0.00554088+0.53639654j]]],\n",
       "  \n",
       "  \n",
       "         [[[ 0.        +0.j        ,  0.82231581+0.12979356j],\n",
       "           [-0.23229998+0.11896745j, -0.14813858+0.46571318j]],\n",
       "  \n",
       "          [[ 0.        +0.j        , -0.03235338-0.39458372j],\n",
       "           [-0.53017501+0.29792138j, -0.58636913-0.35997985j]]]])],\n",
       " [[1, 2],\n",
       "  array([[[[ 1.        +0.j        ,  0.        +0.j        ],\n",
       "           [ 0.        +0.j        ,  0.        +0.j        ]],\n",
       "  \n",
       "          [[ 0.        +0.j        ,  0.5799077 -0.12536523j],\n",
       "           [-0.16038635+0.61445456j, -0.47756948+0.12899544j]]],\n",
       "  \n",
       "  \n",
       "         [[[ 0.        +0.j        ,  0.3398259 -0.55525452j],\n",
       "           [-0.55204952-0.39929224j,  0.27970871+0.18379567j]],\n",
       "  \n",
       "          [[ 0.        +0.j        ,  0.4181434 -0.22216546j],\n",
       "           [ 0.35855394+0.0629915j ,  0.32914238-0.73139254j]]]])],\n",
       " [[3, 0],\n",
       "  array([[[[ 1.        +0.j        ,  0.        +0.j        ],\n",
       "           [ 0.        +0.j        ,  0.        +0.j        ]],\n",
       "  \n",
       "          [[ 0.        +0.j        , -0.6062193 +0.47338948j],\n",
       "           [-0.15673281+0.38539419j,  0.24873461-0.41645865j]]],\n",
       "  \n",
       "  \n",
       "         [[[ 0.        +0.j        , -0.17556021+0.0401038j ],\n",
       "           [-0.4644499 -0.55154423j, -0.55868028-0.36814657j]],\n",
       "  \n",
       "          [[ 0.        +0.j        ,  0.61316397+0.00089545j],\n",
       "           [-0.54950949+0.0709276j ,  0.43208701-0.36102431j]]]])],\n",
       " [[0, 1],\n",
       "  array([[[[ 1.        +0.j        ,  0.        +0.j        ],\n",
       "           [ 0.        +0.j        ,  0.        +0.j        ]],\n",
       "  \n",
       "          [[ 0.        +0.j        , -0.42920543-0.55222241j],\n",
       "           [-0.46524802+0.45534023j, -0.23693497+0.17579674j]]],\n",
       "  \n",
       "  \n",
       "         [[[ 0.        +0.j        ,  0.47032333-0.53113651j],\n",
       "           [ 0.47315442+0.38500262j,  0.3149582 +0.15933986j]],\n",
       "  \n",
       "          [[ 0.        +0.j        , -0.0121389 -0.0858821j ],\n",
       "           [ 0.17356707-0.4171114j , -0.30029939+0.83557749j]]]])],\n",
       " [[2, 3],\n",
       "  array([[[[ 1.        +0.j        ,  0.        +0.j        ],\n",
       "           [ 0.        +0.j        ,  0.        +0.j        ]],\n",
       "  \n",
       "          [[ 0.        +0.j        , -0.52128129+0.57673035j],\n",
       "           [ 0.41478679+0.04169609j, -0.217009  -0.41805307j]]],\n",
       "  \n",
       "  \n",
       "         [[[ 0.        +0.j        ,  0.569376  -0.18442921j],\n",
       "           [ 0.17160731+0.32751589j, -0.11626614-0.70111575j]],\n",
       "  \n",
       "          [[ 0.        +0.j        , -0.18234804+0.06476079j],\n",
       "           [-0.82824063+0.05928816j, -0.45006736-0.26551267j]]]])],\n",
       " [0, 1],\n",
       " [0, 'X'],\n",
       " [1, 0],\n",
       " [[1, 2],\n",
       "  array([[[[ 1.        +0.j        ,  0.        +0.j        ],\n",
       "           [ 0.        +0.j        ,  0.        +0.j        ]],\n",
       "  \n",
       "          [[ 0.        +0.j        ,  0.50757128-0.11290768j],\n",
       "           [-0.38391869-0.66456772j, -0.37478649-0.01070161j]]],\n",
       "  \n",
       "  \n",
       "         [[[ 0.        +0.j        ,  0.28115754-0.65833941j],\n",
       "           [ 0.62897901+0.04680827j, -0.15551488+0.25602572j]],\n",
       "  \n",
       "          [[ 0.        +0.j        , -0.45683245-0.09201641j],\n",
       "           [ 0.03536856+0.1090855j , -0.81107538-0.33442974j]]]])],\n",
       " [[3, 0],\n",
       "  array([[[[ 1.        +0.j        ,  0.        +0.j        ],\n",
       "           [ 0.        +0.j        ,  0.        +0.j        ]],\n",
       "  \n",
       "          [[ 0.        +0.j        , -0.33313784+0.63756057j],\n",
       "           [-0.31762447+0.43186918j,  0.42609094+0.11655862j]]],\n",
       "  \n",
       "  \n",
       "         [[[ 0.        +0.j        , -0.03479613-0.64004016j],\n",
       "           [ 0.11894676+0.68707763j,  0.27986365+0.15681249j]],\n",
       "  \n",
       "          [[ 0.        +0.j        , -0.09511462-0.25025331j],\n",
       "           [-0.47032185-0.07195185j,  0.24185348-0.80215564j]]]])],\n",
       " [2, 0]]"
      ]
     },
     "execution_count": 164,
     "metadata": {},
     "output_type": "execute_result"
    }
   ],
   "source": [
    "apt.op_history"
   ]
  },
  {
   "cell_type": "code",
   "execution_count": 123,
   "metadata": {},
   "outputs": [
    {
     "data": {
      "text/plain": [
       "(0.5141783019458964+0j)"
      ]
     },
     "execution_count": 123,
     "metadata": {},
     "output_type": "execute_result"
    }
   ],
   "source": [
    "apt.order_parameter()"
   ]
  },
  {
   "cell_type": "code",
   "execution_count": 93,
   "metadata": {},
   "outputs": [
    {
     "data": {
      "text/plain": [
       "(0.79916033324564+0j)"
      ]
     },
     "execution_count": 93,
     "metadata": {},
     "output_type": "execute_result"
    }
   ],
   "source": [
    "np.sqrt(apt.vec.flatten()@apt.vec.flatten().conj())"
   ]
  },
  {
   "cell_type": "code",
   "execution_count": 90,
   "metadata": {},
   "outputs": [
    {
     "data": {
      "text/plain": [
       "0.79916033324564"
      ]
     },
     "execution_count": 90,
     "metadata": {},
     "output_type": "execute_result"
    }
   ],
   "source": [
    "np.linalg.norm(apt.vec)"
   ]
  },
  {
   "cell_type": "code",
   "execution_count": 80,
   "metadata": {},
   "outputs": [],
   "source": [
    "apt.unitary_layer(even=True)\n",
    "apt.unitary_layer(even=False)"
   ]
  },
  {
   "cell_type": "code",
   "execution_count": 84,
   "metadata": {},
   "outputs": [
    {
     "data": {
      "text/plain": [
       "array(0.64816707+0.j)"
      ]
     },
     "execution_count": 84,
     "metadata": {},
     "output_type": "execute_result"
    }
   ],
   "source": [
    "apt.inner_prob(pos=0,n=0)"
   ]
  },
  {
   "cell_type": "code",
   "execution_count": 82,
   "metadata": {},
   "outputs": [
    {
     "data": {
      "text/plain": [
       "array([ 0.        +0.j        ,  0.03507096+0.05584743j,\n",
       "       -0.44048348-0.03213747j,  0.0234354 -0.03204733j,\n",
       "       -0.41407927+0.13979902j,  0.00907059-0.03822592j,\n",
       "       -0.35979512+0.35091422j, -0.00960911-0.04414576j,\n",
       "        0.00997744-0.39437331j,  0.05476803+0.04760256j,\n",
       "       -0.22282916+0.08218739j,  0.01443966-0.04123077j,\n",
       "       -0.17167712+0.16050696j, -0.00265963-0.04314801j,\n",
       "       -0.09816373+0.25181257j, -0.02421969-0.04341446j])"
      ]
     },
     "execution_count": 82,
     "metadata": {},
     "output_type": "execute_result"
    }
   ],
   "source": [
    "apt.vec.flatten()"
   ]
  },
  {
   "cell_type": "code",
   "execution_count": 83,
   "metadata": {},
   "outputs": [
    {
     "data": {
      "text/plain": [
       "(0.6481670748339009+0j)"
      ]
     },
     "execution_count": 83,
     "metadata": {},
     "output_type": "execute_result"
    }
   ],
   "source": [
    "apt.vec.flatten()[:8].T.conj()@apt.vec.flatten()[:8]"
   ]
  },
  {
   "cell_type": "code",
   "execution_count": 57,
   "metadata": {},
   "outputs": [
    {
     "data": {
      "text/plain": [
       "(0.9724426600490486+0j)"
      ]
     },
     "execution_count": 57,
     "metadata": {},
     "output_type": "execute_result"
    }
   ],
   "source": [
    "apt.vec.flatten()[2:].T.conj()@apt.vec.flatten()[2:]"
   ]
  },
  {
   "cell_type": "code",
   "execution_count": 320,
   "metadata": {},
   "outputs": [],
   "source": [
    "uu=utils.U(3)"
   ]
  },
  {
   "cell_type": "code",
   "execution_count": 321,
   "metadata": {},
   "outputs": [
    {
     "data": {
      "text/plain": [
       "array([[ 1.00000000e+00+0.00000000e+00j, -9.71445147e-17+1.24900090e-16j,\n",
       "         8.32667268e-17+5.55111512e-17j],\n",
       "       [-9.71445147e-17-1.24900090e-16j,  1.00000000e+00+0.00000000e+00j,\n",
       "        -1.80411242e-16-4.16333634e-17j],\n",
       "       [ 8.32667268e-17-5.55111512e-17j, -1.80411242e-16+4.16333634e-17j,\n",
       "         1.00000000e+00+0.00000000e+00j]])"
      ]
     },
     "execution_count": 321,
     "metadata": {},
     "output_type": "execute_result"
    }
   ],
   "source": [
    "uu.conj().T@uu"
   ]
  },
  {
   "cell_type": "code",
   "execution_count": 322,
   "metadata": {},
   "outputs": [
    {
     "data": {
      "text/plain": [
       "array([[[[ 1.        +0.j        ,  0.        +0.j        ],\n",
       "         [ 0.        +0.j        ,  0.        +0.j        ]],\n",
       "\n",
       "        [[ 0.        +0.j        , -0.19034658-0.10277738j],\n",
       "         [-0.02590874+0.11395722j,  0.94689631-0.20720728j]]],\n",
       "\n",
       "\n",
       "       [[[ 0.        +0.j        , -0.06709234+0.51556337j],\n",
       "         [ 0.51808344-0.64875246j,  0.16104532+0.12027983j]],\n",
       "\n",
       "        [[ 0.        +0.j        , -0.66000117+0.49728914j],\n",
       "         [-0.54395131+0.03419442j, -0.07087193+0.12258408j]]]])"
      ]
     },
     "execution_count": 322,
     "metadata": {},
     "output_type": "execute_result"
    }
   ],
   "source": [
    "apt.U3"
   ]
  },
  {
   "cell_type": "code",
   "execution_count": 324,
   "metadata": {},
   "outputs": [
    {
     "data": {
      "text/plain": [
       "array([[ 1.+0.j,  0.+0.j,  0.+0.j,  0.+0.j],\n",
       "       [ 0.+0.j,  1.+0.j,  0.+0.j, -0.+0.j],\n",
       "       [ 0.+0.j,  0.-0.j,  1.+0.j, -0.-0.j],\n",
       "       [ 0.+0.j, -0.-0.j, -0.+0.j,  1.+0.j]])"
      ]
     },
     "execution_count": 324,
     "metadata": {},
     "output_type": "execute_result"
    }
   ],
   "source": [
    "np.round(apt.U3.reshape((4,4)).T.conj()@apt.U3.reshape((4,4)),3)"
   ]
  },
  {
   "cell_type": "code",
   "execution_count": 312,
   "metadata": {},
   "outputs": [
    {
     "data": {
      "text/plain": [
       "array([[[[ 1.        +0.j        ,  0.        +0.j        ],\n",
       "         [ 0.        +0.j        , -0.67832844+0.24598695j]],\n",
       "\n",
       "        [[ 0.        +0.j        ,  0.        +0.j        ],\n",
       "         [ 0.03234537+0.13392726j,  0.01048387-0.0645252j ]]],\n",
       "\n",
       "\n",
       "       [[[ 0.        +0.j        ,  0.02771199-0.00840687j],\n",
       "         [ 0.        +0.j        , -0.11295695-0.02553657j]],\n",
       "\n",
       "        [[-0.56566482-0.23938444j,  0.31384514-0.69315137j],\n",
       "         [ 0.01345849+0.51111159j,  0.5397395 -0.06063556j]]]])"
      ]
     },
     "execution_count": 312,
     "metadata": {},
     "output_type": "execute_result"
    }
   ],
   "source": [
    "apt.U3.T.conj()@apt.U3"
   ]
  },
  {
   "cell_type": "code",
   "execution_count": 302,
   "metadata": {},
   "outputs": [
    {
     "data": {
      "text/plain": [
       "array([ 1.        +0.j        , -0.01377086+0.16164286j,\n",
       "        0.        +0.j        ,  0.        +0.j        ,\n",
       "        0.        +0.j        ,  0.        +0.j        ,\n",
       "        0.        +0.j        ,  0.        +0.j        ,\n",
       "        0.        +0.j        ,  0.03713392+0.17460315j,\n",
       "        0.        +0.j        ,  0.        +0.j        ,\n",
       "        0.        +0.j        ,  0.        +0.j        ,\n",
       "        0.        +0.j        ,  0.        +0.j        ])"
      ]
     },
     "execution_count": 302,
     "metadata": {},
     "output_type": "execute_result"
    }
   ],
   "source": [
    "apt.vec.flatten()"
   ]
  },
  {
   "cell_type": "code",
   "execution_count": 280,
   "metadata": {},
   "outputs": [],
   "source": [
    "apt.measure_feedback_layer(pos=[0,1],n=[1,1],feedback=[True,False])"
   ]
  },
  {
   "cell_type": "code",
   "execution_count": 281,
   "metadata": {},
   "outputs": [
    {
     "data": {
      "text/plain": [
       "array([ 0.        +0.j        ,  0.        +0.j        ,\n",
       "        0.        +0.j        ,  0.        +0.j        ,\n",
       "        0.03264523+0.02512174j, -0.13441489-0.10086483j,\n",
       "        0.05049129+0.04198142j, -0.02636522-0.26995747j,\n",
       "        0.        +0.j        ,  0.        +0.j        ,\n",
       "        0.        +0.j        ,  0.        +0.j        ,\n",
       "        0.        +0.j        ,  0.        +0.j        ,\n",
       "        0.        +0.j        ,  0.        +0.j        ])"
      ]
     },
     "execution_count": 281,
     "metadata": {},
     "output_type": "execute_result"
    }
   ],
   "source": [
    "apt.vec.flatten()"
   ]
  },
  {
   "cell_type": "code",
   "execution_count": 282,
   "metadata": {},
   "outputs": [
    {
     "data": {
      "text/plain": [
       "array([0.42271691, 0.58950206])"
      ]
     },
     "execution_count": 282,
     "metadata": {},
     "output_type": "execute_result"
    }
   ],
   "source": [
    "apt.rng_C.random(2)"
   ]
  },
  {
   "cell_type": "code",
   "execution_count": null,
   "metadata": {},
   "outputs": [],
   "source": [
    "apt.measure_feedback_layer()"
   ]
  },
  {
   "cell_type": "code",
   "execution_count": 245,
   "metadata": {},
   "outputs": [],
   "source": [
    "apt.X(n=-1)"
   ]
  },
  {
   "cell_type": "code",
   "execution_count": 212,
   "metadata": {},
   "outputs": [],
   "source": [
    "apt.P(n=[1],pos=[0])"
   ]
  },
  {
   "cell_type": "code",
   "execution_count": 246,
   "metadata": {},
   "outputs": [
    {
     "data": {
      "text/plain": [
       "array([0.+0.j, 1.+0.j, 0.+0.j, 0.+0.j, 0.+0.j, 0.+0.j, 0.+0.j, 0.+0.j,\n",
       "       0.+0.j, 0.+0.j, 0.+0.j, 0.+0.j, 0.+0.j, 0.+0.j, 0.+0.j, 0.+0.j])"
      ]
     },
     "execution_count": 246,
     "metadata": {},
     "output_type": "execute_result"
    }
   ],
   "source": [
    "apt.vec.flatten()"
   ]
  },
  {
   "cell_type": "code",
   "execution_count": 135,
   "metadata": {},
   "outputs": [],
   "source": [
    "apt.unitary(1)"
   ]
  },
  {
   "cell_type": "code",
   "execution_count": 136,
   "metadata": {},
   "outputs": [
    {
     "data": {
      "text/plain": [
       "array([0.+0.j, 0.+0.j, 2.+0.j, 0.+0.j, 5.+0.j, 0.+0.j, 8.+0.j, 0.+0.j,\n",
       "       0.+0.j, 0.+0.j, 0.+0.j, 0.+0.j, 0.+0.j, 0.+0.j, 0.+0.j, 0.+0.j])"
      ]
     },
     "execution_count": 136,
     "metadata": {},
     "output_type": "execute_result"
    }
   ],
   "source": [
    "apt.vec.flatten()"
   ]
  },
  {
   "cell_type": "code",
   "execution_count": 125,
   "metadata": {},
   "outputs": [
    {
     "data": {
      "text/plain": [
       "array([[ 1.        +0.j        ,  0.        +0.j        ,\n",
       "         0.        +0.j        ,  0.        +0.j        ],\n",
       "       [ 0.        +0.j        ,  0.19648596+0.16723249j,\n",
       "         0.79509854+0.08047076j, -0.05882505+0.53973043j],\n",
       "       [ 0.        +0.j        , -0.74092538-0.41871964j,\n",
       "         0.32465862-0.24462438j, -0.3231795 -0.07755089j],\n",
       "       [ 0.        +0.j        , -0.30529108+0.34048106j,\n",
       "         0.37175065+0.240624j  ,  0.57375669-0.51533951j]])"
      ]
     },
     "execution_count": 125,
     "metadata": {},
     "output_type": "execute_result"
    }
   ],
   "source": [
    "apt.U3.reshape((4,4))"
   ]
  },
  {
   "cell_type": "code",
   "execution_count": 122,
   "metadata": {},
   "outputs": [],
   "source": [
    "vec=apt.vec.reshape((4,2))\n"
   ]
  },
  {
   "cell_type": "code",
   "execution_count": 126,
   "metadata": {},
   "outputs": [
    {
     "data": {
      "text/plain": [
       "array([ 0.        +0.j        ,  0.        +0.j        ,\n",
       "        0.19648596+0.16723249j,  0.        +0.j        ,\n",
       "       -0.74092538-0.41871964j,  0.        +0.j        ,\n",
       "       -0.30529108+0.34048106j,  0.        +0.j        ])"
      ]
     },
     "execution_count": 126,
     "metadata": {},
     "output_type": "execute_result"
    }
   ],
   "source": [
    "(apt.U3.reshape((4,4))@vec).flatten()"
   ]
  },
  {
   "cell_type": "code",
   "execution_count": 127,
   "metadata": {},
   "outputs": [
    {
     "data": {
      "text/plain": [
       "array([ 0.        +0.j        ,  0.        +0.j        ,\n",
       "        0.19648596+0.16723249j,  0.        +0.j        ,\n",
       "       -0.74092538-0.41871964j,  0.        +0.j        ,\n",
       "       -0.30529108+0.34048106j,  0.        +0.j        ])"
      ]
     },
     "execution_count": 127,
     "metadata": {},
     "output_type": "execute_result"
    }
   ],
   "source": [
    "apt.vec.flatten()"
   ]
  },
  {
   "cell_type": "code",
   "execution_count": null,
   "metadata": {},
   "outputs": [],
   "source": []
  },
  {
   "cell_type": "code",
   "execution_count": 67,
   "metadata": {},
   "outputs": [],
   "source": [
    "uu=apt.generate_U3(apt.rng)"
   ]
  },
  {
   "cell_type": "code",
   "execution_count": 70,
   "metadata": {},
   "outputs": [
    {
     "data": {
      "text/plain": [
       "array([[0.+0.j, 0.+0.j, 0.+0.j],\n",
       "       [0.+0.j, 0.+0.j, 0.+0.j],\n",
       "       [0.+0.j, 0.+0.j, 0.+0.j]])"
      ]
     },
     "execution_count": 70,
     "metadata": {},
     "output_type": "execute_result"
    }
   ],
   "source": [
    "apt.U3.reshape((4,4))[1:,1:]-uu"
   ]
  },
  {
   "cell_type": "code",
   "execution_count": 25,
   "metadata": {},
   "outputs": [
    {
     "data": {
      "text/plain": [
       "array([[1.+0.j, 0.+0.j, 0.+0.j, 0.+0.j],\n",
       "       [0.+0.j, 0.+0.j, 0.+0.j, 0.+0.j],\n",
       "       [0.+0.j, 0.+0.j, 0.+0.j, 0.+0.j],\n",
       "       [0.+0.j, 0.+0.j, 0.+0.j, 0.+0.j]])"
      ]
     },
     "execution_count": 25,
     "metadata": {},
     "output_type": "execute_result"
    }
   ],
   "source": [
    "np.around(apt.U3.reshape((4,4)),3)"
   ]
  },
  {
   "cell_type": "code",
   "execution_count": null,
   "metadata": {},
   "outputs": [],
   "source": [
    "contract(self.vec)"
   ]
  },
  {
   "cell_type": "code",
   "execution_count": 11,
   "metadata": {},
   "outputs": [
    {
     "data": {
      "text/plain": [
       "array([0, 1, 2, 3])"
      ]
     },
     "execution_count": 11,
     "metadata": {},
     "output_type": "execute_result"
    }
   ],
   "source": [
    "apt.sites"
   ]
  },
  {
   "cell_type": "code",
   "execution_count": 27,
   "metadata": {},
   "outputs": [
    {
     "data": {
      "text/plain": [
       "array([[[[ 0.        +0.j        ,  0.        +0.j        ],\n",
       "         [ 0.        +0.j        ,  0.        +0.j        ]],\n",
       "\n",
       "        [[-0.74092538-0.41871964j,  0.        +0.j        ],\n",
       "         [ 0.        +0.j        ,  0.        +0.j        ]]],\n",
       "\n",
       "\n",
       "       [[[ 0.32465862-0.24462438j,  0.        +0.j        ],\n",
       "         [ 0.        +0.j        ,  0.        +0.j        ]],\n",
       "\n",
       "        [[-0.3231795 -0.07755089j,  0.        +0.j        ],\n",
       "         [ 0.        +0.j        ,  0.        +0.j        ]]]])"
      ]
     },
     "execution_count": 27,
     "metadata": {},
     "output_type": "execute_result"
    }
   ],
   "source": [
    "apt.unitary(0)"
   ]
  },
  {
   "cell_type": "code",
   "execution_count": 29,
   "metadata": {},
   "outputs": [],
   "source": [
    "uu=apt.U3.reshape((4,4))"
   ]
  },
  {
   "cell_type": "markdown",
   "metadata": {},
   "source": [
    "# Plot"
   ]
  },
  {
   "cell_type": "code",
   "execution_count": 205,
   "metadata": {},
   "outputs": [],
   "source": [
    "import pickle"
   ]
  },
  {
   "cell_type": "code",
   "execution_count": 239,
   "metadata": {},
   "outputs": [],
   "source": [
    "O_map={}\n",
    "TMI_map={}\n",
    "L_list=np.arange(8,20,4)\n",
    "En={8:2000,12:2000,16:500}\n",
    "for L in L_list:\n",
    "    with open(f'APT_En{En[L]}_pm(0.05,0.15,21)_pf(1.00,1.00,1)_L{L}.pickle','rb') as f:\n",
    "        rs=pickle.load(f)\n",
    "        O_map[L]=rs['O']\n",
    "        TMI_map[L]=rs['TMI']\n",
    "        "
   ]
  },
  {
   "cell_type": "code",
   "execution_count": 240,
   "metadata": {},
   "outputs": [
    {
     "data": {
      "text/plain": [
       "<matplotlib.legend.Legend at 0x7f812b4afbe0>"
      ]
     },
     "execution_count": 240,
     "metadata": {},
     "output_type": "execute_result"
    },
    {
     "data": {
      "image/png": "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",
      "text/plain": [
       "<Figure size 640x480 with 1 Axes>"
      ]
     },
     "metadata": {},
     "output_type": "display_data"
    }
   ],
   "source": [
    "fig,ax=plt.subplots()\n",
    "p_m_list=np.linspace(0.05,0.15,21)\n",
    "for i in O_map.keys():\n",
    "    ax.errorbar(p_m_list,O_map[i].mean(axis=(1,2)),O_map[i].std(axis=(1,2))/np.sqrt(O_map[i].shape[-1]),label=f'L={i}',capsize=3)\n",
    "ax.legend()"
   ]
  },
  {
   "cell_type": "code",
   "execution_count": 234,
   "metadata": {},
   "outputs": [
    {
     "data": {
      "text/plain": [
       "0.31622776601683794"
      ]
     },
     "execution_count": 234,
     "metadata": {},
     "output_type": "execute_result"
    }
   ],
   "source": [
    "np.sqrt(0.1)"
   ]
  },
  {
   "cell_type": "code",
   "execution_count": 244,
   "metadata": {},
   "outputs": [
    {
     "data": {
      "text/plain": [
       "(0.04, 0.25)"
      ]
     },
     "execution_count": 244,
     "metadata": {},
     "output_type": "execute_result"
    },
    {
     "data": {
      "image/png": "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",
      "text/plain": [
       "<Figure size 640x480 with 1 Axes>"
      ]
     },
     "metadata": {},
     "output_type": "display_data"
    }
   ],
   "source": [
    "fig,ax=plt.subplots()\n",
    "p_m_list=np.linspace(0.05,0.15,21)\n",
    "for i in TMI_map.keys():\n",
    "    ax.errorbar(p_m_list,TMI_map[i].mean(axis=(1,2))/np.log(2),TMI_map[i].std(axis=(1,2))/np.sqrt(TMI_map[i].shape[-1])/np.log(2),label=f'L={i}',capsize=3)\n",
    "ax.legend()\n",
    "ax.set_xlim(0.04,0.25)"
   ]
  },
  {
   "cell_type": "code",
   "execution_count": null,
   "metadata": {},
   "outputs": [],
   "source": []
  },
  {
   "cell_type": "code",
   "execution_count": 221,
   "metadata": {},
   "outputs": [],
   "source": [
    "O_diag_map={}\n",
    "TMI_diag_map={}\n",
    "L_list=np.arange(8,16,4)\n",
    "for L in L_list:\n",
    "    with open(f'APT_En2000_pm(0.05,0.35,21)_pf(1.00,1.00,-1)_L{L}.pickle','rb') as f:\n",
    "        rs=pickle.load(f)\n",
    "        O_diag_map[L]=rs['O']\n",
    "        TMI_diag_map[L]=rs['TMI']\n",
    "        "
   ]
  },
  {
   "cell_type": "code",
   "execution_count": 228,
   "metadata": {},
   "outputs": [
    {
     "data": {
      "text/plain": [
       "<matplotlib.legend.Legend at 0x7f812b7d2110>"
      ]
     },
     "execution_count": 228,
     "metadata": {},
     "output_type": "execute_result"
    },
    {
     "data": {
      "image/png": "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",
      "text/plain": [
       "<Figure size 640x480 with 1 Axes>"
      ]
     },
     "metadata": {},
     "output_type": "display_data"
    }
   ],
   "source": [
    "fig,ax=plt.subplots()\n",
    "p_m_list=np.linspace(0.05,0.35,21)\n",
    "for i in O_diag_map.keys():\n",
    "    ax.errorbar(p_m_list,O_diag_map[i].mean(axis=(1,2)),O_diag_map[i].std(axis=(1,2))/np.sqrt(O_diag_map[i].shape[-1]),label=f'L={i}',capsize=3)\n",
    "ax.legend()"
   ]
  },
  {
   "cell_type": "code",
   "execution_count": 227,
   "metadata": {},
   "outputs": [
    {
     "data": {
      "text/plain": [
       "<matplotlib.legend.Legend at 0x7f812b753d90>"
      ]
     },
     "execution_count": 227,
     "metadata": {},
     "output_type": "execute_result"
    },
    {
     "data": {
      "image/png": "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",
      "text/plain": [
       "<Figure size 640x480 with 1 Axes>"
      ]
     },
     "metadata": {},
     "output_type": "display_data"
    }
   ],
   "source": [
    "fig,ax=plt.subplots()\n",
    "p_m_list=np.linspace(0.05,0.35,21)\n",
    "for i in TMI_diag_map.keys():\n",
    "    ax.errorbar(p_m_list,TMI_diag_map[i].mean(axis=(1,2))/np.log(2),TMI_diag_map[i].std(axis=(1,2))/np.sqrt(TMI_diag_map[i].shape[-1])/np.log(2),label=f'L={i}',capsize=3)\n",
    "ax.legend()"
   ]
  },
  {
   "cell_type": "code",
   "execution_count": 255,
   "metadata": {},
   "outputs": [],
   "source": [
    "with open('APT_En(0,2)_EnC(0,2)_pm(0.05,0.15,11)_pf(1.00,1.00,1)_L8.pickle','rb') as f:\n",
    "    rs=pickle.load(f)\n",
    "    oo=rs['O']\n",
    "    # tmi=rs['TMI']"
   ]
  },
  {
   "cell_type": "code",
   "execution_count": 256,
   "metadata": {},
   "outputs": [
    {
     "data": {
      "text/plain": [
       "(11, 1, 2, 2)"
      ]
     },
     "execution_count": 256,
     "metadata": {},
     "output_type": "execute_result"
    }
   ],
   "source": [
    "oo.shape"
   ]
  },
  {
   "cell_type": "code",
   "execution_count": 257,
   "metadata": {},
   "outputs": [
    {
     "data": {
      "text/plain": [
       "(21, 1, 2, 2)"
      ]
     },
     "execution_count": 257,
     "metadata": {},
     "output_type": "execute_result"
    }
   ],
   "source": [
    "tmi.shape"
   ]
  },
  {
   "cell_type": "code",
   "execution_count": 261,
   "metadata": {},
   "outputs": [
    {
     "data": {
      "text/plain": [
       "array([[[3.99481652e-01, 3.78755744e-01]],\n",
       "\n",
       "       [[3.65080297e-01, 1.99741179e-01]],\n",
       "\n",
       "       [[2.71837972e-01, 1.61734174e-01]],\n",
       "\n",
       "       [[2.48833381e-01, 1.40367724e-01]],\n",
       "\n",
       "       [[2.80323829e-01, 2.29836254e-01]],\n",
       "\n",
       "       [[2.67793312e-01, 2.45926031e-01]],\n",
       "\n",
       "       [[3.35357064e-01, 3.69284929e-04]],\n",
       "\n",
       "       [[2.72471927e-01, 5.42521560e-02]],\n",
       "\n",
       "       [[2.80116171e-01, 1.83542242e-01]],\n",
       "\n",
       "       [[2.15373913e-01, 9.79286746e-02]],\n",
       "\n",
       "       [[1.33162465e-01, 2.17622723e-01]]])"
      ]
     },
     "execution_count": 261,
     "metadata": {},
     "output_type": "execute_result"
    }
   ],
   "source": [
    "oo.mean(axis=(-1))"
   ]
  },
  {
   "cell_type": "code",
   "execution_count": null,
   "metadata": {},
   "outputs": [],
   "source": []
  }
 ],
 "metadata": {
  "kernelspec": {
   "display_name": "base",
   "language": "python",
   "name": "python3"
  },
  "language_info": {
   "codemirror_mode": {
    "name": "ipython",
    "version": 3
   },
   "file_extension": ".py",
   "mimetype": "text/x-python",
   "name": "python",
   "nbconvert_exporter": "python",
   "pygments_lexer": "ipython3",
   "version": "3.12.2"
  }
 },
 "nbformat": 4,
 "nbformat_minor": 2
}
