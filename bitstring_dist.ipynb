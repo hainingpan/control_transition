{
 "cells": [
  {
   "cell_type": "markdown",
   "metadata": {},
   "source": [
    "# Load data"
   ]
  },
  {
   "cell_type": "code",
   "execution_count": null,
   "metadata": {},
   "outputs": [],
   "source": [
    "import h5py\n",
    "import numpy as np\n",
    "import os"
   ]
  },
  {
   "cell_type": "code",
   "execution_count": null,
   "metadata": {},
   "outputs": [],
   "source": [
    "import matplotlib.pyplot as plt"
   ]
  },
  {
   "cell_type": "code",
   "execution_count": null,
   "metadata": {},
   "outputs": [],
   "source": [
    "L_list=np.arange(8,18,2)"
   ]
  },
  {
   "cell_type": "code",
   "execution_count": null,
   "metadata": {},
   "outputs": [],
   "source": [
    "dirpath='Data/Bitstring'"
   ]
  },
  {
   "cell_type": "code",
   "execution_count": null,
   "metadata": {},
   "outputs": [],
   "source": [
    "f_1_3={}\n",
    "for L in L_list:\n",
    "    f_1_3[L]=h5py.File(os.path.join(dirpath,f'CT_En2000_pctrl(0.00,1.00,21)_pproj(0.00,0.00,1)_L({L},{L+2},2)_xj(1-3,2-3)_seed0_64_wf.hdf5'))"
   ]
  },
  {
   "cell_type": "code",
   "execution_count": null,
   "metadata": {},
   "outputs": [],
   "source": [
    "f_0={}\n",
    "for L in L_list:\n",
    "    f_0[L]=h5py.File(os.path.join(dirpath,f'CT_En2000_pctrl(0.00,1.00,21)_pproj(0.00,0.00,1)_L({L},{L+2},2)_xj(0)_seed0_64_wf.hdf5'))"
   ]
  },
  {
   "cell_type": "code",
   "execution_count": null,
   "metadata": {},
   "outputs": [],
   "source": [
    "f_0[8]['wf_8']"
   ]
  },
  {
   "cell_type": "code",
   "execution_count": null,
   "metadata": {},
   "outputs": [],
   "source": [
    "f_0[8]['wf_8'][11].shape"
   ]
  },
  {
   "cell_type": "code",
   "execution_count": null,
   "metadata": {},
   "outputs": [],
   "source": [
    "# for L in L_list:\n",
    "#     f_0[L]=h5py.File(os.path.join(dirpath,f'CT_En100000_pctrl(0.00,1.00,21)_pproj(0.00,0.00,1)_L({L},{L+2},2)_xj(0)_seed0_64_wf.hdf5'))\n",
    "# f_C_1_3=h5py.File(os.path.join(dirpath,'CT_En100000_pctrl(0.00,1.00,21)_L(10,14,2)_xj(1-3,2-3)_C.hdf5'))\n",
    "# f_C_0=h5py.File(os.path.join(dirpath,'CT_En100000_pctrl(0.00,1.00,21)_L(10,14,2)_xj(0)_C.hdf5'))\n",
    "\n",
    "f_C_1_3=h5py.File(os.path.join(dirpath,'CT_En10000_pctrl(0.00,1.00,21)_L(8,10,2)_xj(1-3,2-3)_C.hdf5'))\n",
    "\n",
    "f_C_0=h5py.File(os.path.join(dirpath,'CT_En100000_pctrl(0.00,1.00,21)_L(8,10,2)_xj(0)_C.hdf5'))\n"
   ]
  },
  {
   "cell_type": "code",
   "execution_count": null,
   "metadata": {},
   "outputs": [],
   "source": [
    "def convert_to_re_im(data):\n",
    "    return np.concatenate([(data).real,(data).real],axis=-1)\n",
    "def convert_to_abs2(data):\n",
    "    return np.abs(data)**2\n"
   ]
  },
  {
   "cell_type": "code",
   "execution_count": null,
   "metadata": {},
   "outputs": [],
   "source": [
    "f_1_3[8]['wf_8'].shape"
   ]
  },
  {
   "cell_type": "code",
   "execution_count": null,
   "metadata": {},
   "outputs": [],
   "source": [
    "def convert_bitstring_to_dw(L,ZZ=False):\n",
    "    # The distance of the leftmost \"1\" to the right\n",
    "    dw=[]\n",
    "    for bitstring in range(2**L):\n",
    "        pos=L-1\n",
    "        if ZZ:\n",
    "            bitstring=~(bitstring^(bitstring>>1))\n",
    "            pos-=1\n",
    "        while pos>-1 and bitstring&(1<<pos)==0:\n",
    "            pos-=1\n",
    "        dw.append(pos+1)\n",
    "    return dw"
   ]
  },
  {
   "cell_type": "markdown",
   "metadata": {},
   "source": [
    "# Test classical"
   ]
  },
  {
   "cell_type": "code",
   "execution_count": null,
   "metadata": {},
   "outputs": [],
   "source": [
    "f_C_0.keys()"
   ]
  },
  {
   "cell_type": "code",
   "execution_count": null,
   "metadata": {},
   "outputs": [],
   "source": [
    "f_C_0['L_list'][:]"
   ]
  },
  {
   "cell_type": "code",
   "execution_count": null,
   "metadata": {},
   "outputs": [],
   "source": [
    "f_C_0['p_ctrl_list'][:]"
   ]
  },
  {
   "cell_type": "code",
   "execution_count": null,
   "metadata": {},
   "outputs": [],
   "source": [
    "f_C_0['vec'].shape"
   ]
  },
  {
   "cell_type": "code",
   "execution_count": null,
   "metadata": {},
   "outputs": [],
   "source": [
    "basis,counts=np.unique(f_C_0['vec'][0,12],return_counts=True)"
   ]
  },
  {
   "cell_type": "code",
   "execution_count": null,
   "metadata": {},
   "outputs": [],
   "source": [
    "plt.bar(x=basis, height=counts,width=1)\n",
    "plt.yscale('log')\n",
    "plt.xscale('log')"
   ]
  },
  {
   "cell_type": "code",
   "execution_count": null,
   "metadata": {},
   "outputs": [],
   "source": [
    "basis,counts=np.unique(f_C['vec'][0,10],return_counts=True)"
   ]
  },
  {
   "cell_type": "code",
   "execution_count": null,
   "metadata": {},
   "outputs": [],
   "source": []
  },
  {
   "cell_type": "markdown",
   "metadata": {},
   "source": [
    "# Connected part"
   ]
  },
  {
   "cell_type": "code",
   "execution_count": null,
   "metadata": {},
   "outputs": [],
   "source": [
    "p_proj_list=np.linspace(0,1,21)\n",
    "p_ctrl_list=np.linspace(0,1,21)"
   ]
  },
  {
   "cell_type": "code",
   "execution_count": null,
   "metadata": {},
   "outputs": [],
   "source": [
    "dw_0={L:np.array(convert_bitstring_to_dw(L)) for L in L_list}"
   ]
  },
  {
   "cell_type": "code",
   "execution_count": null,
   "metadata": {},
   "outputs": [],
   "source": [
    "def connected_moment(dw_0,f_0,L_list,p_ctrl_list):\n",
    "    f_FDW_list=np.zeros((len(L_list),p_ctrl_list.shape[0]))\n",
    "    f22_FDW_list=np.zeros((len(L_list),p_ctrl_list.shape[0]))\n",
    "    f4_FDW_list=np.zeros((len(L_list),p_ctrl_list.shape[0]))\n",
    "    for L_idx,L in enumerate(L_list):\n",
    "        for p_ctrl_idx,p_ctrl in enumerate(p_ctrl_list):\n",
    "            wf_abs=(convert_to_abs2(f_0[L][f'wf_{L}'][p_ctrl_idx,0,0,...,0]).reshape((-1,2000))) # 256,2000\n",
    "            # f_FDW=np.mean(dw_0[L]@wf_abs)\n",
    "            # f2_FDW=np.mean(((dw_0[L]-f_FDW)**2@wf_abs)**2)\n",
    "            # f4_FDW=np.mean((dw_0[L]-f_FDW)**4@wf_abs)\n",
    "\n",
    "            f_FDW=(dw_0[L]@wf_abs)  # 2000,\n",
    "            F_f=(dw_0[L][:,np.newaxis]-f_FDW)\n",
    "            f22_FDW=np.mean(np.sum(F_f**2*wf_abs,axis=0)**2)\n",
    "            f4_FDW=np.mean(np.sum(F_f*wf_abs,axis=0)**4)\n",
    "\n",
    "\n",
    "            # f2_FDW=np.mean((np.sum((dw_0[L][:,np.newaxis]-f_FDW)**2*wf_abs,axis=0))**2)\n",
    "            # f4_FDW=np.mean((np.sum((dw_0[L][:,np.newaxis]-f_FDW)**4*wf_abs,axis=0)))\n",
    "\n",
    "\n",
    "            f_FDW_list[L_idx,p_ctrl_idx]=np.mean(f_FDW)\n",
    "            f22_FDW_list[L_idx,p_ctrl_idx]=(f22_FDW)\n",
    "            f4_FDW_list[L_idx,p_ctrl_idx]=(f4_FDW)\n",
    "    return f_FDW_list,f22_FDW_list,f4_FDW_list\n"
   ]
  },
  {
   "cell_type": "code",
   "execution_count": null,
   "metadata": {},
   "outputs": [],
   "source": [
    "f_FDW_0_list,f22_FDW_0_list,f4_FDW_0_list=connected_moment(dw_0,f_0,L_list,p_ctrl_list)"
   ]
  },
  {
   "cell_type": "code",
   "execution_count": null,
   "metadata": {},
   "outputs": [],
   "source": [
    "plt.plot(p_ctrl_list,f22_FDW_0_list.T)"
   ]
  },
  {
   "cell_type": "code",
   "execution_count": null,
   "metadata": {},
   "outputs": [],
   "source": [
    "plt.plot(p_ctrl_list,f4_FDW_list.T)"
   ]
  },
  {
   "cell_type": "code",
   "execution_count": null,
   "metadata": {},
   "outputs": [],
   "source": [
    "plt.plot(p_ctrl_list,(f22_FDW_list-f4_FDW_list).T)\n",
    "plt.grid('on')\n",
    "plt.axvline(x=1/2)"
   ]
  },
  {
   "cell_type": "code",
   "execution_count": null,
   "metadata": {},
   "outputs": [],
   "source": [
    "fig,ax=plt.subplots()\n",
    "\n",
    "for (L_idx,L),color in zip(enumerate(L_list),['r','b','g','c','m','y','k']):\n",
    "    ax.plot(p_ctrl_list,(f22_FDW_0_list[L_idx]-f4_FDW_0_list[L_idx]),label=f'L={L}',color=color)\n",
    "    # ax.plot(p_ctrl_list,np.sqrt(f4_FDW_0_list[L_idx]-f2_FDW_0_list[L_idx])/np.log(L),label=f'L={L}',color=color)\n",
    "ax.grid('on')\n",
    "ax.axvline(x=1/2)\n",
    "ax.legend()\n",
    "ax.set_xlabel('$p_{ctrl}$')\n",
    "ax.set_ylabel('Connected of 4th moment')"
   ]
  },
  {
   "cell_type": "code",
   "execution_count": null,
   "metadata": {},
   "outputs": [],
   "source": [
    "dw_1_3={L:np.array(convert_bitstring_to_dw(L,ZZ=True)) for L in L_list}"
   ]
  },
  {
   "cell_type": "code",
   "execution_count": null,
   "metadata": {},
   "outputs": [],
   "source": [
    "f_FDW_1_3_list,f22_FDW_1_3_list,f4_FDW_1_3_list=connected_moment(dw_1_3,f_1_3,L_list,p_ctrl_list)"
   ]
  },
  {
   "cell_type": "code",
   "execution_count": null,
   "metadata": {},
   "outputs": [],
   "source": [
    "fig,ax=plt.subplots()\n",
    "for (L_idx,L),color in zip(enumerate(L_list),['r','b','g','c','m','y','k']):\n",
    "    ax.plot(p_ctrl_list,(f22_FDW_1_3_list[L_idx]-f4_FDW_1_3_list[L_idx]),label=f'L={L}',color=color)\n",
    "    # ax.plot(p_ctrl_list,np.sqrt(f4_FDW_1_3_list[L_idx]-f2_FDW_1_3_list[L_idx])/np.log(L),label=f'L={L}',color=color)\n",
    "ax.grid('on')\n",
    "ax.axvline(x=1/2)\n",
    "ax.legend()\n",
    "ax.set_xlabel('$p_{ctrl}$')\n",
    "ax.set_ylabel('Connected of 4th moment')\n"
   ]
  },
  {
   "cell_type": "markdown",
   "metadata": {},
   "source": [
    "## Another try: mutual information"
   ]
  },
  {
   "cell_type": "markdown",
   "metadata": {},
   "source": [
    "I3(A:B:C)=I2(A:B)+I2(A:C)-I2(A:BC)\n",
    "I2(A:B)> 1/2 <O_A O_B>^2 / |O_A|^2 |O_B|^2"
   ]
  },
  {
   "cell_type": "markdown",
   "metadata": {},
   "source": [
    "### Order Parameter"
   ]
  },
  {
   "cell_type": "code",
   "execution_count": null,
   "metadata": {},
   "outputs": [],
   "source": [
    "def Z(L,regime,):\n",
    "    return np.array([regime[1]-regime[0]-2*bin(idx).replace('0b','').zfill(L)[regime[0]:regime[1]].count('1') for idx in range(2**L)])\n"
   ]
  },
  {
   "cell_type": "code",
   "execution_count": null,
   "metadata": {},
   "outputs": [],
   "source": [
    "def ZZ(L,regime,):\n",
    "    ZZ_list=[]\n",
    "    for idx in range(2**L):\n",
    "        bitstring_reg=bin(idx).replace('0b','').zfill(L)\n",
    "        ZZ_list.append(-np.sum([(1-2*int(i))*(1-2*int(j)) for i,j in zip(bitstring_reg[regime[0]:regime[1]-1] , bitstring_reg[regime[0]+1:regime[1]])]))\n",
    "    return np.array(ZZ_list)"
   ]
  },
  {
   "cell_type": "code",
   "execution_count": null,
   "metadata": {},
   "outputs": [],
   "source": [
    "def bitstring_to_dw(bitstring,L,ZZ):\n",
    "    pos=L-1\n",
    "    if ZZ:\n",
    "        bitstring=~(bitstring^(bitstring>>1))\n",
    "        pos-=1\n",
    "    while pos>-1 and bitstring&(1<<pos)==0:\n",
    "        pos-=1\n",
    "    return pos+1\n"
   ]
  },
  {
   "cell_type": "code",
   "execution_count": null,
   "metadata": {},
   "outputs": [],
   "source": [
    "{bin(x).replace('0b','').zfill(4):bitstring_to_dw(x,L=4,ZZ=False) for x in range(2**4)}"
   ]
  },
  {
   "cell_type": "code",
   "execution_count": null,
   "metadata": {},
   "outputs": [],
   "source": [
    "{bin(x).replace('0b','').zfill(4):bitstring_to_dw(x,L=4,ZZ=True) for x in range(2**4)}"
   ]
  },
  {
   "cell_type": "code",
   "execution_count": null,
   "metadata": {},
   "outputs": [],
   "source": [
    "def FDW(L,regime,ZZ):\n",
    "    # FDW\n",
    "    FDW_list=[]\n",
    "    for idx in range(2**L):\n",
    "        bitstring_reg=bin(idx).replace('0b','').zfill(L)[regime[0]:regime[1]]\n",
    "        FDW_list.append( bitstring_to_dw(int(bitstring_reg,2),L=regime[1]-regime[0],ZZ=ZZ))\n",
    "    return np.array(FDW_list)"
   ]
  },
  {
   "cell_type": "code",
   "execution_count": null,
   "metadata": {},
   "outputs": [],
   "source": [
    "{bin(idx).replace('0b','').zfill(4):fdw for idx,fdw in enumerate(FDW(4,(0,2),ZZ=True))}"
   ]
  },
  {
   "cell_type": "markdown",
   "metadata": {},
   "source": [
    "### Connected"
   ]
  },
  {
   "cell_type": "code",
   "execution_count": null,
   "metadata": {},
   "outputs": [],
   "source": [
    "def average_Z(wf,OP):\n",
    "    wf_abs2=convert_to_abs2(wf).reshape((-1,2000))\n",
    "    return np.mean(OP@wf_abs2)\n",
    "def connected(wf,OP1,OP2):\n",
    "    wf_abs2=convert_to_abs2(wf).reshape((-1,2000))\n",
    "    return np.mean(((OP1*OP2) @ (wf_abs2)  - (OP1 @ wf_abs2)  * (OP2@wf_abs2) )**2)\n",
    "def connected2(wf,OP1,OP2):\n",
    "    wf_abs2=convert_to_abs2(wf).reshape((-1,2000)) # state, circuit\n",
    "    return np.mean(((OP1*OP2) @ (wf_abs2))**2- (OP1 @ wf_abs2)**2 * (OP2 @ wf_abs2)**2)\n",
    "def connected3(wf,OP1,OP2):\n",
    "    wf_abs2=convert_to_abs2(wf).reshape((-1,2000))\n",
    "    conected_state=((OP1*OP2) @ (wf_abs2))**2- (OP1 @ wf_abs2)**2 * (OP2 @ wf_abs2)**2\n",
    "    return np.mean(conected_state**2)-np.mean(conected_state)**2\n",
    "def connected4(wf,OP1,OP2):\n",
    "    wf_abs2=convert_to_abs2(wf).reshape((-1,2000))\n",
    "    conected_state=((OP1*OP2) @ (wf_abs2))**2- (OP1 @ wf_abs2)**2 * (OP2 @ wf_abs2)**2\n",
    "    return np.mean(conected_state**4)-np.mean(conected_state**2)**2\n",
    "def I2(wf,OP1,OP2):\n",
    "    connected_C=connected(wf,OP1,OP2)\n",
    "    return 1/2* connected_C / (np.sum(np.abs(OP1))**2 * np.sum(np.abs(OP2))**2)\n",
    "\n",
    "def I3(wf,OP1,OP2,OP3,OP23):\n",
    "    return I2(wf,OP1,OP2) +I2(wf,OP1,OP3) - I2(wf,OP1,OP23)\n",
    "    "
   ]
  },
  {
   "cell_type": "code",
   "execution_count": null,
   "metadata": {},
   "outputs": [],
   "source": [
    "np.sum(np.abs(OP1))**2"
   ]
  },
  {
   "cell_type": "code",
   "execution_count": null,
   "metadata": {},
   "outputs": [],
   "source": [
    "np.sum(np.abs(OP2))**2"
   ]
  },
  {
   "cell_type": "code",
   "execution_count": null,
   "metadata": {},
   "outputs": [],
   "source": [
    "np.sum(np.abs(OP23))**2"
   ]
  },
  {
   "cell_type": "code",
   "execution_count": null,
   "metadata": {},
   "outputs": [],
   "source": [
    "np.sum(np.abs(OP1+OP2))**2"
   ]
  },
  {
   "cell_type": "code",
   "execution_count": null,
   "metadata": {},
   "outputs": [],
   "source": [
    "L=4\n",
    "OP1=Z(L,(L//4*0,L//4*1))\n",
    "OP2=Z(L,(L//4*1,L//4*2))\n",
    "OP3=Z(L,(L//4*2,L//4*3))"
   ]
  },
  {
   "cell_type": "code",
   "execution_count": null,
   "metadata": {},
   "outputs": [],
   "source": [
    "np.sum(np.abs(OP2+OP3))**2"
   ]
  },
  {
   "cell_type": "code",
   "execution_count": null,
   "metadata": {},
   "outputs": [],
   "source": [
    "L=4\n",
    "OP=Z(L,(L//4*0,L//4*4))/L"
   ]
  },
  {
   "cell_type": "code",
   "execution_count": null,
   "metadata": {},
   "outputs": [],
   "source": [
    "{bin(idx).replace('0b','').zfill(L):o for idx, o in enumerate(OP)}"
   ]
  },
  {
   "cell_type": "code",
   "execution_count": null,
   "metadata": {},
   "outputs": [],
   "source": [
    "L_list=[8,12,16]"
   ]
  },
  {
   "cell_type": "code",
   "execution_count": null,
   "metadata": {},
   "outputs": [],
   "source": [
    "def connected_correlation(f_0,connected,Z,partition='quarter'):\n",
    "    connected_list=np.zeros((len(L_list),len(p_ctrl_list)))\n",
    "    for L_idx, L in tqdm(enumerate(L_list)):\n",
    "        OP={'quarter':[Z(L,(L//4*0,L//4*1)),Z(L,(L//4*2,L//4*3))],\n",
    "        'half':[Z(L,(L//2*0,L//2*1)),Z(L,(L//2,L//2*2))],\n",
    "        'full':[Z(L,(0,L)),Z(L,(0,L))]}\n",
    "        for p_ctrl_idx,p_ctrl in enumerate(p_ctrl_list):\n",
    "            connected_list[L_idx,p_ctrl_idx]=(connected(f_0[L][f'wf_{L}'][p_ctrl_idx,0,0,...,0],OP[partition][0],OP[partition][1]))\n",
    "    return connected_list\n",
    "            "
   ]
  },
  {
   "cell_type": "code",
   "execution_count": null,
   "metadata": {},
   "outputs": [],
   "source": [
    "def plot_connected(connected_1_3_list,ylabel):\n",
    "    # ylabel= r'$\\mathbb{E}_C[\\langle O_{[0,\\frac{L}{4})} O_{[\\frac{L}{2},\\frac{3L}{4})}\\rangle_c]$'\n",
    "    # ylabel= r'$\\mathbb{E}_C[ {\\langle{O_[0,\\frac{L}{4}) O_{[\\frac{L}{2},\\frac{3L}{4})}}}\\rangle^2-\\langle{O_{[0,\\frac{L}{4})}}\\rangle^2 \\langle{O_{[\\frac{L}{2},\\frac{3L}{4})}\\rangle}^2 ]$'\n",
    "    fig,ax=plt.subplots()\n",
    "    for L_idx,L in enumerate(L_list):\n",
    "        ax.plot(p_ctrl_list,connected_1_3_list[L_idx],label=f'L={L}')\n",
    "    ax.legend()\n",
    "    ax.set_xlabel('$p_{ctrl}$')\n",
    "    ax.set_ylabel(ylabel)\n",
    "    ax.grid('on')"
   ]
  },
  {
   "cell_type": "markdown",
   "metadata": {},
   "source": [
    "### 0"
   ]
  },
  {
   "cell_type": "code",
   "execution_count": null,
   "metadata": {},
   "outputs": [],
   "source": []
  },
  {
   "cell_type": "code",
   "execution_count": null,
   "metadata": {},
   "outputs": [],
   "source": [
    "connected_0_quarter_list=connected_correlation(f_0,connected,Z,partition='quarter')"
   ]
  },
  {
   "cell_type": "code",
   "execution_count": null,
   "metadata": {},
   "outputs": [],
   "source": [
    "plot_connected(connected_0_quarter_list,r'$\\mathbb{E}_C[\\langle O_{[0,\\frac{L}{4})} O_{[\\frac{L}{2},\\frac{3L}{4})}\\rangle_c]$')"
   ]
  },
  {
   "cell_type": "code",
   "execution_count": null,
   "metadata": {},
   "outputs": [],
   "source": [
    "connected2_0_quarter_list=connected_correlation(f_0,connected2,Z,partition='quarter')"
   ]
  },
  {
   "cell_type": "code",
   "execution_count": null,
   "metadata": {},
   "outputs": [],
   "source": [
    "plot_connected(connected2_0_quarter_list,ylabel=r'$\\mathbb{E}_C[ {\\langle{O_[0,\\frac{L}{4}) O_{[\\frac{L}{2},\\frac{3L}{4})}}}\\rangle^2-\\langle{O_{[0,\\frac{L}{4})}}\\rangle^2 \\langle{O_{[\\frac{L}{2},\\frac{3L}{4})}\\rangle}^2 ]$')"
   ]
  },
  {
   "cell_type": "code",
   "execution_count": null,
   "metadata": {},
   "outputs": [],
   "source": [
    "connected3_0_quarter_list=connected_correlation(f_0,connected3,Z,partition='quarter')"
   ]
  },
  {
   "cell_type": "code",
   "execution_count": null,
   "metadata": {},
   "outputs": [],
   "source": [
    "plot_connected(connected3_0_quarter_list,ylabel=r'$\\mathbb{E}_C[ \\langle{O_{[0,L/4)} O_{[L/2,3L/4)}}\\rangle_c^2] -\\mathbb{E}_C[\\langle{O_{[0,L/4)} O_{[L/2,3L/4)}}\\rangle_c]^2 $')"
   ]
  },
  {
   "cell_type": "code",
   "execution_count": null,
   "metadata": {},
   "outputs": [],
   "source": [
    "connected4_0_quarter_list=connected_correlation(f_0,connected4,Z,partition='quarter')"
   ]
  },
  {
   "cell_type": "code",
   "execution_count": null,
   "metadata": {},
   "outputs": [],
   "source": [
    "plot_connected(connected4_0_quarter_list,ylabel=r'$\\mathbb{E}_C[ \\langle{O_A O_B}\\rangle_c^4] -\\mathbb{E}_C[\\langle{O_A O_B}\\rangle_c^2]^2 $')\n",
    "\n",
    "## This is a bit weird..."
   ]
  },
  {
   "cell_type": "code",
   "execution_count": null,
   "metadata": {},
   "outputs": [],
   "source": [
    "connected_0_full_list=connected_correlation(f_0,connected,Z,partition='full')"
   ]
  },
  {
   "cell_type": "code",
   "execution_count": null,
   "metadata": {},
   "outputs": [],
   "source": [
    "plot_connected(connected_0_full_list,ylabel=r'$\\mathbb{E}_C[\\langle O_{[0,L)} O_{[0,L)}\\rangle_c]$')"
   ]
  },
  {
   "cell_type": "code",
   "execution_count": null,
   "metadata": {},
   "outputs": [],
   "source": [
    "connected2_0_full_list=connected_correlation(f_0,connected2,Z,partition='full')"
   ]
  },
  {
   "cell_type": "code",
   "execution_count": null,
   "metadata": {},
   "outputs": [],
   "source": [
    "plot_connected(connected2_0_full_list,ylabel=r'$\\mathbb{E}_C[ {\\langle{O_{[0,L)} O_{[0,L)]}}}\\rangle^2-\\langle{O_{[0,L)}}\\rangle^2 \\langle{O_{[0,L)]}\\rangle}^2 ]$')"
   ]
  },
  {
   "cell_type": "code",
   "execution_count": null,
   "metadata": {},
   "outputs": [],
   "source": [
    "connected3_0_full_list=connected_correlation(f_0,connected3,Z,partition='full')"
   ]
  },
  {
   "cell_type": "code",
   "execution_count": null,
   "metadata": {},
   "outputs": [],
   "source": [
    "plot_connected(connected3_0_full_list,ylabel=r'$\\mathbb{E}_C[ \\langle{O_{[0,L/4)} O_{[L/2,3L/4)}}\\rangle_c^2] -\\mathbb{E}_C[\\langle{O_{[0,L/4)} O_{[L/2,3L/4)}}\\rangle_c]^2 $')"
   ]
  },
  {
   "cell_type": "code",
   "execution_count": null,
   "metadata": {},
   "outputs": [],
   "source": [
    "connected_0_half_list=connected_correlation(f_0,connected,Z,partition='half')"
   ]
  },
  {
   "cell_type": "code",
   "execution_count": null,
   "metadata": {},
   "outputs": [],
   "source": [
    "plot_connected(connected_0_half_list,ylabel=r'$\\mathbb{E}_C[\\langle O_{[0,L/2)} O_{[L/2,L)}\\rangle_c]$')"
   ]
  },
  {
   "cell_type": "code",
   "execution_count": null,
   "metadata": {},
   "outputs": [],
   "source": [
    "connected2_0_half_list=connected_correlation(f_0,connected2,Z,partition='half')"
   ]
  },
  {
   "cell_type": "code",
   "execution_count": null,
   "metadata": {},
   "outputs": [],
   "source": [
    "plot_connected(connected2_0_half_list,ylabel=r'$\\mathbb{E}_C[ {\\langle{O_{[0,L/2)} O_{[L/2,L)]}}}\\rangle^2-\\langle{O_{[0,L/2)}}\\rangle^2 \\langle{O_{[L/2,L)]}\\rangle}^2 ]$')"
   ]
  },
  {
   "cell_type": "code",
   "execution_count": null,
   "metadata": {},
   "outputs": [],
   "source": [
    "connected3_0_half_list=connected_correlation(f_0,connected3,Z,partition='half')"
   ]
  },
  {
   "cell_type": "code",
   "execution_count": null,
   "metadata": {},
   "outputs": [],
   "source": [
    "plot_connected(connected3_0_half_list,ylabel=r'$\\mathbb{E}_C[ \\langle{O_{[0,L/2)} O_{[L/2,L)}}\\rangle_c^2] -\\mathbb{E}_C[\\langle{O_{[0,L/2)} O_{[L/2,L)}}\\rangle_c]^2 $')"
   ]
  },
  {
   "cell_type": "code",
   "execution_count": null,
   "metadata": {},
   "outputs": [],
   "source": [
    "from functools import partial"
   ]
  },
  {
   "cell_type": "code",
   "execution_count": null,
   "metadata": {},
   "outputs": [],
   "source": [
    "connected_0_F_full_list=connected_correlation(f_0,connected,partial(FDW,ZZ=False),partition='full')"
   ]
  },
  {
   "cell_type": "code",
   "execution_count": null,
   "metadata": {},
   "outputs": [],
   "source": [
    "plot_connected(connected_0_F_full_list,ylabel=r'$\\mathbb{E}_C[\\langle O_{[0,L)} O_{[0,L)}\\rangle_c]$')"
   ]
  },
  {
   "cell_type": "code",
   "execution_count": null,
   "metadata": {},
   "outputs": [],
   "source": [
    "connected2_0_F_full_list=connected_correlation(f_0,connected2,partial(FDW,ZZ=False),partition='full')"
   ]
  },
  {
   "cell_type": "code",
   "execution_count": null,
   "metadata": {},
   "outputs": [],
   "source": [
    "plot_connected(connected2_0_F_full_list,ylabel=r'$\\mathbb{E}_C[ {\\langle{O_{[0,L)} O_{[L,L)]}}}\\rangle^2-\\langle{O_{[0,L)}}\\rangle^2 \\langle{O_{[L,L)]}\\rangle}^2 ]$')"
   ]
  },
  {
   "cell_type": "code",
   "execution_count": null,
   "metadata": {},
   "outputs": [],
   "source": [
    "connected3_0_F_full_list=connected_correlation(f_0,connected3,partial(FDW,ZZ=False),partition='full')"
   ]
  },
  {
   "cell_type": "code",
   "execution_count": null,
   "metadata": {},
   "outputs": [],
   "source": [
    "plot_connected(connected3_0_F_full_list,ylabel=r'$\\mathbb{E}_C[ \\langle{O_{[0,L)} O_{[0,L)}}\\rangle_c^2] -\\mathbb{E}_C[\\langle{O_{[0,L)} O_{[0,L)}}\\rangle_c]^2 $')"
   ]
  },
  {
   "cell_type": "code",
   "execution_count": null,
   "metadata": {},
   "outputs": [],
   "source": [
    "connected_0_F_half_list=connected_correlation(f_0,connected,partial(FDW,ZZ=False),partition='half')"
   ]
  },
  {
   "cell_type": "code",
   "execution_count": null,
   "metadata": {},
   "outputs": [],
   "source": [
    "plot_connected(connected_0_F_half_list,ylabel=r'$\\mathbb{E}_C[\\langle O_{[0,L/2)} O_{[L/2,L)}\\rangle_c]$')"
   ]
  },
  {
   "cell_type": "code",
   "execution_count": null,
   "metadata": {},
   "outputs": [],
   "source": [
    "connected2_0_F_half_list=connected_correlation(f_0,connected2,partial(FDW,ZZ=False),partition='half')"
   ]
  },
  {
   "cell_type": "code",
   "execution_count": null,
   "metadata": {},
   "outputs": [],
   "source": [
    "plot_connected(connected2_0_F_half_list,ylabel=r'$\\mathbb{E}_C[ {\\langle{O_{[0,L/2)} O_{[L/2,L)]}}}\\rangle^2-\\langle{O_{[0,L/2)}}\\rangle^2 \\langle{O_{[L/2,L)]}\\rangle}^2 ]$')"
   ]
  },
  {
   "cell_type": "code",
   "execution_count": null,
   "metadata": {},
   "outputs": [],
   "source": [
    "connected3_0_F_half_list=connected_correlation(f_0,connected3,partial(FDW,ZZ=False),partition='half')"
   ]
  },
  {
   "cell_type": "code",
   "execution_count": null,
   "metadata": {},
   "outputs": [],
   "source": [
    "plot_connected(connected3_0_F_half_list,ylabel=r'$\\mathbb{E}_C[ \\langle{O_{[0,L/2)} O_{[L/2,L)}}\\rangle_c^2] -\\mathbb{E}_C[\\langle{O_{[0,L/2)} O_{[L/2,L)}}\\rangle_c]^2 $')"
   ]
  },
  {
   "cell_type": "code",
   "execution_count": null,
   "metadata": {},
   "outputs": [],
   "source": [
    "connected_0_F_quarter_list=connected_correlation(f_0,connected,partial(FDW,ZZ=False),partition='quarter')"
   ]
  },
  {
   "cell_type": "code",
   "execution_count": null,
   "metadata": {},
   "outputs": [],
   "source": [
    "plot_connected(connected_0_F_quarter_list,ylabel=r'$\\mathbb{E}_C[\\langle O_{[0,L/4)} O_{[L/2,3L/4)}\\rangle_c]$')"
   ]
  },
  {
   "cell_type": "code",
   "execution_count": null,
   "metadata": {},
   "outputs": [],
   "source": [
    "connected2_0_F_quarter_list=connected_correlation(f_0,connected2,partial(FDW,ZZ=False),partition='quarter')"
   ]
  },
  {
   "cell_type": "code",
   "execution_count": null,
   "metadata": {},
   "outputs": [],
   "source": [
    "plot_connected(connected2_0_F_quarter_list,ylabel=r'$\\mathbb{E}_C[ {\\langle{O_{[0,L/4)} O_{[L/2,3L/4)]}}}\\rangle^2-\\langle{O_{[0,L/4)}}\\rangle^2 \\langle{O_{[L/2,3L/4)]}\\rangle}^2 ]$')"
   ]
  },
  {
   "cell_type": "code",
   "execution_count": null,
   "metadata": {},
   "outputs": [],
   "source": [
    "connected3_0_F_quarter_list=connected_correlation(f_0,connected3,partial(FDW,ZZ=False),partition='quarter')"
   ]
  },
  {
   "cell_type": "code",
   "execution_count": null,
   "metadata": {},
   "outputs": [],
   "source": [
    "plot_connected(connected3_0_F_quarter_list,ylabel=r'$\\mathbb{E}_C[ \\langle{O_{[0,L/4)} O_{[L/2,3L/4)}}\\rangle_c^2] -\\mathbb{E}_C[\\langle{O_{[0,L/4)} O_{[L/2,3L/4)}}\\rangle_c]^2 $')"
   ]
  },
  {
   "cell_type": "code",
   "execution_count": null,
   "metadata": {},
   "outputs": [],
   "source": [
    "fig,ax=plt.subplots()\n",
    "for L_idx,L in enumerate(L_list):\n",
    "    ax.plot(p_ctrl_list,I2_list[L_idx],label=f'L={L}')\n",
    "ax.legend()\n",
    "ax.set_xlabel('$p_{ctrl}$')\n",
    "ax.set_ylabel(r'$\\tilde{I_3}$')\n",
    "# ax.set_ylim([0,1e-6])\n",
    "\n",
    "ax.grid('on')"
   ]
  },
  {
   "cell_type": "code",
   "execution_count": null,
   "metadata": {},
   "outputs": [],
   "source": [
    "fig,ax=plt.subplots()\n",
    "for L_idx,L in enumerate(L_list):\n",
    "    if L_idx>1:\n",
    "        ax.plot(p_ctrl_list,I3_list[L_idx],label=f'L={L}')\n",
    "ax.legend()\n",
    "ax.set_xlabel('$p_{ctrl}$')\n",
    "ax.set_ylabel(r'$\\tilde{I_3}$')\n",
    "# ax.set_ylim([0,1e-6])\n",
    "\n",
    "ax.grid('on')"
   ]
  },
  {
   "cell_type": "markdown",
   "metadata": {},
   "source": [
    "### 1-3"
   ]
  },
  {
   "cell_type": "code",
   "execution_count": null,
   "metadata": {},
   "outputs": [],
   "source": [
    "connected_1_3_quarter_list=connected_correlation(f_1_3,connected,ZZ,partition='quarter')"
   ]
  },
  {
   "cell_type": "code",
   "execution_count": null,
   "metadata": {},
   "outputs": [],
   "source": [
    "plot_connected(connected_1_3_quarter_list,r'$\\mathbb{E}_C[\\langle O_{[0,\\frac{L}{4})} O_{[\\frac{L}{2},\\frac{3L}{4})}\\rangle_c]$')"
   ]
  },
  {
   "cell_type": "code",
   "execution_count": null,
   "metadata": {},
   "outputs": [],
   "source": [
    "connected2_1_3_quarter_list=connected_correlation(f_1_3,connected2,ZZ,partition='quarter')\n"
   ]
  },
  {
   "cell_type": "code",
   "execution_count": null,
   "metadata": {},
   "outputs": [],
   "source": [
    "plot_connected(connected2_1_3_quarter_list,ylabel=r'$\\mathbb{E}_C[ {\\langle{O_[0,\\frac{L}{4}) O_{[\\frac{L}{2},\\frac{3L}{4})}}}\\rangle^2-\\langle{O_{[0,\\frac{L}{4})}}\\rangle^2 \\langle{O_{[\\frac{L}{2},\\frac{3L}{4})}\\rangle}^2 ]$')"
   ]
  },
  {
   "cell_type": "code",
   "execution_count": null,
   "metadata": {},
   "outputs": [],
   "source": [
    "connected3_1_3_quarter_list=connected_correlation(f_1_3,connected3,ZZ,partition='quarter')"
   ]
  },
  {
   "cell_type": "code",
   "execution_count": null,
   "metadata": {},
   "outputs": [],
   "source": [
    "plot_connected(connected3_1_3_quarter_list,ylabel=r'$\\mathbb{E}_C[ \\langle{O_{[0,L/4)} O_{[L/2,3L/4)}}\\rangle_c^2] -\\mathbb{E}_C[\\langle{O_{[0,L/4)} O_{[L/2,3L/4)}}\\rangle_c]^2 $')"
   ]
  },
  {
   "cell_type": "code",
   "execution_count": null,
   "metadata": {},
   "outputs": [],
   "source": [
    "connected_1_3_full_list=connected_correlation(f_1_3,connected,ZZ,partition='full')"
   ]
  },
  {
   "cell_type": "code",
   "execution_count": null,
   "metadata": {},
   "outputs": [],
   "source": [
    "plot_connected(connected_1_3_full_list,ylabel=r'$\\mathbb{E}_C[\\langle O_{[0,L)} O_{[0,L)}\\rangle_c]$')"
   ]
  },
  {
   "cell_type": "code",
   "execution_count": null,
   "metadata": {},
   "outputs": [],
   "source": [
    "connected2_1_3_full_list=connected_correlation(f_1_3,connected2,ZZ,partition='full')"
   ]
  },
  {
   "cell_type": "code",
   "execution_count": null,
   "metadata": {},
   "outputs": [],
   "source": [
    "plot_connected(connected2_1_3_full_list,ylabel=r'$\\mathbb{E}_C[ {\\langle{O_{[0,L)} O_{[0,L)]}}}\\rangle^2-\\langle{O_{[0,L)}}\\rangle^2 \\langle{O_{[0,L)]}\\rangle}^2 ]$')"
   ]
  },
  {
   "cell_type": "code",
   "execution_count": null,
   "metadata": {},
   "outputs": [],
   "source": [
    "connected3_1_3_full_list=connected_correlation(f_1_3,connected3,ZZ,partition='full')"
   ]
  },
  {
   "cell_type": "code",
   "execution_count": null,
   "metadata": {},
   "outputs": [],
   "source": [
    "plot_connected(connected3_1_3_full_list,ylabel=r'$\\mathbb{E}_C[ \\langle{O_{[0,L)} O_{[0,L)}}\\rangle_c^2] -\\mathbb{E}_C[\\langle{O_{[0,L)} O_{[0,L)}}\\rangle_c]^2 $')"
   ]
  },
  {
   "cell_type": "code",
   "execution_count": null,
   "metadata": {},
   "outputs": [],
   "source": [
    "connected_1_3_half_list=connected_correlation(f_1_3,connected,ZZ,partition='half')\n"
   ]
  },
  {
   "cell_type": "code",
   "execution_count": null,
   "metadata": {},
   "outputs": [],
   "source": [
    "plot_connected(connected_1_3_half_list,ylabel=r'$\\mathbb{E}_C[\\langle O_{[0,L/2)} O_{[L/2,L)}\\rangle_c]$')"
   ]
  },
  {
   "cell_type": "code",
   "execution_count": null,
   "metadata": {},
   "outputs": [],
   "source": [
    "connected2_1_3_half_list=connected_correlation(f_1_3,connected2,ZZ,partition='half')\n"
   ]
  },
  {
   "cell_type": "code",
   "execution_count": null,
   "metadata": {},
   "outputs": [],
   "source": [
    "plot_connected(connected2_1_3_half_list,ylabel=r'$\\mathbb{E}_C[ {\\langle{O_{[0,L/2)} O_{[L/2,L)]}}}\\rangle^2-\\langle{O_{[0,L/2)}}\\rangle^2 \\langle{O_{[L/2,L)]}\\rangle}^2 ]$')"
   ]
  },
  {
   "cell_type": "code",
   "execution_count": null,
   "metadata": {},
   "outputs": [],
   "source": [
    "connected3_1_3_half_list=connected_correlation(f_1_3,connected3,ZZ,partition='half')\n"
   ]
  },
  {
   "cell_type": "code",
   "execution_count": null,
   "metadata": {},
   "outputs": [],
   "source": [
    "plot_connected(connected3_1_3_half_list,ylabel=r'$\\mathbb{E}_C[ \\langle{O_{[0,L/2)} O_{[L/2,L)}}\\rangle_c^2] -\\mathbb{E}_C[\\langle{O_{[0,L/2)} O_{[L/2,L)}}\\rangle_c]^2 $')"
   ]
  },
  {
   "cell_type": "code",
   "execution_count": null,
   "metadata": {},
   "outputs": [],
   "source": [
    "connected_1_3_F_full_list=connected_correlation(f_1_3,connected,partial(FDW,ZZ=True),partition='full')"
   ]
  },
  {
   "cell_type": "code",
   "execution_count": null,
   "metadata": {},
   "outputs": [],
   "source": [
    "plot_connected(connected_1_3_F_full_list,ylabel=r'$\\mathbb{E}_C[\\langle O_{[0,L)} O_{[0,L)}\\rangle_c]$')"
   ]
  },
  {
   "cell_type": "code",
   "execution_count": null,
   "metadata": {},
   "outputs": [],
   "source": [
    "connected2_1_3_F_full_list=connected_correlation(f_1_3,connected2,partial(FDW,ZZ=True),partition='full')"
   ]
  },
  {
   "cell_type": "code",
   "execution_count": null,
   "metadata": {},
   "outputs": [],
   "source": [
    "plot_connected(connected2_1_3_F_full_list,ylabel=r'$\\mathbb{E}_C[ {\\langle{O_{[0,L)} O_{[L,L)]}}}\\rangle^2-\\langle{O_{[0,L)}}\\rangle^2 \\langle{O_{[L,L)]}\\rangle}^2 ]$')"
   ]
  },
  {
   "cell_type": "code",
   "execution_count": null,
   "metadata": {},
   "outputs": [],
   "source": [
    "connected3_1_3_F_full_list=connected_correlation(f_1_3,connected3,partial(FDW,ZZ=True),partition='full')"
   ]
  },
  {
   "cell_type": "code",
   "execution_count": null,
   "metadata": {},
   "outputs": [],
   "source": [
    "plot_connected(connected3_1_3_F_full_list,ylabel=r'$\\mathbb{E}_C[ \\langle{O_{[0,L)} O_{[0,L)}}\\rangle_c^2] -\\mathbb{E}_C[\\langle{O_{[0,L)} O_{[0,L)}}\\rangle_c]^2 $')"
   ]
  },
  {
   "cell_type": "code",
   "execution_count": null,
   "metadata": {},
   "outputs": [],
   "source": [
    "connected_1_3_F_half_list=connected_correlation(f_1_3,connected,partial(FDW,ZZ=True),partition='half')"
   ]
  },
  {
   "cell_type": "code",
   "execution_count": null,
   "metadata": {},
   "outputs": [],
   "source": [
    "plot_connected(connected_1_3_F_half_list,ylabel=r'$\\mathbb{E}_C[\\langle O_{[0,L/2)} O_{[L/2,L)}\\rangle_c]$')"
   ]
  },
  {
   "cell_type": "code",
   "execution_count": null,
   "metadata": {},
   "outputs": [],
   "source": [
    "connected2_1_3_F_half_list=connected_correlation(f_1_3,connected2,partial(FDW,ZZ=True),partition='half')"
   ]
  },
  {
   "cell_type": "code",
   "execution_count": null,
   "metadata": {},
   "outputs": [],
   "source": [
    "plot_connected(connected2_1_3_F_half_list,ylabel=r'$\\mathbb{E}_C[ {\\langle{O_{[0,L/2)} O_{[L/2,L)]}}}\\rangle^2-\\langle{O_{[0,L/2)}}\\rangle^2 \\langle{O_{[L/2,L)]}\\rangle}^2 ]$')"
   ]
  },
  {
   "cell_type": "code",
   "execution_count": null,
   "metadata": {},
   "outputs": [],
   "source": [
    "connected3_1_3_F_half_list=connected_correlation(f_1_3,connected3,partial(FDW,ZZ=True),partition='half')"
   ]
  },
  {
   "cell_type": "code",
   "execution_count": null,
   "metadata": {},
   "outputs": [],
   "source": [
    "plot_connected(connected3_1_3_F_half_list,ylabel=r'$\\mathbb{E}_C[ \\langle{O_{[0,L/2)} O_{[L/2,L)}}\\rangle_c^2] -\\mathbb{E}_C[\\langle{O_{[0,L/2)} O_{[L/2,L)}}\\rangle_c]^2 $')"
   ]
  },
  {
   "cell_type": "code",
   "execution_count": null,
   "metadata": {},
   "outputs": [],
   "source": [
    "connected_1_3_F_quarter_list=connected_correlation(f_1_3,connected,partial(FDW,ZZ=True),partition='quarter')"
   ]
  },
  {
   "cell_type": "code",
   "execution_count": null,
   "metadata": {},
   "outputs": [],
   "source": [
    "plot_connected(connected_1_3_F_quarter_list,ylabel=r'$\\mathbb{E}_C[\\langle O_{[0,L/4)} O_{[L/2,3L/4)}\\rangle_c]$')"
   ]
  },
  {
   "cell_type": "code",
   "execution_count": null,
   "metadata": {},
   "outputs": [],
   "source": [
    "connected2_1_3_F_quarter_list=connected_correlation(f_1_3,connected2,partial(FDW,ZZ=True),partition='quarter')"
   ]
  },
  {
   "cell_type": "code",
   "execution_count": null,
   "metadata": {},
   "outputs": [],
   "source": [
    "plot_connected(connected2_1_3_F_quarter_list,ylabel=r'$\\mathbb{E}_C[ {\\langle{O_{[0,L/4)} O_{[L/2,3L/4)]}}}\\rangle^2-\\langle{O_{[0,L/4)}}\\rangle^2 \\langle{O_{[L/2,3L/4)]}\\rangle}^2 ]$')"
   ]
  },
  {
   "cell_type": "code",
   "execution_count": null,
   "metadata": {},
   "outputs": [],
   "source": [
    "connected3_1_3_F_quarter_list=connected_correlation(f_1_3,connected3,partial(FDW,ZZ=True),partition='quarter')"
   ]
  },
  {
   "cell_type": "code",
   "execution_count": null,
   "metadata": {},
   "outputs": [],
   "source": [
    "plot_connected(connected3_1_3_F_quarter_list,ylabel=r'$\\mathbb{E}_C[ \\langle{O_{[0,L/4)} O_{[L/2,3L/4)}}\\rangle_c^2] -\\mathbb{E}_C[\\langle{O_{[0,L/4)} O_{[L/2,3L/4)}}\\rangle_c]^2 $')"
   ]
  },
  {
   "cell_type": "code",
   "execution_count": null,
   "metadata": {},
   "outputs": [],
   "source": []
  },
  {
   "cell_type": "code",
   "execution_count": null,
   "metadata": {},
   "outputs": [],
   "source": [
    "def connected_moment(dw_0,f_0,L_list,p_ctrl_list):\n",
    "    f_FDW_list=np.zeros((len(L_list),p_ctrl_list.shape[0]))\n",
    "    f22_FDW_list=np.zeros((len(L_list),p_ctrl_list.shape[0]))\n",
    "    f4_FDW_list=np.zeros((len(L_list),p_ctrl_list.shape[0]))\n",
    "    for L_idx,L in enumerate(L_list):\n",
    "        for p_ctrl_idx,p_ctrl in enumerate(p_ctrl_list):\n",
    "            wf_abs=(convert_to_abs2(f_0[L][f'wf_{L}'][p_ctrl_idx,0,0,...,0]).reshape((-1,2000))) # 256,2000\n",
    "            # f_FDW=np.mean(dw_0[L]@wf_abs)\n",
    "            # f2_FDW=np.mean(((dw_0[L]-f_FDW)**2@wf_abs)**2)\n",
    "            # f4_FDW=np.mean((dw_0[L]-f_FDW)**4@wf_abs)\n",
    "\n",
    "            f_FDW=(dw_0[L]@wf_abs)  # 2000,\n",
    "            F_f=(dw_0[L][:,np.newaxis]-f_FDW)\n",
    "            f22_FDW=np.mean(np.sum(F_f**2*wf_abs,axis=0)**2)\n",
    "            f4_FDW=np.mean(np.sum(F_f*wf_abs,axis=0)**4)\n",
    "\n",
    "\n",
    "            # f2_FDW=np.mean((np.sum((dw_0[L][:,np.newaxis]-f_FDW)**2*wf_abs,axis=0))**2)\n",
    "            # f4_FDW=np.mean((np.sum((dw_0[L][:,np.newaxis]-f_FDW)**4*wf_abs,axis=0)))\n",
    "\n",
    "\n",
    "            f_FDW_list[L_idx,p_ctrl_idx]=np.mean(f_FDW)\n",
    "            f22_FDW_list[L_idx,p_ctrl_idx]=(f22_FDW)\n",
    "            f4_FDW_list[L_idx,p_ctrl_idx]=(f4_FDW)\n",
    "    return f_FDW_list,f22_FDW_list,f4_FDW_list\n"
   ]
  },
  {
   "cell_type": "code",
   "execution_count": null,
   "metadata": {},
   "outputs": [],
   "source": [
    "f_FDW=np.mean([[dw_0[L]@(convert_to_abs(f_0[L][f'wf_{L}'][p_ctrl_idx,0,0,...,0]).reshape((-1,2000))) for p_ctrl_idx in range(21)] for L in tqdm(L_list)],axis=-1)"
   ]
  },
  {
   "cell_type": "code",
   "execution_count": null,
   "metadata": {},
   "outputs": [],
   "source": [
    "f_FDW.shape"
   ]
  },
  {
   "cell_type": "code",
   "execution_count": null,
   "metadata": {},
   "outputs": [],
   "source": [
    "f2_FDW=np.mean([[(dw_0[L]-f_FDW[L,p_ctrl_idx])**2@(convert_to_abs(f_0[L][f'wf_{L}'][p_ctrl_idx,0,0,...,0]).reshape((-1,2000))) for L in L_list] for p_ctrl_idx in range(21)],axis=-1)"
   ]
  },
  {
   "cell_type": "code",
   "execution_count": null,
   "metadata": {},
   "outputs": [],
   "source": [
    "f4_FDW=np.mean([[(dw_0[L]-f_FDW[L,p_ctrl_idx])**4@(convert_to_abs(f_0[L][f'wf_{L}'][p_ctrl_idx,0,0,...,0]).reshape((-1,2000))) for L in L_list] for p_ctrl_idx in range(21)],axis=-1)"
   ]
  },
  {
   "cell_type": "code",
   "execution_count": null,
   "metadata": {},
   "outputs": [],
   "source": [
    "f2_"
   ]
  },
  {
   "cell_type": "code",
   "execution_count": null,
   "metadata": {},
   "outputs": [],
   "source": [
    "np.einsum(f_0[8][f'wf_{L}'][p_ctrl_idx,0,0,...,0],[...,0],dw_0[L],[...])"
   ]
  },
  {
   "cell_type": "markdown",
   "metadata": {},
   "source": [
    "## Third try: Single site correlation"
   ]
  },
  {
   "cell_type": "code",
   "execution_count": null,
   "metadata": {},
   "outputs": [],
   "source": [
    "u"
   ]
  },
  {
   "cell_type": "code",
   "execution_count": null,
   "metadata": {},
   "outputs": [],
   "source": []
  },
  {
   "cell_type": "markdown",
   "metadata": {},
   "source": [
    "# Distribution along bitstring"
   ]
  },
  {
   "cell_type": "code",
   "execution_count": null,
   "metadata": {},
   "outputs": [],
   "source": [
    "import pandas as pd"
   ]
  },
  {
   "cell_type": "code",
   "execution_count": null,
   "metadata": {},
   "outputs": [],
   "source": [
    "p_bs_0={L:np.array([convert_to_abs2(f_0[L][f'wf_{L}'][(p_idx,0,-1)]).mean(axis=(-2,-1)).flatten() for p_idx in range(21)]) for L in L_list}"
   ]
  },
  {
   "cell_type": "code",
   "execution_count": null,
   "metadata": {},
   "outputs": [],
   "source": [
    "p_bs_0_sem={L:np.array([convert_to_abs2(f_0[L][f'wf_{L}'][(p_idx,0,-1)]).std(axis=(-2,-1)).flatten()/np.sqrt(f_0[L][f'wf_{L}'][(p_idx,0,-1)].shape[-2]) for p_idx in range(21)]) for L in L_list}"
   ]
  },
  {
   "cell_type": "code",
   "execution_count": null,
   "metadata": {},
   "outputs": [],
   "source": [
    "f_0[L][f'wf_{L}'][(p_idx,0,-1)].shape[-2]"
   ]
  },
  {
   "cell_type": "code",
   "execution_count": null,
   "metadata": {},
   "outputs": [],
   "source": [
    "p_bs_1_3={L:np.array([convert_to_abs2(f_1_3[L][f'wf_{L}'][(p_idx,0,-1)]).mean(axis=(-2,-1)).flatten() for p_idx in range(21)]) for L in L_list}"
   ]
  },
  {
   "cell_type": "code",
   "execution_count": null,
   "metadata": {},
   "outputs": [],
   "source": [
    "p_bs_1_3_sem={L:np.array([convert_to_abs2(f_1_3[L][f'wf_{L}'][(p_idx,0,-1)]).mean(axis=(-2,-1)).flatten()/np.sqrt(f_1_3[L][f'wf_{L}'][(p_idx,0,-1)].shape[-2]) for p_idx in range(21)]) for L in L_list}"
   ]
  },
  {
   "cell_type": "code",
   "execution_count": null,
   "metadata": {},
   "outputs": [],
   "source": [
    "(np.bincount(f_C_0['vec'][0][8],minlength=2**10))"
   ]
  },
  {
   "cell_type": "code",
   "execution_count": null,
   "metadata": {},
   "outputs": [],
   "source": [
    "L_idx=0\n",
    "L=12"
   ]
  },
  {
   "cell_type": "code",
   "execution_count": null,
   "metadata": {},
   "outputs": [],
   "source": [
    "np.bincount(f_C_0['vec'][L_idx][17],minlength=2**L).shape"
   ]
  },
  {
   "cell_type": "code",
   "execution_count": null,
   "metadata": {},
   "outputs": [],
   "source": [
    "np.array([np.bincount(f_C_0['vec'][L_idx][p_idx],minlength=2**L) for p_idx in range(21)])"
   ]
  },
  {
   "cell_type": "code",
   "execution_count": null,
   "metadata": {},
   "outputs": [],
   "source": [
    "p_bs_C_0={L:\n",
    "np.array([np.bincount(f_C_0['vec'][L_idx][p_idx],minlength=2**L)/f_C_0['vec'][L_idx][p_idx].shape[0] for p_idx in range(21)]) \n",
    "# for L_idx,L in enumerate(f_C_0['L_list'])}\n",
    "for L_idx,L in enumerate([10,])}"
   ]
  },
  {
   "cell_type": "code",
   "execution_count": null,
   "metadata": {},
   "outputs": [],
   "source": [
    "f_C_0.keys()"
   ]
  },
  {
   "cell_type": "code",
   "execution_count": null,
   "metadata": {},
   "outputs": [],
   "source": [
    "f_C_1_3['wf_8'].shape"
   ]
  },
  {
   "cell_type": "code",
   "execution_count": null,
   "metadata": {},
   "outputs": [],
   "source": [
    "f_C_0['wf_8'][0][0].shape"
   ]
  },
  {
   "cell_type": "code",
   "execution_count": null,
   "metadata": {},
   "outputs": [],
   "source": [
    "p_bs_C_0={L:\n",
    "np.array([np.bincount(f_C_0['wf_8'][p_idx][L_idx],minlength=2**L)/f_C_0['wf_8'][p_idx][L_idx].shape[0] for p_idx in range(21)]) \n",
    "for L_idx,L in enumerate([8,])}"
   ]
  },
  {
   "cell_type": "code",
   "execution_count": null,
   "metadata": {},
   "outputs": [],
   "source": [
    "# for newer one\n",
    "p_bs_C_1_3={L:\n",
    "np.array([np.bincount(f_C_1_3['wf_8'][p_idx][L_idx],minlength=2**L)/f_C_1_3['wf_8'][p_idx][L_idx].shape[0] for p_idx in range(21)]) \n",
    "for L_idx,L in enumerate([8,])}"
   ]
  },
  {
   "cell_type": "code",
   "execution_count": null,
   "metadata": {},
   "outputs": [],
   "source": [
    "# for old one\n",
    "p_bs_C_1_3={L:\n",
    "np.array([np.bincount(f_C_1_3['vec'][L_idx][p_idx],minlength=2**L)/f_C_1_3['vec'][L_idx][p_idx].shape[0] for p_idx in range(21)]) \n",
    "for L_idx,L in enumerate(f_C_1_3['L_list'])}"
   ]
  },
  {
   "cell_type": "code",
   "execution_count": null,
   "metadata": {},
   "outputs": [],
   "source": [
    "plt.plot(p_bs_C_1_3[8][6])\n",
    "plt.yscale('log')"
   ]
  },
  {
   "cell_type": "code",
   "execution_count": null,
   "metadata": {},
   "outputs": [],
   "source": [
    "plt.plot(p_bs_C_1_3[8][10])\n",
    "plt.yscale('log')"
   ]
  },
  {
   "cell_type": "code",
   "execution_count": null,
   "metadata": {},
   "outputs": [],
   "source": [
    "plt.pcolormesh(np.log(p_bs_C_1_3[8]+1e-5),cmap='Blues',shading='flat')"
   ]
  },
  {
   "cell_type": "code",
   "execution_count": null,
   "metadata": {},
   "outputs": [],
   "source": [
    "plt.plot(p_bs_C_1_3[10][10])"
   ]
  },
  {
   "cell_type": "code",
   "execution_count": null,
   "metadata": {},
   "outputs": [],
   "source": [
    "import pickle"
   ]
  },
  {
   "cell_type": "code",
   "execution_count": null,
   "metadata": {},
   "outputs": [],
   "source": [
    "with open('bitstring_dist_0.pickle','wb') as f:\n",
    "    pickle.dump([p_bs_0,p_bs_0_sem],f)\n",
    "with open('bitstring_dist_1_3.pickle','wb') as f:\n",
    "    pickle.dump([p_bs_1_3,p_bs_1_3_sem],f)\n",
    "\n",
    "\n",
    "    "
   ]
  },
  {
   "cell_type": "code",
   "execution_count": null,
   "metadata": {},
   "outputs": [],
   "source": [
    "with open('bitstring_dist_C_0.pickle','wb') as f:\n",
    "    pickle.dump(p_bs_C_0,f)\n",
    "with open('bitstring_dist_C_1_3.pickle','wb') as f:\n",
    "    pickle.dump(p_bs_C_1_3,f)"
   ]
  },
  {
   "cell_type": "code",
   "execution_count": null,
   "metadata": {},
   "outputs": [],
   "source": [
    "# with open('bitstring_dist_C_0.pickle','wb') as f:\n",
    "#     pickle.dump(p_bs_C_0,f)\n",
    "with open('bitstring_dist_C_1_3_L8.pickle','wb') as f:\n",
    "    pickle.dump(p_bs_C_1_3,f)"
   ]
  },
  {
   "cell_type": "code",
   "execution_count": null,
   "metadata": {},
   "outputs": [],
   "source": [
    "p_bs_0[8].shape"
   ]
  },
  {
   "cell_type": "code",
   "execution_count": null,
   "metadata": {},
   "outputs": [],
   "source": [
    "ref=np.hstack([[0]*10,np.linspace(0,1,11)])"
   ]
  },
  {
   "cell_type": "code",
   "execution_count": null,
   "metadata": {},
   "outputs": [],
   "source": [
    "plt.plot((p_bs_0[8]**2).sum(axis=1)-ref)\n",
    "plt.plot((p_bs_0[10]**2).sum(axis=1)-ref)\n",
    "plt.plot((p_bs_0[12]**2).sum(axis=1)-ref)\n",
    "plt.plot((p_bs_0[14]**2).sum(axis=1)-ref)"
   ]
  },
  {
   "cell_type": "code",
   "execution_count": null,
   "metadata": {},
   "outputs": [],
   "source": [
    "fig,ax=plt.subplots()\n",
    "ax.pcolormesh(np.arange(1,p_bs_0[8][0].shape[0]+1),np.linspace(0,1,21),np.log(np.array(p_bs_0[8])+1e-4),cmap='Blues')\n",
    "\n",
    "# ax.set_xscale('log')"
   ]
  },
  {
   "cell_type": "code",
   "execution_count": null,
   "metadata": {},
   "outputs": [],
   "source": [
    "fig,ax=plt.subplots()\n",
    "ax.pcolormesh(np.arange(1,p_bs_1_3[8][0].shape[0]+1),np.linspace(0,1,21),np.log(np.array(p_bs_1_3[8])+1e-4),cmap='Blues')\n",
    "\n",
    "# ax.set_xscale('log')"
   ]
  },
  {
   "cell_type": "code",
   "execution_count": null,
   "metadata": {},
   "outputs": [],
   "source": []
  },
  {
   "cell_type": "code",
   "execution_count": null,
   "metadata": {},
   "outputs": [],
   "source": [
    "plt.plot(p_bs_0[16][11],'.')\n",
    "# plt.xlim(0,20)\n",
    "plt.xscale('log')\n",
    "# plt.yscale('log')"
   ]
  },
  {
   "cell_type": "code",
   "execution_count": null,
   "metadata": {},
   "outputs": [],
   "source": [
    "p_bs_0[16][16][:20]"
   ]
  },
  {
   "cell_type": "code",
   "execution_count": null,
   "metadata": {},
   "outputs": [],
   "source": [
    "p_bs_0[16][16][0]/p_bs_0[16][16][1]"
   ]
  },
  {
   "cell_type": "code",
   "execution_count": null,
   "metadata": {},
   "outputs": [],
   "source": [
    "p_bs_0[16][16][1]/p_bs_0[16][16][2]"
   ]
  },
  {
   "cell_type": "code",
   "execution_count": null,
   "metadata": {},
   "outputs": [],
   "source": [
    "p_bs_0[16][16][3]/p_bs_0[16][16][4]"
   ]
  },
  {
   "cell_type": "code",
   "execution_count": null,
   "metadata": {},
   "outputs": [],
   "source": [
    "p_bs_0[16][16][7]/p_bs_0[16][16][8]"
   ]
  },
  {
   "cell_type": "code",
   "execution_count": null,
   "metadata": {},
   "outputs": [],
   "source": [
    "0.00896226/ 0.00304625"
   ]
  },
  {
   "cell_type": "code",
   "execution_count": null,
   "metadata": {},
   "outputs": [],
   "source": [
    "len(p_bs_0[12])"
   ]
  },
  {
   "cell_type": "code",
   "execution_count": null,
   "metadata": {},
   "outputs": [],
   "source": []
  },
  {
   "cell_type": "code",
   "execution_count": null,
   "metadata": {},
   "outputs": [],
   "source": [
    "L=16\n",
    "df_0_16={p_ctrl_idx:pd.DataFrame({'p':p_bs_0[L][p_ctrl_idx]*2**L,'FDW':np.array(convert_bitstring_to_dw(L))})for p_ctrl_idx in range(21)}"
   ]
  },
  {
   "cell_type": "code",
   "execution_count": null,
   "metadata": {},
   "outputs": [],
   "source": [
    "p_ctrl_list=np.linspace(0,1,21)"
   ]
  },
  {
   "cell_type": "code",
   "execution_count": null,
   "metadata": {},
   "outputs": [],
   "source": [
    "fig,ax=plt.subplots()\n",
    "p_ctrl_idx_list=[0,8,10,12]\n",
    "color_list=[plt.cm.Blues(0.4+0.6*(i/len(p_ctrl_idx_list))) for i in range(len(p_ctrl_idx_list))]\n",
    "for p_ctrl_idx,color in zip(p_ctrl_idx_list,color_list):\n",
    "    error=df_0_16[p_ctrl_idx].groupby('FDW').sem()*df_0_16[p_ctrl_idx].groupby('FDW').count()\n",
    "    pd.concat([df_0_16[p_ctrl_idx].groupby('FDW').sum(),error],axis=1).set_axis(['p','perr'],axis=1).plot(ax=ax,y='p',label=f'$p_{{ctrl}}$={p_ctrl_list[p_ctrl_idx]:.2f}',yerr='perr',capsize=3,color=color)\n",
    "\n",
    "ax.set_yscale('log',base=2)\n",
    "ax.set_xlabel('FDW')\n",
    "ax.set_ylabel('P(FDW=k)')\n",
    "ax.legend()\n",
    "ax.grid('on',)"
   ]
  },
  {
   "cell_type": "code",
   "execution_count": null,
   "metadata": {},
   "outputs": [],
   "source": [
    "L=10\n",
    "df_0_10={p_ctrl_idx:pd.DataFrame({'p':p_bs_0[L][p_ctrl_idx]*2**L,'FDW':np.array(convert_bitstring_to_dw(L))})for p_ctrl_idx in range(21)}"
   ]
  },
  {
   "cell_type": "code",
   "execution_count": null,
   "metadata": {},
   "outputs": [],
   "source": [
    "fig,ax=plt.subplots()\n",
    "color_list=[plt.cm.Blues(0.4+0.6*(i/len(p_ctrl_idx_list))) for i in range(len(p_ctrl_idx_list))]\n",
    "for p_ctrl_idx,color in zip([0,4,6,8,9,10,12],color_list):\n",
    "    error=df_0[p_ctrl_idx].groupby('FDW').sem()*df_0[p_ctrl_idx].groupby('FDW').count()\n",
    "    pd.concat([df_0[p_ctrl_idx].groupby('FDW').sum(),error],axis=1).set_axis(['p','perr'],axis=1).plot(ax=ax,y='p',label=f'$p_{{ctrl}}$={p_ctrl_list[p_ctrl_idx]:.2f}',yerr='perr',capsize=3,color=color)\n",
    "\n",
    "ax.set_yscale('log',base=2)\n",
    "ax.set_xlabel('FDW')\n",
    "ax.set_ylabel('P(FDW=k)')\n",
    "ax.legend()\n",
    "ax.grid('on',)"
   ]
  },
  {
   "cell_type": "code",
   "execution_count": null,
   "metadata": {},
   "outputs": [],
   "source": [
    "df_0_16[p_ctrl_idx].sum()/2**16"
   ]
  },
  {
   "cell_type": "code",
   "execution_count": null,
   "metadata": {},
   "outputs": [],
   "source": [
    "fig,ax=plt.subplots()\n",
    "p_ctrl_idx_list=[0,5,]\n",
    "color_list=[plt.cm.Blues(0.4+0.6*(i/len(p_ctrl_idx_list))) for i in range(len(p_ctrl_idx_list))]\n",
    "color2_list=[plt.cm.Reds(0.4+0.6*(i/len(p_ctrl_idx_list))) for i in range(len(p_ctrl_idx_list))]\n",
    "for p_ctrl_idx,color in zip(p_ctrl_idx_list,color_list):\n",
    "    error=df_0_16[p_ctrl_idx].groupby('FDW').sem()*df_0_16[p_ctrl_idx].groupby('FDW').count()\n",
    "    pd.concat([df_0_16[p_ctrl_idx].groupby('FDW').sum(),error],axis=1).set_axis(['p','perr'],axis=1).plot(ax=ax,y='p',label=f'$p_{{ctrl}}$={p_ctrl_list[p_ctrl_idx]:.2f}',yerr='perr',capsize=3,color=color)\n",
    "for p_ctrl_idx,color in zip(p_ctrl_idx_list,color2_list):\n",
    "    error=df_0_10[p_ctrl_idx].groupby('FDW').sem()*df_0_10[p_ctrl_idx].groupby('FDW').count()\n",
    "    pd.concat([df_0_10[p_ctrl_idx].groupby('FDW').sum(),error],axis=1).set_axis(['p','perr'],axis=1).plot(ax=ax,y='p',label=f'$p_{{ctrl}}$={p_ctrl_list[p_ctrl_idx]:.2f}',yerr='perr',capsize=3,color=color)\n",
    "\n",
    "ax.set_yscale('log',base=2)\n",
    "ax.set_xlabel('FDW')\n",
    "ax.set_ylabel('P(FDW=k)')\n",
    "ax.legend()\n",
    "ax.grid('on',)"
   ]
  },
  {
   "cell_type": "code",
   "execution_count": null,
   "metadata": {},
   "outputs": [],
   "source": [
    "df_0_10[0].groupby('FDW').sum()[1:-1].index"
   ]
  },
  {
   "cell_type": "code",
   "execution_count": null,
   "metadata": {},
   "outputs": [],
   "source": [
    "np.polyfit(x=df_0_10[0].groupby('FDW').sum()[1:-1].index,y=np.log2(df_0_10[0].groupby('FDW').sum()[1:-1]),deg=1)"
   ]
  },
  {
   "cell_type": "code",
   "execution_count": null,
   "metadata": {},
   "outputs": [],
   "source": [
    "np.log2(df_0_10[5].groupby('FDW').sum()[1:-1])"
   ]
  },
  {
   "cell_type": "code",
   "execution_count": null,
   "metadata": {},
   "outputs": [],
   "source": [
    "np.polyfit(x=df_0_10[9].groupby('FDW').sum()[1:-1].index,y=np.log2(df_0_10[9].groupby('FDW').sum()[1:-1]),deg=1)"
   ]
  },
  {
   "cell_type": "code",
   "execution_count": null,
   "metadata": {},
   "outputs": [],
   "source": [
    "L=16\n",
    "df_1_3={p_ctrl_idx:pd.DataFrame({'p':p_bs_1_3[L][p_ctrl_idx]*2**L,'FDW':np.array(convert_bitstring_to_dw(L,ZZ=True))})for p_ctrl_idx in range(21)}"
   ]
  },
  {
   "cell_type": "code",
   "execution_count": null,
   "metadata": {},
   "outputs": [],
   "source": [
    "fig,ax=plt.subplots()\n",
    "color_list=[plt.cm.Blues(0.4+0.6*(i/len(L_list))) for i in range(4)]\n",
    "for p_ctrl_idx,color in zip([0,8,10,12,],color_list):\n",
    "    error=df_1_3[p_ctrl_idx].groupby('FDW').sem()*df_1_3[p_ctrl_idx].groupby('FDW').count()\n",
    "    pd.concat([df_1_3[p_ctrl_idx].groupby('FDW').sum(),error],axis=1).set_axis(['p','perr'],axis=1).plot(ax=ax,y='p',label=f'$p_{{ctrl}}$={p_ctrl_list[p_ctrl_idx]:.2f}',yerr='perr',capsize=3,color=color)\n",
    "\n",
    "ax.set_yscale('log',base=2)\n",
    "ax.set_xlabel('FDW')\n",
    "ax.set_ylabel('P(FDW=k)')\n",
    "ax.legend()\n",
    "ax.grid('on',)"
   ]
  },
  {
   "cell_type": "code",
   "execution_count": null,
   "metadata": {},
   "outputs": [],
   "source": []
  },
  {
   "cell_type": "code",
   "execution_count": null,
   "metadata": {},
   "outputs": [],
   "source": []
  },
  {
   "cell_type": "markdown",
   "metadata": {},
   "source": [
    "# Distribution along overlap"
   ]
  },
  {
   "cell_type": "code",
   "execution_count": null,
   "metadata": {},
   "outputs": [],
   "source": [
    "convert_to_abs(f_1_3[L][f'wf_{L}'][(0,0,-1)+(0,1)*(L//2)]).shape"
   ]
  },
  {
   "cell_type": "code",
   "execution_count": null,
   "metadata": {},
   "outputs": [],
   "source": [
    "from scipy.stats import chi2,norm"
   ]
  },
  {
   "cell_type": "code",
   "execution_count": null,
   "metadata": {},
   "outputs": [],
   "source": []
  },
  {
   "cell_type": "markdown",
   "metadata": {},
   "source": [
    "### xj"
   ]
  },
  {
   "cell_type": "code",
   "execution_count": null,
   "metadata": {},
   "outputs": [],
   "source": [
    "fig,ax=plt.subplots()\n",
    "L=16\n",
    "ax.hist(convert_to_abs(f_1_3[L][f'wf_{L}'][(0,0,-1)+(0,1)*(L//2)])+convert_to_abs(f_1_3[L][f'wf_{L}'][(0,0,-1)+(1,0)*(L//2)]),bins=20,density=True,edgecolor='k',alpha=0.5,label='Simulation')\n",
    "\n",
    "x=np.linspace(0,0.00015*2**(L+1),100)\n",
    "ax.plot(x/2**(L+1),chi2.pdf(x,df=4)*2**(L+1),label='$\\chi^2(k=4)$')\n",
    "\n",
    "ax.set_xlabel(r'$\\sum_{x_j}\\langle x_j | \\psi \\rangle$')\n",
    "ax.set_ylabel('Prob density func')\n",
    "\n",
    "ax.legend()\n",
    "ax.grid('on',axis='y')"
   ]
  },
  {
   "cell_type": "code",
   "execution_count": null,
   "metadata": {},
   "outputs": [],
   "source": [
    "fig,ax=plt.subplots()\n",
    "L=16\n",
    "ax.hist(convert_to_abs(f_0[L][f'wf_{L}'][(0,0,-1)+(0,0)*(L//2)]),bins=20,density=True,edgecolor='k',alpha=0.5,label='Simulation')\n",
    "\n",
    "x=np.linspace(0,0.00015*2**(L+1),100)\n",
    "ax.plot(x/2**(L+1),chi2.pdf(x,df=2)*2**(L+1),label='$\\chi^2(k=2)$')\n",
    "\n",
    "ax.set_xlabel(r'$\\sum_{x_j}\\langle x_j | \\psi \\rangle$')\n",
    "ax.set_ylabel('Prob density func')\n",
    "\n",
    "ax.legend()\n",
    "ax.grid('on',axis='y')"
   ]
  },
  {
   "cell_type": "code",
   "execution_count": null,
   "metadata": {},
   "outputs": [],
   "source": [
    "fig,ax=plt.subplots()\n",
    "L=16\n",
    "ax.hist(convert_to_abs(f_1_3[L][f'wf_{L}'][(10,0,-1)+(0,1)*(L//2)])+convert_to_abs(f_1_3[L][f'wf_{L}'][(10,0,-1)+(1,0)*(L//2)]),bins=20,density=True,edgecolor='k',alpha=0.5,label='Simulation')\n",
    "\n",
    "# x=np.linspace(0,0.00015*2**(L+1),100)\n",
    "# ax.plot(x/2**(L+1),chi2.pdf(x,df=4)*2**(L+1),label='$\\chi^2(k=4)$')\n",
    "\n",
    "ax.set_xlabel(r'$\\sum_{x_j}\\langle x_j | \\psi \\rangle$')\n",
    "ax.set_ylabel('Prob density func')\n",
    "\n",
    "ax.legend()\n",
    "ax.grid('on',axis='y')"
   ]
  },
  {
   "cell_type": "code",
   "execution_count": null,
   "metadata": {},
   "outputs": [],
   "source": [
    "fig,ax=plt.subplots()\n",
    "L=16\n",
    "ax.hist(convert_to_abs(f_0[L][f'wf_{L}'][(10,0,-1)+(0,0)*(L//2)]),bins=20,density=True,edgecolor='k',alpha=0.5,label='Simulation')\n",
    "\n",
    "# x=np.linspace(0,0.00015*2**(L+1),100)\n",
    "# ax.plot(x/2**(L+1),chi2.pdf(x,df=2)*2**(L+1),label='$\\chi^2(k=4)$')\n",
    "\n",
    "ax.set_xlabel(r'$\\sum_{x_j}\\langle x_j | \\psi \\rangle$')\n",
    "ax.set_ylabel('Prob density func')\n",
    "\n",
    "ax.legend()\n",
    "ax.grid('on',axis='y')"
   ]
  },
  {
   "cell_type": "code",
   "execution_count": null,
   "metadata": {},
   "outputs": [],
   "source": [
    "fig,ax=plt.subplots()\n",
    "L=16\n",
    "ax.hist(convert_to_abs(f_1_3[L][f'wf_{L}'][(15,0,-1)+(0,1)*(L//2)])+convert_to_abs(f_1_3[L][f'wf_{L}'][(15,0,-1)+(1,0)*(L//2)]),bins=20,density=True,edgecolor='k',alpha=0.5,label='Simulation')\n",
    "\n",
    "# x=np.linspace(0,0.00015*2**(L+1),100)\n",
    "# ax.plot(x/2**(L+1),chi2.pdf(x,df=4)*2**(L+1),label='$\\chi^2(k=4)$')\n",
    "\n",
    "ax.set_xlabel(r'$\\sum_{x_j}\\langle x_j | \\psi \\rangle$')\n",
    "ax.set_ylabel('Prob density func')\n",
    "\n",
    "ax.legend()\n",
    "ax.grid('on',axis='y')"
   ]
  },
  {
   "cell_type": "code",
   "execution_count": null,
   "metadata": {},
   "outputs": [],
   "source": [
    "fig,ax=plt.subplots()\n",
    "L=16\n",
    "ax.hist(convert_to_abs(f_0[L][f'wf_{L}'][(15,0,-1)+(0,0)*(L//2)]),bins=20,density=True,edgecolor='k',alpha=0.5,label='Simulation')\n",
    "\n",
    "# x=np.linspace(0,0.00015*2**(L+1),100)\n",
    "# ax.plot(x/2**(L+1),chi2.pdf(x,df=2)*2**(L+1),label='$\\chi^2(k=4)$')\n",
    "\n",
    "ax.set_xlabel(r'$\\sum_{x_j}\\langle x_j | \\psi \\rangle$')\n",
    "ax.set_ylabel('Prob density func')\n",
    "\n",
    "ax.legend()\n",
    "ax.grid('on',axis='y')"
   ]
  },
  {
   "cell_type": "code",
   "execution_count": null,
   "metadata": {},
   "outputs": [],
   "source": [
    "fig,ax=plt.subplots()\n",
    "L=16\n",
    "ax.hist(convert_to_abs(f_1_3[L][f'wf_{L}'][(20,0,-1)+(0,1)*(L//2)])+convert_to_abs(f_1_3[L][f'wf_{L}'][(20,0,-1)+(1,0)*(L//2)]),bins=20,density=True,edgecolor='k',alpha=0.5,label='Simulation')\n",
    "\n",
    "# x=np.linspace(0,0.00015*2**(L+1),100)\n",
    "# ax.plot(x/2**(L+1),chi2.pdf(x,df=4)*2**(L+1),label='$\\chi^2(k=4)$')\n",
    "\n",
    "ax.set_xlabel(r'$\\sum_{x_j}\\langle x_j | \\psi \\rangle$')\n",
    "ax.set_ylabel('Prob density func')\n",
    "\n",
    "ax.legend()\n",
    "ax.set_xlim(0,1.1)\n",
    "\n",
    "ax.grid('on',axis='y')"
   ]
  },
  {
   "cell_type": "code",
   "execution_count": null,
   "metadata": {},
   "outputs": [],
   "source": [
    "fig,ax=plt.subplots()\n",
    "L=16\n",
    "ax.hist(convert_to_abs(f_0[L][f'wf_{L}'][(20,0,-1)+(0,0)*(L//2)]),bins=20,density=True,edgecolor='k',alpha=0.5,label='Simulation')\n",
    "\n",
    "# x=np.linspace(0,0.00015*2**(L+1),100)\n",
    "# ax.plot(x/2**(L+1),chi2.pdf(x,df=2)*2**(L+1),label='$\\chi^2(k=4)$')\n",
    "\n",
    "ax.set_xlabel(r'$\\sum_{x_j}\\langle x_j | \\psi \\rangle$')\n",
    "ax.set_ylabel('Prob density func')\n",
    "\n",
    "ax.legend()\n",
    "ax.set_xlim(0,1.1)\n",
    "ax.grid('on',axis='y')"
   ]
  },
  {
   "cell_type": "code",
   "execution_count": null,
   "metadata": {},
   "outputs": [],
   "source": []
  },
  {
   "cell_type": "markdown",
   "metadata": {},
   "source": [
    "### non xj"
   ]
  },
  {
   "cell_type": "code",
   "execution_count": null,
   "metadata": {},
   "outputs": [],
   "source": [
    "fig,ax=plt.subplots()\n",
    "L=16\n",
    "ax.hist(convert_to_abs(f_1_3[L][f'wf_{L}'][(0,0,-1)+(0,1)*(L//2-1)+(0,0)])+convert_to_abs(f_1_3[L][f'wf_{L}'][(0,0,-1)+(1,0)*(L//2)]),bins=20,density=True,edgecolor='k',alpha=0.5,label='Simulation')\n",
    "\n",
    "x=np.linspace(0,0.00015*2**(L+1),100)\n",
    "ax.plot(x/2**(L+1),chi2.pdf(x,df=4)*2**(L+1),label='$\\chi^2(k=4)$')\n",
    "\n",
    "ax.set_xlabel(r'$\\sum_{x_j}\\langle x_j | \\psi \\rangle$')\n",
    "ax.set_ylabel('Prob density func')\n",
    "\n",
    "ax.legend()\n",
    "ax.grid('on',axis='y')"
   ]
  },
  {
   "cell_type": "code",
   "execution_count": null,
   "metadata": {},
   "outputs": [],
   "source": [
    "fig,ax=plt.subplots()\n",
    "L=16\n",
    "ax.hist(convert_to_abs(f_0[L][f'wf_{L}'][(0,0,-1)+(0,0)*(L//2-1)+(0,1)]),bins=20,density=True,edgecolor='k',alpha=0.5,label='Simulation')\n",
    "\n",
    "x=np.linspace(0,0.00015*2**(L+1),100)\n",
    "ax.plot(x/2**(L+1),chi2.pdf(x,df=2)*2**(L+1),label='$\\chi^2(k=2)$')\n",
    "\n",
    "ax.set_xlabel(r'$\\sum_{x_j}\\langle x_j | \\psi \\rangle$')\n",
    "ax.set_ylabel('Prob density func')\n",
    "\n",
    "ax.legend()\n",
    "ax.grid('on',axis='y')"
   ]
  },
  {
   "cell_type": "code",
   "execution_count": null,
   "metadata": {},
   "outputs": [],
   "source": [
    "fig,ax=plt.subplots()\n",
    "L=16\n",
    "ax.hist(convert_to_abs(f_1_3[L][f'wf_{L}'][(10,0,-1)+(0,1)*(L//2-1)+(0,0)])+convert_to_abs(f_1_3[L][f'wf_{L}'][(0,0,-1)+(1,0)*(L//2)]),bins=20,density=True,edgecolor='k',alpha=0.5,label='Simulation')\n",
    "\n",
    "# x=np.linspace(0,0.00015*2**(L+1),100)\n",
    "# ax.plot(x/2**(L+1),chi2.pdf(x,df=4)*2**(L+1),label='$\\chi^2(k=4)$')\n",
    "\n",
    "ax.set_xlabel(r'$\\sum_{x_j}\\langle x_j | \\psi \\rangle$')\n",
    "ax.set_ylabel('Prob density func')\n",
    "\n",
    "ax.legend()\n",
    "ax.grid('on',axis='y')"
   ]
  },
  {
   "cell_type": "code",
   "execution_count": null,
   "metadata": {},
   "outputs": [],
   "source": [
    "fig,ax=plt.subplots()\n",
    "L=16\n",
    "ax.hist(convert_to_abs(f_0[L][f'wf_{L}'][(10,0,-1)+(0,0)*(L//2-1)+(0,1)]),bins=20,density=True,edgecolor='k',alpha=0.5,label='Simulation')\n",
    "\n",
    "# x=np.linspace(0,0.00015*2**(L+1),100)\n",
    "# ax.plot(x/2**(L+1),chi2.pdf(x,df=2)*2**(L+1),label='$\\chi^2(k=4)$')\n",
    "\n",
    "ax.set_xlabel(r'$\\sum_{x_j}\\langle x_j | \\psi \\rangle$')\n",
    "ax.set_ylabel('Prob density func')\n",
    "\n",
    "ax.legend()\n",
    "ax.grid('on',axis='y')"
   ]
  },
  {
   "cell_type": "code",
   "execution_count": null,
   "metadata": {},
   "outputs": [],
   "source": [
    "fig,ax=plt.subplots()\n",
    "L=16\n",
    "ax.hist(convert_to_abs(f_1_3[L][f'wf_{L}'][(15,0,-1)+(0,1)*(L//2-1)+(0,0)])+convert_to_abs(f_1_3[L][f'wf_{L}'][(0,0,-1)+(1,0)*(L//2)]),bins=20,density=True,edgecolor='k',alpha=0.5,label='Simulation')\n",
    "\n",
    "# x=np.linspace(0,0.00015*2**(L+1),100)\n",
    "# ax.plot(x/2**(L+1),chi2.pdf(x,df=4)*2**(L+1),label='$\\chi^2(k=4)$')\n",
    "\n",
    "ax.set_xlabel(r'$\\sum_{x_j}\\langle x_j | \\psi \\rangle$')\n",
    "ax.set_ylabel('Prob density func')\n",
    "\n",
    "ax.legend()\n",
    "ax.grid('on',axis='y')"
   ]
  },
  {
   "cell_type": "code",
   "execution_count": null,
   "metadata": {},
   "outputs": [],
   "source": [
    "fig,ax=plt.subplots()\n",
    "L=16\n",
    "ax.hist(convert_to_abs(f_0[L][f'wf_{L}'][(15,0,-1)+(0,0)*(L//2-1)+(0,1)]),bins=20,density=True,edgecolor='k',alpha=0.5,label='Simulation')\n",
    "\n",
    "# x=np.linspace(0,0.00015*2**(L+1),100)\n",
    "# ax.plot(x/2**(L+1),chi2.pdf(x,df=2)*2**(L+1),label='$\\chi^2(k=4)$')\n",
    "\n",
    "ax.set_xlabel(r'$\\sum_{x_j}\\langle x_j | \\psi \\rangle$')\n",
    "ax.set_ylabel('Prob density func')\n",
    "\n",
    "ax.legend()\n",
    "ax.grid('on',axis='y')"
   ]
  },
  {
   "cell_type": "code",
   "execution_count": null,
   "metadata": {},
   "outputs": [],
   "source": [
    "fig,ax=plt.subplots()\n",
    "L=16\n",
    "ax.hist(convert_to_abs(f_1_3[L][f'wf_{L}'][(20,0,-1)+(0,1)*(L//2-1)+(0,0)])+convert_to_abs(f_1_3[L][f'wf_{L}'][(0,0,-1)+(1,0)*(L//2)]),bins=20,density=True,edgecolor='k',alpha=0.5,label='Simulation')\n",
    "\n",
    "# x=np.linspace(0,0.00015*2**(L+1),100)\n",
    "# ax.plot(x/2**(L+1),chi2.pdf(x,df=4)*2**(L+1),label='$\\chi^2(k=4)$')\n",
    "\n",
    "ax.set_xlabel(r'$\\sum_{x_j}\\langle x_j | \\psi \\rangle$')\n",
    "ax.set_ylabel('Prob density func')\n",
    "\n",
    "ax.legend()\n",
    "ax.set_xlim(-0.1,1.)\n",
    "\n",
    "ax.grid('on',axis='y')"
   ]
  },
  {
   "cell_type": "code",
   "execution_count": null,
   "metadata": {},
   "outputs": [],
   "source": [
    "fig,ax=plt.subplots()\n",
    "L=16\n",
    "ax.hist(convert_to_abs(f_0[L][f'wf_{L}'][(20,0,-1)+(0,0)*(L//2-1)+(0,1)]),bins=500,density=True,edgecolor='k',alpha=0.5,label='Simulation')\n",
    "\n",
    "# x=np.linspace(0,0.00015*2**(L+1),100)\n",
    "# ax.plot(x/2**(L+1),chi2.pdf(x,df=2)*2**(L+1),label='$\\chi^2(k=4)$')\n",
    "\n",
    "ax.set_xlabel(r'$\\sum_{x_j}\\langle x_j | \\psi \\rangle$')\n",
    "ax.set_ylabel('Prob density func')\n",
    "\n",
    "ax.legend()\n",
    "ax.set_xlim(-0.1,1.)\n",
    "\n",
    "ax.grid('on',axis='y')"
   ]
  },
  {
   "cell_type": "code",
   "execution_count": null,
   "metadata": {},
   "outputs": [],
   "source": [
    "def binder(O):\n",
    "    O_mean=np.mean(O,axis=-1)[:,np.newaxis]\n",
    "    # return np.mean((O-O_mean)**4,axis=-1)/(np.mean((O-O_mean)**2,axis=-1)**2)\n",
    "    return 1-np.mean((O-O_mean)**4,axis=-1)/(3*np.mean((O-O_mean)**2,axis=-1)**2)"
   ]
  },
  {
   "cell_type": "code",
   "execution_count": null,
   "metadata": {},
   "outputs": [],
   "source": [
    "def binder_logsum(O):\n",
    "    O_mean=np.mean(O,axis=-1)[:,np.newaxis]\n",
    "    O_c2=np.log(np.abs(O-O_mean))*2\n",
    "    O_c4=np.log(np.abs(O-O_mean))*4\n",
    "    n=np.log(O.shape[-1])\n",
    "    return np.exp((scipy.special.logsumexp(O_c4,axis=-1)-n)-(scipy.special.logsumexp(O_c2,axis=-1)-n)*2)\n",
    "    return 1-np.exp((scipy.special.logsumexp(O_c4,axis=-1)-n)-(scipy.special.logsumexp(O_c2,axis=-1)-n)*2)/3"
   ]
  },
  {
   "cell_type": "code",
   "execution_count": null,
   "metadata": {},
   "outputs": [],
   "source": [
    "wf=torch.stack(wfs_0_8)\n",
    "wf.shape"
   ]
  },
  {
   "cell_type": "code",
   "execution_count": null,
   "metadata": {},
   "outputs": [],
   "source": [
    "wf=torch.stack(wfs_0_8)\n",
    "wf=wf.reshape((21,21,-1,wf.shape[-2],1))\n",
    "wf_re=(wf).real\n",
    "wf_im=(wf).imag\n",
    "wf_haar=torch.cat([wf_re,wf_im],axis=-2)"
   ]
  },
  {
   "cell_type": "code",
   "execution_count": null,
   "metadata": {},
   "outputs": [],
   "source": [
    "wf_haar.shape"
   ]
  },
  {
   "cell_type": "code",
   "execution_count": null,
   "metadata": {},
   "outputs": [],
   "source": [
    "wf=torch.stack(wfs_0_12)\n",
    "wf=wf.reshape((21,21,-1,wf.shape[-2],1))\n",
    "wf_re=(wf).real\n",
    "wf_im=(wf).imag\n",
    "wf_haar_12=torch.cat([wf_re,wf_im],axis=-2)"
   ]
  },
  {
   "cell_type": "code",
   "execution_count": null,
   "metadata": {},
   "outputs": [],
   "source": [
    "from scipy.stats import norm\n",
    "x=np.linspace(-1,1,1000)\n",
    "# y=expon.pdf(x,)"
   ]
  },
  {
   "cell_type": "code",
   "execution_count": null,
   "metadata": {},
   "outputs": [],
   "source": [
    "O_map=np.array(wf_haar[:,0,0,:,0])"
   ]
  },
  {
   "cell_type": "code",
   "execution_count": null,
   "metadata": {},
   "outputs": [],
   "source": [
    "binder(O_map)"
   ]
  },
  {
   "cell_type": "code",
   "execution_count": null,
   "metadata": {},
   "outputs": [],
   "source": []
  },
  {
   "cell_type": "code",
   "execution_count": null,
   "metadata": {},
   "outputs": [],
   "source": [
    "plt.plot(np.linspace(0,1,21),binder(np.array(wf_haar[:,0,0,:,0])),'.-')\n",
    "plt.plot(np.linspace(0,1,21),binder(np.array(wf_haar_12[:,0,0,:,0])),'.-')\n",
    "plt.xlabel(r'$p_{\\rm ctrl}$')\n",
    "plt.ylabel(r'$\\overline{\\langle O \\rangle}$')\n",
    "# plt.ylim([0,5])"
   ]
  },
  {
   "cell_type": "code",
   "execution_count": null,
   "metadata": {},
   "outputs": [],
   "source": [
    "(torch.abs(ensemble-1)<1e-1).sum()"
   ]
  },
  {
   "cell_type": "code",
   "execution_count": null,
   "metadata": {},
   "outputs": [],
   "source": [
    "wf_haar[x,0,:].shape"
   ]
  },
  {
   "cell_type": "code",
   "execution_count": null,
   "metadata": {},
   "outputs": [],
   "source": [
    "plt.plot([(torch.abs((wf_haar[(x,0,0)][:,0]-1))<1e-1).sum()  for x in range(21)])\n",
    "plt.plot([(torch.abs((wf_haar_12[(x,0,0)][:,0]-1))<1e-1).sum()  for x in range(21)])"
   ]
  },
  {
   "cell_type": "code",
   "execution_count": null,
   "metadata": {},
   "outputs": [],
   "source": []
  },
  {
   "cell_type": "code",
   "execution_count": null,
   "metadata": {},
   "outputs": [],
   "source": [
    "ensemble=wf_haar[(15,0,0)][:,0]\n",
    "plt.hist(ensemble,bins=60,density=True)\n",
    "# plt.plot(x,norm.pdf(x,scale=1/2**4.5))\n",
    "plt.plot(x_kde,y_kde,ls='dashed')"
   ]
  },
  {
   "cell_type": "code",
   "execution_count": null,
   "metadata": {},
   "outputs": [],
   "source": [
    "from scipy.stats import gaussian_kde"
   ]
  },
  {
   "cell_type": "code",
   "execution_count": null,
   "metadata": {},
   "outputs": [],
   "source": [
    "kernel = gaussian_kde(ensemble,bw_method=0.05)"
   ]
  },
  {
   "cell_type": "code",
   "execution_count": null,
   "metadata": {},
   "outputs": [],
   "source": [
    "x_kde=np.linspace(-1,1)\n",
    "y_kde = kernel(x_kde)\n"
   ]
  },
  {
   "cell_type": "code",
   "execution_count": null,
   "metadata": {},
   "outputs": [],
   "source": []
  },
  {
   "cell_type": "code",
   "execution_count": null,
   "metadata": {},
   "outputs": [],
   "source": [
    "wf=torch.stack(wfs_0_8)\n",
    "wf=wf.reshape((21,21,-1,wf.shape[-2],1))\n",
    "wf_amp=torch.abs(wf)**2"
   ]
  },
  {
   "cell_type": "code",
   "execution_count": null,
   "metadata": {},
   "outputs": [],
   "source": [
    "wf=torch.stack(wfs_0_12)\n",
    "wf=wf.reshape((21,21,-1,wf.shape[-2],1))\n",
    "wf_amp_12=torch.abs(wf)**2"
   ]
  },
  {
   "cell_type": "code",
   "execution_count": null,
   "metadata": {},
   "outputs": [],
   "source": [
    "wf_amp[10,0,0,:,0].mean()"
   ]
  },
  {
   "cell_type": "code",
   "execution_count": null,
   "metadata": {},
   "outputs": [],
   "source": [
    "wf_amp_12[10,0,0,:,0].mean()"
   ]
  },
  {
   "cell_type": "code",
   "execution_count": null,
   "metadata": {},
   "outputs": [],
   "source": [
    "from scipy.stats import chi2\n",
    "x = np.linspace(0, 20, 1000)\n",
    "dof=2\n",
    "y = chi2.pdf(x,dof)"
   ]
  },
  {
   "cell_type": "code",
   "execution_count": null,
   "metadata": {},
   "outputs": [],
   "source": [
    "ensemble=wf_amp[(0,0,0)][:,0]\n",
    "plt.hist(ensemble,bins=20,density=True)\n",
    "plt.plot(x/2**9,y*2**9)"
   ]
  },
  {
   "cell_type": "code",
   "execution_count": null,
   "metadata": {},
   "outputs": [],
   "source": [
    "from scipy.stats import expon\n",
    "x=np.linspace(0,1)\n",
    "# y=expon.pdf(x,)"
   ]
  },
  {
   "cell_type": "code",
   "execution_count": null,
   "metadata": {},
   "outputs": [],
   "source": [
    "plt.plot(x,expon.pdf(x,scale=1/2))"
   ]
  },
  {
   "cell_type": "code",
   "execution_count": null,
   "metadata": {},
   "outputs": [],
   "source": [
    "ensemble=wf_amp[15,0,0][:,0]\n",
    "plt.hist(ensemble[ensemble<1],bins=20,density=True)\n",
    "# plt.hist(ensemble/ensemble.mean()*dof,bins=20,density=True)\n",
    "# plt.hist(wf_amp[10,0,3][:,0],bins=20,density=True,alpha=0.3,label='1')\n",
    "# plt.hist(wf_amp[10,0,0][:,0],bins=20,density=True,alpha=0.3,label='0')\n",
    "# plt.legend()\n",
    "plt.plot(x,expon.pdf(x,scale=1/20))"
   ]
  },
  {
   "cell_type": "code",
   "execution_count": null,
   "metadata": {},
   "outputs": [],
   "source": [
    "wfs_0_8_dist.shape"
   ]
  },
  {
   "cell_type": "markdown",
   "metadata": {},
   "source": [
    "## Generate any distribution"
   ]
  },
  {
   "cell_type": "code",
   "execution_count": null,
   "metadata": {},
   "outputs": [],
   "source": [
    "import scipy"
   ]
  },
  {
   "cell_type": "code",
   "execution_count": null,
   "metadata": {},
   "outputs": [],
   "source": [
    "Sk=(lambda k: (np.pi if k%2==0 else 2) * scipy.special.factorial2(k-1)/scipy.special.factorial2(k))"
   ]
  },
  {
   "cell_type": "code",
   "execution_count": null,
   "metadata": {},
   "outputs": [],
   "source": [
    "2*np.pi**2"
   ]
  },
  {
   "cell_type": "code",
   "execution_count": null,
   "metadata": {},
   "outputs": [],
   "source": [
    "Sk(3)*Sk(2)*Sk(1)*2*np.pi"
   ]
  },
  {
   "cell_type": "code",
   "execution_count": null,
   "metadata": {},
   "outputs": [],
   "source": [
    "8/3*np.pi**2"
   ]
  },
  {
   "cell_type": "code",
   "execution_count": null,
   "metadata": {},
   "outputs": [],
   "source": [
    "Sk(4)*Sk(3)*Sk(2)*Sk(1)*2*np.pi"
   ]
  },
  {
   "cell_type": "code",
   "execution_count": null,
   "metadata": {},
   "outputs": [],
   "source": [
    "from scipy.stats import rv_continuous\n",
    "\n",
    "class CustomDistribution(rv_continuous):\n",
    "    def __init__(self, *args, **kwargs):\n",
    "        # Extracting a custom parameter, if provided\n",
    "        self.k = kwargs.pop('k', 1)  # Default value is 1\n",
    "        super().__init__(*args, **kwargs)\n",
    "\n",
    "    def _pdf(self, x):\n",
    "        # Define your custom PDF here\n",
    "        # Example: a simple Gaussian PDF\n",
    "        S_k = (np.pi if self.k%2==0 else 2) * scipy.special.factorial2(self.k-1)/scipy.special.factorial2(self.k)\n",
    "        return 1/S_k* np.sin(x)**self.k\n",
    "\n",
    "\n"
   ]
  },
  {
   "cell_type": "code",
   "execution_count": null,
   "metadata": {},
   "outputs": [],
   "source": [
    "theta1 = CustomDistribution(a=0, b=np.pi, k=12).rvs(size=2000)\n",
    "theta2 = CustomDistribution(a=0, b=np.pi, k=11).rvs(size=2000)\n",
    "# phi= 2*np.pi * np.random.random(size=2000)"
   ]
  },
  {
   "cell_type": "code",
   "execution_count": null,
   "metadata": {},
   "outputs": [],
   "source": [
    "# x=np.cos(theta)\n",
    "# y=np.sin(theta)*np.cos(phi)\n",
    "# z=np.sin(theta)*np.sin(phi)\n",
    "\n",
    "x=np.cos(theta1)\n",
    "y=np.sin(theta1)*np.cos(theta2)"
   ]
  },
  {
   "cell_type": "code",
   "execution_count": null,
   "metadata": {},
   "outputs": [],
   "source": [
    "plt.hist((x**2+y**2)/(2/14)*2,bins=20,density=True)\n",
    "plt.plot(np.linspace(0,20), chi2.pdf(np.linspace(0,20),2))"
   ]
  },
  {
   "cell_type": "code",
   "execution_count": null,
   "metadata": {},
   "outputs": [],
   "source": [
    "plt.hist(samples,bins=20,density=True)\n",
    "plt.plot(np.linspace(0,np.pi,1000),custom_dist.pdf(np.linspace(0,np.pi,1000)))"
   ]
  },
  {
   "cell_type": "code",
   "execution_count": null,
   "metadata": {},
   "outputs": [],
   "source": [
    "plt.hist(np.cos(samples),bins=20,density=True)\n"
   ]
  },
  {
   "cell_type": "markdown",
   "metadata": {},
   "source": [
    "# Distribution along both"
   ]
  },
  {
   "cell_type": "code",
   "execution_count": null,
   "metadata": {},
   "outputs": [],
   "source": [
    "f_1_3[L][f'wf_{L}'][(0,0,-1)].shape"
   ]
  },
  {
   "cell_type": "code",
   "execution_count": null,
   "metadata": {},
   "outputs": [],
   "source": [
    "L=8"
   ]
  },
  {
   "cell_type": "code",
   "execution_count": null,
   "metadata": {},
   "outputs": [],
   "source": [
    "fig,ax=plt.subplots()\n",
    "pts=convert_to_abs(f_1_3[L][f'wf_{L}'][(0,0,-1)]).reshape((-1,2000))\n",
    "x=np.arange(2**L).repeat(2000).reshape((2**L,2000)).flatten()\n",
    "ax.scatter(x/2**L,pts.flatten(),s=0.5)\n",
    "\n",
    "ax.set_xlabel(r'$x/2^L$')\n",
    "ax.set_ylabel(r'$|\\langle x | \\psi\\rangle|^2$')"
   ]
  },
  {
   "cell_type": "code",
   "execution_count": null,
   "metadata": {},
   "outputs": [],
   "source": [
    "fig,ax=plt.subplots()\n",
    "pts=convert_to_abs(f_0[L][f'wf_{L}'][(0,0,-1)]).reshape((-1,2000))\n",
    "x=np.arange(2**L).repeat(2000).reshape((2**L,2000)).flatten()\n",
    "ax.scatter(x/2**L,pts.flatten(),s=0.5)\n",
    "\n",
    "ax.set_xlabel(r'$x/2^L$')\n",
    "ax.set_ylabel(r'$|\\langle x | \\psi\\rangle|^2$')"
   ]
  },
  {
   "cell_type": "code",
   "execution_count": null,
   "metadata": {},
   "outputs": [],
   "source": [
    "fig,ax=plt.subplots()\n",
    "pts=convert_to_abs(f_1_3[L][f'wf_{L}'][(10,0,-1)]).reshape((-1,2000))\n",
    "x=np.arange(2**L).repeat(2000).reshape((2**L,2000)).flatten()\n",
    "ax.scatter(x/2**L,pts.flatten(),s=0.5)\n",
    "\n",
    "ax.set_xlabel(r'$x/2^L$')\n",
    "ax.set_ylabel(r'$|\\langle x | \\psi\\rangle|^2$')"
   ]
  },
  {
   "cell_type": "code",
   "execution_count": null,
   "metadata": {},
   "outputs": [],
   "source": [
    "fig,ax=plt.subplots()\n",
    "pts=convert_to_abs(f_0[L][f'wf_{L}'][(10,0,-1)]).reshape((-1,2000))\n",
    "x=np.arange(2**L).repeat(2000).reshape((2**L,2000)).flatten()\n",
    "ax.scatter(x/2**L,pts.flatten(),s=0.5)\n",
    "\n",
    "ax.set_xlabel(r'$x/2^L$')\n",
    "ax.set_ylabel(r'$|\\langle x | \\psi\\rangle|^2$')"
   ]
  },
  {
   "cell_type": "code",
   "execution_count": null,
   "metadata": {},
   "outputs": [],
   "source": [
    "fig,ax=plt.subplots()\n",
    "pts=convert_to_abs(f_1_3[L][f'wf_{L}'][(15,0,-1)]).reshape((-1,2000))\n",
    "x=np.arange(2**L).repeat(2000).reshape((2**L,2000)).flatten()\n",
    "ax.scatter(x/2**L,pts.flatten(),s=0.5)\n",
    "\n",
    "ax.set_xlabel(r'$x/2^L$')\n",
    "ax.set_ylabel(r'$|\\langle x | \\psi\\rangle|^2$')"
   ]
  },
  {
   "cell_type": "code",
   "execution_count": null,
   "metadata": {},
   "outputs": [],
   "source": [
    "fig,ax=plt.subplots()\n",
    "pts=convert_to_abs(f_0[L][f'wf_{L}'][(15,0,-1)]).reshape((-1,2000))\n",
    "x=np.arange(2**L).repeat(2000).reshape((2**L,2000)).flatten()\n",
    "ax.scatter(x/2**L,pts.flatten(),s=0.5)\n",
    "\n",
    "ax.set_xlabel(r'$x/2^L$')\n",
    "ax.set_ylabel(r'$|\\langle x | \\psi\\rangle|^2$')"
   ]
  },
  {
   "cell_type": "code",
   "execution_count": null,
   "metadata": {},
   "outputs": [],
   "source": [
    "fig,ax=plt.subplots()\n",
    "pts=convert_to_abs(f_1_3[L][f'wf_{L}'][(20,0,-1)]).reshape((-1,2000))\n",
    "x=np.arange(2**L).repeat(2000).reshape((2**L,2000)).flatten()\n",
    "ax.scatter(x/2**L,pts.flatten(),s=0.5)\n",
    "\n",
    "ax.set_xlabel(r'$x/2^L$')\n",
    "ax.set_ylabel(r'$|\\langle x | \\psi\\rangle|^2$')"
   ]
  },
  {
   "cell_type": "code",
   "execution_count": null,
   "metadata": {},
   "outputs": [],
   "source": [
    "fig,ax=plt.subplots()\n",
    "pts=convert_to_abs(f_0[L][f'wf_{L}'][(20,0,-1)]).reshape((-1,2000))\n",
    "x=np.arange(2**L).repeat(2000).reshape((2**L,2000)).flatten()\n",
    "ax.scatter(x/2**L,pts.flatten(),s=0.5)\n",
    "\n",
    "ax.set_xlabel(r'$x/2^L$')\n",
    "ax.set_ylabel(r'$|\\langle x | \\psi\\rangle|^2$')"
   ]
  },
  {
   "cell_type": "code",
   "execution_count": null,
   "metadata": {},
   "outputs": [],
   "source": [
    "fig,ax=plt.subplots()\n",
    "pts=convert_to_abs(f_0[L][f'wf_{L}'][(0,0,-1)]).reshape((-1,2000))\n",
    "x=np.array(convert_bitstring_to_dw(L)).repeat(2000).reshape((2**L,2000)).flatten()\n",
    "ax.scatter(x,pts.flatten(),s=0.01)\n",
    "\n",
    "ax.set_xlabel(r'$FDW$')\n",
    "ax.set_ylabel(r'$\\sum_{x=FDW_k}|\\langle x | \\psi\\rangle|^2$')"
   ]
  },
  {
   "cell_type": "code",
   "execution_count": null,
   "metadata": {},
   "outputs": [],
   "source": [
    "fig,ax=plt.subplots()\n",
    "pts=convert_to_abs(f_0[L][f'wf_{L}'][(10,0,-1)]).reshape((-1,2000))\n",
    "x=np.array(convert_bitstring_to_dw(L)).repeat(2000).reshape((2**L,2000)).flatten()\n",
    "ax.scatter(x,pts.flatten(),s=0.01)\n",
    "\n",
    "ax.set_xlabel(r'$FDW$')\n",
    "ax.set_ylabel(r'$\\sum_{x=FDW_k}|\\langle x | \\psi\\rangle|^2$')"
   ]
  },
  {
   "cell_type": "code",
   "execution_count": null,
   "metadata": {},
   "outputs": [],
   "source": [
    "fig,ax=plt.subplots()\n",
    "pts=convert_to_abs(f_0[L][f'wf_{L}'][(20,0,-1)]).reshape((-1,2000))\n",
    "x=np.array(convert_bitstring_to_dw(L)).repeat(2000).reshape((2**L,2000)).flatten()\n",
    "ax.scatter(x,pts.flatten(),s=0.01)\n",
    "\n",
    "ax.set_xlabel(r'$FDW$')\n",
    "ax.set_ylabel(r'$\\sum_{x=FDW_k}|\\langle x | \\psi\\rangle|^2$')"
   ]
  },
  {
   "cell_type": "code",
   "execution_count": null,
   "metadata": {},
   "outputs": [],
   "source": [
    "fig,ax=plt.subplots()\n",
    "pts=convert_to_abs(f_1_3[L][f'wf_{L}'][(0,0,-1)]).reshape((-1,2000))\n",
    "x=np.array(convert_bitstring_to_dw(L,ZZ=True)).repeat(2000).reshape((2**L,2000)).flatten()\n",
    "ax.scatter(x,pts.flatten(),s=0.01)\n",
    "\n",
    "ax.set_xlabel(r'$FDW$')\n",
    "ax.set_ylabel(r'$\\sum_{x=FDW_k}|\\langle x | \\psi\\rangle|^2$')"
   ]
  },
  {
   "cell_type": "code",
   "execution_count": null,
   "metadata": {},
   "outputs": [],
   "source": [
    "fig,ax=plt.subplots()\n",
    "pts=convert_to_abs(f_1_3[L][f'wf_{L}'][(20,0,-1)]).reshape((-1,2000))\n",
    "x=np.array(convert_bitstring_to_dw(L,ZZ=True)).repeat(2000).reshape((2**L,2000)).flatten()\n",
    "ax.scatter(x,pts.flatten(),s=0.01)\n",
    "\n",
    "ax.set_xlabel(r'$FDW$')\n",
    "ax.set_ylabel(r'$\\sum_{x=FDW_k}|\\langle x | \\psi\\rangle|^2$')"
   ]
  },
  {
   "cell_type": "code",
   "execution_count": null,
   "metadata": {},
   "outputs": [],
   "source": [
    "pts=np.vstack([bitstring.flatten(),convert_to_abs(f['wf_8'][10,0,-1].reshape((-1,2000))).flatten()])"
   ]
  },
  {
   "cell_type": "code",
   "execution_count": null,
   "metadata": {},
   "outputs": [],
   "source": [
    "kernel=gaussian_kde(pts,bw_method=0.04,)"
   ]
  },
  {
   "cell_type": "code",
   "execution_count": null,
   "metadata": {},
   "outputs": [],
   "source": [
    "B,F=np.meshgrid(np.arange(0,2**8),np.linspace(0,1,11),)\n"
   ]
  },
  {
   "cell_type": "code",
   "execution_count": null,
   "metadata": {},
   "outputs": [],
   "source": [
    "B.shape"
   ]
  },
  {
   "cell_type": "code",
   "execution_count": null,
   "metadata": {},
   "outputs": [],
   "source": [
    "Z=kernel(np.vstack([B.ravel(),F.ravel()])).reshape(B.shape)"
   ]
  },
  {
   "cell_type": "code",
   "execution_count": null,
   "metadata": {},
   "outputs": [],
   "source": [
    "Z.shape"
   ]
  },
  {
   "cell_type": "code",
   "execution_count": null,
   "metadata": {},
   "outputs": [],
   "source": [
    "F[:,0]"
   ]
  },
  {
   "cell_type": "code",
   "execution_count": null,
   "metadata": {},
   "outputs": [],
   "source": [
    "p_idx=10\n",
    "pts=np.vstack([bitstring.flatten(),convert_to_abs(f['wf_8'][p_idx,0,-1].reshape((-1,2000))).flatten()])\n",
    "plt.scatter(*pts,marker='.',s=0.01)\n",
    "plt.plot(bitstring[:,0],convert_to_abs(f['wf_8'][p_idx,0,-1].reshape((-1,2000))).mean(axis=-1),color='r')\n",
    "# plt.pcolormesh(B[0],F[:,0],(Z),shading='auto',cmap='Blues')"
   ]
  },
  {
   "cell_type": "code",
   "execution_count": null,
   "metadata": {},
   "outputs": [],
   "source": [
    "p_idx=9\n",
    "plt.plot(bitstring[:,0],10*convert_to_abs(f['wf_8'][p_idx,0,-1].reshape((-1,2000))).mean(axis=-1),color='r')\n",
    "plt.yscale('log')"
   ]
  },
  {
   "cell_type": "code",
   "execution_count": null,
   "metadata": {},
   "outputs": [],
   "source": [
    "import seaborn as sns\n"
   ]
  },
  {
   "cell_type": "code",
   "execution_count": null,
   "metadata": {},
   "outputs": [],
   "source": [
    "sns.jointplot(x=pts[0], y=pts[1], kind=\"hex\")"
   ]
  },
  {
   "cell_type": "code",
   "execution_count": null,
   "metadata": {},
   "outputs": [],
   "source": [
    "sns.jointplot(x=pts[0], y=pts[1], kind=\"hist\")"
   ]
  },
  {
   "cell_type": "code",
   "execution_count": null,
   "metadata": {},
   "outputs": [],
   "source": [
    "ensemble=wf_amp[10,0,...,0].reshape((-1,2000))"
   ]
  },
  {
   "cell_type": "code",
   "execution_count": null,
   "metadata": {},
   "outputs": [],
   "source": [
    "ensemble.shape"
   ]
  },
  {
   "cell_type": "code",
   "execution_count": null,
   "metadata": {},
   "outputs": [],
   "source": [
    "torch.arange(256).repeat(2000).reshape((2000,256)).T.flatten()\n",
    "ensemble.flatten()"
   ]
  },
  {
   "cell_type": "code",
   "execution_count": null,
   "metadata": {},
   "outputs": [],
   "source": [
    "plt.scatter(torch.arange(256).repeat(2000).reshape((2000,256)).T.flatten(),ensemble.flatten(),s=0.1)"
   ]
  },
  {
   "cell_type": "code",
   "execution_count": null,
   "metadata": {},
   "outputs": [],
   "source": [
    "plt.scatter(torch.arange(256).repeat(2000).reshape((2000,256)).T.flatten(),ensemble.flatten(),s=0.1)"
   ]
  },
  {
   "cell_type": "code",
   "execution_count": null,
   "metadata": {},
   "outputs": [],
   "source": [
    "plt.scatter(torch.arange(256).repeat(2000).reshape((2000,256)).T.flatten(),ensemble.flatten(),s=0.1)"
   ]
  },
  {
   "cell_type": "code",
   "execution_count": null,
   "metadata": {},
   "outputs": [],
   "source": [
    "ensemble[0,]"
   ]
  },
  {
   "cell_type": "markdown",
   "metadata": {},
   "source": [
    "# A vs L "
   ]
  },
  {
   "cell_type": "code",
   "execution_count": null,
   "metadata": {},
   "outputs": [],
   "source": [
    "A_list_0=np.array([([convert_to_abs2(f_0[L][f'wf_{L}'][(p_idx,0,-1)+(0,)*L]).mean(axis=(-2,-1)) for p_idx in range(21)]) for L in L_list])\n",
    "A_list_1_3=np.array([[convert_to_abs2(f_1_3[L][f'wf_{L}'][(p_idx,0,-1)+(0,1)*(L//2)]).mean(axis=(-2,-1)) + convert_to_abs2(f_1_3[L][f'wf_{L}'][(p_idx,0,-1)+(1,0)*(L//2)]).mean(axis=(-2,-1)) for p_idx in range(21)] for L in L_list])"
   ]
  },
  {
   "cell_type": "code",
   "execution_count": null,
   "metadata": {},
   "outputs": [],
   "source": [
    "A_list_0_sem=np.array([([convert_to_abs2(f_0[L][f'wf_{L}'][(p_idx,0,-1)+(0,)*L]).std(axis=(-2,-1))/np.sqrt(2000) for p_idx in range(21)]) for L in L_list])\n",
    "A_list_1_3_sem=np.array(\n",
    "    [\n",
    "        [\n",
    "            (\n",
    "                convert_to_abs2(f_1_3[L][f'wf_{L}'][(p_idx,0,-1)+(0,1)*(L//2)])\n",
    "                + \n",
    "                convert_to_abs2(f_1_3[L][f'wf_{L}'][(p_idx,0,-1)+(1,0)*(L//2)])\n",
    "            ).std(axis=(-2,-1))/np.sqrt(2000) \n",
    "                for p_idx in range(21)\n",
    "        ] for L in L_list\n",
    "    ])\n",
    "\n"
   ]
  },
  {
   "cell_type": "code",
   "execution_count": null,
   "metadata": {},
   "outputs": [],
   "source": [
    "with open('A_vs_L_0.pickle','wb') as f:\n",
    "    pickle.dump([A_list_0,A_list_0_sem],f)\n",
    "with open('A_vs_L_1_3.pickle','wb') as f:\n",
    "    pickle.dump([A_list_1_3,A_list_1_3_sem],f)"
   ]
  },
  {
   "cell_type": "code",
   "execution_count": null,
   "metadata": {},
   "outputs": [],
   "source": [
    "with open('A_vs_L_0.pickle','wb') as f:\n",
    "    pickle.dump(A_list_0,f)\n",
    "with open('A_vs_L_1_3.pickle','wb') as f:\n",
    "    pickle.dump(A_list_1_3,f)"
   ]
  },
  {
   "cell_type": "markdown",
   "metadata": {},
   "source": [
    "## p(x) dx"
   ]
  },
  {
   "cell_type": "code",
   "execution_count": null,
   "metadata": {},
   "outputs": [],
   "source": [
    "L_list=np.arange(8,18,2)"
   ]
  },
  {
   "cell_type": "code",
   "execution_count": null,
   "metadata": {},
   "outputs": [],
   "source": [
    "fig,ax=plt.subplots(figsize=(6,4))\n",
    "\n",
    "for p_idx in range(12):\n",
    "    ax.plot(L_list, [(A_list_0[L_idx][p_idx]) for L_idx in range(len(L_list))],'.-',label=f'$p_{{ctrl}}$={p_ctrl_list[p_idx]:.2f},FM')\n",
    "\n",
    "# for p_idx in [0]:\n",
    "#     ax.plot(L_list, [(A_list_1_3[L_idx][p_idx]) for L_idx in range(len(L_list))],'.-',label=f'$p_{{ctrl}}$={p_ctrl_list[p_idx]:.2f},AFM')\n",
    "\n",
    "ax.set_xlabel('L')\n",
    "ax.set_ylabel(r'$\\langle|a_{xj}|^2\\rangle_C$')\n",
    "# ax.set_xticks(L_list)\n",
    "ax.grid('on')\n",
    "\n",
    "ax.set_yscale('log')\n",
    "ax.legend(loc='upper left',bbox_to_anchor=(1,1))"
   ]
  },
  {
   "cell_type": "code",
   "execution_count": null,
   "metadata": {},
   "outputs": [],
   "source": [
    "[(A_list_0[L_idx][p_idx]) for L_idx in range(len(L_list))]"
   ]
  },
  {
   "cell_type": "code",
   "execution_count": null,
   "metadata": {},
   "outputs": [],
   "source": [
    "from scipy.special import comb"
   ]
  },
  {
   "cell_type": "code",
   "execution_count": null,
   "metadata": {},
   "outputs": [],
   "source": [
    "L=8"
   ]
  },
  {
   "cell_type": "code",
   "execution_count": null,
   "metadata": {},
   "outputs": [],
   "source": [
    "L=8"
   ]
  },
  {
   "cell_type": "code",
   "execution_count": null,
   "metadata": {},
   "outputs": [],
   "source": [
    "(np.sum([np.sum([comb(F-1,i,exact=True)*(L-2-2*i) for i in range(F)])/2**F for F in range(1,L+1)])/L+1)*(1/(1+L/2))"
   ]
  },
  {
   "cell_type": "code",
   "execution_count": null,
   "metadata": {},
   "outputs": [],
   "source": [
    "np.arange(2,1000,100)"
   ]
  },
  {
   "cell_type": "code",
   "execution_count": null,
   "metadata": {},
   "outputs": [],
   "source": [
    "L_list_0=[8,10,12,14,16]\n",
    "cross=[(np.sum([np.sum([comb(F-1,i,exact=True)*(L-2-2*i) for i in range(F)])/2**F for F in range(1,L+1)])/L+1)*(1/(1+L/2)) for L in L_list_0]"
   ]
  },
  {
   "cell_type": "code",
   "execution_count": null,
   "metadata": {},
   "outputs": [],
   "source": [
    "L_list_0=[8,10,12,14,16,18,20,22]\n",
    "k=0.23\n",
    "cross=np.array([(np.sum([np.sum([2**(k*F)*comb(F-1,i,exact=True)*(L-2-2*i)/L for i in range(F)])/2**(F-1) for F in range(1,L+1)])+1)*(1-2**(k))/(1-2**(k*(1+L))) for L in L_list_0])"
   ]
  },
  {
   "cell_type": "code",
   "execution_count": null,
   "metadata": {},
   "outputs": [],
   "source": [
    "plt.plot(L_list_0,cross,'.-')\n",
    "# plt.plot(L_list,1/2-np.array(O_list_0).flatten(),'.-',color='y')\n",
    "# plt.plot(L_list,np.array(A_list_0)[:,10],'.-',color='b')\n",
    "plt.plot(L_list,np.array(O_list_0_9).flatten(),'.-',color='y')\n",
    "# plt.yscale('log')\n",
    "# plt.xscale('log')\n"
   ]
  },
  {
   "cell_type": "code",
   "execution_count": null,
   "metadata": {},
   "outputs": [],
   "source": []
  },
  {
   "cell_type": "code",
   "execution_count": null,
   "metadata": {},
   "outputs": [],
   "source": [
    "plt.plot(L_list_0,cross,'.-')\n",
    "plt.plot(L_list,np.array(O_list_0).flatten(),'.-',color='y')"
   ]
  },
  {
   "cell_type": "code",
   "execution_count": null,
   "metadata": {},
   "outputs": [],
   "source": [
    "1/(1+L/2) * (1+ np.sum([[comb(F-1,i)*(L-2-2*i) for i in range(F)] for F in range(1,L+1)]))"
   ]
  },
  {
   "cell_type": "code",
   "execution_count": null,
   "metadata": {},
   "outputs": [],
   "source": [
    "comb(4,2,exact=True)"
   ]
  },
  {
   "cell_type": "code",
   "execution_count": null,
   "metadata": {},
   "outputs": [],
   "source": [
    "plt.plot(np.array(L_list),1/(1+np.array(L_list)/2),'.-',color='r')\n",
    "plt.plot(np.array(L_list),1/(1+np.array(L_list)),'.-',color='g')\n"
   ]
  },
  {
   "cell_type": "code",
   "execution_count": null,
   "metadata": {},
   "outputs": [],
   "source": [
    "fig,ax=plt.subplots(figsize=(6,4))\n",
    "\n",
    "for p_idx in range(10,11):\n",
    "    ax.plot(L_list, [(A_list_0[L_idx][p_idx]) for L_idx in range(len(L_list))],'.-',label=f'$p_{{ctrl}}$={p_ctrl_list[p_idx]:.2f},FM')\n",
    "ax.plot(np.array(L_list),1/(1+np.array(L_list)/2),'.-',color='r')\n",
    "ax.plot(np.array(L_list),1/(1+np.array(L_list)),'.-',color='g')\n",
    "# for p_idx in [0]:\n",
    "#     ax.plot(L_list, [(A_list_1_3[L_idx][p_idx]) for L_idx in range(len(L_list))],'.-',label=f'$p_{{ctrl}}$={p_ctrl_list[p_idx]:.2f},AFM')\n",
    "\n",
    "ax.set_xlabel('L')\n",
    "ax.set_ylabel(r'$\\langle|a_{xj}|^2\\rangle_C$')\n",
    "# ax.set_xticks(L_list)\n",
    "ax.grid('on')\n",
    "\n",
    "# ax.set_xscale('log')\n",
    "# ax.set_yscale('log')\n",
    "ax.legend(loc='upper left',bbox_to_anchor=(1,1))"
   ]
  },
  {
   "cell_type": "code",
   "execution_count": null,
   "metadata": {},
   "outputs": [],
   "source": []
  },
  {
   "cell_type": "code",
   "execution_count": null,
   "metadata": {},
   "outputs": [],
   "source": [
    "fig,ax=plt.subplots(figsize=(6,4))\n",
    "\n",
    "# for p_idx in [0,]:\n",
    "    # ax.plot(L_list, [(A_list_0[L_idx][p_idx]) for L_idx in range(len(L_list))],'.-',label=f'$p_{{ctrl}}$={p_ctrl_list[p_idx]:.2f},FM')\n",
    "\n",
    "for p_idx in range(12):\n",
    "    ax.plot(L_list, [(A_list_1_3[L_idx][p_idx]) for L_idx in range(len(L_list))],'.-',label=f'$p_{{ctrl}}$={p_ctrl_list[p_idx]:.2f},AFM')\n",
    "\n",
    "ax.set_xlabel('L')\n",
    "ax.set_ylabel(r'$\\langle|a_{xj}|^2\\rangle_C$')\n",
    "ax.set_xticks(L_list)\n",
    "ax.grid('on')\n",
    "# ax.set_ylim(0,0.01)\n",
    "\n",
    "ax.set_yscale('log')\n",
    "ax.legend(loc='upper left',bbox_to_anchor=(1,1))"
   ]
  },
  {
   "cell_type": "code",
   "execution_count": null,
   "metadata": {},
   "outputs": [],
   "source": [
    "np.log2(1/(1+12/2)*2**12)"
   ]
  },
  {
   "cell_type": "code",
   "execution_count": null,
   "metadata": {},
   "outputs": [],
   "source": [
    "x=np.linspace(0,1)\n",
    "# y=np.exp(-x)\n",
    "y=1/x\n",
    "plt.plot(x,y)\n",
    "plt.yscale('log')\n",
    "# plt.xscale('log')"
   ]
  },
  {
   "cell_type": "code",
   "execution_count": null,
   "metadata": {},
   "outputs": [],
   "source": [
    "fig,ax=plt.subplots(figsize=(6,4))\n",
    "\n",
    "# for p_idx in [0,]:\n",
    "    # ax.plot(L_list, [(A_list_0[L_idx][p_idx]) for L_idx in range(len(L_list))],'.-',label=f'$p_{{ctrl}}$={p_ctrl_list[p_idx]:.2f},FM')\n",
    "\n",
    "for p_idx in range(6,11):\n",
    "    ax.plot(L_list, [(A_list_1_3[L_idx][p_idx]) for L_idx in range(len(L_list))],'.-',label=f'$p_{{ctrl}}$={p_ctrl_list[p_idx]:.2f},AFM')\n",
    "\n",
    "ax.set_xlabel('L')\n",
    "ax.set_ylabel(r'$\\langle|a_{xj}|^2\\rangle_C$')\n",
    "ax.set_xticks(L_list)\n",
    "ax.grid('on')\n",
    "# ax.set_ylim(0,0.01)\n",
    "ax.set_xscale('log')\n",
    "ax.set_yscale('log')\n",
    "ax.legend(loc='upper left',bbox_to_anchor=(1,1))"
   ]
  },
  {
   "cell_type": "code",
   "execution_count": null,
   "metadata": {},
   "outputs": [],
   "source": [
    "fig,ax=plt.subplots(figsize=(4,3))\n",
    "\n",
    "# for p_idx in [0,]:\n",
    "    # ax.plot(L_list, [(A_list_0[L_idx][p_idx]) for L_idx in range(len(L_list))],'.-',label=f'$p_{{ctrl}}$={p_ctrl_list[p_idx]:.2f},FM')\n",
    "\n",
    "for p_idx in range(15):\n",
    "    ax.plot(L_list, [(A_list_1_3[L_idx][p_idx]) for L_idx in range(len(L_list))],'.-',label=f'$p_{{ctrl}}$={p_ctrl_list[p_idx]:.2f},AFM')\n",
    "\n",
    "ax.set_xlabel('L')\n",
    "ax.set_ylabel(r'$\\langle|a_{xj}|^2\\rangle_C$')\n",
    "ax.set_xticks(L_list)\n",
    "ax.grid('on')\n",
    "# ax.set_ylim(0,0.01)\n",
    "\n",
    "ax.set_yscale('log')\n",
    "ax.set_xscale('log')\n",
    "ax.legend(loc='upper left',bbox_to_anchor=(1,1))"
   ]
  },
  {
   "cell_type": "code",
   "execution_count": null,
   "metadata": {},
   "outputs": [],
   "source": [
    "fig,ax=plt.subplots(figsize=(4,3))\n",
    "\n",
    "for p_idx in [10,]:\n",
    "    ax.plot(L_list, [(A_list_0[L_idx][p_idx]) for L_idx in range(len(L_list))],'.-',label=f'$p_{{ctrl}}$={p_ctrl_list[p_idx]:.2f},FM')\n",
    "\n",
    "for p_idx in [10,]:\n",
    "    ax.plot(L_list, [(A_list_1_3[L_idx][p_idx]) for L_idx in range(len(L_list))],'.-',label=f'$p_{{ctrl}}$={p_ctrl_list[p_idx]:.2f},AFM')\n",
    "\n",
    "ax.set_xlabel('L')\n",
    "ax.set_ylabel(r'$\\langle|a_{xj}|^2\\rangle_C$')\n",
    "ax.set_xticks(L_list)\n",
    "# ax.set_xticks(1/L_list)\n",
    "ax.grid('on')\n",
    "ax.legend()\n",
    "ax.set_yscale('log')\n",
    "ax.set_xscale('log')"
   ]
  },
  {
   "cell_type": "code",
   "execution_count": null,
   "metadata": {},
   "outputs": [],
   "source": [
    "fig,ax=plt.subplots(figsize=(4,3))\n",
    "\n",
    "for p_idx in [15,]:\n",
    "    ax.plot(L_list, [(A_list_0[L_idx][p_idx]) for L_idx in range(len(L_list))],'.-',label=f'$p_{{ctrl}}$={p_ctrl_list[p_idx]:.2f},FM')\n",
    "\n",
    "for p_idx in [15,]:\n",
    "    ax.plot(L_list, [(A_list_1_3[L_idx][p_idx]) for L_idx in range(len(L_list))],'.-',label=f'$p_{{ctrl}}$={p_ctrl_list[p_idx]:.2f},AFM')\n",
    "\n",
    "ax.set_xlabel('L')\n",
    "ax.set_ylabel(r'$\\langle|a_{xj}|^2\\rangle_C$')\n",
    "ax.set_xticks(L_list)\n",
    "ax.grid('on')\n",
    "ax.set_ylim(0,1.05)\n",
    "ax.legend()"
   ]
  },
  {
   "cell_type": "code",
   "execution_count": null,
   "metadata": {},
   "outputs": [],
   "source": [
    "def preprocessing(x,y,kind):\n",
    "    if kind =='exp':\n",
    "        y=np.log(y)\n",
    "    elif kind =='log':\n",
    "        x=np.log(x)\n",
    "        y=np.log(y)\n",
    "    return x,y\n",
    "\n",
    "def fitting_model(x,y,kind):\n",
    "    if kind=='const':\n",
    "        return 0,np.mean(y),\n"
   ]
  },
  {
   "cell_type": "markdown",
   "metadata": {},
   "source": [
    "## p(x)"
   ]
  },
  {
   "cell_type": "code",
   "execution_count": null,
   "metadata": {},
   "outputs": [],
   "source": [
    "fig,ax=plt.subplots(figsize=(4,3))\n",
    "\n",
    "for p_idx in [0,]:\n",
    "    ax.plot(L_list, [2**L*(A_list_0[L_idx][p_idx]) for L_idx,L in enumerate((L_list))],'.-',label=f'$p_{{ctrl}}$={p_ctrl_list[p_idx]:.2f},FM')\n",
    "\n",
    "for p_idx in [0,]:\n",
    "    ax.plot(L_list, [2**L*(A_list_1_3[L_idx][p_idx]) for L_idx,L in enumerate((L_list))],'.-',label=f'$p_{{ctrl}}$={p_ctrl_list[p_idx]:.2f},AFM')\n",
    "ax.set_xlabel('L')\n",
    "ax.set_ylabel(r'$2^L\\langle|a_{xj}|^2\\rangle_C$')\n",
    "ax.set_xticks(L_list)\n",
    "ax.grid('on')\n",
    "ax.legend()\n",
    "\n",
    "ax.set_ylim(0,2.1)\n"
   ]
  },
  {
   "cell_type": "code",
   "execution_count": null,
   "metadata": {},
   "outputs": [],
   "source": [
    "fig,ax=plt.subplots(figsize=(4,3))\n",
    "\n",
    "for p_idx in [10,]:\n",
    "    ax.plot(L_list, [2**L*(A_list_0[L_idx][p_idx]) for L_idx,L in enumerate((L_list))],'.-',label=f'$p_{{ctrl}}$={p_ctrl_list[p_idx]:.2f},FM')\n",
    "\n",
    "for p_idx in [10,]:\n",
    "    ax.plot(L_list, [2**L*(A_list_1_3[L_idx][p_idx]) for L_idx,L in enumerate((L_list))],'.-',label=f'$p_{{ctrl}}$={p_ctrl_list[p_idx]:.2f},AFM')\n",
    "ax.set_xlabel('L')\n",
    "ax.set_ylabel(r'$2^L\\langle|a_{xj}|^2\\rangle_C$')\n",
    "# ax.set_xticks(1/L_list)\n",
    "ax.grid('on')\n",
    "ax.legend()\n",
    "ax.set_yscale('log')"
   ]
  },
  {
   "cell_type": "code",
   "execution_count": null,
   "metadata": {},
   "outputs": [],
   "source": [
    "fig,ax=plt.subplots(figsize=(4,3))\n",
    "\n",
    "for p_idx in [20,]:\n",
    "    ax.plot(L_list, [2**L*(A_list_0[L_idx][p_idx]) for L_idx,L in enumerate((L_list))],'.-',label=f'$p_{{ctrl}}$={p_ctrl_list[p_idx]:.2f},FM')\n",
    "\n",
    "for p_idx in [20,]:\n",
    "    ax.plot(L_list, [2**L*(A_list_1_3[L_idx][p_idx]) for L_idx,L in enumerate((L_list))],'.-',label=f'$p_{{ctrl}}$={p_ctrl_list[p_idx]:.2f},AFM')\n",
    "ax.set_xlabel('L')\n",
    "ax.set_ylabel(r'$2^L\\langle|a_{xj}|^2\\rangle_C$')\n",
    "ax.set_xticks(L_list)\n",
    "ax.grid('on')\n",
    "ax.legend()\n",
    "ax.set_yscale('log')"
   ]
  },
  {
   "cell_type": "code",
   "execution_count": null,
   "metadata": {},
   "outputs": [],
   "source": [
    "fig,ax=plt.subplots(figsize=(6,4))\n",
    "\n",
    "# for p_idx in [0,]:\n",
    "    # ax.plot(L_list, [(A_list_0[L_idx][p_idx]) for L_idx in range(len(L_list))],'.-',label=f'$p_{{ctrl}}$={p_ctrl_list[p_idx]:.2f},FM')\n",
    "\n",
    "for p_idx in range(12):\n",
    "    ax.plot(L_list, [2**L_list[L_idx]*(A_list_1_3[L_idx][p_idx]) for L_idx in range(len(L_list))],'.-',label=f'$p_{{ctrl}}$={p_ctrl_list[p_idx]:.2f},AFM')\n",
    "\n",
    "ax.set_xlabel('L')\n",
    "ax.set_ylabel(r'$2^L\\langle|a_{xj}|^2\\rangle_C$')\n",
    "ax.set_xticks(L_list)\n",
    "ax.grid('on')\n",
    "# ax.set_ylim(0,0.01)\n",
    "\n",
    "ax.set_yscale('log')\n",
    "ax.legend(loc='upper left',bbox_to_anchor=(1,1))"
   ]
  },
  {
   "cell_type": "code",
   "execution_count": null,
   "metadata": {},
   "outputs": [],
   "source": [
    "fig,ax=plt.subplots(figsize=(6,4))\n",
    "\n",
    "for p_idx in range(12):\n",
    "    ax.plot(L_list, [(2**L_list[L_idx]*A_list_0[L_idx][p_idx]) for L_idx in range(len(L_list))],'.-',label=f'$p_{{ctrl}}$={p_ctrl_list[p_idx]:.2f},FM')\n",
    "\n",
    "# for p_idx in [0]:\n",
    "#     ax.plot(L_list, [(A_list_1_3[L_idx][p_idx]) for L_idx in range(len(L_list))],'.-',label=f'$p_{{ctrl}}$={p_ctrl_list[p_idx]:.2f},AFM')\n",
    "\n",
    "ax.set_xlabel('L')\n",
    "ax.set_ylabel(r'$2^L\\langle|a_{xj}|^2\\rangle_C$')\n",
    "# ax.set_xticks(L_list)\n",
    "ax.grid('on')\n",
    "\n",
    "ax.set_yscale('log')\n",
    "ax.legend(loc='upper left',bbox_to_anchor=(1,1))"
   ]
  },
  {
   "cell_type": "markdown",
   "metadata": {},
   "source": [
    "# O vs L"
   ]
  },
  {
   "cell_type": "code",
   "execution_count": null,
   "metadata": {},
   "outputs": [],
   "source": [
    "Z_list={L: Z(L,(0,L))/L for L in L_list}\n",
    "ZZ_list={L: ZZ(L,(0,L))/L for L in L_list}"
   ]
  },
  {
   "cell_type": "code",
   "execution_count": null,
   "metadata": {},
   "outputs": [],
   "source": [
    "L_list"
   ]
  },
  {
   "cell_type": "code",
   "execution_count": null,
   "metadata": {},
   "outputs": [],
   "source": [
    "convert_to_abs2(f_0[L][f'wf_{L}'])[(p_idx,0,-1)].reshape((-1,2000)).mean(axis=-1)"
   ]
  },
  {
   "cell_type": "code",
   "execution_count": null,
   "metadata": {},
   "outputs": [],
   "source": [
    "convert_to_abs2(f_0[L][f'wf_{L}'][(p_idx,0,-1)]).reshape((-1,2000)).mean(axis=-1)"
   ]
  },
  {
   "cell_type": "code",
   "execution_count": null,
   "metadata": {},
   "outputs": [],
   "source": [
    "L=16\n",
    "# convert_to_abs2(f_0[L][f'wf_{L}'])[(p_idx,0,-1)].reshape((-1,2000)).mean(axis=-1)\n",
    "zz=(Z_list[L]@(convert_to_abs2(f_0[L][f'wf_{L}'][(p_idx,0,-1)]).reshape((-1,2000)).mean(axis=-1)))\n",
    "zz2=(Z_list[L]@convert_to_abs2(f_0[L][f'wf_{L}'][(p_idx,0,-1)]).reshape((-1,2000)).mean(axis=-1))"
   ]
  },
  {
   "cell_type": "code",
   "execution_count": null,
   "metadata": {},
   "outputs": [],
   "source": [
    "O_list_0=[[(Z_list[L]@(convert_to_abs2(f_0[L][f'wf_{L}'])[(p_idx,0,-1)].reshape((-1,2000)).mean(axis=-1))) for p_idx in range(21)] for L in L_list]"
   ]
  },
  {
   "cell_type": "code",
   "execution_count": null,
   "metadata": {},
   "outputs": [],
   "source": [
    "O_list_0_0=[[(Z_list[L]@convert_to_abs2(f_0[L][f'wf_{L}'])[(p_idx,0,-1)].reshape((-1,2000)).mean(axis=-1)) for p_idx in range(0,1)] for L in L_list]"
   ]
  },
  {
   "cell_type": "code",
   "execution_count": null,
   "metadata": {},
   "outputs": [],
   "source": [
    "O_list_0_1=[[(Z_list[L]@convert_to_abs2(f_0[L][f'wf_{L}'])[(p_idx,0,-1)].reshape((-1,2000)).mean(axis=-1)) for p_idx in range(20,21)] for L in L_list]"
   ]
  },
  {
   "cell_type": "code",
   "execution_count": null,
   "metadata": {},
   "outputs": [],
   "source": [
    "O_list_0_5=[[(Z_list[L]@convert_to_abs2(f_0[L][f'wf_{L}'])[(p_idx,0,-1)].reshape((-1,2000)).mean(axis=-1)) for p_idx in range(5,6)] for L in L_list]"
   ]
  },
  {
   "cell_type": "code",
   "execution_count": null,
   "metadata": {},
   "outputs": [],
   "source": [
    "O_list_0_9=[[(Z_list[L]@convert_to_abs2(f_0[L][f'wf_{L}'])[(p_idx,0,-1)].reshape((-1,2000)).mean(axis=-1)) for p_idx in range(9,10)] for L in L_list]"
   ]
  },
  {
   "cell_type": "code",
   "execution_count": null,
   "metadata": {},
   "outputs": [],
   "source": [
    "O_list_0=([[(Z_list[L]@(convert_to_abs2(f_0[L][f'wf_{L}'][(p_idx,0,-1)]).reshape((-1,2000)).mean(axis=-1))) for p_idx in range(21)] for L in L_list])\n",
    "O_list_1_3=([[(ZZ_list[L]@(convert_to_abs2(f_1_3[L][f'wf_{L}'][(p_idx,0,-1)]).reshape((-1,2000)).mean(axis=-1))) for p_idx in range(21)] for L in L_list])\n"
   ]
  },
  {
   "cell_type": "code",
   "execution_count": null,
   "metadata": {},
   "outputs": [],
   "source": [
    "L=8\n",
    "p_idx=0\n",
    "((ZZ_list[L]@(convert_to_abs2(f_1_3[L][f'wf_{L}'][(p_idx,0,-1)]).reshape((-1,2000)))).std(axis=-1)/np.sqrt(2000))"
   ]
  },
  {
   "cell_type": "code",
   "execution_count": null,
   "metadata": {},
   "outputs": [],
   "source": []
  },
  {
   "cell_type": "code",
   "execution_count": null,
   "metadata": {},
   "outputs": [],
   "source": [
    "O_list_1_3_sem[0]"
   ]
  },
  {
   "cell_type": "code",
   "execution_count": null,
   "metadata": {},
   "outputs": [],
   "source": [
    "O_list_0_sem=([[((Z_list[L]@(convert_to_abs2(f_0[L][f'wf_{L}'][(p_idx,0,-1)]).reshape((-1,2000)))).std(axis=-1)/np.sqrt(2000)) for p_idx in range(21)] for L in L_list])\n",
    "O_list_1_3_sem=([[((ZZ_list[L]@(convert_to_abs2(f_1_3[L][f'wf_{L}'][(p_idx,0,-1)]).reshape((-1,2000)))).std(axis=-1)/np.sqrt(2000)) for p_idx in range(21)] for L in L_list])"
   ]
  },
  {
   "cell_type": "code",
   "execution_count": null,
   "metadata": {},
   "outputs": [],
   "source": [
    "with open('O_vs_L_0.pickle','wb') as f:\n",
    "    pickle.dump([O_list_0,O_list_0_sem],f)\n",
    "with open('O_vs_L_1_3.pickle','wb') as f:\n",
    "    pickle.dump([O_list_1_3,O_list_1_3_sem],f)"
   ]
  },
  {
   "cell_type": "code",
   "execution_count": null,
   "metadata": {},
   "outputs": [],
   "source": []
  },
  {
   "cell_type": "code",
   "execution_count": null,
   "metadata": {},
   "outputs": [],
   "source": [
    "fig,ax=plt.subplots(figsize=(6,4))\n",
    "\n",
    "for p_idx in range(12):\n",
    "    ax.plot(L_list, [(O_list_0[L_idx][p_idx]) for L_idx in range(len(L_list))],'.-',label=f'$p_{{ctrl}}$={p_ctrl_list[p_idx]:.2f},FM')\n",
    "\n",
    "# for p_idx in [0]:\n",
    "#     ax.plot(L_list, [(O_list_1_3[L_idx][p_idx]) for L_idx in range(len(L_list))],'.-',label=f'$p_{{ctrl}}$={p_ctrl_list[p_idx]:.2f},AFM')\n",
    "\n",
    "ax.set_xlabel('L')\n",
    "ax.set_ylabel(r'$\\langle|O|\\rangle_C$')\n",
    "# ax.set_xticks(L_list)\n",
    "ax.grid('on')\n",
    "\n",
    "ax.set_yscale('log')\n",
    "ax.legend(loc='upper left',bbox_to_anchor=(1,1))"
   ]
  },
  {
   "cell_type": "markdown",
   "metadata": {},
   "source": [
    "# Diffusion constant"
   ]
  },
  {
   "cell_type": "markdown",
   "metadata": {},
   "source": [
    "## API: plot "
   ]
  },
  {
   "cell_type": "code",
   "execution_count": null,
   "metadata": {},
   "outputs": [],
   "source": [
    "import matplotlib.pyplot as plt"
   ]
  },
  {
   "cell_type": "code",
   "execution_count": null,
   "metadata": {},
   "outputs": [],
   "source": [
    "class Diffusion:\n",
    "    diffusion_type_ylabel={\n",
    "    1: r'$\\mathbb{E}_m[\\langle{\\hat{F}}\\rangle^2]- \\mathbb{E}_m[\\langle{\\hat{F}}\\rangle]^2$',\n",
    "    2: r'$\\mathbb{E}_m[\\langle(\\hat{F}-\\langle\\hat{F}\\rangle)^2\\rangle]$',\n",
    "    3: r'$\\mathbb{E}_m[\\langle(\\hat{F}-\\langle\\hat{F}\\rangle)^2\\rangle^2]^{1/2}$',\n",
    "    4: r'$[\\mathbb{E}_m[\\langle(\\hat{F}-\\langle\\hat{F}\\rangle)^2\\rangle^2]-\\mathbb{E}_m[\\langle(\\hat{F}-\\langle\\hat{F}\\rangle)^2\\rangle]^2]^{1/2}$'\n",
    "    }\n",
    "    diffusion_xlabel={1: r'$D$', 2: r'$D_2$', 3: r'$D_3$', 4: r'$\\sqrt{D_3^2-D_2^2}$'}\n",
    "    diffusion_type_str= {1:'var_mean',2: 'mean_var', 3:'mean_var2', 4:'std_var'}\n",
    "    diffusion_rate={1:'D',2:'D2',3:'D3',4:'D32'}\n",
    "    fixed_str = {'AFM':'1_3', 'FM':'0'}\n",
    "    p_label={True:'ctrl',False:'proj'}\n",
    "    t_label={None:r'$t$','sqrt':r'$\\sqrt{t}/L$','log':r'$\\log{t/L}$','linear':r'$t/L$','sqrt2':r'$\\sqrt{t/L}$'}\n",
    "    t_func_={'sqrt':lambda t,L:np.sqrt(t)/L,'log':lambda t,L:np.log(t/L),'linear':lambda t,L:t/L,'sqrt2':lambda t,L:np.sqrt(t/L)}\n",
    "\n",
    "    t_func_fn={None:'_t', 'sqrt':'_sqrt', 'log':'_log', 'linear':'_linear','sqrt2':'_sqrt2'}\n",
    "\n",
    "    def __init__(self,fdw,fixed,diffusion_type,ctrl):\n",
    "        self.diffusion_type=diffusion_type\n",
    "        self.ctrl=ctrl\n",
    "        self.fixed=fixed\n",
    "        self.fdw=fdw[(fixed,self.p_label[ctrl])]\n",
    "    \n",
    "    def generate_data(self,L,idx,func):\n",
    "        '''L : length of system\n",
    "        idx: index of p_list or p_list'''\n",
    "        t=np.arange(2*L**2+1)\n",
    "        if func is not None:\n",
    "            x=self.t_func_[func](t,L)\n",
    "        else:\n",
    "            x=t\n",
    "        slicing=(idx,0) if self.ctrl else (0,idx)\n",
    "        if self.diffusion_type==1:\n",
    "            y=np.var(self.fdw[L][f'FDW_{L}'][slicing[0],slicing[1],:,0,:,0],axis=-1)\n",
    "        elif self.diffusion_type==2:\n",
    "            var_state=self.fdw[L][f'FDW_{L}'][slicing[0],slicing[1],:,1,:,0]-self.fdw[L][f'FDW_{L}'][slicing[0],slicing[1],:,0,:,0]**2\n",
    "            y=np.mean(var_state,axis=-1)\n",
    "        elif self.diffusion_type==3:\n",
    "            var_state=self.fdw[L][f'FDW_{L}'][slicing[0],slicing[1],:,1,:,0]-self.fdw[L][f'FDW_{L}'][slicing[0],slicing[1],:,0,:,0]**2\n",
    "            y=np.mean(var_state**2,axis=-1)**0.5\n",
    "        elif self.diffusion_type==4:\n",
    "            var_state=self.fdw[L][f'FDW_{L}'][slicing[0],slicing[1],:,1,:,0]-self.fdw[L][f'FDW_{L}'][slicing[0],slicing[1],:,0,:,0]**2\n",
    "            y=np.sqrt(np.mean(var_state**2,axis=-1)-np.mean(var_state,axis=-1)**2)\n",
    "        return x,y\n",
    "\n",
    "    def plot_fit(self,L_list,p_list,fit,idx_list,xlim_func,L_alpha,t_func=None,shift_step=0,xlim=(0,20)):\n",
    "        fig,ax=plt.subplots(figsize=(6,5))\n",
    "        alpha_list=np.linspace(1,0.4,len(L_list))\n",
    "        color_list=['C0','C1','C2','C3','C6']\n",
    "        if L_alpha:\n",
    "            outer_list, inner_list = list(zip(enumerate(idx_list),color_list)), list(zip(enumerate(L_list),alpha_list))\n",
    "        else:\n",
    "            outer_list, inner_list = list(zip(enumerate(L_list),color_list)), list(zip(enumerate(idx_list),alpha_list))\n",
    "        for outer in outer_list:\n",
    "            for inner in inner_list:\n",
    "                if L_alpha:\n",
    "                    (shift_idx,idx),color=outer\n",
    "                    (L_idx,L),alpha=inner\n",
    "                    shift=shift_idx*shift_step\n",
    "                else:\n",
    "                    (L_idx,L),color=outer\n",
    "                    (shift_idx,idx),alpha=inner\n",
    "                    shift=L_idx*shift_step\n",
    "                x,y=self.generate_data(L,idx,t_func)\n",
    "                if t_func is None:\n",
    "                    ax.plot(shift+y,'.-',label=f'$p_{{{self.p_label[self.ctrl]}}}$={p_list[idx]:.2f}, $L$={L}',color=color,alpha=alpha)\n",
    "                else:\n",
    "                    ax.plot(x,shift+y,label=f'$p_{{{self.p_label[self.ctrl]}}}$={p_list[idx]:.2f}, $L$={L}',color=color,alpha=alpha)\n",
    "                if fit:\n",
    "                    # slope=self.fit(idx,L,y)\n",
    "                    fit_xlim=xlim_func[idx](L)\n",
    "                    slope=diffusion_coef_fit(y,fit_xlim)\n",
    "                    ax.plot(np.arange(fit_xlim[0]-1,fit_xlim[1]+2),shift+slope[0]*np.arange(fit_xlim[0]-1,fit_xlim[1]+2)+slope[1],color=color,alpha=alpha,ls='dotted')\n",
    "        if xlim is not None:\n",
    "            ax.set_xlim(*xlim)\n",
    "        ax.legend(bbox_to_anchor=(1.05, 1), loc='upper left',fontsize=8)\n",
    "        ax.set_xlabel(self.t_label[t_func])\n",
    "        \n",
    "        ax.set_ylabel(self.diffusion_type_ylabel[self.diffusion_type])\n",
    "        ax.grid('on')\n",
    "        save_string = self.diffusion_type_str[self.diffusion_type] + '_'+self.fixed_str[self.fixed] + f'_{self.p_label[self.ctrl]}'+ self.t_func_fn[t_func]+'.png'\n",
    "        return save_string\n",
    "\n",
    "    def fit(self,xlim_func):\n",
    "        return {L:np.array([diffusion_coef_fit(self.generate_data(L,p_idx,None)[1],xlim_func[p_idx](L)) for p_idx in range(20)]) for L in L_list} \n",
    "    \n",
    "    def EE(self):\n",
    "        if self.ctrl:\n",
    "            return {L:[np.mean(self.fdw[L]['EE'][p_idx,0]) for p_idx in range(20)] for L in L_list}\n",
    "        else:\n",
    "            return {L:[np.mean(self.fdw[L]['EE'][0,p_idx]) for p_idx in range(20)] for L in L_list}\n",
    "\n",
    "    def plot_D_L(self,p_list,p_idx_list,L_list,diffusion):\n",
    "        fig,ax=plt.subplots(figsize=(4,3))\n",
    "        for p_idx in p_idx_list:\n",
    "            ax.plot(1/np.array(L_list),[diffusion[L][p_idx,0] for L in L_list],'.-',label=f'$p_{{{self.p_label[self.ctrl]}}}={p_list[p_idx]:.2f}$')\n",
    "        ax.set_xticks(1/np.array(L_list),labels=[f'$\\\\frac{{1}}{{{L}}}$' for L in L_list])\n",
    "        ax.legend()\n",
    "        ax.set_xlabel('1/L')\n",
    "        ax.set_ylabel(self.diffusion_xlabel[self.diffusion_type])\n",
    "        ax.grid('on')\n",
    "        save_string = self.diffusion_rate[self.diffusion_type] + '_L_'+self.fixed_str[self.fixed] + f'_{self.p_label[self.ctrl]}'+ '.png'\n",
    "        return save_string\n",
    "    \n",
    "    def plot_D(self,p_list,diffusion,L=16,analytic=True):\n",
    "        fig,ax=plt.subplots(figsize=(4,3))\n",
    "        ax.plot(p_list,[diffusion[L][p_idx,0] for p_idx in range(len(p_list))],'.-',label=f'L={L}')\n",
    "        if analytic:\n",
    "            ax.plot(p_list,4*p_list*(1-p_list),label='4p(1-p)')\n",
    "        ax.set_xlabel(f'$p_{{{self.p_label[self.ctrl]}}}$')\n",
    "        ax.set_ylabel(self.diffusion_xlabel[self.diffusion_type])\n",
    "        ax.legend()\n",
    "        ax.grid('on')\n",
    "        save_string = self.diffusion_rate[self.diffusion_type] + '_RW_'+self.fixed_str[self.fixed] + f'_{self.p_label[self.ctrl]}'+ '.png'\n",
    "        return save_string\n",
    "    def plot_S_D(self,EE,diffusion):\n",
    "        fig,ax=plt.subplots(figsize=(4,3))\n",
    "        for L,color in zip(L_list,['C0','C1','C2','C3','C6']):\n",
    "            ax.errorbar(diffusion[L][:,0],EE[L],xerr=diffusion[L][:,2],label=f'$L$={L}',capsize=3,color=color)\n",
    "        ax.legend(bbox_to_anchor=(1.05, 1), loc='upper left')\n",
    "        ax.set_xlabel(self.diffusion_xlabel[self.diffusion_type])\n",
    "        ax.set_ylabel(r'$\\overline{S_{L/2}}$')\n",
    "        ax.grid('on')\n",
    "        save_string = self.diffusion_rate[self.diffusion_type] + '_'+self.fixed_str[self.fixed] + f'_{self.p_label[self.ctrl]}'+ '.png'\n",
    "        return save_string\n",
    "\n",
    "    def plot_D_pctrl(self,p_list,L_list):\n",
    "        fig,ax=plt.subplots(figsize=(6,5))\n",
    "        for L in L_list:\n",
    "            ax.plot(p_list,[self.generate_data(L=L,idx=idx,func=None)[1][-1] for idx in range(len(p_list))],'.-',label=f'L={L}',markersize=3)\n",
    "        ax.grid('on')\n",
    "        ax.legend()\n",
    "        ax.set_xlabel('$p_{ctrl}$')\n",
    "        ax.set_ylabel(self.diffusion_type_ylabel[self.diffusion_type])\n",
    "        save_string = self.diffusion_type_str[self.diffusion_type] + '_'+self.fixed_str[self.fixed] + f'_pctrl'+ '.png'\n",
    "        return save_string\n"
   ]
  },
  {
   "cell_type": "markdown",
   "metadata": {},
   "source": [
    "## Loading"
   ]
  },
  {
   "cell_type": "code",
   "execution_count": null,
   "metadata": {},
   "outputs": [],
   "source": [
    "import scipy\n",
    "import h5py\n",
    "import numpy as np"
   ]
  },
  {
   "cell_type": "code",
   "execution_count": null,
   "metadata": {},
   "outputs": [],
   "source": [
    "p_proj_list=np.linspace(0,1,21)\n",
    "p_ctrl_list=np.linspace(0,1,21)"
   ]
  },
  {
   "cell_type": "code",
   "execution_count": null,
   "metadata": {},
   "outputs": [],
   "source": [
    "fn_dir='Data/Bitstring'"
   ]
  },
  {
   "cell_type": "code",
   "execution_count": null,
   "metadata": {},
   "outputs": [],
   "source": [
    "f_t={}"
   ]
  },
  {
   "cell_type": "code",
   "execution_count": null,
   "metadata": {},
   "outputs": [],
   "source": [
    "L_list=[8,10,12,14,16]\n",
    "f_t[('AFM','proj')]={}\n",
    "for L in L_list:\n",
    "    f_t[('AFM','proj')][L]=h5py.File(os.path.join(fn_dir,f'CT_En2000_pctrl(0.50,0.50,1)_pproj(0.00,1.00,21)_L({L},{L+2},2)_xj(1-3,2-3)_seed0_64_wf_T.hdf5'))"
   ]
  },
  {
   "cell_type": "code",
   "execution_count": null,
   "metadata": {},
   "outputs": [],
   "source": [
    "L_list=[8,10,12,14,16]\n",
    "f_t[('FM','proj')]={}\n",
    "for L in L_list:\n",
    "    f_t[('FM','proj')][L]=h5py.File(os.path.join(fn_dir,f'CT_En2000_pctrl(0.50,0.50,1)_pproj(0.00,1.00,21)_L({L},{L+2},2)_xj(0)_seed0_64_wf_T.hdf5'))"
   ]
  },
  {
   "cell_type": "code",
   "execution_count": null,
   "metadata": {},
   "outputs": [],
   "source": [
    "L_list=[8,10,12,14,16,18,20]\n",
    "f_t[('AFM','ctrl')]={}\n",
    "for L in L_list:\n",
    "    f_t[('AFM','ctrl')][L]=h5py.File(os.path.join(fn_dir,f'CT_En2000_pctrl(0.00,1.00,21)_pproj(0.00,0.00,1)_L({L},{L+2},2)_xj(1-3,2-3)_seed0_64_wf_T.hdf5'))"
   ]
  },
  {
   "cell_type": "code",
   "execution_count": null,
   "metadata": {},
   "outputs": [],
   "source": [
    "L_list=[8,10,12,14,16,18,20]\n",
    "f_t[('FM','ctrl')]={}\n",
    "for L in L_list:\n",
    "    f_t[('FM','ctrl')][L]=h5py.File(os.path.join(fn_dir,f'CT_En2000_pctrl(0.00,1.00,21)_pproj(0.00,0.00,1)_L({L},{L+2},2)_xj(0)_seed0_64_wf_T.hdf5'))"
   ]
  },
  {
   "cell_type": "code",
   "execution_count": null,
   "metadata": {},
   "outputs": [],
   "source": [
    "L_list=[8,10,12,14,16]\n",
    "f_t[('AFM_C','ctrl')]={}\n",
    "for L in L_list:\n",
    "    f_t[('AFM_C','ctrl')][L]=h5py.File(os.path.join(fn_dir,f'CT_En2000_pctrl(0.00,1.00,21)_L({L},{L+2},2)_xj(1-3,2-3)_C_T.hdf5'))\n",
    "    # f_1_3_C_t[L]=h5py.File(f'CT_En2_pctrl(0.00,0.00,1)_L({L},{L+2},2)_xj(0)_C_T.hdf5')"
   ]
  },
  {
   "cell_type": "markdown",
   "metadata": {},
   "source": [
    "### Linear regression to fit"
   ]
  },
  {
   "cell_type": "code",
   "execution_count": null,
   "metadata": {},
   "outputs": [],
   "source": [
    "def diffusion_coef(f_t,p_idx,L,p_proj=True):\n",
    "    if p_proj:\n",
    "        y=np.var(f_t[L][f'FDW_{L}'],axis=-2)[0,p_idx,:L//2,0,0]\n",
    "    else:\n",
    "        y=np.var(f_t[L][f'FDW_{L}'],axis=-2)[p_idx,0,:L//2,0,0]\n",
    "    x=np.arange(len(y))\n",
    "    res=scipy.stats.linregress(x,y)\n",
    "    return res.slope,res.stderr"
   ]
  },
  {
   "cell_type": "code",
   "execution_count": null,
   "metadata": {},
   "outputs": [],
   "source": [
    "def diffusion_coef_C(f_t,dw,p_idx,L,):\n",
    "    y=np.var(dw[L][f_t[L][f'wf_{L}'][p_idx]],axis=-1)[:L//2]\n",
    "    x=np.arange(len(y))\n",
    "    res=scipy.stats.linregress(x,y)\n",
    "    return res.slope,res.stderr"
   ]
  },
  {
   "cell_type": "code",
   "execution_count": null,
   "metadata": {},
   "outputs": [],
   "source": [
    "def diffusion_coef_fit(y,xrange):\n",
    "    x=np.arange(len(y))[xrange[0]:xrange[1]+1]\n",
    "    y=y[xrange[0]:xrange[1]+1]\n",
    "    res=scipy.stats.linregress(x,y)\n",
    "    return res.slope, res.intercept, res.stderr"
   ]
  },
  {
   "cell_type": "code",
   "execution_count": null,
   "metadata": {},
   "outputs": [],
   "source": [
    "plt.plot(f_t['FM','ctrl'][8]['FDW_8'][10,0,:,0].mean(axis=(1,2)),'.-')"
   ]
  },
  {
   "cell_type": "code",
   "execution_count": null,
   "metadata": {},
   "outputs": [],
   "source": []
  },
  {
   "cell_type": "markdown",
   "metadata": {},
   "source": [
    "## 0 proj"
   ]
  },
  {
   "cell_type": "markdown",
   "metadata": {},
   "source": [
    "### $\\mathbb{E}_m[\\langle{\\hat{F}}\\rangle^2]- \\mathbb{E}_m[\\langle{\\hat{F}}\\rangle]^2$"
   ]
  },
  {
   "cell_type": "code",
   "execution_count": null,
   "metadata": {},
   "outputs": [],
   "source": [
    "FM_1_proj=Diffusion(fdw=f_t,fixed='FM',diffusion_type=1,ctrl=False)"
   ]
  },
  {
   "cell_type": "code",
   "execution_count": null,
   "metadata": {},
   "outputs": [],
   "source": [
    "FM_1_proj.plot_fit(L_list=L_list,t_func='sqrt',p_list=p_proj_list,fit=False,idx_list=[0,5,10,15],xlim_func=None,L_alpha=False,shift_step=0,xlim=None)"
   ]
  },
  {
   "cell_type": "code",
   "execution_count": null,
   "metadata": {},
   "outputs": [],
   "source": [
    "xlim_0_proj_1_func={idx: lambda L:[0,L//2-1] for idx in range(21)}"
   ]
  },
  {
   "cell_type": "code",
   "execution_count": null,
   "metadata": {},
   "outputs": [],
   "source": [
    "FM_1_proj.plot_fit(  \n",
    "    L_list=L_list,\n",
    "    p_list=p_proj_list,\n",
    "    xlim_func=xlim_0_proj_1_func,\n",
    "    t_func=None,\n",
    "    fit=True,\n",
    "    idx_list=[0,5,10,15],\n",
    "    L_alpha=False,\n",
    "    shift_step=10,\n",
    "    xlim=(0,10),)"
   ]
  },
  {
   "cell_type": "code",
   "execution_count": null,
   "metadata": {},
   "outputs": [],
   "source": [
    "FM_1_proj.plot_fit(  \n",
    "    L_list=L_list,\n",
    "    p_list=p_proj_list,\n",
    "    xlim_func=xlim_0_proj_1_func,\n",
    "    t_func=None,\n",
    "    fit=True,\n",
    "    idx_list=[0,],\n",
    "    L_alpha=False,\n",
    "    shift_step=10,\n",
    "    xlim=(0,10),)"
   ]
  },
  {
   "cell_type": "code",
   "execution_count": null,
   "metadata": {},
   "outputs": [],
   "source": [
    "diffusion_0_proj_1=FM_1_proj.fit(xlim_0_proj_1_func,)"
   ]
  },
  {
   "cell_type": "code",
   "execution_count": null,
   "metadata": {},
   "outputs": [],
   "source": [
    "FM_1_proj.plot_D_L(L_list=L_list,p_list=p_proj_list,p_idx_list=[0,5,10,15,],diffusion=diffusion_0_proj_1)"
   ]
  },
  {
   "cell_type": "code",
   "execution_count": null,
   "metadata": {},
   "outputs": [],
   "source": [
    "EE_0_proj=FM_1_proj.EE()"
   ]
  },
  {
   "cell_type": "code",
   "execution_count": null,
   "metadata": {},
   "outputs": [],
   "source": [
    "FM_1_proj.plot_S_D(EE_0_proj,diffusion_0_proj_1)"
   ]
  },
  {
   "cell_type": "code",
   "execution_count": null,
   "metadata": {},
   "outputs": [],
   "source": [
    "FM_1_proj.plot_D(p_proj_list[:-1],diffusion_0_proj_1,analytic=False)"
   ]
  },
  {
   "cell_type": "code",
   "execution_count": null,
   "metadata": {},
   "outputs": [],
   "source": []
  },
  {
   "cell_type": "markdown",
   "metadata": {},
   "source": [
    "### $\\mathbb{E}_m[\\langle(\\hat{F}-\\langle\\hat{F}\\rangle)^2\\rangle]$"
   ]
  },
  {
   "cell_type": "code",
   "execution_count": null,
   "metadata": {},
   "outputs": [],
   "source": [
    "FM_2_proj=Diffusion(fdw=f_t,fixed='FM',diffusion_type=2,ctrl=False)"
   ]
  },
  {
   "cell_type": "code",
   "execution_count": null,
   "metadata": {},
   "outputs": [],
   "source": [
    "FM_2_proj.plot_fit(L_list=[8,],t_func='sqrt',p_list=p_proj_list,fit=False,idx_list=[0,5,10,15],xlim_func=None,L_alpha=True,shift_step=0,xlim=None)"
   ]
  },
  {
   "cell_type": "code",
   "execution_count": null,
   "metadata": {},
   "outputs": [],
   "source": [
    "xlim_0_proj_2_func={idx: lambda L:[L//2,L] for idx in range(21)}"
   ]
  },
  {
   "cell_type": "code",
   "execution_count": null,
   "metadata": {},
   "outputs": [],
   "source": [
    "FM_2_proj.plot_fit(  \n",
    "    L_list=L_list,\n",
    "    p_list=p_proj_list,\n",
    "    xlim_func=xlim_0_proj_2_func,\n",
    "    t_func=None,\n",
    "    fit=True,\n",
    "    idx_list=[0,5,10,15],\n",
    "    L_alpha=True,\n",
    "    shift_step=0.8,\n",
    "    xlim=(0,15),)"
   ]
  },
  {
   "cell_type": "code",
   "execution_count": null,
   "metadata": {},
   "outputs": [],
   "source": [
    "FM_2_proj.plot_fit(  \n",
    "    L_list=L_list,\n",
    "    p_list=p_proj_list,\n",
    "    xlim_func=xlim_0_proj_2_func,\n",
    "    t_func='sqrt',\n",
    "    fit=True,\n",
    "    idx_list=[0,],\n",
    "    L_alpha=True,\n",
    "    shift_step=2,\n",
    "    xlim=(0,1.4),)\n",
    "# plt.gca().set_ylim(0,1.5)"
   ]
  },
  {
   "cell_type": "code",
   "execution_count": null,
   "metadata": {},
   "outputs": [],
   "source": [
    "FM_2_proj.plot_fit(  \n",
    "    L_list=L_list,\n",
    "    p_list=p_proj_list,\n",
    "    xlim_func=xlim_0_proj_2_func,\n",
    "    t_func=None,\n",
    "    fit=True,\n",
    "    idx_list=[15,],\n",
    "    L_alpha=True,\n",
    "    shift_step=2,\n",
    "    xlim=(0,10),)\n",
    "plt.gca().set_ylim(0,.4)"
   ]
  },
  {
   "cell_type": "code",
   "execution_count": null,
   "metadata": {},
   "outputs": [],
   "source": [
    "diffusion_0_proj_2=FM_2_proj.fit(xlim_0_proj_2_func)"
   ]
  },
  {
   "cell_type": "code",
   "execution_count": null,
   "metadata": {},
   "outputs": [],
   "source": [
    "FM_2_proj.plot_D_L(L_list=L_list,p_list=p_proj_list,p_idx_list=[0,5,10,15],diffusion=diffusion_0_proj_2)"
   ]
  },
  {
   "cell_type": "code",
   "execution_count": null,
   "metadata": {},
   "outputs": [],
   "source": [
    "FM_2_proj.plot_S_D(EE_0_proj,diffusion_0_proj_2)"
   ]
  },
  {
   "cell_type": "markdown",
   "metadata": {},
   "source": [
    "### $\\mathbb{E}_m[\\langle(\\hat{F}-\\langle\\hat{F}\\rangle)^2\\rangle^2]$"
   ]
  },
  {
   "cell_type": "code",
   "execution_count": null,
   "metadata": {},
   "outputs": [],
   "source": [
    "FM_3_proj=Diffusion(fdw=f_t,fixed='FM',diffusion_type=3,ctrl=False)"
   ]
  },
  {
   "cell_type": "code",
   "execution_count": null,
   "metadata": {},
   "outputs": [],
   "source": [
    "FM_3_proj.plot_fit(L_list=L_list,t_func='sqrt',p_list=p_proj_list,fit=False,idx_list=[0,5,10,15],xlim_func=None,L_alpha=True,shift_step=0,xlim=None)"
   ]
  },
  {
   "cell_type": "code",
   "execution_count": null,
   "metadata": {},
   "outputs": [],
   "source": [
    "xlim_0_proj_3_func={idx: lambda L:[L//2-1,L] for idx in range(21)}"
   ]
  },
  {
   "cell_type": "code",
   "execution_count": null,
   "metadata": {},
   "outputs": [],
   "source": [
    "FM_3_proj.plot_fit(  \n",
    "    L_list=L_list,\n",
    "    p_list=p_proj_list,\n",
    "    xlim_func=xlim_0_proj_3_func,\n",
    "    t_func=None,\n",
    "    fit=True,\n",
    "    idx_list=[0,5,10,15],\n",
    "    L_alpha=True,\n",
    "    shift_step=1,\n",
    "    xlim=(0,15),)"
   ]
  },
  {
   "cell_type": "code",
   "execution_count": null,
   "metadata": {},
   "outputs": [],
   "source": [
    "FM_3_proj.plot_fit(  \n",
    "    L_list=L_list,\n",
    "    p_list=p_proj_list,\n",
    "    xlim_func=xlim_0_proj_3_func,\n",
    "    t_func=None,\n",
    "    fit=True,\n",
    "    idx_list=[19,],\n",
    "    L_alpha=True,\n",
    "    shift_step=2,\n",
    "    xlim=(0,20),)\n",
    "plt.gca().set_ylim(0,.4)"
   ]
  },
  {
   "cell_type": "code",
   "execution_count": null,
   "metadata": {},
   "outputs": [],
   "source": [
    "diffusion_0_proj_3=FM_3_proj.fit(xlim_0_proj_3_func)"
   ]
  },
  {
   "cell_type": "code",
   "execution_count": null,
   "metadata": {},
   "outputs": [],
   "source": [
    "FM_3_proj.plot_D_L(L_list=L_list,p_list=p_proj_list,p_idx_list=[0,5,10,15],diffusion=diffusion_0_proj_3)"
   ]
  },
  {
   "cell_type": "code",
   "execution_count": null,
   "metadata": {},
   "outputs": [],
   "source": [
    "FM_3_proj.plot_S_D(EE_0_proj,diffusion_0_proj_3)"
   ]
  },
  {
   "cell_type": "code",
   "execution_count": null,
   "metadata": {},
   "outputs": [],
   "source": []
  },
  {
   "cell_type": "markdown",
   "metadata": {},
   "source": [
    "### $\\mathbb{E}_m[\\langle(\\hat{F}-\\langle\\hat{F}\\rangle)^2\\rangle^2] - \\mathbb{E}_m[\\langle(\\hat{F}-\\langle\\hat{F}\\rangle)^2\\rangle]^2$"
   ]
  },
  {
   "cell_type": "code",
   "execution_count": null,
   "metadata": {},
   "outputs": [],
   "source": [
    "FM_4_proj=Diffusion(fdw=f_t,fixed='FM',diffusion_type=4,ctrl=False)"
   ]
  },
  {
   "cell_type": "code",
   "execution_count": null,
   "metadata": {},
   "outputs": [],
   "source": [
    "FM_4_proj.plot_fit(L_list=L_list,t_func='sqrt',p_list=p_proj_list,fit=False,idx_list=[0,5,10,15],xlim_func=None,L_alpha=True,shift_step=0,xlim=None)"
   ]
  },
  {
   "cell_type": "code",
   "execution_count": null,
   "metadata": {},
   "outputs": [],
   "source": [
    "FM_4_proj.plot_fit(  \n",
    "    L_list=L_list,\n",
    "    p_list=p_proj_list,\n",
    "    xlim_func=xlim_0_proj_2_func,\n",
    "    t_func=None,\n",
    "    fit=True,\n",
    "    idx_list=[0,5,10,15],\n",
    "    L_alpha=True,\n",
    "    shift_step=1,\n",
    "    xlim=(0,15),)"
   ]
  },
  {
   "cell_type": "code",
   "execution_count": null,
   "metadata": {},
   "outputs": [],
   "source": [
    "FM_4_proj.plot_fit(  \n",
    "    L_list=L_list,\n",
    "    p_list=p_proj_list,\n",
    "    xlim_func=xlim_0_proj_3_func,\n",
    "    t_func=None,\n",
    "    fit=True,\n",
    "    idx_list=[15,],\n",
    "    L_alpha=True,\n",
    "    shift_step=1,\n",
    "    xlim=(0,15),)"
   ]
  },
  {
   "cell_type": "code",
   "execution_count": null,
   "metadata": {},
   "outputs": [],
   "source": [
    "diffusion_0_proj_4=FM_4_proj.fit(xlim_0_proj_3_func)"
   ]
  },
  {
   "cell_type": "code",
   "execution_count": null,
   "metadata": {},
   "outputs": [],
   "source": [
    "FM_4_proj.plot_D_L(L_list=L_list,p_list=p_proj_list,p_idx_list=[0,5,10,15],diffusion=diffusion_0_proj_4)"
   ]
  },
  {
   "cell_type": "code",
   "execution_count": null,
   "metadata": {},
   "outputs": [],
   "source": [
    "FM_4_proj.plot_S_D(EE_0_proj,diffusion_0_proj_4)"
   ]
  },
  {
   "cell_type": "markdown",
   "metadata": {},
   "source": [
    "## 1/3,2/3 proj"
   ]
  },
  {
   "cell_type": "markdown",
   "metadata": {},
   "source": [
    "### $\\mathbb{E}_m[\\langle{\\hat{F}}\\rangle^2]- \\mathbb{E}_m[\\langle{\\hat{F}}\\rangle]^2$"
   ]
  },
  {
   "cell_type": "code",
   "execution_count": null,
   "metadata": {},
   "outputs": [],
   "source": [
    "AFM_1_proj=Diffusion(fdw=f_t,fixed='AFM',diffusion_type=1,ctrl=False)"
   ]
  },
  {
   "cell_type": "code",
   "execution_count": null,
   "metadata": {},
   "outputs": [],
   "source": [
    "AFM_1_proj.plot_fit(L_list=L_list,t_func='sqrt',p_list=p_proj_list,fit=False,idx_list=[0,5,10,15],xlim_func=None,L_alpha=False,shift_step=0,xlim=None)"
   ]
  },
  {
   "cell_type": "code",
   "execution_count": null,
   "metadata": {},
   "outputs": [],
   "source": [
    "xlim_1_3_proj_1_func={idx: lambda L:[0,L//2-1] for idx in range(21)}"
   ]
  },
  {
   "cell_type": "code",
   "execution_count": null,
   "metadata": {},
   "outputs": [],
   "source": [
    "AFM_1_proj.plot_fit(  \n",
    "    L_list=L_list,\n",
    "    p_list=p_proj_list,\n",
    "    xlim_func=xlim_1_3_proj_1_func,\n",
    "    t_func=None,\n",
    "    fit=True,\n",
    "    idx_list=[0,5,10,15],\n",
    "    L_alpha=False,\n",
    "    shift_step=10,\n",
    "    xlim=(0,10),)"
   ]
  },
  {
   "cell_type": "code",
   "execution_count": null,
   "metadata": {},
   "outputs": [],
   "source": [
    "diffusion_1_3_proj_1=AFM_1_proj.fit(xlim_1_3_proj_1_func)"
   ]
  },
  {
   "cell_type": "code",
   "execution_count": null,
   "metadata": {},
   "outputs": [],
   "source": [
    "AFM_1_proj.plot_D_L(L_list=L_list,p_list=p_proj_list,p_idx_list=[0,5,10,15,],diffusion=diffusion_1_3_proj_1)"
   ]
  },
  {
   "cell_type": "code",
   "execution_count": null,
   "metadata": {},
   "outputs": [],
   "source": [
    "EE_1_3_proj=AFM_1_proj.EE()"
   ]
  },
  {
   "cell_type": "code",
   "execution_count": null,
   "metadata": {},
   "outputs": [],
   "source": [
    "AFM_1_proj.plot_S_D(EE_1_3_proj,diffusion_1_3_proj_1)"
   ]
  },
  {
   "cell_type": "markdown",
   "metadata": {},
   "source": [
    "### $\\mathbb{E}_m[\\langle(\\hat{F}-\\langle\\hat{F}\\rangle)^2\\rangle]$"
   ]
  },
  {
   "cell_type": "code",
   "execution_count": null,
   "metadata": {},
   "outputs": [],
   "source": [
    "AFM_2_proj=Diffusion(fdw=f_t,fixed='AFM',diffusion_type=2,ctrl=False)"
   ]
  },
  {
   "cell_type": "code",
   "execution_count": null,
   "metadata": {},
   "outputs": [],
   "source": [
    "AFM_2_proj.plot_fit(L_list=L_list,t_func='sqrt',p_list=p_proj_list,fit=False,idx_list=[0,5,10,15],xlim_func=None,L_alpha=True,shift_step=0,xlim=None)"
   ]
  },
  {
   "cell_type": "code",
   "execution_count": null,
   "metadata": {},
   "outputs": [],
   "source": [
    "xlim_1_3_proj_2_func={idx: lambda L:[L//2,L] for idx in range(21)}"
   ]
  },
  {
   "cell_type": "code",
   "execution_count": null,
   "metadata": {},
   "outputs": [],
   "source": [
    "AFM_2_proj.plot_fit(  \n",
    "    L_list=L_list,\n",
    "    p_list=p_proj_list,\n",
    "    xlim_func=xlim_1_3_proj_2_func,\n",
    "    t_func=None,\n",
    "    fit=True,\n",
    "    idx_list=[0,5,10,15],\n",
    "    L_alpha=True,\n",
    "    shift_step=0.8,\n",
    "    xlim=(0,15),)"
   ]
  },
  {
   "cell_type": "code",
   "execution_count": null,
   "metadata": {},
   "outputs": [],
   "source": [
    "AFM_2_proj.plot_fit(  \n",
    "    L_list=L_list,\n",
    "    p_list=p_proj_list,\n",
    "    xlim_func=xlim_1_3_proj_2_func,\n",
    "    t_func=None,\n",
    "    fit=True,\n",
    "    idx_list=[0,],\n",
    "    L_alpha=True,\n",
    "    shift_step=0.8,\n",
    "    xlim=(0,15),)\n",
    "plt.gca().set_ylim(0,.5)"
   ]
  },
  {
   "cell_type": "code",
   "execution_count": null,
   "metadata": {},
   "outputs": [],
   "source": [
    "diffusion_1_3_proj_2=AFM_2_proj.fit(xlim_1_3_proj_2_func)"
   ]
  },
  {
   "cell_type": "code",
   "execution_count": null,
   "metadata": {},
   "outputs": [],
   "source": [
    "AFM_2_proj.plot_D_L(L_list=L_list,p_list=p_proj_list,p_idx_list=[0,5,10,15],diffusion=diffusion_1_3_proj_2)"
   ]
  },
  {
   "cell_type": "code",
   "execution_count": null,
   "metadata": {},
   "outputs": [],
   "source": [
    "AFM_2_proj.plot_S_D(EE_1_3_proj,diffusion_1_3_proj_2)"
   ]
  },
  {
   "cell_type": "markdown",
   "metadata": {},
   "source": [
    "### $\\mathbb{E}_m[\\langle(\\hat{F}-\\langle\\hat{F}\\rangle)^2\\rangle^2]$"
   ]
  },
  {
   "cell_type": "code",
   "execution_count": null,
   "metadata": {},
   "outputs": [],
   "source": [
    "AFM_3_proj=Diffusion(fdw=f_t,fixed='AFM',diffusion_type=3,ctrl=False)"
   ]
  },
  {
   "cell_type": "code",
   "execution_count": null,
   "metadata": {},
   "outputs": [],
   "source": [
    "AFM_3_proj.plot_fit(L_list=L_list,t_func='sqrt',p_list=p_proj_list,fit=False,idx_list=[0,5,10,15],xlim_func=None,L_alpha=True,shift_step=0,xlim=None)"
   ]
  },
  {
   "cell_type": "code",
   "execution_count": null,
   "metadata": {},
   "outputs": [],
   "source": [
    "xlim_1_3_proj_3_func={idx: lambda L:[L//2-1,L] for idx in range(21)}"
   ]
  },
  {
   "cell_type": "code",
   "execution_count": null,
   "metadata": {},
   "outputs": [],
   "source": [
    "AFM_3_proj.plot_fit(  \n",
    "    L_list=L_list,\n",
    "    p_list=p_proj_list,\n",
    "    xlim_func=xlim_1_3_proj_3_func,\n",
    "    t_func=None,\n",
    "    fit=True,\n",
    "    idx_list=[0,5,10,15],\n",
    "    L_alpha=True,\n",
    "    shift_step=1,\n",
    "    xlim=(0,15),)"
   ]
  },
  {
   "cell_type": "code",
   "execution_count": null,
   "metadata": {},
   "outputs": [],
   "source": [
    "AFM_3_proj.plot_fit(  \n",
    "    L_list=L_list,\n",
    "    p_list=p_proj_list,\n",
    "    xlim_func=xlim_1_3_proj_3_func,\n",
    "    t_func=None,\n",
    "    fit=True,\n",
    "    idx_list=[0,],\n",
    "    L_alpha=True,\n",
    "    shift_step=2,\n",
    "    xlim=(0,20),)\n",
    "plt.gca().set_ylim(0,.6)"
   ]
  },
  {
   "cell_type": "code",
   "execution_count": null,
   "metadata": {},
   "outputs": [],
   "source": [
    "diffusion_1_3_proj_3=AFM_3_proj.fit(xlim_1_3_proj_3_func)"
   ]
  },
  {
   "cell_type": "code",
   "execution_count": null,
   "metadata": {},
   "outputs": [],
   "source": [
    "AFM_3_proj.plot_D_L(L_list=L_list,p_list=p_proj_list,p_idx_list=[0,5,10,15],diffusion=diffusion_1_3_proj_3)"
   ]
  },
  {
   "cell_type": "code",
   "execution_count": null,
   "metadata": {},
   "outputs": [],
   "source": [
    "AFM_3_proj.plot_S_D(EE_1_3_proj,diffusion_1_3_proj_3)"
   ]
  },
  {
   "cell_type": "code",
   "execution_count": null,
   "metadata": {},
   "outputs": [],
   "source": []
  },
  {
   "cell_type": "markdown",
   "metadata": {},
   "source": [
    "### $\\mathbb{E}_m[\\langle(\\hat{F}-\\langle\\hat{F}\\rangle)^2\\rangle^2] - \\mathbb{E}_m[\\langle(\\hat{F}-\\langle\\hat{F}\\rangle)^2\\rangle]^2$"
   ]
  },
  {
   "cell_type": "code",
   "execution_count": null,
   "metadata": {},
   "outputs": [],
   "source": [
    "AFM_4_proj=Diffusion(fdw=f_t,fixed='AFM',diffusion_type=4,ctrl=False)"
   ]
  },
  {
   "cell_type": "code",
   "execution_count": null,
   "metadata": {},
   "outputs": [],
   "source": [
    "AFM_4_proj.plot_fit(L_list=L_list,t_func='sqrt',p_list=p_proj_list,fit=False,idx_list=[0,5,10,15],xlim_func=None,L_alpha=True,shift_step=0,xlim=None)"
   ]
  },
  {
   "cell_type": "code",
   "execution_count": null,
   "metadata": {},
   "outputs": [],
   "source": [
    "AFM_4_proj.plot_fit(  \n",
    "    L_list=L_list,\n",
    "    p_list=p_proj_list,\n",
    "    xlim_func=xlim_1_3_proj_2_func,\n",
    "    t_func=None,\n",
    "    fit=True,\n",
    "    idx_list=[0,5,10,15],\n",
    "    L_alpha=True,\n",
    "    shift_step=1,\n",
    "    xlim=(0,15),)"
   ]
  },
  {
   "cell_type": "code",
   "execution_count": null,
   "metadata": {},
   "outputs": [],
   "source": [
    "AFM_4_proj.plot_fit(  \n",
    "    L_list=L_list,\n",
    "    p_list=p_proj_list,\n",
    "    xlim_func=xlim_1_3_proj_2_func,\n",
    "    t_func=None,\n",
    "    fit=True,\n",
    "    idx_list=[0,],\n",
    "    L_alpha=True,\n",
    "    shift_step=1,\n",
    "    xlim=(0,15),)"
   ]
  },
  {
   "cell_type": "code",
   "execution_count": null,
   "metadata": {},
   "outputs": [],
   "source": [
    "diffusion_1_3_proj_4=AFM_4_proj.fit(xlim_1_3_proj_3_func)"
   ]
  },
  {
   "cell_type": "code",
   "execution_count": null,
   "metadata": {},
   "outputs": [],
   "source": [
    "AFM_4_proj.plot_D_L(L_list=L_list,p_list=p_proj_list,p_idx_list=[0,5,10,15],diffusion=diffusion_1_3_proj_4)"
   ]
  },
  {
   "cell_type": "code",
   "execution_count": null,
   "metadata": {},
   "outputs": [],
   "source": [
    "AFM_4_proj.plot_S_D(EE_1_3_proj,diffusion_1_3_proj_4)"
   ]
  },
  {
   "cell_type": "markdown",
   "metadata": {},
   "source": [
    "## 0 ctrl"
   ]
  },
  {
   "cell_type": "markdown",
   "metadata": {},
   "source": [
    "### $\\mathbb{E}_m[\\langle{\\hat{F}}\\rangle^2]- \\mathbb{E}_m[\\langle{\\hat{F}}\\rangle]^2$"
   ]
  },
  {
   "cell_type": "code",
   "execution_count": null,
   "metadata": {},
   "outputs": [],
   "source": [
    "f_t.keys()"
   ]
  },
  {
   "cell_type": "code",
   "execution_count": null,
   "metadata": {},
   "outputs": [],
   "source": [
    "FM_1_ctrl=Diffusion(fdw=f_t,fixed='FM',diffusion_type=1,ctrl=True)"
   ]
  },
  {
   "cell_type": "code",
   "execution_count": null,
   "metadata": {},
   "outputs": [],
   "source": [
    "FM_1_ctrl.plot_fit(L_list=L_list,t_func='sqrt',p_list=p_ctrl_list,fit=False,idx_list=[0,5,10,15],xlim_func=None,L_alpha=False,shift_step=0,xlim=None)"
   ]
  },
  {
   "cell_type": "code",
   "execution_count": null,
   "metadata": {},
   "outputs": [],
   "source": [
    "xlim_0_ctrl_1_func={idx: lambda L:[0,L//2] for idx in range(21)}"
   ]
  },
  {
   "cell_type": "code",
   "execution_count": null,
   "metadata": {},
   "outputs": [],
   "source": [
    "FM_1_ctrl.plot_fit(  \n",
    "    L_list=L_list,\n",
    "    p_list=p_ctrl_list,\n",
    "    xlim_func=xlim_0_ctrl_1_func,\n",
    "    t_func=None,\n",
    "    fit=True,\n",
    "    idx_list=[0,5,10,15],\n",
    "    L_alpha=False,\n",
    "    shift_step=10,\n",
    "    xlim=(0,10),)"
   ]
  },
  {
   "cell_type": "code",
   "execution_count": null,
   "metadata": {},
   "outputs": [],
   "source": [
    "FM_1_ctrl.plot_fit(  \n",
    "    L_list=L_list,\n",
    "    p_list=p_ctrl_list,\n",
    "    xlim_func=xlim_0_ctrl_1_func,\n",
    "    t_func=None,\n",
    "    fit=True,\n",
    "    idx_list=[5,],\n",
    "    L_alpha=False,\n",
    "    shift_step=10,\n",
    "    xlim=(0,10),)"
   ]
  },
  {
   "cell_type": "code",
   "execution_count": null,
   "metadata": {},
   "outputs": [],
   "source": [
    "diffusion_0_ctrl_1=FM_1_ctrl.fit(xlim_0_ctrl_1_func)"
   ]
  },
  {
   "cell_type": "code",
   "execution_count": null,
   "metadata": {},
   "outputs": [],
   "source": [
    "FM_1_ctrl.plot_D_L(L_list=L_list,p_list=p_ctrl_list,p_idx_list=[0,5,10,15,],diffusion=diffusion_0_ctrl_1)"
   ]
  },
  {
   "cell_type": "code",
   "execution_count": null,
   "metadata": {},
   "outputs": [],
   "source": [
    "EE_0_ctrl=FM_1_ctrl.EE()"
   ]
  },
  {
   "cell_type": "code",
   "execution_count": null,
   "metadata": {},
   "outputs": [],
   "source": [
    "FM_1_ctrl.plot_D(p_ctrl_list[:-1],diffusion_0_ctrl_1)"
   ]
  },
  {
   "cell_type": "code",
   "execution_count": null,
   "metadata": {},
   "outputs": [],
   "source": [
    "FM_1_ctrl.plot_S_D(EE_0_ctrl,diffusion_0_ctrl_1)"
   ]
  },
  {
   "cell_type": "markdown",
   "metadata": {},
   "source": [
    "### $\\mathbb{E}_m[\\langle(\\hat{F}-\\langle\\hat{F}\\rangle)^2\\rangle]$"
   ]
  },
  {
   "cell_type": "code",
   "execution_count": null,
   "metadata": {},
   "outputs": [],
   "source": [
    "FM_2_ctrl=Diffusion(fdw=f_t,fixed='FM',diffusion_type=2,ctrl=True)"
   ]
  },
  {
   "cell_type": "code",
   "execution_count": null,
   "metadata": {},
   "outputs": [],
   "source": [
    "L_list=[8,10,12,14,16,18,20]\n"
   ]
  },
  {
   "cell_type": "code",
   "execution_count": null,
   "metadata": {},
   "outputs": [],
   "source": [
    "FM_2_ctrl.plot_fit(L_list=L_list,t_func='sqrt',p_list=p_ctrl_list,fit=False,idx_list=[0,5,10,15],xlim_func=None,L_alpha=True,shift_step=0,xlim=None)"
   ]
  },
  {
   "cell_type": "code",
   "execution_count": null,
   "metadata": {},
   "outputs": [],
   "source": [
    "xlim_0_ctrl_2_func={idx: (lambda L:[L//2,L//2+1]) if idx<10 else (lambda L:[L//2-1,L//2]) for idx in range(20)}"
   ]
  },
  {
   "cell_type": "code",
   "execution_count": null,
   "metadata": {},
   "outputs": [],
   "source": [
    "FM_2_ctrl.plot_fit(  \n",
    "    L_list=L_list,\n",
    "    p_list=p_ctrl_list,\n",
    "    xlim_func=xlim_0_ctrl_2_func,\n",
    "    t_func=None,\n",
    "    fit=True,\n",
    "    idx_list=[0,5,10,15],\n",
    "    L_alpha=True,\n",
    "    shift_step=2,\n",
    "    xlim=(0,15),)"
   ]
  },
  {
   "cell_type": "code",
   "execution_count": null,
   "metadata": {},
   "outputs": [],
   "source": [
    "FM_2_ctrl.plot_fit(  \n",
    "    L_list=L_list,\n",
    "    p_list=p_ctrl_list,\n",
    "    xlim_func=xlim_0_ctrl_2_func,\n",
    "    t_func='sqrt2',\n",
    "    fit=True,\n",
    "    idx_list=[7,],\n",
    "    L_alpha=True,\n",
    "    shift_step=2,\n",
    "    xlim=(0,4),)\n",
    "# plt.gca().set_xscale('log')"
   ]
  },
  {
   "cell_type": "code",
   "execution_count": null,
   "metadata": {},
   "outputs": [],
   "source": [
    "diffusion_0_ctrl_2=FM_2_ctrl.fit(xlim_0_ctrl_2_func)"
   ]
  },
  {
   "cell_type": "code",
   "execution_count": null,
   "metadata": {},
   "outputs": [],
   "source": [
    "FM_2_ctrl.plot_D_L(L_list=L_list,p_list=p_ctrl_list,p_idx_list=[0,5,10,15],diffusion=diffusion_0_ctrl_2)"
   ]
  },
  {
   "cell_type": "code",
   "execution_count": null,
   "metadata": {},
   "outputs": [],
   "source": [
    "FM_2_ctrl.plot_D(p_ctrl_list[:-1],diffusion_0_ctrl_2,L=20)"
   ]
  },
  {
   "cell_type": "code",
   "execution_count": null,
   "metadata": {},
   "outputs": [],
   "source": [
    "FM_2_ctrl.plot_S_D(EE_0_ctrl,diffusion_0_ctrl_2)"
   ]
  },
  {
   "cell_type": "code",
   "execution_count": null,
   "metadata": {},
   "outputs": [],
   "source": [
    "FM_2_ctrl.plot_D_pctrl(p_ctrl_list,L_list)"
   ]
  },
  {
   "cell_type": "markdown",
   "metadata": {},
   "source": [
    "### $\\mathbb{E}_m[\\langle(\\hat{F}-\\langle\\hat{F}\\rangle)^2\\rangle^2]$"
   ]
  },
  {
   "cell_type": "code",
   "execution_count": null,
   "metadata": {},
   "outputs": [],
   "source": [
    "FM_3_ctrl=Diffusion(fdw=f_t,fixed='FM',diffusion_type=3,ctrl=True)"
   ]
  },
  {
   "cell_type": "code",
   "execution_count": null,
   "metadata": {},
   "outputs": [],
   "source": [
    "FM_3_ctrl.plot_fit(L_list=L_list,t_func='sqrt',p_list=p_ctrl_list,fit=False,idx_list=[0,5,10,15],xlim_func=None,L_alpha=True,shift_step=0,xlim=None)"
   ]
  },
  {
   "cell_type": "code",
   "execution_count": null,
   "metadata": {},
   "outputs": [],
   "source": [
    "xlim_0_ctrl_3_func={idx: (lambda L:[L//2,L//2+1]) if idx<10 else (lambda L:[L//2-1,L//2]) for idx in range(20)}\n"
   ]
  },
  {
   "cell_type": "code",
   "execution_count": null,
   "metadata": {},
   "outputs": [],
   "source": [
    "FM_3_ctrl.plot_fit(  \n",
    "    L_list=L_list,\n",
    "    p_list=p_ctrl_list,\n",
    "    xlim_func=xlim_0_ctrl_3_func,\n",
    "    t_func=None,\n",
    "    fit=True,\n",
    "    idx_list=[0,5,10,15],\n",
    "    L_alpha=True,\n",
    "    shift_step=2,\n",
    "    xlim=(0,15),)"
   ]
  },
  {
   "cell_type": "code",
   "execution_count": null,
   "metadata": {},
   "outputs": [],
   "source": [
    "FM_3_ctrl.plot_fit(  \n",
    "    L_list=L_list,\n",
    "    p_list=p_ctrl_list,\n",
    "    xlim_func=xlim_0_ctrl_3_func,\n",
    "    t_func=None,\n",
    "    fit=True,\n",
    "    idx_list=[19],\n",
    "    L_alpha=True,\n",
    "    shift_step=2,\n",
    "    xlim=(0,15),)"
   ]
  },
  {
   "cell_type": "code",
   "execution_count": null,
   "metadata": {},
   "outputs": [],
   "source": [
    "diffusion_0_ctrl_3=FM_3_ctrl.fit(xlim_0_ctrl_3_func)"
   ]
  },
  {
   "cell_type": "code",
   "execution_count": null,
   "metadata": {},
   "outputs": [],
   "source": [
    "FM_3_ctrl.plot_D_L(L_list=L_list,p_list=p_ctrl_list,p_idx_list=[0,5,10,15],diffusion=diffusion_0_ctrl_3)"
   ]
  },
  {
   "cell_type": "code",
   "execution_count": null,
   "metadata": {},
   "outputs": [],
   "source": [
    "FM_3_ctrl.plot_D(p_ctrl_list[:-1],diffusion_0_ctrl_3)"
   ]
  },
  {
   "cell_type": "code",
   "execution_count": null,
   "metadata": {},
   "outputs": [],
   "source": [
    "FM_3_ctrl.plot_S_D(EE_0_ctrl,diffusion_0_ctrl_3)"
   ]
  },
  {
   "cell_type": "code",
   "execution_count": null,
   "metadata": {},
   "outputs": [],
   "source": [
    "FM_3_ctrl.plot_D_pctrl(p_ctrl_list,L_list)"
   ]
  },
  {
   "cell_type": "markdown",
   "metadata": {},
   "source": [
    "### $\\mathbb{E}_m[\\langle(\\hat{F}-\\langle\\hat{F}\\rangle)^2\\rangle^2] - \\mathbb{E}_m[\\langle(\\hat{F}-\\langle\\hat{F}\\rangle)^2\\rangle]^2$"
   ]
  },
  {
   "cell_type": "code",
   "execution_count": null,
   "metadata": {},
   "outputs": [],
   "source": [
    "FM_4_ctrl=Diffusion(fdw=f_t,fixed='FM',diffusion_type=4,ctrl=True)"
   ]
  },
  {
   "cell_type": "code",
   "execution_count": null,
   "metadata": {},
   "outputs": [],
   "source": [
    "FM_4_ctrl.plot_fit(L_list=L_list,t_func='sqrt',p_list=p_ctrl_list,fit=False,idx_list=[0,5,10,15],xlim_func=None,L_alpha=True,shift_step=0,xlim=None)"
   ]
  },
  {
   "cell_type": "code",
   "execution_count": null,
   "metadata": {},
   "outputs": [],
   "source": [
    "FM_4_ctrl.plot_fit(  \n",
    "    L_list=L_list,\n",
    "    p_list=p_ctrl_list,\n",
    "    xlim_func=xlim_0_ctrl_2_func,\n",
    "    t_func=None,\n",
    "    fit=True,\n",
    "    idx_list=[0,5,10,15],\n",
    "    L_alpha=True,\n",
    "    shift_step=2,\n",
    "    xlim=(0,15),)"
   ]
  },
  {
   "cell_type": "code",
   "execution_count": null,
   "metadata": {},
   "outputs": [],
   "source": [
    "diffusion_0_ctrl_4=FM_4_ctrl.fit(xlim_0_ctrl_3_func)"
   ]
  },
  {
   "cell_type": "code",
   "execution_count": null,
   "metadata": {},
   "outputs": [],
   "source": [
    "FM_4_ctrl.plot_D_L(L_list=L_list,p_list=p_ctrl_list,p_idx_list=[0,5,10,15],diffusion=diffusion_0_ctrl_4)"
   ]
  },
  {
   "cell_type": "code",
   "execution_count": null,
   "metadata": {},
   "outputs": [],
   "source": [
    "FM_4_ctrl.plot_D(p_ctrl_list[:-1],diffusion_0_ctrl_4)"
   ]
  },
  {
   "cell_type": "code",
   "execution_count": null,
   "metadata": {},
   "outputs": [],
   "source": [
    "FM_4_ctrl.plot_S_D(EE_0_ctrl,diffusion_0_ctrl_4)"
   ]
  },
  {
   "cell_type": "code",
   "execution_count": null,
   "metadata": {},
   "outputs": [],
   "source": [
    "FM_4_ctrl.plot_D_pctrl(p_ctrl_list,L_list)\n",
    "plt.gca().set_xticks(np.linspace(0,1,11))"
   ]
  },
  {
   "cell_type": "markdown",
   "metadata": {},
   "source": [
    "## 1/3,2/3, ctrl"
   ]
  },
  {
   "cell_type": "markdown",
   "metadata": {},
   "source": [
    "### $\\mathbb{E}_m[\\langle{\\hat{F}}\\rangle^2]- \\mathbb{E}_m[\\langle{\\hat{F}}\\rangle]^2$"
   ]
  },
  {
   "cell_type": "code",
   "execution_count": null,
   "metadata": {},
   "outputs": [],
   "source": [
    "AFM_1_ctrl=Diffusion(fdw=f_t,fixed='AFM',diffusion_type=1,ctrl=True)"
   ]
  },
  {
   "cell_type": "code",
   "execution_count": null,
   "metadata": {},
   "outputs": [],
   "source": [
    "AFM_1_ctrl.plot_fit(L_list=L_list,t_func='sqrt',p_list=p_ctrl_list,fit=False,idx_list=[0,5,10,15],xlim_func=None,L_alpha=False,shift_step=0,xlim=None)"
   ]
  },
  {
   "cell_type": "code",
   "execution_count": null,
   "metadata": {},
   "outputs": [],
   "source": [
    "AFM_1_ctrl.plot_fit(L_list=L_list,t_func='sqrt',p_list=p_ctrl_list,fit=False,idx_list=[10,15],xlim_func=None,L_alpha=True,shift_step=0,xlim=None,)"
   ]
  },
  {
   "cell_type": "code",
   "execution_count": null,
   "metadata": {},
   "outputs": [],
   "source": [
    "xlim_1_3_ctrl_1_func={idx: lambda L:[0,L//2-1] for idx in range(21)}"
   ]
  },
  {
   "cell_type": "code",
   "execution_count": null,
   "metadata": {},
   "outputs": [],
   "source": [
    "AFM_1_ctrl.plot_fit(  \n",
    "    L_list=L_list,\n",
    "    p_list=p_ctrl_list,\n",
    "    xlim_func=xlim_1_3_ctrl_1_func,\n",
    "    t_func=None,\n",
    "    fit=True,\n",
    "    idx_list=[0,5,10,15],\n",
    "    L_alpha=False,\n",
    "    shift_step=10,\n",
    "    xlim=(0,10),)"
   ]
  },
  {
   "cell_type": "code",
   "execution_count": null,
   "metadata": {},
   "outputs": [],
   "source": [
    "AFM_1_ctrl.plot_fit(  \n",
    "    L_list=L_list,\n",
    "    p_list=p_ctrl_list,\n",
    "    xlim_func=xlim_1_3_ctrl_1_func,\n",
    "    t_func=None,\n",
    "    fit=True,\n",
    "    idx_list=[10,],\n",
    "    L_alpha=False,\n",
    "    shift_step=10,\n",
    "    xlim=(0,10),)"
   ]
  },
  {
   "cell_type": "code",
   "execution_count": null,
   "metadata": {},
   "outputs": [],
   "source": [
    "diffusion_1_3_ctrl_1=AFM_1_ctrl.fit(xlim_1_3_ctrl_1_func)"
   ]
  },
  {
   "cell_type": "code",
   "execution_count": null,
   "metadata": {},
   "outputs": [],
   "source": [
    "AFM_1_ctrl.plot_D_L(L_list=L_list,p_list=p_ctrl_list,p_idx_list=[0,5,10,15],diffusion=diffusion_1_3_ctrl_1)"
   ]
  },
  {
   "cell_type": "code",
   "execution_count": null,
   "metadata": {},
   "outputs": [],
   "source": [
    "EE_1_3_ctrl=AFM_1_ctrl.EE()"
   ]
  },
  {
   "cell_type": "code",
   "execution_count": null,
   "metadata": {},
   "outputs": [],
   "source": [
    "AFM_1_ctrl.plot_D(p_ctrl_list[:-1],diffusion_1_3_ctrl_1)"
   ]
  },
  {
   "cell_type": "code",
   "execution_count": null,
   "metadata": {},
   "outputs": [],
   "source": [
    "AFM_1_ctrl.plot_S_D(EE_1_3_ctrl,diffusion_1_3_ctrl_1)"
   ]
  },
  {
   "cell_type": "markdown",
   "metadata": {},
   "source": [
    "### $\\mathbb{E}_m[\\langle(\\hat{F}-\\langle\\hat{F}\\rangle)^2\\rangle]$"
   ]
  },
  {
   "cell_type": "code",
   "execution_count": null,
   "metadata": {},
   "outputs": [],
   "source": [
    "AFM_2_ctrl=Diffusion(fdw=f_t,fixed='AFM',diffusion_type=2,ctrl=True)"
   ]
  },
  {
   "cell_type": "code",
   "execution_count": null,
   "metadata": {},
   "outputs": [],
   "source": [
    "AFM_2_ctrl.plot_fit(L_list=L_list,t_func='sqrt',p_list=p_ctrl_list,fit=False,idx_list=[0,5,10,15],xlim_func=None,L_alpha=True,shift_step=0,xlim=None)"
   ]
  },
  {
   "cell_type": "code",
   "execution_count": null,
   "metadata": {},
   "outputs": [],
   "source": [
    "xlim_1_3_ctrl_2_func={**{0: lambda L:[L-3,L-3+1]},\n",
    "    **{idx: lambda L: {8:[5,6],10:[5,6],12:[8,9], 14:[7,8], 16:[10,11]}[L] for idx in range(1,10)},\n",
    "    **{idx: lambda L:[2,3] for idx in range(10,20)}\n",
    "}"
   ]
  },
  {
   "cell_type": "code",
   "execution_count": null,
   "metadata": {},
   "outputs": [],
   "source": [
    "AFM_2_ctrl.plot_fit(  \n",
    "    L_list=L_list,\n",
    "    p_list=p_ctrl_list,\n",
    "    xlim_func=xlim_1_3_ctrl_2_func,\n",
    "    t_func=None,\n",
    "    fit=True,\n",
    "    idx_list=[0,5,10,15],\n",
    "    L_alpha=True,\n",
    "    shift_step=3,\n",
    "    xlim=(0,15),)"
   ]
  },
  {
   "cell_type": "code",
   "execution_count": null,
   "metadata": {},
   "outputs": [],
   "source": [
    "AFM_2_ctrl.plot_fit( \n",
    "    L_list=L_list,\n",
    "    p_list=p_ctrl_list,\n",
    "    xlim_func=xlim_1_3_ctrl_2_func,\n",
    "    t_func='sqrt2',\n",
    "    fit=True,\n",
    "    idx_list=[7,],\n",
    "    L_alpha=True,\n",
    "    shift_step=2,\n",
    "    xlim=(0,4),)"
   ]
  },
  {
   "cell_type": "code",
   "execution_count": null,
   "metadata": {},
   "outputs": [],
   "source": [
    "diffusion_1_3_ctrl_2=AFM_2_ctrl.fit(xlim_1_3_ctrl_2_func)"
   ]
  },
  {
   "cell_type": "code",
   "execution_count": null,
   "metadata": {},
   "outputs": [],
   "source": [
    "AFM_2_ctrl.plot_D_L(L_list=L_list,p_list=p_ctrl_list,p_idx_list=[0,5,10,15],diffusion=diffusion_1_3_ctrl_2)"
   ]
  },
  {
   "cell_type": "code",
   "execution_count": null,
   "metadata": {},
   "outputs": [],
   "source": [
    "EE_1_3_ctrl=AFM_2_ctrl.EE()"
   ]
  },
  {
   "cell_type": "code",
   "execution_count": null,
   "metadata": {},
   "outputs": [],
   "source": [
    "AFM_2_ctrl.plot_D(p_ctrl_list[:-1],diffusion_1_3_ctrl_2)"
   ]
  },
  {
   "cell_type": "code",
   "execution_count": null,
   "metadata": {},
   "outputs": [],
   "source": [
    "AFM_2_ctrl.plot_S_D(EE_1_3_ctrl,diffusion_1_3_ctrl_2)"
   ]
  },
  {
   "cell_type": "code",
   "execution_count": null,
   "metadata": {},
   "outputs": [],
   "source": [
    "AFM_2_ctrl.plot_D_pctrl(p_ctrl_list,L_list)"
   ]
  },
  {
   "cell_type": "markdown",
   "metadata": {},
   "source": [
    "### $\\mathbb{E}_m[\\langle(\\hat{F}-\\langle\\hat{F}\\rangle)^2\\rangle^2]$"
   ]
  },
  {
   "cell_type": "code",
   "execution_count": null,
   "metadata": {},
   "outputs": [],
   "source": [
    "AFM_3_ctrl=Diffusion(fdw=f_t,fixed='AFM',diffusion_type=3,ctrl=True)"
   ]
  },
  {
   "cell_type": "code",
   "execution_count": null,
   "metadata": {},
   "outputs": [],
   "source": [
    "AFM_3_ctrl.plot_fit(L_list=L_list,t_func='sqrt',p_list=p_ctrl_list,fit=False,idx_list=[0,5,10,15],xlim_func=None,L_alpha=True,shift_step=0,xlim=None)"
   ]
  },
  {
   "cell_type": "code",
   "execution_count": null,
   "metadata": {},
   "outputs": [],
   "source": [
    "xlim_1_3_ctrl_3_func={**{0: lambda L:[L-3,L-3+1]},\n",
    "    **{idx: lambda L: {8:[5,6],10:[5,6],12:[8,9], 14:[7,8], 16:[10,11]}[L] for idx in range(1,10)},\n",
    "    **{idx: lambda L:[2,3] for idx in range(10,20)}\n",
    "}"
   ]
  },
  {
   "cell_type": "code",
   "execution_count": null,
   "metadata": {},
   "outputs": [],
   "source": [
    "AFM_3_ctrl.plot_fit(  \n",
    "    L_list=L_list,\n",
    "    p_list=p_ctrl_list,\n",
    "    xlim_func=xlim_1_3_ctrl_2_func,\n",
    "    t_func=None,\n",
    "    fit=True,\n",
    "    idx_list=[0,5,10,15],\n",
    "    L_alpha=True,\n",
    "    shift_step=2,\n",
    "    xlim=(0,15),)"
   ]
  },
  {
   "cell_type": "code",
   "execution_count": null,
   "metadata": {},
   "outputs": [],
   "source": [
    "AFM_3_ctrl.plot_fit( \n",
    "    L_list=L_list,\n",
    "    p_list=p_ctrl_list,\n",
    "    xlim_func=xlim_1_3_ctrl_2_func,\n",
    "    t_func=None,\n",
    "    fit=True,\n",
    "    idx_list=[0,],\n",
    "    L_alpha=False,\n",
    "    shift_step=2,\n",
    "    xlim=(0,15),)"
   ]
  },
  {
   "cell_type": "code",
   "execution_count": null,
   "metadata": {},
   "outputs": [],
   "source": [
    "diffusion_1_3_ctrl_3=AFM_3_ctrl.fit(xlim_1_3_ctrl_3_func)"
   ]
  },
  {
   "cell_type": "code",
   "execution_count": null,
   "metadata": {},
   "outputs": [],
   "source": [
    "AFM_3_ctrl.plot_D_L(L_list=L_list,p_list=p_ctrl_list,p_idx_list=[0,5,10,15],diffusion=diffusion_1_3_ctrl_3)"
   ]
  },
  {
   "cell_type": "code",
   "execution_count": null,
   "metadata": {},
   "outputs": [],
   "source": [
    "EE_1_3_ctrl=AFM_3_ctrl.EE()"
   ]
  },
  {
   "cell_type": "code",
   "execution_count": null,
   "metadata": {},
   "outputs": [],
   "source": [
    "AFM_3_ctrl.plot_D(p_ctrl_list[:-1],diffusion_1_3_ctrl_3)"
   ]
  },
  {
   "cell_type": "code",
   "execution_count": null,
   "metadata": {},
   "outputs": [],
   "source": [
    "AFM_3_ctrl.plot_S_D(EE_1_3_ctrl,diffusion_1_3_ctrl_3)"
   ]
  },
  {
   "cell_type": "code",
   "execution_count": null,
   "metadata": {},
   "outputs": [],
   "source": [
    "AFM_3_ctrl.plot_D_pctrl(p_ctrl_list,L_list)"
   ]
  },
  {
   "cell_type": "markdown",
   "metadata": {},
   "source": [
    "### $\\mathbb{E}_m[\\langle(\\hat{F}-\\langle\\hat{F}\\rangle)^2\\rangle^2] - \\mathbb{E}_m[\\langle(\\hat{F}-\\langle\\hat{F}\\rangle)^2\\rangle]^2$"
   ]
  },
  {
   "cell_type": "code",
   "execution_count": null,
   "metadata": {},
   "outputs": [],
   "source": [
    "AFM_4_ctrl=Diffusion(fdw=f_t,fixed='AFM',diffusion_type=4,ctrl=True)"
   ]
  },
  {
   "cell_type": "code",
   "execution_count": null,
   "metadata": {},
   "outputs": [],
   "source": [
    "AFM_4_ctrl.plot_fit(L_list=L_list,t_func='sqrt',p_list=p_ctrl_list,fit=False,idx_list=[0,5,10,15],xlim_func=None,L_alpha=True,shift_step=0,xlim=None)"
   ]
  },
  {
   "cell_type": "code",
   "execution_count": null,
   "metadata": {},
   "outputs": [],
   "source": [
    "AFM_4_ctrl.plot_fit(  \n",
    "    L_list=L_list,\n",
    "    p_list=p_ctrl_list,\n",
    "    xlim_func=xlim_1_3_ctrl_2_func,\n",
    "    t_func=None,\n",
    "    fit=True,\n",
    "    idx_list=[0,5,10,15],\n",
    "    L_alpha=True,\n",
    "    shift_step=1,\n",
    "    xlim=(0,10),)"
   ]
  },
  {
   "cell_type": "code",
   "execution_count": null,
   "metadata": {},
   "outputs": [],
   "source": [
    "AFM_4_ctrl.plot_fit( \n",
    "    L_list=L_list,\n",
    "    p_list=p_ctrl_list,\n",
    "    xlim_func=xlim_1_3_ctrl_2_func,\n",
    "    t_func=None,\n",
    "    fit=True,\n",
    "    idx_list=[19,],\n",
    "    L_alpha=False,\n",
    "    shift_step=0.5,\n",
    "    xlim=(0,15),)"
   ]
  },
  {
   "cell_type": "code",
   "execution_count": null,
   "metadata": {},
   "outputs": [],
   "source": [
    "diffusion_1_3_ctrl_4=AFM_4_ctrl.fit(xlim_1_3_ctrl_3_func)"
   ]
  },
  {
   "cell_type": "code",
   "execution_count": null,
   "metadata": {},
   "outputs": [],
   "source": [
    "AFM_4_ctrl.plot_D_L(L_list=L_list,p_list=p_ctrl_list,p_idx_list=[0,5,10,15],diffusion=diffusion_1_3_ctrl_4)"
   ]
  },
  {
   "cell_type": "code",
   "execution_count": null,
   "metadata": {},
   "outputs": [],
   "source": [
    "EE_1_3_ctrl=AFM_2_ctrl.EE()"
   ]
  },
  {
   "cell_type": "code",
   "execution_count": null,
   "metadata": {},
   "outputs": [],
   "source": [
    "AFM_4_ctrl.plot_D(p_ctrl_list[:-1],diffusion_1_3_ctrl_4)"
   ]
  },
  {
   "cell_type": "code",
   "execution_count": null,
   "metadata": {},
   "outputs": [],
   "source": [
    "AFM_4_ctrl.plot_S_D(EE_1_3_ctrl,diffusion_1_3_ctrl_4)"
   ]
  },
  {
   "cell_type": "code",
   "execution_count": null,
   "metadata": {},
   "outputs": [],
   "source": [
    "AFM_4_ctrl.plot_D_pctrl(p_ctrl_list,L_list)\n",
    "plt.gca().set_xticks(np.linspace(0,1,11))"
   ]
  },
  {
   "cell_type": "markdown",
   "metadata": {},
   "source": [
    "### vs p_ctrl"
   ]
  },
  {
   "cell_type": "code",
   "execution_count": null,
   "metadata": {},
   "outputs": [],
   "source": [
    "L_list=[8,10,12,14,16,18,20]\n"
   ]
  },
  {
   "cell_type": "code",
   "execution_count": null,
   "metadata": {},
   "outputs": [],
   "source": [
    "fig,ax=plt.subplots()\n",
    "for L in L_list:\n",
    "    ax.plot(p_ctrl_list,[np.mean(FM_4_ctrl.generate_data(L=L,idx=idx,func=None)[1]) for idx in range(21)],label=f'L={L}')\n",
    "ax.grid('on')\n",
    "ax.legend()\n",
    "ax.set_xlabel('$p_{ctrl}$')\n",
    "ax.set_xticks(np.linspace(0,1,11))\n",
    "\n",
    "# ax.set_xlim([.16,.4])\n",
    "# ax.set_ylim([0.6,1.1])"
   ]
  },
  {
   "cell_type": "code",
   "execution_count": null,
   "metadata": {},
   "outputs": [],
   "source": [
    "fig,ax=plt.subplots()\n",
    "for L in L_list:\n",
    "    ax.plot(p_ctrl_list,[np.mean(AFM_4_ctrl.generate_data(L=L,idx=idx,func=None)[1]) for idx in range(21)],label=f'L={L}')\n",
    "ax.grid('on')\n",
    "ax.legend()\n",
    "ax.set_xlabel('$p_{ctrl}$')\n",
    "ax.set_xticks(np.linspace(0,1,11))\n",
    "# ax.set_xlim([0.3,.55])\n",
    "# ax.set_ylim([0.3,1.2])"
   ]
  },
  {
   "cell_type": "code",
   "execution_count": null,
   "metadata": {},
   "outputs": [],
   "source": [
    "fig,ax=plt.subplots()\n",
    "for L in L_list[2:]:\n",
    "    ax.plot(p_ctrl_list,[np.mean(AFM_2_ctrl.generate_data(L=L,idx=idx,func=None)[1][-L:]) for idx in range(21)],label=f'L={L}')\n",
    "ax.grid('on')\n",
    "ax.legend()\n",
    "ax.set_xlabel('$p_{ctrl}$')\n",
    "# ax.set_xlim([.0,.6])\n",
    "# ax.set_ylim([1.8,2.3])\n",
    "# ax.set_xlim([.4,.6])"
   ]
  },
  {
   "cell_type": "code",
   "execution_count": null,
   "metadata": {},
   "outputs": [],
   "source": [
    "fig,ax=plt.subplots()\n",
    "ax.plot(L_list,[np.mean(FM_2_ctrl.generate_data(L=L,idx=10,func=None)[1][-L:]) for L in L_list],'.-',label=f'L={L}')\n",
    "ax.grid('on')"
   ]
  },
  {
   "cell_type": "code",
   "execution_count": null,
   "metadata": {},
   "outputs": [],
   "source": [
    "fig,ax=plt.subplots()\n",
    "ax.plot(L_list,[np.mean(AFM_2_ctrl.generate_data(L=L,idx=10,func=None)[1][-L:]) for L in L_list],'.-',label=f'L={L}')\n",
    "ax.grid('on ')"
   ]
  },
  {
   "cell_type": "code",
   "execution_count": null,
   "metadata": {},
   "outputs": [],
   "source": [
    "fig,ax=plt.subplots()\n",
    "for L in L_list[2:]:\n",
    "    ax.plot(p_ctrl_list,[AFM_2_proj.generate_data(L=L,idx=idx,func=None)[1][-1] for idx in range(21)])\n",
    "ax.grid('on')\n",
    "ax.legend()\n",
    "ax.set_xlabel('$p_{proj}$')"
   ]
  },
  {
   "cell_type": "code",
   "execution_count": null,
   "metadata": {},
   "outputs": [],
   "source": [
    "plt.plot(p_ctrl_list,[FM_2_proj.generate_data(L=16,idx=idx,func=None)[1][-1] for idx in range(21)])\n",
    "plt.grid('on')"
   ]
  },
  {
   "cell_type": "code",
   "execution_count": null,
   "metadata": {},
   "outputs": [],
   "source": [
    "fig,ax=plt.subplots()\n",
    "for L in L_list:\n",
    "    ax.plot(EE_0_proj[L],([FM_2_proj.generate_data(L=L,idx=idx,func=None)[1][-1] for idx in range(20)]),'.-',label=f'L={L}')\n",
    "ax.grid('on')\n",
    "ax.set_xlabel('$S_{L/2}$')\n",
    "ax.set_ylabel('Final Time spread')\n",
    "ax.legend()\n"
   ]
  },
  {
   "cell_type": "code",
   "execution_count": null,
   "metadata": {},
   "outputs": [],
   "source": [
    "fig,ax=plt.subplots()\n",
    "for L in L_list:\n",
    "    ax.plot(EE_1_3_proj[L],[AFM_2_proj.generate_data(L=L,idx=idx,func=None)[1][-1] for idx in range(20)],'.-',label=f'L={L}')\n",
    "ax.grid('on')\n",
    "ax.set_xlabel('$S_{L/2}$')\n",
    "ax.set_ylabel('Final Time spread')\n",
    "ax.legend()\n"
   ]
  },
  {
   "cell_type": "code",
   "execution_count": null,
   "metadata": {},
   "outputs": [],
   "source": [
    "fig,ax=plt.subplots()\n",
    "ax.plot(EE_0_ctrl[16],[FM_2_ctrl.generate_data(L=16,idx=idx,func=None)[1][-1] for idx in range(20)],)\n",
    "ax.grid('on')\n",
    "ax.set_xlabel('$S_{L/2}$')\n",
    "ax.set_ylabel('Final Time spread')\n"
   ]
  },
  {
   "cell_type": "code",
   "execution_count": null,
   "metadata": {},
   "outputs": [],
   "source": [
    "fig,ax=plt.subplots()\n",
    "ax.plot(EE_1_3_ctrl[16],[AFM_2_ctrl.generate_data(L=16,idx=idx,func=None)[1][-1] for idx in range(20)],)\n",
    "ax.grid('on')\n",
    "ax.set_xlabel('$S_{L/2}$')\n",
    "ax.set_ylabel('Final Time spread')\n"
   ]
  },
  {
   "cell_type": "markdown",
   "metadata": {},
   "source": [
    "## Classial"
   ]
  },
  {
   "cell_type": "code",
   "execution_count": null,
   "metadata": {},
   "outputs": [],
   "source": [
    "dw_1_3={L:np.array(convert_bitstring_to_dw(L,ZZ=True)) for L in L_list}"
   ]
  },
  {
   "cell_type": "code",
   "execution_count": null,
   "metadata": {},
   "outputs": [],
   "source": [
    "fig,ax=plt.subplots(figsize=(6,5))\n",
    "for L,color in zip([8,10,12,14,16],['C0','C1','C2','C3','C6']):\n",
    "    for idx,alpha in zip([0,5,10,15],[1,0.8,0.6,.4]):\n",
    "        ax.plot(np.sqrt(np.arange(2*L**2+1))/L,np.var(dw_1_3[L][f_1_3_C_t[L][f'wf_{L}'][idx]],axis=-1),label=f'$p_{{ctrl}}$={p_ctrl_list[idx]:.2f}, $L$={L}',color=color,alpha=alpha)\n",
    "    # ax.axhline(y=(L/3.5)**2,color=color,ls='dashed')\n",
    "\n",
    "# ax.set_xlim(0,30)\n",
    "ax.legend(bbox_to_anchor=(1.05, 1), loc='upper left')\n",
    "ax.set_xlabel(r'$\\sqrt{t}/L$')\n",
    "ax.set_ylabel(r'$\\mathbb{E}_m[F^2]-\\mathbb{E}_m[F]^2$')\n",
    "\n",
    "ax.grid('on')"
   ]
  },
  {
   "cell_type": "code",
   "execution_count": null,
   "metadata": {},
   "outputs": [],
   "source": [
    "fig,ax=plt.subplots(figsize=(6,5))\n",
    "for idx,alpha in zip([0,5,10,15],[1,0.8,0.6,.4]):\n",
    "    for (L_idx,L),color in zip(enumerate([8,10,12,14,16]),['C0','C1','C2','C3','C6']):\n",
    "        shift=L_idx*10\n",
    "        ax.plot(shift+np.var(dw_1_3[L][f_1_3_C_t[L][f'wf_{L}'][idx]],axis=-1),'.-',label=f'$p_{{ctrl}}$={p_ctrl_list[idx]:.2f}, $L$={L}',color=color,alpha=alpha,)\n",
    "        ax.plot(np.linspace(0,10),shift+diffusion_1_3_ctrl[L][idx,0]*np.linspace(0,10)+diffusion_1_3_ctrl[L][idx,1],color=color,alpha=alpha,ls='dotted')\n",
    "\n",
    "    # ax.axhline(y=(L/3.5)**2,color=color,ls='dashed')\n",
    "\n",
    "ax.set_xlim(0,10)\n",
    "ax.set_ylim(0,55)\n",
    "\n",
    "ax.legend(bbox_to_anchor=(1.05, 1), loc='upper left')\n",
    "ax.set_xlabel(r'$t$')\n",
    "ax.set_ylabel(r'$\\mathbb{E}_m[F^2]-\\mathbb{E}_m[F]^2$')\n",
    "ax.grid('on')"
   ]
  },
  {
   "cell_type": "code",
   "execution_count": null,
   "metadata": {},
   "outputs": [],
   "source": [
    "fig,ax=plt.subplots(figsize=(6,5))\n",
    "for L,color in zip([8,10,12,14,16],['C0','C1','C2','C3','C6']):\n",
    "    for idx,alpha in zip([0,5,10,15],[1,0.8,0.6,.4]):\n",
    "        ax.plot(np.sqrt(np.arange(2*L**2+1))/L,-L/2+np.mean(dw_1_3[L][f_1_3_C_t[L][f'wf_{L}'][idx]],axis=-1),label=f'$p_{{ctrl}}$={p_ctrl_list[idx]:.2f}, $L$={L}',color=color,alpha=alpha)\n",
    "    # ax.axhline(y=(L/3.5)**2,color=color,ls='dashed')\n",
    "\n",
    "# ax.set_xlim(0,30)\n",
    "ax.legend(bbox_to_anchor=(1.05, 1), loc='upper left')\n",
    "ax.set_xlabel(r'$\\sqrt{t}/L$')\n",
    "ax.set_ylabel(r'$\\mathbb{E}_m[F]-L/2$')\n",
    "ax.grid('on')"
   ]
  },
  {
   "cell_type": "code",
   "execution_count": null,
   "metadata": {},
   "outputs": [],
   "source": [
    "diffusion_1_3_C_ctrl={L:np.array([diffusion_coef_C(f_1_3_C_t,dw_1_3,p_ctrl_idx,L,) for p_ctrl_idx in range(21)]) for L in L_list}"
   ]
  },
  {
   "cell_type": "code",
   "execution_count": null,
   "metadata": {},
   "outputs": [],
   "source": [
    "fig,ax=plt.subplots(figsize=(4,3))\n",
    "for p_ctrl_idx in [0,5,10,15,20]:\n",
    "    ax.plot(1/np.array(L_list),[diffusion_1_3_C_ctrl[L][p_ctrl_idx,0] for L in L_list],'.-',label=f'$p_{{ctrl}}$={p_ctrl_list[p_ctrl_idx]:.2f}')\n",
    "    # ax.axhline(4*p_ctrl_list[p_ctrl_idx]*(1-p_ctrl_list[p_ctrl_idx]),ls='dashed',color='k')\n",
    "ax.set_xticks(1/np.array(L_list),labels=[f'$\\\\frac{{1}}{{{L}}}$' for L in L_list])\n",
    "ax.legend()\n",
    "ax.set_xlabel('L')\n",
    "ax.set_ylabel(r'$D$')\n",
    "ax.grid('on')\n"
   ]
  },
  {
   "cell_type": "code",
   "execution_count": null,
   "metadata": {},
   "outputs": [],
   "source": [
    "fig,ax=plt.subplots(figsize=(4,3))\n",
    "ax.plot(p_ctrl_list,[diffusion_1_3_C_ctrl[16][p_ctrl_idx,0] for p_ctrl_idx in range(len(p_ctrl_list))],label='L=16')\n",
    "ax.plot(p_ctrl_list,4*p_ctrl_list*(1-p_ctrl_list),label='4p(1-p)')\n",
    "ax.set_xlabel(r'$p_{ctrl}$')\n",
    "ax.set_ylabel(r'$D$')\n",
    "ax.legend()"
   ]
  },
  {
   "cell_type": "markdown",
   "metadata": {},
   "source": [
    "# Distri"
   ]
  },
  {
   "cell_type": "code",
   "execution_count": null,
   "metadata": {},
   "outputs": [],
   "source": [
    "f_t[('FM','ctrl')][L]['FDW_16'].shape"
   ]
  },
  {
   "cell_type": "code",
   "execution_count": null,
   "metadata": {},
   "outputs": [],
   "source": [
    "plt.hist(f_t[('FM','ctrl')][L]['FDW_16'][0,0,-1,1] - f_t[('FM','ctrl')][L]['FDW_16'][0,0,-1,0]**2,bins=20)"
   ]
  },
  {
   "cell_type": "code",
   "execution_count": null,
   "metadata": {},
   "outputs": [],
   "source": []
  },
  {
   "cell_type": "code",
   "execution_count": null,
   "metadata": {},
   "outputs": [],
   "source": [
    "idx=0\n",
    "plt.hist(f_t[('FM','ctrl')][L]['FDW_16'][idx,0,-1,1] - f_t[('FM','ctrl')][L]['FDW_16'][idx,0,-1,0]**2,bins=20)\n",
    "plt.title(f'p_ctrl={p_ctrl_list[idx]}')"
   ]
  },
  {
   "cell_type": "code",
   "execution_count": null,
   "metadata": {},
   "outputs": [],
   "source": [
    "idx=8\n",
    "plt.hist(f_t[('FM','ctrl')][L]['FDW_16'][idx,0,-1,1] - f_t[('FM','ctrl')][L]['FDW_16'][idx,0,-1,0]**2,bins=20)\n",
    "plt.title(f'p_ctrl={p_ctrl_list[idx]:.2f}')"
   ]
  },
  {
   "cell_type": "code",
   "execution_count": null,
   "metadata": {},
   "outputs": [],
   "source": [
    "idx=10\n",
    "plt.hist(f_t[('FM','ctrl')][L]['FDW_16'][idx,0,-1,1] - f_t[('FM','ctrl')][L]['FDW_16'][idx,0,-1,0]**2,bins=20)\n",
    "plt.title(f'p_ctrl={p_ctrl_list[idx]:.2f}')"
   ]
  },
  {
   "cell_type": "code",
   "execution_count": null,
   "metadata": {},
   "outputs": [],
   "source": [
    "idx=12\n",
    "plt.hist(f_t[('FM','ctrl')][L]['FDW_16'][idx,0,-1,1] - f_t[('FM','ctrl')][L]['FDW_16'][idx,0,-1,0]**2,bins=20)\n",
    "plt.title(f'p_ctrl={p_ctrl_list[idx]:.2f}')"
   ]
  },
  {
   "cell_type": "code",
   "execution_count": null,
   "metadata": {},
   "outputs": [],
   "source": []
  },
  {
   "cell_type": "markdown",
   "metadata": {},
   "source": [
    "# Growth of O"
   ]
  },
  {
   "cell_type": "code",
   "execution_count": 45,
   "metadata": {},
   "outputs": [],
   "source": [
    "f_0={}\n",
    "dirpath='.'\n",
    "L_list=[8,10]\n",
    "for L in L_list:\n",
    "    f_0[L]=h5py.File(os.path.join(dirpath,f'CT_En2000_pctrl(0.00,1.00,21)_pproj(0.00,0.00,1)_L({L},{L+2},2)_xj(0)_seed0_64_wf_T_all.hdf5'))\n",
    "    "
   ]
  },
  {
   "cell_type": "code",
   "execution_count": 46,
   "metadata": {},
   "outputs": [
    {
     "data": {
      "text/plain": [
       "<KeysViewHDF5 ['EE', 'O', 'TMI', 'wf_10']>"
      ]
     },
     "execution_count": 46,
     "metadata": {},
     "output_type": "execute_result"
    }
   ],
   "source": [
    "f_0[L].keys()"
   ]
  },
  {
   "cell_type": "code",
   "execution_count": 47,
   "metadata": {},
   "outputs": [
    {
     "data": {
      "text/plain": [
       "(21, 1, 201, 2, 2, 2, 2, 2, 2, 2, 2, 2, 2, 2000, 1)"
      ]
     },
     "execution_count": 47,
     "metadata": {},
     "output_type": "execute_result"
    }
   ],
   "source": [
    "f_0[L]['wf_10'].shape"
   ]
  },
  {
   "cell_type": "code",
   "execution_count": 62,
   "metadata": {},
   "outputs": [],
   "source": [
    "L=8\n",
    "wf=f_0[L][f'wf_{L}'][10,0].reshape((-1,2**L,2000))\n",
    "OP1=Z(L,(0,L))/L\n",
    "exp_O=contract(np.abs(wf)**2,[0,1,2],OP1,[1],[0,2])\n",
    "exp_O=contract(np.abs(wf)**2,[0,1,2],OP1,[1],[0,2])"
   ]
  },
  {
   "cell_type": "code",
   "execution_count": null,
   "metadata": {},
   "outputs": [],
   "source": []
  },
  {
   "cell_type": "code",
   "execution_count": 96,
   "metadata": {},
   "outputs": [
    {
     "data": {
      "text/plain": [
       "Text(0, 0.5, '$\\\\overline{\\\\langle O \\\\rangle^2} - \\\\overline{\\\\langle O \\\\rangle}^2$')"
      ]
     },
     "execution_count": 96,
     "metadata": {},
     "output_type": "execute_result"
    },
    {
     "data": {
      "image/png": "[encoded data removed]",
      "text/plain": [
       "<Figure size 640x480 with 1 Axes>"
      ]
     },
     "metadata": {},
     "output_type": "display_data"
    }
   ],
   "source": [
    "# L=8\n",
    "fig,ax=plt.subplots()\n",
    "z=0\n",
    "for L in [8,10]:\n",
    "    wf=f_0[L][f'wf_{L}'][0,0].reshape((-1,2**L,2000))\n",
    "    OP1=Z(L,(0,L))/L\n",
    "    exp_O=contract(np.abs(wf)**2,[0,1,2],OP1,[1],[0,2])\n",
    "    var_O= (exp_O**2).mean(axis=-1) - exp_O.mean(axis=-1) **2 \n",
    "    t_list=np.arange(2*L**2+1)\n",
    "    ax.plot(t_list/L**z, var_O,label=f'L={L}')\n",
    "\n",
    "ax.legend()\n",
    "ax.set_xlabel(f'$t/L^{z}$')  \n",
    "ax.set_ylabel(r'$\\overline{\\langle O \\rangle^2} - \\overline{\\langle O \\rangle}^2$')"
   ]
  },
  {
   "cell_type": "code",
   "execution_count": 90,
   "metadata": {},
   "outputs": [
    {
     "data": {
      "text/plain": [
       "Text(0, 0.5, '$\\\\overline{\\\\langle O^2 \\\\rangle}-\\\\overline{\\\\langle O \\\\rangle^2}$')"
      ]
     },
     "execution_count": 90,
     "metadata": {},
     "output_type": "execute_result"
    },
    {
     "data": {
      "image/png": "[encoded data removed]",
      "text/plain": [
       "<Figure size 640x480 with 1 Axes>"
      ]
     },
     "metadata": {},
     "output_type": "display_data"
    }
   ],
   "source": [
    "# L=8\n",
    "fig,ax=plt.subplots()\n",
    "z=0\n",
    "for L in [8,10]:\n",
    "    wf=f_0[L][f'wf_{L}'][12,0].reshape((-1,2**L,2000))\n",
    "    OP1=Z(L,(0,L))/L\n",
    "    exp_O=contract(np.abs(wf)**2,[0,1,2],OP1,[1],[0,2])\n",
    "    exp_O2=contract(np.abs(wf)**2,[0,1,2],OP1**2,[1],[0,2])\n",
    "    q_var_O= (exp_O2).mean(axis=-1)-(exp_O**2).mean(axis=-1)  \n",
    "    t_list=np.arange(2*L**2+1)\n",
    "    ax.plot(t_list/L**z, q_var_O,label=f'L={L}')\n",
    "\n",
    "ax.legend()\n",
    "ax.set_xlabel(f'$t/L^{z}$')  \n",
    "ax.set_ylabel(r'$\\overline{\\langle O^2 \\rangle}-\\overline{\\langle O \\rangle^2}$')"
   ]
  },
  {
   "cell_type": "code",
   "execution_count": 66,
   "metadata": {},
   "outputs": [
    {
     "data": {
      "text/plain": [
       "[<matplotlib.lines.Line2D at 0x7a48353ab0d0>]"
      ]
     },
     "execution_count": 66,
     "metadata": {},
     "output_type": "execute_result"
    },
    {
     "data": {
      "image/png": "[encoded data removed]",
      "text/plain": [
       "<Figure size 640x480 with 1 Axes>"
      ]
     },
     "metadata": {},
     "output_type": "display_data"
    }
   ],
   "source": []
  },
  {
   "cell_type": "code",
   "execution_count": 34,
   "metadata": {},
   "outputs": [],
   "source": [
    "from opt_einsum import contract"
   ]
  },
  {
   "cell_type": "code",
   "execution_count": 33,
   "metadata": {},
   "outputs": [
    {
     "ename": "NameError",
     "evalue": "name 'contract' is not defined",
     "output_type": "error",
     "traceback": [
      "\u001b[0;31m---------------------------------------------------------------------------\u001b[0m",
      "\u001b[0;31mNameError\u001b[0m                                 Traceback (most recent call last)",
      "Cell \u001b[0;32mIn[33], line 3\u001b[0m\n\u001b[1;32m      1\u001b[0m L\u001b[38;5;241m=\u001b[39m\u001b[38;5;241m8\u001b[39m\n\u001b[1;32m      2\u001b[0m wf\u001b[38;5;241m=\u001b[39mf_0[L][\u001b[38;5;124mf\u001b[39m\u001b[38;5;124m'\u001b[39m\u001b[38;5;124mwf_\u001b[39m\u001b[38;5;132;01m{\u001b[39;00mL\u001b[38;5;132;01m}\u001b[39;00m\u001b[38;5;124m'\u001b[39m][\u001b[38;5;241m10\u001b[39m,\u001b[38;5;241m0\u001b[39m,\u001b[38;5;241m0\u001b[39m]\u001b[38;5;241m.\u001b[39mreshape((\u001b[38;5;241m2\u001b[39m\u001b[38;5;241m*\u001b[39m\u001b[38;5;241m*\u001b[39mL,\u001b[38;5;241m2000\u001b[39m))\n\u001b[0;32m----> 3\u001b[0m \u001b[43mcontract\u001b[49m(np\u001b[38;5;241m.\u001b[39mabs(wf)\u001b[38;5;241m*\u001b[39m\u001b[38;5;241m*\u001b[39m\u001b[38;5;241m2\u001b[39m,[\u001b[38;5;241m0\u001b[39m,\u001b[38;5;241m1\u001b[39m],OP1,[\u001b[38;5;241m0\u001b[39m],[\u001b[38;5;241m1\u001b[39m])\n",
      "\u001b[0;31mNameError\u001b[0m: name 'contract' is not defined"
     ]
    }
   ],
   "source": [
    "L=8\n",
    "wf=f_0[L][f'wf_{L}'][10,0,0].reshape((2**L,2000))\n",
    "contract(np.abs(wf)**2,[0,1],OP1,[0],[1])"
   ]
  },
  {
   "cell_type": "code",
   "execution_count": 58,
   "metadata": {},
   "outputs": [],
   "source": [
    "def Z(L,regime,):\n",
    "    return np.array([regime[1]-regime[0]-2*bin(idx).replace('0b','').zfill(L)[regime[0]:regime[1]].count('1') for idx in range(2**L)])\n"
   ]
  },
  {
   "cell_type": "code",
   "execution_count": 59,
   "metadata": {},
   "outputs": [],
   "source": [
    "L=8\n",
    "OP1=Z(L,(0,L))/L"
   ]
  },
  {
   "cell_type": "code",
   "execution_count": 60,
   "metadata": {},
   "outputs": [
    {
     "data": {
      "text/plain": [
       "array([ 1.  ,  0.75,  0.75,  0.5 ,  0.75,  0.5 ,  0.5 ,  0.25,  0.75,\n",
       "        0.5 ,  0.5 ,  0.25,  0.5 ,  0.25,  0.25,  0.  ,  0.75,  0.5 ,\n",
       "        0.5 ,  0.25,  0.5 ,  0.25,  0.25,  0.  ,  0.5 ,  0.25,  0.25,\n",
       "        0.  ,  0.25,  0.  ,  0.  , -0.25,  0.75,  0.5 ,  0.5 ,  0.25,\n",
       "        0.5 ,  0.25,  0.25,  0.  ,  0.5 ,  0.25,  0.25,  0.  ,  0.25,\n",
       "        0.  ,  0.  , -0.25,  0.5 ,  0.25,  0.25,  0.  ,  0.25,  0.  ,\n",
       "        0.  , -0.25,  0.25,  0.  ,  0.  , -0.25,  0.  , -0.25, -0.25,\n",
       "       -0.5 ,  0.75,  0.5 ,  0.5 ,  0.25,  0.5 ,  0.25,  0.25,  0.  ,\n",
       "        0.5 ,  0.25,  0.25,  0.  ,  0.25,  0.  ,  0.  , -0.25,  0.5 ,\n",
       "        0.25,  0.25,  0.  ,  0.25,  0.  ,  0.  , -0.25,  0.25,  0.  ,\n",
       "        0.  , -0.25,  0.  , -0.25, -0.25, -0.5 ,  0.5 ,  0.25,  0.25,\n",
       "        0.  ,  0.25,  0.  ,  0.  , -0.25,  0.25,  0.  ,  0.  , -0.25,\n",
       "        0.  , -0.25, -0.25, -0.5 ,  0.25,  0.  ,  0.  , -0.25,  0.  ,\n",
       "       -0.25, -0.25, -0.5 ,  0.  , -0.25, -0.25, -0.5 , -0.25, -0.5 ,\n",
       "       -0.5 , -0.75,  0.75,  0.5 ,  0.5 ,  0.25,  0.5 ,  0.25,  0.25,\n",
       "        0.  ,  0.5 ,  0.25,  0.25,  0.  ,  0.25,  0.  ,  0.  , -0.25,\n",
       "        0.5 ,  0.25,  0.25,  0.  ,  0.25,  0.  ,  0.  , -0.25,  0.25,\n",
       "        0.  ,  0.  , -0.25,  0.  , -0.25, -0.25, -0.5 ,  0.5 ,  0.25,\n",
       "        0.25,  0.  ,  0.25,  0.  ,  0.  , -0.25,  0.25,  0.  ,  0.  ,\n",
       "       -0.25,  0.  , -0.25, -0.25, -0.5 ,  0.25,  0.  ,  0.  , -0.25,\n",
       "        0.  , -0.25, -0.25, -0.5 ,  0.  , -0.25, -0.25, -0.5 , -0.25,\n",
       "       -0.5 , -0.5 , -0.75,  0.5 ,  0.25,  0.25,  0.  ,  0.25,  0.  ,\n",
       "        0.  , -0.25,  0.25,  0.  ,  0.  , -0.25,  0.  , -0.25, -0.25,\n",
       "       -0.5 ,  0.25,  0.  ,  0.  , -0.25,  0.  , -0.25, -0.25, -0.5 ,\n",
       "        0.  , -0.25, -0.25, -0.5 , -0.25, -0.5 , -0.5 , -0.75,  0.25,\n",
       "        0.  ,  0.  , -0.25,  0.  , -0.25, -0.25, -0.5 ,  0.  , -0.25,\n",
       "       -0.25, -0.5 , -0.25, -0.5 , -0.5 , -0.75,  0.  , -0.25, -0.25,\n",
       "       -0.5 , -0.25, -0.5 , -0.5 , -0.75, -0.25, -0.5 , -0.5 , -0.75,\n",
       "       -0.5 , -0.75, -0.75, -1.  ])"
      ]
     },
     "execution_count": 60,
     "metadata": {},
     "output_type": "execute_result"
    }
   ],
   "source": [
    "OP1"
   ]
  },
  {
   "cell_type": "code",
   "execution_count": null,
   "metadata": {},
   "outputs": [],
   "source": [
    "def FDW(L,regime,ZZ):\n",
    "    # FDW\n",
    "    FDW_list=[]\n",
    "    for idx in range(2**L):\n",
    "        bitstring_reg=bin(idx).replace('0b','').zfill(L)[regime[0]:regime[1]]\n",
    "        FDW_list.append( bitstring_to_dw(int(bitstring_reg,2),L=regime[1]-regime[0],ZZ=ZZ))\n",
    "    return np.array(FDW_list)"
   ]
  },
  {
   "cell_type": "code",
   "execution_count": 14,
   "metadata": {},
   "outputs": [
    {
     "ename": "NameError",
     "evalue": "name 'bitstring_to_dw' is not defined",
     "output_type": "error",
     "traceback": [
      "\u001b[0;31m---------------------------------------------------------------------------\u001b[0m",
      "\u001b[0;31mNameError\u001b[0m                                 Traceback (most recent call last)",
      "Cell \u001b[0;32mIn[14], line 1\u001b[0m\n\u001b[0;32m----> 1\u001b[0m {\u001b[38;5;28mbin\u001b[39m(idx)\u001b[38;5;241m.\u001b[39mreplace(\u001b[38;5;124m'\u001b[39m\u001b[38;5;124m0b\u001b[39m\u001b[38;5;124m'\u001b[39m,\u001b[38;5;124m'\u001b[39m\u001b[38;5;124m'\u001b[39m)\u001b[38;5;241m.\u001b[39mzfill(\u001b[38;5;241m4\u001b[39m):fdw \u001b[38;5;28;01mfor\u001b[39;00m idx,fdw \u001b[38;5;129;01min\u001b[39;00m \u001b[38;5;28menumerate\u001b[39m(\u001b[43mFDW\u001b[49m\u001b[43m(\u001b[49m\u001b[38;5;241;43m4\u001b[39;49m\u001b[43m,\u001b[49m\u001b[43m(\u001b[49m\u001b[38;5;241;43m0\u001b[39;49m\u001b[43m,\u001b[49m\u001b[38;5;241;43m2\u001b[39;49m\u001b[43m)\u001b[49m\u001b[43m,\u001b[49m\u001b[43mZZ\u001b[49m\u001b[38;5;241;43m=\u001b[39;49m\u001b[38;5;28;43;01mTrue\u001b[39;49;00m\u001b[43m)\u001b[49m)}\n",
      "Cell \u001b[0;32mIn[13], line 6\u001b[0m, in \u001b[0;36mFDW\u001b[0;34m(L, regime, ZZ)\u001b[0m\n\u001b[1;32m      4\u001b[0m \u001b[38;5;28;01mfor\u001b[39;00m idx \u001b[38;5;129;01min\u001b[39;00m \u001b[38;5;28mrange\u001b[39m(\u001b[38;5;241m2\u001b[39m\u001b[38;5;241m*\u001b[39m\u001b[38;5;241m*\u001b[39mL):\n\u001b[1;32m      5\u001b[0m     bitstring_reg\u001b[38;5;241m=\u001b[39m\u001b[38;5;28mbin\u001b[39m(idx)\u001b[38;5;241m.\u001b[39mreplace(\u001b[38;5;124m'\u001b[39m\u001b[38;5;124m0b\u001b[39m\u001b[38;5;124m'\u001b[39m,\u001b[38;5;124m'\u001b[39m\u001b[38;5;124m'\u001b[39m)\u001b[38;5;241m.\u001b[39mzfill(L)[regime[\u001b[38;5;241m0\u001b[39m]:regime[\u001b[38;5;241m1\u001b[39m]]\n\u001b[0;32m----> 6\u001b[0m     FDW_list\u001b[38;5;241m.\u001b[39mappend( \u001b[43mbitstring_to_dw\u001b[49m(\u001b[38;5;28mint\u001b[39m(bitstring_reg,\u001b[38;5;241m2\u001b[39m),L\u001b[38;5;241m=\u001b[39mregime[\u001b[38;5;241m1\u001b[39m]\u001b[38;5;241m-\u001b[39mregime[\u001b[38;5;241m0\u001b[39m],ZZ\u001b[38;5;241m=\u001b[39mZZ))\n\u001b[1;32m      7\u001b[0m \u001b[38;5;28;01mreturn\u001b[39;00m np\u001b[38;5;241m.\u001b[39marray(FDW_list)\n",
      "\u001b[0;31mNameError\u001b[0m: name 'bitstring_to_dw' is not defined"
     ]
    }
   ],
   "source": [
    "{bin(idx).replace('0b','').zfill(4):fdw for idx,fdw in enumerate(FDW(4,(0,2),ZZ=True))}"
   ]
  },
  {
   "cell_type": "code",
   "execution_count": null,
   "metadata": {},
   "outputs": [],
   "source": [
    "FDW(8,)"
   ]
  },
  {
   "cell_type": "markdown",
   "metadata": {},
   "source": [
    "# Density matrix, coherence"
   ]
  },
  {
   "cell_type": "code",
   "execution_count": null,
   "metadata": {},
   "outputs": [],
   "source": [
    "f_0={}\n",
    "for L in L_list:\n",
    "    f_0[L]=h5py.File(os.path.join(dirpath,f'CT_En2000_pctrl(0.00,1.00,21)_pproj(0.00,0.00,1)_L({L},{L+2},2)_xj(0)_seed0_64_wf.hdf5'))"
   ]
  },
  {
   "cell_type": "code",
   "execution_count": null,
   "metadata": {},
   "outputs": [],
   "source": [
    "f_0[8]['wf_8'][11].shape"
   ]
  },
  {
   "cell_type": "code",
   "execution_count": null,
   "metadata": {},
   "outputs": [],
   "source": [
    "wf=f_0[8]['wf_8'][15,0,0,...,:,0]"
   ]
  },
  {
   "cell_type": "code",
   "execution_count": null,
   "metadata": {},
   "outputs": [],
   "source": [
    "dm_av=np.einsum(wf,np.r_[np.arange(0,8),16],np.conj(wf),np.r_[np.arange(8,16),16],np.arange(16))/2000"
   ]
  },
  {
   "cell_type": "code",
   "execution_count": null,
   "metadata": {},
   "outputs": [],
   "source": [
    "dm_av0=dm_av.reshape((2**8,2**8))"
   ]
  },
  {
   "cell_type": "code",
   "execution_count": null,
   "metadata": {},
   "outputs": [],
   "source": [
    "np.diag(dm_av0)"
   ]
  },
  {
   "cell_type": "code",
   "execution_count": null,
   "metadata": {},
   "outputs": [],
   "source": [
    "def coherence_resolution(rho,k,normalization=False,average=False):\n",
    "    L=len(rho.shape)//2\n",
    "    if k == 0:\n",
    "        ket_idx=(0,)*L\n",
    "    else:\n",
    "        # ket_idx=np.r_[np.zeros((L-k),dtype=int),1]\n",
    "        ket_idx=(0,)*(L-k)+(1,)+(slice(None),)*(k-1)\n",
    "\n",
    "    # bra_idx= np.r_[np.zeros((L-k-1),dtype=int),1]\n",
    "    bra_idx=(0,)*(L-k-1)+(1,)+(slice(None),)*(k)\n",
    "    tr=trace(rho[ket_idx+ket_idx])+trace(rho[bra_idx+bra_idx])\n",
    "\n",
    "    # return tr\n",
    "    coh=np.abs(rho[ket_idx+bra_idx]).sum()\n",
    "\n",
    "    if normalization:\n",
    "        coh/=tr.real\n",
    "    if average:\n",
    "        coh/=np.prod(rho[ket_idx+bra_idx].shape)\n",
    "    return coh\n",
    "\n",
    "\n"
   ]
  },
  {
   "cell_type": "code",
   "execution_count": null,
   "metadata": {},
   "outputs": [],
   "source": [
    "def trace(rho):\n",
    "    L=len(rho.shape)\n",
    "    if L>0:\n",
    "        return np.einsum(rho,list(range(L//2))*2)\n",
    "    else:\n",
    "        return rho"
   ]
  },
  {
   "cell_type": "code",
   "execution_count": null,
   "metadata": {},
   "outputs": [],
   "source": [
    "coherence_resolution(dm_av,k=0)"
   ]
  },
  {
   "cell_type": "code",
   "execution_count": null,
   "metadata": {},
   "outputs": [],
   "source": [
    "coherence_resolution(dm_av,k=0,average=True)"
   ]
  },
  {
   "cell_type": "code",
   "execution_count": null,
   "metadata": {},
   "outputs": [],
   "source": [
    "coherence_resolution(dm_av,k=1,average=True)"
   ]
  },
  {
   "cell_type": "code",
   "execution_count": null,
   "metadata": {},
   "outputs": [],
   "source": [
    "coherence_resolution(dm_av,k=2,average=True)"
   ]
  },
  {
   "cell_type": "code",
   "execution_count": null,
   "metadata": {},
   "outputs": [],
   "source": [
    "coherence_resolution(dm_av,k=1)"
   ]
  },
  {
   "cell_type": "code",
   "execution_count": null,
   "metadata": {},
   "outputs": [],
   "source": [
    "coherence_resolution(dm_av,k=2)"
   ]
  },
  {
   "cell_type": "code",
   "execution_count": null,
   "metadata": {},
   "outputs": [],
   "source": [
    "coherence_resolution(dm_av,k=3)"
   ]
  },
  {
   "cell_type": "code",
   "execution_count": null,
   "metadata": {},
   "outputs": [],
   "source": [
    "coherence_resolution(dm_av,k=4)"
   ]
  },
  {
   "cell_type": "code",
   "execution_count": null,
   "metadata": {},
   "outputs": [],
   "source": [
    "coherence_resolution(dm_av,k=5)"
   ]
  },
  {
   "cell_type": "code",
   "execution_count": null,
   "metadata": {},
   "outputs": [],
   "source": [
    "coherence_resolution(dm_av,k=6)"
   ]
  },
  {
   "cell_type": "code",
   "execution_count": null,
   "metadata": {},
   "outputs": [],
   "source": [
    "coherence_resolution(dm_av,k=7)"
   ]
  },
  {
   "cell_type": "code",
   "execution_count": null,
   "metadata": {},
   "outputs": [],
   "source": []
  },
  {
   "cell_type": "code",
   "execution_count": null,
   "metadata": {},
   "outputs": [],
   "source": [
    "coherence_resolution(dm_av,k=2)"
   ]
  },
  {
   "cell_type": "code",
   "execution_count": null,
   "metadata": {},
   "outputs": [],
   "source": [
    "plt.imshow(np.abs(dm_av0)[:12,:12]- np.diag(np.diag(np.abs(dm_av0)[:12,:12])))\n",
    "plt.colorbar()"
   ]
  },
  {
   "cell_type": "code",
   "execution_count": null,
   "metadata": {},
   "outputs": [],
   "source": [
    "plt.plot([coherence_resolution(dm_av,k=i,average=True) for i in range(7)])"
   ]
  },
  {
   "cell_type": "code",
   "execution_count": null,
   "metadata": {},
   "outputs": [],
   "source": [
    "plt.imshow(np.abs(dm_av0)[:12,:12]- np.diag(np.diag(np.abs(dm_av0)[:12,:12])))\n",
    "plt.colorbar()"
   ]
  },
  {
   "cell_type": "code",
   "execution_count": null,
   "metadata": {},
   "outputs": [],
   "source": [
    "plt.plot([coherence_resolution(dm_av,k=i,average=True) for i in range(8)])"
   ]
  },
  {
   "cell_type": "code",
   "execution_count": null,
   "metadata": {},
   "outputs": [],
   "source": [
    "plt.imshow(np.abs(dm_av0)[:12,:12]- np.diag(np.diag(np.abs(dm_av0)[:12,:12])))\n",
    "plt.colorbar()"
   ]
  },
  {
   "cell_type": "code",
   "execution_count": null,
   "metadata": {},
   "outputs": [],
   "source": [
    "plt.plot([coherence_resolution(dm_av,k=i,average=True) for i in range(7)])"
   ]
  },
  {
   "cell_type": "code",
   "execution_count": null,
   "metadata": {},
   "outputs": [],
   "source": [
    "for each k as a function of different L?\n",
    "average \"coherence\"?\n",
    "\n",
    "scaling of coherence (\\rho_{0,k}),\n",
    "thermal dynamic limit, L-> inf\n",
    "\n",
    "\n",
    "for each trajectory?\n"
   ]
  },
  {
   "cell_type": "code",
   "execution_count": null,
   "metadata": {},
   "outputs": [],
   "source": [
    "(np.abs(dm_av0-np.diag(np.diag(dm_av0)))).sum()"
   ]
  },
  {
   "cell_type": "code",
   "execution_count": null,
   "metadata": {},
   "outputs": [],
   "source": [
    "def coherence(i,L=8):\n",
    "    \n",
    "    wf=f_0[L][f'wf_{L}'][i,0,0,...,:,0]\n",
    "    dm_av=np.einsum(wf,np.r_[np.arange(0,L),2*L],np.conj(wf),np.r_[np.arange(L,2*L),2*L],np.arange(2*L))/f_0[L][f'wf_{L}'].shape[-2]\n",
    "    dm_av0=dm_av.reshape((2**L,2**L))\n",
    "    return (np.abs(dm_av0-np.diag(np.diag(dm_av0)))).sum()"
   ]
  },
  {
   "cell_type": "code",
   "execution_count": null,
   "metadata": {},
   "outputs": [],
   "source": [
    "plt.plot([coherence(i) for i in range(21)])"
   ]
  },
  {
   "cell_type": "code",
   "execution_count": null,
   "metadata": {},
   "outputs": [],
   "source": [
    "plt.plot([coherence(i,L=10) for i in range(21)])"
   ]
  },
  {
   "cell_type": "code",
   "execution_count": null,
   "metadata": {},
   "outputs": [],
   "source": [
    "def coherence_each(i,L=8,normalization=True):\n",
    "    wf=f_0[L][f'wf_{L}'][i,0,0,...,:,0]\n",
    "    dm_av=np.einsum(wf,np.r_[np.arange(0,L),2*L],np.conj(wf),np.r_[np.arange(L,2*L),2*L],np.arange(2*L))/f_0[L][f'wf_{L}'].shape[-2]\n",
    "    return [coherence_resolution(dm_av,k,normalization=normalization) for k in range(L)]"
   ]
  },
  {
   "cell_type": "code",
   "execution_count": null,
   "metadata": {},
   "outputs": [],
   "source": [
    "coh_map=[coherence_each(i,L=8,normalization=True) for i in range(21)]"
   ]
  },
  {
   "cell_type": "code",
   "execution_count": null,
   "metadata": {},
   "outputs": [],
   "source": [
    "coh_map_raw=[coherence_each(i,L=8,normalization=False) for i in range(21)]"
   ]
  },
  {
   "cell_type": "code",
   "execution_count": null,
   "metadata": {},
   "outputs": [],
   "source": [
    "coh_map_raw10=[coherence_each(i,L=10,normalization=False) for i in range(21)]"
   ]
  },
  {
   "cell_type": "code",
   "execution_count": null,
   "metadata": {},
   "outputs": [],
   "source": [
    "coh_map_raw12=[coherence_each(i,L=12,normalization=False) for i in range(1)]"
   ]
  },
  {
   "cell_type": "code",
   "execution_count": null,
   "metadata": {},
   "outputs": [],
   "source": [
    "plt.pcolormesh(coh_map)"
   ]
  },
  {
   "cell_type": "code",
   "execution_count": null,
   "metadata": {},
   "outputs": [],
   "source": [
    "plt.pcolormesh(np.log(coh_map_raw))"
   ]
  },
  {
   "cell_type": "code",
   "execution_count": null,
   "metadata": {},
   "outputs": [],
   "source": [
    "plt.pcolormesh(np.log(coh_map_raw10))"
   ]
  },
  {
   "cell_type": "code",
   "execution_count": null,
   "metadata": {},
   "outputs": [],
   "source": [
    "plt.plot(np.array(coh_map_raw)[:,0])\n",
    "plt.plot(np.array(coh_map_raw10)[:,0])"
   ]
  },
  {
   "cell_type": "code",
   "execution_count": null,
   "metadata": {},
   "outputs": [],
   "source": [
    "plt.plot(np.array(coh_map_raw)[:,1])\n",
    "plt.plot(np.array(coh_map_raw10)[:,1])"
   ]
  },
  {
   "cell_type": "code",
   "execution_count": null,
   "metadata": {},
   "outputs": [],
   "source": [
    "plt.plot(np.array(coh_map_raw)[:,2])\n",
    "plt.plot(np.array(coh_map_raw10)[:,2])"
   ]
  },
  {
   "cell_type": "code",
   "execution_count": null,
   "metadata": {},
   "outputs": [],
   "source": [
    "plt.plot(np.array(coh_map_raw)[:,3])\n",
    "plt.plot(np.array(coh_map_raw10)[:,3])"
   ]
  },
  {
   "cell_type": "code",
   "execution_count": null,
   "metadata": {},
   "outputs": [],
   "source": [
    "plt.plot(np.array(coh_map_raw)[:,4])\n",
    "plt.plot(np.array(coh_map_raw10)[:,4])"
   ]
  },
  {
   "cell_type": "code",
   "execution_count": null,
   "metadata": {},
   "outputs": [],
   "source": [
    "plt.plot(np.array(coh_map_raw)[:,5])\n",
    "plt.plot(np.array(coh_map_raw10)[:,5])"
   ]
  },
  {
   "cell_type": "code",
   "execution_count": null,
   "metadata": {},
   "outputs": [],
   "source": [
    "plt.plot(np.array(coh_map_raw)[:,6])\n",
    "plt.plot(np.array(coh_map_raw10)[:,6])"
   ]
  },
  {
   "cell_type": "code",
   "execution_count": null,
   "metadata": {},
   "outputs": [],
   "source": [
    "plt.plot(np.array(coh_map_raw)[:,7])\n",
    "plt.plot(np.array(coh_map_raw10)[:,7])"
   ]
  },
  {
   "cell_type": "code",
   "execution_count": null,
   "metadata": {},
   "outputs": [],
   "source": [
    "plt.plot(np.array(coh_map_raw10)[:,8])"
   ]
  },
  {
   "cell_type": "code",
   "execution_count": null,
   "metadata": {},
   "outputs": [],
   "source": [
    "plt.plot(np.array(coh_map_raw10)[:,9])"
   ]
  },
  {
   "cell_type": "code",
   "execution_count": null,
   "metadata": {},
   "outputs": [],
   "source": [
    "plt.plot(np.array(coh_map_raw10)[:,8])"
   ]
  },
  {
   "cell_type": "code",
   "execution_count": null,
   "metadata": {},
   "outputs": [],
   "source": [
    "plt.plot([coherence(i,L=12) for i in range(21)])"
   ]
  },
  {
   "cell_type": "code",
   "execution_count": null,
   "metadata": {},
   "outputs": [],
   "source": []
  },
  {
   "cell_type": "code",
   "execution_count": null,
   "metadata": {},
   "outputs": [],
   "source": []
  },
  {
   "cell_type": "code",
   "execution_count": null,
   "metadata": {},
   "outputs": [],
   "source": [
    "dm=np.tensordot(np.conj(wf),wf,axes=0)"
   ]
  },
  {
   "cell_type": "code",
   "execution_count": null,
   "metadata": {},
   "outputs": [],
   "source": [
    "dm0=dm.reshape((2**8,2**8))"
   ]
  },
  {
   "cell_type": "code",
   "execution_count": null,
   "metadata": {},
   "outputs": [],
   "source": [
    "np.zeros((2,))"
   ]
  },
  {
   "cell_type": "code",
   "execution_count": null,
   "metadata": {},
   "outputs": [],
   "source": [
    "np.zeros((3,))"
   ]
  },
  {
   "cell_type": "code",
   "execution_count": null,
   "metadata": {},
   "outputs": [],
   "source": [
    "np.tensordot(np.zeros((2,)),np.zeros((3,)),axes=0).shape"
   ]
  },
  {
   "cell_type": "markdown",
   "metadata": {},
   "source": [
    "# Obs-del"
   ]
  },
  {
   "cell_type": "code",
   "execution_count": null,
   "metadata": {},
   "outputs": [],
   "source": [
    "import pickle\n",
    "import numpy as np\n",
    "import torch"
   ]
  },
  {
   "cell_type": "code",
   "execution_count": null,
   "metadata": {},
   "outputs": [],
   "source": [
    "import matplotlib.pyplot as plt"
   ]
  },
  {
   "cell_type": "code",
   "execution_count": null,
   "metadata": {},
   "outputs": [],
   "source": [
    "with open('CT_En2000_pctrl(0.50,0.50,1)_pproj(0.00,0.00,1)_L(8,10,2)_xj(0)_seed0_64_wf.pickle','rb') as f:\n",
    "    wf = pickle.load(f)"
   ]
  },
  {
   "cell_type": "code",
   "execution_count": null,
   "metadata": {},
   "outputs": [],
   "source": [
    "with open('CT_En2000_pctrl(0.50,0.50,1)_pproj(0.00,0.00,1)_L(8,10,2)_xj(1-3,2-3)_seed0_64_wf.pickle','rb') as f:\n",
    "    wf2 = pickle.load(f)"
   ]
  },
  {
   "cell_type": "code",
   "execution_count": null,
   "metadata": {},
   "outputs": [],
   "source": [
    "with open('CT_En2000_pctrl(0.50,0.50,1)_pproj(0.00,0.00,1)_L(12,14,2)_xj(1-3,2-3)_seed0_64_wf.pickle','rb') as f:\n",
    "    wf3 = pickle.load(f)"
   ]
  },
  {
   "cell_type": "code",
   "execution_count": null,
   "metadata": {},
   "outputs": [],
   "source": [
    "with open('CT_En2000_pctrl(0.50,0.50,1)_pproj(0.00,0.00,1)_L(14,16,2)_xj(1-3,2-3)_seed0_64_wf.pickle','rb') as f:\n",
    "    wf4 = pickle.load(f)"
   ]
  },
  {
   "cell_type": "code",
   "execution_count": null,
   "metadata": {},
   "outputs": [],
   "source": [
    "with open('CT_En2000_pctrl(0.50,0.50,1)_pproj(0.00,0.00,1)_L(16,18,2)_xj(1-3,2-3)_seed0_64_wf.pickle','rb') as f:\n",
    "    wf5 = pickle.load(f)"
   ]
  },
  {
   "cell_type": "code",
   "execution_count": null,
   "metadata": {},
   "outputs": [],
   "source": [
    "with open('CT_En2000_pctrl(0.00,1.00,21)_pproj(0.00,1.00,21)_L(8,10,2)_xj(0)_seed0_64_wf.pickle','rb') as f:\n",
    "    wfs_0_8 = pickle.load(f)\n",
    "with open('CT_En2000_pctrl(0.00,1.00,21)_pproj(0.00,1.00,21)_L(12,14,2)_xj(0)_seed0_64_wf.pickle','rb') as f:\n",
    "    wfs_0_12 = pickle.load(f)"
   ]
  },
  {
   "cell_type": "code",
   "execution_count": null,
   "metadata": {},
   "outputs": [],
   "source": [
    "with open('CT_En2000_pctrl(0.00,1.00,21)_pproj(0.00,1.00,21)_L(8,10,2)_xj(1-3,2-3)_seed0_64_wf.pickle','rb') as f:\n",
    "    wfs_1_3_8 = pickle.load(f)\n",
    "with open('CT_En2000_pctrl(0.00,1.00,21)_pproj(0.00,1.00,21)_L(10,12,2)_xj(1-3,2-3)_seed0_64_wf.pickle','rb') as f:\n",
    "    wfs_1_3_10 = pickle.load(f)\n",
    "with open('CT_En2000_pctrl(0.00,1.00,21)_pproj(0.00,1.00,21)_L(12,14,2)_xj(1-3,2-3)_seed0_64_wf.pickle','rb') as f:\n",
    "    wfs_1_3_12 = pickle.load(f)"
   ]
  },
  {
   "cell_type": "code",
   "execution_count": null,
   "metadata": {},
   "outputs": [],
   "source": [
    "def convert_tensor(wf,grid=21,kmax=-1):\n",
    "    wf=torch.stack(wf)\n",
    "    wf=wf.reshape((grid,grid)+wf.shape[1:])\n",
    "    wf=torch.mean(torch.abs(wf[...,:kmax,:])**2,axis=(-2,-1)).reshape((grid,grid,-1))\n",
    "    return wf\n",
    "    "
   ]
  },
  {
   "cell_type": "code",
   "execution_count": null,
   "metadata": {},
   "outputs": [],
   "source": [
    "wfs_0_8_dist=convert_tensor(wfs_0_8)\n",
    "wfs_0_12_dist=convert_tensor(wfs_0_12)"
   ]
  },
  {
   "cell_type": "code",
   "execution_count": null,
   "metadata": {},
   "outputs": [],
   "source": [
    "wfs_0_12_dist_half=convert_tensor(wfs_0_12,kmax=1000)\n",
    "wfs_0_12_dist_quarter=convert_tensor(wfs_0_12,kmax=500)"
   ]
  },
  {
   "cell_type": "code",
   "execution_count": null,
   "metadata": {},
   "outputs": [],
   "source": [
    "wfs_1_3_8_dist=convert_tensor(wfs_1_3_8)\n",
    "wfs_1_3_10_dist=convert_tensor(wfs_1_3_10)\n",
    "wfs_1_3_12_dist=convert_tensor(wfs_1_3_12)"
   ]
  },
  {
   "cell_type": "code",
   "execution_count": null,
   "metadata": {},
   "outputs": [],
   "source": [
    "wfs_0_tensor=torch.stack(wfs_0)"
   ]
  },
  {
   "cell_type": "code",
   "execution_count": null,
   "metadata": {},
   "outputs": [],
   "source": [
    "wfs_tensor=torch.stack(wfs)"
   ]
  },
  {
   "cell_type": "code",
   "execution_count": null,
   "metadata": {},
   "outputs": [],
   "source": [
    "torch.where(torch.isnan(wfs_0_tensor))"
   ]
  },
  {
   "cell_type": "code",
   "execution_count": null,
   "metadata": {},
   "outputs": [],
   "source": [
    "230//21,230%21"
   ]
  },
  {
   "cell_type": "code",
   "execution_count": null,
   "metadata": {},
   "outputs": [],
   "source": [
    "wfs_all=wfs_tensor.reshape((21,21)+wfs_tensor.shape[1:])"
   ]
  },
  {
   "cell_type": "code",
   "execution_count": null,
   "metadata": {},
   "outputs": [],
   "source": [
    "wfs_0_all=wfs_0_tensor.reshape((21,21)+wfs_0_tensor.shape[1:])"
   ]
  },
  {
   "cell_type": "code",
   "execution_count": null,
   "metadata": {},
   "outputs": [],
   "source": [
    "dist=(torch.abs(wf[0])**2).mean(axis=(-2,-1)).flatten()"
   ]
  },
  {
   "cell_type": "code",
   "execution_count": null,
   "metadata": {},
   "outputs": [],
   "source": [
    "dist2=(torch.abs(wf2[0])**2).mean(axis=(-2,-1)).flatten()"
   ]
  },
  {
   "cell_type": "code",
   "execution_count": null,
   "metadata": {},
   "outputs": [],
   "source": [
    "dist3=(torch.abs(wf3[0])**2).mean(axis=(-2,-1)).flatten()"
   ]
  },
  {
   "cell_type": "code",
   "execution_count": null,
   "metadata": {},
   "outputs": [],
   "source": [
    "dist4=(torch.abs(wf4[0])**2).mean(axis=(-2,-1)).flatten()"
   ]
  },
  {
   "cell_type": "code",
   "execution_count": null,
   "metadata": {},
   "outputs": [],
   "source": [
    "dist5=(torch.abs(wf5[0])**2).mean(axis=(-2,-1)).flatten()"
   ]
  },
  {
   "cell_type": "code",
   "execution_count": null,
   "metadata": {},
   "outputs": [],
   "source": [
    "wfs_all.shape"
   ]
  },
  {
   "cell_type": "code",
   "execution_count": null,
   "metadata": {},
   "outputs": [],
   "source": [
    "wfs_dist=torch.mean(torch.abs(wfs_all)**2,axis=(-2,-1)).reshape((21,21,-1))"
   ]
  },
  {
   "cell_type": "code",
   "execution_count": null,
   "metadata": {},
   "outputs": [],
   "source": [
    "wfs_0_dist=torch.mean(torch.abs(wfs_0_all)**2,axis=(-2,-1)).reshape((21,21,-1))"
   ]
  },
  {
   "cell_type": "code",
   "execution_count": null,
   "metadata": {},
   "outputs": [],
   "source": [
    "plt.pcolormesh(np.linspace(0,1,21),np.linspace(0,1,21),wfs_dist[:,:,256//3])\n",
    "plt.colorbar()"
   ]
  },
  {
   "cell_type": "code",
   "execution_count": null,
   "metadata": {},
   "outputs": [],
   "source": [
    "plt.pcolormesh(np.linspace(0,1,21),np.linspace(0,1,21),wfs_0_dist[:,:,0])\n",
    "plt.colorbar()"
   ]
  },
  {
   "cell_type": "code",
   "execution_count": null,
   "metadata": {},
   "outputs": [],
   "source": [
    "plt.plot(np.linspace(0,1,21),wfs_0_dist[:,0,0]/2,label='0')\n",
    "plt.plot(np.linspace(0,1,21),wfs_dist[:,0,256//3],label='1/3')\n",
    "plt.legend()"
   ]
  },
  {
   "cell_type": "code",
   "execution_count": null,
   "metadata": {},
   "outputs": [],
   "source": [
    "wfs_dist[:,:,256//3]"
   ]
  },
  {
   "cell_type": "code",
   "execution_count": null,
   "metadata": {},
   "outputs": [],
   "source": [
    "wfs_dist.shape"
   ]
  },
  {
   "cell_type": "code",
   "execution_count": null,
   "metadata": {},
   "outputs": [],
   "source": [
    "2**(-wfs_dist.shape[-1])"
   ]
  },
  {
   "cell_type": "code",
   "execution_count": null,
   "metadata": {},
   "outputs": [],
   "source": [
    "plt.plot(np.arange(0,1,1/(wfs_dist.shape[-1])),wfs_dist[0,0]*(wfs_dist.shape[-1]))\n",
    "# plt.plot(x,wfs_dist[10,15])\n",
    "plt.ylim(0,1.1)"
   ]
  },
  {
   "cell_type": "code",
   "execution_count": null,
   "metadata": {},
   "outputs": [],
   "source": [
    "x=np.linspace(0,1,dist.shape[0])\n"
   ]
  },
  {
   "cell_type": "code",
   "execution_count": null,
   "metadata": {},
   "outputs": [],
   "source": [
    "plt.plot(x,(dist))"
   ]
  },
  {
   "cell_type": "code",
   "execution_count": null,
   "metadata": {},
   "outputs": [],
   "source": [
    "dist2[256//3-2:256//3+3]"
   ]
  },
  {
   "cell_type": "code",
   "execution_count": null,
   "metadata": {},
   "outputs": [],
   "source": [
    "dist2[256//3*2-2:256//3*2+3]"
   ]
  },
  {
   "cell_type": "code",
   "execution_count": null,
   "metadata": {},
   "outputs": [],
   "source": [
    "dist2[256//3*2-1]"
   ]
  },
  {
   "cell_type": "code",
   "execution_count": null,
   "metadata": {},
   "outputs": [],
   "source": [
    "dist2[256//3*2+1]"
   ]
  },
  {
   "cell_type": "code",
   "execution_count": null,
   "metadata": {},
   "outputs": [],
   "source": [
    "plt.plot(np.linspace(0,1,dist2.shape[0]),(dist2)*dist2.shape[0],'.-')\n",
    "# plt.plot(np.linspace(0,1,dist3.shape[0]),(dist3)*dist3.shape[0],'-')\n",
    "# plt.plot(np.linspace(0,1,dist4.shape[0]),(dist4)*dist4.shape[0],'-')\n",
    "# plt.plot(np.linspace(0,1,dist5.shape[0]),(dist5)*dist5.shape[0],'-')\n",
    "# plt.xlim([1/3-.005,1/3+.005])\n",
    "# plt.yscale('log')"
   ]
  },
  {
   "cell_type": "code",
   "execution_count": null,
   "metadata": {},
   "outputs": [],
   "source": [
    "plt.plot(np.linspace(0,1,dist3.shape[0]),(dist3)*dist3.shape[0])\n",
    "plt.xlim([1/3-.01,1/3+.01])"
   ]
  },
  {
   "cell_type": "code",
   "execution_count": null,
   "metadata": {},
   "outputs": [],
   "source": [
    "dist3[dist3.shape[0]//3]/dist3[dist3.shape[0]//3+1]"
   ]
  },
  {
   "cell_type": "code",
   "execution_count": null,
   "metadata": {},
   "outputs": [],
   "source": [
    "dist2[dist2.shape[0]//3]/dist2[dist2.shape[0]//3+1]"
   ]
  },
  {
   "cell_type": "code",
   "execution_count": null,
   "metadata": {},
   "outputs": [],
   "source": []
  },
  {
   "cell_type": "code",
   "execution_count": null,
   "metadata": {},
   "outputs": [],
   "source": [
    "dist3[dist3.shape[0]//3]+dist3[dist3.shape[0]//3*2]"
   ]
  },
  {
   "cell_type": "code",
   "execution_count": null,
   "metadata": {},
   "outputs": [],
   "source": [
    "dist2[dist2.shape[0]//3]+dist2[dist2.shape[0]//3*2]"
   ]
  },
  {
   "cell_type": "code",
   "execution_count": null,
   "metadata": {},
   "outputs": [],
   "source": [
    "0b101010101010"
   ]
  },
  {
   "cell_type": "code",
   "execution_count": null,
   "metadata": {},
   "outputs": [],
   "source": [
    "0b010101010101"
   ]
  },
  {
   "cell_type": "code",
   "execution_count": null,
   "metadata": {},
   "outputs": [],
   "source": [
    "4096//3*2"
   ]
  },
  {
   "cell_type": "code",
   "execution_count": null,
   "metadata": {},
   "outputs": [],
   "source": [
    "def generate_bitstring(n):\n",
    "    l=np.arange(1<<n)\n",
    "    bin_list=[bin(i)[2:].zfill(n) for i in l]\n",
    "    bin_list=[[int(b) for b in i] for i in bin_list]\n",
    "\n",
    "    return np.array(bin_list)"
   ]
  },
  {
   "cell_type": "code",
   "execution_count": null,
   "metadata": {},
   "outputs": [],
   "source": [
    "bitstring=generate_bitstring(12)"
   ]
  },
  {
   "cell_type": "code",
   "execution_count": null,
   "metadata": {},
   "outputs": [],
   "source": [
    "def ZZ(bitstring,k=2):\n",
    "    n=bitstring.shape[1]\n",
    "    J=k**np.arange(n-2,-1,-1)\n",
    "    return np.sum(J*(2*bitstring[:,:-1]-1)*(2*bitstring[:,1:]-1),axis=1)"
   ]
  },
  {
   "cell_type": "code",
   "execution_count": null,
   "metadata": {},
   "outputs": [],
   "source": [
    "def Z(bitstring,k=2):\n",
    "    n=bitstring.shape[1]\n",
    "    J=k**np.arange(n-1,-1,-1)\n",
    "    return np.sum(J*(2*bitstring-1),axis=1)"
   ]
  },
  {
   "cell_type": "code",
   "execution_count": null,
   "metadata": {},
   "outputs": [],
   "source": [
    "def Z_domain(bitstring,k=2):\n",
    "    dw_pos=[]\n",
    "    for bs in bitstring:\n",
    "        pos=0\n",
    "        while pos<bs.shape[0] and bs[pos]==0:\n",
    "            pos+=1\n",
    "        dw_pos.append(bs.shape[0]-pos)\n",
    "\n",
    "    return np.array(dw_pos)"
   ]
  },
  {
   "cell_type": "code",
   "execution_count": null,
   "metadata": {},
   "outputs": [],
   "source": [
    "def ZZ_domain(bitstring,k=2):\n",
    "    dw=(2*bitstring[:,:-1]-1)*(2*bitstring[:,1:]-1)\n",
    "    dw_pos=[]\n",
    "    for bs in dw:\n",
    "        pos=0\n",
    "        while pos<bs.shape[0] and bs[pos]==-1:\n",
    "            pos+=1\n",
    "        dw_pos.append(bs.shape[0]-pos)\n",
    "\n",
    "    return np.array(dw_pos)"
   ]
  },
  {
   "cell_type": "code",
   "execution_count": null,
   "metadata": {},
   "outputs": [],
   "source": [
    "en=Z_domain(bitstring)"
   ]
  },
  {
   "cell_type": "code",
   "execution_count": null,
   "metadata": {},
   "outputs": [],
   "source": [
    "en=ZZ_domain(bitstring)"
   ]
  },
  {
   "cell_type": "code",
   "execution_count": null,
   "metadata": {},
   "outputs": [],
   "source": [
    "plt.plot(en,'.-')"
   ]
  },
  {
   "cell_type": "code",
   "execution_count": null,
   "metadata": {},
   "outputs": [],
   "source": [
    "bitstring"
   ]
  },
  {
   "cell_type": "code",
   "execution_count": null,
   "metadata": {},
   "outputs": [],
   "source": [
    "en"
   ]
  },
  {
   "cell_type": "code",
   "execution_count": null,
   "metadata": {},
   "outputs": [],
   "source": [
    "en=ZZ(bitstring)"
   ]
  },
  {
   "cell_type": "code",
   "execution_count": null,
   "metadata": {},
   "outputs": [],
   "source": [
    "en=Z(bitstring)"
   ]
  },
  {
   "cell_type": "code",
   "execution_count": null,
   "metadata": {},
   "outputs": [],
   "source": [
    "dist2[170]"
   ]
  },
  {
   "cell_type": "code",
   "execution_count": null,
   "metadata": {},
   "outputs": [],
   "source": [
    "plt.scatter(en-en.min()+1,(wfs_1_3_8_dist[10,0])*wfs_1_3_8_dist[10,0].shape[0])\n",
    "plt.yscale('log')\n",
    "# plt.xscale('log')"
   ]
  },
  {
   "cell_type": "code",
   "execution_count": null,
   "metadata": {},
   "outputs": [],
   "source": [
    "plt.scatter(en-en.min()+1,(wfs_1_3_12_dist[10,0])*wfs_1_3_12_dist[10,0].shape[0],s=0.5)\n",
    "plt.yscale('log',base=2)\n",
    "# plt.xscale('log')"
   ]
  },
  {
   "cell_type": "code",
   "execution_count": null,
   "metadata": {},
   "outputs": [],
   "source": [
    "import pandas as pd"
   ]
  },
  {
   "cell_type": "code",
   "execution_count": null,
   "metadata": {},
   "outputs": [],
   "source": [
    "df=pd.DataFrame({'en':en,'p':wfs_0_12_dist[10,0]*wfs_0_12_dist[10,0].shape[0]})\n",
    "df_half=pd.DataFrame({'en':en,'p':wfs_0_12_dist_half[10,0]*wfs_0_12_dist_half[10,0].shape[0]})\n",
    "df_quarter=pd.DataFrame({'en':en,'p':wfs_0_12_dist_quarter[10,0]*wfs_0_12_dist_quarter[10,0].shape[0]})"
   ]
  },
  {
   "cell_type": "code",
   "execution_count": null,
   "metadata": {},
   "outputs": [],
   "source": [
    "plt.scatter(en,(wfs_0_12_dist_quarter[10,0])*wfs_0_12_dist_quarter[10,0].shape[0],s=0.5,label='500',color='r')\n",
    "plt.scatter(en,(wfs_0_12_dist_half[10,0])*wfs_0_12_dist_half[10,0].shape[0],s=0.5,label='1000',color='b')\n",
    "plt.scatter(en,(wfs_0_12_dist[10,0])*wfs_0_12_dist[10,0].shape[0],s=0.5,label='2000',color='y')\n",
    "\n",
    "plt.yscale('log',base=2)\n",
    "# plt.xscale('log')\n",
    "plt.legend()"
   ]
  },
  {
   "cell_type": "code",
   "execution_count": null,
   "metadata": {},
   "outputs": [],
   "source": []
  },
  {
   "cell_type": "code",
   "execution_count": null,
   "metadata": {},
   "outputs": [],
   "source": [
    "plt.plot(df.groupby('en').mean())"
   ]
  },
  {
   "cell_type": "code",
   "execution_count": null,
   "metadata": {},
   "outputs": [],
   "source": [
    "fig,ax=plt.subplots()\n",
    "df.groupby('en').mean().plot(ax=ax,label='2000')\n",
    "df_half.groupby('en').mean().plot(ax=ax,label='1000')\n",
    "\n",
    "ax.legend()\n",
    "ax.set_yscale('log')"
   ]
  },
  {
   "cell_type": "code",
   "execution_count": null,
   "metadata": {},
   "outputs": [],
   "source": [
    "plt.plot(df['en'],df['p'],'.')\n",
    "plt.yscale('log')"
   ]
  },
  {
   "cell_type": "code",
   "execution_count": null,
   "metadata": {},
   "outputs": [],
   "source": [
    "plt.scatter(en,(wfs_1_3_12_dist[10,0])*wfs_1_3_12_dist[10,0].shape[0],s=0.5)\n",
    "plt.yscale('log',base=2)\n",
    "# plt.xscale('log')"
   ]
  },
  {
   "cell_type": "code",
   "execution_count": null,
   "metadata": {},
   "outputs": [],
   "source": [
    "en=Z(bitstring,k=2)"
   ]
  },
  {
   "cell_type": "code",
   "execution_count": null,
   "metadata": {},
   "outputs": [],
   "source": [
    "plt.scatter(en,(dist)*dist.shape[0],s=0.5)\n",
    "plt.yscale('log')\n",
    "# plt.xscale('log')"
   ]
  },
  {
   "cell_type": "code",
   "execution_count": null,
   "metadata": {},
   "outputs": [],
   "source": [
    "plt.scatter(np.linspace(0, 10),np.exp(-np.linspace(0, 10)**1))\n",
    "plt.yscale(value='log')"
   ]
  },
  {
   "cell_type": "code",
   "execution_count": null,
   "metadata": {},
   "outputs": [],
   "source": [
    "plt.plot(np.linspace(0,1,dist.shape[0]),(dist)*dist.shape[0],'.-')\n",
    "plt.yscale('log')\n",
    "plt.xscale('log')\n",
    "for i in np.arange(1,8):\n",
    "    plt.axvline(x=1/2**i,ls='dashed')"
   ]
  },
  {
   "cell_type": "code",
   "execution_count": null,
   "metadata": {},
   "outputs": [],
   "source": [
    "np.log2(wfs_0_12_dist.shape[-1])"
   ]
  },
  {
   "cell_type": "markdown",
   "metadata": {},
   "source": [
    "## Distribution of xj=0"
   ]
  },
  {
   "cell_type": "code",
   "execution_count": null,
   "metadata": {},
   "outputs": [],
   "source": [
    "fig,ax=plt.subplots()\n",
    "\n",
    "ax.plot(np.arange(0,1,1/wfs_0_8_dist[12,0].shape[0])+1/wfs_0_8_dist[12,0].shape[0],(wfs_0_8_dist[12,0])*wfs_0_8_dist[12,0].shape[0],'.-',markersize=3,label='L=8')\n",
    "\n",
    "ax.plot(np.arange(0,1,1/wfs_0_10_dist[12,0].shape[0])+1/wfs_0_10_dist[12,0].shape[0],(wfs_0_10_dist[12,0])*wfs_0_10_dist[12,0].shape[0],'.-',markersize=3,label='L=8')\n",
    "\n",
    "ax.plot(np.arange(0,1,1/wfs_0_12_dist[12,0].shape[0])+1/wfs_0_12_dist[12,0].shape[0],(wfs_0_12_dist[12,0])*wfs_0_12_dist[12,0].shape[0],'.-',markersize=3,label='L=12')\n",
    "\n",
    "ax.set_yscale('log',base=2)\n",
    "ax.set_xscale('log',base=2)\n",
    "# ax.grid('on',axis='y')\n",
    "\n",
    "for i in np.arange(1,12):\n",
    "    ax.axvline(x=1/2**i,ls='dashed',lw=0.4,)"
   ]
  },
  {
   "cell_type": "code",
   "execution_count": null,
   "metadata": {},
   "outputs": [],
   "source": [
    "fig,ax=plt.subplots()\n",
    "p_list=np.linspace(0,1,21)\n",
    "for i in [10,12,14]:\n",
    "    ax.plot(np.arange(0,1,1/wfs_0_12_dist[i,0].shape[0])+1/wfs_0_12_dist[i,0].shape[0],(wfs_0_12_dist[i,0])*wfs_0_12_dist[i,0].shape[0],'.-',markersize=3,label=f'p_ctrl={p_list[i]:.2f}')\n",
    "\n",
    "ax.legend()\n",
    "ax.set_yscale('log',base=2)\n",
    "ax.set_xscale('log',base=2)\n",
    "# ax.grid('on',axis='y')\n",
    "\n",
    "for i in np.arange(1,12):\n",
    "    ax.axvline(x=1/2**i,ls='dashed',lw=0.4,)"
   ]
  },
  {
   "cell_type": "code",
   "execution_count": null,
   "metadata": {},
   "outputs": [],
   "source": [
    "plt.plot([torch.mean(wfs_0_12_dist[10,0][2**i:2**(i+1)])*wfs_0_12_dist[10,0].shape[0] for i in range(12)],'.-')\n",
    "plt.yscale('log')"
   ]
  },
  {
   "cell_type": "code",
   "execution_count": null,
   "metadata": {},
   "outputs": [],
   "source": [
    "fig,ax=plt.subplots()\n",
    "p_list=np.linspace(0,1,21)\n",
    "for i in [0,5,]:\n",
    "    ax.plot(np.arange(0,1,1/wfs_0_12_dist[10,i].shape[0])+1/wfs_0_12_dist[10,i].shape[0],(wfs_0_12_dist[10,i])*wfs_0_12_dist[10,i].shape[0],'.-',markersize=3,label=f'p_proj={p_list[i]:.2f}',alpha=0.4)\n",
    "\n",
    "ax.legend()\n",
    "ax.set_yscale('log',base=2)\n",
    "ax.set_xscale('log',base=2)\n",
    "# ax.grid('on',axis='y')\n",
    "\n",
    "for i in np.arange(1,12):\n",
    "    ax.axvline(x=1/2**i,ls='dashed',lw=0.4,)"
   ]
  },
  {
   "cell_type": "code",
   "execution_count": null,
   "metadata": {},
   "outputs": [],
   "source": []
  },
  {
   "cell_type": "markdown",
   "metadata": {},
   "source": [
    "## Distribution of xj={1/3,2/3}"
   ]
  },
  {
   "cell_type": "code",
   "execution_count": null,
   "metadata": {},
   "outputs": [],
   "source": [
    "wfs_1_3_8_dist[10,0].shape[0]"
   ]
  },
  {
   "cell_type": "code",
   "execution_count": null,
   "metadata": {},
   "outputs": [],
   "source": [
    "def generate_distance_1_3(wf):\n",
    "    bitstring_1_3=np.arange(0,1,1/wf.shape[0])\n",
    "    bitstring_1_3_distance=np.abs(np.r_[bitstring_1_3[:bitstring_1_3.shape[0]//2]-bitstring_1_3[bitstring_1_3.shape[0]//3],bitstring_1_3[bitstring_1_3.shape[0]//2:]-bitstring_1_3[bitstring_1_3.shape[0]//3*2]])\n",
    "    return bitstring_1_3_distance"
   ]
  },
  {
   "cell_type": "code",
   "execution_count": null,
   "metadata": {},
   "outputs": [],
   "source": [
    "fig,ax=plt.subplots()\n",
    "# ax.plot(generate_distance_1_3(wfs_1_3_8_dist[10,0]),(wfs_1_3_8_dist[10,0])*wfs_1_3_8_dist[10,0].shape[0],'.',markersize=3,label='L=8')\n",
    "ax.plot(generate_distance_1_3(wfs_1_3_12_dist[10,0]),(wfs_1_3_12_dist[10,0])*wfs_1_3_12_dist[10,0].shape[0],'.',markersize=3,label='L=12')\n",
    "# ax.plot(np.linspace(0,1,wfs_1_3_12_dist[12,0].shape[0])+1/wfs_1_3_12_dist[12,0].shape[0],(wfs_1_3_12_dist[12,0])*wfs_1_3_12_dist[12,0].shape[0],'.-',markersize=3,label='L=12')\n",
    "\n",
    "\n",
    "ax.set_yscale('log',base=2)\n",
    "ax.set_xscale('log',base=2)\n",
    "# ax.grid('on',axis='y')\n",
    "\n",
    "for i in np.arange(1,12):\n",
    "    ax.axvline(x=1/2**i,ls='dashed',lw=0.4,)"
   ]
  },
  {
   "cell_type": "code",
   "execution_count": null,
   "metadata": {},
   "outputs": [],
   "source": [
    "fig,ax=plt.subplots()\n",
    "ax.plot(generate_distance_1_3(wfs_1_3_12_dist[10,0]),(wfs_1_3_12_dist[10,0])*wfs_1_3_12_dist[10,0].shape[0],'.',markersize=3,label='1/3')\n",
    "\n",
    "ax.plot(np.arange(0,1,1/wfs_0_12_dist[10,0].shape[0]),(wfs_0_12_dist[10,0])*wfs_0_12_dist[10,0].shape[0],'.',markersize=3,label='0')\n",
    "\n",
    "\n",
    "\n",
    "ax.set_yscale('log',base=2)\n",
    "ax.set_xscale('log',base=2)\n",
    "# ax.grid('on',axis='y')\n",
    "ax.legend()\n",
    "\n",
    "for i in np.arange(1,12):\n",
    "    ax.axvline(x=1/2**i,ls='dashed',lw=0.4,)"
   ]
  },
  {
   "cell_type": "code",
   "execution_count": null,
   "metadata": {},
   "outputs": [],
   "source": []
  },
  {
   "cell_type": "code",
   "execution_count": null,
   "metadata": {},
   "outputs": [],
   "source": [
    "plt.plot(np.linspace(0,1,dist2.shape[0]),(dist2)*dist2.shape[0],'.-')\n",
    "plt.yscale('log')"
   ]
  },
  {
   "cell_type": "code",
   "execution_count": null,
   "metadata": {},
   "outputs": [],
   "source": [
    "str(2<<1)"
   ]
  },
  {
   "cell_type": "code",
   "execution_count": null,
   "metadata": {},
   "outputs": [],
   "source": [
    "check correlation , FWHM, fit lorentzian\n",
    "peak,FWHM as a function of (p_ctrl, p_proj,)\n",
    "what curve is best fit? Does not look like Lorenzian because it seems unbounded at the center, well could be just gaussian, where the sigma is infinitely small? lorentzian is also possible though. because both distributions have 1/lw at the center \n",
    "is there any hamiltonian describe this?\n",
    "\n",
    "can we have a Heisenberg model where the J is like 2^n?"
   ]
  },
  {
   "cell_type": "code",
   "execution_count": null,
   "metadata": {},
   "outputs": [],
   "source": []
  },
  {
   "cell_type": "code",
   "execution_count": null,
   "metadata": {},
   "outputs": [],
   "source": []
  },
  {
   "cell_type": "code",
   "execution_count": null,
   "metadata": {},
   "outputs": [],
   "source": []
  }
 ],
 "metadata": {
  "kernelspec": {
   "display_name": "base",
   "language": "python",
   "name": "python3"
  },
  "language_info": {
   "codemirror_mode": {
    "name": "ipython",
    "version": 3
   },
   "file_extension": ".py",
   "mimetype": "text/x-python",
   "name": "python",
   "nbconvert_exporter": "python",
   "pygments_lexer": "ipython3",
   "version": "3.10.9"
  }
 },
 "nbformat": 4,
 "nbformat_minor": 2
}
