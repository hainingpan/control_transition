{
 "cells": [
  {
   "cell_type": "code",
   "execution_count": 1,
   "metadata": {},
   "outputs": [],
   "source": [
    "import numpy as np"
   ]
  },
  {
   "cell_type": "markdown",
   "metadata": {},
   "source": [
    "# Rename"
   ]
  },
  {
   "cell_type": "code",
   "execution_count": 7,
   "metadata": {},
   "outputs": [],
   "source": [
    "import os\n",
    "import re\n",
    "def rename_pickles(directory,dry=True):\n",
    "    if not os.path.exists(directory):\n",
    "        print(f'dir {directory} not exist')\n",
    "        return\n",
    "    \n",
    "    for filename in os.listdir(directory):\n",
    "        if filename.endswith(\".pickle\"):\n",
    "            new_filename = re.sub(r\"_es\\d+_\", \"_\", filename)\n",
    "            if new_filename != filename:\n",
    "                if not dry:\n",
    "                    os.rename(os.path.join(directory, filename), os.path.join(directory, new_filename))\n",
    "                print(f\"Renamed: {filename} -> {new_filename}\")"
   ]
  },
  {
   "cell_type": "code",
   "execution_count": 10,
   "metadata": {},
   "outputs": [],
   "source": [
    "rename_pickles('.',dry=True)"
   ]
  },
  {
   "cell_type": "markdown",
   "metadata": {},
   "source": [
    "# Check missing and generate new params list"
   ]
  },
  {
   "cell_type": "code",
   "execution_count": 14,
   "metadata": {},
   "outputs": [],
   "source": [
    "import numpy as np"
   ]
  },
  {
   "cell_type": "code",
   "execution_count": 66,
   "metadata": {},
   "outputs": [],
   "source": [
    "def generate_params(xj,L0,L1,seed_max,pctrl_list,pproj_list,filename='params.txt'):\n",
    "    # xj='1-3,2-3'\n",
    "    # pctrl_list=np.linspace(0,.6,21)\n",
    "    # pproj_list=np.linspace(0,.6,21)\n",
    "    es=2000//seed_max\n",
    "    fn_template='CT_En{es}_pctrl({pctrl:.2f},{pctrl:.2f},1)_pproj({pproj:.2f},{pproj:.2f},1)_L({L0},{L1},2)_xj({xj})_seed{seed}_64.pickle'\n",
    "    params_text=[]\n",
    "    for seed in range(seed_max):\n",
    "        for pctrl in pctrl_list:\n",
    "            for pproj in pproj_list:\n",
    "                if not os.path.exists(fn_template.format(pctrl=pctrl,pproj=pproj,xj=xj.replace('/','-'),seed=seed,L0=L0,L1=L1,es=es)):\n",
    "                    params_text.append(f'{seed} {pctrl:.2f} {pproj:.2f} {L0:d} {L1:d} {xj:s} {es:d}')\n",
    "    \n",
    "\n",
    "    with open(filename,'a') as f:\n",
    "        f.write('\\n'.join(params_text)+'\\n')\n",
    "\n",
    "    return params_text"
   ]
  },
  {
   "cell_type": "code",
   "execution_count": 23,
   "metadata": {},
   "outputs": [],
   "source": [
    "params_text=generate_params(xj='0', L0=12, L1=14, seed_max=1, pctrl_list=np.linspace(0,.6,21),pproj_list=np.linspace(0,.6,21))"
   ]
  },
  {
   "cell_type": "code",
   "execution_count": 25,
   "metadata": {},
   "outputs": [],
   "source": [
    "params_text=generate_params(xj='1-3,2-3', L0=12, L1=14, seed_max=1, pctrl_list=np.linspace(0,.6,21),pproj_list=np.linspace(0,.6,21))"
   ]
  },
  {
   "cell_type": "code",
   "execution_count": 29,
   "metadata": {},
   "outputs": [],
   "source": [
    "params_text=generate_params(xj='0', L0=16, L1=18, seed_max=1, pctrl_list=np.linspace(0,.6,21),pproj_list=np.linspace(0,.6,21))"
   ]
  },
  {
   "cell_type": "code",
   "execution_count": 31,
   "metadata": {},
   "outputs": [],
   "source": [
    "params_text=generate_params(xj='1-3,2-3', L0=16, L1=18, seed_max=1, pctrl_list=np.linspace(0,.6,21),pproj_list=np.linspace(0,.6,21))"
   ]
  },
  {
   "cell_type": "code",
   "execution_count": 72,
   "metadata": {},
   "outputs": [],
   "source": [
    "params_text=generate_params(xj='0', L0=20, L1=22, seed_max=2, pctrl_list=np.linspace(0,.6,21),pproj_list=np.linspace(0,.6,21))"
   ]
  },
  {
   "cell_type": "code",
   "execution_count": 71,
   "metadata": {},
   "outputs": [],
   "source": [
    "params_text=generate_params(xj='1/3,2/3', L0=20, L1=22, seed_max=2, pctrl_list=np.linspace(0,.6,21),pproj_list=np.linspace(0,.6,21))"
   ]
  },
  {
   "cell_type": "code",
   "execution_count": 74,
   "metadata": {},
   "outputs": [
    {
     "data": {
      "text/plain": [
       "49"
      ]
     },
     "execution_count": 74,
     "metadata": {},
     "output_type": "execute_result"
    }
   ],
   "source": [
    "len(params_text)"
   ]
  },
  {
   "cell_type": "code",
   "execution_count": null,
   "metadata": {},
   "outputs": [],
   "source": []
  },
  {
   "cell_type": "code",
   "execution_count": null,
   "metadata": {},
   "outputs": [],
   "source": []
  },
  {
   "cell_type": "code",
   "execution_count": null,
   "metadata": {},
   "outputs": [],
   "source": []
  },
  {
   "cell_type": "code",
   "execution_count": 75,
   "metadata": {},
   "outputs": [],
   "source": [
    "with open('run_pytorch_sweep_params_20.txt','w') as f:\n",
    "    f.write(\"\\n\".join(params_text))"
   ]
  },
  {
   "cell_type": "code",
   "execution_count": null,
   "metadata": {},
   "outputs": [],
   "source": []
  },
  {
   "cell_type": "code",
   "execution_count": 8,
   "metadata": {},
   "outputs": [],
   "source": [
    "params_text=[]\n",
    "for seed in range(25):\n",
    "    for idx in np.linspace(0,1,11):\n",
    "        params_text.append(f'{seed} {idx:.1f}')"
   ]
  },
  {
   "cell_type": "code",
   "execution_count": null,
   "metadata": {},
   "outputs": [],
   "source": [
    "with open('job_values.txt','w') as f:\n",
    "    f.write(\"\\n\".join(params_text))"
   ]
  },
  {
   "cell_type": "code",
   "execution_count": null,
   "metadata": {},
   "outputs": [],
   "source": []
  },
  {
   "cell_type": "code",
   "execution_count": 3,
   "metadata": {},
   "outputs": [],
   "source": [
    "import re\n",
    "\n",
    "# Looping over the range 0 to 110\n",
    "def check_int(jobid,jobnum):\n",
    "    error_list=[]\n",
    "    missing_list=[]\n",
    "    success_list=[]\n",
    "    # for i in range(25*11):\n",
    "    for i in range(jobnum):\n",
    "        file_name = f\"{jobid}.{i}.error\"\n",
    "        try:\n",
    "            with open(file_name, 'r') as f:\n",
    "                content = f.read()\n",
    "                # Check if the word \"Error\" exists in the content\n",
    "                if \"Error\" in content:\n",
    "                    error_list.append(i)\n",
    "                else:\n",
    "                    success_list.append(i)\n",
    "        except FileNotFoundError:\n",
    "            missing_list.append(i)\n",
    "    return success_list, error_list,missing_list\n",
    "\n",
    "# Looping over the range 0 to 110\n",
    "def check_int_output(jobid,jobnum):\n",
    "    error_list=[]\n",
    "    missing_list=[]\n",
    "    success_list=[]\n",
    "    # for i in range(25*11):\n",
    "    for i in range(jobnum):\n",
    "        file_name = f\"{jobid}.{i}.output\"\n",
    "        try:\n",
    "            with open(file_name, 'r') as f:\n",
    "                content = f.read()\n",
    "                # Check if the word \"Error\" exists in the content\n",
    "                if \"elapsed\" in content:\n",
    "                    success_list.append(i)\n",
    "                else:\n",
    "                    error_list.append(i)\n",
    "        except FileNotFoundError:\n",
    "            missing_list.append(i)\n",
    "    return success_list, error_list,missing_list"
   ]
  },
  {
   "cell_type": "code",
   "execution_count": 18,
   "metadata": {},
   "outputs": [],
   "source": [
    "success_list,error_list,missing_list=check_int(290130, 1100)"
   ]
  },
  {
   "cell_type": "code",
   "execution_count": 19,
   "metadata": {},
   "outputs": [
    {
     "data": {
      "text/plain": [
       "557"
      ]
     },
     "execution_count": 19,
     "metadata": {},
     "output_type": "execute_result"
    }
   ],
   "source": [
    "len(success_list)"
   ]
  },
  {
   "cell_type": "code",
   "execution_count": 20,
   "metadata": {},
   "outputs": [
    {
     "data": {
      "text/plain": [
       "155"
      ]
     },
     "execution_count": 20,
     "metadata": {},
     "output_type": "execute_result"
    }
   ],
   "source": [
    "len(error_list)"
   ]
  },
  {
   "cell_type": "code",
   "execution_count": 21,
   "metadata": {},
   "outputs": [
    {
     "data": {
      "text/plain": [
       "388"
      ]
     },
     "execution_count": 21,
     "metadata": {},
     "output_type": "execute_result"
    }
   ],
   "source": [
    "len(missing_list)"
   ]
  },
  {
   "cell_type": "markdown",
   "metadata": {},
   "source": [
    "### 8"
   ]
  },
  {
   "cell_type": "code",
   "execution_count": 38,
   "metadata": {},
   "outputs": [],
   "source": [
    "success_list,error_list,missing_list=check_int(290163, 110)"
   ]
  },
  {
   "cell_type": "code",
   "execution_count": 39,
   "metadata": {},
   "outputs": [
    {
     "data": {
      "text/plain": [
       "(1, 0, 109)"
      ]
     },
     "execution_count": 39,
     "metadata": {},
     "output_type": "execute_result"
    }
   ],
   "source": [
    "len(success_list),len(error_list),len(missing_list)"
   ]
  },
  {
   "cell_type": "code",
   "execution_count": 37,
   "metadata": {},
   "outputs": [],
   "source": [
    "generate_next('run_pytorch_sweep_params_8.txt',error_list)"
   ]
  },
  {
   "cell_type": "markdown",
   "metadata": {},
   "source": [
    "### 10-14"
   ]
  },
  {
   "cell_type": "code",
   "execution_count": null,
   "metadata": {},
   "outputs": [],
   "source": [
    "success_list,error_list,missing_list=check_int(290160, 110)"
   ]
  },
  {
   "cell_type": "code",
   "execution_count": null,
   "metadata": {},
   "outputs": [
    {
     "data": {
      "text/plain": [
       "(3, 7, 100)"
      ]
     },
     "metadata": {},
     "output_type": "display_data"
    }
   ],
   "source": [
    "len(success_list),len(error_list),len(missing_list)"
   ]
  },
  {
   "cell_type": "code",
   "execution_count": null,
   "metadata": {},
   "outputs": [
    {
     "data": {
      "text/plain": [
       "[0, 1, 4]"
      ]
     },
     "metadata": {},
     "output_type": "display_data"
    }
   ],
   "source": [
    "success_list"
   ]
  },
  {
   "cell_type": "code",
   "execution_count": null,
   "metadata": {},
   "outputs": [],
   "source": [
    "generate_next('run_pytorch_sweep_params_10-14.txt',error_list)"
   ]
  },
  {
   "cell_type": "markdown",
   "metadata": {},
   "source": [
    "### 12"
   ]
  },
  {
   "cell_type": "code",
   "execution_count": 12,
   "metadata": {},
   "outputs": [],
   "source": [
    "success_list,error_list,missing_list=check_int_output(290218, 1)"
   ]
  },
  {
   "cell_type": "code",
   "execution_count": 13,
   "metadata": {},
   "outputs": [
    {
     "data": {
      "text/plain": [
       "(1, 0, 0)"
      ]
     },
     "execution_count": 13,
     "metadata": {},
     "output_type": "execute_result"
    }
   ],
   "source": [
    "len(success_list),len(error_list),len(missing_list)"
   ]
  },
  {
   "cell_type": "code",
   "execution_count": 11,
   "metadata": {},
   "outputs": [],
   "source": [
    "generate_next('run_pytorch_sweep_params_12.txt',error_list)"
   ]
  },
  {
   "cell_type": "markdown",
   "metadata": {},
   "source": [
    "### 16"
   ]
  },
  {
   "cell_type": "code",
   "execution_count": 9,
   "metadata": {},
   "outputs": [],
   "source": [
    "success_list,error_list,missing_list=check_int_output(290190, 42)"
   ]
  },
  {
   "cell_type": "code",
   "execution_count": 10,
   "metadata": {},
   "outputs": [
    {
     "data": {
      "text/plain": [
       "(42, 0, 0)"
      ]
     },
     "execution_count": 10,
     "metadata": {},
     "output_type": "execute_result"
    }
   ],
   "source": [
    "len(success_list),len(error_list),len(missing_list)"
   ]
  },
  {
   "cell_type": "code",
   "execution_count": 11,
   "metadata": {},
   "outputs": [
    {
     "data": {
      "text/plain": [
       "[]"
      ]
     },
     "execution_count": 11,
     "metadata": {},
     "output_type": "execute_result"
    }
   ],
   "source": [
    "error_list"
   ]
  },
  {
   "cell_type": "code",
   "execution_count": null,
   "metadata": {},
   "outputs": [],
   "source": [
    "generate_next('run_pytorch_sweep_params_16.txt',error_list)"
   ]
  },
  {
   "cell_type": "markdown",
   "metadata": {},
   "source": [
    "### 18"
   ]
  },
  {
   "cell_type": "code",
   "execution_count": 51,
   "metadata": {},
   "outputs": [],
   "source": [
    "success_list,error_list,missing_list=check_int(290159, 30)"
   ]
  },
  {
   "cell_type": "code",
   "execution_count": 52,
   "metadata": {},
   "outputs": [
    {
     "data": {
      "text/plain": [
       "(4, 0, 26)"
      ]
     },
     "execution_count": 52,
     "metadata": {},
     "output_type": "execute_result"
    }
   ],
   "source": [
    "len(success_list),len(error_list),len(missing_list)"
   ]
  },
  {
   "cell_type": "code",
   "execution_count": 53,
   "metadata": {},
   "outputs": [],
   "source": [
    "generate_next('run_pytorch_sweep_params_18.txt',error_list)"
   ]
  },
  {
   "cell_type": "markdown",
   "metadata": {},
   "source": [
    "### 20"
   ]
  },
  {
   "cell_type": "code",
   "execution_count": 9,
   "metadata": {},
   "outputs": [],
   "source": [
    "# success_list,error_list,missing_list=check_int(290203, 37)\n",
    "success_list,error_list,missing_list=check_int_output(290219, 7)\n",
    "# success_list,error_list,missing_list=check_int_output(290217, 882)"
   ]
  },
  {
   "cell_type": "code",
   "execution_count": 10,
   "metadata": {},
   "outputs": [
    {
     "data": {
      "text/plain": [
       "(7, 0, 0)"
      ]
     },
     "execution_count": 10,
     "metadata": {},
     "output_type": "execute_result"
    }
   ],
   "source": [
    "len(success_list),len(error_list),len(missing_list)"
   ]
  },
  {
   "cell_type": "code",
   "execution_count": 8,
   "metadata": {},
   "outputs": [],
   "source": [
    "generate_next('run_pytorch_sweep_params_20_0.txt',error_list+missing_list)"
   ]
  },
  {
   "cell_type": "code",
   "execution_count": 7,
   "metadata": {},
   "outputs": [],
   "source": [
    "def generate_next(original,redolist):\n",
    "\n",
    "    with open(original,'r') as f:\n",
    "        params=f.read().split('\\n')\n",
    "    error_txt='\\n'.join([params[idx] for idx in redolist])\n",
    "    with open(original,'w') as f:\n",
    "        f.write(error_txt)"
   ]
  },
  {
   "cell_type": "code",
   "execution_count": 23,
   "metadata": {},
   "outputs": [
    {
     "data": {
      "text/plain": [
       "6890.625"
      ]
     },
     "execution_count": 23,
     "metadata": {},
     "output_type": "execute_result"
    }
   ],
   "source": [
    "2**20*8*2000/1024**3*21**2"
   ]
  },
  {
   "cell_type": "code",
   "execution_count": 15,
   "metadata": {},
   "outputs": [
    {
     "data": {
      "text/plain": [
       "1000.0"
      ]
     },
     "execution_count": 15,
     "metadata": {},
     "output_type": "execute_result"
    }
   ],
   "source": [
    "2**26*8*2000/1024**3"
   ]
  },
  {
   "cell_type": "code",
   "execution_count": null,
   "metadata": {},
   "outputs": [],
   "source": []
  }
 ],
 "metadata": {
  "kernelspec": {
   "display_name": "CT",
   "language": "python",
   "name": "python3"
  },
  "language_info": {
   "codemirror_mode": {
    "name": "ipython",
    "version": 3
   },
   "file_extension": ".py",
   "mimetype": "text/x-python",
   "name": "python",
   "nbconvert_exporter": "python",
   "pygments_lexer": "ipython3",
   "version": "3.11.4"
  }
 },
 "nbformat": 4,
 "nbformat_minor": 2
}
