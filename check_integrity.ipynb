{
 "cells": [
  {
   "cell_type": "code",
   "execution_count": 1,
   "metadata": {},
   "outputs": [],
   "source": [
    "import numpy as np\n",
    "import os"
   ]
  },
  {
   "cell_type": "markdown",
   "metadata": {},
   "source": [
    "# Rename"
   ]
  },
  {
   "cell_type": "code",
   "execution_count": 5,
   "metadata": {},
   "outputs": [],
   "source": [
    "import os\n",
    "import re\n",
    "def rename_pickles(directory,dry=True):\n",
    "    if not os.path.exists(directory):\n",
    "        print(f'dir {directory} not exist')\n",
    "        return\n",
    "    \n",
    "    for filename in os.listdir(directory):\n",
    "        if filename.endswith(\".pickle\"):\n",
    "            new_filename = re.sub(r\"_es\\d+_\", \"_\", filename)\n",
    "            if new_filename != filename:\n",
    "                if not dry:\n",
    "                    os.rename(os.path.join(directory, filename), os.path.join(directory, new_filename))\n",
    "                print(f\"Renamed: {filename} -> {new_filename}\")"
   ]
  },
  {
   "cell_type": "code",
   "execution_count": 10,
   "metadata": {},
   "outputs": [],
   "source": [
    "rename_pickles('.',dry=True)"
   ]
  },
  {
   "cell_type": "markdown",
   "metadata": {},
   "source": [
    "# Check missing and generate new params list"
   ]
  },
  {
   "cell_type": "code",
   "execution_count": 3,
   "metadata": {},
   "outputs": [],
   "source": [
    "import numpy as np"
   ]
  },
  {
   "cell_type": "code",
   "execution_count": 4,
   "metadata": {},
   "outputs": [],
   "source": [
    "with open('exist_1_3.txt','r') as f:\n",
    "    zz=f.read().split('\\n')"
   ]
  },
  {
   "cell_type": "code",
   "execution_count": 22,
   "metadata": {},
   "outputs": [],
   "source": [
    "def generate_params(xj,L0,L1,seed_max,pctrl_list,pproj_list,anc=False,filename='params.txt',total=2000,exist=False,filelist=None):\n",
    "    # xj='1-3,2-3'\n",
    "    # pctrl_list=np.linspace(0,.6,21)\n",
    "    # pproj_list=np.linspace(0,.6,21)\n",
    "    es=total//seed_max\n",
    "    fn_template='CT_En{es}_pctrl({pctrl:.2f},{pctrl:.2f},1)_pproj({pproj:.2f},{pproj:.2f},1)_L({L0},{L1},2)_xj({xj})_seed{seed}_64{anc}.pickle'\n",
    "    params_text=[]\n",
    "    for seed in range(seed_max):\n",
    "        for pctrl in pctrl_list:\n",
    "            for pproj in pproj_list:\n",
    "                fn=fn_template.format(pctrl=pctrl,pproj=pproj,xj=xj.replace('/','-'),seed=seed,L0=L0,L1=L1,es=es,anc='_anc'*anc)\n",
    "                if filelist is None:\n",
    "                    file_exist = os.path.exists(fn)\n",
    "                else:\n",
    "                    with open(filelist,'r') as f:\n",
    "                        fn_list=f.read().split('\\n')\n",
    "                    file_exist = fn in fn_list\n",
    "                    \n",
    "                if not file_exist:\n",
    "                    params_text.append(f'{seed} {pctrl:.2f} {pproj:.2f} {L0:d} {L1:d} {xj:s} {es:d} {\"-ancilla\"*anc}')\n",
    "                elif exist:\n",
    "                    params_text.append(fn)\n",
    "\n",
    "    \n",
    "    if filename is not None:\n",
    "        with open(filename,'a') as f:\n",
    "            f.write('\\n'.join(params_text)+'\\n')\n",
    "\n",
    "    return params_text"
   ]
  },
  {
   "cell_type": "markdown",
   "metadata": {},
   "source": [
    "## Demo"
   ]
  },
  {
   "cell_type": "code",
   "execution_count": 23,
   "metadata": {},
   "outputs": [],
   "source": [
    "params_text=generate_params(xj='0', L0=12, L1=14, seed_max=1, pctrl_list=np.linspace(0,.6,21),pproj_list=np.linspace(0,.6,21))"
   ]
  },
  {
   "cell_type": "code",
   "execution_count": 25,
   "metadata": {},
   "outputs": [],
   "source": [
    "params_text=generate_params(xj='1-3,2-3', L0=12, L1=14, seed_max=1, pctrl_list=np.linspace(0,.6,21),pproj_list=np.linspace(0.27,.3,4))"
   ]
  },
  {
   "cell_type": "code",
   "execution_count": 29,
   "metadata": {},
   "outputs": [],
   "source": [
    "params_text=generate_params(xj='0', L0=16, L1=18, seed_max=1, pctrl_list=np.linspace(0,.6,21),pproj_list=np.linspace(0,.6,21))"
   ]
  },
  {
   "cell_type": "code",
   "execution_count": 31,
   "metadata": {},
   "outputs": [],
   "source": [
    "params_text=generate_params(xj='1-3,2-3', L0=16, L1=18, seed_max=1, pctrl_list=np.linspace(0,.6,21),pproj_list=np.linspace(0,.6,21))"
   ]
  },
  {
   "cell_type": "code",
   "execution_count": 16,
   "metadata": {},
   "outputs": [],
   "source": [
    "params_text=generate_params(xj='0', L0=20, L1=22, seed_max=2, pctrl_list=np.linspace(0,.6,21),pproj_list=np.linspace(0,.6,21))"
   ]
  },
  {
   "cell_type": "code",
   "execution_count": 17,
   "metadata": {},
   "outputs": [],
   "source": [
    "params_text=generate_params(xj='1/3,2/3', L0=20, L1=22, seed_max=2, pctrl_list=np.linspace(0,.6,21),pproj_list=np.linspace(0,.6,21))"
   ]
  },
  {
   "cell_type": "markdown",
   "metadata": {},
   "source": [
    "## Generate no ancilla"
   ]
  },
  {
   "cell_type": "code",
   "execution_count": 6,
   "metadata": {},
   "outputs": [],
   "source": [
    "for p_proj in [0,0.05,0.10,0.15,0.20]:\n",
    "    params_text=generate_params(xj='0', L0=8, L1=10, seed_max=1, pctrl_list=np.linspace(0,.6,21),pproj_list=np.linspace(p_proj,p_proj,1),filename='params_small.txt',total=2000)\n",
    "    params_text=generate_params(xj='0', L0=12, L1=14, seed_max=1, pctrl_list=np.linspace(0,.6,21),pproj_list=np.linspace(p_proj,p_proj,1),filename='params_small.txt',total=2000)\n",
    "    params_text=generate_params(xj='0', L0=16, L1=18, seed_max=1, pctrl_list=np.linspace(0,.6,21),pproj_list=np.linspace(p_proj,p_proj,1),filename='params.txt',total=2000)\n",
    "    params_text=generate_params(xj='0', L0=20, L1=22, seed_max=4, pctrl_list=np.linspace(0,.6,21),pproj_list=np.linspace(p_proj,p_proj,1),filename='params.txt',total=2000)\n",
    "    params_text=generate_params(xj='0', L0=24, L1=26, seed_max=32, pctrl_list=np.linspace(0,.6,21),pproj_list=np.linspace(p_proj,p_proj,1),filename='params.txt',total=60*32)"
   ]
  },
  {
   "cell_type": "code",
   "execution_count": null,
   "metadata": {},
   "outputs": [],
   "source": [
    "### xj={-1/3}"
   ]
  },
  {
   "cell_type": "code",
   "execution_count": 53,
   "metadata": {},
   "outputs": [],
   "source": [
    "for p_proj in np.linspace(0,0.6,21):\n",
    "    params_text=generate_params(xj='1/3,-1/3', L0=8, L1=10, seed_max=1, pctrl_list=np.linspace(0,.6,21),pproj_list=np.linspace(p_proj,p_proj,1),filename='params_m1_3.txt',total=2000,filelist=None)\n",
    "    params_text=generate_params(xj='1/3,-1/3', L0=12, L1=14, seed_max=1, pctrl_list=np.linspace(0,.6,21),pproj_list=np.linspace(p_proj,p_proj,1),filename='params_m1_3.txt',total=2000,filelist=None)\n",
    "    params_text=generate_params(xj='1/3,-1/3', L0=16, L1=18, seed_max=1, pctrl_list=np.linspace(0,.6,21),pproj_list=np.linspace(p_proj,p_proj,1),filename='params_m1_3.txt',total=2000,filelist=None)\n",
    "    params_text=generate_params(xj='1/3,-1/3', L0=20, L1=22, seed_max=2, pctrl_list=np.linspace(0,.6,21),pproj_list=np.linspace(p_proj,p_proj,1),filename='params_m1_3.txt',total=2000,filelist=None)\n",
    "    # params_text=generate_params(xj='1/3,-1/3', L0=24, L1=26, seed_max=32, pctrl_list=np.linspace(0,.6,21),pproj_list=np.linspace(p_proj,p_proj,1),filename='params_m1_3.txt',total=60*32)"
   ]
  },
  {
   "cell_type": "code",
   "execution_count": 16,
   "metadata": {},
   "outputs": [
    {
     "data": {
      "text/plain": [
       "1920"
      ]
     },
     "execution_count": 16,
     "metadata": {},
     "output_type": "execute_result"
    }
   ],
   "source": [
    "32*60"
   ]
  },
  {
   "cell_type": "code",
   "execution_count": 66,
   "metadata": {},
   "outputs": [],
   "source": [
    "for p_proj in np.arange(0,0.6,0.03):\n",
    "    # pctrl_list=pctrl_list_list[p_proj]\n",
    "    # pctrl_list=np.round(np.arange(0.45,.56,0.01),2)\n",
    "    pctrl_list=np.round(np.arange(0,0.6,0.03),2)\n",
    "\n",
    "    params_text=generate_params(xj='1/3,2/3', L0=8, L1=10, seed_max=1, pctrl_list=pctrl_list,pproj_list=np.linspace(p_proj,p_proj,1),filename='params.txt',total=2000,filelist='exist_1_3.txt')\n",
    "    params_text=generate_params(xj='1/3,2/3', L0=12, L1=14, seed_max=1, pctrl_list=pctrl_list,pproj_list=np.linspace(p_proj,p_proj,1),filename='params.txt',total=2000,filelist='exist_1_3.txt')\n",
    "    params_text=generate_params(xj='1/3,2/3', L0=16, L1=18, seed_max=1, pctrl_list=pctrl_list,pproj_list=np.linspace(p_proj,p_proj,1),filename='params.txt',total=2000,filelist='exist_1_3.txt')\n",
    "    params_text=generate_params(xj='1/3,2/3', L0=20, L1=22, seed_max=2, pctrl_list=pctrl_list,pproj_list=np.linspace(p_proj,p_proj,1),filename='params.txt',total=2000,filelist='exist_1_3.txt')\n",
    "    #params_text=generate_params(xj='1/3,2/3', L0=24, L1=26, seed_max=32, pctrl_list=pctrl_list,pproj_list=np.linspace(p_proj,p_proj,1),filename='params.txt',total=60*32)"
   ]
  },
  {
   "cell_type": "code",
   "execution_count": 52,
   "metadata": {},
   "outputs": [
    {
     "data": {
      "text/plain": [
       "1988"
      ]
     },
     "execution_count": 52,
     "metadata": {},
     "output_type": "execute_result"
    }
   ],
   "source": [
    "14*142"
   ]
  },
  {
   "cell_type": "markdown",
   "metadata": {},
   "source": [
    "## Generate ancilla"
   ]
  },
  {
   "cell_type": "markdown",
   "metadata": {},
   "source": [
    "### xj={0}"
   ]
  },
  {
   "cell_type": "code",
   "execution_count": 11,
   "metadata": {},
   "outputs": [
    {
     "data": {
      "text/plain": [
       "array([0.47, 0.48, 0.49, 0.5 ])"
      ]
     },
     "execution_count": 11,
     "metadata": {},
     "output_type": "execute_result"
    }
   ],
   "source": [
    "#0\n",
    "np.linspace(0.29,0.37,9)\n",
    "np.linspace(0.47,0.5,4)"
   ]
  },
  {
   "cell_type": "code",
   "execution_count": 16,
   "metadata": {},
   "outputs": [
    {
     "data": {
      "text/plain": [
       "array([0.24, 0.25, 0.26, 0.27, 0.28, 0.29, 0.3 ])"
      ]
     },
     "execution_count": 16,
     "metadata": {},
     "output_type": "execute_result"
    }
   ],
   "source": [
    "#0.05\n",
    "# np.linspace(0.24,0.3,7)\n",
    "# np.linspace(.48,.51,4)"
   ]
  },
  {
   "cell_type": "code",
   "execution_count": 20,
   "metadata": {},
   "outputs": [
    {
     "data": {
      "text/plain": [
       "array([0.44, 0.45, 0.46, 0.47, 0.48, 0.49, 0.5 , 0.51, 0.52, 0.53, 0.54])"
      ]
     },
     "execution_count": 20,
     "metadata": {},
     "output_type": "execute_result"
    }
   ],
   "source": [
    "#0.10\n",
    "np.linspace(.15,.23,9)\n",
    "np.linspace(.44,.54,11)"
   ]
  },
  {
   "cell_type": "code",
   "execution_count": 22,
   "metadata": {},
   "outputs": [
    {
     "data": {
      "text/plain": [
       "array([0.47, 0.48, 0.49, 0.5 , 0.51, 0.52])"
      ]
     },
     "execution_count": 22,
     "metadata": {},
     "output_type": "execute_result"
    }
   ],
   "source": [
    "#0.15\n",
    "np.linspace(.07,.12, 6)\n",
    "np.linspace(.47,.52, 6)"
   ]
  },
  {
   "cell_type": "code",
   "execution_count": 24,
   "metadata": {},
   "outputs": [
    {
     "data": {
      "text/plain": [
       "array([0.47, 0.48, 0.49, 0.5 , 0.51, 0.52])"
      ]
     },
     "execution_count": 24,
     "metadata": {},
     "output_type": "execute_result"
    }
   ],
   "source": [
    "#0.2\n",
    "np.linspace(.0,.05, 6)\n",
    "np.linspace(.47,.52, 6)"
   ]
  },
  {
   "cell_type": "code",
   "execution_count": 33,
   "metadata": {},
   "outputs": [
    {
     "data": {
      "text/plain": [
       "array([0.01, 0.02, 0.03, 0.04, 0.05, 0.06, 0.07])"
      ]
     },
     "execution_count": 33,
     "metadata": {},
     "output_type": "execute_result"
    }
   ],
   "source": [
    "# 0.03\n",
    "np.linspace(.27,.33,7)\n",
    "# 0.06\n",
    "np.linspace(.23,.29,7)\n",
    "# 0.09\n",
    "np.linspace(.17,.23,7)\n",
    "# 0.12\n",
    "np.linspace(.12,.18,7)\n",
    "# 0.18\n",
    "np.linspace(.01,.07,7)"
   ]
  },
  {
   "cell_type": "code",
   "execution_count": 1,
   "metadata": {},
   "outputs": [
    {
     "data": {
      "text/plain": [
       "(0.33, 0)"
      ]
     },
     "execution_count": 1,
     "metadata": {},
     "output_type": "execute_result"
    }
   ],
   "source": [
    "0.33,0\n",
    "0.28,0.05"
   ]
  },
  {
   "cell_type": "code",
   "execution_count": 6,
   "metadata": {},
   "outputs": [],
   "source": [
    "def linfit(a,b,x):\n",
    "    return (x-a[0])*(b[1]-a[1])/(b[0]-a[0])+a[1]\n"
   ]
  },
  {
   "cell_type": "code",
   "execution_count": 32,
   "metadata": {},
   "outputs": [
    {
     "data": {
      "text/plain": [
       "0.03600000000000002"
      ]
     },
     "execution_count": 32,
     "metadata": {},
     "output_type": "execute_result"
    }
   ],
   "source": [
    "linfit([0.2,0.0],[0.15,0.09],0.18)"
   ]
  },
  {
   "cell_type": "markdown",
   "metadata": {},
   "source": [
    "### xj={-1/3}"
   ]
  },
  {
   "cell_type": "code",
   "execution_count": 42,
   "metadata": {},
   "outputs": [],
   "source": [
    "pctrl_list_list={\n",
    "    0.:np.r_[np.arange(0.20,0.26,0.01),np.arange(0.48,0.53,0.01)],\n",
    "    0.03:np.r_[np.arange(0.16,0.22,0.01),np.arange(0.48,0.53,0.01)],\n",
    "    0.06:np.r_[np.arange(0.15,0.21,0.01),np.arange(0.48,0.53,0.01)],\n",
    "    0.09:np.r_[np.arange(0.13,0.20,0.01),np.arange(0.48,0.53,0.01)],\n",
    "    0.12:np.r_[np.arange(0.09,0.15,0.01),np.arange(0.48,0.53,0.01)],\n",
    "    0.15:np.r_[np.arange(0.05,0.10,0.01),np.arange(0.48,0.53,0.01)],\n",
    "    0.18:np.r_[np.arange(0.0,0.05,0.01),np.arange(0.48,0.53,0.01)],\n",
    "    0.21:np.r_[np.arange(0.0,0.05,0.01),np.arange(0.48,0.53,0.01)],\n",
    "    }\n",
    "    "
   ]
  },
  {
   "cell_type": "code",
   "execution_count": 73,
   "metadata": {},
   "outputs": [],
   "source": [
    "# p_proj=0.24\n",
    "# pctrl_list=np.round(np.linspace(0,.6,21),2)\n",
    "pctrl_list=np.round(np.arange(0.45,.56,0.01),2)\n",
    "# for p_proj in np.arange(0,0.22,0.03):\n",
    "for p_proj in np.arange(0.00,0.37,0.03):\n",
    "    # pctrl_list=pctrl_list_list[p_proj]\n",
    "\n",
    "# pctrl_list=np.union1d(pctrl_list, np.round(np.linspace(.47,.52, 6),2))\n",
    "# filelist='exist_1_3.txt'\n",
    "\n",
    "    params_text=generate_params(xj='1/3,2/3', L0=8, L1=10, seed_max=5, pctrl_list=pctrl_list,pproj_list=np.linspace(p_proj,p_proj,1),anc=True,filename='params.txt',total=10000,filelist='exist_1_3.txt')\n",
    "\n",
    "    params_text=generate_params(xj='1/3,2/3', L0=10, L1=12, seed_max=5, pctrl_list=pctrl_list,pproj_list=np.linspace(p_proj,p_proj,1),anc=True,filename='params.txt',total=10000,filelist='exist_1_3.txt')\n",
    "\n",
    "    params_text=generate_params(xj='1/3,2/3', L0=12, L1=14, seed_max=5, pctrl_list=pctrl_list,pproj_list=np.linspace(p_proj,p_proj,1),anc=True,filename='params.txt',total=10000,filelist='exist_1_3.txt')\n",
    "\n",
    "    params_text=generate_params(xj='1/3,2/3', L0=14, L1=16, seed_max=5, pctrl_list=pctrl_list,pproj_list=np.linspace(p_proj,p_proj,1),anc=True,filename='params.txt',total=10000,filelist='exist_1_3.txt')\n",
    "\n",
    "    params_text=generate_params(xj='1/3,2/3', L0=14, L1=16, seed_max=5, pctrl_list=pctrl_list,pproj_list=np.linspace(p_proj,p_proj,1),anc=True,filename='params.txt',total=10000,filelist='exist_1_3.txt')\n",
    "\n",
    "    params_text=generate_params(xj='1/3,2/3', L0=16, L1=18, seed_max=5, pctrl_list=pctrl_list,pproj_list=np.linspace(p_proj,p_proj,1),anc=True,filename='params.txt',total=10000,filelist='exist_1_3.txt')\n",
    "\n",
    "    params_text=generate_params(xj='1/3,2/3', L0=18, L1=20, seed_max=5, pctrl_list=pctrl_list,pproj_list=np.linspace(p_proj,p_proj,1),anc=True,filename='params.txt',total=10000,filelist='exist_1_3.txt')\n",
    "\n",
    "    params_text=generate_params(xj='1/3,2/3', L0=20, L1=22, seed_max=20, pctrl_list=pctrl_list,pproj_list=np.linspace(p_proj,p_proj,1),anc=True,filename='params.txt',total=10000,filelist='exist_1_3.txt')\n",
    "\n",
    "# params_text=generate_params(xj='1/3,2/3', L0=22, L1=24, seed_max=100, pctrl_list=pctrl_list,pproj_list=np.linspace(p_proj,p_proj,1),anc=True,filename='params.txt',total=10000,filelist='exist_1_3.txt')"
   ]
  },
  {
   "cell_type": "code",
   "execution_count": null,
   "metadata": {},
   "outputs": [],
   "source": []
  },
  {
   "cell_type": "markdown",
   "metadata": {},
   "source": [
    "# XEB"
   ]
  },
  {
   "cell_type": "code",
   "execution_count": 14,
   "metadata": {},
   "outputs": [],
   "source": [
    "def generate_params_XEB(xj,L0,L1,seed_m_max,seed_C_max,pctrl_list,pproj_list,anc=False,filename='params.txt',total=4000,total_C=1280,exist=False,filelist=None):\n",
    "    es_m=total//seed_m_max\n",
    "    es_C=total_C//seed_C_max\n",
    "    fn_template='CT_En{es_C}_Enm{es_m}_pctrl({pctrl:.2f},{pctrl:.2f},1)_pproj({pproj:.2f},{pproj:.2f},1)_L({L0},{L1},2)_xj({xj})_seed{seed}_seedC{seed_C}_64{anc}_XEB_Haar_encoding.pickle'\n",
    "    params_text=[]\n",
    "    for seed in range(seed_m_max):\n",
    "        for seed_C in range(seed_C_max):\n",
    "            for pctrl in pctrl_list:\n",
    "                for pproj in pproj_list:\n",
    "                    fn=fn_template.format(pctrl=pctrl,pproj=pproj,xj=xj.replace('/','-'),seed=seed,seed_C=seed_C,L0=L0,L1=L1,es_m=es_m,es_C=es_C,anc='_anc'*anc)\n",
    "                    if filelist is None:\n",
    "                        file_exist = os.path.exists(fn)\n",
    "                    else:\n",
    "                        with open(filelist,'r') as f:\n",
    "                            fn_list=f.read().split('\\n')\n",
    "                        file_exist = fn in fn_list\n",
    "                        \n",
    "                    if not file_exist:\n",
    "                        params_text.append(f'{seed} {seed_C} {pctrl:.2f} {pproj:.2f} {L0:d} {L1:d} {xj:s} {es_m:d} {es_C:d}{\"-ancilla\"*anc}')\n",
    "                    elif exist:\n",
    "                        params_text.append(fn)\n",
    "    \n",
    "    if filename is not None:\n",
    "        with open(filename,'a') as f:\n",
    "            f.write('\\n'.join(params_text)+'\\n')\n",
    "\n",
    "    return params_text"
   ]
  },
  {
   "cell_type": "code",
   "execution_count": 15,
   "metadata": {},
   "outputs": [],
   "source": [
    "for p_proj in np.linspace(0,0.0,1):\n",
    "    params_text=generate_params_XEB(xj='0', L0=8, L1=10, seed_m_max=1,seed_C_max=1, pctrl_list=np.arange(0.26,0.35,0.01),pproj_list=np.linspace(p_proj,p_proj,1),filename='params_XEB.txt',total=4000,total_C=1280,filelist=None)\n",
    "    # params_text=generate_params_XEB(xj='0', L0=12, L1=14, seed_m_max=1, pctrl_list=np.arange(0.26,0.35,0.01),pproj_list=np.linspace(p_proj,p_proj,1),filename='params_XEB.txt',total=2000,filelist=None)\n",
    "    # params_text=generate_params_XEB(xj='0', L0=16, L1=18, seed_m_max=1, pctrl_list=np.arange(0.26,0.35,0.01),pproj_list=np.linspace(p_proj,p_proj,1),filename='params_XEB.txt',total=2000,filelist=None)\n",
    "    # params_text=generate_params_XEB(xj='0', L0=20, L1=22, seed_m_max=2, pctrl_list=np.arange(0.26,0.35,0.01),pproj_list=np.linspace(p_proj,p_proj,1),filename='params_XEB.txt',total=2000,filelist=None)\n",
    "    # params_text=generate_params_XEB(xj='0', L0=24, L1=26, seed_m_max=32, pctrl_list=np.arange(0.26,0.35,0.01),pproj_list=np.linspace(p_proj,p_proj,1),filename='params_XEB.txt',total=60*32)"
   ]
  },
  {
   "cell_type": "markdown",
   "metadata": {},
   "source": [
    "# Legacy"
   ]
  },
  {
   "cell_type": "code",
   "execution_count": null,
   "metadata": {},
   "outputs": [],
   "source": []
  },
  {
   "cell_type": "code",
   "execution_count": 75,
   "metadata": {},
   "outputs": [],
   "source": [
    "with open('run_pytorch_sweep_params_20.txt','w') as f:\n",
    "    f.write(\"\\n\".join(params_text))"
   ]
  },
  {
   "cell_type": "code",
   "execution_count": null,
   "metadata": {},
   "outputs": [],
   "source": []
  },
  {
   "cell_type": "code",
   "execution_count": 8,
   "metadata": {},
   "outputs": [],
   "source": [
    "params_text=[]\n",
    "for seed in range(25):\n",
    "    for idx in np.linspace(0,1,11):\n",
    "        params_text.append(f'{seed} {idx:.1f}')"
   ]
  },
  {
   "cell_type": "code",
   "execution_count": null,
   "metadata": {},
   "outputs": [],
   "source": [
    "with open('job_values.txt','w') as f:\n",
    "    f.write(\"\\n\".join(params_text))"
   ]
  },
  {
   "cell_type": "code",
   "execution_count": null,
   "metadata": {},
   "outputs": [],
   "source": []
  },
  {
   "cell_type": "code",
   "execution_count": 3,
   "metadata": {},
   "outputs": [],
   "source": [
    "import re\n",
    "\n",
    "# Looping over the range 0 to 110\n",
    "def check_int(jobid,jobnum):\n",
    "    error_list=[]\n",
    "    missing_list=[]\n",
    "    success_list=[]\n",
    "    # for i in range(25*11):\n",
    "    for i in range(jobnum):\n",
    "        file_name = f\"{jobid}.{i}.error\"\n",
    "        try:\n",
    "            with open(file_name, 'r') as f:\n",
    "                content = f.read()\n",
    "                # Check if the word \"Error\" exists in the content\n",
    "                if \"Error\" in content:\n",
    "                    error_list.append(i)\n",
    "                else:\n",
    "                    success_list.append(i)\n",
    "        except FileNotFoundError:\n",
    "            missing_list.append(i)\n",
    "    return success_list, error_list,missing_list\n",
    "\n",
    "# Looping over the range 0 to 110\n",
    "def check_int_output(jobid,jobnum):\n",
    "    error_list=[]\n",
    "    missing_list=[]\n",
    "    success_list=[]\n",
    "    # for i in range(25*11):\n",
    "    for i in range(jobnum):\n",
    "        file_name = f\"{jobid}.{i}.output\"\n",
    "        try:\n",
    "            with open(file_name, 'r') as f:\n",
    "                content = f.read()\n",
    "                # Check if the word \"Error\" exists in the content\n",
    "                if \"elapsed\" in content:\n",
    "                    success_list.append(i)\n",
    "                else:\n",
    "                    error_list.append(i)\n",
    "        except FileNotFoundError:\n",
    "            missing_list.append(i)\n",
    "    return success_list, error_list,missing_list"
   ]
  },
  {
   "cell_type": "code",
   "execution_count": 18,
   "metadata": {},
   "outputs": [],
   "source": [
    "success_list,error_list,missing_list=check_int(290130, 1100)"
   ]
  },
  {
   "cell_type": "code",
   "execution_count": 19,
   "metadata": {},
   "outputs": [
    {
     "data": {
      "text/plain": [
       "557"
      ]
     },
     "execution_count": 19,
     "metadata": {},
     "output_type": "execute_result"
    }
   ],
   "source": [
    "len(success_list)"
   ]
  },
  {
   "cell_type": "code",
   "execution_count": 20,
   "metadata": {},
   "outputs": [
    {
     "data": {
      "text/plain": [
       "155"
      ]
     },
     "execution_count": 20,
     "metadata": {},
     "output_type": "execute_result"
    }
   ],
   "source": [
    "len(error_list)"
   ]
  },
  {
   "cell_type": "code",
   "execution_count": 21,
   "metadata": {},
   "outputs": [
    {
     "data": {
      "text/plain": [
       "388"
      ]
     },
     "execution_count": 21,
     "metadata": {},
     "output_type": "execute_result"
    }
   ],
   "source": [
    "len(missing_list)"
   ]
  },
  {
   "cell_type": "markdown",
   "metadata": {},
   "source": [
    "### 8"
   ]
  },
  {
   "cell_type": "code",
   "execution_count": 38,
   "metadata": {},
   "outputs": [],
   "source": [
    "success_list,error_list,missing_list=check_int(290163, 110)"
   ]
  },
  {
   "cell_type": "code",
   "execution_count": 39,
   "metadata": {},
   "outputs": [
    {
     "data": {
      "text/plain": [
       "(1, 0, 109)"
      ]
     },
     "execution_count": 39,
     "metadata": {},
     "output_type": "execute_result"
    }
   ],
   "source": [
    "len(success_list),len(error_list),len(missing_list)"
   ]
  },
  {
   "cell_type": "code",
   "execution_count": 37,
   "metadata": {},
   "outputs": [],
   "source": [
    "generate_next('run_pytorch_sweep_params_8.txt',error_list)"
   ]
  },
  {
   "cell_type": "markdown",
   "metadata": {},
   "source": [
    "### 10-14"
   ]
  },
  {
   "cell_type": "code",
   "execution_count": null,
   "metadata": {},
   "outputs": [],
   "source": [
    "success_list,error_list,missing_list=check_int(290160, 110)"
   ]
  },
  {
   "cell_type": "code",
   "execution_count": null,
   "metadata": {},
   "outputs": [
    {
     "data": {
      "text/plain": [
       "(3, 7, 100)"
      ]
     },
     "metadata": {},
     "output_type": "display_data"
    }
   ],
   "source": [
    "len(success_list),len(error_list),len(missing_list)"
   ]
  },
  {
   "cell_type": "code",
   "execution_count": null,
   "metadata": {},
   "outputs": [
    {
     "data": {
      "text/plain": [
       "[0, 1, 4]"
      ]
     },
     "metadata": {},
     "output_type": "display_data"
    }
   ],
   "source": [
    "success_list"
   ]
  },
  {
   "cell_type": "code",
   "execution_count": null,
   "metadata": {},
   "outputs": [],
   "source": [
    "generate_next('run_pytorch_sweep_params_10-14.txt',error_list)"
   ]
  },
  {
   "cell_type": "markdown",
   "metadata": {},
   "source": [
    "### 12"
   ]
  },
  {
   "cell_type": "code",
   "execution_count": 12,
   "metadata": {},
   "outputs": [],
   "source": [
    "success_list,error_list,missing_list=check_int_output(290218, 1)"
   ]
  },
  {
   "cell_type": "code",
   "execution_count": 13,
   "metadata": {},
   "outputs": [
    {
     "data": {
      "text/plain": [
       "(1, 0, 0)"
      ]
     },
     "execution_count": 13,
     "metadata": {},
     "output_type": "execute_result"
    }
   ],
   "source": [
    "len(success_list),len(error_list),len(missing_list)"
   ]
  },
  {
   "cell_type": "code",
   "execution_count": 11,
   "metadata": {},
   "outputs": [],
   "source": [
    "generate_next('run_pytorch_sweep_params_12.txt',error_list)"
   ]
  },
  {
   "cell_type": "markdown",
   "metadata": {},
   "source": [
    "### 16"
   ]
  },
  {
   "cell_type": "code",
   "execution_count": 9,
   "metadata": {},
   "outputs": [],
   "source": [
    "success_list,error_list,missing_list=check_int_output(290190, 42)"
   ]
  },
  {
   "cell_type": "code",
   "execution_count": 10,
   "metadata": {},
   "outputs": [
    {
     "data": {
      "text/plain": [
       "(42, 0, 0)"
      ]
     },
     "execution_count": 10,
     "metadata": {},
     "output_type": "execute_result"
    }
   ],
   "source": [
    "len(success_list),len(error_list),len(missing_list)"
   ]
  },
  {
   "cell_type": "code",
   "execution_count": 11,
   "metadata": {},
   "outputs": [
    {
     "data": {
      "text/plain": [
       "[]"
      ]
     },
     "execution_count": 11,
     "metadata": {},
     "output_type": "execute_result"
    }
   ],
   "source": [
    "error_list"
   ]
  },
  {
   "cell_type": "code",
   "execution_count": null,
   "metadata": {},
   "outputs": [],
   "source": [
    "generate_next('run_pytorch_sweep_params_16.txt',error_list)"
   ]
  },
  {
   "cell_type": "markdown",
   "metadata": {},
   "source": [
    "### 18"
   ]
  },
  {
   "cell_type": "code",
   "execution_count": 51,
   "metadata": {},
   "outputs": [],
   "source": [
    "success_list,error_list,missing_list=check_int(290159, 30)"
   ]
  },
  {
   "cell_type": "code",
   "execution_count": 52,
   "metadata": {},
   "outputs": [
    {
     "data": {
      "text/plain": [
       "(4, 0, 26)"
      ]
     },
     "execution_count": 52,
     "metadata": {},
     "output_type": "execute_result"
    }
   ],
   "source": [
    "len(success_list),len(error_list),len(missing_list)"
   ]
  },
  {
   "cell_type": "code",
   "execution_count": 53,
   "metadata": {},
   "outputs": [],
   "source": [
    "generate_next('run_pytorch_sweep_params_18.txt',error_list)"
   ]
  },
  {
   "cell_type": "markdown",
   "metadata": {},
   "source": [
    "### 20"
   ]
  },
  {
   "cell_type": "code",
   "execution_count": 9,
   "metadata": {},
   "outputs": [],
   "source": [
    "# success_list,error_list,missing_list=check_int(290203, 37)\n",
    "success_list,error_list,missing_list=check_int_output(290219, 7)\n",
    "# success_list,error_list,missing_list=check_int_output(290217, 882)"
   ]
  },
  {
   "cell_type": "code",
   "execution_count": 10,
   "metadata": {},
   "outputs": [
    {
     "data": {
      "text/plain": [
       "(7, 0, 0)"
      ]
     },
     "execution_count": 10,
     "metadata": {},
     "output_type": "execute_result"
    }
   ],
   "source": [
    "len(success_list),len(error_list),len(missing_list)"
   ]
  },
  {
   "cell_type": "code",
   "execution_count": 8,
   "metadata": {},
   "outputs": [],
   "source": [
    "generate_next('run_pytorch_sweep_params_20_0.txt',error_list+missing_list)"
   ]
  },
  {
   "cell_type": "code",
   "execution_count": 7,
   "metadata": {},
   "outputs": [],
   "source": [
    "def generate_next(original,redolist):\n",
    "\n",
    "    with open(original,'r') as f:\n",
    "        params=f.read().split('\\n')\n",
    "    error_txt='\\n'.join([params[idx] for idx in redolist])\n",
    "    with open(original,'w') as f:\n",
    "        f.write(error_txt)"
   ]
  },
  {
   "cell_type": "code",
   "execution_count": 23,
   "metadata": {},
   "outputs": [
    {
     "data": {
      "text/plain": [
       "6890.625"
      ]
     },
     "execution_count": 23,
     "metadata": {},
     "output_type": "execute_result"
    }
   ],
   "source": [
    "2**20*8*2000/1024**3*21**2"
   ]
  },
  {
   "cell_type": "code",
   "execution_count": 15,
   "metadata": {},
   "outputs": [
    {
     "data": {
      "text/plain": [
       "1000.0"
      ]
     },
     "execution_count": 15,
     "metadata": {},
     "output_type": "execute_result"
    }
   ],
   "source": [
    "2**26*8*2000/1024**3"
   ]
  },
  {
   "cell_type": "code",
   "execution_count": null,
   "metadata": {},
   "outputs": [],
   "source": []
  }
 ],
 "metadata": {
  "kernelspec": {
   "display_name": "CT",
   "language": "python",
   "name": "python3"
  },
  "language_info": {
   "codemirror_mode": {
    "name": "ipython",
    "version": 3
   },
   "file_extension": ".py",
   "mimetype": "text/x-python",
   "name": "python",
   "nbconvert_exporter": "python",
   "pygments_lexer": "ipython3",
   "version": "3.9.2"
  }
 },
 "nbformat": 4,
 "nbformat_minor": 2
}
