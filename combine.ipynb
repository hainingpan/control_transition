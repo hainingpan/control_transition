{
 "cells": [
  {
   "cell_type": "code",
   "execution_count": 12,
   "metadata": {},
   "outputs": [],
   "source": [
    "import torch"
   ]
  },
  {
   "cell_type": "code",
   "execution_count": 1,
   "metadata": {},
   "outputs": [],
   "source": [
    "import xarray as xr\n",
    "import numpy as np\n",
    "\n",
    "# Initialize an empty xarray Dataset\n",
    "ds = xr.Dataset(\n",
    "    {\n",
    "        'O': (['L', 'p_ctrl', 'p_proj', 'trial'], np.empty((0, 0, 0, 0))),\n",
    "        'EE': (['L', 'p_ctrl', 'p_proj', 'trial'], np.empty((0, 0, 0, 0))),\n",
    "        'TMI': (['L', 'p_ctrl', 'p_proj', 'trial'], np.empty((0, 0, 0, 0)))\n",
    "    },\n",
    "    coords={\n",
    "        'L': [],\n",
    "        'p_ctrl': [],\n",
    "        'p_proj': [],\n",
    "        'trial': []\n",
    "    }\n",
    ")\n"
   ]
  },
  {
   "cell_type": "code",
   "execution_count": 2,
   "metadata": {},
   "outputs": [
    {
     "data": {
      "text/html": [
       "<div><svg style=\"position: absolute; width: 0; height: 0; overflow: hidden\">\n",
       "<defs>\n",
       "<symbol id=\"icon-database\" viewBox=\"0 0 32 32\">\n",
       "<path d=\"M16 0c-8.837 0-16 2.239-16 5v4c0 2.761 7.163 5 16 5s16-2.239 16-5v-4c0-2.761-7.163-5-16-5z\"></path>\n",
       "<path d=\"M16 17c-8.837 0-16-2.239-16-5v6c0 2.761 7.163 5 16 5s16-2.239 16-5v-6c0 2.761-7.163 5-16 5z\"></path>\n",
       "<path d=\"M16 26c-8.837 0-16-2.239-16-5v6c0 2.761 7.163 5 16 5s16-2.239 16-5v-6c0 2.761-7.163 5-16 5z\"></path>\n",
       "</symbol>\n",
       "<symbol id=\"icon-file-text2\" viewBox=\"0 0 32 32\">\n",
       "<path d=\"M28.681 7.159c-0.694-0.947-1.662-2.053-2.724-3.116s-2.169-2.030-3.116-2.724c-1.612-1.182-2.393-1.319-2.841-1.319h-15.5c-1.378 0-2.5 1.121-2.5 2.5v27c0 1.378 1.122 2.5 2.5 2.5h23c1.378 0 2.5-1.122 2.5-2.5v-19.5c0-0.448-0.137-1.23-1.319-2.841zM24.543 5.457c0.959 0.959 1.712 1.825 2.268 2.543h-4.811v-4.811c0.718 0.556 1.584 1.309 2.543 2.268zM28 29.5c0 0.271-0.229 0.5-0.5 0.5h-23c-0.271 0-0.5-0.229-0.5-0.5v-27c0-0.271 0.229-0.5 0.5-0.5 0 0 15.499-0 15.5 0v7c0 0.552 0.448 1 1 1h7v19.5z\"></path>\n",
       "<path d=\"M23 26h-14c-0.552 0-1-0.448-1-1s0.448-1 1-1h14c0.552 0 1 0.448 1 1s-0.448 1-1 1z\"></path>\n",
       "<path d=\"M23 22h-14c-0.552 0-1-0.448-1-1s0.448-1 1-1h14c0.552 0 1 0.448 1 1s-0.448 1-1 1z\"></path>\n",
       "<path d=\"M23 18h-14c-0.552 0-1-0.448-1-1s0.448-1 1-1h14c0.552 0 1 0.448 1 1s-0.448 1-1 1z\"></path>\n",
       "</symbol>\n",
       "</defs>\n",
       "</svg>\n",
       "<style>/* CSS stylesheet for displaying xarray objects in jupyterlab.\n",
       " *\n",
       " */\n",
       "\n",
       ":root {\n",
       "  --xr-font-color0: var(--jp-content-font-color0, rgba(0, 0, 0, 1));\n",
       "  --xr-font-color2: var(--jp-content-font-color2, rgba(0, 0, 0, 0.54));\n",
       "  --xr-font-color3: var(--jp-content-font-color3, rgba(0, 0, 0, 0.38));\n",
       "  --xr-border-color: var(--jp-border-color2, #e0e0e0);\n",
       "  --xr-disabled-color: var(--jp-layout-color3, #bdbdbd);\n",
       "  --xr-background-color: var(--jp-layout-color0, white);\n",
       "  --xr-background-color-row-even: var(--jp-layout-color1, white);\n",
       "  --xr-background-color-row-odd: var(--jp-layout-color2, #eeeeee);\n",
       "}\n",
       "\n",
       "html[theme=dark],\n",
       "body[data-theme=dark],\n",
       "body.vscode-dark {\n",
       "  --xr-font-color0: rgba(255, 255, 255, 1);\n",
       "  --xr-font-color2: rgba(255, 255, 255, 0.54);\n",
       "  --xr-font-color3: rgba(255, 255, 255, 0.38);\n",
       "  --xr-border-color: #1F1F1F;\n",
       "  --xr-disabled-color: #515151;\n",
       "  --xr-background-color: #111111;\n",
       "  --xr-background-color-row-even: #111111;\n",
       "  --xr-background-color-row-odd: #313131;\n",
       "}\n",
       "\n",
       ".xr-wrap {\n",
       "  display: block !important;\n",
       "  min-width: 300px;\n",
       "  max-width: 700px;\n",
       "}\n",
       "\n",
       ".xr-text-repr-fallback {\n",
       "  /* fallback to plain text repr when CSS is not injected (untrusted notebook) */\n",
       "  display: none;\n",
       "}\n",
       "\n",
       ".xr-header {\n",
       "  padding-top: 6px;\n",
       "  padding-bottom: 6px;\n",
       "  margin-bottom: 4px;\n",
       "  border-bottom: solid 1px var(--xr-border-color);\n",
       "}\n",
       "\n",
       ".xr-header > div,\n",
       ".xr-header > ul {\n",
       "  display: inline;\n",
       "  margin-top: 0;\n",
       "  margin-bottom: 0;\n",
       "}\n",
       "\n",
       ".xr-obj-type,\n",
       ".xr-array-name {\n",
       "  margin-left: 2px;\n",
       "  margin-right: 10px;\n",
       "}\n",
       "\n",
       ".xr-obj-type {\n",
       "  color: var(--xr-font-color2);\n",
       "}\n",
       "\n",
       ".xr-sections {\n",
       "  padding-left: 0 !important;\n",
       "  display: grid;\n",
       "  grid-template-columns: 150px auto auto 1fr 20px 20px;\n",
       "}\n",
       "\n",
       ".xr-section-item {\n",
       "  display: contents;\n",
       "}\n",
       "\n",
       ".xr-section-item input {\n",
       "  display: none;\n",
       "}\n",
       "\n",
       ".xr-section-item input + label {\n",
       "  color: var(--xr-disabled-color);\n",
       "}\n",
       "\n",
       ".xr-section-item input:enabled + label {\n",
       "  cursor: pointer;\n",
       "  color: var(--xr-font-color2);\n",
       "}\n",
       "\n",
       ".xr-section-item input:enabled + label:hover {\n",
       "  color: var(--xr-font-color0);\n",
       "}\n",
       "\n",
       ".xr-section-summary {\n",
       "  grid-column: 1;\n",
       "  color: var(--xr-font-color2);\n",
       "  font-weight: 500;\n",
       "}\n",
       "\n",
       ".xr-section-summary > span {\n",
       "  display: inline-block;\n",
       "  padding-left: 0.5em;\n",
       "}\n",
       "\n",
       ".xr-section-summary-in:disabled + label {\n",
       "  color: var(--xr-font-color2);\n",
       "}\n",
       "\n",
       ".xr-section-summary-in + label:before {\n",
       "  display: inline-block;\n",
       "  content: '►';\n",
       "  font-size: 11px;\n",
       "  width: 15px;\n",
       "  text-align: center;\n",
       "}\n",
       "\n",
       ".xr-section-summary-in:disabled + label:before {\n",
       "  color: var(--xr-disabled-color);\n",
       "}\n",
       "\n",
       ".xr-section-summary-in:checked + label:before {\n",
       "  content: '▼';\n",
       "}\n",
       "\n",
       ".xr-section-summary-in:checked + label > span {\n",
       "  display: none;\n",
       "}\n",
       "\n",
       ".xr-section-summary,\n",
       ".xr-section-inline-details {\n",
       "  padding-top: 4px;\n",
       "  padding-bottom: 4px;\n",
       "}\n",
       "\n",
       ".xr-section-inline-details {\n",
       "  grid-column: 2 / -1;\n",
       "}\n",
       "\n",
       ".xr-section-details {\n",
       "  display: none;\n",
       "  grid-column: 1 / -1;\n",
       "  margin-bottom: 5px;\n",
       "}\n",
       "\n",
       ".xr-section-summary-in:checked ~ .xr-section-details {\n",
       "  display: contents;\n",
       "}\n",
       "\n",
       ".xr-array-wrap {\n",
       "  grid-column: 1 / -1;\n",
       "  display: grid;\n",
       "  grid-template-columns: 20px auto;\n",
       "}\n",
       "\n",
       ".xr-array-wrap > label {\n",
       "  grid-column: 1;\n",
       "  vertical-align: top;\n",
       "}\n",
       "\n",
       ".xr-preview {\n",
       "  color: var(--xr-font-color3);\n",
       "}\n",
       "\n",
       ".xr-array-preview,\n",
       ".xr-array-data {\n",
       "  padding: 0 5px !important;\n",
       "  grid-column: 2;\n",
       "}\n",
       "\n",
       ".xr-array-data,\n",
       ".xr-array-in:checked ~ .xr-array-preview {\n",
       "  display: none;\n",
       "}\n",
       "\n",
       ".xr-array-in:checked ~ .xr-array-data,\n",
       ".xr-array-preview {\n",
       "  display: inline-block;\n",
       "}\n",
       "\n",
       ".xr-dim-list {\n",
       "  display: inline-block !important;\n",
       "  list-style: none;\n",
       "  padding: 0 !important;\n",
       "  margin: 0;\n",
       "}\n",
       "\n",
       ".xr-dim-list li {\n",
       "  display: inline-block;\n",
       "  padding: 0;\n",
       "  margin: 0;\n",
       "}\n",
       "\n",
       ".xr-dim-list:before {\n",
       "  content: '(';\n",
       "}\n",
       "\n",
       ".xr-dim-list:after {\n",
       "  content: ')';\n",
       "}\n",
       "\n",
       ".xr-dim-list li:not(:last-child):after {\n",
       "  content: ',';\n",
       "  padding-right: 5px;\n",
       "}\n",
       "\n",
       ".xr-has-index {\n",
       "  font-weight: bold;\n",
       "}\n",
       "\n",
       ".xr-var-list,\n",
       ".xr-var-item {\n",
       "  display: contents;\n",
       "}\n",
       "\n",
       ".xr-var-item > div,\n",
       ".xr-var-item label,\n",
       ".xr-var-item > .xr-var-name span {\n",
       "  background-color: var(--xr-background-color-row-even);\n",
       "  margin-bottom: 0;\n",
       "}\n",
       "\n",
       ".xr-var-item > .xr-var-name:hover span {\n",
       "  padding-right: 5px;\n",
       "}\n",
       "\n",
       ".xr-var-list > li:nth-child(odd) > div,\n",
       ".xr-var-list > li:nth-child(odd) > label,\n",
       ".xr-var-list > li:nth-child(odd) > .xr-var-name span {\n",
       "  background-color: var(--xr-background-color-row-odd);\n",
       "}\n",
       "\n",
       ".xr-var-name {\n",
       "  grid-column: 1;\n",
       "}\n",
       "\n",
       ".xr-var-dims {\n",
       "  grid-column: 2;\n",
       "}\n",
       "\n",
       ".xr-var-dtype {\n",
       "  grid-column: 3;\n",
       "  text-align: right;\n",
       "  color: var(--xr-font-color2);\n",
       "}\n",
       "\n",
       ".xr-var-preview {\n",
       "  grid-column: 4;\n",
       "}\n",
       "\n",
       ".xr-index-preview {\n",
       "  grid-column: 2 / 5;\n",
       "  color: var(--xr-font-color2);\n",
       "}\n",
       "\n",
       ".xr-var-name,\n",
       ".xr-var-dims,\n",
       ".xr-var-dtype,\n",
       ".xr-preview,\n",
       ".xr-attrs dt {\n",
       "  white-space: nowrap;\n",
       "  overflow: hidden;\n",
       "  text-overflow: ellipsis;\n",
       "  padding-right: 10px;\n",
       "}\n",
       "\n",
       ".xr-var-name:hover,\n",
       ".xr-var-dims:hover,\n",
       ".xr-var-dtype:hover,\n",
       ".xr-attrs dt:hover {\n",
       "  overflow: visible;\n",
       "  width: auto;\n",
       "  z-index: 1;\n",
       "}\n",
       "\n",
       ".xr-var-attrs,\n",
       ".xr-var-data,\n",
       ".xr-index-data {\n",
       "  display: none;\n",
       "  background-color: var(--xr-background-color) !important;\n",
       "  padding-bottom: 5px !important;\n",
       "}\n",
       "\n",
       ".xr-var-attrs-in:checked ~ .xr-var-attrs,\n",
       ".xr-var-data-in:checked ~ .xr-var-data,\n",
       ".xr-index-data-in:checked ~ .xr-index-data {\n",
       "  display: block;\n",
       "}\n",
       "\n",
       ".xr-var-data > table {\n",
       "  float: right;\n",
       "}\n",
       "\n",
       ".xr-var-name span,\n",
       ".xr-var-data,\n",
       ".xr-index-name div,\n",
       ".xr-index-data,\n",
       ".xr-attrs {\n",
       "  padding-left: 25px !important;\n",
       "}\n",
       "\n",
       ".xr-attrs,\n",
       ".xr-var-attrs,\n",
       ".xr-var-data,\n",
       ".xr-index-data {\n",
       "  grid-column: 1 / -1;\n",
       "}\n",
       "\n",
       "dl.xr-attrs {\n",
       "  padding: 0;\n",
       "  margin: 0;\n",
       "  display: grid;\n",
       "  grid-template-columns: 125px auto;\n",
       "}\n",
       "\n",
       ".xr-attrs dt,\n",
       ".xr-attrs dd {\n",
       "  padding: 0;\n",
       "  margin: 0;\n",
       "  float: left;\n",
       "  padding-right: 10px;\n",
       "  width: auto;\n",
       "}\n",
       "\n",
       ".xr-attrs dt {\n",
       "  font-weight: normal;\n",
       "  grid-column: 1;\n",
       "}\n",
       "\n",
       ".xr-attrs dt:hover span {\n",
       "  display: inline-block;\n",
       "  background: var(--xr-background-color);\n",
       "  padding-right: 10px;\n",
       "}\n",
       "\n",
       ".xr-attrs dd {\n",
       "  grid-column: 2;\n",
       "  white-space: pre-wrap;\n",
       "  word-break: break-all;\n",
       "}\n",
       "\n",
       ".xr-icon-database,\n",
       ".xr-icon-file-text2,\n",
       ".xr-no-icon {\n",
       "  display: inline-block;\n",
       "  vertical-align: middle;\n",
       "  width: 1em;\n",
       "  height: 1.5em !important;\n",
       "  stroke-width: 0;\n",
       "  stroke: currentColor;\n",
       "  fill: currentColor;\n",
       "}\n",
       "</style><pre class='xr-text-repr-fallback'>&lt;xarray.Dataset&gt;\n",
       "Dimensions:  (L: 0, p_ctrl: 0, p_proj: 0, trial: 0)\n",
       "Coordinates:\n",
       "  * L        (L) float64 \n",
       "  * p_ctrl   (p_ctrl) float64 \n",
       "  * p_proj   (p_proj) float64 \n",
       "  * trial    (trial) float64 \n",
       "Data variables:\n",
       "    O        (L, p_ctrl, p_proj, trial) float64 \n",
       "    EE       (L, p_ctrl, p_proj, trial) float64 \n",
       "    TMI      (L, p_ctrl, p_proj, trial) float64 </pre><div class='xr-wrap' style='display:none'><div class='xr-header'><div class='xr-obj-type'>xarray.Dataset</div></div><ul class='xr-sections'><li class='xr-section-item'><input id='section-97f2c9cb-8e4f-4c5b-86bc-7f6ac19f4965' class='xr-section-summary-in' type='checkbox' disabled ><label for='section-97f2c9cb-8e4f-4c5b-86bc-7f6ac19f4965' class='xr-section-summary'  title='Expand/collapse section'>Dimensions:</label><div class='xr-section-inline-details'><ul class='xr-dim-list'><li><span class='xr-has-index'>L</span>: 0</li><li><span class='xr-has-index'>p_ctrl</span>: 0</li><li><span class='xr-has-index'>p_proj</span>: 0</li><li><span class='xr-has-index'>trial</span>: 0</li></ul></div><div class='xr-section-details'></div></li><li class='xr-section-item'><input id='section-b2a27436-6f0f-4b90-872e-3ec3b2b02aa5' class='xr-section-summary-in' type='checkbox'  checked><label for='section-b2a27436-6f0f-4b90-872e-3ec3b2b02aa5' class='xr-section-summary' >Coordinates: <span>(4)</span></label><div class='xr-section-inline-details'></div><div class='xr-section-details'><ul class='xr-var-list'><li class='xr-var-item'><div class='xr-var-name'><span class='xr-has-index'>L</span></div><div class='xr-var-dims'>(L)</div><div class='xr-var-dtype'>float64</div><div class='xr-var-preview xr-preview'></div><input id='attrs-8b2b4a04-12cc-466f-8371-d53d81805dab' class='xr-var-attrs-in' type='checkbox' disabled><label for='attrs-8b2b4a04-12cc-466f-8371-d53d81805dab' title='Show/Hide attributes'><svg class='icon xr-icon-file-text2'><use xlink:href='#icon-file-text2'></use></svg></label><input id='data-4b810736-0c69-4952-9f5c-d85567d29d1b' class='xr-var-data-in' type='checkbox'><label for='data-4b810736-0c69-4952-9f5c-d85567d29d1b' title='Show/Hide data repr'><svg class='icon xr-icon-database'><use xlink:href='#icon-database'></use></svg></label><div class='xr-var-attrs'><dl class='xr-attrs'></dl></div><div class='xr-var-data'><pre>array([], dtype=float64)</pre></div></li><li class='xr-var-item'><div class='xr-var-name'><span class='xr-has-index'>p_ctrl</span></div><div class='xr-var-dims'>(p_ctrl)</div><div class='xr-var-dtype'>float64</div><div class='xr-var-preview xr-preview'></div><input id='attrs-51e4cb5c-f263-4563-9001-fce4c5546bdd' class='xr-var-attrs-in' type='checkbox' disabled><label for='attrs-51e4cb5c-f263-4563-9001-fce4c5546bdd' title='Show/Hide attributes'><svg class='icon xr-icon-file-text2'><use xlink:href='#icon-file-text2'></use></svg></label><input id='data-77700326-98f6-40b0-af33-d8071f7d306a' class='xr-var-data-in' type='checkbox'><label for='data-77700326-98f6-40b0-af33-d8071f7d306a' title='Show/Hide data repr'><svg class='icon xr-icon-database'><use xlink:href='#icon-database'></use></svg></label><div class='xr-var-attrs'><dl class='xr-attrs'></dl></div><div class='xr-var-data'><pre>array([], dtype=float64)</pre></div></li><li class='xr-var-item'><div class='xr-var-name'><span class='xr-has-index'>p_proj</span></div><div class='xr-var-dims'>(p_proj)</div><div class='xr-var-dtype'>float64</div><div class='xr-var-preview xr-preview'></div><input id='attrs-c533535a-1b6c-412d-bbea-8c706f5d3e51' class='xr-var-attrs-in' type='checkbox' disabled><label for='attrs-c533535a-1b6c-412d-bbea-8c706f5d3e51' title='Show/Hide attributes'><svg class='icon xr-icon-file-text2'><use xlink:href='#icon-file-text2'></use></svg></label><input id='data-b2ec80eb-1efb-410d-b397-1c906d18e881' class='xr-var-data-in' type='checkbox'><label for='data-b2ec80eb-1efb-410d-b397-1c906d18e881' title='Show/Hide data repr'><svg class='icon xr-icon-database'><use xlink:href='#icon-database'></use></svg></label><div class='xr-var-attrs'><dl class='xr-attrs'></dl></div><div class='xr-var-data'><pre>array([], dtype=float64)</pre></div></li><li class='xr-var-item'><div class='xr-var-name'><span class='xr-has-index'>trial</span></div><div class='xr-var-dims'>(trial)</div><div class='xr-var-dtype'>float64</div><div class='xr-var-preview xr-preview'></div><input id='attrs-49ac1467-3dd7-401b-b877-0b4cc4caec1b' class='xr-var-attrs-in' type='checkbox' disabled><label for='attrs-49ac1467-3dd7-401b-b877-0b4cc4caec1b' title='Show/Hide attributes'><svg class='icon xr-icon-file-text2'><use xlink:href='#icon-file-text2'></use></svg></label><input id='data-9c728179-d1ab-45eb-8367-b6ae7966d311' class='xr-var-data-in' type='checkbox'><label for='data-9c728179-d1ab-45eb-8367-b6ae7966d311' title='Show/Hide data repr'><svg class='icon xr-icon-database'><use xlink:href='#icon-database'></use></svg></label><div class='xr-var-attrs'><dl class='xr-attrs'></dl></div><div class='xr-var-data'><pre>array([], dtype=float64)</pre></div></li></ul></div></li><li class='xr-section-item'><input id='section-0f281fb3-e26c-4c69-a21a-0f576254d7d6' class='xr-section-summary-in' type='checkbox'  checked><label for='section-0f281fb3-e26c-4c69-a21a-0f576254d7d6' class='xr-section-summary' >Data variables: <span>(3)</span></label><div class='xr-section-inline-details'></div><div class='xr-section-details'><ul class='xr-var-list'><li class='xr-var-item'><div class='xr-var-name'><span>O</span></div><div class='xr-var-dims'>(L, p_ctrl, p_proj, trial)</div><div class='xr-var-dtype'>float64</div><div class='xr-var-preview xr-preview'></div><input id='attrs-cf0e74d0-4cc6-44a6-bff7-0f4ff9c93432' class='xr-var-attrs-in' type='checkbox' disabled><label for='attrs-cf0e74d0-4cc6-44a6-bff7-0f4ff9c93432' title='Show/Hide attributes'><svg class='icon xr-icon-file-text2'><use xlink:href='#icon-file-text2'></use></svg></label><input id='data-e038b88d-d46a-4a8a-a988-62c89516f37f' class='xr-var-data-in' type='checkbox'><label for='data-e038b88d-d46a-4a8a-a988-62c89516f37f' title='Show/Hide data repr'><svg class='icon xr-icon-database'><use xlink:href='#icon-database'></use></svg></label><div class='xr-var-attrs'><dl class='xr-attrs'></dl></div><div class='xr-var-data'><pre>array([], shape=(0, 0, 0, 0), dtype=float64)</pre></div></li><li class='xr-var-item'><div class='xr-var-name'><span>EE</span></div><div class='xr-var-dims'>(L, p_ctrl, p_proj, trial)</div><div class='xr-var-dtype'>float64</div><div class='xr-var-preview xr-preview'></div><input id='attrs-d4900ad5-fe6d-4ab1-a9bb-e672cb6e9c81' class='xr-var-attrs-in' type='checkbox' disabled><label for='attrs-d4900ad5-fe6d-4ab1-a9bb-e672cb6e9c81' title='Show/Hide attributes'><svg class='icon xr-icon-file-text2'><use xlink:href='#icon-file-text2'></use></svg></label><input id='data-7db6d268-718b-41c9-8e7b-629fb320e7c4' class='xr-var-data-in' type='checkbox'><label for='data-7db6d268-718b-41c9-8e7b-629fb320e7c4' title='Show/Hide data repr'><svg class='icon xr-icon-database'><use xlink:href='#icon-database'></use></svg></label><div class='xr-var-attrs'><dl class='xr-attrs'></dl></div><div class='xr-var-data'><pre>array([], shape=(0, 0, 0, 0), dtype=float64)</pre></div></li><li class='xr-var-item'><div class='xr-var-name'><span>TMI</span></div><div class='xr-var-dims'>(L, p_ctrl, p_proj, trial)</div><div class='xr-var-dtype'>float64</div><div class='xr-var-preview xr-preview'></div><input id='attrs-12576f03-3f9e-4c55-b564-77c8185dd83f' class='xr-var-attrs-in' type='checkbox' disabled><label for='attrs-12576f03-3f9e-4c55-b564-77c8185dd83f' title='Show/Hide attributes'><svg class='icon xr-icon-file-text2'><use xlink:href='#icon-file-text2'></use></svg></label><input id='data-fb880485-ce96-4e3d-9d2d-00c69a2f2a43' class='xr-var-data-in' type='checkbox'><label for='data-fb880485-ce96-4e3d-9d2d-00c69a2f2a43' title='Show/Hide data repr'><svg class='icon xr-icon-database'><use xlink:href='#icon-database'></use></svg></label><div class='xr-var-attrs'><dl class='xr-attrs'></dl></div><div class='xr-var-data'><pre>array([], shape=(0, 0, 0, 0), dtype=float64)</pre></div></li></ul></div></li><li class='xr-section-item'><input id='section-0fee50e7-42d4-4b3f-9d44-ac49f0b3f974' class='xr-section-summary-in' type='checkbox'  ><label for='section-0fee50e7-42d4-4b3f-9d44-ac49f0b3f974' class='xr-section-summary' >Indexes: <span>(4)</span></label><div class='xr-section-inline-details'></div><div class='xr-section-details'><ul class='xr-var-list'><li class='xr-var-item'><div class='xr-index-name'><div>L</div></div><div class='xr-index-preview'>PandasIndex</div><div></div><input id='index-d93bfb41-6714-4b6b-a4e2-c40de1277de2' class='xr-index-data-in' type='checkbox'/><label for='index-d93bfb41-6714-4b6b-a4e2-c40de1277de2' title='Show/Hide index repr'><svg class='icon xr-icon-database'><use xlink:href='#icon-database'></use></svg></label><div class='xr-index-data'><pre>PandasIndex(Float64Index([], dtype=&#x27;float64&#x27;, name=&#x27;L&#x27;))</pre></div></li><li class='xr-var-item'><div class='xr-index-name'><div>p_ctrl</div></div><div class='xr-index-preview'>PandasIndex</div><div></div><input id='index-bf26c6d6-3600-47ce-a72a-a43191c34c57' class='xr-index-data-in' type='checkbox'/><label for='index-bf26c6d6-3600-47ce-a72a-a43191c34c57' title='Show/Hide index repr'><svg class='icon xr-icon-database'><use xlink:href='#icon-database'></use></svg></label><div class='xr-index-data'><pre>PandasIndex(Float64Index([], dtype=&#x27;float64&#x27;, name=&#x27;p_ctrl&#x27;))</pre></div></li><li class='xr-var-item'><div class='xr-index-name'><div>p_proj</div></div><div class='xr-index-preview'>PandasIndex</div><div></div><input id='index-c498bd3c-8744-4793-b96b-94da2258b729' class='xr-index-data-in' type='checkbox'/><label for='index-c498bd3c-8744-4793-b96b-94da2258b729' title='Show/Hide index repr'><svg class='icon xr-icon-database'><use xlink:href='#icon-database'></use></svg></label><div class='xr-index-data'><pre>PandasIndex(Float64Index([], dtype=&#x27;float64&#x27;, name=&#x27;p_proj&#x27;))</pre></div></li><li class='xr-var-item'><div class='xr-index-name'><div>trial</div></div><div class='xr-index-preview'>PandasIndex</div><div></div><input id='index-bdfd1847-6888-41e0-b362-599c3d89b55a' class='xr-index-data-in' type='checkbox'/><label for='index-bdfd1847-6888-41e0-b362-599c3d89b55a' title='Show/Hide index repr'><svg class='icon xr-icon-database'><use xlink:href='#icon-database'></use></svg></label><div class='xr-index-data'><pre>PandasIndex(Float64Index([], dtype=&#x27;float64&#x27;, name=&#x27;trial&#x27;))</pre></div></li></ul></div></li><li class='xr-section-item'><input id='section-d9256c7e-a151-4032-93a8-815cb3ce77fc' class='xr-section-summary-in' type='checkbox' disabled ><label for='section-d9256c7e-a151-4032-93a8-815cb3ce77fc' class='xr-section-summary'  title='Expand/collapse section'>Attributes: <span>(0)</span></label><div class='xr-section-inline-details'></div><div class='xr-section-details'><dl class='xr-attrs'></dl></div></li></ul></div></div>"
      ],
      "text/plain": [
       "<xarray.Dataset>\n",
       "Dimensions:  (L: 0, p_ctrl: 0, p_proj: 0, trial: 0)\n",
       "Coordinates:\n",
       "  * L        (L) float64 \n",
       "  * p_ctrl   (p_ctrl) float64 \n",
       "  * p_proj   (p_proj) float64 \n",
       "  * trial    (trial) float64 \n",
       "Data variables:\n",
       "    O        (L, p_ctrl, p_proj, trial) float64 \n",
       "    EE       (L, p_ctrl, p_proj, trial) float64 \n",
       "    TMI      (L, p_ctrl, p_proj, trial) float64 "
      ]
     },
     "execution_count": 2,
     "metadata": {},
     "output_type": "execute_result"
    }
   ],
   "source": [
    "ds"
   ]
  },
  {
   "cell_type": "code",
   "execution_count": 28,
   "metadata": {},
   "outputs": [],
   "source": [
    "def add_new_data(ds, d):\n",
    "    # Extract parameter values\n",
    "    L = np.arange(*d['args'].L)\n",
    "    p_ctrl = np.linspace(d['args'].p_ctrl[0],d['args'].p_ctrl[1],int(d['args'].p_ctrl[2]))\n",
    "    p_proj = np.linspace(d['args'].p_proj[0],d['args'].p_proj[1],int(d['args'].p_proj[2]))\n",
    "    \n",
    "    # Convert torch tensor to numpy for easier handling with xarray\n",
    "    datasets = {\n",
    "        \n",
    "    }\n",
    "    for key in ['O','EE','TMI']:\n",
    "        if torch.is_tensor(d[key]):\n",
    "            data_np=d[key].cpu().numpy()\n",
    "        else:\n",
    "            data_np=d[key]\n",
    "        datasets[key]= data_np\n",
    "\n",
    "    # Handle each parameter combination\n",
    "    for l in L:\n",
    "        for pc in p_ctrl:\n",
    "            for pp in p_proj:\n",
    "                # Check if the parameter combination exists\n",
    "                condition = (ds['L'] == l) & (ds['p_ctrl'] == pc) & (ds['p_proj'] == pp)\n",
    "                \n",
    "                if condition.sum() > 0:\n",
    "                    # If the combination exists, append new trials\n",
    "                    for key, data in datasets.items():\n",
    "                        current_data = ds.loc[dict(L=l, p_ctrl=pc, p_proj=pp)][key]\n",
    "                        new_data = np.concatenate([current_data, data], axis=-1)\n",
    "                        ds.loc[dict(L=l, p_ctrl=pc, p_proj=pp)][key] = new_data\n",
    "\n",
    "                else:\n",
    "                    # If the combination does not exist, add a new record\n",
    "                    new_data_dict = {key: (('L', 'p_ctrl', 'p_proj', 'trial'), data) \n",
    "                                     for key, data in datasets.items()}\n",
    "                    \n",
    "                    new_dataset = xr.Dataset(\n",
    "                        new_data_dict,\n",
    "                        coords={\n",
    "                            'L': L,\n",
    "                            'p_ctrl': p_ctrl,\n",
    "                            'p_proj': p_proj,\n",
    "                            'trial': np.arange(datasets['O'].shape[-1])\n",
    "                        }\n",
    "                    )\n",
    "                    \n",
    "                    ds = xr.concat([ds, new_dataset], dim=['L', 'p_ctrl', 'p_proj'])\n",
    "\n",
    "    return ds"
   ]
  },
  {
   "cell_type": "code",
   "execution_count": 10,
   "metadata": {},
   "outputs": [],
   "source": [
    "import pickle\n",
    "import os"
   ]
  },
  {
   "cell_type": "code",
   "execution_count": 7,
   "metadata": {},
   "outputs": [],
   "source": [
    "with open(os.path.join('Data','CT_En2000_pctrl(0.00,1.00,11)_pproj(0.00,0.00,1)_L(10,14,2)_xj(1-3,2-3)_seed0_es2000_64.pickle'),'rb') as f:\n",
    "    data=pickle.load(f)"
   ]
  },
  {
   "cell_type": "code",
   "execution_count": 30,
   "metadata": {},
   "outputs": [
    {
     "ename": "ValueError",
     "evalue": "conflicting sizes for dimension 'concat_dim': length 3 on 'concat_dim' and length 2 on {'L': 'L', 'p_ctrl': 'p_ctrl', 'p_proj': 'p_proj', 'trial': 'trial', 'concat_dim': 'O'}",
     "output_type": "error",
     "traceback": [
      "\u001b[0;31m---------------------------------------------------------------------------\u001b[0m",
      "\u001b[0;31mValueError\u001b[0m                                Traceback (most recent call last)",
      "\u001b[0;32m/tmp/ipykernel_1583/3638912323.py\u001b[0m in \u001b[0;36m<module>\u001b[0;34m\u001b[0m\n\u001b[0;32m----> 1\u001b[0;31m \u001b[0mds\u001b[0m\u001b[0;34m=\u001b[0m\u001b[0madd_new_data\u001b[0m\u001b[0;34m(\u001b[0m\u001b[0mds\u001b[0m\u001b[0;34m,\u001b[0m\u001b[0mdata\u001b[0m\u001b[0;34m)\u001b[0m\u001b[0;34m\u001b[0m\u001b[0;34m\u001b[0m\u001b[0m\n\u001b[0m",
      "\u001b[0;32m/tmp/ipykernel_1583/4005564990.py\u001b[0m in \u001b[0;36madd_new_data\u001b[0;34m(ds, d)\u001b[0m\n\u001b[1;32m     45\u001b[0m                     )\n\u001b[1;32m     46\u001b[0m \u001b[0;34m\u001b[0m\u001b[0m\n\u001b[0;32m---> 47\u001b[0;31m                     \u001b[0mds\u001b[0m \u001b[0;34m=\u001b[0m \u001b[0mxr\u001b[0m\u001b[0;34m.\u001b[0m\u001b[0mconcat\u001b[0m\u001b[0;34m(\u001b[0m\u001b[0;34m[\u001b[0m\u001b[0mds\u001b[0m\u001b[0;34m,\u001b[0m \u001b[0mnew_dataset\u001b[0m\u001b[0;34m]\u001b[0m\u001b[0;34m,\u001b[0m \u001b[0mdim\u001b[0m\u001b[0;34m=\u001b[0m\u001b[0;34m[\u001b[0m\u001b[0;34m'L'\u001b[0m\u001b[0;34m,\u001b[0m \u001b[0;34m'p_ctrl'\u001b[0m\u001b[0;34m,\u001b[0m \u001b[0;34m'p_proj'\u001b[0m\u001b[0;34m]\u001b[0m\u001b[0;34m)\u001b[0m\u001b[0;34m\u001b[0m\u001b[0;34m\u001b[0m\u001b[0m\n\u001b[0m\u001b[1;32m     48\u001b[0m \u001b[0;34m\u001b[0m\u001b[0m\n\u001b[1;32m     49\u001b[0m     \u001b[0;32mreturn\u001b[0m \u001b[0mds\u001b[0m\u001b[0;34m\u001b[0m\u001b[0;34m\u001b[0m\u001b[0m\n",
      "\u001b[0;32m~/anaconda3/lib/python3.8/site-packages/xarray/core/concat.py\u001b[0m in \u001b[0;36mconcat\u001b[0;34m(objs, dim, data_vars, coords, compat, positions, fill_value, join, combine_attrs)\u001b[0m\n\u001b[1;32m    241\u001b[0m         )\n\u001b[1;32m    242\u001b[0m     \u001b[0;32melif\u001b[0m \u001b[0misinstance\u001b[0m\u001b[0;34m(\u001b[0m\u001b[0mfirst_obj\u001b[0m\u001b[0;34m,\u001b[0m \u001b[0mDataset\u001b[0m\u001b[0;34m)\u001b[0m\u001b[0;34m:\u001b[0m\u001b[0;34m\u001b[0m\u001b[0;34m\u001b[0m\u001b[0m\n\u001b[0;32m--> 243\u001b[0;31m         return _dataset_concat(\n\u001b[0m\u001b[1;32m    244\u001b[0m             \u001b[0mobjs\u001b[0m\u001b[0;34m,\u001b[0m\u001b[0;34m\u001b[0m\u001b[0;34m\u001b[0m\u001b[0m\n\u001b[1;32m    245\u001b[0m             \u001b[0mdim\u001b[0m\u001b[0;34m=\u001b[0m\u001b[0mdim\u001b[0m\u001b[0;34m,\u001b[0m\u001b[0;34m\u001b[0m\u001b[0;34m\u001b[0m\u001b[0m\n",
      "\u001b[0;32m~/anaconda3/lib/python3.8/site-packages/xarray/core/concat.py\u001b[0m in \u001b[0;36m_dataset_concat\u001b[0;34m(datasets, dim, data_vars, coords, compat, positions, fill_value, join, combine_attrs)\u001b[0m\n\u001b[1;32m    609\u001b[0m         \u001b[0;32melse\u001b[0m\u001b[0;34m:\u001b[0m\u001b[0;34m\u001b[0m\u001b[0;34m\u001b[0m\u001b[0m\n\u001b[1;32m    610\u001b[0m             \u001b[0mindex_vars\u001b[0m \u001b[0;34m=\u001b[0m \u001b[0mindex\u001b[0m\u001b[0;34m.\u001b[0m\u001b[0mcreate_variables\u001b[0m\u001b[0;34m(\u001b[0m\u001b[0;34m)\u001b[0m\u001b[0;34m\u001b[0m\u001b[0;34m\u001b[0m\u001b[0m\n\u001b[0;32m--> 611\u001b[0;31m         \u001b[0mresult\u001b[0m\u001b[0;34m[\u001b[0m\u001b[0mdim\u001b[0m\u001b[0;34m]\u001b[0m \u001b[0;34m=\u001b[0m \u001b[0mindex_vars\u001b[0m\u001b[0;34m[\u001b[0m\u001b[0mdim\u001b[0m\u001b[0;34m]\u001b[0m\u001b[0;34m\u001b[0m\u001b[0;34m\u001b[0m\u001b[0m\n\u001b[0m\u001b[1;32m    612\u001b[0m         \u001b[0mresult_indexes\u001b[0m\u001b[0;34m[\u001b[0m\u001b[0mdim\u001b[0m\u001b[0;34m]\u001b[0m \u001b[0;34m=\u001b[0m \u001b[0mindex\u001b[0m\u001b[0;34m\u001b[0m\u001b[0;34m\u001b[0m\u001b[0m\n\u001b[1;32m    613\u001b[0m \u001b[0;34m\u001b[0m\u001b[0m\n",
      "\u001b[0;32m~/anaconda3/lib/python3.8/site-packages/xarray/core/dataset.py\u001b[0m in \u001b[0;36m__setitem__\u001b[0;34m(self, key, value)\u001b[0m\n\u001b[1;32m   1482\u001b[0m                     \u001b[0;34m\"object can be stored under a single key.\"\u001b[0m\u001b[0;34m\u001b[0m\u001b[0;34m\u001b[0m\u001b[0m\n\u001b[1;32m   1483\u001b[0m                 )\n\u001b[0;32m-> 1484\u001b[0;31m             \u001b[0mself\u001b[0m\u001b[0;34m.\u001b[0m\u001b[0mupdate\u001b[0m\u001b[0;34m(\u001b[0m\u001b[0;34m{\u001b[0m\u001b[0mkey\u001b[0m\u001b[0;34m:\u001b[0m \u001b[0mvalue\u001b[0m\u001b[0;34m}\u001b[0m\u001b[0;34m)\u001b[0m\u001b[0;34m\u001b[0m\u001b[0;34m\u001b[0m\u001b[0m\n\u001b[0m\u001b[1;32m   1485\u001b[0m \u001b[0;34m\u001b[0m\u001b[0m\n\u001b[1;32m   1486\u001b[0m         \u001b[0;32melif\u001b[0m \u001b[0mutils\u001b[0m\u001b[0;34m.\u001b[0m\u001b[0miterable_of_hashable\u001b[0m\u001b[0;34m(\u001b[0m\u001b[0mkey\u001b[0m\u001b[0;34m)\u001b[0m\u001b[0;34m:\u001b[0m\u001b[0;34m\u001b[0m\u001b[0;34m\u001b[0m\u001b[0m\n",
      "\u001b[0;32m~/anaconda3/lib/python3.8/site-packages/xarray/core/dataset.py\u001b[0m in \u001b[0;36mupdate\u001b[0;34m(self, other)\u001b[0m\n\u001b[1;32m   4936\u001b[0m         \u001b[0mDataset\u001b[0m\u001b[0;34m.\u001b[0m\u001b[0mmerge\u001b[0m\u001b[0;34m\u001b[0m\u001b[0;34m\u001b[0m\u001b[0m\n\u001b[1;32m   4937\u001b[0m         \"\"\"\n\u001b[0;32m-> 4938\u001b[0;31m         \u001b[0mmerge_result\u001b[0m \u001b[0;34m=\u001b[0m \u001b[0mdataset_update_method\u001b[0m\u001b[0;34m(\u001b[0m\u001b[0mself\u001b[0m\u001b[0;34m,\u001b[0m \u001b[0mother\u001b[0m\u001b[0;34m)\u001b[0m\u001b[0;34m\u001b[0m\u001b[0;34m\u001b[0m\u001b[0m\n\u001b[0m\u001b[1;32m   4939\u001b[0m         \u001b[0;32mreturn\u001b[0m \u001b[0mself\u001b[0m\u001b[0;34m.\u001b[0m\u001b[0m_replace\u001b[0m\u001b[0;34m(\u001b[0m\u001b[0minplace\u001b[0m\u001b[0;34m=\u001b[0m\u001b[0;32mTrue\u001b[0m\u001b[0;34m,\u001b[0m \u001b[0;34m**\u001b[0m\u001b[0mmerge_result\u001b[0m\u001b[0;34m.\u001b[0m\u001b[0m_asdict\u001b[0m\u001b[0;34m(\u001b[0m\u001b[0;34m)\u001b[0m\u001b[0;34m)\u001b[0m\u001b[0;34m\u001b[0m\u001b[0;34m\u001b[0m\u001b[0m\n\u001b[1;32m   4940\u001b[0m \u001b[0;34m\u001b[0m\u001b[0m\n",
      "\u001b[0;32m~/anaconda3/lib/python3.8/site-packages/xarray/core/merge.py\u001b[0m in \u001b[0;36mdataset_update_method\u001b[0;34m(dataset, other)\u001b[0m\n\u001b[1;32m   1102\u001b[0m                     \u001b[0mother\u001b[0m\u001b[0;34m[\u001b[0m\u001b[0mkey\u001b[0m\u001b[0;34m]\u001b[0m \u001b[0;34m=\u001b[0m \u001b[0mvalue\u001b[0m\u001b[0;34m.\u001b[0m\u001b[0mdrop_vars\u001b[0m\u001b[0;34m(\u001b[0m\u001b[0mcoord_names\u001b[0m\u001b[0;34m)\u001b[0m\u001b[0;34m\u001b[0m\u001b[0;34m\u001b[0m\u001b[0m\n\u001b[1;32m   1103\u001b[0m \u001b[0;34m\u001b[0m\u001b[0m\n\u001b[0;32m-> 1104\u001b[0;31m     return merge_core(\n\u001b[0m\u001b[1;32m   1105\u001b[0m         \u001b[0;34m[\u001b[0m\u001b[0mdataset\u001b[0m\u001b[0;34m,\u001b[0m \u001b[0mother\u001b[0m\u001b[0;34m]\u001b[0m\u001b[0;34m,\u001b[0m\u001b[0;34m\u001b[0m\u001b[0;34m\u001b[0m\u001b[0m\n\u001b[1;32m   1106\u001b[0m         \u001b[0mpriority_arg\u001b[0m\u001b[0;34m=\u001b[0m\u001b[0;36m1\u001b[0m\u001b[0;34m,\u001b[0m\u001b[0;34m\u001b[0m\u001b[0;34m\u001b[0m\u001b[0m\n",
      "\u001b[0;32m~/anaconda3/lib/python3.8/site-packages/xarray/core/merge.py\u001b[0m in \u001b[0;36mmerge_core\u001b[0;34m(objects, compat, join, combine_attrs, priority_arg, explicit_coords, indexes, fill_value)\u001b[0m\n\u001b[1;32m    759\u001b[0m     )\n\u001b[1;32m    760\u001b[0m \u001b[0;34m\u001b[0m\u001b[0m\n\u001b[0;32m--> 761\u001b[0;31m     \u001b[0mdims\u001b[0m \u001b[0;34m=\u001b[0m \u001b[0mcalculate_dimensions\u001b[0m\u001b[0;34m(\u001b[0m\u001b[0mvariables\u001b[0m\u001b[0;34m)\u001b[0m\u001b[0;34m\u001b[0m\u001b[0;34m\u001b[0m\u001b[0m\n\u001b[0m\u001b[1;32m    762\u001b[0m \u001b[0;34m\u001b[0m\u001b[0m\n\u001b[1;32m    763\u001b[0m     \u001b[0mcoord_names\u001b[0m\u001b[0;34m,\u001b[0m \u001b[0mnoncoord_names\u001b[0m \u001b[0;34m=\u001b[0m \u001b[0mdetermine_coords\u001b[0m\u001b[0;34m(\u001b[0m\u001b[0mcoerced\u001b[0m\u001b[0;34m)\u001b[0m\u001b[0;34m\u001b[0m\u001b[0;34m\u001b[0m\u001b[0m\n",
      "\u001b[0;32m~/anaconda3/lib/python3.8/site-packages/xarray/core/variable.py\u001b[0m in \u001b[0;36mcalculate_dimensions\u001b[0;34m(variables)\u001b[0m\n\u001b[1;32m   3206\u001b[0m                 \u001b[0mlast_used\u001b[0m\u001b[0;34m[\u001b[0m\u001b[0mdim\u001b[0m\u001b[0;34m]\u001b[0m \u001b[0;34m=\u001b[0m \u001b[0mk\u001b[0m\u001b[0;34m\u001b[0m\u001b[0;34m\u001b[0m\u001b[0m\n\u001b[1;32m   3207\u001b[0m             \u001b[0;32melif\u001b[0m \u001b[0mdims\u001b[0m\u001b[0;34m[\u001b[0m\u001b[0mdim\u001b[0m\u001b[0;34m]\u001b[0m \u001b[0;34m!=\u001b[0m \u001b[0msize\u001b[0m\u001b[0;34m:\u001b[0m\u001b[0;34m\u001b[0m\u001b[0;34m\u001b[0m\u001b[0m\n\u001b[0;32m-> 3208\u001b[0;31m                 raise ValueError(\n\u001b[0m\u001b[1;32m   3209\u001b[0m                     \u001b[0;34mf\"conflicting sizes for dimension {dim!r}: \"\u001b[0m\u001b[0;34m\u001b[0m\u001b[0;34m\u001b[0m\u001b[0m\n\u001b[1;32m   3210\u001b[0m                     \u001b[0;34mf\"length {size} on {k!r} and length {dims[dim]} on {last_used!r}\"\u001b[0m\u001b[0;34m\u001b[0m\u001b[0;34m\u001b[0m\u001b[0m\n",
      "\u001b[0;31mValueError\u001b[0m: conflicting sizes for dimension 'concat_dim': length 3 on 'concat_dim' and length 2 on {'L': 'L', 'p_ctrl': 'p_ctrl', 'p_proj': 'p_proj', 'trial': 'trial', 'concat_dim': 'O'}"
     ]
    }
   ],
   "source": [
    "ds=add_new_data(ds,data)"
   ]
  },
  {
   "cell_type": "code",
   "execution_count": null,
   "metadata": {},
   "outputs": [],
   "source": [
    "# Extract data where p_proj=0\n",
    "subset = ds.sel(param_p_proj=0)\n",
    "\n",
    "# Compute the average of 'O' across the trial dimension\n",
    "average_O = subset['O'].mean(dim='trial')\n"
   ]
  },
  {
   "cell_type": "code",
   "execution_count": null,
   "metadata": {},
   "outputs": [],
   "source": []
  },
  {
   "cell_type": "code",
   "execution_count": 89,
   "metadata": {},
   "outputs": [],
   "source": [
    "with open(os.path.join('Data','CT_En2000_pctrl(0.00,1.00,11)_pproj(0.00,0.00,1)_L(10,14,2)_xj(1-3,2-3)_seed0_es2000_64.pickle'),'rb') as f:\n",
    "    data=pickle.load(f)"
   ]
  },
  {
   "cell_type": "code",
   "execution_count": 96,
   "metadata": {},
   "outputs": [],
   "source": [
    "\n"
   ]
  },
  {
   "cell_type": "code",
   "execution_count": 151,
   "metadata": {},
   "outputs": [
    {
     "data": {
      "text/plain": [
       "array([0. , 0.1, 0.2, 0.3, 0.4, 0.5, 0.6, 0.7, 0.8, 0.9, 1. ])"
      ]
     },
     "execution_count": 151,
     "metadata": {},
     "output_type": "execute_result"
    }
   ],
   "source": [
    "np.round(np.linspace(0,1,11),3)"
   ]
  },
  {
   "cell_type": "code",
   "execution_count": 291,
   "metadata": {},
   "outputs": [],
   "source": [
    "def add_to_dict(data_dict,data,filename):\n",
    "    if filename in data_dict['fn']:\n",
    "        print(f'File duplicated: {filename}' )\n",
    "    else:\n",
    "        data_dict['fn'].append(filename)\n",
    "        L_list=np.arange(*data['args'].L)\n",
    "        p_ctrl_list=np.round(np.linspace(data['args'].p_ctrl[0],data['args'].p_ctrl[1],int(data['args'].p_ctrl[2])),3)\n",
    "        p_proj_list=np.round(np.linspace(data['args'].p_proj[0],data['args'].p_proj[1],int(data['args'].p_proj[2])),3)\n",
    "        for key in ['O','EE','TMI']:\n",
    "            for L_idx,L in enumerate(L_list):\n",
    "                for p_ctrl_idx,p_ctrl in enumerate(p_ctrl_list):\n",
    "                    for p_proj_idx,p_proj in enumerate(p_proj_list):\n",
    "                            observations=data[key][L_idx,p_ctrl_idx,p_proj_idx]\n",
    "                            if torch.is_tensor(observations):\n",
    "                                observations=observations.cpu().tolist()\n",
    "                            params=(key,L,p_ctrl,p_proj)\n",
    "                            if params in data_dict:\n",
    "                                data_dict[params]=data_dict[params]+observations\n",
    "                            else:\n",
    "                                data_dict[params]=observations\n",
    "                    \n",
    "\n"
   ]
  },
  {
   "cell_type": "code",
   "execution_count": 330,
   "metadata": {},
   "outputs": [],
   "source": [
    "data_dict={'fn':[]}"
   ]
  },
  {
   "cell_type": "markdown",
   "metadata": {},
   "source": [
    "## pctrl [0,1,11], p_proj[0,0,1] L(8,10,2)"
   ]
  },
  {
   "cell_type": "code",
   "execution_count": 331,
   "metadata": {},
   "outputs": [],
   "source": [
    "fn='CT_En2000_pctrl(0.00,1.00,11)_pproj(0.00,0.00,1)_L(8,10,2)_xj(1-3,2-3)_seed0_es2000_64.pickle'\n",
    "with open(os.path.join('Data',fn),'rb') as f:\n",
    "    data=pickle.load(f)\n",
    "add_to_dict(data_dict, data,fn)"
   ]
  },
  {
   "cell_type": "markdown",
   "metadata": {},
   "source": [
    "## pctrl [0,1,11], p_proj[0,0,1] L(10,14,2)"
   ]
  },
  {
   "cell_type": "code",
   "execution_count": 301,
   "metadata": {},
   "outputs": [],
   "source": [
    "fn='CT_En2000_pctrl(0.00,1.00,11)_pproj(0.00,0.00,1)_L(10,14,2)_xj(1-3,2-3)_seed0_es2000_64.pickle'\n",
    "with open(os.path.join('Data',fn),'rb') as f:\n",
    "    data=pickle.load(f)\n",
    "add_to_dict(data_dict, data,fn)"
   ]
  },
  {
   "cell_type": "markdown",
   "metadata": {},
   "source": [
    "## pctrl [0,1,11], p_proj[0,0,1] L(14,16,2)"
   ]
  },
  {
   "cell_type": "code",
   "execution_count": 302,
   "metadata": {},
   "outputs": [],
   "source": [
    "fn='CT_En2000_pctrl(0.00,1.00,11)_pproj(0.00,0.00,1)_L(14,16,2)_xj(1-3,2-3)_seed0_es2000_64.pickle'\n",
    "with open(os.path.join('Data',fn),'rb') as f:\n",
    "    data=pickle.load(f)\n",
    "add_to_dict(data_dict, data,fn)"
   ]
  },
  {
   "cell_type": "markdown",
   "metadata": {},
   "source": [
    "## pctrl [0,1,11], p_proj[0,0,1] L(16,18,2)"
   ]
  },
  {
   "cell_type": "code",
   "execution_count": 303,
   "metadata": {},
   "outputs": [],
   "source": [
    "fn='CT_En2000_pctrl(0.00,1.00,11)_pproj(0.00,0.00,1)_L(16,18,2)_xj(1-3,2-3)_seed0_es2000_64.pickle'\n",
    "with open(os.path.join('Data',fn),'rb') as f:\n",
    "    data=pickle.load(f)\n",
    "add_to_dict(data_dict, data,fn)"
   ]
  },
  {
   "cell_type": "markdown",
   "metadata": {},
   "source": [
    "## pctrl [0,1,11], p_proj[0,0,1] L(18,20,2)"
   ]
  },
  {
   "cell_type": "code",
   "execution_count": 304,
   "metadata": {},
   "outputs": [],
   "source": [
    "for s in range(2):\n",
    "    fn=f'CT_En1000_pctrl(0.00,1.00,11)_pproj(0.00,0.00,1)_L(18,20,2)_xj(1-3,2-3)_seed{s}_es1000_64.pickle'\n",
    "    with open(os.path.join('Data',fn),'rb') as f:\n",
    "        data=pickle.load(f)\n",
    "    add_to_dict(data_dict, data,fn)"
   ]
  },
  {
   "cell_type": "markdown",
   "metadata": {},
   "source": [
    "## pctrl [0,1,11], p_proj[0,0,1] L(20,22,2)"
   ]
  },
  {
   "cell_type": "code",
   "execution_count": 305,
   "metadata": {},
   "outputs": [],
   "source": [
    "for s in range(2):\n",
    "    for p_ctrl in np.linspace(0,1,11):\n",
    "        fn=f'CT_En1000_pctrl({p_ctrl:.2f},{p_ctrl:.2f},1)_pproj(0.00,0.00,1)_L(20,22,2)_xj(1-3,2-3)_seed{s}_es1000_64.pickle'\n",
    "        with open(os.path.join('Data',fn),'rb') as f:\n",
    "            data=pickle.load(f)\n",
    "        add_to_dict(data_dict, data,fn)"
   ]
  },
  {
   "cell_type": "markdown",
   "metadata": {},
   "source": [
    "## pctrl [0,1,11], p_proj[0,0,1] L(22,24,2)"
   ]
  },
  {
   "cell_type": "code",
   "execution_count": 306,
   "metadata": {},
   "outputs": [],
   "source": [
    "for s in range(10):\n",
    "    for p_ctrl in np.linspace(0,1,11):\n",
    "        fn=f'CT_En200_pctrl({p_ctrl:.2f},{p_ctrl:.2f},1)_pproj(0.00,0.00,1)_L(22,24,2)_xj(1-3,2-3)_seed{s}_es200_64.pickle'\n",
    "        with open(os.path.join('Data',fn),'rb') as f:\n",
    "            data=pickle.load(f)\n",
    "        add_to_dict(data_dict, data,fn)"
   ]
  },
  {
   "cell_type": "markdown",
   "metadata": {},
   "source": [
    "## pctrl [0,1,11], p_proj[0,0,1] L(24,26,2)"
   ]
  },
  {
   "cell_type": "code",
   "execution_count": 308,
   "metadata": {},
   "outputs": [
    {
     "name": "stdout",
     "output_type": "stream",
     "text": [
      "File missing: CT_En80_pctrl(0.70,0.70,1)_pproj(0.00,0.00,1)_L(24,26,2)_xj(1-3,2-3)_seed0_es80_64.pickle\n",
      "File missing: CT_En80_pctrl(0.90,0.90,1)_pproj(0.00,0.00,1)_L(24,26,2)_xj(1-3,2-3)_seed0_es80_64.pickle\n",
      "File missing: CT_En80_pctrl(1.00,1.00,1)_pproj(0.00,0.00,1)_L(24,26,2)_xj(1-3,2-3)_seed0_es80_64.pickle\n",
      "File missing: CT_En80_pctrl(0.90,0.90,1)_pproj(0.00,0.00,1)_L(24,26,2)_xj(1-3,2-3)_seed1_es80_64.pickle\n",
      "File missing: CT_En80_pctrl(1.00,1.00,1)_pproj(0.00,0.00,1)_L(24,26,2)_xj(1-3,2-3)_seed1_es80_64.pickle\n",
      "File missing: CT_En80_pctrl(0.90,0.90,1)_pproj(0.00,0.00,1)_L(24,26,2)_xj(1-3,2-3)_seed2_es80_64.pickle\n",
      "File missing: CT_En80_pctrl(0.90,0.90,1)_pproj(0.00,0.00,1)_L(24,26,2)_xj(1-3,2-3)_seed3_es80_64.pickle\n",
      "File missing: CT_En80_pctrl(1.00,1.00,1)_pproj(0.00,0.00,1)_L(24,26,2)_xj(1-3,2-3)_seed3_es80_64.pickle\n",
      "File missing: CT_En80_pctrl(0.90,0.90,1)_pproj(0.00,0.00,1)_L(24,26,2)_xj(1-3,2-3)_seed4_es80_64.pickle\n",
      "File missing: CT_En80_pctrl(1.00,1.00,1)_pproj(0.00,0.00,1)_L(24,26,2)_xj(1-3,2-3)_seed4_es80_64.pickle\n",
      "File missing: CT_En80_pctrl(0.90,0.90,1)_pproj(0.00,0.00,1)_L(24,26,2)_xj(1-3,2-3)_seed5_es80_64.pickle\n",
      "File missing: CT_En80_pctrl(1.00,1.00,1)_pproj(0.00,0.00,1)_L(24,26,2)_xj(1-3,2-3)_seed5_es80_64.pickle\n",
      "File missing: CT_En80_pctrl(0.90,0.90,1)_pproj(0.00,0.00,1)_L(24,26,2)_xj(1-3,2-3)_seed6_es80_64.pickle\n",
      "File missing: CT_En80_pctrl(1.00,1.00,1)_pproj(0.00,0.00,1)_L(24,26,2)_xj(1-3,2-3)_seed6_es80_64.pickle\n",
      "File missing: CT_En80_pctrl(0.90,0.90,1)_pproj(0.00,0.00,1)_L(24,26,2)_xj(1-3,2-3)_seed7_es80_64.pickle\n",
      "File missing: CT_En80_pctrl(1.00,1.00,1)_pproj(0.00,0.00,1)_L(24,26,2)_xj(1-3,2-3)_seed7_es80_64.pickle\n",
      "File missing: CT_En80_pctrl(0.90,0.90,1)_pproj(0.00,0.00,1)_L(24,26,2)_xj(1-3,2-3)_seed8_es80_64.pickle\n",
      "File missing: CT_En80_pctrl(1.00,1.00,1)_pproj(0.00,0.00,1)_L(24,26,2)_xj(1-3,2-3)_seed8_es80_64.pickle\n",
      "File missing: CT_En80_pctrl(0.90,0.90,1)_pproj(0.00,0.00,1)_L(24,26,2)_xj(1-3,2-3)_seed9_es80_64.pickle\n",
      "File missing: CT_En80_pctrl(1.00,1.00,1)_pproj(0.00,0.00,1)_L(24,26,2)_xj(1-3,2-3)_seed9_es80_64.pickle\n",
      "File missing: CT_En80_pctrl(0.90,0.90,1)_pproj(0.00,0.00,1)_L(24,26,2)_xj(1-3,2-3)_seed10_es80_64.pickle\n",
      "File missing: CT_En80_pctrl(0.90,0.90,1)_pproj(0.00,0.00,1)_L(24,26,2)_xj(1-3,2-3)_seed11_es80_64.pickle\n",
      "File missing: CT_En80_pctrl(1.00,1.00,1)_pproj(0.00,0.00,1)_L(24,26,2)_xj(1-3,2-3)_seed11_es80_64.pickle\n",
      "File missing: CT_En80_pctrl(0.90,0.90,1)_pproj(0.00,0.00,1)_L(24,26,2)_xj(1-3,2-3)_seed12_es80_64.pickle\n",
      "File missing: CT_En80_pctrl(1.00,1.00,1)_pproj(0.00,0.00,1)_L(24,26,2)_xj(1-3,2-3)_seed12_es80_64.pickle\n",
      "File missing: CT_En80_pctrl(0.80,0.80,1)_pproj(0.00,0.00,1)_L(24,26,2)_xj(1-3,2-3)_seed13_es80_64.pickle\n",
      "File missing: CT_En80_pctrl(0.90,0.90,1)_pproj(0.00,0.00,1)_L(24,26,2)_xj(1-3,2-3)_seed13_es80_64.pickle\n",
      "File missing: CT_En80_pctrl(1.00,1.00,1)_pproj(0.00,0.00,1)_L(24,26,2)_xj(1-3,2-3)_seed13_es80_64.pickle\n",
      "File missing: CT_En80_pctrl(0.80,0.80,1)_pproj(0.00,0.00,1)_L(24,26,2)_xj(1-3,2-3)_seed14_es80_64.pickle\n",
      "File missing: CT_En80_pctrl(0.90,0.90,1)_pproj(0.00,0.00,1)_L(24,26,2)_xj(1-3,2-3)_seed14_es80_64.pickle\n",
      "File missing: CT_En80_pctrl(1.00,1.00,1)_pproj(0.00,0.00,1)_L(24,26,2)_xj(1-3,2-3)_seed14_es80_64.pickle\n",
      "File missing: CT_En80_pctrl(0.90,0.90,1)_pproj(0.00,0.00,1)_L(24,26,2)_xj(1-3,2-3)_seed15_es80_64.pickle\n",
      "File missing: CT_En80_pctrl(1.00,1.00,1)_pproj(0.00,0.00,1)_L(24,26,2)_xj(1-3,2-3)_seed15_es80_64.pickle\n",
      "File missing: CT_En80_pctrl(0.90,0.90,1)_pproj(0.00,0.00,1)_L(24,26,2)_xj(1-3,2-3)_seed16_es80_64.pickle\n",
      "File missing: CT_En80_pctrl(1.00,1.00,1)_pproj(0.00,0.00,1)_L(24,26,2)_xj(1-3,2-3)_seed16_es80_64.pickle\n",
      "File missing: CT_En80_pctrl(0.90,0.90,1)_pproj(0.00,0.00,1)_L(24,26,2)_xj(1-3,2-3)_seed17_es80_64.pickle\n",
      "File missing: CT_En80_pctrl(1.00,1.00,1)_pproj(0.00,0.00,1)_L(24,26,2)_xj(1-3,2-3)_seed17_es80_64.pickle\n",
      "File missing: CT_En80_pctrl(0.90,0.90,1)_pproj(0.00,0.00,1)_L(24,26,2)_xj(1-3,2-3)_seed18_es80_64.pickle\n",
      "File missing: CT_En80_pctrl(1.00,1.00,1)_pproj(0.00,0.00,1)_L(24,26,2)_xj(1-3,2-3)_seed18_es80_64.pickle\n",
      "File missing: CT_En80_pctrl(0.90,0.90,1)_pproj(0.00,0.00,1)_L(24,26,2)_xj(1-3,2-3)_seed19_es80_64.pickle\n",
      "File missing: CT_En80_pctrl(1.00,1.00,1)_pproj(0.00,0.00,1)_L(24,26,2)_xj(1-3,2-3)_seed19_es80_64.pickle\n",
      "File missing: CT_En80_pctrl(0.90,0.90,1)_pproj(0.00,0.00,1)_L(24,26,2)_xj(1-3,2-3)_seed20_es80_64.pickle\n",
      "File missing: CT_En80_pctrl(0.90,0.90,1)_pproj(0.00,0.00,1)_L(24,26,2)_xj(1-3,2-3)_seed21_es80_64.pickle\n",
      "File missing: CT_En80_pctrl(1.00,1.00,1)_pproj(0.00,0.00,1)_L(24,26,2)_xj(1-3,2-3)_seed21_es80_64.pickle\n",
      "File missing: CT_En80_pctrl(0.90,0.90,1)_pproj(0.00,0.00,1)_L(24,26,2)_xj(1-3,2-3)_seed22_es80_64.pickle\n",
      "File missing: CT_En80_pctrl(1.00,1.00,1)_pproj(0.00,0.00,1)_L(24,26,2)_xj(1-3,2-3)_seed22_es80_64.pickle\n",
      "File missing: CT_En80_pctrl(0.90,0.90,1)_pproj(0.00,0.00,1)_L(24,26,2)_xj(1-3,2-3)_seed23_es80_64.pickle\n",
      "File missing: CT_En80_pctrl(1.00,1.00,1)_pproj(0.00,0.00,1)_L(24,26,2)_xj(1-3,2-3)_seed23_es80_64.pickle\n",
      "File missing: CT_En80_pctrl(0.80,0.80,1)_pproj(0.00,0.00,1)_L(24,26,2)_xj(1-3,2-3)_seed24_es80_64.pickle\n",
      "File missing: CT_En80_pctrl(0.90,0.90,1)_pproj(0.00,0.00,1)_L(24,26,2)_xj(1-3,2-3)_seed24_es80_64.pickle\n",
      "File missing: CT_En80_pctrl(1.00,1.00,1)_pproj(0.00,0.00,1)_L(24,26,2)_xj(1-3,2-3)_seed24_es80_64.pickle\n"
     ]
    }
   ],
   "source": [
    "for s in range(25):\n",
    "    for p_ctrl in np.linspace(0,1,11):\n",
    "        fn=f'CT_En80_pctrl({p_ctrl:.2f},{p_ctrl:.2f},1)_pproj(0.00,0.00,1)_L(24,26,2)_xj(1-3,2-3)_seed{s}_es80_64.pickle'\n",
    "        try:\n",
    "            with open(os.path.join('Data',fn),'rb') as f:\n",
    "                data=pickle.load(f)\n",
    "        except:\n",
    "            print(f'File missing: {fn}')\n",
    "        add_to_dict(data_dict, data,fn)"
   ]
  },
  {
   "cell_type": "code",
   "execution_count": null,
   "metadata": {},
   "outputs": [],
   "source": []
  },
  {
   "cell_type": "markdown",
   "metadata": {},
   "source": [
    "## pctrl [0,1,11], p_proj[0,0,1] L(24,26,2)"
   ]
  },
  {
   "cell_type": "code",
   "execution_count": 332,
   "metadata": {},
   "outputs": [],
   "source": [
    "for s in range(1):\n",
    "    for p_ctrl in np.linspace(0,1,11)[1:]:\n",
    "        for p_proj in np.linspace(0,1,11):\n",
    "            fn=f'CT_En2000_pctrl({p_ctrl:.2f},{p_ctrl:.2f},1)_pproj({p_proj:.2f},{p_proj:.2f},1)_L(10,12,2)_xj(1-3,2-3)_seed{s}_es2000_64.pickle'\n",
    "            try:\n",
    "                with open(os.path.join('Data',fn),'rb') as f:\n",
    "                    data=pickle.load(f)\n",
    "            except:\n",
    "                print(f'File missing: {fn}')\n",
    "            add_to_dict(data_dict, data,fn)"
   ]
  },
  {
   "cell_type": "markdown",
   "metadata": {},
   "source": [
    "## Convert to pandas"
   ]
  },
  {
   "cell_type": "code",
   "execution_count": 334,
   "metadata": {},
   "outputs": [],
   "source": [
    "index = pd.MultiIndex.from_tuples([key for key in data_dict.keys() if key!='fn'], names=['Metrics','L', 'p_ctrl', 'p_proj'])"
   ]
  },
  {
   "cell_type": "code",
   "execution_count": 335,
   "metadata": {},
   "outputs": [],
   "source": [
    "df = pd.DataFrame({'observations': [val for key,val in data_dict.items() if key!='fn']}, index=index)\n"
   ]
  },
  {
   "cell_type": "code",
   "execution_count": 336,
   "metadata": {},
   "outputs": [
    {
     "data": {
      "text/plain": [
       "Metrics  L   p_ctrl  p_proj\n",
       "O        10  0.1     0.0       2000\n",
       "                     0.1       2000\n",
       "                     0.2       2000\n",
       "                     0.3       2000\n",
       "                     0.4       2000\n",
       "                               ... \n",
       "             1.0     0.6       2000\n",
       "                     0.7       2000\n",
       "                     0.8       2000\n",
       "                     0.9       2000\n",
       "                     1.0       2000\n",
       "Name: observations, Length: 110, dtype: int64"
      ]
     },
     "execution_count": 336,
     "metadata": {},
     "output_type": "execute_result"
    }
   ],
   "source": [
    "df.query(\"Metrics=='O' and L==10\")['observations'].apply(len)"
   ]
  },
  {
   "cell_type": "code",
   "execution_count": 337,
   "metadata": {},
   "outputs": [
    {
     "data": {
      "text/plain": [
       "Int64Index([8, 10], dtype='int64', name='L')"
      ]
     },
     "execution_count": 337,
     "metadata": {},
     "output_type": "execute_result"
    }
   ],
   "source": [
    "df.index.get_level_values('L').unique()"
   ]
  },
  {
   "cell_type": "code",
   "execution_count": 246,
   "metadata": {},
   "outputs": [],
   "source": [
    "import matplotlib.pyplot as plt"
   ]
  },
  {
   "cell_type": "code",
   "execution_count": 318,
   "metadata": {},
   "outputs": [
    {
     "data": {
      "text/plain": [
       "Text(0.5, 0, '$p_{ctrl}$')"
      ]
     },
     "execution_count": 318,
     "metadata": {},
     "output_type": "execute_result"
    },
    {
     "data": {
      "image/png": "[encoded data removed]",
      "text/plain": [
       "<Figure size 640x480 with 1 Axes>"
      ]
     },
     "metadata": {},
     "output_type": "display_data"
    }
   ],
   "source": [
    "fig,ax=plt.subplots()\n",
    "for L in df.index.get_level_values('L').unique():\n",
    "    dd=df.xs(key='O',level='Metrics').xs(key=L,level='L')['observations'].apply(lambda obs: sum(obs) / len(obs) if obs else None)\n",
    "    ax.plot(dd.index.get_level_values('p_ctrl'),dd,'.-',label=f'L={L}')\n",
    "    # ax.plot(p_ctrl_list,data['O'][i,:,p_proj_idx].mean(axis=-1),'.-',label=f'L={L_list[i]}')\n",
    "ax.legend()\n",
    "ax.axvline(x=0.48,ls='dashed',color='k')\n",
    "ax.axhline(y=0.5,ls='dashed',color='k')\n",
    "# ax.set_xlim([.2,.8])\n",
    "ax.set_ylim([0,1])\n",
    "ax.set_title(f'$p_{{proj}}={p_proj_list[p_proj_idx]:.3f}$')\n",
    "ax.set_ylabel(r'$\\overline{\\langle O \\rangle}$')\n",
    "ax.set_xlabel('$p_{ctrl}$')"
   ]
  },
  {
   "cell_type": "code",
   "execution_count": null,
   "metadata": {},
   "outputs": [],
   "source": [
    "subset = df.xs(key=0, level='first_index')  # Slicing by first index\n"
   ]
  },
  {
   "cell_type": "code",
   "execution_count": 79,
   "metadata": {},
   "outputs": [
    {
     "name": "stdout",
     "output_type": "stream",
     "text": [
      "                          observations\n",
      "second_index third_index              \n",
      "0            0               [1, 2, 3]\n",
      "             1                  [4, 5]\n",
      "1            0            [6, 7, 8, 9]\n"
     ]
    }
   ],
   "source": [
    "# Access data by slicing\n",
    "subset = df.xs(key=0, level='first_index')  # Slicing by first index\n",
    "print(subset)\n"
   ]
  },
  {
   "cell_type": "code",
   "execution_count": 84,
   "metadata": {},
   "outputs": [],
   "source": [
    "subset=df.loc[(0,slice(None),0),:]"
   ]
  },
  {
   "cell_type": "code",
   "execution_count": 85,
   "metadata": {},
   "outputs": [
    {
     "data": {
      "text/html": [
       "<div>\n",
       "<style scoped>\n",
       "    .dataframe tbody tr th:only-of-type {\n",
       "        vertical-align: middle;\n",
       "    }\n",
       "\n",
       "    .dataframe tbody tr th {\n",
       "        vertical-align: top;\n",
       "    }\n",
       "\n",
       "    .dataframe thead th {\n",
       "        text-align: right;\n",
       "    }\n",
       "</style>\n",
       "<table border=\"1\" class=\"dataframe\">\n",
       "  <thead>\n",
       "    <tr style=\"text-align: right;\">\n",
       "      <th></th>\n",
       "      <th></th>\n",
       "      <th></th>\n",
       "      <th>observations</th>\n",
       "    </tr>\n",
       "    <tr>\n",
       "      <th>first_index</th>\n",
       "      <th>second_index</th>\n",
       "      <th>third_index</th>\n",
       "      <th></th>\n",
       "    </tr>\n",
       "  </thead>\n",
       "  <tbody>\n",
       "    <tr>\n",
       "      <th rowspan=\"2\" valign=\"top\">0</th>\n",
       "      <th>0</th>\n",
       "      <th>0</th>\n",
       "      <td>[1, 2, 3]</td>\n",
       "    </tr>\n",
       "    <tr>\n",
       "      <th>1</th>\n",
       "      <th>0</th>\n",
       "      <td>[6, 7, 8, 9]</td>\n",
       "    </tr>\n",
       "  </tbody>\n",
       "</table>\n",
       "</div>"
      ],
      "text/plain": [
       "                                      observations\n",
       "first_index second_index third_index              \n",
       "0           0            0               [1, 2, 3]\n",
       "            1            0            [6, 7, 8, 9]"
      ]
     },
     "execution_count": 85,
     "metadata": {},
     "output_type": "execute_result"
    }
   ],
   "source": [
    "subset"
   ]
  },
  {
   "cell_type": "code",
   "execution_count": 86,
   "metadata": {},
   "outputs": [
    {
     "name": "stdout",
     "output_type": "stream",
     "text": [
      "first_index  second_index  third_index\n",
      "0            0             0              2.0\n",
      "             1             0              7.5\n",
      "Name: observations, dtype: float64\n"
     ]
    }
   ],
   "source": [
    "\n",
    "# Compute mean over the observations in the slice\n",
    "mean_values = subset['observations'].apply(lambda obs: sum(obs) / len(obs) if obs else None)\n",
    "print(mean_values)"
   ]
  },
  {
   "cell_type": "code",
   "execution_count": 345,
   "metadata": {},
   "outputs": [],
   "source": [
    "dd_O=df.xs(key='O',level='Metrics').xs(key=10,level='L')['observations'].apply(lambda obs: sum(obs) / len(obs) if obs else None)\n",
    "# ax.plot(dd.index.get_level_values('p_ctrl'),dd,'.-',label=f'L={L}')"
   ]
  },
  {
   "cell_type": "code",
   "execution_count": 350,
   "metadata": {},
   "outputs": [],
   "source": [
    "dd_TMI=df.xs(key='TMI',level='Metrics').xs(key=10,level='L')['observations'].apply(lambda obs: sum(obs) / len(obs) if obs else None)\n",
    "# ax.plot(dd.index.get_level_values('p_ctrl'),dd,'.-',label=f'L={L}')"
   ]
  },
  {
   "cell_type": "code",
   "execution_count": 347,
   "metadata": {},
   "outputs": [
    {
     "data": {
      "text/plain": [
       "<matplotlib.collections.PolyCollection at 0x7fe56e607b20>"
      ]
     },
     "execution_count": 347,
     "metadata": {},
     "output_type": "execute_result"
    },
    {
     "data": {
      "image/png": "[encoded data removed]",
      "text/plain": [
       "<Figure size 640x480 with 1 Axes>"
      ]
     },
     "metadata": {},
     "output_type": "display_data"
    }
   ],
   "source": [
    "plt.tripcolor(dd_O.index.get_level_values('p_ctrl'),dd_O.index.get_level_values('p_proj'),dd_O)"
   ]
  },
  {
   "cell_type": "code",
   "execution_count": 352,
   "metadata": {},
   "outputs": [
    {
     "data": {
      "text/plain": [
       "<matplotlib.colorbar.Colorbar at 0x7fe56e8340d0>"
      ]
     },
     "execution_count": 352,
     "metadata": {},
     "output_type": "execute_result"
    },
    {
     "data": {
      "image/png": "[encoded data removed]",
      "text/plain": [
       "<Figure size 640x480 with 2 Axes>"
      ]
     },
     "metadata": {},
     "output_type": "display_data"
    }
   ],
   "source": [
    "plt.tripcolor(dd_TMI.index.get_level_values('p_ctrl'),dd_TMI.index.get_level_values('p_proj'),np.tanh(dd_TMI))\n",
    "plt.colorbar()"
   ]
  },
  {
   "cell_type": "code",
   "execution_count": 339,
   "metadata": {},
   "outputs": [
    {
     "data": {
      "text/html": [
       "<div>\n",
       "<style scoped>\n",
       "    .dataframe tbody tr th:only-of-type {\n",
       "        vertical-align: middle;\n",
       "    }\n",
       "\n",
       "    .dataframe tbody tr th {\n",
       "        vertical-align: top;\n",
       "    }\n",
       "\n",
       "    .dataframe thead th {\n",
       "        text-align: right;\n",
       "    }\n",
       "</style>\n",
       "<table border=\"1\" class=\"dataframe\">\n",
       "  <thead>\n",
       "    <tr style=\"text-align: right;\">\n",
       "      <th></th>\n",
       "      <th></th>\n",
       "      <th>observations</th>\n",
       "    </tr>\n",
       "    <tr>\n",
       "      <th>p_ctrl</th>\n",
       "      <th>p_proj</th>\n",
       "      <th></th>\n",
       "    </tr>\n",
       "  </thead>\n",
       "  <tbody>\n",
       "    <tr>\n",
       "      <th rowspan=\"5\" valign=\"top\">0.1</th>\n",
       "      <th>0.0</th>\n",
       "      <td>[0.11355884373188019, -0.006186807062476873, 0...</td>\n",
       "    </tr>\n",
       "    <tr>\n",
       "      <th>0.1</th>\n",
       "      <td>[-0.05787568911910057, 0.12830987572669983, 0....</td>\n",
       "    </tr>\n",
       "    <tr>\n",
       "      <th>0.2</th>\n",
       "      <td>[-0.07296345382928848, 0.1639474779367447, 0.0...</td>\n",
       "    </tr>\n",
       "    <tr>\n",
       "      <th>0.3</th>\n",
       "      <td>[0.11032654345035553, 0.13042622804641724, -0....</td>\n",
       "    </tr>\n",
       "    <tr>\n",
       "      <th>0.4</th>\n",
       "      <td>[0.14246736466884613, 0.0904230922460556, 0.30...</td>\n",
       "    </tr>\n",
       "    <tr>\n",
       "      <th>...</th>\n",
       "      <th>...</th>\n",
       "      <td>...</td>\n",
       "    </tr>\n",
       "    <tr>\n",
       "      <th rowspan=\"5\" valign=\"top\">1.0</th>\n",
       "      <th>0.6</th>\n",
       "      <td>[1.0, 1.0, 1.0, 1.0, 1.0, 1.0, 1.0, 1.0, 1.0, ...</td>\n",
       "    </tr>\n",
       "    <tr>\n",
       "      <th>0.7</th>\n",
       "      <td>[1.0, 1.0, 1.0, 1.0, 1.0, 1.0, 1.0, 1.0, 1.0, ...</td>\n",
       "    </tr>\n",
       "    <tr>\n",
       "      <th>0.8</th>\n",
       "      <td>[1.0, 1.0, 1.0, 1.0, 1.0, 1.0, 1.0, 1.0, 1.0, ...</td>\n",
       "    </tr>\n",
       "    <tr>\n",
       "      <th>0.9</th>\n",
       "      <td>[1.0, 1.0, 1.0, 1.0, 1.0, 1.0, 1.0, 1.0, 1.0, ...</td>\n",
       "    </tr>\n",
       "    <tr>\n",
       "      <th>1.0</th>\n",
       "      <td>[1.0, 1.0, 1.0, 1.0, 1.0, 1.0, 1.0, 1.0, 1.0, ...</td>\n",
       "    </tr>\n",
       "  </tbody>\n",
       "</table>\n",
       "<p>110 rows × 1 columns</p>\n",
       "</div>"
      ],
      "text/plain": [
       "                                                    observations\n",
       "p_ctrl p_proj                                                   \n",
       "0.1    0.0     [0.11355884373188019, -0.006186807062476873, 0...\n",
       "       0.1     [-0.05787568911910057, 0.12830987572669983, 0....\n",
       "       0.2     [-0.07296345382928848, 0.1639474779367447, 0.0...\n",
       "       0.3     [0.11032654345035553, 0.13042622804641724, -0....\n",
       "       0.4     [0.14246736466884613, 0.0904230922460556, 0.30...\n",
       "...                                                          ...\n",
       "1.0    0.6     [1.0, 1.0, 1.0, 1.0, 1.0, 1.0, 1.0, 1.0, 1.0, ...\n",
       "       0.7     [1.0, 1.0, 1.0, 1.0, 1.0, 1.0, 1.0, 1.0, 1.0, ...\n",
       "       0.8     [1.0, 1.0, 1.0, 1.0, 1.0, 1.0, 1.0, 1.0, 1.0, ...\n",
       "       0.9     [1.0, 1.0, 1.0, 1.0, 1.0, 1.0, 1.0, 1.0, 1.0, ...\n",
       "       1.0     [1.0, 1.0, 1.0, 1.0, 1.0, 1.0, 1.0, 1.0, 1.0, ...\n",
       "\n",
       "[110 rows x 1 columns]"
      ]
     },
     "execution_count": 339,
     "metadata": {},
     "output_type": "execute_result"
    }
   ],
   "source": [
    "df.xs(key='O',level='Metrics').xs(key=10,level='L')"
   ]
  },
  {
   "cell_type": "code",
   "execution_count": null,
   "metadata": {},
   "outputs": [],
   "source": []
  }
 ],
 "metadata": {
  "kernelspec": {
   "display_name": "base",
   "language": "python",
   "name": "python3"
  },
  "language_info": {
   "codemirror_mode": {
    "name": "ipython",
    "version": 3
   },
   "file_extension": ".py",
   "mimetype": "text/x-python",
   "name": "python",
   "nbconvert_exporter": "python",
   "pygments_lexer": "ipython3",
   "version": "3.8.11"
  }
 },
 "nbformat": 4,
 "nbformat_minor": 2
}
