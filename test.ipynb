{
 "cells": [
  {
   "cell_type": "code",
   "execution_count": 435,
   "metadata": {},
   "outputs": [],
   "source": [
    "import matplotlib.pyplot as plt\n",
    "from tqdm import tqdm\n"
   ]
  },
  {
   "cell_type": "code",
   "execution_count": 470,
   "metadata": {},
   "outputs": [
    {
     "name": "stdout",
     "output_type": "stream",
     "text": [
      "Overwriting CT.py\n"
     ]
    }
   ],
   "source": [
    "%%writefile CT.py\n",
    "import numpy as np\n",
    "from functools import reduce\n",
    "import scipy.sparse as sp\n",
    "class CT_classical:\n",
    "    def __init__(self,L,history=False,seed=None,x0=None):\n",
    "        '''\n",
    "        \n",
    "        if classical is False: save using an array of 2^L\n",
    "        '''\n",
    "        self.L=L\n",
    "        self.history=history\n",
    "        self.rng=np.random.default_rng(seed)\n",
    "        self.x0=self.rng.random() if x0 is None else x0\n",
    "        self.op_history=[]  # control: true, Bernoulli: false\n",
    "        self.binary=self._initialize_binary([1/6,1/3])\n",
    "\n",
    "        self.vec=self._initialize_vector()\n",
    "        self.vec_history=[self.vec]\n",
    "    def _initialize_vector(self):\n",
    "        '''save using an array of L'''\n",
    "        vec=dec2bin(self.x0,self.L)\n",
    "        return vec\n",
    "    def _initialize_binary(self,x_list):\n",
    "        return {x:dec2bin(x, self.L) for x in x_list}\n",
    "\n",
    "    def Bernoulli_map(self,vec):\n",
    "        vec=np.roll(vec,-1)\n",
    "        vec[-2:]=self.rng.permutation(vec[-2:])        \n",
    "        return vec\n",
    "    \n",
    "    def control_map(self,vec):\n",
    "        vec[-1]=0\n",
    "        vec=np.roll(vec,1)\n",
    "        if vec[1]==0:\n",
    "            # attract to 1/3\n",
    "            vec=add_binary(vec,self.binary[1/6])\n",
    "        else:\n",
    "            # attract to 2/3\n",
    "            vec=add_binary(vec,self.binary[1/3])\n",
    "        return vec\n",
    "\n",
    "    def random_control(self,p):\n",
    "        '''\n",
    "        p: the control probability\n",
    "        '''\n",
    "        p0=self.rng.random()\n",
    "        vec=self.vec_history[-1].copy()\n",
    "        if p0<p:\n",
    "            vec=self.control_map(vec)\n",
    "        else:\n",
    "            vec=self.Bernoulli_map(vec)\n",
    "        if self.history:\n",
    "            self.vec_history.append(vec)\n",
    "            self.op_history.append((p0<p))\n",
    "        else:\n",
    "            self.vec_history=[vec]\n",
    "            self.op_history=[(p0<p)]\n",
    "\n",
    "    def order_parameter(self):\n",
    "        vec=self.vec_history[-1].copy()\n",
    "        vec_Z=2*vec-1\n",
    "        vec_Z_shift=np.roll(vec_Z,1)\n",
    "        return -vec_Z@vec_Z_shift/self.L\n",
    "\n",
    "class CT_quantum:\n",
    "    def __init__(self,L,history=False,seed=None,x0=None):\n",
    "        '''save using an array of 2^L'''\n",
    "        self.L=L\n",
    "        self.history=history\n",
    "        self.rng=np.random.default_rng(seed)\n",
    "        self.x0=self.rng.random() if x0 is None else x0\n",
    "        self.op_history=[]  # control: true, Bernoulli: false\n",
    "        self.vec=self._initialize_vector()\n",
    "        self.vec_history=[self.vec]\n",
    "        self.T={'L':T(self.L,left=True),'R':T(self.L,left=False)}\n",
    "    \n",
    "    def _initialize_vector(self):\n",
    "        '''save using an array of 2^L'''\n",
    "        vec_int=int(''.join(map(str,dec2bin(self.x0,self.L))),2)\n",
    "        vec=np.zeros((2**self.L))\n",
    "        vec[vec_int]=1\n",
    "        return vec\n",
    "\n",
    "    def Bernoulli_map(self,vec):\n",
    "        vec=self.T['L']@vec\n",
    "        vec=T(vec)\n",
    "        vec=S(m,vec)\n",
    "        return vec\n",
    "    \n",
    "    def control_map(self,vec):\n",
    "        vec[-1]=0\n",
    "        vec=np.roll(vec,1)\n",
    "        if vec[1]==0:\n",
    "            # attract to 1/3\n",
    "            vec=add_binary(vec,self.binary[1/6])\n",
    "        else:\n",
    "            # attract to 2/3\n",
    "            vec=add_binary(vec,self.binary[1/3])\n",
    "        return vec\n",
    "\n",
    "def dec2bin(x,L):\n",
    "    '''\n",
    "    convert a float number x in [0,1) to the binary form with maximal length of L, where the leading 0 is truncated\n",
    "    Example, 1/3 is 010101...\n",
    "    '''\n",
    "    assert 0<=x<1, f'{x} is not in [0,1)'\n",
    "    bits=[]\n",
    "    for _ in range(L):\n",
    "        x*=2\n",
    "        bits.append(int(x))\n",
    "        x-=int(x)\n",
    "    return np.array(bits,dtype=int)\n",
    "\n",
    "def add_binary(vec1,vec2):\n",
    "    ''' adder for two `vec1` and `vec2`\n",
    "    both are np.array\n",
    "    return vec1\n",
    "    '''\n",
    "    assert vec1.shape[0]==vec2.shape[0], f'len of {vec1.shape[0]} is not same as len of {vec2.shape[0]}'\n",
    "    vec_bin1=int(''.join(map(str,vec1)),2)\n",
    "    vec_bin2=int(''.join(map(str,vec2)),2)\n",
    "    vec_bin1=vec_bin1+vec_bin2\n",
    "    vec1_sum=bin(vec_bin1)[2:]\n",
    "    vec1_sum=vec1_sum.rjust(vec1.shape[0],'0')\n",
    "    \n",
    "    vec1_sum=list(map(int,list(vec1_sum)))\n",
    "    if len(vec1_sum)>(vec1.shape[0]):\n",
    "        return np.array(vec1_sum[1:]) #drop carry\n",
    "    else:\n",
    "        return np.array(vec1_sum)\n",
    "\n",
    "def T(L,left=True):\n",
    "    '''\n",
    "    circular right shift the computational basis `vec` : \n",
    "    a_{L-1} a_{L-2}.. a_{1} a_{0} -> right shift -> a_{0} a_{L-1} a_{L-2}.. a_{1} \n",
    "    a_{L-1} a_{L-2}.. a_{1} a_{0} -> left shift -> a_{L-2}.. a_{1} a_{0} a_{L-1}\n",
    "    '''\n",
    "    SWAP=sp.csr_array([[1,0,0,0],[0,0,1,0],[0,1,0,0],[0,0,0,1]],dtype=int)\n",
    "    I2=sp.eye(2,dtype=int)\n",
    "    op_list=[I2]*(L-1)\n",
    "    kron_list=lambda x: reduce(sp.kron,x)\n",
    "    rs=sp.eye(2**L,dtype=int)\n",
    "    idx_list=np.arange(L-1)[::-1] if left else np.arange(L-1)\n",
    "    for i in idx_list:\n",
    "        op_list[i]=SWAP\n",
    "        rs=rs@kron_list(op_list)\n",
    "        op_list[i]=I2\n",
    "    return rs"
   ]
  },
  {
   "cell_type": "code",
   "execution_count": 466,
   "metadata": {},
   "outputs": [],
   "source": [
    "def     "
   ]
  },
  {
   "cell_type": "code",
   "execution_count": 467,
   "metadata": {},
   "outputs": [
    {
     "data": {
      "text/plain": [
       "[array([0]),\n",
       " array([2]),\n",
       " array([4]),\n",
       " array([6]),\n",
       " array([1]),\n",
       " array([3]),\n",
       " array([5]),\n",
       " array([7])]"
      ]
     },
     "execution_count": 467,
     "metadata": {},
     "output_type": "execute_result"
    }
   ],
   "source": [
    "[np.where(T(3).toarray()@np.eye(2**3)[x])[0] for x in range(2**3)]"
   ]
  },
  {
   "cell_type": "code",
   "execution_count": 468,
   "metadata": {},
   "outputs": [
    {
     "data": {
      "text/plain": [
       "[array([0]),\n",
       " array([4]),\n",
       " array([1]),\n",
       " array([5]),\n",
       " array([2]),\n",
       " array([6]),\n",
       " array([3]),\n",
       " array([7])]"
      ]
     },
     "execution_count": 468,
     "metadata": {},
     "output_type": "execute_result"
    }
   ],
   "source": [
    "[np.where(T(3,left=False).toarray()@np.eye(2**3)[x])[0] for x in range(2**3)]"
   ]
  },
  {
   "cell_type": "code",
   "execution_count": 430,
   "metadata": {},
   "outputs": [],
   "source": [
    "ct=CT_quantum(L=6,x0=1/2,seed=0,history=True)"
   ]
  },
  {
   "cell_type": "code",
   "execution_count": 431,
   "metadata": {},
   "outputs": [
    {
     "data": {
      "text/plain": [
       "array([0., 0., 0., 0., 0., 0., 0., 0., 0., 0., 0., 0., 0., 0., 0., 0., 0.,\n",
       "       0., 0., 0., 0., 0., 0., 0., 0., 0., 0., 0., 0., 0., 0., 0., 1., 0.,\n",
       "       0., 0., 0., 0., 0., 0., 0., 0., 0., 0., 0., 0., 0., 0., 0., 0., 0.,\n",
       "       0., 0., 0., 0., 0., 0., 0., 0., 0., 0., 0., 0., 0.])"
      ]
     },
     "execution_count": 431,
     "metadata": {},
     "output_type": "execute_result"
    }
   ],
   "source": [
    "ct.vec"
   ]
  },
  {
   "cell_type": "code",
   "execution_count": 433,
   "metadata": {},
   "outputs": [
    {
     "data": {
      "text/plain": [
       "(array([32]),)"
      ]
     },
     "execution_count": 433,
     "metadata": {},
     "output_type": "execute_result"
    }
   ],
   "source": [
    "np.where(ct.vec==1)"
   ]
  },
  {
   "cell_type": "code",
   "execution_count": 434,
   "metadata": {},
   "outputs": [
    {
     "data": {
      "text/plain": [
       "(64,)"
      ]
     },
     "execution_count": 434,
     "metadata": {},
     "output_type": "execute_result"
    }
   ],
   "source": [
    "ct.vec.shape"
   ]
  },
  {
   "cell_type": "code",
   "execution_count": 34,
   "metadata": {},
   "outputs": [
    {
     "data": {
      "text/plain": [
       "array([1, 2, 3, 0])"
      ]
     },
     "execution_count": 34,
     "metadata": {},
     "output_type": "execute_result"
    }
   ],
   "source": [
    "np.roll(np.arange(4),-1)"
   ]
  },
  {
   "cell_type": "code",
   "execution_count": 35,
   "metadata": {},
   "outputs": [
    {
     "data": {
      "text/plain": [
       "array([2, 1, 0, 3])"
      ]
     },
     "execution_count": 35,
     "metadata": {},
     "output_type": "execute_result"
    }
   ],
   "source": [
    "np.random.permutation(np.arange(4))"
   ]
  },
  {
   "cell_type": "code",
   "execution_count": null,
   "metadata": {},
   "outputs": [],
   "source": []
  },
  {
   "cell_type": "code",
   "execution_count": 192,
   "metadata": {},
   "outputs": [],
   "source": []
  },
  {
   "cell_type": "code",
   "execution_count": 183,
   "metadata": {},
   "outputs": [
    {
     "data": {
      "text/plain": [
       "[0, 0, 0, 1]"
      ]
     },
     "execution_count": 183,
     "metadata": {},
     "output_type": "execute_result"
    }
   ],
   "source": [
    "add_binary(np.array([1,1,1,0]), np.array([0,0,1,1]))"
   ]
  },
  {
   "cell_type": "code",
   "execution_count": null,
   "metadata": {},
   "outputs": [],
   "source": [
    "def bin2dec(vec):\n",
    "    '''\n",
    "    convert vec to decimal\n",
    "    vec: np.array of L\n",
    "    '''\n",
    "    "
   ]
  },
  {
   "cell_type": "markdown",
   "metadata": {},
   "source": [
    "# Classical "
   ]
  },
  {
   "cell_type": "code",
   "execution_count": 471,
   "metadata": {},
   "outputs": [],
   "source": [
    "def run_classical(inputs):\n",
    "    L,p,idx=inputs\n",
    "    ct=CT_classical(L=L,x0=None,seed=idx,history=True)\n",
    "    for _ in range(ct.L**2):\n",
    "        ct.random_control(p=p)\n",
    "    return ct.order_parameter()\n",
    "    "
   ]
  },
  {
   "cell_type": "code",
   "execution_count": 359,
   "metadata": {},
   "outputs": [],
   "source": [
    "def run_classical_thermalization(inputs):\n",
    "    L,p,idx=inputs\n",
    "    ct=CT_classical(L=L,x0=None,seed=idx,history=True)\n",
    "    O_list=[]\n",
    "    for _ in range(ct.L**2):\n",
    "        ct.random_control(p=p)\n",
    "        O_list.append(ct.order_parameter())\n",
    "    return np.array(O_list)"
   ]
  },
  {
   "cell_type": "code",
   "execution_count": 472,
   "metadata": {},
   "outputs": [],
   "source": [
    "from ipyparallel import Client\n",
    "client = Client()"
   ]
  },
  {
   "cell_type": "code",
   "execution_count": 473,
   "metadata": {},
   "outputs": [],
   "source": [
    "dview = client[:]"
   ]
  },
  {
   "cell_type": "code",
   "execution_count": 474,
   "metadata": {},
   "outputs": [
    {
     "data": {
      "text/plain": [
       "True"
      ]
     },
     "execution_count": 474,
     "metadata": {},
     "output_type": "execute_result"
    }
   ],
   "source": [
    "dview.execute('import numpy as np').wait()\n",
    "dview.execute('from CT import *').wait()"
   ]
  },
  {
   "cell_type": "code",
   "execution_count": 484,
   "metadata": {},
   "outputs": [],
   "source": [
    "L_list=np.array([40,60,80])\n",
    "p_list=np.linspace(0,1,11)\n",
    "ensemble=100\n",
    "inputs=[(L,p,idx) for L in L_list for p in p_list for idx in range(ensemble)]"
   ]
  },
  {
   "cell_type": "code",
   "execution_count": 485,
   "metadata": {},
   "outputs": [],
   "source": [
    "results = dview.map_async(run_classical, inputs)\n"
   ]
  },
  {
   "cell_type": "code",
   "execution_count": 486,
   "metadata": {},
   "outputs": [
    {
     "data": {
      "text/plain": [
       "0"
      ]
     },
     "execution_count": 486,
     "metadata": {},
     "output_type": "execute_result"
    }
   ],
   "source": [
    "results.progress"
   ]
  },
  {
   "cell_type": "code",
   "execution_count": 487,
   "metadata": {},
   "outputs": [],
   "source": [
    "O_map=list(results)"
   ]
  },
  {
   "cell_type": "code",
   "execution_count": 481,
   "metadata": {},
   "outputs": [],
   "source": [
    "O_map=np.array(O_map).reshape((L_list.shape[0],p_list.shape[0],ensemble))"
   ]
  },
  {
   "cell_type": "code",
   "execution_count": 482,
   "metadata": {},
   "outputs": [
    {
     "data": {
      "text/plain": [
       "(3, 11, 50)"
      ]
     },
     "execution_count": 482,
     "metadata": {},
     "output_type": "execute_result"
    }
   ],
   "source": [
    "O_map.shape"
   ]
  },
  {
   "cell_type": "code",
   "execution_count": 483,
   "metadata": {},
   "outputs": [
    {
     "data": {
      "text/plain": [
       "<matplotlib.legend.Legend at 0x7f0468215d30>"
      ]
     },
     "execution_count": 483,
     "metadata": {},
     "output_type": "execute_result"
    },
    {
     "data": {
      "image/png": "[encoded data removed]",
      "text/plain": [
       "<Figure size 640x480 with 1 Axes>"
      ]
     },
     "metadata": {},
     "output_type": "display_data"
    }
   ],
   "source": [
    "fig,ax=plt.subplots()\n",
    "for i in range(O_map.shape[0]):\n",
    "    ax.plot(p_list,O_map[i].mean(axis=-1),label=f'L={L_list[i]}')\n",
    "ax.legend()\n",
    "# plt.plot(p_list,O_map.mean(axis=-1).T)"
   ]
  },
  {
   "cell_type": "code",
   "execution_count": null,
   "metadata": {},
   "outputs": [
    {
     "data": {
      "text/plain": [
       "<matplotlib.legend.Legend at 0x7f0468864d00>"
      ]
     },
     "metadata": {},
     "output_type": "display_data"
    },
    {
     "data": {
      "image/png": "[encoded data removed]",
      "text/plain": [
       "<Figure size 640x480 with 1 Axes>"
      ]
     },
     "metadata": {},
     "output_type": "display_data"
    }
   ],
   "source": [
    "fig,ax=plt.subplots()\n",
    "for i in range(O_map.shape[0]):\n",
    "    ax.plot(p_list,O_map[i].mean(axis=-1),label=f'L={L_list[i]}')\n",
    "ax.legend()\n",
    "# plt.plot(p_list,O_map.mean(axis=-1).T)"
   ]
  },
  {
   "cell_type": "code",
   "execution_count": 413,
   "metadata": {},
   "outputs": [],
   "source": [
    "# L_list=np.array([20,40,60])\n",
    "# p_list=np.linspace(0,1,11)\n",
    "ensemble=50\n",
    "inputs=[(40,.95,idx) for idx in range(ensemble)]"
   ]
  },
  {
   "cell_type": "code",
   "execution_count": 414,
   "metadata": {},
   "outputs": [],
   "source": [
    "results_thermalization = dview.map_async(run_classical_thermalization, inputs)"
   ]
  },
  {
   "cell_type": "code",
   "execution_count": 415,
   "metadata": {},
   "outputs": [
    {
     "data": {
      "text/plain": [
       "0"
      ]
     },
     "execution_count": 415,
     "metadata": {},
     "output_type": "execute_result"
    }
   ],
   "source": [
    "results_thermalization.progress"
   ]
  },
  {
   "cell_type": "code",
   "execution_count": 416,
   "metadata": {},
   "outputs": [],
   "source": [
    "O_map_therm=list(results_thermalization)"
   ]
  },
  {
   "cell_type": "code",
   "execution_count": 418,
   "metadata": {},
   "outputs": [
    {
     "data": {
      "text/plain": [
       "<matplotlib.lines.Line2D at 0x7f04681bab50>"
      ]
     },
     "execution_count": 418,
     "metadata": {},
     "output_type": "execute_result"
    },
    {
     "data": {
      "image/png": "[encoded data removed]",
      "text/plain": [
       "<Figure size 640x480 with 1 Axes>"
      ]
     },
     "metadata": {},
     "output_type": "display_data"
    }
   ],
   "source": [
    "plt.plot(np.array(O_map_therm).mean(axis=0))\n",
    "plt.axvline(x=40)"
   ]
  },
  {
   "cell_type": "code",
   "execution_count": 420,
   "metadata": {},
   "outputs": [
    {
     "data": {
      "text/plain": [
       "array([[ 0.2, -0.1,  0.2, ...,  0.9,  0.9,  0.9],\n",
       "       [-0.1,  0.1, -0.2, ...,  0.9,  0.9,  0.9],\n",
       "       [ 0.1,  0. ,  0. , ...,  0.9,  0.9,  0.9],\n",
       "       ...,\n",
       "       [ 0.1,  0.1,  0.2, ...,  0.9,  0.9,  0.9],\n",
       "       [ 0.3, -0.2,  0.4, ...,  0.9,  0.9,  0.9],\n",
       "       [ 0. ,  0. ,  0.1, ...,  0.9,  0.9,  0.9]])"
      ]
     },
     "execution_count": 420,
     "metadata": {},
     "output_type": "execute_result"
    }
   ],
   "source": [
    "np.array(O_map_therm)"
   ]
  },
  {
   "cell_type": "code",
   "execution_count": 382,
   "metadata": {},
   "outputs": [
    {
     "ename": "ValueError",
     "evalue": "cannot reshape array of size 80000 into shape (50,)",
     "output_type": "error",
     "traceback": [
      "\u001b[0;31m---------------------------------------------------------------------------\u001b[0m",
      "\u001b[0;31mValueError\u001b[0m                                Traceback (most recent call last)",
      "\u001b[0;32m/tmp/ipykernel_31702/2861000945.py\u001b[0m in \u001b[0;36m<module>\u001b[0;34m\u001b[0m\n\u001b[0;32m----> 1\u001b[0;31m \u001b[0mO_map_therm\u001b[0m\u001b[0;34m=\u001b[0m\u001b[0mnp\u001b[0m\u001b[0;34m.\u001b[0m\u001b[0marray\u001b[0m\u001b[0;34m(\u001b[0m\u001b[0mO_map_therm\u001b[0m\u001b[0;34m)\u001b[0m\u001b[0;34m.\u001b[0m\u001b[0mreshape\u001b[0m\u001b[0;34m(\u001b[0m\u001b[0;34m(\u001b[0m\u001b[0mensemble\u001b[0m\u001b[0;34m,\u001b[0m\u001b[0;34m)\u001b[0m\u001b[0;34m)\u001b[0m\u001b[0;34m\u001b[0m\u001b[0;34m\u001b[0m\u001b[0m\n\u001b[0m",
      "\u001b[0;31mValueError\u001b[0m: cannot reshape array of size 80000 into shape (50,)"
     ]
    }
   ],
   "source": [
    "O_map_therm=np.array(O_map_therm).reshape((ensemble,))"
   ]
  },
  {
   "cell_type": "code",
   "execution_count": null,
   "metadata": {},
   "outputs": [],
   "source": []
  },
  {
   "cell_type": "code",
   "execution_count": 292,
   "metadata": {},
   "outputs": [
    {
     "data": {
      "text/plain": [
       "0.0"
      ]
     },
     "execution_count": 292,
     "metadata": {},
     "output_type": "execute_result"
    }
   ],
   "source": [
    "run_classical((20,0.1,1))"
   ]
  },
  {
   "cell_type": "code",
   "execution_count": 361,
   "metadata": {},
   "outputs": [
    {
     "data": {
      "text/plain": [
       "[<matplotlib.lines.Line2D at 0x7f0468887fa0>]"
      ]
     },
     "execution_count": 361,
     "metadata": {},
     "output_type": "execute_result"
    },
    {
     "data": {
      "image/png": "[encoded data removed]",
      "text/plain": [
       "<Figure size 640x480 with 1 Axes>"
      ]
     },
     "metadata": {},
     "output_type": "display_data"
    }
   ],
   "source": [
    "plt.plot(run_classical_thermalization((20,0.1,1)))"
   ]
  },
  {
   "cell_type": "code",
   "execution_count": 251,
   "metadata": {},
   "outputs": [
    {
     "name": "stderr",
     "output_type": "stream",
     "text": [
      "0it [00:00, ?it/s]"
     ]
    },
    {
     "name": "stderr",
     "output_type": "stream",
     "text": [
      "100%|██████████| 20/20 [00:00<00:00, 26.60it/s][A\n",
      "100%|██████████| 20/20 [00:00<00:00, 37.55it/s]\n",
      "100%|██████████| 20/20 [00:00<00:00, 36.65it/s]\n",
      "100%|██████████| 20/20 [00:00<00:00, 35.35it/s]\n",
      "100%|██████████| 20/20 [00:00<00:00, 36.69it/s]\n",
      "100%|██████████| 20/20 [00:00<00:00, 20.81it/s]\n",
      "100%|██████████| 20/20 [00:00<00:00, 27.10it/s]\n",
      "100%|██████████| 20/20 [00:00<00:00, 27.53it/s]\n",
      "100%|██████████| 20/20 [00:00<00:00, 25.85it/s]\n",
      "100%|██████████| 20/20 [00:00<00:00, 25.30it/s]\n",
      "100%|██████████| 20/20 [00:00<00:00, 24.71it/s]\n",
      "11it [00:07,  1.40it/s]\n"
     ]
    }
   ],
   "source": [
    "def \n",
    "p_list=np.linspace(0,1,11)\n",
    "ensemble=20\n",
    "O_list=np.zeros((p_list.shape[0],ensemble))\n",
    "for p_idx,p in tqdm(enumerate(p_list)):\n",
    "    for idx in tqdm(range(ensemble)):\n",
    "        ct=CT(L=20,classical=True,x0=1/6,seed=idx,history=True)\n",
    "        for _ in range(ct.L**2):\n",
    "            ct.random_control(p=p)\n",
    "        O_list[p_idx,idx]=(ct.order_parameter())"
   ]
  },
  {
   "cell_type": "code",
   "execution_count": 253,
   "metadata": {},
   "outputs": [
    {
     "data": {
      "text/plain": [
       "(11, 20)"
      ]
     },
     "execution_count": 253,
     "metadata": {},
     "output_type": "execute_result"
    }
   ],
   "source": [
    "O_list.shape"
   ]
  },
  {
   "cell_type": "code",
   "execution_count": 254,
   "metadata": {},
   "outputs": [
    {
     "data": {
      "text/plain": [
       "[<matplotlib.lines.Line2D at 0x7f049ea15520>]"
      ]
     },
     "execution_count": 254,
     "metadata": {},
     "output_type": "execute_result"
    },
    {
     "data": {
      "image/png": "[encoded data removed]",
      "text/plain": [
       "<Figure size 640x480 with 1 Axes>"
      ]
     },
     "metadata": {},
     "output_type": "display_data"
    }
   ],
   "source": [
    "plt.plot(O_list.mean(axis=-1))"
   ]
  },
  {
   "cell_type": "code",
   "execution_count": 245,
   "metadata": {},
   "outputs": [
    {
     "data": {
      "text/plain": [
       "[<matplotlib.lines.Line2D at 0x7f049eb524c0>]"
      ]
     },
     "execution_count": 245,
     "metadata": {},
     "output_type": "execute_result"
    },
    {
     "data": {
      "image/png": "[encoded data removed]",
      "text/plain": [
       "<Figure size 640x480 with 1 Axes>"
      ]
     },
     "metadata": {},
     "output_type": "display_data"
    }
   ],
   "source": [
    "plt.plot(O_list)"
   ]
  },
  {
   "cell_type": "code",
   "execution_count": 233,
   "metadata": {},
   "outputs": [
    {
     "data": {
      "text/plain": [
       "[array([0, 0, 1, 0, 1, 0, 1, 0, 1, 0]),\n",
       " array([0, 0, 1, 1, 1, 1, 1, 1, 1, 1]),\n",
       " array([0, 1, 0, 0, 1, 0, 1, 0, 0, 1]),\n",
       " array([0, 1, 0, 0, 1, 1, 1, 1, 1, 0]),\n",
       " array([0, 1, 0, 1, 0, 0, 1, 0, 0, 1]),\n",
       " array([1, 0, 1, 0, 0, 1, 0, 0, 1, 0]),\n",
       " array([1, 0, 1, 0, 0, 1, 1, 1, 1, 0]),\n",
       " array([1, 0, 1, 0, 1, 0, 0, 1, 0, 0]),\n",
       " array([1, 0, 1, 0, 1, 0, 0, 1, 1, 1]),\n",
       " array([0, 1, 0, 1, 0, 0, 1, 1, 1, 1]),\n",
       " array([0, 1, 0, 1, 0, 1, 0, 0, 0, 1]),\n",
       " array([1, 0, 1, 0, 1, 0, 0, 0, 0, 1]),\n",
       " array([1, 0, 1, 0, 1, 0, 0, 1, 0, 1]),\n",
       " array([0, 1, 0, 1, 0, 0, 1, 0, 1, 1]),\n",
       " array([0, 1, 0, 1, 0, 0, 1, 1, 1, 1]),\n",
       " array([0, 1, 0, 1, 0, 1, 0, 0, 0, 1]),\n",
       " array([0, 1, 0, 1, 0, 1, 0, 0, 1, 0]),\n",
       " array([0, 1, 0, 1, 0, 1, 0, 0, 1, 1]),\n",
       " array([0, 1, 0, 1, 0, 1, 0, 0, 1, 1]),\n",
       " array([0, 1, 0, 1, 0, 1, 0, 0, 1, 1]),\n",
       " array([0, 1, 0, 1, 0, 1, 0, 0, 1, 1]),\n",
       " array([0, 1, 0, 1, 0, 1, 0, 0, 1, 1]),\n",
       " array([1, 0, 1, 0, 1, 0, 0, 1, 1, 0]),\n",
       " array([1, 0, 1, 0, 1, 0, 1, 0, 0, 0]),\n",
       " array([1, 0, 1, 0, 1, 0, 1, 0, 0, 1]),\n",
       " array([1, 0, 1, 0, 1, 0, 1, 0, 0, 1]),\n",
       " array([1, 0, 1, 0, 1, 0, 1, 0, 0, 1]),\n",
       " array([1, 0, 1, 0, 1, 0, 1, 0, 0, 1]),\n",
       " array([1, 0, 1, 0, 1, 0, 1, 0, 0, 1]),\n",
       " array([1, 0, 1, 0, 1, 0, 1, 0, 0, 1]),\n",
       " array([1, 0, 1, 0, 1, 0, 1, 0, 0, 1]),\n",
       " array([0, 1, 0, 1, 0, 1, 0, 1, 0, 1]),\n",
       " array([0, 1, 0, 1, 0, 1, 0, 1, 0, 0]),\n",
       " array([0, 1, 0, 1, 0, 1, 0, 1, 0, 0]),\n",
       " array([0, 1, 0, 1, 0, 1, 0, 1, 0, 0]),\n",
       " array([0, 1, 0, 1, 0, 1, 0, 1, 0, 0]),\n",
       " array([0, 1, 0, 1, 0, 1, 0, 1, 0, 0]),\n",
       " array([0, 1, 0, 1, 0, 1, 0, 1, 0, 0]),\n",
       " array([1, 0, 1, 0, 1, 0, 1, 0, 0, 0]),\n",
       " array([1, 0, 1, 0, 1, 0, 1, 0, 0, 1]),\n",
       " array([0, 1, 0, 1, 0, 1, 0, 1, 0, 1]),\n",
       " array([1, 0, 1, 0, 1, 0, 1, 0, 0, 1]),\n",
       " array([1, 0, 1, 0, 1, 0, 1, 0, 0, 1]),\n",
       " array([1, 0, 1, 0, 1, 0, 1, 0, 0, 1]),\n",
       " array([1, 0, 1, 0, 1, 0, 1, 0, 0, 1]),\n",
       " array([1, 0, 1, 0, 1, 0, 1, 0, 0, 1]),\n",
       " array([1, 0, 1, 0, 1, 0, 1, 0, 0, 1]),\n",
       " array([1, 0, 1, 0, 1, 0, 1, 0, 0, 1]),\n",
       " array([1, 0, 1, 0, 1, 0, 1, 0, 0, 1]),\n",
       " array([1, 0, 1, 0, 1, 0, 1, 0, 0, 1]),\n",
       " array([1, 0, 1, 0, 1, 0, 1, 0, 0, 1]),\n",
       " array([1, 0, 1, 0, 1, 0, 1, 0, 0, 1]),\n",
       " array([1, 0, 1, 0, 1, 0, 1, 0, 0, 1]),\n",
       " array([1, 0, 1, 0, 1, 0, 1, 0, 0, 1]),\n",
       " array([1, 0, 1, 0, 1, 0, 1, 0, 0, 1]),\n",
       " array([0, 1, 0, 1, 0, 1, 0, 1, 0, 1]),\n",
       " array([0, 1, 0, 1, 0, 1, 0, 1, 0, 0]),\n",
       " array([0, 1, 0, 1, 0, 1, 0, 1, 0, 0]),\n",
       " array([1, 0, 1, 0, 1, 0, 1, 0, 0, 0]),\n",
       " array([0, 1, 0, 1, 0, 1, 0, 0, 1, 0]),\n",
       " array([0, 1, 0, 1, 0, 1, 0, 0, 1, 1]),\n",
       " array([0, 1, 0, 1, 0, 1, 0, 0, 1, 1]),\n",
       " array([1, 0, 1, 0, 1, 0, 0, 0, 1, 1]),\n",
       " array([1, 0, 1, 0, 1, 0, 0, 1, 1, 0]),\n",
       " array([1, 0, 1, 0, 1, 0, 1, 0, 0, 0]),\n",
       " array([1, 0, 1, 0, 1, 0, 1, 0, 0, 1]),\n",
       " array([1, 0, 1, 0, 1, 0, 1, 0, 0, 1]),\n",
       " array([1, 0, 1, 0, 1, 0, 1, 0, 0, 1]),\n",
       " array([1, 0, 1, 0, 1, 0, 1, 0, 0, 1]),\n",
       " array([1, 0, 1, 0, 1, 0, 1, 0, 0, 1]),\n",
       " array([0, 1, 0, 1, 0, 1, 0, 1, 1, 0]),\n",
       " array([0, 1, 0, 1, 0, 1, 0, 1, 0, 1]),\n",
       " array([1, 0, 1, 0, 1, 0, 1, 0, 0, 1]),\n",
       " array([1, 0, 1, 0, 1, 0, 1, 0, 0, 1]),\n",
       " array([0, 1, 0, 1, 0, 1, 0, 0, 1, 1]),\n",
       " array([1, 0, 1, 0, 1, 0, 0, 0, 1, 1]),\n",
       " array([0, 1, 0, 1, 0, 0, 0, 1, 1, 1]),\n",
       " array([1, 0, 1, 0, 0, 0, 1, 1, 0, 1]),\n",
       " array([1, 0, 1, 0, 0, 1, 1, 0, 1, 1]),\n",
       " array([0, 1, 0, 0, 1, 1, 0, 1, 1, 1]),\n",
       " array([0, 1, 0, 1, 0, 0, 0, 1, 0, 1]),\n",
       " array([0, 1, 0, 1, 0, 0, 1, 1, 0, 0]),\n",
       " array([0, 1, 0, 1, 0, 1, 0, 0, 0, 0]),\n",
       " array([1, 0, 1, 0, 1, 0, 0, 0, 0, 0]),\n",
       " array([1, 0, 1, 0, 1, 0, 0, 1, 0, 1]),\n",
       " array([1, 0, 1, 0, 1, 0, 0, 1, 1, 1]),\n",
       " array([1, 0, 1, 0, 1, 0, 1, 0, 0, 0]),\n",
       " array([1, 0, 1, 0, 1, 0, 1, 0, 0, 1]),\n",
       " array([1, 0, 1, 0, 1, 0, 1, 0, 0, 1]),\n",
       " array([1, 0, 1, 0, 1, 0, 1, 0, 0, 1]),\n",
       " array([1, 0, 1, 0, 1, 0, 1, 0, 0, 1]),\n",
       " array([0, 1, 0, 1, 0, 1, 0, 1, 0, 1]),\n",
       " array([1, 0, 1, 0, 1, 0, 1, 1, 0, 0]),\n",
       " array([1, 0, 1, 0, 1, 0, 1, 0, 1, 1]),\n",
       " array([1, 0, 1, 0, 1, 0, 1, 0, 1, 0]),\n",
       " array([0, 1, 0, 1, 0, 1, 0, 1, 0, 1]),\n",
       " array([0, 1, 0, 1, 0, 1, 0, 1, 0, 0]),\n",
       " array([1, 0, 1, 0, 1, 0, 1, 0, 0, 0]),\n",
       " array([1, 0, 1, 0, 1, 0, 1, 0, 0, 1]),\n",
       " array([1, 0, 1, 0, 1, 0, 1, 0, 0, 1]),\n",
       " array([1, 0, 1, 0, 1, 0, 1, 0, 0, 1])]"
      ]
     },
     "execution_count": 233,
     "metadata": {},
     "output_type": "execute_result"
    }
   ],
   "source": [
    "ct.vec_history"
   ]
  },
  {
   "cell_type": "code",
   "execution_count": 197,
   "metadata": {},
   "outputs": [
    {
     "data": {
      "text/plain": [
       "[True, True]"
      ]
     },
     "execution_count": 197,
     "metadata": {},
     "output_type": "execute_result"
    }
   ],
   "source": [
    "ct.op_history"
   ]
  },
  {
   "cell_type": "code",
   "execution_count": 59,
   "metadata": {},
   "outputs": [
    {
     "data": {
      "text/plain": [
       "array([1, 0, 1, 0, 1, 0, 1, 1, 0, 0])"
      ]
     },
     "execution_count": 59,
     "metadata": {},
     "output_type": "execute_result"
    }
   ],
   "source": [
    "ct.Bernoulli_map_classical(ct.vec)"
   ]
  },
  {
   "cell_type": "code",
   "execution_count": 31,
   "metadata": {},
   "outputs": [
    {
     "data": {
      "text/plain": [
       "array([0, 1, 0, 1, 0, 1, 0, 1, 0, 1])"
      ]
     },
     "execution_count": 31,
     "metadata": {},
     "output_type": "execute_result"
    }
   ],
   "source": [
    "ct.vec"
   ]
  },
  {
   "cell_type": "code",
   "execution_count": 18,
   "metadata": {},
   "outputs": [
    {
     "data": {
      "text/plain": [
       "array([1, 0, 0, 0, 0, 0, 0, 0, 0, 0])"
      ]
     },
     "execution_count": 18,
     "metadata": {},
     "output_type": "execute_result"
    }
   ],
   "source": [
    "dec2bin(1/2, 10)"
   ]
  },
  {
   "cell_type": "code",
   "execution_count": 9,
   "metadata": {},
   "outputs": [
    {
     "data": {
      "text/plain": [
       "'0x1.5555555555555p-2'"
      ]
     },
     "execution_count": 9,
     "metadata": {},
     "output_type": "execute_result"
    }
   ],
   "source": [
    "float.hex(1/3)"
   ]
  },
  {
   "cell_type": "code",
   "execution_count": null,
   "metadata": {},
   "outputs": [],
   "source": []
  },
  {
   "cell_type": "code",
   "execution_count": 12,
   "metadata": {},
   "outputs": [
    {
     "data": {
      "text/plain": [
       "2"
      ]
     },
     "execution_count": 12,
     "metadata": {},
     "output_type": "execute_result"
    }
   ],
   "source": []
  },
  {
   "cell_type": "code",
   "execution_count": null,
   "metadata": {},
   "outputs": [],
   "source": []
  }
 ],
 "metadata": {
  "kernelspec": {
   "display_name": "base",
   "language": "python",
   "name": "python3"
  },
  "language_info": {
   "codemirror_mode": {
    "name": "ipython",
    "version": 3
   },
   "file_extension": ".py",
   "mimetype": "text/x-python",
   "name": "python",
   "nbconvert_exporter": "python",
   "pygments_lexer": "ipython3",
   "version": "3.8.11"
  },
  "orig_nbformat": 4
 },
 "nbformat": 4,
 "nbformat_minor": 2
}
