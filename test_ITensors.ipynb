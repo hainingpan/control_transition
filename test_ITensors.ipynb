{
 "cells": [
  {
   "cell_type": "code",
   "execution_count": 1,
   "metadata": {},
   "outputs": [
    {
     "name": "stderr",
     "output_type": "stream",
     "text": [
      "\u001b[32m\u001b[1m  Activating\u001b[22m\u001b[39m project at `/mnt/d/Rutgers/control_transition/test_mod`\n"
     ]
    }
   ],
   "source": [
    "using Pkg\n",
    "Pkg.activate(\"test_mod\")"
   ]
  },
  {
   "cell_type": "code",
   "execution_count": 3,
   "metadata": {},
   "outputs": [],
   "source": [
    "using Revise"
   ]
  },
  {
   "cell_type": "code",
   "execution_count": 4,
   "metadata": {},
   "outputs": [],
   "source": [
    "using test_mod"
   ]
  },
  {
   "cell_type": "code",
   "execution_count": 8,
   "metadata": {},
   "outputs": [
    {
     "name": "stdout",
     "output_type": "stream",
     "text": [
      "Hello World!2"
     ]
    }
   ],
   "source": [
    "test_mod.greet()"
   ]
  },
  {
   "cell_type": "code",
   "execution_count": 2,
   "metadata": {},
   "outputs": [],
   "source": [
    "using Revise\n",
    "using CT"
   ]
  },
  {
   "cell_type": "code",
   "execution_count": 6,
   "metadata": {},
   "outputs": [
    {
     "name": "stdout",
     "output_type": "stream",
     "text": [
      "Hello World! H"
     ]
    }
   ],
   "source": [
    "CT.greet2()"
   ]
  },
  {
   "cell_type": "code",
   "execution_count": 1,
   "metadata": {},
   "outputs": [
    {
     "name": "stderr",
     "output_type": "stream",
     "text": [
      "\u001b[32m\u001b[1m  Activating\u001b[22m\u001b[39m project at `/mnt/d/Rutgers/control_transition/CT`\n",
      "\u001b[32m\u001b[1mPrecompiling\u001b[22m\u001b[39m CT\n",
      "\u001b[32m  ✓ \u001b[39mCT\n",
      "  1 dependency successfully precompiled in 2 seconds. 136 already precompiled.\n"
     ]
    }
   ],
   "source": [
    "using Random\n",
    "using ITensors\n",
    "using Plots\n",
    "using Statistics\n",
    "using BenchmarkTools\n",
    "\n",
    "\n",
    "using Pkg\n",
    "Pkg.activate(\"CT\")\n"
   ]
  },
  {
   "cell_type": "code",
   "execution_count": 13,
   "metadata": {},
   "outputs": [],
   "source": [
    "Revise.revise()"
   ]
  },
  {
   "cell_type": "code",
   "execution_count": 11,
   "metadata": {},
   "outputs": [],
   "source": [
    "Revise.includet(\"CT/src/CT.jl\")"
   ]
  },
  {
   "cell_type": "code",
   "execution_count": 2,
   "metadata": {},
   "outputs": [
    {
     "name": "stderr",
     "output_type": "stream",
     "text": [
      "\u001b[36m\u001b[1m[ \u001b[22m\u001b[39m\u001b[36m\u001b[1mInfo: \u001b[22m\u001b[39mPrecompiling BenchmarkTools [6e4b80f9-dd63-53aa-95a3-0cdb28fa8baf]\n"
     ]
    }
   ],
   "source": [
    "using BenchmarkTools"
   ]
  },
  {
   "cell_type": "code",
   "execution_count": 159,
   "metadata": {},
   "outputs": [],
   "source": [
    "using Plots"
   ]
  },
  {
   "cell_type": "code",
   "execution_count": 26,
   "metadata": {},
   "outputs": [
    {
     "ename": "LoadError",
     "evalue": "UndefVarError: `status` not defined",
     "output_type": "error",
     "traceback": [
      "UndefVarError: `status` not defined",
      "",
      "Stacktrace:",
      " [1] getproperty(x::Module, f::Symbol)",
      "   @ Base ./Base.jl:31",
      " [2] top-level scope",
      "   @ In[26]:1"
     ]
    }
   ],
   "source": [
    "Revise.status()"
   ]
  },
  {
   "cell_type": "code",
   "execution_count": 33,
   "metadata": {},
   "outputs": [],
   "source": [
    "Revise.errors()"
   ]
  },
  {
   "cell_type": "code",
   "execution_count": 18,
   "metadata": {},
   "outputs": [
    {
     "name": "stdout",
     "output_type": "stream",
     "text": [
      "Hello World! How are ?"
     ]
    }
   ],
   "source": [
    "CT.greet()"
   ]
  },
  {
   "cell_type": "code",
   "execution_count": 12,
   "metadata": {},
   "outputs": [
    {
     "data": {
      "text/plain": [
       "CT.CT_MPS(4, true, true, false, 3, nothing, nothing, nothing, Set(Rational{Int64}[2//3, 1//3]), 1.0e-10, 0, false, MersenneTwister(3, (0, 1002, 0, 104)), MersenneTwister(3, (0, 1002, 0, 104)), MersenneTwister(3, (0, 1002, 0, 104)), Index{Int64}[(dim=2|id=689|\"Qubit,Site,n=1\"), (dim=2|id=876|\"Qubit,Site,n=2\"), (dim=2|id=6|\"Qubit,Site,n=3\"), (dim=2|id=155|\"Qubit,Site,n=4\")], [1, 2, 3, 4], [1, 2, 3, 4], [1, 2, 3, 4], 10, 1.0e-10, MPS\n",
       "[1] ((dim=2|id=689|\"Qubit,Site,n=1\"), (dim=8|id=38|\"Link,l=1\"))\n",
       "[2] ((dim=8|id=38|\"Link,l=1\"), (dim=2|id=876|\"Qubit,Site,n=2\"), (dim=4|id=7|\"Link,l=2\"))\n",
       "[3] ((dim=4|id=7|\"Link,l=2\"), (dim=2|id=6|\"Qubit,Site,n=3\"), (dim=2|id=245|\"Link,l=3\"))\n",
       "[4] ((dim=2|id=245|\"Link,l=3\"), (dim=2|id=155|\"Qubit,Site,n=4\"))\n",
       ", MPS[], Vector{Any}[], false)"
      ]
     },
     "execution_count": 12,
     "metadata": {},
     "output_type": "execute_result"
    }
   ],
   "source": [
    "# i=0\n",
    "# ct_f=CT.CT_MPS(L=20,seed=3,folded=true,store_op=false,store_vec=false,ancilla=1)\n",
    "ct=CT.CT_MPS(L=4,seed=3,folded=false,store_op=true,store_vec=true,ancilla=0)"
   ]
  },
  {
   "cell_type": "code",
   "execution_count": 9,
   "metadata": {},
   "outputs": [
    {
     "data": {
      "text/plain": [
       "2×2×2×2 Array{Float64, 4}:\n",
       "[:, :, 1, 1] =\n",
       " -0.50182   0.183979\n",
       " -0.121769  0.270802\n",
       "\n",
       "[:, :, 2, 1] =\n",
       "  0.0232236  -0.224744\n",
       " -0.296457    0.135756\n",
       "\n",
       "[:, :, 1, 2] =\n",
       " -0.230059  -0.174939\n",
       "  0.103051  -0.0863094\n",
       "\n",
       "[:, :, 2, 2] =\n",
       " 0.289718  0.151592\n",
       " 0.16076   0.484191"
      ]
     },
     "execution_count": 9,
     "metadata": {},
     "output_type": "execute_result"
    }
   ],
   "source": [
    "Array(CT.mps_to_tensor(ct.mps),ct.qubit_site)"
   ]
  },
  {
   "cell_type": "code",
   "execution_count": 10,
   "metadata": {},
   "outputs": [],
   "source": [
    "CT.S!(ct,4,MersenneTwister(1))"
   ]
  },
  {
   "cell_type": "code",
   "execution_count": 11,
   "metadata": {},
   "outputs": [
    {
     "data": {
      "text/plain": [
       "2×2×2×2 Array{ComplexF64, 4}:\n",
       "[:, :, 1, 1] =\n",
       " -0.0754587+0.302541im   -0.0789608+0.128054im\n",
       " -0.0140023+0.0241712im    0.126892-0.0991751im\n",
       "\n",
       "[:, :, 2, 1] =\n",
       "   0.133707-0.313589im   -0.0433409-0.211356im\n",
       " -0.0877086+0.0459919im    0.127886-0.252079im\n",
       "\n",
       "[:, :, 1, 2] =\n",
       " -0.0451923+0.297036im  0.0937305-0.0778562im\n",
       "   -0.24414-0.286906im   0.208066+0.196282im\n",
       "\n",
       "[:, :, 2, 2] =\n",
       " -0.116005-0.0503423im   0.187734+0.212365im\n",
       "  -0.19244-0.138413im   -0.142936-0.314863im"
      ]
     },
     "execution_count": 11,
     "metadata": {},
     "output_type": "execute_result"
    }
   ],
   "source": [
    "Array(CT.mps_to_tensor(ct.mps),ct.qubit_site)"
   ]
  },
  {
   "cell_type": "code",
   "execution_count": 110,
   "metadata": {},
   "outputs": [
    {
     "data": {
      "text/plain": [
       "ITensor ord=4 (dim=2|id=366|\"Qubit,Site,n=1\") (dim=2|id=378|\"Qubit,Site,n=4\") (dim=2|id=366|\"Qubit,Site,n=1\")' (dim=2|id=378|\"Qubit,Site,n=4\")'\n",
       "NDTensors.Dense{Float64, Vector{Float64}}"
      ]
     },
     "execution_count": 110,
     "metadata": {},
     "output_type": "execute_result"
    }
   ],
   "source": [
    "U=ITensor(reshape(collect(1:16),4,4),ct.qubit_site[1],ct.qubit_site[4],ct.qubit_site[1]',ct.qubit_site[4]')"
   ]
  },
  {
   "cell_type": "code",
   "execution_count": null,
   "metadata": {},
   "outputs": [],
   "source": []
  },
  {
   "cell_type": "code",
   "execution_count": 10,
   "metadata": {},
   "outputs": [
    {
     "ename": "LoadError",
     "evalue": "UndefVarError: `U` not defined",
     "output_type": "error",
     "traceback": [
      "UndefVarError: `U` not defined",
      "",
      "Stacktrace:",
      " [1] top-level scope",
      "   @ In[10]:1"
     ]
    }
   ],
   "source": [
    "CT.apply_op!(ct.mps,U,1e-10)"
   ]
  },
  {
   "cell_type": "code",
   "execution_count": 112,
   "metadata": {},
   "outputs": [
    {
     "data": {
      "text/plain": [
       "2×2×2×2 Array{Float64, 4}:\n",
       "[:, :, 1, 1] =\n",
       " -1.02333  -0.144472\n",
       " -4.02572   0.629657\n",
       "\n",
       "[:, :, 2, 1] =\n",
       " 0.942505  2.43831\n",
       " 1.65148   4.62549\n",
       "\n",
       "[:, :, 1, 2] =\n",
       "  -7.02811  1.40379\n",
       " -10.0305   2.17791\n",
       "\n",
       "[:, :, 2, 2] =\n",
       " 2.36046  6.81267\n",
       " 3.06944  8.99985"
      ]
     },
     "execution_count": 112,
     "metadata": {},
     "output_type": "execute_result"
    }
   ],
   "source": [
    "Array(CT.mps_to_tensor(ct.mps),ct.qubit_site)"
   ]
  },
  {
   "cell_type": "code",
   "execution_count": 37,
   "metadata": {},
   "outputs": [],
   "source": [
    "function ITensors.op(::OpName\"U1\",::SiteType\"Qubit\",s::Index) \n",
    "    mat = [1. 2; 3 4]\n",
    "    return itensor(mat,s,s')\n",
    "end"
   ]
  },
  {
   "cell_type": "code",
   "execution_count": 125,
   "metadata": {},
   "outputs": [],
   "source": [
    "function ITensors.op(::OpName\"CX\",::SiteType\"Qubit\",s1::Index, s2::Index) \n",
    "    mat =  reshape(collect(1:16),4,4)\n",
    "    return itensor(mat,s1,s2,s1',s2',   )\n",
    "end"
   ]
  },
  {
   "cell_type": "code",
   "execution_count": 34,
   "metadata": {},
   "outputs": [
    {
     "data": {
      "text/plain": [
       "ITensor ord=2 (dim=2|id=164|\"Qubit,Site,n=1\")' (dim=2|id=164|\"Qubit,Site,n=1\")\n",
       "NDTensors.Dense{Float64, Vector{Float64}}"
      ]
     },
     "execution_count": 34,
     "metadata": {},
     "output_type": "execute_result"
    }
   ],
   "source": [
    "op(\"U\",ct.qubit_site[1])"
   ]
  },
  {
   "cell_type": "code",
   "execution_count": 18,
   "metadata": {},
   "outputs": [
    {
     "data": {
      "text/plain": [
       "sum(\n",
       "  1.0 U((dim=2|id=164|\"Qubit,Site,n=1\"),)\n",
       ")"
      ]
     },
     "execution_count": 18,
     "metadata": {},
     "output_type": "execute_result"
    }
   ],
   "source": [
    "os = OpSum()+(\"U\", ct.qubit_site[1])\n"
   ]
  },
  {
   "cell_type": "code",
   "execution_count": 3,
   "metadata": {},
   "outputs": [
    {
     "data": {
      "text/plain": [
       "ITensor ord=4 (dim=2|id=293|\"Qubit,Site,n=2\")' (dim=2|id=706|\"Qubit,Site,n=1\")' (dim=2|id=293|\"Qubit,Site,n=2\") (dim=2|id=706|\"Qubit,Site,n=1\")\n",
       "NDTensors.Dense{Float64, Vector{Float64}}"
      ]
     },
     "execution_count": 3,
     "metadata": {},
     "output_type": "execute_result"
    }
   ],
   "source": [
    "U_gate_eq=op((\"CX\"),ct_2.qubit_site[1],ct_2.qubit_site[2])"
   ]
  },
  {
   "cell_type": "code",
   "execution_count": 2,
   "metadata": {},
   "outputs": [
    {
     "data": {
      "text/plain": [
       "CT.CT_MPS(4, true, true, false, 3, nothing, nothing, nothing, Set(Rational{Int64}[2//3, 1//3]), 1.0e-10, 0, false, MersenneTwister(3, (0, 1002, 0, 104)), MersenneTwister(3, (0, 1002, 0, 104)), MersenneTwister(3, (0, 1002, 0, 104)), Index{Int64}[(dim=2|id=706|\"Qubit,Site,n=1\"), (dim=2|id=293|\"Qubit,Site,n=2\"), (dim=2|id=370|\"Qubit,Site,n=3\"), (dim=2|id=853|\"Qubit,Site,n=4\")], [1, 2, 3, 4], [1, 2, 3, 4], [1, 2, 3, 4], 10, 1.0e-10, MPS\n",
       "[1] ((dim=2|id=706|\"Qubit,Site,n=1\"), (dim=8|id=540|\"Link,l=1\"))\n",
       "[2] ((dim=8|id=540|\"Link,l=1\"), (dim=2|id=293|\"Qubit,Site,n=2\"), (dim=4|id=662|\"Link,l=2\"))\n",
       "[3] ((dim=4|id=662|\"Link,l=2\"), (dim=2|id=370|\"Qubit,Site,n=3\"), (dim=2|id=430|\"Link,l=3\"))\n",
       "[4] ((dim=2|id=430|\"Link,l=3\"), (dim=2|id=853|\"Qubit,Site,n=4\"))\n",
       ", MPS[], Vector{Any}[], false)"
      ]
     },
     "execution_count": 2,
     "metadata": {},
     "output_type": "execute_result"
    }
   ],
   "source": [
    "ct_2=CT.CT_MPS(L=4,seed=3,folded=false,store_op=true,store_vec=true,ancilla=0)"
   ]
  },
  {
   "cell_type": "code",
   "execution_count": 6,
   "metadata": {},
   "outputs": [
    {
     "data": {
      "text/plain": [
       "ITensor ord=4 (dim=2|id=853|\"Qubit,Site,n=4\")' (dim=2|id=706|\"Qubit,Site,n=1\")' (dim=2|id=853|\"Qubit,Site,n=4\") (dim=2|id=706|\"Qubit,Site,n=1\")\n",
       "NDTensors.Dense{Float64, Vector{Float64}}"
      ]
     },
     "execution_count": 6,
     "metadata": {},
     "output_type": "execute_result"
    }
   ],
   "source": [
    "U_gate=op((\"CX\", 1,4),ct_2.qubit_site)"
   ]
  },
  {
   "cell_type": "code",
   "execution_count": 7,
   "metadata": {},
   "outputs": [
    {
     "data": {
      "text/plain": [
       "MPS\n",
       "[1] ((dim=2|id=706|\"Qubit,Site,n=1\"), (dim=2|id=885|\"Link,n=1\"))\n",
       "[2] ((dim=2|id=885|\"Link,n=1\"), (dim=2|id=293|\"Qubit,Site,n=2\"), (dim=4|id=76|\"Link,n=1\"))\n",
       "[3] ((dim=4|id=76|\"Link,n=1\"), (dim=2|id=370|\"Qubit,Site,n=3\"), (dim=2|id=375|\"Link,n=1\"))\n",
       "[4] ((dim=2|id=375|\"Link,n=1\"), (dim=2|id=853|\"Qubit,Site,n=4\"))\n"
      ]
     },
     "execution_count": 7,
     "metadata": {},
     "output_type": "execute_result"
    }
   ],
   "source": [
    "mps_new=apply(U_gate,ct_2.mps)"
   ]
  },
  {
   "cell_type": "code",
   "execution_count": 121,
   "metadata": {},
   "outputs": [
    {
     "ename": "LoadError",
     "evalue": "In `permute(::ITensor, inds...)`, the input ITensor has indices: \n\n((dim=2|id=705|\"Qubit,Site,n=1\"), (dim=2|id=464|\"Qubit,Site,n=2\"), (dim=2|id=850|\"Qubit,Site,n=3\"), (dim=2|id=775|\"Qubit,Site,n=4\"))\n\nbut the desired Index ordering is: \n\nIndex{Int64}[(dim=2|id=753|\"Qubit,Site,n=1\"), (dim=2|id=760|\"Qubit,Site,n=2\"), (dim=2|id=109|\"Qubit,Site,n=3\"), (dim=2|id=493|\"Qubit,Site,n=4\")]",
     "output_type": "error",
     "traceback": [
      "In `permute(::ITensor, inds...)`, the input ITensor has indices: \n\n((dim=2|id=705|\"Qubit,Site,n=1\"), (dim=2|id=464|\"Qubit,Site,n=2\"), (dim=2|id=850|\"Qubit,Site,n=3\"), (dim=2|id=775|\"Qubit,Site,n=4\"))\n\nbut the desired Index ordering is: \n\nIndex{Int64}[(dim=2|id=753|\"Qubit,Site,n=1\"), (dim=2|id=760|\"Qubit,Site,n=2\"), (dim=2|id=109|\"Qubit,Site,n=3\"), (dim=2|id=493|\"Qubit,Site,n=4\")]",
      "",
      "Stacktrace:",
      " [1] error(s::String)",
      "   @ Base ./error.jl:35",
      " [2] #permute#271",
      "   @ ~/.julia/packages/ITensors/Gf9aD/src/tensor_operations/permutations.jl:40 [inlined]",
      " [3] permute(as::NDTensors.AliasStyle, T::ITensor, new_inds::Any)",
      "   @ ITensors ~/.julia/packages/ITensors/Gf9aD/src/tensor_operations/permutations.jl:38 [inlined]",
      " [4] Array{Float64, 4}(T::ITensor, is::Vector{Index{Int64}})",
      "   @ ITensors ~/.julia/packages/ITensors/Gf9aD/src/itensor.jl:727",
      " [5] (Array{Float64})(T::ITensor, is::Vector{Index{Int64}})",
      "   @ ITensors ~/.julia/packages/ITensors/Gf9aD/src/itensor.jl:736",
      " [6] Array(T::ITensor, is::Vector{Index{Int64}})",
      "   @ ITensors ~/.julia/packages/ITensors/Gf9aD/src/itensor.jl:744",
      " [7] top-level scope",
      "   @ In[121]:1"
     ]
    }
   ],
   "source": [
    "Array(CT.mps_to_tensor(mps_new),ct_2.qubit_site)"
   ]
  },
  {
   "cell_type": "code",
   "execution_count": null,
   "metadata": {},
   "outputs": [],
   "source": [
    "1. test the speed of using apply and apply_op! in \n",
    "    (a) normal nearest neighbor sites\n",
    "    (b) long range sites\n",
    "\n",
    "2. test how to get MPO work here? thought this example seems that apply is already sufficient?\n",
    "https://itensor.github.io/ITensors.jl/stable/tutorials/MPSTimeEvolution.html"
   ]
  },
  {
   "cell_type": "code",
   "execution_count": 94,
   "metadata": {},
   "outputs": [
    {
     "data": {
      "text/plain": [
       "sum(\n",
       "  1.0 CX(1, 4)\n",
       ")"
      ]
     },
     "execution_count": 94,
     "metadata": {},
     "output_type": "execute_result"
    }
   ],
   "source": [
    "os=OpSum() + (\"CX\",1,4)"
   ]
  },
  {
   "cell_type": "code",
   "execution_count": 95,
   "metadata": {},
   "outputs": [
    {
     "ename": "LoadError",
     "evalue": "ArgumentError: Tuple contains 2 elements, must contain exactly 1 element",
     "output_type": "error",
     "traceback": [
      "ArgumentError: Tuple contains 2 elements, must contain exactly 1 element",
      "",
      "Stacktrace:",
      " [1] only(x::Tuple{Int64, Int64})",
      "   @ Base.Iterators ./iterators.jl:1537",
      " [2] site(o::Op)",
      "   @ ITensors.Ops ~/.julia/packages/ITensors/Gf9aD/src/Ops/Ops.jl:67",
      " [3] sorteachterm(os::Sum{Scaled{ComplexF64, Prod{Op}}}, sites::Vector{Index{Int64}})",
      "   @ ITensors ~/.julia/packages/ITensors/Gf9aD/src/physics/autompo/opsum_to_mpo_generic.jl:186",
      " [4] MPO(os::Sum{Scaled{ComplexF64, Prod{Op}}}, sites::Vector{Index{Int64}}; splitblocks::Bool, kwargs::@Kwargs{})",
      "   @ ITensors ~/.julia/packages/ITensors/Gf9aD/src/physics/autompo/opsum_to_mpo_generic.jl:289",
      " [5] MPO(os::Sum{Scaled{ComplexF64, Prod{Op}}}, sites::Vector{Index{Int64}})",
      "   @ ITensors ~/.julia/packages/ITensors/Gf9aD/src/physics/autompo/opsum_to_mpo_generic.jl:285",
      " [6] top-level scope",
      "   @ In[95]:1"
     ]
    }
   ],
   "source": [
    "MPO(os,ct.qubit_site)"
   ]
  },
  {
   "cell_type": "code",
   "execution_count": null,
   "metadata": {},
   "outputs": [],
   "source": []
  },
  {
   "cell_type": "code",
   "execution_count": 21,
   "metadata": {},
   "outputs": [
    {
     "ename": "LoadError",
     "evalue": "MethodError: no method matching isless(::Int64, ::Index{Int64})\n\n\u001b[0mClosest candidates are:\n\u001b[0m  isless(\u001b[91m::Missing\u001b[39m, ::Any)\n\u001b[0m\u001b[90m   @\u001b[39m \u001b[90mBase\u001b[39m \u001b[90m\u001b[4mmissing.jl:87\u001b[24m\u001b[39m\n\u001b[0m  isless(::Any, \u001b[91m::Missing\u001b[39m)\n\u001b[0m\u001b[90m   @\u001b[39m \u001b[90mBase\u001b[39m \u001b[90m\u001b[4mmissing.jl:88\u001b[24m\u001b[39m\n\u001b[0m  isless(::Real, \u001b[91m::Union{StatsBase.PValue, StatsBase.TestStat}\u001b[39m)\n\u001b[0m\u001b[90m   @\u001b[39m \u001b[33mStatsBase\u001b[39m \u001b[90m~/.julia/packages/StatsBase/WLz8A/src/\u001b[39m\u001b[90m\u001b[4mstatmodels.jl:91\u001b[24m\u001b[39m\n\u001b[0m  ...\n",
     "output_type": "error",
     "traceback": [
      "MethodError: no method matching isless(::Int64, ::Index{Int64})\n\n\u001b[0mClosest candidates are:\n\u001b[0m  isless(\u001b[91m::Missing\u001b[39m, ::Any)\n\u001b[0m\u001b[90m   @\u001b[39m \u001b[90mBase\u001b[39m \u001b[90m\u001b[4mmissing.jl:87\u001b[24m\u001b[39m\n\u001b[0m  isless(::Any, \u001b[91m::Missing\u001b[39m)\n\u001b[0m\u001b[90m   @\u001b[39m \u001b[90mBase\u001b[39m \u001b[90m\u001b[4mmissing.jl:88\u001b[24m\u001b[39m\n\u001b[0m  isless(::Real, \u001b[91m::Union{StatsBase.PValue, StatsBase.TestStat}\u001b[39m)\n\u001b[0m\u001b[90m   @\u001b[39m \u001b[33mStatsBase\u001b[39m \u001b[90m~/.julia/packages/StatsBase/WLz8A/src/\u001b[39m\u001b[90m\u001b[4mstatmodels.jl:91\u001b[24m\u001b[39m\n\u001b[0m  ...\n",
      "",
      "Stacktrace:",
      " [1] <(x::Int64, y::Index{Int64})",
      "   @ Base ./operators.jl:352",
      " [2] >(x::Index{Int64}, y::Int64)",
      "   @ Base ./operators.jl:378",
      " [3] sorteachterm(os::Sum{Scaled{ComplexF64, Prod{Op}}}, sites::Vector{Index{Int64}})",
      "   @ ITensors ~/.julia/packages/ITensors/Gf9aD/src/physics/autompo/opsum_to_mpo_generic.jl:166",
      " [4] MPO(os::Sum{Scaled{ComplexF64, Prod{Op}}}, sites::Vector{Index{Int64}}; splitblocks::Bool, kwargs::@Kwargs{})",
      "   @ ITensors ~/.julia/packages/ITensors/Gf9aD/src/physics/autompo/opsum_to_mpo_generic.jl:289",
      " [5] MPO(os::Sum{Scaled{ComplexF64, Prod{Op}}}, sites::Vector{Index{Int64}})",
      "   @ ITensors ~/.julia/packages/ITensors/Gf9aD/src/physics/autompo/opsum_to_mpo_generic.jl:285",
      " [6] top-level scope",
      "   @ In[21]:1"
     ]
    }
   ],
   "source": [
    "MPO(os,ct.qubit_site[1:1])"
   ]
  },
  {
   "cell_type": "code",
   "execution_count": 25,
   "metadata": {},
   "outputs": [
    {
     "data": {
      "text/plain": [
       "MPO\n",
       "[1] ((dim=2|id=358|\"Link,l=1\"), (dim=2|id=927|\"S=1/2,Site,n=1\")', (dim=2|id=927|\"S=1/2,Site,n=1\"))\n",
       "[2] ((dim=2|id=358|\"Link,l=1\"), (dim=2|id=1|\"Link,l=2\"), (dim=2|id=274|\"S=1/2,Site,n=2\")', (dim=2|id=274|\"S=1/2,Site,n=2\"))\n",
       "[3] ((dim=2|id=1|\"Link,l=2\"), (dim=2|id=121|\"Link,l=3\"), (dim=2|id=676|\"S=1/2,Site,n=3\")', (dim=2|id=676|\"S=1/2,Site,n=3\"))\n",
       "[4] ((dim=2|id=121|\"Link,l=3\"), (dim=2|id=342|\"S=1/2,Site,n=4\")', (dim=2|id=342|\"S=1/2,Site,n=4\"))\n"
      ]
     },
     "execution_count": 25,
     "metadata": {},
     "output_type": "execute_result"
    }
   ],
   "source": [
    "N = 4\n",
    "sites = siteinds(\"S=1/2\",N)\n",
    "os = OpSum()\n",
    "for n=1:2\n",
    "  os += \"Sz\",n\n",
    "end\n",
    "P = MPO(os,sites)"
   ]
  },
  {
   "cell_type": "code",
   "execution_count": 26,
   "metadata": {},
   "outputs": [
    {
     "data": {
      "text/plain": [
       "sum(\n",
       "  1.0 Sz(1,)\n",
       "  1.0 Sz(2,)\n",
       ")"
      ]
     },
     "execution_count": 26,
     "metadata": {},
     "output_type": "execute_result"
    }
   ],
   "source": [
    "os"
   ]
  },
  {
   "cell_type": "code",
   "execution_count": null,
   "metadata": {},
   "outputs": [],
   "source": []
  },
  {
   "cell_type": "code",
   "execution_count": 450,
   "metadata": {},
   "outputs": [
    {
     "name": "stdout",
     "output_type": "stream",
     "text": [
      "1\n",
      "2\n",
      "3\n",
      "4\n",
      "5\n",
      "6\n",
      "7\n",
      "8\n",
      "9\n",
      "10\n"
     ]
    },
    {
     "name": "stdout",
     "output_type": "stream",
     "text": [
      "11\n",
      "12\n",
      "13\n",
      "14\n",
      "15\n",
      "16\n",
      "17\n",
      "18\n"
     ]
    },
    {
     "name": "stdout",
     "output_type": "stream",
     "text": [
      "19\n",
      "20\n",
      "21\n",
      "22\n",
      "23\n",
      "24\n",
      "25\n"
     ]
    },
    {
     "name": "stdout",
     "output_type": "stream",
     "text": [
      "26\n",
      "27\n"
     ]
    },
    {
     "name": "stdout",
     "output_type": "stream",
     "text": [
      "28\n",
      "29\n",
      "30\n",
      "31\n",
      "32\n",
      "33\n",
      "34\n",
      "35\n",
      "36\n",
      "37\n"
     ]
    },
    {
     "name": "stdout",
     "output_type": "stream",
     "text": [
      "38\n",
      "39\n",
      "40\n"
     ]
    },
    {
     "name": "stdout",
     "output_type": "stream",
     "text": [
      "41\n",
      "42\n",
      "43\n",
      "44\n",
      "45\n",
      "46\n",
      "47\n"
     ]
    },
    {
     "name": "stdout",
     "output_type": "stream",
     "text": [
      "48\n",
      "49\n"
     ]
    },
    {
     "name": "stdout",
     "output_type": "stream",
     "text": [
      "50\n",
      "51\n"
     ]
    },
    {
     "name": "stdout",
     "output_type": "stream",
     "text": [
      "52\n",
      "53\n"
     ]
    },
    {
     "name": "stdout",
     "output_type": "stream",
     "text": [
      "54\n",
      "55\n"
     ]
    },
    {
     "name": "stdout",
     "output_type": "stream",
     "text": [
      "56\n",
      "57\n"
     ]
    },
    {
     "name": "stdout",
     "output_type": "stream",
     "text": [
      "58\n",
      "59\n"
     ]
    },
    {
     "name": "stdout",
     "output_type": "stream",
     "text": [
      "60\n"
     ]
    },
    {
     "name": "stdout",
     "output_type": "stream",
     "text": [
      "61\n",
      "62\n"
     ]
    },
    {
     "name": "stdout",
     "output_type": "stream",
     "text": [
      "63\n",
      "64\n",
      "65\n"
     ]
    },
    {
     "name": "stdout",
     "output_type": "stream",
     "text": [
      "66\n",
      "67\n",
      "68\n",
      "69\n",
      "70\n",
      "71\n"
     ]
    },
    {
     "name": "stdout",
     "output_type": "stream",
     "text": [
      "72\n",
      "73\n",
      "74\n"
     ]
    },
    {
     "name": "stdout",
     "output_type": "stream",
     "text": [
      "75\n"
     ]
    },
    {
     "name": "stdout",
     "output_type": "stream",
     "text": [
      "76\n"
     ]
    },
    {
     "name": "stdout",
     "output_type": "stream",
     "text": [
      "77\n"
     ]
    },
    {
     "name": "stdout",
     "output_type": "stream",
     "text": [
      "78\n"
     ]
    },
    {
     "name": "stdout",
     "output_type": "stream",
     "text": [
      "79\n",
      "80\n"
     ]
    },
    {
     "name": "stdout",
     "output_type": "stream",
     "text": [
      "81\n"
     ]
    },
    {
     "name": "stdout",
     "output_type": "stream",
     "text": [
      "82\n"
     ]
    },
    {
     "name": "stdout",
     "output_type": "stream",
     "text": [
      "83\n"
     ]
    },
    {
     "name": "stdout",
     "output_type": "stream",
     "text": [
      "84\n"
     ]
    },
    {
     "name": "stdout",
     "output_type": "stream",
     "text": [
      "85\n"
     ]
    },
    {
     "name": "stdout",
     "output_type": "stream",
     "text": [
      "86\n"
     ]
    },
    {
     "name": "stdout",
     "output_type": "stream",
     "text": [
      "87\n"
     ]
    },
    {
     "name": "stdout",
     "output_type": "stream",
     "text": [
      "88\n"
     ]
    },
    {
     "name": "stdout",
     "output_type": "stream",
     "text": [
      "89\n"
     ]
    },
    {
     "name": "stdout",
     "output_type": "stream",
     "text": [
      "90\n"
     ]
    },
    {
     "name": "stdout",
     "output_type": "stream",
     "text": [
      "91\n"
     ]
    },
    {
     "name": "stdout",
     "output_type": "stream",
     "text": [
      "92\n"
     ]
    },
    {
     "name": "stdout",
     "output_type": "stream",
     "text": [
      "93\n"
     ]
    },
    {
     "name": "stdout",
     "output_type": "stream",
     "text": [
      "94\n"
     ]
    },
    {
     "name": "stdout",
     "output_type": "stream",
     "text": [
      "95\n"
     ]
    },
    {
     "name": "stdout",
     "output_type": "stream",
     "text": [
      "96\n",
      "97\n",
      "98\n",
      "99\n"
     ]
    },
    {
     "name": "stdout",
     "output_type": "stream",
     "text": [
      "100\n"
     ]
    },
    {
     "name": "stdout",
     "output_type": "stream",
     "text": [
      "101\n"
     ]
    },
    {
     "name": "stdout",
     "output_type": "stream",
     "text": [
      "102\n"
     ]
    },
    {
     "name": "stdout",
     "output_type": "stream",
     "text": [
      "103\n"
     ]
    },
    {
     "name": "stdout",
     "output_type": "stream",
     "text": [
      "104\n"
     ]
    },
    {
     "name": "stdout",
     "output_type": "stream",
     "text": [
      "105\n",
      "106\n",
      "107\n",
      "108\n"
     ]
    },
    {
     "name": "stdout",
     "output_type": "stream",
     "text": [
      "109\n"
     ]
    },
    {
     "name": "stdout",
     "output_type": "stream",
     "text": [
      "110\n",
      "111\n",
      "112\n"
     ]
    },
    {
     "name": "stdout",
     "output_type": "stream",
     "text": [
      "113\n"
     ]
    },
    {
     "name": "stdout",
     "output_type": "stream",
     "text": [
      "114\n"
     ]
    },
    {
     "name": "stdout",
     "output_type": "stream",
     "text": [
      "115\n",
      "116\n"
     ]
    },
    {
     "name": "stdout",
     "output_type": "stream",
     "text": [
      "117\n",
      "118\n"
     ]
    },
    {
     "name": "stdout",
     "output_type": "stream",
     "text": [
      "119\n"
     ]
    },
    {
     "name": "stdout",
     "output_type": "stream",
     "text": [
      "120\n"
     ]
    },
    {
     "name": "stdout",
     "output_type": "stream",
     "text": [
      "121\n"
     ]
    },
    {
     "name": "stdout",
     "output_type": "stream",
     "text": [
      "122\n"
     ]
    },
    {
     "name": "stdout",
     "output_type": "stream",
     "text": [
      "123\n",
      "124\n",
      "125\n"
     ]
    },
    {
     "name": "stdout",
     "output_type": "stream",
     "text": [
      "126\n"
     ]
    },
    {
     "name": "stdout",
     "output_type": "stream",
     "text": [
      "127\n",
      "128\n",
      "129\n"
     ]
    },
    {
     "name": "stdout",
     "output_type": "stream",
     "text": [
      "130\n"
     ]
    },
    {
     "name": "stdout",
     "output_type": "stream",
     "text": [
      "131\n"
     ]
    },
    {
     "name": "stdout",
     "output_type": "stream",
     "text": [
      "132\n"
     ]
    },
    {
     "name": "stdout",
     "output_type": "stream",
     "text": [
      "133\n"
     ]
    },
    {
     "name": "stdout",
     "output_type": "stream",
     "text": [
      "134\n"
     ]
    },
    {
     "name": "stdout",
     "output_type": "stream",
     "text": [
      "135\n"
     ]
    },
    {
     "name": "stdout",
     "output_type": "stream",
     "text": [
      "136\n"
     ]
    },
    {
     "name": "stdout",
     "output_type": "stream",
     "text": [
      "137\n"
     ]
    },
    {
     "name": "stdout",
     "output_type": "stream",
     "text": [
      "138\n"
     ]
    },
    {
     "name": "stdout",
     "output_type": "stream",
     "text": [
      "139\n"
     ]
    },
    {
     "name": "stdout",
     "output_type": "stream",
     "text": [
      "140\n"
     ]
    },
    {
     "name": "stdout",
     "output_type": "stream",
     "text": [
      "141\n"
     ]
    },
    {
     "name": "stdout",
     "output_type": "stream",
     "text": [
      "142\n"
     ]
    },
    {
     "name": "stdout",
     "output_type": "stream",
     "text": [
      "143\n"
     ]
    },
    {
     "name": "stdout",
     "output_type": "stream",
     "text": [
      "144\n"
     ]
    },
    {
     "name": "stdout",
     "output_type": "stream",
     "text": [
      "145\n"
     ]
    },
    {
     "name": "stdout",
     "output_type": "stream",
     "text": [
      "146\n",
      "147\n",
      "148\n",
      "149\n",
      "150\n",
      "151\n",
      "152\n"
     ]
    },
    {
     "name": "stdout",
     "output_type": "stream",
     "text": [
      "153\n"
     ]
    },
    {
     "name": "stdout",
     "output_type": "stream",
     "text": [
      "154\n"
     ]
    },
    {
     "name": "stdout",
     "output_type": "stream",
     "text": [
      "155\n"
     ]
    },
    {
     "name": "stdout",
     "output_type": "stream",
     "text": [
      "156\n"
     ]
    },
    {
     "name": "stdout",
     "output_type": "stream",
     "text": [
      "157\n"
     ]
    },
    {
     "name": "stdout",
     "output_type": "stream",
     "text": [
      "158\n"
     ]
    },
    {
     "name": "stdout",
     "output_type": "stream",
     "text": [
      "159\n"
     ]
    },
    {
     "name": "stdout",
     "output_type": "stream",
     "text": [
      "160\n"
     ]
    },
    {
     "name": "stdout",
     "output_type": "stream",
     "text": [
      "161\n"
     ]
    },
    {
     "name": "stdout",
     "output_type": "stream",
     "text": [
      "162\n"
     ]
    },
    {
     "name": "stdout",
     "output_type": "stream",
     "text": [
      "163\n"
     ]
    },
    {
     "name": "stdout",
     "output_type": "stream",
     "text": [
      "164\n"
     ]
    },
    {
     "name": "stdout",
     "output_type": "stream",
     "text": [
      "165\n"
     ]
    },
    {
     "name": "stdout",
     "output_type": "stream",
     "text": [
      "166\n"
     ]
    },
    {
     "name": "stdout",
     "output_type": "stream",
     "text": [
      "167\n"
     ]
    },
    {
     "name": "stdout",
     "output_type": "stream",
     "text": [
      "168\n"
     ]
    },
    {
     "name": "stdout",
     "output_type": "stream",
     "text": [
      "169\n"
     ]
    },
    {
     "name": "stdout",
     "output_type": "stream",
     "text": [
      "170\n"
     ]
    },
    {
     "name": "stdout",
     "output_type": "stream",
     "text": [
      "171\n"
     ]
    },
    {
     "name": "stdout",
     "output_type": "stream",
     "text": [
      "172\n"
     ]
    },
    {
     "name": "stdout",
     "output_type": "stream",
     "text": [
      "173\n"
     ]
    },
    {
     "name": "stdout",
     "output_type": "stream",
     "text": [
      "174\n",
      "175\n"
     ]
    },
    {
     "name": "stdout",
     "output_type": "stream",
     "text": [
      "176\n"
     ]
    },
    {
     "name": "stdout",
     "output_type": "stream",
     "text": [
      "177\n",
      "178\n",
      "179\n",
      "180\n"
     ]
    },
    {
     "name": "stdout",
     "output_type": "stream",
     "text": [
      "181\n"
     ]
    },
    {
     "name": "stdout",
     "output_type": "stream",
     "text": [
      "182\n"
     ]
    },
    {
     "name": "stdout",
     "output_type": "stream",
     "text": [
      "183\n"
     ]
    },
    {
     "name": "stdout",
     "output_type": "stream",
     "text": [
      "184\n",
      "185\n",
      "186\n"
     ]
    },
    {
     "name": "stdout",
     "output_type": "stream",
     "text": [
      "187\n",
      "188\n"
     ]
    },
    {
     "name": "stdout",
     "output_type": "stream",
     "text": [
      "189\n",
      "190\n",
      "191\n",
      "192\n"
     ]
    },
    {
     "name": "stdout",
     "output_type": "stream",
     "text": [
      "193\n"
     ]
    }
   ],
   "source": [
    "ct_f=CT.CT_MPS(L=40,seed=3,folded=true,store_op=false,store_vec=false,ancilla=0,debug=false,)\n",
    "# print((ct_f.mps))\n",
    "ram_usage=zeros(div(ct_f.L^2,4)+1)\n",
    "max_bond=zeros(Int64,div(ct_f.L^2,4)+1)\n",
    "ram_usage[1]=Base.summarysize(ct_f.mps)\n",
    "max_bond[1]=CT.max_bond_dim(ct_f.mps)\n",
    "i=1\n",
    "for idx in 1:div(ct_f.L^2,4)\n",
    "# for idx in 1:1\n",
    "    println(idx)\n",
    "    i=CT.random_control!(ct_f,i,.3)\n",
    "    ram_usage[idx+1]=Base.summarysize(ct_f.mps)\n",
    "    max_bond[idx+1]=CT.max_bond_dim(ct_f.mps)\n",
    "end"
   ]
  },
  {
   "cell_type": "code",
   "execution_count": null,
   "metadata": {},
   "outputs": [],
   "source": [
    "x=collect(0:div(ct_f.L^2,4))\n",
    "p1=plot(x,ram_usage/1024^3,marker=:circle,xlabel=\"t\",ylabel=\"RAM (GB)\",color=:gray)\n",
    "p1 = plot!(y_guidefontcolor=:gray,  y_foreground_color_axis=:gray, y_foreground_color_border=:gray, y_foreground_color_text=:gray)\n",
    "\n",
    "p2=plot!(twinx(),x,max_bond,marker=:circle,ylabel=\"Max bond dim\",color=:black,label=\"L=$(ct_f.L)\")\n"
   ]
  },
  {
   "cell_type": "code",
   "execution_count": null,
   "metadata": {},
   "outputs": [],
   "source": [
    "ram_usage[1]/1024^1,ram_usage[end]/1024^2, max_bond[end]"
   ]
  },
  {
   "cell_type": "code",
   "execution_count": null,
   "metadata": {},
   "outputs": [],
   "source": []
  },
  {
   "cell_type": "code",
   "execution_count": null,
   "metadata": {},
   "outputs": [],
   "source": []
  },
  {
   "cell_type": "code",
   "execution_count": 371,
   "metadata": {},
   "outputs": [
    {
     "data": {
      "image/png": "[encoded data removed]",
      "image/svg+xml": [
       "<?xml version=\"1.0\" encoding=\"utf-8\"?>\n",
       "<svg xmlns=\"http://www.w3.org/2000/svg\" xmlns:xlink=\"http://www.w3.org/1999/xlink\" width=\"600\" height=\"400\" viewBox=\"0 0 2400 1600\">\n",
       "<defs>\n",
       "  <clipPath id=\"clip450\">\n",
       "    <rect x=\"0\" y=\"0\" width=\"2400\" height=\"1600\"/>\n",
       "  </clipPath>\n",
       "</defs>\n",
       "<path clip-path=\"url(#clip450)\" d=\"M0 1600 L2400 1600 L2400 0 L0 0  Z\" fill=\"#ffffff\" fill-rule=\"evenodd\" fill-opacity=\"1\"/>\n",
       "<defs>\n",
       "  <clipPath id=\"clip451\">\n",
       "    <rect x=\"480\" y=\"0\" width=\"1681\" height=\"1600\"/>\n",
       "  </clipPath>\n",
       "</defs>\n",
       "<path clip-path=\"url(#clip450)\" d=\"M276.528 1486.45 L2352.76 1486.45 L2352.76 47.2441 L276.528 47.2441  Z\" fill=\"#ffffff\" fill-rule=\"evenodd\" fill-opacity=\"1\"/>\n",
       "<defs>\n",
       "  <clipPath id=\"clip452\">\n",
       "    <rect x=\"276\" y=\"47\" width=\"2077\" height=\"1440\"/>\n",
       "  </clipPath>\n",
       "</defs>\n",
       "<polyline clip-path=\"url(#clip452)\" style=\"stroke:#000000; stroke-linecap:round; stroke-linejoin:round; stroke-width:2; stroke-opacity:0.1; fill:none\" points=\"296.115,1486.45 296.115,47.2441 \"/>\n",
       "<polyline clip-path=\"url(#clip452)\" style=\"stroke:#000000; stroke-linecap:round; stroke-linejoin:round; stroke-width:2; stroke-opacity:0.1; fill:none\" points=\"687.856,1486.45 687.856,47.2441 \"/>\n",
       "<polyline clip-path=\"url(#clip452)\" style=\"stroke:#000000; stroke-linecap:round; stroke-linejoin:round; stroke-width:2; stroke-opacity:0.1; fill:none\" points=\"1079.6,1486.45 1079.6,47.2441 \"/>\n",
       "<polyline clip-path=\"url(#clip452)\" style=\"stroke:#000000; stroke-linecap:round; stroke-linejoin:round; stroke-width:2; stroke-opacity:0.1; fill:none\" points=\"1471.34,1486.45 1471.34,47.2441 \"/>\n",
       "<polyline clip-path=\"url(#clip452)\" style=\"stroke:#000000; stroke-linecap:round; stroke-linejoin:round; stroke-width:2; stroke-opacity:0.1; fill:none\" points=\"1863.08,1486.45 1863.08,47.2441 \"/>\n",
       "<polyline clip-path=\"url(#clip452)\" style=\"stroke:#000000; stroke-linecap:round; stroke-linejoin:round; stroke-width:2; stroke-opacity:0.1; fill:none\" points=\"2254.82,1486.45 2254.82,47.2441 \"/>\n",
       "<polyline clip-path=\"url(#clip450)\" style=\"stroke:#000000; stroke-linecap:round; stroke-linejoin:round; stroke-width:4; stroke-opacity:1; fill:none\" points=\"276.528,1486.45 2352.76,1486.45 \"/>\n",
       "<polyline clip-path=\"url(#clip450)\" style=\"stroke:#000000; stroke-linecap:round; stroke-linejoin:round; stroke-width:4; stroke-opacity:1; fill:none\" points=\"296.115,1486.45 296.115,1467.55 \"/>\n",
       "<polyline clip-path=\"url(#clip450)\" style=\"stroke:#000000; stroke-linecap:round; stroke-linejoin:round; stroke-width:4; stroke-opacity:1; fill:none\" points=\"687.856,1486.45 687.856,1467.55 \"/>\n",
       "<polyline clip-path=\"url(#clip450)\" style=\"stroke:#000000; stroke-linecap:round; stroke-linejoin:round; stroke-width:4; stroke-opacity:1; fill:none\" points=\"1079.6,1486.45 1079.6,1467.55 \"/>\n",
       "<polyline clip-path=\"url(#clip450)\" style=\"stroke:#000000; stroke-linecap:round; stroke-linejoin:round; stroke-width:4; stroke-opacity:1; fill:none\" points=\"1471.34,1486.45 1471.34,1467.55 \"/>\n",
       "<polyline clip-path=\"url(#clip450)\" style=\"stroke:#000000; stroke-linecap:round; stroke-linejoin:round; stroke-width:4; stroke-opacity:1; fill:none\" points=\"1863.08,1486.45 1863.08,1467.55 \"/>\n",
       "<polyline clip-path=\"url(#clip450)\" style=\"stroke:#000000; stroke-linecap:round; stroke-linejoin:round; stroke-width:4; stroke-opacity:1; fill:none\" points=\"2254.82,1486.45 2254.82,1467.55 \"/>\n",
       "<path clip-path=\"url(#clip450)\" d=\"M296.115 1517.37 Q292.504 1517.37 290.675 1520.93 Q288.87 1524.47 288.87 1531.6 Q288.87 1538.71 290.675 1542.27 Q292.504 1545.82 296.115 1545.82 Q299.749 1545.82 301.555 1542.27 Q303.384 1538.71 303.384 1531.6 Q303.384 1524.47 301.555 1520.93 Q299.749 1517.37 296.115 1517.37 M296.115 1513.66 Q301.925 1513.66 304.981 1518.27 Q308.06 1522.85 308.06 1531.6 Q308.06 1540.33 304.981 1544.94 Q301.925 1549.52 296.115 1549.52 Q290.305 1549.52 287.226 1544.94 Q284.171 1540.33 284.171 1531.6 Q284.171 1522.85 287.226 1518.27 Q290.305 1513.66 296.115 1513.66 Z\" fill=\"#000000\" fill-rule=\"nonzero\" fill-opacity=\"1\" /><path clip-path=\"url(#clip450)\" d=\"M662.544 1544.91 L670.183 1544.91 L670.183 1518.55 L661.873 1520.21 L661.873 1515.95 L670.136 1514.29 L674.812 1514.29 L674.812 1544.91 L682.451 1544.91 L682.451 1548.85 L662.544 1548.85 L662.544 1544.91 Z\" fill=\"#000000\" fill-rule=\"nonzero\" fill-opacity=\"1\" /><path clip-path=\"url(#clip450)\" d=\"M701.896 1517.37 Q698.284 1517.37 696.456 1520.93 Q694.65 1524.47 694.65 1531.6 Q694.65 1538.71 696.456 1542.27 Q698.284 1545.82 701.896 1545.82 Q705.53 1545.82 707.335 1542.27 Q709.164 1538.71 709.164 1531.6 Q709.164 1524.47 707.335 1520.93 Q705.53 1517.37 701.896 1517.37 M701.896 1513.66 Q707.706 1513.66 710.761 1518.27 Q713.84 1522.85 713.84 1531.6 Q713.84 1540.33 710.761 1544.94 Q707.706 1549.52 701.896 1549.52 Q696.085 1549.52 693.007 1544.94 Q689.951 1540.33 689.951 1531.6 Q689.951 1522.85 693.007 1518.27 Q696.085 1513.66 701.896 1513.66 Z\" fill=\"#000000\" fill-rule=\"nonzero\" fill-opacity=\"1\" /><path clip-path=\"url(#clip450)\" d=\"M1058.37 1544.91 L1074.69 1544.91 L1074.69 1548.85 L1052.75 1548.85 L1052.75 1544.91 Q1055.41 1542.16 1059.99 1537.53 Q1064.6 1532.88 1065.78 1531.53 Q1068.02 1529.01 1068.9 1527.27 Q1069.81 1525.51 1069.81 1523.82 Q1069.81 1521.07 1067.86 1519.33 Q1065.94 1517.6 1062.84 1517.6 Q1060.64 1517.6 1058.19 1518.36 Q1055.75 1519.13 1052.98 1520.68 L1052.98 1515.95 Q1055.8 1514.82 1058.25 1514.24 Q1060.71 1513.66 1062.75 1513.66 Q1068.12 1513.66 1071.31 1516.35 Q1074.5 1519.03 1074.5 1523.52 Q1074.5 1525.65 1073.69 1527.57 Q1072.91 1529.47 1070.8 1532.07 Q1070.22 1532.74 1067.12 1535.95 Q1064.02 1539.15 1058.37 1544.91 Z\" fill=\"#000000\" fill-rule=\"nonzero\" fill-opacity=\"1\" /><path clip-path=\"url(#clip450)\" d=\"M1094.5 1517.37 Q1090.89 1517.37 1089.06 1520.93 Q1087.26 1524.47 1087.26 1531.6 Q1087.26 1538.71 1089.06 1542.27 Q1090.89 1545.82 1094.5 1545.82 Q1098.14 1545.82 1099.94 1542.27 Q1101.77 1538.71 1101.77 1531.6 Q1101.77 1524.47 1099.94 1520.93 Q1098.14 1517.37 1094.5 1517.37 M1094.5 1513.66 Q1100.31 1513.66 1103.37 1518.27 Q1106.45 1522.85 1106.45 1531.6 Q1106.45 1540.33 1103.37 1544.94 Q1100.31 1549.52 1094.5 1549.52 Q1088.69 1549.52 1085.62 1544.94 Q1082.56 1540.33 1082.56 1531.6 Q1082.56 1522.85 1085.62 1518.27 Q1088.69 1513.66 1094.5 1513.66 Z\" fill=\"#000000\" fill-rule=\"nonzero\" fill-opacity=\"1\" /><path clip-path=\"url(#clip450)\" d=\"M1460.18 1530.21 Q1463.54 1530.93 1465.41 1533.2 Q1467.31 1535.47 1467.31 1538.8 Q1467.31 1543.92 1463.79 1546.72 Q1460.27 1549.52 1453.79 1549.52 Q1451.62 1549.52 1449.3 1549.08 Q1447.01 1548.66 1444.56 1547.81 L1444.56 1543.29 Q1446.5 1544.43 1448.82 1545.01 Q1451.13 1545.58 1453.65 1545.58 Q1458.05 1545.58 1460.34 1543.85 Q1462.66 1542.11 1462.66 1538.8 Q1462.66 1535.75 1460.51 1534.03 Q1458.38 1532.3 1454.56 1532.3 L1450.53 1532.3 L1450.53 1528.45 L1454.74 1528.45 Q1458.19 1528.45 1460.02 1527.09 Q1461.85 1525.7 1461.85 1523.11 Q1461.85 1520.45 1459.95 1519.03 Q1458.07 1517.6 1454.56 1517.6 Q1452.63 1517.6 1450.44 1518.01 Q1448.24 1518.43 1445.6 1519.31 L1445.6 1515.14 Q1448.26 1514.4 1450.57 1514.03 Q1452.91 1513.66 1454.97 1513.66 Q1460.3 1513.66 1463.4 1516.09 Q1466.5 1518.5 1466.5 1522.62 Q1466.5 1525.49 1464.86 1527.48 Q1463.21 1529.45 1460.18 1530.21 Z\" fill=\"#000000\" fill-rule=\"nonzero\" fill-opacity=\"1\" /><path clip-path=\"url(#clip450)\" d=\"M1486.18 1517.37 Q1482.57 1517.37 1480.74 1520.93 Q1478.93 1524.47 1478.93 1531.6 Q1478.93 1538.71 1480.74 1542.27 Q1482.57 1545.82 1486.18 1545.82 Q1489.81 1545.82 1491.62 1542.27 Q1493.44 1538.71 1493.44 1531.6 Q1493.44 1524.47 1491.62 1520.93 Q1489.81 1517.37 1486.18 1517.37 M1486.18 1513.66 Q1491.99 1513.66 1495.04 1518.27 Q1498.12 1522.85 1498.12 1531.6 Q1498.12 1540.33 1495.04 1544.94 Q1491.99 1549.52 1486.18 1549.52 Q1480.37 1549.52 1477.29 1544.94 Q1474.23 1540.33 1474.23 1531.6 Q1474.23 1522.85 1477.29 1518.27 Q1480.37 1513.66 1486.18 1513.66 Z\" fill=\"#000000\" fill-rule=\"nonzero\" fill-opacity=\"1\" /><path clip-path=\"url(#clip450)\" d=\"M1851.25 1518.36 L1839.45 1536.81 L1851.25 1536.81 L1851.25 1518.36 M1850.02 1514.29 L1855.9 1514.29 L1855.9 1536.81 L1860.83 1536.81 L1860.83 1540.7 L1855.9 1540.7 L1855.9 1548.85 L1851.25 1548.85 L1851.25 1540.7 L1835.65 1540.7 L1835.65 1536.19 L1850.02 1514.29 Z\" fill=\"#000000\" fill-rule=\"nonzero\" fill-opacity=\"1\" /><path clip-path=\"url(#clip450)\" d=\"M1878.57 1517.37 Q1874.95 1517.37 1873.13 1520.93 Q1871.32 1524.47 1871.32 1531.6 Q1871.32 1538.71 1873.13 1542.27 Q1874.95 1545.82 1878.57 1545.82 Q1882.2 1545.82 1884.01 1542.27 Q1885.83 1538.71 1885.83 1531.6 Q1885.83 1524.47 1884.01 1520.93 Q1882.2 1517.37 1878.57 1517.37 M1878.57 1513.66 Q1884.38 1513.66 1887.43 1518.27 Q1890.51 1522.85 1890.51 1531.6 Q1890.51 1540.33 1887.43 1544.94 Q1884.38 1549.52 1878.57 1549.52 Q1872.76 1549.52 1869.68 1544.94 Q1866.62 1540.33 1866.62 1531.6 Q1866.62 1522.85 1869.68 1518.27 Q1872.76 1513.66 1878.57 1513.66 Z\" fill=\"#000000\" fill-rule=\"nonzero\" fill-opacity=\"1\" /><path clip-path=\"url(#clip450)\" d=\"M2229.52 1514.29 L2247.88 1514.29 L2247.88 1518.22 L2233.8 1518.22 L2233.8 1526.7 Q2234.82 1526.35 2235.84 1526.19 Q2236.86 1526 2237.88 1526 Q2243.66 1526 2247.04 1529.17 Q2250.42 1532.34 2250.42 1537.76 Q2250.42 1543.34 2246.95 1546.44 Q2243.48 1549.52 2237.16 1549.52 Q2234.98 1549.52 2232.71 1549.15 Q2230.47 1548.78 2228.06 1548.04 L2228.06 1543.34 Q2230.14 1544.47 2232.37 1545.03 Q2234.59 1545.58 2237.07 1545.58 Q2241.07 1545.58 2243.41 1543.48 Q2245.75 1541.37 2245.75 1537.76 Q2245.75 1534.15 2243.41 1532.04 Q2241.07 1529.94 2237.07 1529.94 Q2235.19 1529.94 2233.32 1530.35 Q2231.46 1530.77 2229.52 1531.65 L2229.52 1514.29 Z\" fill=\"#000000\" fill-rule=\"nonzero\" fill-opacity=\"1\" /><path clip-path=\"url(#clip450)\" d=\"M2269.64 1517.37 Q2266.02 1517.37 2264.2 1520.93 Q2262.39 1524.47 2262.39 1531.6 Q2262.39 1538.71 2264.2 1542.27 Q2266.02 1545.82 2269.64 1545.82 Q2273.27 1545.82 2275.08 1542.27 Q2276.9 1538.71 2276.9 1531.6 Q2276.9 1524.47 2275.08 1520.93 Q2273.27 1517.37 2269.64 1517.37 M2269.64 1513.66 Q2275.45 1513.66 2278.5 1518.27 Q2281.58 1522.85 2281.58 1531.6 Q2281.58 1540.33 2278.5 1544.94 Q2275.45 1549.52 2269.64 1549.52 Q2263.83 1549.52 2260.75 1544.94 Q2257.69 1540.33 2257.69 1531.6 Q2257.69 1522.85 2260.75 1518.27 Q2263.83 1513.66 2269.64 1513.66 Z\" fill=\"#000000\" fill-rule=\"nonzero\" fill-opacity=\"1\" /><polyline clip-path=\"url(#clip452)\" style=\"stroke:#000000; stroke-linecap:round; stroke-linejoin:round; stroke-width:2; stroke-opacity:0.1; fill:none\" points=\"276.528,1455.14 2352.76,1455.14 \"/>\n",
       "<polyline clip-path=\"url(#clip452)\" style=\"stroke:#000000; stroke-linecap:round; stroke-linejoin:round; stroke-width:2; stroke-opacity:0.1; fill:none\" points=\"276.528,1034.22 2352.76,1034.22 \"/>\n",
       "<polyline clip-path=\"url(#clip452)\" style=\"stroke:#000000; stroke-linecap:round; stroke-linejoin:round; stroke-width:2; stroke-opacity:0.1; fill:none\" points=\"276.528,613.292 2352.76,613.292 \"/>\n",
       "<polyline clip-path=\"url(#clip452)\" style=\"stroke:#000000; stroke-linecap:round; stroke-linejoin:round; stroke-width:2; stroke-opacity:0.1; fill:none\" points=\"276.528,192.366 2352.76,192.366 \"/>\n",
       "<polyline clip-path=\"url(#clip450)\" style=\"stroke:#000000; stroke-linecap:round; stroke-linejoin:round; stroke-width:4; stroke-opacity:1; fill:none\" points=\"276.528,1486.45 276.528,47.2441 \"/>\n",
       "<polyline clip-path=\"url(#clip450)\" style=\"stroke:#000000; stroke-linecap:round; stroke-linejoin:round; stroke-width:4; stroke-opacity:1; fill:none\" points=\"276.528,1455.14 295.426,1455.14 \"/>\n",
       "<polyline clip-path=\"url(#clip450)\" style=\"stroke:#000000; stroke-linecap:round; stroke-linejoin:round; stroke-width:4; stroke-opacity:1; fill:none\" points=\"276.528,1034.22 295.426,1034.22 \"/>\n",
       "<polyline clip-path=\"url(#clip450)\" style=\"stroke:#000000; stroke-linecap:round; stroke-linejoin:round; stroke-width:4; stroke-opacity:1; fill:none\" points=\"276.528,613.292 295.426,613.292 \"/>\n",
       "<polyline clip-path=\"url(#clip450)\" style=\"stroke:#000000; stroke-linecap:round; stroke-linejoin:round; stroke-width:4; stroke-opacity:1; fill:none\" points=\"276.528,192.366 295.426,192.366 \"/>\n",
       "<path clip-path=\"url(#clip450)\" d=\"M52.8903 1444.31 L71.2466 1444.31 L71.2466 1448.25 L57.1726 1448.25 L57.1726 1456.72 Q58.1912 1456.37 59.2097 1456.21 Q60.2282 1456.02 61.2467 1456.02 Q67.0337 1456.02 70.4133 1459.2 Q73.7929 1462.37 73.7929 1467.78 Q73.7929 1473.36 70.3207 1476.46 Q66.8485 1479.54 60.5291 1479.54 Q58.3532 1479.54 56.0847 1479.17 Q53.8393 1478.8 51.4319 1478.06 L51.4319 1473.36 Q53.5153 1474.5 55.7375 1475.05 Q57.9597 1475.61 60.4365 1475.61 Q64.4411 1475.61 66.7791 1473.5 Q69.117 1471.4 69.117 1467.78 Q69.117 1464.17 66.7791 1462.07 Q64.4411 1459.96 60.4365 1459.96 Q58.5615 1459.96 56.6865 1460.38 Q54.8347 1460.79 52.8903 1461.67 L52.8903 1444.31 Z\" fill=\"#000000\" fill-rule=\"nonzero\" fill-opacity=\"1\" /><path clip-path=\"url(#clip450)\" d=\"M83.0058 1472.99 L87.8901 1472.99 L87.8901 1478.87 L83.0058 1478.87 L83.0058 1472.99 Z\" fill=\"#000000\" fill-rule=\"nonzero\" fill-opacity=\"1\" /><path clip-path=\"url(#clip450)\" d=\"M108.075 1447.39 Q104.464 1447.39 102.635 1450.96 Q100.83 1454.5 100.83 1461.63 Q100.83 1468.73 102.635 1472.3 Q104.464 1475.84 108.075 1475.84 Q111.709 1475.84 113.515 1472.3 Q115.344 1468.73 115.344 1461.63 Q115.344 1454.5 113.515 1450.96 Q111.709 1447.39 108.075 1447.39 M108.075 1443.69 Q113.885 1443.69 116.941 1448.29 Q120.02 1452.88 120.02 1461.63 Q120.02 1470.35 116.941 1474.96 Q113.885 1479.54 108.075 1479.54 Q102.265 1479.54 99.1863 1474.96 Q96.1308 1470.35 96.1308 1461.63 Q96.1308 1452.88 99.1863 1448.29 Q102.265 1443.69 108.075 1443.69 Z\" fill=\"#000000\" fill-rule=\"nonzero\" fill-opacity=\"1\" /><path clip-path=\"url(#clip450)\" d=\"M156.408 1453.41 L145.83 1464.03 L156.408 1474.61 L153.654 1477.41 L143.029 1466.79 L132.404 1477.41 L129.672 1474.61 L140.228 1464.03 L129.672 1453.41 L132.404 1450.61 L143.029 1461.23 L153.654 1450.61 L156.408 1453.41 Z\" fill=\"#000000\" fill-rule=\"nonzero\" fill-opacity=\"1\" /><path clip-path=\"url(#clip450)\" d=\"M168.769 1474.94 L176.408 1474.94 L176.408 1448.57 L168.098 1450.24 L168.098 1445.98 L176.362 1444.31 L181.038 1444.31 L181.038 1474.94 L188.677 1474.94 L188.677 1478.87 L168.769 1478.87 L168.769 1474.94 Z\" fill=\"#000000\" fill-rule=\"nonzero\" fill-opacity=\"1\" /><path clip-path=\"url(#clip450)\" d=\"M208.121 1447.39 Q204.51 1447.39 202.681 1450.96 Q200.876 1454.5 200.876 1461.63 Q200.876 1468.73 202.681 1472.3 Q204.51 1475.84 208.121 1475.84 Q211.755 1475.84 213.561 1472.3 Q215.389 1468.73 215.389 1461.63 Q215.389 1454.5 213.561 1450.96 Q211.755 1447.39 208.121 1447.39 M208.121 1443.69 Q213.931 1443.69 216.987 1448.29 Q220.065 1452.88 220.065 1461.63 Q220.065 1470.35 216.987 1474.96 Q213.931 1479.54 208.121 1479.54 Q202.311 1479.54 199.232 1474.96 Q196.177 1470.35 196.177 1461.63 Q196.177 1452.88 199.232 1448.29 Q202.311 1443.69 208.121 1443.69 Z\" fill=\"#000000\" fill-rule=\"nonzero\" fill-opacity=\"1\" /><path clip-path=\"url(#clip450)\" d=\"M232.742 1426.69 L223.15 1441.68 L232.742 1441.68 L232.742 1426.69 M231.745 1423.38 L236.522 1423.38 L236.522 1441.68 L240.528 1441.68 L240.528 1444.84 L236.522 1444.84 L236.522 1451.46 L232.742 1451.46 L232.742 1444.84 L220.065 1444.84 L220.065 1441.17 L231.745 1423.38 Z\" fill=\"#000000\" fill-rule=\"nonzero\" fill-opacity=\"1\" /><path clip-path=\"url(#clip450)\" d=\"M63.4226 1038.8 Q60.2745 1038.8 58.4226 1040.96 Q56.5939 1043.11 56.5939 1046.86 Q56.5939 1050.58 58.4226 1052.76 Q60.2745 1054.91 63.4226 1054.91 Q66.5707 1054.91 68.3994 1052.76 Q70.2513 1050.58 70.2513 1046.86 Q70.2513 1043.11 68.3994 1040.96 Q66.5707 1038.8 63.4226 1038.8 M72.705 1024.15 L72.705 1028.41 Q70.9457 1027.58 69.1402 1027.14 Q67.3578 1026.7 65.5985 1026.7 Q60.9689 1026.7 58.5152 1029.82 Q56.0847 1032.95 55.7375 1039.27 Q57.1032 1037.25 59.1634 1036.19 Q61.2236 1035.1 63.7004 1035.1 Q68.9087 1035.1 71.9179 1038.27 Q74.9503 1041.42 74.9503 1046.86 Q74.9503 1052.18 71.8022 1055.4 Q68.6541 1058.62 63.4226 1058.62 Q57.4273 1058.62 54.256 1054.03 Q51.0847 1049.43 51.0847 1040.7 Q51.0847 1032.51 54.9736 1027.65 Q58.8625 1022.76 65.4133 1022.76 Q67.1726 1022.76 68.955 1023.11 Q70.7605 1023.46 72.705 1024.15 Z\" fill=\"#000000\" fill-rule=\"nonzero\" fill-opacity=\"1\" /><path clip-path=\"url(#clip450)\" d=\"M83.0058 1052.07 L87.8901 1052.07 L87.8901 1057.95 L83.0058 1057.95 L83.0058 1052.07 Z\" fill=\"#000000\" fill-rule=\"nonzero\" fill-opacity=\"1\" /><path clip-path=\"url(#clip450)\" d=\"M108.075 1026.46 Q104.464 1026.46 102.635 1030.03 Q100.83 1033.57 100.83 1040.7 Q100.83 1047.81 102.635 1051.37 Q104.464 1054.91 108.075 1054.91 Q111.709 1054.91 113.515 1051.37 Q115.344 1047.81 115.344 1040.7 Q115.344 1033.57 113.515 1030.03 Q111.709 1026.46 108.075 1026.46 M108.075 1022.76 Q113.885 1022.76 116.941 1027.37 Q120.02 1031.95 120.02 1040.7 Q120.02 1049.43 116.941 1054.03 Q113.885 1058.62 108.075 1058.62 Q102.265 1058.62 99.1863 1054.03 Q96.1308 1049.43 96.1308 1040.7 Q96.1308 1031.95 99.1863 1027.37 Q102.265 1022.76 108.075 1022.76 Z\" fill=\"#000000\" fill-rule=\"nonzero\" fill-opacity=\"1\" /><path clip-path=\"url(#clip450)\" d=\"M156.408 1032.48 L145.83 1043.11 L156.408 1053.69 L153.654 1056.49 L143.029 1045.86 L132.404 1056.49 L129.672 1053.69 L140.228 1043.11 L129.672 1032.48 L132.404 1029.68 L143.029 1040.31 L153.654 1029.68 L156.408 1032.48 Z\" fill=\"#000000\" fill-rule=\"nonzero\" fill-opacity=\"1\" /><path clip-path=\"url(#clip450)\" d=\"M168.769 1054.01 L176.408 1054.01 L176.408 1027.65 L168.098 1029.31 L168.098 1025.05 L176.362 1023.39 L181.038 1023.39 L181.038 1054.01 L188.677 1054.01 L188.677 1057.95 L168.769 1057.95 L168.769 1054.01 Z\" fill=\"#000000\" fill-rule=\"nonzero\" fill-opacity=\"1\" /><path clip-path=\"url(#clip450)\" d=\"M208.121 1026.46 Q204.51 1026.46 202.681 1030.03 Q200.876 1033.57 200.876 1040.7 Q200.876 1047.81 202.681 1051.37 Q204.51 1054.91 208.121 1054.91 Q211.755 1054.91 213.561 1051.37 Q215.389 1047.81 215.389 1040.7 Q215.389 1033.57 213.561 1030.03 Q211.755 1026.46 208.121 1026.46 M208.121 1022.76 Q213.931 1022.76 216.987 1027.37 Q220.065 1031.95 220.065 1040.7 Q220.065 1049.43 216.987 1054.03 Q213.931 1058.62 208.121 1058.62 Q202.311 1058.62 199.232 1054.03 Q196.177 1049.43 196.177 1040.7 Q196.177 1031.95 199.232 1027.37 Q202.311 1022.76 208.121 1022.76 Z\" fill=\"#000000\" fill-rule=\"nonzero\" fill-opacity=\"1\" /><path clip-path=\"url(#clip450)\" d=\"M232.742 1005.77 L223.15 1020.76 L232.742 1020.76 L232.742 1005.77 M231.745 1002.46 L236.522 1002.46 L236.522 1020.76 L240.528 1020.76 L240.528 1023.92 L236.522 1023.92 L236.522 1030.54 L232.742 1030.54 L232.742 1023.92 L220.065 1023.92 L220.065 1020.25 L231.745 1002.46 Z\" fill=\"#000000\" fill-rule=\"nonzero\" fill-opacity=\"1\" /><path clip-path=\"url(#clip450)\" d=\"M51.6634 602.46 L73.8855 602.46 L73.8855 604.45 L61.3393 637.02 L56.4551 637.02 L68.2606 606.395 L51.6634 606.395 L51.6634 602.46 Z\" fill=\"#000000\" fill-rule=\"nonzero\" fill-opacity=\"1\" /><path clip-path=\"url(#clip450)\" d=\"M83.0058 631.14 L87.8901 631.14 L87.8901 637.02 L83.0058 637.02 L83.0058 631.14 Z\" fill=\"#000000\" fill-rule=\"nonzero\" fill-opacity=\"1\" /><path clip-path=\"url(#clip450)\" d=\"M108.075 605.538 Q104.464 605.538 102.635 609.103 Q100.83 612.645 100.83 619.774 Q100.83 626.881 102.635 630.446 Q104.464 633.987 108.075 633.987 Q111.709 633.987 113.515 630.446 Q115.344 626.881 115.344 619.774 Q115.344 612.645 113.515 609.103 Q111.709 605.538 108.075 605.538 M108.075 601.835 Q113.885 601.835 116.941 606.441 Q120.02 611.024 120.02 619.774 Q120.02 628.501 116.941 633.108 Q113.885 637.691 108.075 637.691 Q102.265 637.691 99.1863 633.108 Q96.1308 628.501 96.1308 619.774 Q96.1308 611.024 99.1863 606.441 Q102.265 601.835 108.075 601.835 Z\" fill=\"#000000\" fill-rule=\"nonzero\" fill-opacity=\"1\" /><path clip-path=\"url(#clip450)\" d=\"M156.408 611.557 L145.83 622.182 L156.408 632.76 L153.654 635.561 L143.029 624.936 L132.404 635.561 L129.672 632.76 L140.228 622.182 L129.672 611.557 L132.404 608.756 L143.029 619.381 L153.654 608.756 L156.408 611.557 Z\" fill=\"#000000\" fill-rule=\"nonzero\" fill-opacity=\"1\" /><path clip-path=\"url(#clip450)\" d=\"M168.769 633.085 L176.408 633.085 L176.408 606.719 L168.098 608.386 L168.098 604.126 L176.362 602.46 L181.038 602.46 L181.038 633.085 L188.677 633.085 L188.677 637.02 L168.769 637.02 L168.769 633.085 Z\" fill=\"#000000\" fill-rule=\"nonzero\" fill-opacity=\"1\" /><path clip-path=\"url(#clip450)\" d=\"M208.121 605.538 Q204.51 605.538 202.681 609.103 Q200.876 612.645 200.876 619.774 Q200.876 626.881 202.681 630.446 Q204.51 633.987 208.121 633.987 Q211.755 633.987 213.561 630.446 Q215.389 626.881 215.389 619.774 Q215.389 612.645 213.561 609.103 Q211.755 605.538 208.121 605.538 M208.121 601.835 Q213.931 601.835 216.987 606.441 Q220.065 611.024 220.065 619.774 Q220.065 628.501 216.987 633.108 Q213.931 637.691 208.121 637.691 Q202.311 637.691 199.232 633.108 Q196.177 628.501 196.177 619.774 Q196.177 611.024 199.232 606.441 Q202.311 601.835 208.121 601.835 Z\" fill=\"#000000\" fill-rule=\"nonzero\" fill-opacity=\"1\" /><path clip-path=\"url(#clip450)\" d=\"M232.742 584.839 L223.15 599.829 L232.742 599.829 L232.742 584.839 M231.745 581.529 L236.522 581.529 L236.522 599.829 L240.528 599.829 L240.528 602.989 L236.522 602.989 L236.522 609.609 L232.742 609.609 L232.742 602.989 L220.065 602.989 L220.065 599.321 L231.745 581.529 Z\" fill=\"#000000\" fill-rule=\"nonzero\" fill-opacity=\"1\" /><path clip-path=\"url(#clip450)\" d=\"M62.8439 199.682 Q59.5106 199.682 57.5893 201.464 Q55.6912 203.246 55.6912 206.371 Q55.6912 209.496 57.5893 211.279 Q59.5106 213.061 62.8439 213.061 Q66.1772 213.061 68.0985 211.279 Q70.0198 209.473 70.0198 206.371 Q70.0198 203.246 68.0985 201.464 Q66.2004 199.682 62.8439 199.682 M58.168 197.691 Q55.1588 196.95 53.469 194.89 Q51.8023 192.83 51.8023 189.867 Q51.8023 185.723 54.7421 183.316 Q57.7051 180.909 62.8439 180.909 Q68.0059 180.909 70.9457 183.316 Q73.8855 185.723 73.8855 189.867 Q73.8855 192.83 72.1957 194.89 Q70.5291 196.95 67.543 197.691 Q70.9226 198.478 72.7976 200.77 Q74.6957 203.061 74.6957 206.371 Q74.6957 211.395 71.617 214.08 Q68.5615 216.765 62.8439 216.765 Q57.1264 216.765 54.0477 214.08 Q50.9921 211.395 50.9921 206.371 Q50.9921 203.061 52.8903 200.77 Q54.7884 198.478 58.168 197.691 M56.4551 190.307 Q56.4551 192.992 58.1217 194.496 Q59.8115 196.001 62.8439 196.001 Q65.8532 196.001 67.543 194.496 Q69.2559 192.992 69.2559 190.307 Q69.2559 187.621 67.543 186.117 Q65.8532 184.612 62.8439 184.612 Q59.8115 184.612 58.1217 186.117 Q56.4551 187.621 56.4551 190.307 Z\" fill=\"#000000\" fill-rule=\"nonzero\" fill-opacity=\"1\" /><path clip-path=\"url(#clip450)\" d=\"M83.0058 210.214 L87.8901 210.214 L87.8901 216.094 L83.0058 216.094 L83.0058 210.214 Z\" fill=\"#000000\" fill-rule=\"nonzero\" fill-opacity=\"1\" /><path clip-path=\"url(#clip450)\" d=\"M108.075 184.612 Q104.464 184.612 102.635 188.177 Q100.83 191.719 100.83 198.848 Q100.83 205.955 102.635 209.52 Q104.464 213.061 108.075 213.061 Q111.709 213.061 113.515 209.52 Q115.344 205.955 115.344 198.848 Q115.344 191.719 113.515 188.177 Q111.709 184.612 108.075 184.612 M108.075 180.909 Q113.885 180.909 116.941 185.515 Q120.02 190.098 120.02 198.848 Q120.02 207.575 116.941 212.182 Q113.885 216.765 108.075 216.765 Q102.265 216.765 99.1863 212.182 Q96.1308 207.575 96.1308 198.848 Q96.1308 190.098 99.1863 185.515 Q102.265 180.909 108.075 180.909 Z\" fill=\"#000000\" fill-rule=\"nonzero\" fill-opacity=\"1\" /><path clip-path=\"url(#clip450)\" d=\"M156.408 190.631 L145.83 201.256 L156.408 211.834 L153.654 214.635 L143.029 204.01 L132.404 214.635 L129.672 211.834 L140.228 201.256 L129.672 190.631 L132.404 187.83 L143.029 198.455 L153.654 187.83 L156.408 190.631 Z\" fill=\"#000000\" fill-rule=\"nonzero\" fill-opacity=\"1\" /><path clip-path=\"url(#clip450)\" d=\"M168.769 212.158 L176.408 212.158 L176.408 185.793 L168.098 187.459 L168.098 183.2 L176.362 181.534 L181.038 181.534 L181.038 212.158 L188.677 212.158 L188.677 216.094 L168.769 216.094 L168.769 212.158 Z\" fill=\"#000000\" fill-rule=\"nonzero\" fill-opacity=\"1\" /><path clip-path=\"url(#clip450)\" d=\"M208.121 184.612 Q204.51 184.612 202.681 188.177 Q200.876 191.719 200.876 198.848 Q200.876 205.955 202.681 209.52 Q204.51 213.061 208.121 213.061 Q211.755 213.061 213.561 209.52 Q215.389 205.955 215.389 198.848 Q215.389 191.719 213.561 188.177 Q211.755 184.612 208.121 184.612 M208.121 180.909 Q213.931 180.909 216.987 185.515 Q220.065 190.098 220.065 198.848 Q220.065 207.575 216.987 212.182 Q213.931 216.765 208.121 216.765 Q202.311 216.765 199.232 212.182 Q196.177 207.575 196.177 198.848 Q196.177 190.098 199.232 185.515 Q202.311 180.909 208.121 180.909 Z\" fill=\"#000000\" fill-rule=\"nonzero\" fill-opacity=\"1\" /><path clip-path=\"url(#clip450)\" d=\"M232.742 163.913 L223.15 178.903 L232.742 178.903 L232.742 163.913 M231.745 160.603 L236.522 160.603 L236.522 178.903 L240.528 178.903 L240.528 182.063 L236.522 182.063 L236.522 188.683 L232.742 188.683 L232.742 182.063 L220.065 182.063 L220.065 178.395 L231.745 160.603 Z\" fill=\"#000000\" fill-rule=\"nonzero\" fill-opacity=\"1\" /><polyline clip-path=\"url(#clip452)\" style=\"stroke:#009af9; stroke-linecap:round; stroke-linejoin:round; stroke-width:4; stroke-opacity:1; fill:none\" points=\"335.289,1445.72 374.463,1445.72 413.638,863.827 452.812,87.9763 491.986,87.9763 531.16,87.9763 570.334,87.9763 609.508,87.9763 648.682,87.9763 687.856,87.9763 727.03,87.9763 766.205,87.9763 805.379,87.9763 844.553,87.9763 883.727,87.9763 922.901,87.9763 962.075,87.9763 1001.25,87.9763 1040.42,87.9763 1079.6,87.9763 1118.77,87.9763 1157.95,87.9763 1197.12,87.9763 1236.29,87.9763 1275.47,87.9763 1314.64,87.9763 1353.82,87.9763 1392.99,87.9763 1432.16,87.9763 1471.34,87.9763 1510.51,87.9763 1549.69,87.9763 1588.86,87.9763 1628.03,87.9763 1667.21,87.9763 1706.38,87.9763 1745.56,87.9763 1784.73,87.9763 1823.91,87.9763 1863.08,87.9763 1902.25,87.9763 1941.43,87.9763 1980.6,87.9763 2019.78,87.9763 2058.95,87.9763 2098.12,87.9763 2137.3,87.9763 2176.47,87.9763 2215.65,87.9763 2254.82,87.9763 2293.99,87.9763 \"/>\n",
       "<circle clip-path=\"url(#clip452)\" cx=\"335.289\" cy=\"1445.72\" r=\"14.4\" fill=\"#009af9\" fill-rule=\"evenodd\" fill-opacity=\"1\" stroke=\"#000000\" stroke-opacity=\"1\" stroke-width=\"3.2\"/>\n",
       "<circle clip-path=\"url(#clip452)\" cx=\"374.463\" cy=\"1445.72\" r=\"14.4\" fill=\"#009af9\" fill-rule=\"evenodd\" fill-opacity=\"1\" stroke=\"#000000\" stroke-opacity=\"1\" stroke-width=\"3.2\"/>\n",
       "<circle clip-path=\"url(#clip452)\" cx=\"413.638\" cy=\"863.827\" r=\"14.4\" fill=\"#009af9\" fill-rule=\"evenodd\" fill-opacity=\"1\" stroke=\"#000000\" stroke-opacity=\"1\" stroke-width=\"3.2\"/>\n",
       "<circle clip-path=\"url(#clip452)\" cx=\"452.812\" cy=\"87.9763\" r=\"14.4\" fill=\"#009af9\" fill-rule=\"evenodd\" fill-opacity=\"1\" stroke=\"#000000\" stroke-opacity=\"1\" stroke-width=\"3.2\"/>\n",
       "<circle clip-path=\"url(#clip452)\" cx=\"491.986\" cy=\"87.9763\" r=\"14.4\" fill=\"#009af9\" fill-rule=\"evenodd\" fill-opacity=\"1\" stroke=\"#000000\" stroke-opacity=\"1\" stroke-width=\"3.2\"/>\n",
       "<circle clip-path=\"url(#clip452)\" cx=\"531.16\" cy=\"87.9763\" r=\"14.4\" fill=\"#009af9\" fill-rule=\"evenodd\" fill-opacity=\"1\" stroke=\"#000000\" stroke-opacity=\"1\" stroke-width=\"3.2\"/>\n",
       "<circle clip-path=\"url(#clip452)\" cx=\"570.334\" cy=\"87.9763\" r=\"14.4\" fill=\"#009af9\" fill-rule=\"evenodd\" fill-opacity=\"1\" stroke=\"#000000\" stroke-opacity=\"1\" stroke-width=\"3.2\"/>\n",
       "<circle clip-path=\"url(#clip452)\" cx=\"609.508\" cy=\"87.9763\" r=\"14.4\" fill=\"#009af9\" fill-rule=\"evenodd\" fill-opacity=\"1\" stroke=\"#000000\" stroke-opacity=\"1\" stroke-width=\"3.2\"/>\n",
       "<circle clip-path=\"url(#clip452)\" cx=\"648.682\" cy=\"87.9763\" r=\"14.4\" fill=\"#009af9\" fill-rule=\"evenodd\" fill-opacity=\"1\" stroke=\"#000000\" stroke-opacity=\"1\" stroke-width=\"3.2\"/>\n",
       "<circle clip-path=\"url(#clip452)\" cx=\"687.856\" cy=\"87.9763\" r=\"14.4\" fill=\"#009af9\" fill-rule=\"evenodd\" fill-opacity=\"1\" stroke=\"#000000\" stroke-opacity=\"1\" stroke-width=\"3.2\"/>\n",
       "<circle clip-path=\"url(#clip452)\" cx=\"727.03\" cy=\"87.9763\" r=\"14.4\" fill=\"#009af9\" fill-rule=\"evenodd\" fill-opacity=\"1\" stroke=\"#000000\" stroke-opacity=\"1\" stroke-width=\"3.2\"/>\n",
       "<circle clip-path=\"url(#clip452)\" cx=\"766.205\" cy=\"87.9763\" r=\"14.4\" fill=\"#009af9\" fill-rule=\"evenodd\" fill-opacity=\"1\" stroke=\"#000000\" stroke-opacity=\"1\" stroke-width=\"3.2\"/>\n",
       "<circle clip-path=\"url(#clip452)\" cx=\"805.379\" cy=\"87.9763\" r=\"14.4\" fill=\"#009af9\" fill-rule=\"evenodd\" fill-opacity=\"1\" stroke=\"#000000\" stroke-opacity=\"1\" stroke-width=\"3.2\"/>\n",
       "<circle clip-path=\"url(#clip452)\" cx=\"844.553\" cy=\"87.9763\" r=\"14.4\" fill=\"#009af9\" fill-rule=\"evenodd\" fill-opacity=\"1\" stroke=\"#000000\" stroke-opacity=\"1\" stroke-width=\"3.2\"/>\n",
       "<circle clip-path=\"url(#clip452)\" cx=\"883.727\" cy=\"87.9763\" r=\"14.4\" fill=\"#009af9\" fill-rule=\"evenodd\" fill-opacity=\"1\" stroke=\"#000000\" stroke-opacity=\"1\" stroke-width=\"3.2\"/>\n",
       "<circle clip-path=\"url(#clip452)\" cx=\"922.901\" cy=\"87.9763\" r=\"14.4\" fill=\"#009af9\" fill-rule=\"evenodd\" fill-opacity=\"1\" stroke=\"#000000\" stroke-opacity=\"1\" stroke-width=\"3.2\"/>\n",
       "<circle clip-path=\"url(#clip452)\" cx=\"962.075\" cy=\"87.9763\" r=\"14.4\" fill=\"#009af9\" fill-rule=\"evenodd\" fill-opacity=\"1\" stroke=\"#000000\" stroke-opacity=\"1\" stroke-width=\"3.2\"/>\n",
       "<circle clip-path=\"url(#clip452)\" cx=\"1001.25\" cy=\"87.9763\" r=\"14.4\" fill=\"#009af9\" fill-rule=\"evenodd\" fill-opacity=\"1\" stroke=\"#000000\" stroke-opacity=\"1\" stroke-width=\"3.2\"/>\n",
       "<circle clip-path=\"url(#clip452)\" cx=\"1040.42\" cy=\"87.9763\" r=\"14.4\" fill=\"#009af9\" fill-rule=\"evenodd\" fill-opacity=\"1\" stroke=\"#000000\" stroke-opacity=\"1\" stroke-width=\"3.2\"/>\n",
       "<circle clip-path=\"url(#clip452)\" cx=\"1079.6\" cy=\"87.9763\" r=\"14.4\" fill=\"#009af9\" fill-rule=\"evenodd\" fill-opacity=\"1\" stroke=\"#000000\" stroke-opacity=\"1\" stroke-width=\"3.2\"/>\n",
       "<circle clip-path=\"url(#clip452)\" cx=\"1118.77\" cy=\"87.9763\" r=\"14.4\" fill=\"#009af9\" fill-rule=\"evenodd\" fill-opacity=\"1\" stroke=\"#000000\" stroke-opacity=\"1\" stroke-width=\"3.2\"/>\n",
       "<circle clip-path=\"url(#clip452)\" cx=\"1157.95\" cy=\"87.9763\" r=\"14.4\" fill=\"#009af9\" fill-rule=\"evenodd\" fill-opacity=\"1\" stroke=\"#000000\" stroke-opacity=\"1\" stroke-width=\"3.2\"/>\n",
       "<circle clip-path=\"url(#clip452)\" cx=\"1197.12\" cy=\"87.9763\" r=\"14.4\" fill=\"#009af9\" fill-rule=\"evenodd\" fill-opacity=\"1\" stroke=\"#000000\" stroke-opacity=\"1\" stroke-width=\"3.2\"/>\n",
       "<circle clip-path=\"url(#clip452)\" cx=\"1236.29\" cy=\"87.9763\" r=\"14.4\" fill=\"#009af9\" fill-rule=\"evenodd\" fill-opacity=\"1\" stroke=\"#000000\" stroke-opacity=\"1\" stroke-width=\"3.2\"/>\n",
       "<circle clip-path=\"url(#clip452)\" cx=\"1275.47\" cy=\"87.9763\" r=\"14.4\" fill=\"#009af9\" fill-rule=\"evenodd\" fill-opacity=\"1\" stroke=\"#000000\" stroke-opacity=\"1\" stroke-width=\"3.2\"/>\n",
       "<circle clip-path=\"url(#clip452)\" cx=\"1314.64\" cy=\"87.9763\" r=\"14.4\" fill=\"#009af9\" fill-rule=\"evenodd\" fill-opacity=\"1\" stroke=\"#000000\" stroke-opacity=\"1\" stroke-width=\"3.2\"/>\n",
       "<circle clip-path=\"url(#clip452)\" cx=\"1353.82\" cy=\"87.9763\" r=\"14.4\" fill=\"#009af9\" fill-rule=\"evenodd\" fill-opacity=\"1\" stroke=\"#000000\" stroke-opacity=\"1\" stroke-width=\"3.2\"/>\n",
       "<circle clip-path=\"url(#clip452)\" cx=\"1392.99\" cy=\"87.9763\" r=\"14.4\" fill=\"#009af9\" fill-rule=\"evenodd\" fill-opacity=\"1\" stroke=\"#000000\" stroke-opacity=\"1\" stroke-width=\"3.2\"/>\n",
       "<circle clip-path=\"url(#clip452)\" cx=\"1432.16\" cy=\"87.9763\" r=\"14.4\" fill=\"#009af9\" fill-rule=\"evenodd\" fill-opacity=\"1\" stroke=\"#000000\" stroke-opacity=\"1\" stroke-width=\"3.2\"/>\n",
       "<circle clip-path=\"url(#clip452)\" cx=\"1471.34\" cy=\"87.9763\" r=\"14.4\" fill=\"#009af9\" fill-rule=\"evenodd\" fill-opacity=\"1\" stroke=\"#000000\" stroke-opacity=\"1\" stroke-width=\"3.2\"/>\n",
       "<circle clip-path=\"url(#clip452)\" cx=\"1510.51\" cy=\"87.9763\" r=\"14.4\" fill=\"#009af9\" fill-rule=\"evenodd\" fill-opacity=\"1\" stroke=\"#000000\" stroke-opacity=\"1\" stroke-width=\"3.2\"/>\n",
       "<circle clip-path=\"url(#clip452)\" cx=\"1549.69\" cy=\"87.9763\" r=\"14.4\" fill=\"#009af9\" fill-rule=\"evenodd\" fill-opacity=\"1\" stroke=\"#000000\" stroke-opacity=\"1\" stroke-width=\"3.2\"/>\n",
       "<circle clip-path=\"url(#clip452)\" cx=\"1588.86\" cy=\"87.9763\" r=\"14.4\" fill=\"#009af9\" fill-rule=\"evenodd\" fill-opacity=\"1\" stroke=\"#000000\" stroke-opacity=\"1\" stroke-width=\"3.2\"/>\n",
       "<circle clip-path=\"url(#clip452)\" cx=\"1628.03\" cy=\"87.9763\" r=\"14.4\" fill=\"#009af9\" fill-rule=\"evenodd\" fill-opacity=\"1\" stroke=\"#000000\" stroke-opacity=\"1\" stroke-width=\"3.2\"/>\n",
       "<circle clip-path=\"url(#clip452)\" cx=\"1667.21\" cy=\"87.9763\" r=\"14.4\" fill=\"#009af9\" fill-rule=\"evenodd\" fill-opacity=\"1\" stroke=\"#000000\" stroke-opacity=\"1\" stroke-width=\"3.2\"/>\n",
       "<circle clip-path=\"url(#clip452)\" cx=\"1706.38\" cy=\"87.9763\" r=\"14.4\" fill=\"#009af9\" fill-rule=\"evenodd\" fill-opacity=\"1\" stroke=\"#000000\" stroke-opacity=\"1\" stroke-width=\"3.2\"/>\n",
       "<circle clip-path=\"url(#clip452)\" cx=\"1745.56\" cy=\"87.9763\" r=\"14.4\" fill=\"#009af9\" fill-rule=\"evenodd\" fill-opacity=\"1\" stroke=\"#000000\" stroke-opacity=\"1\" stroke-width=\"3.2\"/>\n",
       "<circle clip-path=\"url(#clip452)\" cx=\"1784.73\" cy=\"87.9763\" r=\"14.4\" fill=\"#009af9\" fill-rule=\"evenodd\" fill-opacity=\"1\" stroke=\"#000000\" stroke-opacity=\"1\" stroke-width=\"3.2\"/>\n",
       "<circle clip-path=\"url(#clip452)\" cx=\"1823.91\" cy=\"87.9763\" r=\"14.4\" fill=\"#009af9\" fill-rule=\"evenodd\" fill-opacity=\"1\" stroke=\"#000000\" stroke-opacity=\"1\" stroke-width=\"3.2\"/>\n",
       "<circle clip-path=\"url(#clip452)\" cx=\"1863.08\" cy=\"87.9763\" r=\"14.4\" fill=\"#009af9\" fill-rule=\"evenodd\" fill-opacity=\"1\" stroke=\"#000000\" stroke-opacity=\"1\" stroke-width=\"3.2\"/>\n",
       "<circle clip-path=\"url(#clip452)\" cx=\"1902.25\" cy=\"87.9763\" r=\"14.4\" fill=\"#009af9\" fill-rule=\"evenodd\" fill-opacity=\"1\" stroke=\"#000000\" stroke-opacity=\"1\" stroke-width=\"3.2\"/>\n",
       "<circle clip-path=\"url(#clip452)\" cx=\"1941.43\" cy=\"87.9763\" r=\"14.4\" fill=\"#009af9\" fill-rule=\"evenodd\" fill-opacity=\"1\" stroke=\"#000000\" stroke-opacity=\"1\" stroke-width=\"3.2\"/>\n",
       "<circle clip-path=\"url(#clip452)\" cx=\"1980.6\" cy=\"87.9763\" r=\"14.4\" fill=\"#009af9\" fill-rule=\"evenodd\" fill-opacity=\"1\" stroke=\"#000000\" stroke-opacity=\"1\" stroke-width=\"3.2\"/>\n",
       "<circle clip-path=\"url(#clip452)\" cx=\"2019.78\" cy=\"87.9763\" r=\"14.4\" fill=\"#009af9\" fill-rule=\"evenodd\" fill-opacity=\"1\" stroke=\"#000000\" stroke-opacity=\"1\" stroke-width=\"3.2\"/>\n",
       "<circle clip-path=\"url(#clip452)\" cx=\"2058.95\" cy=\"87.9763\" r=\"14.4\" fill=\"#009af9\" fill-rule=\"evenodd\" fill-opacity=\"1\" stroke=\"#000000\" stroke-opacity=\"1\" stroke-width=\"3.2\"/>\n",
       "<circle clip-path=\"url(#clip452)\" cx=\"2098.12\" cy=\"87.9763\" r=\"14.4\" fill=\"#009af9\" fill-rule=\"evenodd\" fill-opacity=\"1\" stroke=\"#000000\" stroke-opacity=\"1\" stroke-width=\"3.2\"/>\n",
       "<circle clip-path=\"url(#clip452)\" cx=\"2137.3\" cy=\"87.9763\" r=\"14.4\" fill=\"#009af9\" fill-rule=\"evenodd\" fill-opacity=\"1\" stroke=\"#000000\" stroke-opacity=\"1\" stroke-width=\"3.2\"/>\n",
       "<circle clip-path=\"url(#clip452)\" cx=\"2176.47\" cy=\"87.9763\" r=\"14.4\" fill=\"#009af9\" fill-rule=\"evenodd\" fill-opacity=\"1\" stroke=\"#000000\" stroke-opacity=\"1\" stroke-width=\"3.2\"/>\n",
       "<circle clip-path=\"url(#clip452)\" cx=\"2215.65\" cy=\"87.9763\" r=\"14.4\" fill=\"#009af9\" fill-rule=\"evenodd\" fill-opacity=\"1\" stroke=\"#000000\" stroke-opacity=\"1\" stroke-width=\"3.2\"/>\n",
       "<circle clip-path=\"url(#clip452)\" cx=\"2254.82\" cy=\"87.9763\" r=\"14.4\" fill=\"#009af9\" fill-rule=\"evenodd\" fill-opacity=\"1\" stroke=\"#000000\" stroke-opacity=\"1\" stroke-width=\"3.2\"/>\n",
       "<circle clip-path=\"url(#clip452)\" cx=\"2293.99\" cy=\"87.9763\" r=\"14.4\" fill=\"#009af9\" fill-rule=\"evenodd\" fill-opacity=\"1\" stroke=\"#000000\" stroke-opacity=\"1\" stroke-width=\"3.2\"/>\n",
       "<path clip-path=\"url(#clip450)\" d=\"M1957.27 1438.47 L2283.55 1438.47 L2283.55 1334.79 L1957.27 1334.79  Z\" fill=\"#ffffff\" fill-rule=\"evenodd\" fill-opacity=\"1\"/>\n",
       "<polyline clip-path=\"url(#clip450)\" style=\"stroke:#000000; stroke-linecap:round; stroke-linejoin:round; stroke-width:4; stroke-opacity:1; fill:none\" points=\"1957.27,1438.47 2283.55,1438.47 2283.55,1334.79 1957.27,1334.79 1957.27,1438.47 \"/>\n",
       "<polyline clip-path=\"url(#clip450)\" style=\"stroke:#009af9; stroke-linecap:round; stroke-linejoin:round; stroke-width:4; stroke-opacity:1; fill:none\" points=\"1980.34,1386.63 2118.75,1386.63 \"/>\n",
       "<circle clip-path=\"url(#clip450)\" cx=\"2049.55\" cy=\"1386.63\" r=\"19.2243\" fill=\"#009af9\" fill-rule=\"evenodd\" fill-opacity=\"1\" stroke=\"#000000\" stroke-opacity=\"1\" stroke-width=\"4.55111\"/>\n",
       "<path clip-path=\"url(#clip450)\" d=\"M2141.82 1369.35 L2146.5 1369.35 L2146.5 1399.98 L2163.33 1399.98 L2163.33 1403.91 L2141.82 1403.91 L2141.82 1369.35 Z\" fill=\"#000000\" fill-rule=\"nonzero\" fill-opacity=\"1\" /><path clip-path=\"url(#clip450)\" d=\"M2168.6 1382.39 L2198.28 1382.39 L2198.28 1386.28 L2168.6 1386.28 L2168.6 1382.39 M2168.6 1391.83 L2198.28 1391.83 L2198.28 1395.77 L2168.6 1395.77 L2168.6 1391.83 Z\" fill=\"#000000\" fill-rule=\"nonzero\" fill-opacity=\"1\" /><path clip-path=\"url(#clip450)\" d=\"M2209.18 1399.98 L2216.82 1399.98 L2216.82 1373.61 L2208.51 1375.28 L2208.51 1371.02 L2216.78 1369.35 L2221.45 1369.35 L2221.45 1399.98 L2229.09 1399.98 L2229.09 1403.91 L2209.18 1403.91 L2209.18 1399.98 Z\" fill=\"#000000\" fill-rule=\"nonzero\" fill-opacity=\"1\" /><path clip-path=\"url(#clip450)\" d=\"M2248.53 1372.43 Q2244.92 1372.43 2243.09 1376 Q2241.29 1379.54 2241.29 1386.67 Q2241.29 1393.78 2243.09 1397.34 Q2244.92 1400.88 2248.53 1400.88 Q2252.17 1400.88 2253.97 1397.34 Q2255.8 1393.78 2255.8 1386.67 Q2255.8 1379.54 2253.97 1376 Q2252.17 1372.43 2248.53 1372.43 M2248.53 1368.73 Q2254.34 1368.73 2257.4 1373.34 Q2260.48 1377.92 2260.48 1386.67 Q2260.48 1395.4 2257.4 1400 Q2254.34 1404.59 2248.53 1404.59 Q2242.72 1404.59 2239.65 1400 Q2236.59 1395.4 2236.59 1386.67 Q2236.59 1377.92 2239.65 1373.34 Q2242.72 1368.73 2248.53 1368.73 Z\" fill=\"#000000\" fill-rule=\"nonzero\" fill-opacity=\"1\" /></svg>\n"
      ],
      "text/html": [
       "<?xml version=\"1.0\" encoding=\"utf-8\"?>\n",
       "<svg xmlns=\"http://www.w3.org/2000/svg\" xmlns:xlink=\"http://www.w3.org/1999/xlink\" width=\"600\" height=\"400\" viewBox=\"0 0 2400 1600\">\n",
       "<defs>\n",
       "  <clipPath id=\"clip500\">\n",
       "    <rect x=\"0\" y=\"0\" width=\"2400\" height=\"1600\"/>\n",
       "  </clipPath>\n",
       "</defs>\n",
       "<path clip-path=\"url(#clip500)\" d=\"M0 1600 L2400 1600 L2400 0 L0 0  Z\" fill=\"#ffffff\" fill-rule=\"evenodd\" fill-opacity=\"1\"/>\n",
       "<defs>\n",
       "  <clipPath id=\"clip501\">\n",
       "    <rect x=\"480\" y=\"0\" width=\"1681\" height=\"1600\"/>\n",
       "  </clipPath>\n",
       "</defs>\n",
       "<path clip-path=\"url(#clip500)\" d=\"M276.528 1486.45 L2352.76 1486.45 L2352.76 47.2441 L276.528 47.2441  Z\" fill=\"#ffffff\" fill-rule=\"evenodd\" fill-opacity=\"1\"/>\n",
       "<defs>\n",
       "  <clipPath id=\"clip502\">\n",
       "    <rect x=\"276\" y=\"47\" width=\"2077\" height=\"1440\"/>\n",
       "  </clipPath>\n",
       "</defs>\n",
       "<polyline clip-path=\"url(#clip502)\" style=\"stroke:#000000; stroke-linecap:round; stroke-linejoin:round; stroke-width:2; stroke-opacity:0.1; fill:none\" points=\"296.115,1486.45 296.115,47.2441 \"/>\n",
       "<polyline clip-path=\"url(#clip502)\" style=\"stroke:#000000; stroke-linecap:round; stroke-linejoin:round; stroke-width:2; stroke-opacity:0.1; fill:none\" points=\"687.856,1486.45 687.856,47.2441 \"/>\n",
       "<polyline clip-path=\"url(#clip502)\" style=\"stroke:#000000; stroke-linecap:round; stroke-linejoin:round; stroke-width:2; stroke-opacity:0.1; fill:none\" points=\"1079.6,1486.45 1079.6,47.2441 \"/>\n",
       "<polyline clip-path=\"url(#clip502)\" style=\"stroke:#000000; stroke-linecap:round; stroke-linejoin:round; stroke-width:2; stroke-opacity:0.1; fill:none\" points=\"1471.34,1486.45 1471.34,47.2441 \"/>\n",
       "<polyline clip-path=\"url(#clip502)\" style=\"stroke:#000000; stroke-linecap:round; stroke-linejoin:round; stroke-width:2; stroke-opacity:0.1; fill:none\" points=\"1863.08,1486.45 1863.08,47.2441 \"/>\n",
       "<polyline clip-path=\"url(#clip502)\" style=\"stroke:#000000; stroke-linecap:round; stroke-linejoin:round; stroke-width:2; stroke-opacity:0.1; fill:none\" points=\"2254.82,1486.45 2254.82,47.2441 \"/>\n",
       "<polyline clip-path=\"url(#clip500)\" style=\"stroke:#000000; stroke-linecap:round; stroke-linejoin:round; stroke-width:4; stroke-opacity:1; fill:none\" points=\"276.528,1486.45 2352.76,1486.45 \"/>\n",
       "<polyline clip-path=\"url(#clip500)\" style=\"stroke:#000000; stroke-linecap:round; stroke-linejoin:round; stroke-width:4; stroke-opacity:1; fill:none\" points=\"296.115,1486.45 296.115,1467.55 \"/>\n",
       "<polyline clip-path=\"url(#clip500)\" style=\"stroke:#000000; stroke-linecap:round; stroke-linejoin:round; stroke-width:4; stroke-opacity:1; fill:none\" points=\"687.856,1486.45 687.856,1467.55 \"/>\n",
       "<polyline clip-path=\"url(#clip500)\" style=\"stroke:#000000; stroke-linecap:round; stroke-linejoin:round; stroke-width:4; stroke-opacity:1; fill:none\" points=\"1079.6,1486.45 1079.6,1467.55 \"/>\n",
       "<polyline clip-path=\"url(#clip500)\" style=\"stroke:#000000; stroke-linecap:round; stroke-linejoin:round; stroke-width:4; stroke-opacity:1; fill:none\" points=\"1471.34,1486.45 1471.34,1467.55 \"/>\n",
       "<polyline clip-path=\"url(#clip500)\" style=\"stroke:#000000; stroke-linecap:round; stroke-linejoin:round; stroke-width:4; stroke-opacity:1; fill:none\" points=\"1863.08,1486.45 1863.08,1467.55 \"/>\n",
       "<polyline clip-path=\"url(#clip500)\" style=\"stroke:#000000; stroke-linecap:round; stroke-linejoin:round; stroke-width:4; stroke-opacity:1; fill:none\" points=\"2254.82,1486.45 2254.82,1467.55 \"/>\n",
       "<path clip-path=\"url(#clip500)\" d=\"M296.115 1517.37 Q292.504 1517.37 290.675 1520.93 Q288.87 1524.47 288.87 1531.6 Q288.87 1538.71 290.675 1542.27 Q292.504 1545.82 296.115 1545.82 Q299.749 1545.82 301.555 1542.27 Q303.384 1538.71 303.384 1531.6 Q303.384 1524.47 301.555 1520.93 Q299.749 1517.37 296.115 1517.37 M296.115 1513.66 Q301.925 1513.66 304.981 1518.27 Q308.06 1522.85 308.06 1531.6 Q308.06 1540.33 304.981 1544.94 Q301.925 1549.52 296.115 1549.52 Q290.305 1549.52 287.226 1544.94 Q284.171 1540.33 284.171 1531.6 Q284.171 1522.85 287.226 1518.27 Q290.305 1513.66 296.115 1513.66 Z\" fill=\"#000000\" fill-rule=\"nonzero\" fill-opacity=\"1\" /><path clip-path=\"url(#clip500)\" d=\"M662.544 1544.91 L670.183 1544.91 L670.183 1518.55 L661.873 1520.21 L661.873 1515.95 L670.136 1514.29 L674.812 1514.29 L674.812 1544.91 L682.451 1544.91 L682.451 1548.85 L662.544 1548.85 L662.544 1544.91 Z\" fill=\"#000000\" fill-rule=\"nonzero\" fill-opacity=\"1\" /><path clip-path=\"url(#clip500)\" d=\"M701.896 1517.37 Q698.284 1517.37 696.456 1520.93 Q694.65 1524.47 694.65 1531.6 Q694.65 1538.71 696.456 1542.27 Q698.284 1545.82 701.896 1545.82 Q705.53 1545.82 707.335 1542.27 Q709.164 1538.71 709.164 1531.6 Q709.164 1524.47 707.335 1520.93 Q705.53 1517.37 701.896 1517.37 M701.896 1513.66 Q707.706 1513.66 710.761 1518.27 Q713.84 1522.85 713.84 1531.6 Q713.84 1540.33 710.761 1544.94 Q707.706 1549.52 701.896 1549.52 Q696.085 1549.52 693.007 1544.94 Q689.951 1540.33 689.951 1531.6 Q689.951 1522.85 693.007 1518.27 Q696.085 1513.66 701.896 1513.66 Z\" fill=\"#000000\" fill-rule=\"nonzero\" fill-opacity=\"1\" /><path clip-path=\"url(#clip500)\" d=\"M1058.37 1544.91 L1074.69 1544.91 L1074.69 1548.85 L1052.75 1548.85 L1052.75 1544.91 Q1055.41 1542.16 1059.99 1537.53 Q1064.6 1532.88 1065.78 1531.53 Q1068.02 1529.01 1068.9 1527.27 Q1069.81 1525.51 1069.81 1523.82 Q1069.81 1521.07 1067.86 1519.33 Q1065.94 1517.6 1062.84 1517.6 Q1060.64 1517.6 1058.19 1518.36 Q1055.75 1519.13 1052.98 1520.68 L1052.98 1515.95 Q1055.8 1514.82 1058.25 1514.24 Q1060.71 1513.66 1062.75 1513.66 Q1068.12 1513.66 1071.31 1516.35 Q1074.5 1519.03 1074.5 1523.52 Q1074.5 1525.65 1073.69 1527.57 Q1072.91 1529.47 1070.8 1532.07 Q1070.22 1532.74 1067.12 1535.95 Q1064.02 1539.15 1058.37 1544.91 Z\" fill=\"#000000\" fill-rule=\"nonzero\" fill-opacity=\"1\" /><path clip-path=\"url(#clip500)\" d=\"M1094.5 1517.37 Q1090.89 1517.37 1089.06 1520.93 Q1087.26 1524.47 1087.26 1531.6 Q1087.26 1538.71 1089.06 1542.27 Q1090.89 1545.82 1094.5 1545.82 Q1098.14 1545.82 1099.94 1542.27 Q1101.77 1538.71 1101.77 1531.6 Q1101.77 1524.47 1099.94 1520.93 Q1098.14 1517.37 1094.5 1517.37 M1094.5 1513.66 Q1100.31 1513.66 1103.37 1518.27 Q1106.45 1522.85 1106.45 1531.6 Q1106.45 1540.33 1103.37 1544.94 Q1100.31 1549.52 1094.5 1549.52 Q1088.69 1549.52 1085.62 1544.94 Q1082.56 1540.33 1082.56 1531.6 Q1082.56 1522.85 1085.62 1518.27 Q1088.69 1513.66 1094.5 1513.66 Z\" fill=\"#000000\" fill-rule=\"nonzero\" fill-opacity=\"1\" /><path clip-path=\"url(#clip500)\" d=\"M1460.18 1530.21 Q1463.54 1530.93 1465.41 1533.2 Q1467.31 1535.47 1467.31 1538.8 Q1467.31 1543.92 1463.79 1546.72 Q1460.27 1549.52 1453.79 1549.52 Q1451.62 1549.52 1449.3 1549.08 Q1447.01 1548.66 1444.56 1547.81 L1444.56 1543.29 Q1446.5 1544.43 1448.82 1545.01 Q1451.13 1545.58 1453.65 1545.58 Q1458.05 1545.58 1460.34 1543.85 Q1462.66 1542.11 1462.66 1538.8 Q1462.66 1535.75 1460.51 1534.03 Q1458.38 1532.3 1454.56 1532.3 L1450.53 1532.3 L1450.53 1528.45 L1454.74 1528.45 Q1458.19 1528.45 1460.02 1527.09 Q1461.85 1525.7 1461.85 1523.11 Q1461.85 1520.45 1459.95 1519.03 Q1458.07 1517.6 1454.56 1517.6 Q1452.63 1517.6 1450.44 1518.01 Q1448.24 1518.43 1445.6 1519.31 L1445.6 1515.14 Q1448.26 1514.4 1450.57 1514.03 Q1452.91 1513.66 1454.97 1513.66 Q1460.3 1513.66 1463.4 1516.09 Q1466.5 1518.5 1466.5 1522.62 Q1466.5 1525.49 1464.86 1527.48 Q1463.21 1529.45 1460.18 1530.21 Z\" fill=\"#000000\" fill-rule=\"nonzero\" fill-opacity=\"1\" /><path clip-path=\"url(#clip500)\" d=\"M1486.18 1517.37 Q1482.57 1517.37 1480.74 1520.93 Q1478.93 1524.47 1478.93 1531.6 Q1478.93 1538.71 1480.74 1542.27 Q1482.57 1545.82 1486.18 1545.82 Q1489.81 1545.82 1491.62 1542.27 Q1493.44 1538.71 1493.44 1531.6 Q1493.44 1524.47 1491.62 1520.93 Q1489.81 1517.37 1486.18 1517.37 M1486.18 1513.66 Q1491.99 1513.66 1495.04 1518.27 Q1498.12 1522.85 1498.12 1531.6 Q1498.12 1540.33 1495.04 1544.94 Q1491.99 1549.52 1486.18 1549.52 Q1480.37 1549.52 1477.29 1544.94 Q1474.23 1540.33 1474.23 1531.6 Q1474.23 1522.85 1477.29 1518.27 Q1480.37 1513.66 1486.18 1513.66 Z\" fill=\"#000000\" fill-rule=\"nonzero\" fill-opacity=\"1\" /><path clip-path=\"url(#clip500)\" d=\"M1851.25 1518.36 L1839.45 1536.81 L1851.25 1536.81 L1851.25 1518.36 M1850.02 1514.29 L1855.9 1514.29 L1855.9 1536.81 L1860.83 1536.81 L1860.83 1540.7 L1855.9 1540.7 L1855.9 1548.85 L1851.25 1548.85 L1851.25 1540.7 L1835.65 1540.7 L1835.65 1536.19 L1850.02 1514.29 Z\" fill=\"#000000\" fill-rule=\"nonzero\" fill-opacity=\"1\" /><path clip-path=\"url(#clip500)\" d=\"M1878.57 1517.37 Q1874.95 1517.37 1873.13 1520.93 Q1871.32 1524.47 1871.32 1531.6 Q1871.32 1538.71 1873.13 1542.27 Q1874.95 1545.82 1878.57 1545.82 Q1882.2 1545.82 1884.01 1542.27 Q1885.83 1538.71 1885.83 1531.6 Q1885.83 1524.47 1884.01 1520.93 Q1882.2 1517.37 1878.57 1517.37 M1878.57 1513.66 Q1884.38 1513.66 1887.43 1518.27 Q1890.51 1522.85 1890.51 1531.6 Q1890.51 1540.33 1887.43 1544.94 Q1884.38 1549.52 1878.57 1549.52 Q1872.76 1549.52 1869.68 1544.94 Q1866.62 1540.33 1866.62 1531.6 Q1866.62 1522.85 1869.68 1518.27 Q1872.76 1513.66 1878.57 1513.66 Z\" fill=\"#000000\" fill-rule=\"nonzero\" fill-opacity=\"1\" /><path clip-path=\"url(#clip500)\" d=\"M2229.52 1514.29 L2247.88 1514.29 L2247.88 1518.22 L2233.8 1518.22 L2233.8 1526.7 Q2234.82 1526.35 2235.84 1526.19 Q2236.86 1526 2237.88 1526 Q2243.66 1526 2247.04 1529.17 Q2250.42 1532.34 2250.42 1537.76 Q2250.42 1543.34 2246.95 1546.44 Q2243.48 1549.52 2237.16 1549.52 Q2234.98 1549.52 2232.71 1549.15 Q2230.47 1548.78 2228.06 1548.04 L2228.06 1543.34 Q2230.14 1544.47 2232.37 1545.03 Q2234.59 1545.58 2237.07 1545.58 Q2241.07 1545.58 2243.41 1543.48 Q2245.75 1541.37 2245.75 1537.76 Q2245.75 1534.15 2243.41 1532.04 Q2241.07 1529.94 2237.07 1529.94 Q2235.19 1529.94 2233.32 1530.35 Q2231.46 1530.77 2229.52 1531.65 L2229.52 1514.29 Z\" fill=\"#000000\" fill-rule=\"nonzero\" fill-opacity=\"1\" /><path clip-path=\"url(#clip500)\" d=\"M2269.64 1517.37 Q2266.02 1517.37 2264.2 1520.93 Q2262.39 1524.47 2262.39 1531.6 Q2262.39 1538.71 2264.2 1542.27 Q2266.02 1545.82 2269.64 1545.82 Q2273.27 1545.82 2275.08 1542.27 Q2276.9 1538.71 2276.9 1531.6 Q2276.9 1524.47 2275.08 1520.93 Q2273.27 1517.37 2269.64 1517.37 M2269.64 1513.66 Q2275.45 1513.66 2278.5 1518.27 Q2281.58 1522.85 2281.58 1531.6 Q2281.58 1540.33 2278.5 1544.94 Q2275.45 1549.52 2269.64 1549.52 Q2263.83 1549.52 2260.75 1544.94 Q2257.69 1540.33 2257.69 1531.6 Q2257.69 1522.85 2260.75 1518.27 Q2263.83 1513.66 2269.64 1513.66 Z\" fill=\"#000000\" fill-rule=\"nonzero\" fill-opacity=\"1\" /><polyline clip-path=\"url(#clip502)\" style=\"stroke:#000000; stroke-linecap:round; stroke-linejoin:round; stroke-width:2; stroke-opacity:0.1; fill:none\" points=\"276.528,1455.14 2352.76,1455.14 \"/>\n",
       "<polyline clip-path=\"url(#clip502)\" style=\"stroke:#000000; stroke-linecap:round; stroke-linejoin:round; stroke-width:2; stroke-opacity:0.1; fill:none\" points=\"276.528,1034.22 2352.76,1034.22 \"/>\n",
       "<polyline clip-path=\"url(#clip502)\" style=\"stroke:#000000; stroke-linecap:round; stroke-linejoin:round; stroke-width:2; stroke-opacity:0.1; fill:none\" points=\"276.528,613.292 2352.76,613.292 \"/>\n",
       "<polyline clip-path=\"url(#clip502)\" style=\"stroke:#000000; stroke-linecap:round; stroke-linejoin:round; stroke-width:2; stroke-opacity:0.1; fill:none\" points=\"276.528,192.366 2352.76,192.366 \"/>\n",
       "<polyline clip-path=\"url(#clip500)\" style=\"stroke:#000000; stroke-linecap:round; stroke-linejoin:round; stroke-width:4; stroke-opacity:1; fill:none\" points=\"276.528,1486.45 276.528,47.2441 \"/>\n",
       "<polyline clip-path=\"url(#clip500)\" style=\"stroke:#000000; stroke-linecap:round; stroke-linejoin:round; stroke-width:4; stroke-opacity:1; fill:none\" points=\"276.528,1455.14 295.426,1455.14 \"/>\n",
       "<polyline clip-path=\"url(#clip500)\" style=\"stroke:#000000; stroke-linecap:round; stroke-linejoin:round; stroke-width:4; stroke-opacity:1; fill:none\" points=\"276.528,1034.22 295.426,1034.22 \"/>\n",
       "<polyline clip-path=\"url(#clip500)\" style=\"stroke:#000000; stroke-linecap:round; stroke-linejoin:round; stroke-width:4; stroke-opacity:1; fill:none\" points=\"276.528,613.292 295.426,613.292 \"/>\n",
       "<polyline clip-path=\"url(#clip500)\" style=\"stroke:#000000; stroke-linecap:round; stroke-linejoin:round; stroke-width:4; stroke-opacity:1; fill:none\" points=\"276.528,192.366 295.426,192.366 \"/>\n",
       "<path clip-path=\"url(#clip500)\" d=\"M52.8903 1444.31 L71.2466 1444.31 L71.2466 1448.25 L57.1726 1448.25 L57.1726 1456.72 Q58.1912 1456.37 59.2097 1456.21 Q60.2282 1456.02 61.2467 1456.02 Q67.0337 1456.02 70.4133 1459.2 Q73.7929 1462.37 73.7929 1467.78 Q73.7929 1473.36 70.3207 1476.46 Q66.8485 1479.54 60.5291 1479.54 Q58.3532 1479.54 56.0847 1479.17 Q53.8393 1478.8 51.4319 1478.06 L51.4319 1473.36 Q53.5153 1474.5 55.7375 1475.05 Q57.9597 1475.61 60.4365 1475.61 Q64.4411 1475.61 66.7791 1473.5 Q69.117 1471.4 69.117 1467.78 Q69.117 1464.17 66.7791 1462.07 Q64.4411 1459.96 60.4365 1459.96 Q58.5615 1459.96 56.6865 1460.38 Q54.8347 1460.79 52.8903 1461.67 L52.8903 1444.31 Z\" fill=\"#000000\" fill-rule=\"nonzero\" fill-opacity=\"1\" /><path clip-path=\"url(#clip500)\" d=\"M83.0058 1472.99 L87.8901 1472.99 L87.8901 1478.87 L83.0058 1478.87 L83.0058 1472.99 Z\" fill=\"#000000\" fill-rule=\"nonzero\" fill-opacity=\"1\" /><path clip-path=\"url(#clip500)\" d=\"M108.075 1447.39 Q104.464 1447.39 102.635 1450.96 Q100.83 1454.5 100.83 1461.63 Q100.83 1468.73 102.635 1472.3 Q104.464 1475.84 108.075 1475.84 Q111.709 1475.84 113.515 1472.3 Q115.344 1468.73 115.344 1461.63 Q115.344 1454.5 113.515 1450.96 Q111.709 1447.39 108.075 1447.39 M108.075 1443.69 Q113.885 1443.69 116.941 1448.29 Q120.02 1452.88 120.02 1461.63 Q120.02 1470.35 116.941 1474.96 Q113.885 1479.54 108.075 1479.54 Q102.265 1479.54 99.1863 1474.96 Q96.1308 1470.35 96.1308 1461.63 Q96.1308 1452.88 99.1863 1448.29 Q102.265 1443.69 108.075 1443.69 Z\" fill=\"#000000\" fill-rule=\"nonzero\" fill-opacity=\"1\" /><path clip-path=\"url(#clip500)\" d=\"M156.408 1453.41 L145.83 1464.03 L156.408 1474.61 L153.654 1477.41 L143.029 1466.79 L132.404 1477.41 L129.672 1474.61 L140.228 1464.03 L129.672 1453.41 L132.404 1450.61 L143.029 1461.23 L153.654 1450.61 L156.408 1453.41 Z\" fill=\"#000000\" fill-rule=\"nonzero\" fill-opacity=\"1\" /><path clip-path=\"url(#clip500)\" d=\"M168.769 1474.94 L176.408 1474.94 L176.408 1448.57 L168.098 1450.24 L168.098 1445.98 L176.362 1444.31 L181.038 1444.31 L181.038 1474.94 L188.677 1474.94 L188.677 1478.87 L168.769 1478.87 L168.769 1474.94 Z\" fill=\"#000000\" fill-rule=\"nonzero\" fill-opacity=\"1\" /><path clip-path=\"url(#clip500)\" d=\"M208.121 1447.39 Q204.51 1447.39 202.681 1450.96 Q200.876 1454.5 200.876 1461.63 Q200.876 1468.73 202.681 1472.3 Q204.51 1475.84 208.121 1475.84 Q211.755 1475.84 213.561 1472.3 Q215.389 1468.73 215.389 1461.63 Q215.389 1454.5 213.561 1450.96 Q211.755 1447.39 208.121 1447.39 M208.121 1443.69 Q213.931 1443.69 216.987 1448.29 Q220.065 1452.88 220.065 1461.63 Q220.065 1470.35 216.987 1474.96 Q213.931 1479.54 208.121 1479.54 Q202.311 1479.54 199.232 1474.96 Q196.177 1470.35 196.177 1461.63 Q196.177 1452.88 199.232 1448.29 Q202.311 1443.69 208.121 1443.69 Z\" fill=\"#000000\" fill-rule=\"nonzero\" fill-opacity=\"1\" /><path clip-path=\"url(#clip500)\" d=\"M232.742 1426.69 L223.15 1441.68 L232.742 1441.68 L232.742 1426.69 M231.745 1423.38 L236.522 1423.38 L236.522 1441.68 L240.528 1441.68 L240.528 1444.84 L236.522 1444.84 L236.522 1451.46 L232.742 1451.46 L232.742 1444.84 L220.065 1444.84 L220.065 1441.17 L231.745 1423.38 Z\" fill=\"#000000\" fill-rule=\"nonzero\" fill-opacity=\"1\" /><path clip-path=\"url(#clip500)\" d=\"M63.4226 1038.8 Q60.2745 1038.8 58.4226 1040.96 Q56.5939 1043.11 56.5939 1046.86 Q56.5939 1050.58 58.4226 1052.76 Q60.2745 1054.91 63.4226 1054.91 Q66.5707 1054.91 68.3994 1052.76 Q70.2513 1050.58 70.2513 1046.86 Q70.2513 1043.11 68.3994 1040.96 Q66.5707 1038.8 63.4226 1038.8 M72.705 1024.15 L72.705 1028.41 Q70.9457 1027.58 69.1402 1027.14 Q67.3578 1026.7 65.5985 1026.7 Q60.9689 1026.7 58.5152 1029.82 Q56.0847 1032.95 55.7375 1039.27 Q57.1032 1037.25 59.1634 1036.19 Q61.2236 1035.1 63.7004 1035.1 Q68.9087 1035.1 71.9179 1038.27 Q74.9503 1041.42 74.9503 1046.86 Q74.9503 1052.18 71.8022 1055.4 Q68.6541 1058.62 63.4226 1058.62 Q57.4273 1058.62 54.256 1054.03 Q51.0847 1049.43 51.0847 1040.7 Q51.0847 1032.51 54.9736 1027.65 Q58.8625 1022.76 65.4133 1022.76 Q67.1726 1022.76 68.955 1023.11 Q70.7605 1023.46 72.705 1024.15 Z\" fill=\"#000000\" fill-rule=\"nonzero\" fill-opacity=\"1\" /><path clip-path=\"url(#clip500)\" d=\"M83.0058 1052.07 L87.8901 1052.07 L87.8901 1057.95 L83.0058 1057.95 L83.0058 1052.07 Z\" fill=\"#000000\" fill-rule=\"nonzero\" fill-opacity=\"1\" /><path clip-path=\"url(#clip500)\" d=\"M108.075 1026.46 Q104.464 1026.46 102.635 1030.03 Q100.83 1033.57 100.83 1040.7 Q100.83 1047.81 102.635 1051.37 Q104.464 1054.91 108.075 1054.91 Q111.709 1054.91 113.515 1051.37 Q115.344 1047.81 115.344 1040.7 Q115.344 1033.57 113.515 1030.03 Q111.709 1026.46 108.075 1026.46 M108.075 1022.76 Q113.885 1022.76 116.941 1027.37 Q120.02 1031.95 120.02 1040.7 Q120.02 1049.43 116.941 1054.03 Q113.885 1058.62 108.075 1058.62 Q102.265 1058.62 99.1863 1054.03 Q96.1308 1049.43 96.1308 1040.7 Q96.1308 1031.95 99.1863 1027.37 Q102.265 1022.76 108.075 1022.76 Z\" fill=\"#000000\" fill-rule=\"nonzero\" fill-opacity=\"1\" /><path clip-path=\"url(#clip500)\" d=\"M156.408 1032.48 L145.83 1043.11 L156.408 1053.69 L153.654 1056.49 L143.029 1045.86 L132.404 1056.49 L129.672 1053.69 L140.228 1043.11 L129.672 1032.48 L132.404 1029.68 L143.029 1040.31 L153.654 1029.68 L156.408 1032.48 Z\" fill=\"#000000\" fill-rule=\"nonzero\" fill-opacity=\"1\" /><path clip-path=\"url(#clip500)\" d=\"M168.769 1054.01 L176.408 1054.01 L176.408 1027.65 L168.098 1029.31 L168.098 1025.05 L176.362 1023.39 L181.038 1023.39 L181.038 1054.01 L188.677 1054.01 L188.677 1057.95 L168.769 1057.95 L168.769 1054.01 Z\" fill=\"#000000\" fill-rule=\"nonzero\" fill-opacity=\"1\" /><path clip-path=\"url(#clip500)\" d=\"M208.121 1026.46 Q204.51 1026.46 202.681 1030.03 Q200.876 1033.57 200.876 1040.7 Q200.876 1047.81 202.681 1051.37 Q204.51 1054.91 208.121 1054.91 Q211.755 1054.91 213.561 1051.37 Q215.389 1047.81 215.389 1040.7 Q215.389 1033.57 213.561 1030.03 Q211.755 1026.46 208.121 1026.46 M208.121 1022.76 Q213.931 1022.76 216.987 1027.37 Q220.065 1031.95 220.065 1040.7 Q220.065 1049.43 216.987 1054.03 Q213.931 1058.62 208.121 1058.62 Q202.311 1058.62 199.232 1054.03 Q196.177 1049.43 196.177 1040.7 Q196.177 1031.95 199.232 1027.37 Q202.311 1022.76 208.121 1022.76 Z\" fill=\"#000000\" fill-rule=\"nonzero\" fill-opacity=\"1\" /><path clip-path=\"url(#clip500)\" d=\"M232.742 1005.77 L223.15 1020.76 L232.742 1020.76 L232.742 1005.77 M231.745 1002.46 L236.522 1002.46 L236.522 1020.76 L240.528 1020.76 L240.528 1023.92 L236.522 1023.92 L236.522 1030.54 L232.742 1030.54 L232.742 1023.92 L220.065 1023.92 L220.065 1020.25 L231.745 1002.46 Z\" fill=\"#000000\" fill-rule=\"nonzero\" fill-opacity=\"1\" /><path clip-path=\"url(#clip500)\" d=\"M51.6634 602.46 L73.8855 602.46 L73.8855 604.45 L61.3393 637.02 L56.4551 637.02 L68.2606 606.395 L51.6634 606.395 L51.6634 602.46 Z\" fill=\"#000000\" fill-rule=\"nonzero\" fill-opacity=\"1\" /><path clip-path=\"url(#clip500)\" d=\"M83.0058 631.14 L87.8901 631.14 L87.8901 637.02 L83.0058 637.02 L83.0058 631.14 Z\" fill=\"#000000\" fill-rule=\"nonzero\" fill-opacity=\"1\" /><path clip-path=\"url(#clip500)\" d=\"M108.075 605.538 Q104.464 605.538 102.635 609.103 Q100.83 612.645 100.83 619.774 Q100.83 626.881 102.635 630.446 Q104.464 633.987 108.075 633.987 Q111.709 633.987 113.515 630.446 Q115.344 626.881 115.344 619.774 Q115.344 612.645 113.515 609.103 Q111.709 605.538 108.075 605.538 M108.075 601.835 Q113.885 601.835 116.941 606.441 Q120.02 611.024 120.02 619.774 Q120.02 628.501 116.941 633.108 Q113.885 637.691 108.075 637.691 Q102.265 637.691 99.1863 633.108 Q96.1308 628.501 96.1308 619.774 Q96.1308 611.024 99.1863 606.441 Q102.265 601.835 108.075 601.835 Z\" fill=\"#000000\" fill-rule=\"nonzero\" fill-opacity=\"1\" /><path clip-path=\"url(#clip500)\" d=\"M156.408 611.557 L145.83 622.182 L156.408 632.76 L153.654 635.561 L143.029 624.936 L132.404 635.561 L129.672 632.76 L140.228 622.182 L129.672 611.557 L132.404 608.756 L143.029 619.381 L153.654 608.756 L156.408 611.557 Z\" fill=\"#000000\" fill-rule=\"nonzero\" fill-opacity=\"1\" /><path clip-path=\"url(#clip500)\" d=\"M168.769 633.085 L176.408 633.085 L176.408 606.719 L168.098 608.386 L168.098 604.126 L176.362 602.46 L181.038 602.46 L181.038 633.085 L188.677 633.085 L188.677 637.02 L168.769 637.02 L168.769 633.085 Z\" fill=\"#000000\" fill-rule=\"nonzero\" fill-opacity=\"1\" /><path clip-path=\"url(#clip500)\" d=\"M208.121 605.538 Q204.51 605.538 202.681 609.103 Q200.876 612.645 200.876 619.774 Q200.876 626.881 202.681 630.446 Q204.51 633.987 208.121 633.987 Q211.755 633.987 213.561 630.446 Q215.389 626.881 215.389 619.774 Q215.389 612.645 213.561 609.103 Q211.755 605.538 208.121 605.538 M208.121 601.835 Q213.931 601.835 216.987 606.441 Q220.065 611.024 220.065 619.774 Q220.065 628.501 216.987 633.108 Q213.931 637.691 208.121 637.691 Q202.311 637.691 199.232 633.108 Q196.177 628.501 196.177 619.774 Q196.177 611.024 199.232 606.441 Q202.311 601.835 208.121 601.835 Z\" fill=\"#000000\" fill-rule=\"nonzero\" fill-opacity=\"1\" /><path clip-path=\"url(#clip500)\" d=\"M232.742 584.839 L223.15 599.829 L232.742 599.829 L232.742 584.839 M231.745 581.529 L236.522 581.529 L236.522 599.829 L240.528 599.829 L240.528 602.989 L236.522 602.989 L236.522 609.609 L232.742 609.609 L232.742 602.989 L220.065 602.989 L220.065 599.321 L231.745 581.529 Z\" fill=\"#000000\" fill-rule=\"nonzero\" fill-opacity=\"1\" /><path clip-path=\"url(#clip500)\" d=\"M62.8439 199.682 Q59.5106 199.682 57.5893 201.464 Q55.6912 203.246 55.6912 206.371 Q55.6912 209.496 57.5893 211.279 Q59.5106 213.061 62.8439 213.061 Q66.1772 213.061 68.0985 211.279 Q70.0198 209.473 70.0198 206.371 Q70.0198 203.246 68.0985 201.464 Q66.2004 199.682 62.8439 199.682 M58.168 197.691 Q55.1588 196.95 53.469 194.89 Q51.8023 192.83 51.8023 189.867 Q51.8023 185.723 54.7421 183.316 Q57.7051 180.909 62.8439 180.909 Q68.0059 180.909 70.9457 183.316 Q73.8855 185.723 73.8855 189.867 Q73.8855 192.83 72.1957 194.89 Q70.5291 196.95 67.543 197.691 Q70.9226 198.478 72.7976 200.77 Q74.6957 203.061 74.6957 206.371 Q74.6957 211.395 71.617 214.08 Q68.5615 216.765 62.8439 216.765 Q57.1264 216.765 54.0477 214.08 Q50.9921 211.395 50.9921 206.371 Q50.9921 203.061 52.8903 200.77 Q54.7884 198.478 58.168 197.691 M56.4551 190.307 Q56.4551 192.992 58.1217 194.496 Q59.8115 196.001 62.8439 196.001 Q65.8532 196.001 67.543 194.496 Q69.2559 192.992 69.2559 190.307 Q69.2559 187.621 67.543 186.117 Q65.8532 184.612 62.8439 184.612 Q59.8115 184.612 58.1217 186.117 Q56.4551 187.621 56.4551 190.307 Z\" fill=\"#000000\" fill-rule=\"nonzero\" fill-opacity=\"1\" /><path clip-path=\"url(#clip500)\" d=\"M83.0058 210.214 L87.8901 210.214 L87.8901 216.094 L83.0058 216.094 L83.0058 210.214 Z\" fill=\"#000000\" fill-rule=\"nonzero\" fill-opacity=\"1\" /><path clip-path=\"url(#clip500)\" d=\"M108.075 184.612 Q104.464 184.612 102.635 188.177 Q100.83 191.719 100.83 198.848 Q100.83 205.955 102.635 209.52 Q104.464 213.061 108.075 213.061 Q111.709 213.061 113.515 209.52 Q115.344 205.955 115.344 198.848 Q115.344 191.719 113.515 188.177 Q111.709 184.612 108.075 184.612 M108.075 180.909 Q113.885 180.909 116.941 185.515 Q120.02 190.098 120.02 198.848 Q120.02 207.575 116.941 212.182 Q113.885 216.765 108.075 216.765 Q102.265 216.765 99.1863 212.182 Q96.1308 207.575 96.1308 198.848 Q96.1308 190.098 99.1863 185.515 Q102.265 180.909 108.075 180.909 Z\" fill=\"#000000\" fill-rule=\"nonzero\" fill-opacity=\"1\" /><path clip-path=\"url(#clip500)\" d=\"M156.408 190.631 L145.83 201.256 L156.408 211.834 L153.654 214.635 L143.029 204.01 L132.404 214.635 L129.672 211.834 L140.228 201.256 L129.672 190.631 L132.404 187.83 L143.029 198.455 L153.654 187.83 L156.408 190.631 Z\" fill=\"#000000\" fill-rule=\"nonzero\" fill-opacity=\"1\" /><path clip-path=\"url(#clip500)\" d=\"M168.769 212.158 L176.408 212.158 L176.408 185.793 L168.098 187.459 L168.098 183.2 L176.362 181.534 L181.038 181.534 L181.038 212.158 L188.677 212.158 L188.677 216.094 L168.769 216.094 L168.769 212.158 Z\" fill=\"#000000\" fill-rule=\"nonzero\" fill-opacity=\"1\" /><path clip-path=\"url(#clip500)\" d=\"M208.121 184.612 Q204.51 184.612 202.681 188.177 Q200.876 191.719 200.876 198.848 Q200.876 205.955 202.681 209.52 Q204.51 213.061 208.121 213.061 Q211.755 213.061 213.561 209.52 Q215.389 205.955 215.389 198.848 Q215.389 191.719 213.561 188.177 Q211.755 184.612 208.121 184.612 M208.121 180.909 Q213.931 180.909 216.987 185.515 Q220.065 190.098 220.065 198.848 Q220.065 207.575 216.987 212.182 Q213.931 216.765 208.121 216.765 Q202.311 216.765 199.232 212.182 Q196.177 207.575 196.177 198.848 Q196.177 190.098 199.232 185.515 Q202.311 180.909 208.121 180.909 Z\" fill=\"#000000\" fill-rule=\"nonzero\" fill-opacity=\"1\" /><path clip-path=\"url(#clip500)\" d=\"M232.742 163.913 L223.15 178.903 L232.742 178.903 L232.742 163.913 M231.745 160.603 L236.522 160.603 L236.522 178.903 L240.528 178.903 L240.528 182.063 L236.522 182.063 L236.522 188.683 L232.742 188.683 L232.742 182.063 L220.065 182.063 L220.065 178.395 L231.745 160.603 Z\" fill=\"#000000\" fill-rule=\"nonzero\" fill-opacity=\"1\" /><polyline clip-path=\"url(#clip502)\" style=\"stroke:#009af9; stroke-linecap:round; stroke-linejoin:round; stroke-width:4; stroke-opacity:1; fill:none\" points=\"335.289,1445.72 374.463,1445.72 413.638,863.827 452.812,87.9763 491.986,87.9763 531.16,87.9763 570.334,87.9763 609.508,87.9763 648.682,87.9763 687.856,87.9763 727.03,87.9763 766.205,87.9763 805.379,87.9763 844.553,87.9763 883.727,87.9763 922.901,87.9763 962.075,87.9763 1001.25,87.9763 1040.42,87.9763 1079.6,87.9763 1118.77,87.9763 1157.95,87.9763 1197.12,87.9763 1236.29,87.9763 1275.47,87.9763 1314.64,87.9763 1353.82,87.9763 1392.99,87.9763 1432.16,87.9763 1471.34,87.9763 1510.51,87.9763 1549.69,87.9763 1588.86,87.9763 1628.03,87.9763 1667.21,87.9763 1706.38,87.9763 1745.56,87.9763 1784.73,87.9763 1823.91,87.9763 1863.08,87.9763 1902.25,87.9763 1941.43,87.9763 1980.6,87.9763 2019.78,87.9763 2058.95,87.9763 2098.12,87.9763 2137.3,87.9763 2176.47,87.9763 2215.65,87.9763 2254.82,87.9763 2293.99,87.9763 \"/>\n",
       "<circle clip-path=\"url(#clip502)\" cx=\"335.289\" cy=\"1445.72\" r=\"14.4\" fill=\"#009af9\" fill-rule=\"evenodd\" fill-opacity=\"1\" stroke=\"#000000\" stroke-opacity=\"1\" stroke-width=\"3.2\"/>\n",
       "<circle clip-path=\"url(#clip502)\" cx=\"374.463\" cy=\"1445.72\" r=\"14.4\" fill=\"#009af9\" fill-rule=\"evenodd\" fill-opacity=\"1\" stroke=\"#000000\" stroke-opacity=\"1\" stroke-width=\"3.2\"/>\n",
       "<circle clip-path=\"url(#clip502)\" cx=\"413.638\" cy=\"863.827\" r=\"14.4\" fill=\"#009af9\" fill-rule=\"evenodd\" fill-opacity=\"1\" stroke=\"#000000\" stroke-opacity=\"1\" stroke-width=\"3.2\"/>\n",
       "<circle clip-path=\"url(#clip502)\" cx=\"452.812\" cy=\"87.9763\" r=\"14.4\" fill=\"#009af9\" fill-rule=\"evenodd\" fill-opacity=\"1\" stroke=\"#000000\" stroke-opacity=\"1\" stroke-width=\"3.2\"/>\n",
       "<circle clip-path=\"url(#clip502)\" cx=\"491.986\" cy=\"87.9763\" r=\"14.4\" fill=\"#009af9\" fill-rule=\"evenodd\" fill-opacity=\"1\" stroke=\"#000000\" stroke-opacity=\"1\" stroke-width=\"3.2\"/>\n",
       "<circle clip-path=\"url(#clip502)\" cx=\"531.16\" cy=\"87.9763\" r=\"14.4\" fill=\"#009af9\" fill-rule=\"evenodd\" fill-opacity=\"1\" stroke=\"#000000\" stroke-opacity=\"1\" stroke-width=\"3.2\"/>\n",
       "<circle clip-path=\"url(#clip502)\" cx=\"570.334\" cy=\"87.9763\" r=\"14.4\" fill=\"#009af9\" fill-rule=\"evenodd\" fill-opacity=\"1\" stroke=\"#000000\" stroke-opacity=\"1\" stroke-width=\"3.2\"/>\n",
       "<circle clip-path=\"url(#clip502)\" cx=\"609.508\" cy=\"87.9763\" r=\"14.4\" fill=\"#009af9\" fill-rule=\"evenodd\" fill-opacity=\"1\" stroke=\"#000000\" stroke-opacity=\"1\" stroke-width=\"3.2\"/>\n",
       "<circle clip-path=\"url(#clip502)\" cx=\"648.682\" cy=\"87.9763\" r=\"14.4\" fill=\"#009af9\" fill-rule=\"evenodd\" fill-opacity=\"1\" stroke=\"#000000\" stroke-opacity=\"1\" stroke-width=\"3.2\"/>\n",
       "<circle clip-path=\"url(#clip502)\" cx=\"687.856\" cy=\"87.9763\" r=\"14.4\" fill=\"#009af9\" fill-rule=\"evenodd\" fill-opacity=\"1\" stroke=\"#000000\" stroke-opacity=\"1\" stroke-width=\"3.2\"/>\n",
       "<circle clip-path=\"url(#clip502)\" cx=\"727.03\" cy=\"87.9763\" r=\"14.4\" fill=\"#009af9\" fill-rule=\"evenodd\" fill-opacity=\"1\" stroke=\"#000000\" stroke-opacity=\"1\" stroke-width=\"3.2\"/>\n",
       "<circle clip-path=\"url(#clip502)\" cx=\"766.205\" cy=\"87.9763\" r=\"14.4\" fill=\"#009af9\" fill-rule=\"evenodd\" fill-opacity=\"1\" stroke=\"#000000\" stroke-opacity=\"1\" stroke-width=\"3.2\"/>\n",
       "<circle clip-path=\"url(#clip502)\" cx=\"805.379\" cy=\"87.9763\" r=\"14.4\" fill=\"#009af9\" fill-rule=\"evenodd\" fill-opacity=\"1\" stroke=\"#000000\" stroke-opacity=\"1\" stroke-width=\"3.2\"/>\n",
       "<circle clip-path=\"url(#clip502)\" cx=\"844.553\" cy=\"87.9763\" r=\"14.4\" fill=\"#009af9\" fill-rule=\"evenodd\" fill-opacity=\"1\" stroke=\"#000000\" stroke-opacity=\"1\" stroke-width=\"3.2\"/>\n",
       "<circle clip-path=\"url(#clip502)\" cx=\"883.727\" cy=\"87.9763\" r=\"14.4\" fill=\"#009af9\" fill-rule=\"evenodd\" fill-opacity=\"1\" stroke=\"#000000\" stroke-opacity=\"1\" stroke-width=\"3.2\"/>\n",
       "<circle clip-path=\"url(#clip502)\" cx=\"922.901\" cy=\"87.9763\" r=\"14.4\" fill=\"#009af9\" fill-rule=\"evenodd\" fill-opacity=\"1\" stroke=\"#000000\" stroke-opacity=\"1\" stroke-width=\"3.2\"/>\n",
       "<circle clip-path=\"url(#clip502)\" cx=\"962.075\" cy=\"87.9763\" r=\"14.4\" fill=\"#009af9\" fill-rule=\"evenodd\" fill-opacity=\"1\" stroke=\"#000000\" stroke-opacity=\"1\" stroke-width=\"3.2\"/>\n",
       "<circle clip-path=\"url(#clip502)\" cx=\"1001.25\" cy=\"87.9763\" r=\"14.4\" fill=\"#009af9\" fill-rule=\"evenodd\" fill-opacity=\"1\" stroke=\"#000000\" stroke-opacity=\"1\" stroke-width=\"3.2\"/>\n",
       "<circle clip-path=\"url(#clip502)\" cx=\"1040.42\" cy=\"87.9763\" r=\"14.4\" fill=\"#009af9\" fill-rule=\"evenodd\" fill-opacity=\"1\" stroke=\"#000000\" stroke-opacity=\"1\" stroke-width=\"3.2\"/>\n",
       "<circle clip-path=\"url(#clip502)\" cx=\"1079.6\" cy=\"87.9763\" r=\"14.4\" fill=\"#009af9\" fill-rule=\"evenodd\" fill-opacity=\"1\" stroke=\"#000000\" stroke-opacity=\"1\" stroke-width=\"3.2\"/>\n",
       "<circle clip-path=\"url(#clip502)\" cx=\"1118.77\" cy=\"87.9763\" r=\"14.4\" fill=\"#009af9\" fill-rule=\"evenodd\" fill-opacity=\"1\" stroke=\"#000000\" stroke-opacity=\"1\" stroke-width=\"3.2\"/>\n",
       "<circle clip-path=\"url(#clip502)\" cx=\"1157.95\" cy=\"87.9763\" r=\"14.4\" fill=\"#009af9\" fill-rule=\"evenodd\" fill-opacity=\"1\" stroke=\"#000000\" stroke-opacity=\"1\" stroke-width=\"3.2\"/>\n",
       "<circle clip-path=\"url(#clip502)\" cx=\"1197.12\" cy=\"87.9763\" r=\"14.4\" fill=\"#009af9\" fill-rule=\"evenodd\" fill-opacity=\"1\" stroke=\"#000000\" stroke-opacity=\"1\" stroke-width=\"3.2\"/>\n",
       "<circle clip-path=\"url(#clip502)\" cx=\"1236.29\" cy=\"87.9763\" r=\"14.4\" fill=\"#009af9\" fill-rule=\"evenodd\" fill-opacity=\"1\" stroke=\"#000000\" stroke-opacity=\"1\" stroke-width=\"3.2\"/>\n",
       "<circle clip-path=\"url(#clip502)\" cx=\"1275.47\" cy=\"87.9763\" r=\"14.4\" fill=\"#009af9\" fill-rule=\"evenodd\" fill-opacity=\"1\" stroke=\"#000000\" stroke-opacity=\"1\" stroke-width=\"3.2\"/>\n",
       "<circle clip-path=\"url(#clip502)\" cx=\"1314.64\" cy=\"87.9763\" r=\"14.4\" fill=\"#009af9\" fill-rule=\"evenodd\" fill-opacity=\"1\" stroke=\"#000000\" stroke-opacity=\"1\" stroke-width=\"3.2\"/>\n",
       "<circle clip-path=\"url(#clip502)\" cx=\"1353.82\" cy=\"87.9763\" r=\"14.4\" fill=\"#009af9\" fill-rule=\"evenodd\" fill-opacity=\"1\" stroke=\"#000000\" stroke-opacity=\"1\" stroke-width=\"3.2\"/>\n",
       "<circle clip-path=\"url(#clip502)\" cx=\"1392.99\" cy=\"87.9763\" r=\"14.4\" fill=\"#009af9\" fill-rule=\"evenodd\" fill-opacity=\"1\" stroke=\"#000000\" stroke-opacity=\"1\" stroke-width=\"3.2\"/>\n",
       "<circle clip-path=\"url(#clip502)\" cx=\"1432.16\" cy=\"87.9763\" r=\"14.4\" fill=\"#009af9\" fill-rule=\"evenodd\" fill-opacity=\"1\" stroke=\"#000000\" stroke-opacity=\"1\" stroke-width=\"3.2\"/>\n",
       "<circle clip-path=\"url(#clip502)\" cx=\"1471.34\" cy=\"87.9763\" r=\"14.4\" fill=\"#009af9\" fill-rule=\"evenodd\" fill-opacity=\"1\" stroke=\"#000000\" stroke-opacity=\"1\" stroke-width=\"3.2\"/>\n",
       "<circle clip-path=\"url(#clip502)\" cx=\"1510.51\" cy=\"87.9763\" r=\"14.4\" fill=\"#009af9\" fill-rule=\"evenodd\" fill-opacity=\"1\" stroke=\"#000000\" stroke-opacity=\"1\" stroke-width=\"3.2\"/>\n",
       "<circle clip-path=\"url(#clip502)\" cx=\"1549.69\" cy=\"87.9763\" r=\"14.4\" fill=\"#009af9\" fill-rule=\"evenodd\" fill-opacity=\"1\" stroke=\"#000000\" stroke-opacity=\"1\" stroke-width=\"3.2\"/>\n",
       "<circle clip-path=\"url(#clip502)\" cx=\"1588.86\" cy=\"87.9763\" r=\"14.4\" fill=\"#009af9\" fill-rule=\"evenodd\" fill-opacity=\"1\" stroke=\"#000000\" stroke-opacity=\"1\" stroke-width=\"3.2\"/>\n",
       "<circle clip-path=\"url(#clip502)\" cx=\"1628.03\" cy=\"87.9763\" r=\"14.4\" fill=\"#009af9\" fill-rule=\"evenodd\" fill-opacity=\"1\" stroke=\"#000000\" stroke-opacity=\"1\" stroke-width=\"3.2\"/>\n",
       "<circle clip-path=\"url(#clip502)\" cx=\"1667.21\" cy=\"87.9763\" r=\"14.4\" fill=\"#009af9\" fill-rule=\"evenodd\" fill-opacity=\"1\" stroke=\"#000000\" stroke-opacity=\"1\" stroke-width=\"3.2\"/>\n",
       "<circle clip-path=\"url(#clip502)\" cx=\"1706.38\" cy=\"87.9763\" r=\"14.4\" fill=\"#009af9\" fill-rule=\"evenodd\" fill-opacity=\"1\" stroke=\"#000000\" stroke-opacity=\"1\" stroke-width=\"3.2\"/>\n",
       "<circle clip-path=\"url(#clip502)\" cx=\"1745.56\" cy=\"87.9763\" r=\"14.4\" fill=\"#009af9\" fill-rule=\"evenodd\" fill-opacity=\"1\" stroke=\"#000000\" stroke-opacity=\"1\" stroke-width=\"3.2\"/>\n",
       "<circle clip-path=\"url(#clip502)\" cx=\"1784.73\" cy=\"87.9763\" r=\"14.4\" fill=\"#009af9\" fill-rule=\"evenodd\" fill-opacity=\"1\" stroke=\"#000000\" stroke-opacity=\"1\" stroke-width=\"3.2\"/>\n",
       "<circle clip-path=\"url(#clip502)\" cx=\"1823.91\" cy=\"87.9763\" r=\"14.4\" fill=\"#009af9\" fill-rule=\"evenodd\" fill-opacity=\"1\" stroke=\"#000000\" stroke-opacity=\"1\" stroke-width=\"3.2\"/>\n",
       "<circle clip-path=\"url(#clip502)\" cx=\"1863.08\" cy=\"87.9763\" r=\"14.4\" fill=\"#009af9\" fill-rule=\"evenodd\" fill-opacity=\"1\" stroke=\"#000000\" stroke-opacity=\"1\" stroke-width=\"3.2\"/>\n",
       "<circle clip-path=\"url(#clip502)\" cx=\"1902.25\" cy=\"87.9763\" r=\"14.4\" fill=\"#009af9\" fill-rule=\"evenodd\" fill-opacity=\"1\" stroke=\"#000000\" stroke-opacity=\"1\" stroke-width=\"3.2\"/>\n",
       "<circle clip-path=\"url(#clip502)\" cx=\"1941.43\" cy=\"87.9763\" r=\"14.4\" fill=\"#009af9\" fill-rule=\"evenodd\" fill-opacity=\"1\" stroke=\"#000000\" stroke-opacity=\"1\" stroke-width=\"3.2\"/>\n",
       "<circle clip-path=\"url(#clip502)\" cx=\"1980.6\" cy=\"87.9763\" r=\"14.4\" fill=\"#009af9\" fill-rule=\"evenodd\" fill-opacity=\"1\" stroke=\"#000000\" stroke-opacity=\"1\" stroke-width=\"3.2\"/>\n",
       "<circle clip-path=\"url(#clip502)\" cx=\"2019.78\" cy=\"87.9763\" r=\"14.4\" fill=\"#009af9\" fill-rule=\"evenodd\" fill-opacity=\"1\" stroke=\"#000000\" stroke-opacity=\"1\" stroke-width=\"3.2\"/>\n",
       "<circle clip-path=\"url(#clip502)\" cx=\"2058.95\" cy=\"87.9763\" r=\"14.4\" fill=\"#009af9\" fill-rule=\"evenodd\" fill-opacity=\"1\" stroke=\"#000000\" stroke-opacity=\"1\" stroke-width=\"3.2\"/>\n",
       "<circle clip-path=\"url(#clip502)\" cx=\"2098.12\" cy=\"87.9763\" r=\"14.4\" fill=\"#009af9\" fill-rule=\"evenodd\" fill-opacity=\"1\" stroke=\"#000000\" stroke-opacity=\"1\" stroke-width=\"3.2\"/>\n",
       "<circle clip-path=\"url(#clip502)\" cx=\"2137.3\" cy=\"87.9763\" r=\"14.4\" fill=\"#009af9\" fill-rule=\"evenodd\" fill-opacity=\"1\" stroke=\"#000000\" stroke-opacity=\"1\" stroke-width=\"3.2\"/>\n",
       "<circle clip-path=\"url(#clip502)\" cx=\"2176.47\" cy=\"87.9763\" r=\"14.4\" fill=\"#009af9\" fill-rule=\"evenodd\" fill-opacity=\"1\" stroke=\"#000000\" stroke-opacity=\"1\" stroke-width=\"3.2\"/>\n",
       "<circle clip-path=\"url(#clip502)\" cx=\"2215.65\" cy=\"87.9763\" r=\"14.4\" fill=\"#009af9\" fill-rule=\"evenodd\" fill-opacity=\"1\" stroke=\"#000000\" stroke-opacity=\"1\" stroke-width=\"3.2\"/>\n",
       "<circle clip-path=\"url(#clip502)\" cx=\"2254.82\" cy=\"87.9763\" r=\"14.4\" fill=\"#009af9\" fill-rule=\"evenodd\" fill-opacity=\"1\" stroke=\"#000000\" stroke-opacity=\"1\" stroke-width=\"3.2\"/>\n",
       "<circle clip-path=\"url(#clip502)\" cx=\"2293.99\" cy=\"87.9763\" r=\"14.4\" fill=\"#009af9\" fill-rule=\"evenodd\" fill-opacity=\"1\" stroke=\"#000000\" stroke-opacity=\"1\" stroke-width=\"3.2\"/>\n",
       "<path clip-path=\"url(#clip500)\" d=\"M1957.27 1438.47 L2283.55 1438.47 L2283.55 1334.79 L1957.27 1334.79  Z\" fill=\"#ffffff\" fill-rule=\"evenodd\" fill-opacity=\"1\"/>\n",
       "<polyline clip-path=\"url(#clip500)\" style=\"stroke:#000000; stroke-linecap:round; stroke-linejoin:round; stroke-width:4; stroke-opacity:1; fill:none\" points=\"1957.27,1438.47 2283.55,1438.47 2283.55,1334.79 1957.27,1334.79 1957.27,1438.47 \"/>\n",
       "<polyline clip-path=\"url(#clip500)\" style=\"stroke:#009af9; stroke-linecap:round; stroke-linejoin:round; stroke-width:4; stroke-opacity:1; fill:none\" points=\"1980.34,1386.63 2118.75,1386.63 \"/>\n",
       "<circle clip-path=\"url(#clip500)\" cx=\"2049.55\" cy=\"1386.63\" r=\"19.2243\" fill=\"#009af9\" fill-rule=\"evenodd\" fill-opacity=\"1\" stroke=\"#000000\" stroke-opacity=\"1\" stroke-width=\"4.55111\"/>\n",
       "<path clip-path=\"url(#clip500)\" d=\"M2141.82 1369.35 L2146.5 1369.35 L2146.5 1399.98 L2163.33 1399.98 L2163.33 1403.91 L2141.82 1403.91 L2141.82 1369.35 Z\" fill=\"#000000\" fill-rule=\"nonzero\" fill-opacity=\"1\" /><path clip-path=\"url(#clip500)\" d=\"M2168.6 1382.39 L2198.28 1382.39 L2198.28 1386.28 L2168.6 1386.28 L2168.6 1382.39 M2168.6 1391.83 L2198.28 1391.83 L2198.28 1395.77 L2168.6 1395.77 L2168.6 1391.83 Z\" fill=\"#000000\" fill-rule=\"nonzero\" fill-opacity=\"1\" /><path clip-path=\"url(#clip500)\" d=\"M2209.18 1399.98 L2216.82 1399.98 L2216.82 1373.61 L2208.51 1375.28 L2208.51 1371.02 L2216.78 1369.35 L2221.45 1369.35 L2221.45 1399.98 L2229.09 1399.98 L2229.09 1403.91 L2209.18 1403.91 L2209.18 1399.98 Z\" fill=\"#000000\" fill-rule=\"nonzero\" fill-opacity=\"1\" /><path clip-path=\"url(#clip500)\" d=\"M2248.53 1372.43 Q2244.92 1372.43 2243.09 1376 Q2241.29 1379.54 2241.29 1386.67 Q2241.29 1393.78 2243.09 1397.34 Q2244.92 1400.88 2248.53 1400.88 Q2252.17 1400.88 2253.97 1397.34 Q2255.8 1393.78 2255.8 1386.67 Q2255.8 1379.54 2253.97 1376 Q2252.17 1372.43 2248.53 1372.43 M2248.53 1368.73 Q2254.34 1368.73 2257.4 1373.34 Q2260.48 1377.92 2260.48 1386.67 Q2260.48 1395.4 2257.4 1400 Q2254.34 1404.59 2248.53 1404.59 Q2242.72 1404.59 2239.65 1400 Q2236.59 1395.4 2236.59 1386.67 Q2236.59 1377.92 2239.65 1373.34 Q2242.72 1368.73 2248.53 1368.73 Z\" fill=\"#000000\" fill-rule=\"nonzero\" fill-opacity=\"1\" /></svg>\n"
      ]
     },
     "metadata": {},
     "output_type": "display_data"
    }
   ],
   "source": [
    "plot(ram_usage,marker=:circle,label=\"L=$(ct_f.L)\")"
   ]
  },
  {
   "cell_type": "code",
   "execution_count": 372,
   "metadata": {},
   "outputs": [
    {
     "data": {
      "text/plain": [
       "MPS\n",
       "[1] ((dim=2|id=20|\"Qubit,Site,n=1\"), (dim=2|id=165|\"Link,l=1\"))\n",
       "[2] ((dim=2|id=165|\"Link,l=1\"), (dim=2|id=374|\"Qubit,Site,n=2\"), (dim=4|id=26|\"Link,l=2\"))\n",
       "[3] ((dim=4|id=26|\"Link,l=2\"), (dim=8|id=775|\"Link,l=3\"), (dim=2|id=544|\"Qubit,Site,n=3\"))\n",
       "[4] ((dim=2|id=697|\"Qubit,Site,n=4\"), (dim=16|id=693|\"Link,l=4\"), (dim=8|id=775|\"Link,l=3\"))\n",
       "[5] ((dim=32|id=631|\"Link,l=5\"), (dim=2|id=646|\"Qubit,Site,n=5\"), (dim=16|id=693|\"Link,l=4\"))\n",
       "[6] ((dim=2|id=188|\"Qubit,Site,n=6\"), (dim=32|id=24|\"Link,l=6\"), (dim=32|id=631|\"Link,l=5\"))\n",
       "[7] ((dim=16|id=82|\"Link,l=7\"), (dim=2|id=943|\"Qubit,Site,n=7\"), (dim=32|id=24|\"Link,l=6\"))\n",
       "[8] ((dim=2|id=287|\"Qubit,Site,n=8\"), (dim=8|id=842|\"Link,l=8\"), (dim=16|id=82|\"Link,l=7\"))\n",
       "[9] ((dim=4|id=345|\"Link,l=9\"), (dim=2|id=171|\"Qubit,Site,n=9\"), (dim=8|id=842|\"Link,l=8\"))\n",
       "[10] ((dim=2|id=880|\"Qubit,Site,n=10\"), (dim=2|id=128|\"Link,l=10\"), (dim=4|id=345|\"Link,l=9\"))\n",
       "[11] ((dim=2|id=77|\"Qubit,Site,n=11\"), (dim=2|id=128|\"Link,l=10\"))\n"
      ]
     },
     "metadata": {},
     "output_type": "display_data"
    }
   ],
   "source": [
    "ct_f.mps"
   ]
  },
  {
   "cell_type": "code",
   "execution_count": 373,
   "metadata": {},
   "outputs": [
    {
     "data": {
      "image/png": "[encoded data removed]",
      "image/svg+xml": [
       "<?xml version=\"1.0\" encoding=\"utf-8\"?>\n",
       "<svg xmlns=\"http://www.w3.org/2000/svg\" xmlns:xlink=\"http://www.w3.org/1999/xlink\" width=\"600\" height=\"400\" viewBox=\"0 0 2400 1600\">\n",
       "<defs>\n",
       "  <clipPath id=\"clip540\">\n",
       "    <rect x=\"0\" y=\"0\" width=\"2400\" height=\"1600\"/>\n",
       "  </clipPath>\n",
       "</defs>\n",
       "<path clip-path=\"url(#clip540)\" d=\"M0 1600 L2400 1600 L2400 0 L0 0  Z\" fill=\"#ffffff\" fill-rule=\"evenodd\" fill-opacity=\"1\"/>\n",
       "<defs>\n",
       "  <clipPath id=\"clip541\">\n",
       "    <rect x=\"480\" y=\"0\" width=\"1681\" height=\"1600\"/>\n",
       "  </clipPath>\n",
       "</defs>\n",
       "<path clip-path=\"url(#clip540)\" d=\"M185.927 1486.45 L2352.76 1486.45 L2352.76 47.2441 L185.927 47.2441  Z\" fill=\"#ffffff\" fill-rule=\"evenodd\" fill-opacity=\"1\"/>\n",
       "<defs>\n",
       "  <clipPath id=\"clip542\">\n",
       "    <rect x=\"185\" y=\"47\" width=\"2168\" height=\"1440\"/>\n",
       "  </clipPath>\n",
       "</defs>\n",
       "<polyline clip-path=\"url(#clip542)\" style=\"stroke:#000000; stroke-linecap:round; stroke-linejoin:round; stroke-width:2; stroke-opacity:0.1; fill:none\" points=\"206.369,1486.45 206.369,47.2441 \"/>\n",
       "<polyline clip-path=\"url(#clip542)\" style=\"stroke:#000000; stroke-linecap:round; stroke-linejoin:round; stroke-width:2; stroke-opacity:0.1; fill:none\" points=\"615.204,1486.45 615.204,47.2441 \"/>\n",
       "<polyline clip-path=\"url(#clip542)\" style=\"stroke:#000000; stroke-linecap:round; stroke-linejoin:round; stroke-width:2; stroke-opacity:0.1; fill:none\" points=\"1024.04,1486.45 1024.04,47.2441 \"/>\n",
       "<polyline clip-path=\"url(#clip542)\" style=\"stroke:#000000; stroke-linecap:round; stroke-linejoin:round; stroke-width:2; stroke-opacity:0.1; fill:none\" points=\"1432.88,1486.45 1432.88,47.2441 \"/>\n",
       "<polyline clip-path=\"url(#clip542)\" style=\"stroke:#000000; stroke-linecap:round; stroke-linejoin:round; stroke-width:2; stroke-opacity:0.1; fill:none\" points=\"1841.71,1486.45 1841.71,47.2441 \"/>\n",
       "<polyline clip-path=\"url(#clip542)\" style=\"stroke:#000000; stroke-linecap:round; stroke-linejoin:round; stroke-width:2; stroke-opacity:0.1; fill:none\" points=\"2250.55,1486.45 2250.55,47.2441 \"/>\n",
       "<polyline clip-path=\"url(#clip540)\" style=\"stroke:#000000; stroke-linecap:round; stroke-linejoin:round; stroke-width:4; stroke-opacity:1; fill:none\" points=\"185.927,1486.45 2352.76,1486.45 \"/>\n",
       "<polyline clip-path=\"url(#clip540)\" style=\"stroke:#000000; stroke-linecap:round; stroke-linejoin:round; stroke-width:4; stroke-opacity:1; fill:none\" points=\"206.369,1486.45 206.369,1467.55 \"/>\n",
       "<polyline clip-path=\"url(#clip540)\" style=\"stroke:#000000; stroke-linecap:round; stroke-linejoin:round; stroke-width:4; stroke-opacity:1; fill:none\" points=\"615.204,1486.45 615.204,1467.55 \"/>\n",
       "<polyline clip-path=\"url(#clip540)\" style=\"stroke:#000000; stroke-linecap:round; stroke-linejoin:round; stroke-width:4; stroke-opacity:1; fill:none\" points=\"1024.04,1486.45 1024.04,1467.55 \"/>\n",
       "<polyline clip-path=\"url(#clip540)\" style=\"stroke:#000000; stroke-linecap:round; stroke-linejoin:round; stroke-width:4; stroke-opacity:1; fill:none\" points=\"1432.88,1486.45 1432.88,1467.55 \"/>\n",
       "<polyline clip-path=\"url(#clip540)\" style=\"stroke:#000000; stroke-linecap:round; stroke-linejoin:round; stroke-width:4; stroke-opacity:1; fill:none\" points=\"1841.71,1486.45 1841.71,1467.55 \"/>\n",
       "<polyline clip-path=\"url(#clip540)\" style=\"stroke:#000000; stroke-linecap:round; stroke-linejoin:round; stroke-width:4; stroke-opacity:1; fill:none\" points=\"2250.55,1486.45 2250.55,1467.55 \"/>\n",
       "<path clip-path=\"url(#clip540)\" d=\"M206.369 1517.37 Q202.757 1517.37 200.929 1520.93 Q199.123 1524.47 199.123 1531.6 Q199.123 1538.71 200.929 1542.27 Q202.757 1545.82 206.369 1545.82 Q210.003 1545.82 211.808 1542.27 Q213.637 1538.71 213.637 1531.6 Q213.637 1524.47 211.808 1520.93 Q210.003 1517.37 206.369 1517.37 M206.369 1513.66 Q212.179 1513.66 215.234 1518.27 Q218.313 1522.85 218.313 1531.6 Q218.313 1540.33 215.234 1544.94 Q212.179 1549.52 206.369 1549.52 Q200.558 1549.52 197.48 1544.94 Q194.424 1540.33 194.424 1531.6 Q194.424 1522.85 197.48 1518.27 Q200.558 1513.66 206.369 1513.66 Z\" fill=\"#000000\" fill-rule=\"nonzero\" fill-opacity=\"1\" /><path clip-path=\"url(#clip540)\" d=\"M589.892 1544.91 L597.531 1544.91 L597.531 1518.55 L589.221 1520.21 L589.221 1515.95 L597.484 1514.29 L602.16 1514.29 L602.16 1544.91 L609.799 1544.91 L609.799 1548.85 L589.892 1548.85 L589.892 1544.91 Z\" fill=\"#000000\" fill-rule=\"nonzero\" fill-opacity=\"1\" /><path clip-path=\"url(#clip540)\" d=\"M629.244 1517.37 Q625.632 1517.37 623.804 1520.93 Q621.998 1524.47 621.998 1531.6 Q621.998 1538.71 623.804 1542.27 Q625.632 1545.82 629.244 1545.82 Q632.878 1545.82 634.683 1542.27 Q636.512 1538.71 636.512 1531.6 Q636.512 1524.47 634.683 1520.93 Q632.878 1517.37 629.244 1517.37 M629.244 1513.66 Q635.054 1513.66 638.109 1518.27 Q641.188 1522.85 641.188 1531.6 Q641.188 1540.33 638.109 1544.94 Q635.054 1549.52 629.244 1549.52 Q623.433 1549.52 620.355 1544.94 Q617.299 1540.33 617.299 1531.6 Q617.299 1522.85 620.355 1518.27 Q623.433 1513.66 629.244 1513.66 Z\" fill=\"#000000\" fill-rule=\"nonzero\" fill-opacity=\"1\" /><path clip-path=\"url(#clip540)\" d=\"M1002.81 1544.91 L1019.13 1544.91 L1019.13 1548.85 L997.188 1548.85 L997.188 1544.91 Q999.85 1542.16 1004.43 1537.53 Q1009.04 1532.88 1010.22 1531.53 Q1012.47 1529.01 1013.35 1527.27 Q1014.25 1525.51 1014.25 1523.82 Q1014.25 1521.07 1012.3 1519.33 Q1010.38 1517.6 1007.28 1517.6 Q1005.08 1517.6 1002.63 1518.36 Q1000.2 1519.13 997.42 1520.68 L997.42 1515.95 Q1000.24 1514.82 1002.7 1514.24 Q1005.15 1513.66 1007.19 1513.66 Q1012.56 1513.66 1015.75 1516.35 Q1018.95 1519.03 1018.95 1523.52 Q1018.95 1525.65 1018.14 1527.57 Q1017.35 1529.47 1015.24 1532.07 Q1014.66 1532.74 1011.56 1535.95 Q1008.46 1539.15 1002.81 1544.91 Z\" fill=\"#000000\" fill-rule=\"nonzero\" fill-opacity=\"1\" /><path clip-path=\"url(#clip540)\" d=\"M1038.95 1517.37 Q1035.34 1517.37 1033.51 1520.93 Q1031.7 1524.47 1031.7 1531.6 Q1031.7 1538.71 1033.51 1542.27 Q1035.34 1545.82 1038.95 1545.82 Q1042.58 1545.82 1044.39 1542.27 Q1046.22 1538.71 1046.22 1531.6 Q1046.22 1524.47 1044.39 1520.93 Q1042.58 1517.37 1038.95 1517.37 M1038.95 1513.66 Q1044.76 1513.66 1047.81 1518.27 Q1050.89 1522.85 1050.89 1531.6 Q1050.89 1540.33 1047.81 1544.94 Q1044.76 1549.52 1038.95 1549.52 Q1033.14 1549.52 1030.06 1544.94 Q1027 1540.33 1027 1531.6 Q1027 1522.85 1030.06 1518.27 Q1033.14 1513.66 1038.95 1513.66 Z\" fill=\"#000000\" fill-rule=\"nonzero\" fill-opacity=\"1\" /><path clip-path=\"url(#clip540)\" d=\"M1421.72 1530.21 Q1425.07 1530.93 1426.95 1533.2 Q1428.85 1535.47 1428.85 1538.8 Q1428.85 1543.92 1425.33 1546.72 Q1421.81 1549.52 1415.33 1549.52 Q1413.15 1549.52 1410.84 1549.08 Q1408.55 1548.66 1406.09 1547.81 L1406.09 1543.29 Q1408.04 1544.43 1410.35 1545.01 Q1412.67 1545.58 1415.19 1545.58 Q1419.59 1545.58 1421.88 1543.85 Q1424.2 1542.11 1424.2 1538.8 Q1424.2 1535.75 1422.04 1534.03 Q1419.91 1532.3 1416.09 1532.3 L1412.07 1532.3 L1412.07 1528.45 L1416.28 1528.45 Q1419.73 1528.45 1421.56 1527.09 Q1423.38 1525.7 1423.38 1523.11 Q1423.38 1520.45 1421.49 1519.03 Q1419.61 1517.6 1416.09 1517.6 Q1414.17 1517.6 1411.97 1518.01 Q1409.77 1518.43 1407.14 1519.31 L1407.14 1515.14 Q1409.8 1514.4 1412.11 1514.03 Q1414.45 1513.66 1416.51 1513.66 Q1421.83 1513.66 1424.94 1516.09 Q1428.04 1518.5 1428.04 1522.62 Q1428.04 1525.49 1426.39 1527.48 Q1424.75 1529.45 1421.72 1530.21 Z\" fill=\"#000000\" fill-rule=\"nonzero\" fill-opacity=\"1\" /><path clip-path=\"url(#clip540)\" d=\"M1447.71 1517.37 Q1444.1 1517.37 1442.27 1520.93 Q1440.47 1524.47 1440.47 1531.6 Q1440.47 1538.71 1442.27 1542.27 Q1444.1 1545.82 1447.71 1545.82 Q1451.35 1545.82 1453.15 1542.27 Q1454.98 1538.71 1454.98 1531.6 Q1454.98 1524.47 1453.15 1520.93 Q1451.35 1517.37 1447.71 1517.37 M1447.71 1513.66 Q1453.52 1513.66 1456.58 1518.27 Q1459.66 1522.85 1459.66 1531.6 Q1459.66 1540.33 1456.58 1544.94 Q1453.52 1549.52 1447.71 1549.52 Q1441.9 1549.52 1438.82 1544.94 Q1435.77 1540.33 1435.77 1531.6 Q1435.77 1522.85 1438.82 1518.27 Q1441.9 1513.66 1447.71 1513.66 Z\" fill=\"#000000\" fill-rule=\"nonzero\" fill-opacity=\"1\" /><path clip-path=\"url(#clip540)\" d=\"M1829.88 1518.36 L1818.08 1536.81 L1829.88 1536.81 L1829.88 1518.36 M1828.66 1514.29 L1834.54 1514.29 L1834.54 1536.81 L1839.47 1536.81 L1839.47 1540.7 L1834.54 1540.7 L1834.54 1548.85 L1829.88 1548.85 L1829.88 1540.7 L1814.28 1540.7 L1814.28 1536.19 L1828.66 1514.29 Z\" fill=\"#000000\" fill-rule=\"nonzero\" fill-opacity=\"1\" /><path clip-path=\"url(#clip540)\" d=\"M1857.2 1517.37 Q1853.59 1517.37 1851.76 1520.93 Q1849.95 1524.47 1849.95 1531.6 Q1849.95 1538.71 1851.76 1542.27 Q1853.59 1545.82 1857.2 1545.82 Q1860.83 1545.82 1862.64 1542.27 Q1864.47 1538.71 1864.47 1531.6 Q1864.47 1524.47 1862.64 1520.93 Q1860.83 1517.37 1857.2 1517.37 M1857.2 1513.66 Q1863.01 1513.66 1866.06 1518.27 Q1869.14 1522.85 1869.14 1531.6 Q1869.14 1540.33 1866.06 1544.94 Q1863.01 1549.52 1857.2 1549.52 Q1851.39 1549.52 1848.31 1544.94 Q1845.25 1540.33 1845.25 1531.6 Q1845.25 1522.85 1848.31 1518.27 Q1851.39 1513.66 1857.2 1513.66 Z\" fill=\"#000000\" fill-rule=\"nonzero\" fill-opacity=\"1\" /><path clip-path=\"url(#clip540)\" d=\"M2225.25 1514.29 L2243.6 1514.29 L2243.6 1518.22 L2229.53 1518.22 L2229.53 1526.7 Q2230.55 1526.35 2231.57 1526.19 Q2232.58 1526 2233.6 1526 Q2239.39 1526 2242.77 1529.17 Q2246.15 1532.34 2246.15 1537.76 Q2246.15 1543.34 2242.68 1546.44 Q2239.2 1549.52 2232.89 1549.52 Q2230.71 1549.52 2228.44 1549.15 Q2226.2 1548.78 2223.79 1548.04 L2223.79 1543.34 Q2225.87 1544.47 2228.09 1545.03 Q2230.32 1545.58 2232.79 1545.58 Q2236.8 1545.58 2239.14 1543.48 Q2241.47 1541.37 2241.47 1537.76 Q2241.47 1534.15 2239.14 1532.04 Q2236.8 1529.94 2232.79 1529.94 Q2230.92 1529.94 2229.04 1530.35 Q2227.19 1530.77 2225.25 1531.65 L2225.25 1514.29 Z\" fill=\"#000000\" fill-rule=\"nonzero\" fill-opacity=\"1\" /><path clip-path=\"url(#clip540)\" d=\"M2265.36 1517.37 Q2261.75 1517.37 2259.92 1520.93 Q2258.12 1524.47 2258.12 1531.6 Q2258.12 1538.71 2259.92 1542.27 Q2261.75 1545.82 2265.36 1545.82 Q2269 1545.82 2270.8 1542.27 Q2272.63 1538.71 2272.63 1531.6 Q2272.63 1524.47 2270.8 1520.93 Q2269 1517.37 2265.36 1517.37 M2265.36 1513.66 Q2271.17 1513.66 2274.23 1518.27 Q2277.31 1522.85 2277.31 1531.6 Q2277.31 1540.33 2274.23 1544.94 Q2271.17 1549.52 2265.36 1549.52 Q2259.55 1549.52 2256.47 1544.94 Q2253.42 1540.33 2253.42 1531.6 Q2253.42 1522.85 2256.47 1518.27 Q2259.55 1513.66 2265.36 1513.66 Z\" fill=\"#000000\" fill-rule=\"nonzero\" fill-opacity=\"1\" /><polyline clip-path=\"url(#clip542)\" style=\"stroke:#000000; stroke-linecap:round; stroke-linejoin:round; stroke-width:2; stroke-opacity:0.1; fill:none\" points=\"185.927,1445.72 2352.76,1445.72 \"/>\n",
       "<polyline clip-path=\"url(#clip542)\" style=\"stroke:#000000; stroke-linecap:round; stroke-linejoin:round; stroke-width:2; stroke-opacity:0.1; fill:none\" points=\"185.927,1162.85 2352.76,1162.85 \"/>\n",
       "<polyline clip-path=\"url(#clip542)\" style=\"stroke:#000000; stroke-linecap:round; stroke-linejoin:round; stroke-width:2; stroke-opacity:0.1; fill:none\" points=\"185.927,879.991 2352.76,879.991 \"/>\n",
       "<polyline clip-path=\"url(#clip542)\" style=\"stroke:#000000; stroke-linecap:round; stroke-linejoin:round; stroke-width:2; stroke-opacity:0.1; fill:none\" points=\"185.927,597.129 2352.76,597.129 \"/>\n",
       "<polyline clip-path=\"url(#clip542)\" style=\"stroke:#000000; stroke-linecap:round; stroke-linejoin:round; stroke-width:2; stroke-opacity:0.1; fill:none\" points=\"185.927,314.266 2352.76,314.266 \"/>\n",
       "<polyline clip-path=\"url(#clip540)\" style=\"stroke:#000000; stroke-linecap:round; stroke-linejoin:round; stroke-width:4; stroke-opacity:1; fill:none\" points=\"185.927,1486.45 185.927,47.2441 \"/>\n",
       "<polyline clip-path=\"url(#clip540)\" style=\"stroke:#000000; stroke-linecap:round; stroke-linejoin:round; stroke-width:4; stroke-opacity:1; fill:none\" points=\"185.927,1445.72 204.824,1445.72 \"/>\n",
       "<polyline clip-path=\"url(#clip540)\" style=\"stroke:#000000; stroke-linecap:round; stroke-linejoin:round; stroke-width:4; stroke-opacity:1; fill:none\" points=\"185.927,1162.85 204.824,1162.85 \"/>\n",
       "<polyline clip-path=\"url(#clip540)\" style=\"stroke:#000000; stroke-linecap:round; stroke-linejoin:round; stroke-width:4; stroke-opacity:1; fill:none\" points=\"185.927,879.991 204.824,879.991 \"/>\n",
       "<polyline clip-path=\"url(#clip540)\" style=\"stroke:#000000; stroke-linecap:round; stroke-linejoin:round; stroke-width:4; stroke-opacity:1; fill:none\" points=\"185.927,597.129 204.824,597.129 \"/>\n",
       "<polyline clip-path=\"url(#clip540)\" style=\"stroke:#000000; stroke-linecap:round; stroke-linejoin:round; stroke-width:4; stroke-opacity:1; fill:none\" points=\"185.927,314.266 204.824,314.266 \"/>\n",
       "<path clip-path=\"url(#clip540)\" d=\"M56.6171 1459.06 L72.9365 1459.06 L72.9365 1463 L50.9921 1463 L50.9921 1459.06 Q53.6541 1456.31 58.2375 1451.68 Q62.8439 1447.02 64.0245 1445.68 Q66.2698 1443.16 67.1494 1441.42 Q68.0522 1439.66 68.0522 1437.97 Q68.0522 1435.22 66.1078 1433.48 Q64.1865 1431.75 61.0847 1431.75 Q58.8856 1431.75 56.4319 1432.51 Q54.0014 1433.27 51.2236 1434.82 L51.2236 1430.1 Q54.0477 1428.97 56.5014 1428.39 Q58.955 1427.81 60.9921 1427.81 Q66.3624 1427.81 69.5568 1430.5 Q72.7513 1433.18 72.7513 1437.67 Q72.7513 1439.8 71.9411 1441.72 Q71.1541 1443.62 69.0476 1446.21 Q68.4689 1446.88 65.367 1450.1 Q62.2652 1453.3 56.6171 1459.06 Z\" fill=\"#000000\" fill-rule=\"nonzero\" fill-opacity=\"1\" /><path clip-path=\"url(#clip540)\" d=\"M92.7512 1431.51 Q89.1401 1431.51 87.3114 1435.08 Q85.5058 1438.62 85.5058 1445.75 Q85.5058 1452.86 87.3114 1456.42 Q89.1401 1459.96 92.7512 1459.96 Q96.3854 1459.96 98.1909 1456.42 Q100.02 1452.86 100.02 1445.75 Q100.02 1438.62 98.1909 1435.08 Q96.3854 1431.51 92.7512 1431.51 M92.7512 1427.81 Q98.5613 1427.81 101.617 1432.42 Q104.696 1437 104.696 1445.75 Q104.696 1454.48 101.617 1459.08 Q98.5613 1463.67 92.7512 1463.67 Q86.941 1463.67 83.8623 1459.08 Q80.8068 1454.48 80.8068 1445.75 Q80.8068 1437 83.8623 1432.42 Q86.941 1427.81 92.7512 1427.81 Z\" fill=\"#000000\" fill-rule=\"nonzero\" fill-opacity=\"1\" /><path clip-path=\"url(#clip540)\" d=\"M112.913 1457.12 L117.797 1457.12 L117.797 1463 L112.913 1463 L112.913 1457.12 Z\" fill=\"#000000\" fill-rule=\"nonzero\" fill-opacity=\"1\" /><path clip-path=\"url(#clip540)\" d=\"M137.982 1431.51 Q134.371 1431.51 132.543 1435.08 Q130.737 1438.62 130.737 1445.75 Q130.737 1452.86 132.543 1456.42 Q134.371 1459.96 137.982 1459.96 Q141.617 1459.96 143.422 1456.42 Q145.251 1452.86 145.251 1445.75 Q145.251 1438.62 143.422 1435.08 Q141.617 1431.51 137.982 1431.51 M137.982 1427.81 Q143.793 1427.81 146.848 1432.42 Q149.927 1437 149.927 1445.75 Q149.927 1454.48 146.848 1459.08 Q143.793 1463.67 137.982 1463.67 Q132.172 1463.67 129.094 1459.08 Q126.038 1454.48 126.038 1445.75 Q126.038 1437 129.094 1432.42 Q132.172 1427.81 137.982 1427.81 Z\" fill=\"#000000\" fill-rule=\"nonzero\" fill-opacity=\"1\" /><path clip-path=\"url(#clip540)\" d=\"M57.6125 1176.2 L73.9318 1176.2 L73.9318 1180.13 L51.9875 1180.13 L51.9875 1176.2 Q54.6495 1173.44 59.2328 1168.81 Q63.8393 1164.16 65.0198 1162.82 Q67.2652 1160.3 68.1448 1158.56 Q69.0476 1156.8 69.0476 1155.11 Q69.0476 1152.36 67.1032 1150.62 Q65.1819 1148.88 62.08 1148.88 Q59.881 1148.88 57.4273 1149.65 Q54.9967 1150.41 52.219 1151.96 L52.219 1147.24 Q55.043 1146.11 57.4967 1145.53 Q59.9504 1144.95 61.9874 1144.95 Q67.3578 1144.95 70.5522 1147.63 Q73.7466 1150.32 73.7466 1154.81 Q73.7466 1156.94 72.9365 1158.86 Q72.1494 1160.76 70.0429 1163.35 Q69.4642 1164.02 66.3624 1167.24 Q63.2606 1170.43 57.6125 1176.2 Z\" fill=\"#000000\" fill-rule=\"nonzero\" fill-opacity=\"1\" /><path clip-path=\"url(#clip540)\" d=\"M87.7743 1176.2 L104.094 1176.2 L104.094 1180.13 L82.1494 1180.13 L82.1494 1176.2 Q84.8114 1173.44 89.3947 1168.81 Q94.0012 1164.16 95.1817 1162.82 Q97.4271 1160.3 98.3067 1158.56 Q99.2095 1156.8 99.2095 1155.11 Q99.2095 1152.36 97.265 1150.62 Q95.3437 1148.88 92.2419 1148.88 Q90.0428 1148.88 87.5892 1149.65 Q85.1586 1150.41 82.3808 1151.96 L82.3808 1147.24 Q85.2049 1146.11 87.6586 1145.53 Q90.1123 1144.95 92.1493 1144.95 Q97.5197 1144.95 100.714 1147.63 Q103.909 1150.32 103.909 1154.81 Q103.909 1156.94 103.098 1158.86 Q102.311 1160.76 100.205 1163.35 Q99.6261 1164.02 96.5243 1167.24 Q93.4225 1170.43 87.7743 1176.2 Z\" fill=\"#000000\" fill-rule=\"nonzero\" fill-opacity=\"1\" /><path clip-path=\"url(#clip540)\" d=\"M113.908 1174.25 L118.793 1174.25 L118.793 1180.13 L113.908 1180.13 L113.908 1174.25 Z\" fill=\"#000000\" fill-rule=\"nonzero\" fill-opacity=\"1\" /><path clip-path=\"url(#clip540)\" d=\"M129.024 1145.57 L147.38 1145.57 L147.38 1149.51 L133.306 1149.51 L133.306 1157.98 Q134.325 1157.63 135.344 1157.47 Q136.362 1157.29 137.381 1157.29 Q143.168 1157.29 146.547 1160.46 Q149.927 1163.63 149.927 1169.05 Q149.927 1174.62 146.455 1177.73 Q142.982 1180.8 136.663 1180.8 Q134.487 1180.8 132.219 1180.43 Q129.973 1180.06 127.566 1179.32 L127.566 1174.62 Q129.649 1175.76 131.871 1176.31 Q134.094 1176.87 136.57 1176.87 Q140.575 1176.87 142.913 1174.76 Q145.251 1172.66 145.251 1169.05 Q145.251 1165.43 142.913 1163.33 Q140.575 1161.22 136.57 1161.22 Q134.695 1161.22 132.82 1161.64 Q130.969 1162.05 129.024 1162.93 L129.024 1145.57 Z\" fill=\"#000000\" fill-rule=\"nonzero\" fill-opacity=\"1\" /><path clip-path=\"url(#clip540)\" d=\"M56.6171 893.336 L72.9365 893.336 L72.9365 897.271 L50.9921 897.271 L50.9921 893.336 Q53.6541 890.581 58.2375 885.952 Q62.8439 881.299 64.0245 879.956 Q66.2698 877.433 67.1494 875.697 Q68.0522 873.938 68.0522 872.248 Q68.0522 869.493 66.1078 867.757 Q64.1865 866.021 61.0847 866.021 Q58.8856 866.021 56.4319 866.785 Q54.0014 867.549 51.2236 869.1 L51.2236 864.378 Q54.0477 863.243 56.5014 862.665 Q58.955 862.086 60.9921 862.086 Q66.3624 862.086 69.5568 864.771 Q72.7513 867.456 72.7513 871.947 Q72.7513 874.077 71.9411 875.998 Q71.1541 877.896 69.0476 880.489 Q68.4689 881.16 65.367 884.377 Q62.2652 887.572 56.6171 893.336 Z\" fill=\"#000000\" fill-rule=\"nonzero\" fill-opacity=\"1\" /><path clip-path=\"url(#clip540)\" d=\"M82.7975 862.711 L101.154 862.711 L101.154 866.646 L87.0799 866.646 L87.0799 875.118 Q88.0984 874.771 89.1169 874.609 Q90.1354 874.424 91.1539 874.424 Q96.941 874.424 100.321 877.595 Q103.7 880.766 103.7 886.183 Q103.7 891.762 100.228 894.864 Q96.7558 897.942 90.4364 897.942 Q88.2604 897.942 85.9919 897.572 Q83.7466 897.201 81.3392 896.461 L81.3392 891.762 Q83.4225 892.896 85.6447 893.452 Q87.8669 894.007 90.3438 894.007 Q94.3484 894.007 96.6863 891.901 Q99.0243 889.794 99.0243 886.183 Q99.0243 882.572 96.6863 880.465 Q94.3484 878.359 90.3438 878.359 Q88.4688 878.359 86.5938 878.776 Q84.7419 879.192 82.7975 880.072 L82.7975 862.711 Z\" fill=\"#000000\" fill-rule=\"nonzero\" fill-opacity=\"1\" /><path clip-path=\"url(#clip540)\" d=\"M112.913 891.391 L117.797 891.391 L117.797 897.271 L112.913 897.271 L112.913 891.391 Z\" fill=\"#000000\" fill-rule=\"nonzero\" fill-opacity=\"1\" /><path clip-path=\"url(#clip540)\" d=\"M137.982 865.79 Q134.371 865.79 132.543 869.354 Q130.737 872.896 130.737 880.026 Q130.737 887.132 132.543 890.697 Q134.371 894.239 137.982 894.239 Q141.617 894.239 143.422 890.697 Q145.251 887.132 145.251 880.026 Q145.251 872.896 143.422 869.354 Q141.617 865.79 137.982 865.79 M137.982 862.086 Q143.793 862.086 146.848 866.692 Q149.927 871.276 149.927 880.026 Q149.927 888.752 146.848 893.359 Q143.793 897.942 137.982 897.942 Q132.172 897.942 129.094 893.359 Q126.038 888.752 126.038 880.026 Q126.038 871.276 129.094 866.692 Q132.172 862.086 137.982 862.086 Z\" fill=\"#000000\" fill-rule=\"nonzero\" fill-opacity=\"1\" /><path clip-path=\"url(#clip540)\" d=\"M57.6125 610.473 L73.9318 610.473 L73.9318 614.409 L51.9875 614.409 L51.9875 610.473 Q54.6495 607.719 59.2328 603.089 Q63.8393 598.436 65.0198 597.094 Q67.2652 594.571 68.1448 592.835 Q69.0476 591.075 69.0476 589.386 Q69.0476 586.631 67.1032 584.895 Q65.1819 583.159 62.08 583.159 Q59.881 583.159 57.4273 583.923 Q54.9967 584.686 52.219 586.237 L52.219 581.515 Q55.043 580.381 57.4967 579.802 Q59.9504 579.224 61.9874 579.224 Q67.3578 579.224 70.5522 581.909 Q73.7466 584.594 73.7466 589.085 Q73.7466 591.214 72.9365 593.136 Q72.1494 595.034 70.0429 597.626 Q69.4642 598.298 66.3624 601.515 Q63.2606 604.71 57.6125 610.473 Z\" fill=\"#000000\" fill-rule=\"nonzero\" fill-opacity=\"1\" /><path clip-path=\"url(#clip540)\" d=\"M82.566 579.849 L104.788 579.849 L104.788 581.839 L92.2419 614.409 L87.3577 614.409 L99.1632 583.784 L82.566 583.784 L82.566 579.849 Z\" fill=\"#000000\" fill-rule=\"nonzero\" fill-opacity=\"1\" /><path clip-path=\"url(#clip540)\" d=\"M113.908 608.529 L118.793 608.529 L118.793 614.409 L113.908 614.409 L113.908 608.529 Z\" fill=\"#000000\" fill-rule=\"nonzero\" fill-opacity=\"1\" /><path clip-path=\"url(#clip540)\" d=\"M129.024 579.849 L147.38 579.849 L147.38 583.784 L133.306 583.784 L133.306 592.256 Q134.325 591.909 135.344 591.747 Q136.362 591.561 137.381 591.561 Q143.168 591.561 146.547 594.733 Q149.927 597.904 149.927 603.321 Q149.927 608.899 146.455 612.001 Q142.982 615.08 136.663 615.08 Q134.487 615.08 132.219 614.709 Q129.973 614.339 127.566 613.598 L127.566 608.899 Q129.649 610.034 131.871 610.589 Q134.094 611.145 136.57 611.145 Q140.575 611.145 142.913 609.038 Q145.251 606.932 145.251 603.321 Q145.251 599.71 142.913 597.603 Q140.575 595.497 136.57 595.497 Q134.695 595.497 132.82 595.913 Q130.969 596.33 129.024 597.21 L129.024 579.849 Z\" fill=\"#000000\" fill-rule=\"nonzero\" fill-opacity=\"1\" /><path clip-path=\"url(#clip540)\" d=\"M66.7559 312.912 Q70.1124 313.63 71.9874 315.898 Q73.8855 318.167 73.8855 321.5 Q73.8855 326.616 70.367 329.417 Q66.8485 332.217 60.3671 332.217 Q58.1912 332.217 55.8764 331.778 Q53.5847 331.361 51.131 330.505 L51.131 325.991 Q53.0754 327.125 55.3903 327.704 Q57.7051 328.282 60.2282 328.282 Q64.6263 328.282 66.918 326.546 Q69.2328 324.81 69.2328 321.5 Q69.2328 318.444 67.08 316.731 Q64.9504 314.995 61.131 314.995 L57.1032 314.995 L57.1032 311.153 L61.3161 311.153 Q64.7652 311.153 66.5939 309.787 Q68.4226 308.398 68.4226 305.806 Q68.4226 303.144 66.5245 301.732 Q64.6495 300.296 61.131 300.296 Q59.2097 300.296 57.0106 300.713 Q54.8115 301.13 52.1727 302.009 L52.1727 297.843 Q54.8347 297.102 57.1495 296.732 Q59.4875 296.361 61.5476 296.361 Q66.8717 296.361 69.9735 298.792 Q73.0753 301.199 73.0753 305.319 Q73.0753 308.19 71.4318 310.181 Q69.7883 312.148 66.7559 312.912 Z\" fill=\"#000000\" fill-rule=\"nonzero\" fill-opacity=\"1\" /><path clip-path=\"url(#clip540)\" d=\"M92.7512 300.065 Q89.1401 300.065 87.3114 303.63 Q85.5058 307.171 85.5058 314.301 Q85.5058 321.407 87.3114 324.972 Q89.1401 328.514 92.7512 328.514 Q96.3854 328.514 98.1909 324.972 Q100.02 321.407 100.02 314.301 Q100.02 307.171 98.1909 303.63 Q96.3854 300.065 92.7512 300.065 M92.7512 296.361 Q98.5613 296.361 101.617 300.968 Q104.696 305.551 104.696 314.301 Q104.696 323.028 101.617 327.634 Q98.5613 332.217 92.7512 332.217 Q86.941 332.217 83.8623 327.634 Q80.8068 323.028 80.8068 314.301 Q80.8068 305.551 83.8623 300.968 Q86.941 296.361 92.7512 296.361 Z\" fill=\"#000000\" fill-rule=\"nonzero\" fill-opacity=\"1\" /><path clip-path=\"url(#clip540)\" d=\"M112.913 325.667 L117.797 325.667 L117.797 331.546 L112.913 331.546 L112.913 325.667 Z\" fill=\"#000000\" fill-rule=\"nonzero\" fill-opacity=\"1\" /><path clip-path=\"url(#clip540)\" d=\"M137.982 300.065 Q134.371 300.065 132.543 303.63 Q130.737 307.171 130.737 314.301 Q130.737 321.407 132.543 324.972 Q134.371 328.514 137.982 328.514 Q141.617 328.514 143.422 324.972 Q145.251 321.407 145.251 314.301 Q145.251 307.171 143.422 303.63 Q141.617 300.065 137.982 300.065 M137.982 296.361 Q143.793 296.361 146.848 300.968 Q149.927 305.551 149.927 314.301 Q149.927 323.028 146.848 327.634 Q143.793 332.217 137.982 332.217 Q132.172 332.217 129.094 327.634 Q126.038 323.028 126.038 314.301 Q126.038 305.551 129.094 300.968 Q132.172 296.361 137.982 296.361 Z\" fill=\"#000000\" fill-rule=\"nonzero\" fill-opacity=\"1\" /><polyline clip-path=\"url(#clip542)\" style=\"stroke:#009af9; stroke-linecap:round; stroke-linejoin:round; stroke-width:4; stroke-opacity:1; fill:none\" points=\"247.252,1445.72 288.136,1445.72 329.019,87.9763 369.903,87.9763 410.786,87.9763 451.67,87.9763 492.554,87.9763 533.437,87.9763 574.321,87.9763 615.204,87.9763 656.088,87.9763 696.971,87.9763 737.855,87.9763 778.739,87.9763 819.622,87.9763 860.506,87.9763 901.389,87.9763 942.273,87.9763 983.156,87.9763 1024.04,87.9763 1064.92,87.9763 1105.81,87.9763 1146.69,87.9763 1187.57,87.9763 1228.46,87.9763 1269.34,87.9763 1310.22,87.9763 1351.11,87.9763 1391.99,87.9763 1432.88,87.9763 1473.76,87.9763 1514.64,87.9763 1555.53,87.9763 1596.41,87.9763 1637.29,87.9763 1678.18,87.9763 1719.06,87.9763 1759.94,87.9763 1800.83,87.9763 1841.71,87.9763 1882.59,87.9763 1923.48,87.9763 1964.36,87.9763 2005.25,87.9763 2046.13,87.9763 2087.01,87.9763 2127.9,87.9763 2168.78,87.9763 2209.66,87.9763 2250.55,87.9763 2291.43,87.9763 \"/>\n",
       "<circle clip-path=\"url(#clip542)\" cx=\"247.252\" cy=\"1445.72\" r=\"14.4\" fill=\"#009af9\" fill-rule=\"evenodd\" fill-opacity=\"1\" stroke=\"#000000\" stroke-opacity=\"1\" stroke-width=\"3.2\"/>\n",
       "<circle clip-path=\"url(#clip542)\" cx=\"288.136\" cy=\"1445.72\" r=\"14.4\" fill=\"#009af9\" fill-rule=\"evenodd\" fill-opacity=\"1\" stroke=\"#000000\" stroke-opacity=\"1\" stroke-width=\"3.2\"/>\n",
       "<circle clip-path=\"url(#clip542)\" cx=\"329.019\" cy=\"87.9763\" r=\"14.4\" fill=\"#009af9\" fill-rule=\"evenodd\" fill-opacity=\"1\" stroke=\"#000000\" stroke-opacity=\"1\" stroke-width=\"3.2\"/>\n",
       "<circle clip-path=\"url(#clip542)\" cx=\"369.903\" cy=\"87.9763\" r=\"14.4\" fill=\"#009af9\" fill-rule=\"evenodd\" fill-opacity=\"1\" stroke=\"#000000\" stroke-opacity=\"1\" stroke-width=\"3.2\"/>\n",
       "<circle clip-path=\"url(#clip542)\" cx=\"410.786\" cy=\"87.9763\" r=\"14.4\" fill=\"#009af9\" fill-rule=\"evenodd\" fill-opacity=\"1\" stroke=\"#000000\" stroke-opacity=\"1\" stroke-width=\"3.2\"/>\n",
       "<circle clip-path=\"url(#clip542)\" cx=\"451.67\" cy=\"87.9763\" r=\"14.4\" fill=\"#009af9\" fill-rule=\"evenodd\" fill-opacity=\"1\" stroke=\"#000000\" stroke-opacity=\"1\" stroke-width=\"3.2\"/>\n",
       "<circle clip-path=\"url(#clip542)\" cx=\"492.554\" cy=\"87.9763\" r=\"14.4\" fill=\"#009af9\" fill-rule=\"evenodd\" fill-opacity=\"1\" stroke=\"#000000\" stroke-opacity=\"1\" stroke-width=\"3.2\"/>\n",
       "<circle clip-path=\"url(#clip542)\" cx=\"533.437\" cy=\"87.9763\" r=\"14.4\" fill=\"#009af9\" fill-rule=\"evenodd\" fill-opacity=\"1\" stroke=\"#000000\" stroke-opacity=\"1\" stroke-width=\"3.2\"/>\n",
       "<circle clip-path=\"url(#clip542)\" cx=\"574.321\" cy=\"87.9763\" r=\"14.4\" fill=\"#009af9\" fill-rule=\"evenodd\" fill-opacity=\"1\" stroke=\"#000000\" stroke-opacity=\"1\" stroke-width=\"3.2\"/>\n",
       "<circle clip-path=\"url(#clip542)\" cx=\"615.204\" cy=\"87.9763\" r=\"14.4\" fill=\"#009af9\" fill-rule=\"evenodd\" fill-opacity=\"1\" stroke=\"#000000\" stroke-opacity=\"1\" stroke-width=\"3.2\"/>\n",
       "<circle clip-path=\"url(#clip542)\" cx=\"656.088\" cy=\"87.9763\" r=\"14.4\" fill=\"#009af9\" fill-rule=\"evenodd\" fill-opacity=\"1\" stroke=\"#000000\" stroke-opacity=\"1\" stroke-width=\"3.2\"/>\n",
       "<circle clip-path=\"url(#clip542)\" cx=\"696.971\" cy=\"87.9763\" r=\"14.4\" fill=\"#009af9\" fill-rule=\"evenodd\" fill-opacity=\"1\" stroke=\"#000000\" stroke-opacity=\"1\" stroke-width=\"3.2\"/>\n",
       "<circle clip-path=\"url(#clip542)\" cx=\"737.855\" cy=\"87.9763\" r=\"14.4\" fill=\"#009af9\" fill-rule=\"evenodd\" fill-opacity=\"1\" stroke=\"#000000\" stroke-opacity=\"1\" stroke-width=\"3.2\"/>\n",
       "<circle clip-path=\"url(#clip542)\" cx=\"778.739\" cy=\"87.9763\" r=\"14.4\" fill=\"#009af9\" fill-rule=\"evenodd\" fill-opacity=\"1\" stroke=\"#000000\" stroke-opacity=\"1\" stroke-width=\"3.2\"/>\n",
       "<circle clip-path=\"url(#clip542)\" cx=\"819.622\" cy=\"87.9763\" r=\"14.4\" fill=\"#009af9\" fill-rule=\"evenodd\" fill-opacity=\"1\" stroke=\"#000000\" stroke-opacity=\"1\" stroke-width=\"3.2\"/>\n",
       "<circle clip-path=\"url(#clip542)\" cx=\"860.506\" cy=\"87.9763\" r=\"14.4\" fill=\"#009af9\" fill-rule=\"evenodd\" fill-opacity=\"1\" stroke=\"#000000\" stroke-opacity=\"1\" stroke-width=\"3.2\"/>\n",
       "<circle clip-path=\"url(#clip542)\" cx=\"901.389\" cy=\"87.9763\" r=\"14.4\" fill=\"#009af9\" fill-rule=\"evenodd\" fill-opacity=\"1\" stroke=\"#000000\" stroke-opacity=\"1\" stroke-width=\"3.2\"/>\n",
       "<circle clip-path=\"url(#clip542)\" cx=\"942.273\" cy=\"87.9763\" r=\"14.4\" fill=\"#009af9\" fill-rule=\"evenodd\" fill-opacity=\"1\" stroke=\"#000000\" stroke-opacity=\"1\" stroke-width=\"3.2\"/>\n",
       "<circle clip-path=\"url(#clip542)\" cx=\"983.156\" cy=\"87.9763\" r=\"14.4\" fill=\"#009af9\" fill-rule=\"evenodd\" fill-opacity=\"1\" stroke=\"#000000\" stroke-opacity=\"1\" stroke-width=\"3.2\"/>\n",
       "<circle clip-path=\"url(#clip542)\" cx=\"1024.04\" cy=\"87.9763\" r=\"14.4\" fill=\"#009af9\" fill-rule=\"evenodd\" fill-opacity=\"1\" stroke=\"#000000\" stroke-opacity=\"1\" stroke-width=\"3.2\"/>\n",
       "<circle clip-path=\"url(#clip542)\" cx=\"1064.92\" cy=\"87.9763\" r=\"14.4\" fill=\"#009af9\" fill-rule=\"evenodd\" fill-opacity=\"1\" stroke=\"#000000\" stroke-opacity=\"1\" stroke-width=\"3.2\"/>\n",
       "<circle clip-path=\"url(#clip542)\" cx=\"1105.81\" cy=\"87.9763\" r=\"14.4\" fill=\"#009af9\" fill-rule=\"evenodd\" fill-opacity=\"1\" stroke=\"#000000\" stroke-opacity=\"1\" stroke-width=\"3.2\"/>\n",
       "<circle clip-path=\"url(#clip542)\" cx=\"1146.69\" cy=\"87.9763\" r=\"14.4\" fill=\"#009af9\" fill-rule=\"evenodd\" fill-opacity=\"1\" stroke=\"#000000\" stroke-opacity=\"1\" stroke-width=\"3.2\"/>\n",
       "<circle clip-path=\"url(#clip542)\" cx=\"1187.57\" cy=\"87.9763\" r=\"14.4\" fill=\"#009af9\" fill-rule=\"evenodd\" fill-opacity=\"1\" stroke=\"#000000\" stroke-opacity=\"1\" stroke-width=\"3.2\"/>\n",
       "<circle clip-path=\"url(#clip542)\" cx=\"1228.46\" cy=\"87.9763\" r=\"14.4\" fill=\"#009af9\" fill-rule=\"evenodd\" fill-opacity=\"1\" stroke=\"#000000\" stroke-opacity=\"1\" stroke-width=\"3.2\"/>\n",
       "<circle clip-path=\"url(#clip542)\" cx=\"1269.34\" cy=\"87.9763\" r=\"14.4\" fill=\"#009af9\" fill-rule=\"evenodd\" fill-opacity=\"1\" stroke=\"#000000\" stroke-opacity=\"1\" stroke-width=\"3.2\"/>\n",
       "<circle clip-path=\"url(#clip542)\" cx=\"1310.22\" cy=\"87.9763\" r=\"14.4\" fill=\"#009af9\" fill-rule=\"evenodd\" fill-opacity=\"1\" stroke=\"#000000\" stroke-opacity=\"1\" stroke-width=\"3.2\"/>\n",
       "<circle clip-path=\"url(#clip542)\" cx=\"1351.11\" cy=\"87.9763\" r=\"14.4\" fill=\"#009af9\" fill-rule=\"evenodd\" fill-opacity=\"1\" stroke=\"#000000\" stroke-opacity=\"1\" stroke-width=\"3.2\"/>\n",
       "<circle clip-path=\"url(#clip542)\" cx=\"1391.99\" cy=\"87.9763\" r=\"14.4\" fill=\"#009af9\" fill-rule=\"evenodd\" fill-opacity=\"1\" stroke=\"#000000\" stroke-opacity=\"1\" stroke-width=\"3.2\"/>\n",
       "<circle clip-path=\"url(#clip542)\" cx=\"1432.88\" cy=\"87.9763\" r=\"14.4\" fill=\"#009af9\" fill-rule=\"evenodd\" fill-opacity=\"1\" stroke=\"#000000\" stroke-opacity=\"1\" stroke-width=\"3.2\"/>\n",
       "<circle clip-path=\"url(#clip542)\" cx=\"1473.76\" cy=\"87.9763\" r=\"14.4\" fill=\"#009af9\" fill-rule=\"evenodd\" fill-opacity=\"1\" stroke=\"#000000\" stroke-opacity=\"1\" stroke-width=\"3.2\"/>\n",
       "<circle clip-path=\"url(#clip542)\" cx=\"1514.64\" cy=\"87.9763\" r=\"14.4\" fill=\"#009af9\" fill-rule=\"evenodd\" fill-opacity=\"1\" stroke=\"#000000\" stroke-opacity=\"1\" stroke-width=\"3.2\"/>\n",
       "<circle clip-path=\"url(#clip542)\" cx=\"1555.53\" cy=\"87.9763\" r=\"14.4\" fill=\"#009af9\" fill-rule=\"evenodd\" fill-opacity=\"1\" stroke=\"#000000\" stroke-opacity=\"1\" stroke-width=\"3.2\"/>\n",
       "<circle clip-path=\"url(#clip542)\" cx=\"1596.41\" cy=\"87.9763\" r=\"14.4\" fill=\"#009af9\" fill-rule=\"evenodd\" fill-opacity=\"1\" stroke=\"#000000\" stroke-opacity=\"1\" stroke-width=\"3.2\"/>\n",
       "<circle clip-path=\"url(#clip542)\" cx=\"1637.29\" cy=\"87.9763\" r=\"14.4\" fill=\"#009af9\" fill-rule=\"evenodd\" fill-opacity=\"1\" stroke=\"#000000\" stroke-opacity=\"1\" stroke-width=\"3.2\"/>\n",
       "<circle clip-path=\"url(#clip542)\" cx=\"1678.18\" cy=\"87.9763\" r=\"14.4\" fill=\"#009af9\" fill-rule=\"evenodd\" fill-opacity=\"1\" stroke=\"#000000\" stroke-opacity=\"1\" stroke-width=\"3.2\"/>\n",
       "<circle clip-path=\"url(#clip542)\" cx=\"1719.06\" cy=\"87.9763\" r=\"14.4\" fill=\"#009af9\" fill-rule=\"evenodd\" fill-opacity=\"1\" stroke=\"#000000\" stroke-opacity=\"1\" stroke-width=\"3.2\"/>\n",
       "<circle clip-path=\"url(#clip542)\" cx=\"1759.94\" cy=\"87.9763\" r=\"14.4\" fill=\"#009af9\" fill-rule=\"evenodd\" fill-opacity=\"1\" stroke=\"#000000\" stroke-opacity=\"1\" stroke-width=\"3.2\"/>\n",
       "<circle clip-path=\"url(#clip542)\" cx=\"1800.83\" cy=\"87.9763\" r=\"14.4\" fill=\"#009af9\" fill-rule=\"evenodd\" fill-opacity=\"1\" stroke=\"#000000\" stroke-opacity=\"1\" stroke-width=\"3.2\"/>\n",
       "<circle clip-path=\"url(#clip542)\" cx=\"1841.71\" cy=\"87.9763\" r=\"14.4\" fill=\"#009af9\" fill-rule=\"evenodd\" fill-opacity=\"1\" stroke=\"#000000\" stroke-opacity=\"1\" stroke-width=\"3.2\"/>\n",
       "<circle clip-path=\"url(#clip542)\" cx=\"1882.59\" cy=\"87.9763\" r=\"14.4\" fill=\"#009af9\" fill-rule=\"evenodd\" fill-opacity=\"1\" stroke=\"#000000\" stroke-opacity=\"1\" stroke-width=\"3.2\"/>\n",
       "<circle clip-path=\"url(#clip542)\" cx=\"1923.48\" cy=\"87.9763\" r=\"14.4\" fill=\"#009af9\" fill-rule=\"evenodd\" fill-opacity=\"1\" stroke=\"#000000\" stroke-opacity=\"1\" stroke-width=\"3.2\"/>\n",
       "<circle clip-path=\"url(#clip542)\" cx=\"1964.36\" cy=\"87.9763\" r=\"14.4\" fill=\"#009af9\" fill-rule=\"evenodd\" fill-opacity=\"1\" stroke=\"#000000\" stroke-opacity=\"1\" stroke-width=\"3.2\"/>\n",
       "<circle clip-path=\"url(#clip542)\" cx=\"2005.25\" cy=\"87.9763\" r=\"14.4\" fill=\"#009af9\" fill-rule=\"evenodd\" fill-opacity=\"1\" stroke=\"#000000\" stroke-opacity=\"1\" stroke-width=\"3.2\"/>\n",
       "<circle clip-path=\"url(#clip542)\" cx=\"2046.13\" cy=\"87.9763\" r=\"14.4\" fill=\"#009af9\" fill-rule=\"evenodd\" fill-opacity=\"1\" stroke=\"#000000\" stroke-opacity=\"1\" stroke-width=\"3.2\"/>\n",
       "<circle clip-path=\"url(#clip542)\" cx=\"2087.01\" cy=\"87.9763\" r=\"14.4\" fill=\"#009af9\" fill-rule=\"evenodd\" fill-opacity=\"1\" stroke=\"#000000\" stroke-opacity=\"1\" stroke-width=\"3.2\"/>\n",
       "<circle clip-path=\"url(#clip542)\" cx=\"2127.9\" cy=\"87.9763\" r=\"14.4\" fill=\"#009af9\" fill-rule=\"evenodd\" fill-opacity=\"1\" stroke=\"#000000\" stroke-opacity=\"1\" stroke-width=\"3.2\"/>\n",
       "<circle clip-path=\"url(#clip542)\" cx=\"2168.78\" cy=\"87.9763\" r=\"14.4\" fill=\"#009af9\" fill-rule=\"evenodd\" fill-opacity=\"1\" stroke=\"#000000\" stroke-opacity=\"1\" stroke-width=\"3.2\"/>\n",
       "<circle clip-path=\"url(#clip542)\" cx=\"2209.66\" cy=\"87.9763\" r=\"14.4\" fill=\"#009af9\" fill-rule=\"evenodd\" fill-opacity=\"1\" stroke=\"#000000\" stroke-opacity=\"1\" stroke-width=\"3.2\"/>\n",
       "<circle clip-path=\"url(#clip542)\" cx=\"2250.55\" cy=\"87.9763\" r=\"14.4\" fill=\"#009af9\" fill-rule=\"evenodd\" fill-opacity=\"1\" stroke=\"#000000\" stroke-opacity=\"1\" stroke-width=\"3.2\"/>\n",
       "<circle clip-path=\"url(#clip542)\" cx=\"2291.43\" cy=\"87.9763\" r=\"14.4\" fill=\"#009af9\" fill-rule=\"evenodd\" fill-opacity=\"1\" stroke=\"#000000\" stroke-opacity=\"1\" stroke-width=\"3.2\"/>\n",
       "<path clip-path=\"url(#clip540)\" d=\"M1945.19 1438.47 L2280.53 1438.47 L2280.53 1334.79 L1945.19 1334.79  Z\" fill=\"#ffffff\" fill-rule=\"evenodd\" fill-opacity=\"1\"/>\n",
       "<polyline clip-path=\"url(#clip540)\" style=\"stroke:#000000; stroke-linecap:round; stroke-linejoin:round; stroke-width:4; stroke-opacity:1; fill:none\" points=\"1945.19,1438.47 2280.53,1438.47 2280.53,1334.79 1945.19,1334.79 1945.19,1438.47 \"/>\n",
       "<polyline clip-path=\"url(#clip540)\" style=\"stroke:#009af9; stroke-linecap:round; stroke-linejoin:round; stroke-width:4; stroke-opacity:1; fill:none\" points=\"1969.26,1386.63 2113.72,1386.63 \"/>\n",
       "<circle clip-path=\"url(#clip540)\" cx=\"2041.49\" cy=\"1386.63\" r=\"20.0632\" fill=\"#009af9\" fill-rule=\"evenodd\" fill-opacity=\"1\" stroke=\"#000000\" stroke-opacity=\"1\" stroke-width=\"4.55111\"/>\n",
       "<path clip-path=\"url(#clip540)\" d=\"M2137.8 1369.35 L2142.47 1369.35 L2142.47 1399.98 L2159.3 1399.98 L2159.3 1403.91 L2137.8 1403.91 L2137.8 1369.35 Z\" fill=\"#000000\" fill-rule=\"nonzero\" fill-opacity=\"1\" /><path clip-path=\"url(#clip540)\" d=\"M2164.58 1382.39 L2194.25 1382.39 L2194.25 1386.28 L2164.58 1386.28 L2164.58 1382.39 M2164.58 1391.83 L2194.25 1391.83 L2194.25 1395.77 L2164.58 1395.77 L2164.58 1391.83 Z\" fill=\"#000000\" fill-rule=\"nonzero\" fill-opacity=\"1\" /><path clip-path=\"url(#clip540)\" d=\"M2205.16 1399.98 L2212.8 1399.98 L2212.8 1373.61 L2204.49 1375.28 L2204.49 1371.02 L2212.75 1369.35 L2217.42 1369.35 L2217.42 1399.98 L2225.06 1399.98 L2225.06 1403.91 L2205.16 1403.91 L2205.16 1399.98 Z\" fill=\"#000000\" fill-rule=\"nonzero\" fill-opacity=\"1\" /><path clip-path=\"url(#clip540)\" d=\"M2244.51 1372.43 Q2240.9 1372.43 2239.07 1376 Q2237.26 1379.54 2237.26 1386.67 Q2237.26 1393.78 2239.07 1397.34 Q2240.9 1400.88 2244.51 1400.88 Q2248.14 1400.88 2249.95 1397.34 Q2251.78 1393.78 2251.78 1386.67 Q2251.78 1379.54 2249.95 1376 Q2248.14 1372.43 2244.51 1372.43 M2244.51 1368.73 Q2250.32 1368.73 2253.37 1373.34 Q2256.45 1377.92 2256.45 1386.67 Q2256.45 1395.4 2253.37 1400 Q2250.32 1404.59 2244.51 1404.59 Q2238.7 1404.59 2235.62 1400 Q2232.56 1395.4 2232.56 1386.67 Q2232.56 1377.92 2235.62 1373.34 Q2238.7 1368.73 2244.51 1368.73 Z\" fill=\"#000000\" fill-rule=\"nonzero\" fill-opacity=\"1\" /></svg>\n"
      ],
      "text/html": [
       "<?xml version=\"1.0\" encoding=\"utf-8\"?>\n",
       "<svg xmlns=\"http://www.w3.org/2000/svg\" xmlns:xlink=\"http://www.w3.org/1999/xlink\" width=\"600\" height=\"400\" viewBox=\"0 0 2400 1600\">\n",
       "<defs>\n",
       "  <clipPath id=\"clip590\">\n",
       "    <rect x=\"0\" y=\"0\" width=\"2400\" height=\"1600\"/>\n",
       "  </clipPath>\n",
       "</defs>\n",
       "<path clip-path=\"url(#clip590)\" d=\"M0 1600 L2400 1600 L2400 0 L0 0  Z\" fill=\"#ffffff\" fill-rule=\"evenodd\" fill-opacity=\"1\"/>\n",
       "<defs>\n",
       "  <clipPath id=\"clip591\">\n",
       "    <rect x=\"480\" y=\"0\" width=\"1681\" height=\"1600\"/>\n",
       "  </clipPath>\n",
       "</defs>\n",
       "<path clip-path=\"url(#clip590)\" d=\"M185.927 1486.45 L2352.76 1486.45 L2352.76 47.2441 L185.927 47.2441  Z\" fill=\"#ffffff\" fill-rule=\"evenodd\" fill-opacity=\"1\"/>\n",
       "<defs>\n",
       "  <clipPath id=\"clip592\">\n",
       "    <rect x=\"185\" y=\"47\" width=\"2168\" height=\"1440\"/>\n",
       "  </clipPath>\n",
       "</defs>\n",
       "<polyline clip-path=\"url(#clip592)\" style=\"stroke:#000000; stroke-linecap:round; stroke-linejoin:round; stroke-width:2; stroke-opacity:0.1; fill:none\" points=\"206.369,1486.45 206.369,47.2441 \"/>\n",
       "<polyline clip-path=\"url(#clip592)\" style=\"stroke:#000000; stroke-linecap:round; stroke-linejoin:round; stroke-width:2; stroke-opacity:0.1; fill:none\" points=\"615.204,1486.45 615.204,47.2441 \"/>\n",
       "<polyline clip-path=\"url(#clip592)\" style=\"stroke:#000000; stroke-linecap:round; stroke-linejoin:round; stroke-width:2; stroke-opacity:0.1; fill:none\" points=\"1024.04,1486.45 1024.04,47.2441 \"/>\n",
       "<polyline clip-path=\"url(#clip592)\" style=\"stroke:#000000; stroke-linecap:round; stroke-linejoin:round; stroke-width:2; stroke-opacity:0.1; fill:none\" points=\"1432.88,1486.45 1432.88,47.2441 \"/>\n",
       "<polyline clip-path=\"url(#clip592)\" style=\"stroke:#000000; stroke-linecap:round; stroke-linejoin:round; stroke-width:2; stroke-opacity:0.1; fill:none\" points=\"1841.71,1486.45 1841.71,47.2441 \"/>\n",
       "<polyline clip-path=\"url(#clip592)\" style=\"stroke:#000000; stroke-linecap:round; stroke-linejoin:round; stroke-width:2; stroke-opacity:0.1; fill:none\" points=\"2250.55,1486.45 2250.55,47.2441 \"/>\n",
       "<polyline clip-path=\"url(#clip590)\" style=\"stroke:#000000; stroke-linecap:round; stroke-linejoin:round; stroke-width:4; stroke-opacity:1; fill:none\" points=\"185.927,1486.45 2352.76,1486.45 \"/>\n",
       "<polyline clip-path=\"url(#clip590)\" style=\"stroke:#000000; stroke-linecap:round; stroke-linejoin:round; stroke-width:4; stroke-opacity:1; fill:none\" points=\"206.369,1486.45 206.369,1467.55 \"/>\n",
       "<polyline clip-path=\"url(#clip590)\" style=\"stroke:#000000; stroke-linecap:round; stroke-linejoin:round; stroke-width:4; stroke-opacity:1; fill:none\" points=\"615.204,1486.45 615.204,1467.55 \"/>\n",
       "<polyline clip-path=\"url(#clip590)\" style=\"stroke:#000000; stroke-linecap:round; stroke-linejoin:round; stroke-width:4; stroke-opacity:1; fill:none\" points=\"1024.04,1486.45 1024.04,1467.55 \"/>\n",
       "<polyline clip-path=\"url(#clip590)\" style=\"stroke:#000000; stroke-linecap:round; stroke-linejoin:round; stroke-width:4; stroke-opacity:1; fill:none\" points=\"1432.88,1486.45 1432.88,1467.55 \"/>\n",
       "<polyline clip-path=\"url(#clip590)\" style=\"stroke:#000000; stroke-linecap:round; stroke-linejoin:round; stroke-width:4; stroke-opacity:1; fill:none\" points=\"1841.71,1486.45 1841.71,1467.55 \"/>\n",
       "<polyline clip-path=\"url(#clip590)\" style=\"stroke:#000000; stroke-linecap:round; stroke-linejoin:round; stroke-width:4; stroke-opacity:1; fill:none\" points=\"2250.55,1486.45 2250.55,1467.55 \"/>\n",
       "<path clip-path=\"url(#clip590)\" d=\"M206.369 1517.37 Q202.757 1517.37 200.929 1520.93 Q199.123 1524.47 199.123 1531.6 Q199.123 1538.71 200.929 1542.27 Q202.757 1545.82 206.369 1545.82 Q210.003 1545.82 211.808 1542.27 Q213.637 1538.71 213.637 1531.6 Q213.637 1524.47 211.808 1520.93 Q210.003 1517.37 206.369 1517.37 M206.369 1513.66 Q212.179 1513.66 215.234 1518.27 Q218.313 1522.85 218.313 1531.6 Q218.313 1540.33 215.234 1544.94 Q212.179 1549.52 206.369 1549.52 Q200.558 1549.52 197.48 1544.94 Q194.424 1540.33 194.424 1531.6 Q194.424 1522.85 197.48 1518.27 Q200.558 1513.66 206.369 1513.66 Z\" fill=\"#000000\" fill-rule=\"nonzero\" fill-opacity=\"1\" /><path clip-path=\"url(#clip590)\" d=\"M589.892 1544.91 L597.531 1544.91 L597.531 1518.55 L589.221 1520.21 L589.221 1515.95 L597.484 1514.29 L602.16 1514.29 L602.16 1544.91 L609.799 1544.91 L609.799 1548.85 L589.892 1548.85 L589.892 1544.91 Z\" fill=\"#000000\" fill-rule=\"nonzero\" fill-opacity=\"1\" /><path clip-path=\"url(#clip590)\" d=\"M629.244 1517.37 Q625.632 1517.37 623.804 1520.93 Q621.998 1524.47 621.998 1531.6 Q621.998 1538.71 623.804 1542.27 Q625.632 1545.82 629.244 1545.82 Q632.878 1545.82 634.683 1542.27 Q636.512 1538.71 636.512 1531.6 Q636.512 1524.47 634.683 1520.93 Q632.878 1517.37 629.244 1517.37 M629.244 1513.66 Q635.054 1513.66 638.109 1518.27 Q641.188 1522.85 641.188 1531.6 Q641.188 1540.33 638.109 1544.94 Q635.054 1549.52 629.244 1549.52 Q623.433 1549.52 620.355 1544.94 Q617.299 1540.33 617.299 1531.6 Q617.299 1522.85 620.355 1518.27 Q623.433 1513.66 629.244 1513.66 Z\" fill=\"#000000\" fill-rule=\"nonzero\" fill-opacity=\"1\" /><path clip-path=\"url(#clip590)\" d=\"M1002.81 1544.91 L1019.13 1544.91 L1019.13 1548.85 L997.188 1548.85 L997.188 1544.91 Q999.85 1542.16 1004.43 1537.53 Q1009.04 1532.88 1010.22 1531.53 Q1012.47 1529.01 1013.35 1527.27 Q1014.25 1525.51 1014.25 1523.82 Q1014.25 1521.07 1012.3 1519.33 Q1010.38 1517.6 1007.28 1517.6 Q1005.08 1517.6 1002.63 1518.36 Q1000.2 1519.13 997.42 1520.68 L997.42 1515.95 Q1000.24 1514.82 1002.7 1514.24 Q1005.15 1513.66 1007.19 1513.66 Q1012.56 1513.66 1015.75 1516.35 Q1018.95 1519.03 1018.95 1523.52 Q1018.95 1525.65 1018.14 1527.57 Q1017.35 1529.47 1015.24 1532.07 Q1014.66 1532.74 1011.56 1535.95 Q1008.46 1539.15 1002.81 1544.91 Z\" fill=\"#000000\" fill-rule=\"nonzero\" fill-opacity=\"1\" /><path clip-path=\"url(#clip590)\" d=\"M1038.95 1517.37 Q1035.34 1517.37 1033.51 1520.93 Q1031.7 1524.47 1031.7 1531.6 Q1031.7 1538.71 1033.51 1542.27 Q1035.34 1545.82 1038.95 1545.82 Q1042.58 1545.82 1044.39 1542.27 Q1046.22 1538.71 1046.22 1531.6 Q1046.22 1524.47 1044.39 1520.93 Q1042.58 1517.37 1038.95 1517.37 M1038.95 1513.66 Q1044.76 1513.66 1047.81 1518.27 Q1050.89 1522.85 1050.89 1531.6 Q1050.89 1540.33 1047.81 1544.94 Q1044.76 1549.52 1038.95 1549.52 Q1033.14 1549.52 1030.06 1544.94 Q1027 1540.33 1027 1531.6 Q1027 1522.85 1030.06 1518.27 Q1033.14 1513.66 1038.95 1513.66 Z\" fill=\"#000000\" fill-rule=\"nonzero\" fill-opacity=\"1\" /><path clip-path=\"url(#clip590)\" d=\"M1421.72 1530.21 Q1425.07 1530.93 1426.95 1533.2 Q1428.85 1535.47 1428.85 1538.8 Q1428.85 1543.92 1425.33 1546.72 Q1421.81 1549.52 1415.33 1549.52 Q1413.15 1549.52 1410.84 1549.08 Q1408.55 1548.66 1406.09 1547.81 L1406.09 1543.29 Q1408.04 1544.43 1410.35 1545.01 Q1412.67 1545.58 1415.19 1545.58 Q1419.59 1545.58 1421.88 1543.85 Q1424.2 1542.11 1424.2 1538.8 Q1424.2 1535.75 1422.04 1534.03 Q1419.91 1532.3 1416.09 1532.3 L1412.07 1532.3 L1412.07 1528.45 L1416.28 1528.45 Q1419.73 1528.45 1421.56 1527.09 Q1423.38 1525.7 1423.38 1523.11 Q1423.38 1520.45 1421.49 1519.03 Q1419.61 1517.6 1416.09 1517.6 Q1414.17 1517.6 1411.97 1518.01 Q1409.77 1518.43 1407.14 1519.31 L1407.14 1515.14 Q1409.8 1514.4 1412.11 1514.03 Q1414.45 1513.66 1416.51 1513.66 Q1421.83 1513.66 1424.94 1516.09 Q1428.04 1518.5 1428.04 1522.62 Q1428.04 1525.49 1426.39 1527.48 Q1424.75 1529.45 1421.72 1530.21 Z\" fill=\"#000000\" fill-rule=\"nonzero\" fill-opacity=\"1\" /><path clip-path=\"url(#clip590)\" d=\"M1447.71 1517.37 Q1444.1 1517.37 1442.27 1520.93 Q1440.47 1524.47 1440.47 1531.6 Q1440.47 1538.71 1442.27 1542.27 Q1444.1 1545.82 1447.71 1545.82 Q1451.35 1545.82 1453.15 1542.27 Q1454.98 1538.71 1454.98 1531.6 Q1454.98 1524.47 1453.15 1520.93 Q1451.35 1517.37 1447.71 1517.37 M1447.71 1513.66 Q1453.52 1513.66 1456.58 1518.27 Q1459.66 1522.85 1459.66 1531.6 Q1459.66 1540.33 1456.58 1544.94 Q1453.52 1549.52 1447.71 1549.52 Q1441.9 1549.52 1438.82 1544.94 Q1435.77 1540.33 1435.77 1531.6 Q1435.77 1522.85 1438.82 1518.27 Q1441.9 1513.66 1447.71 1513.66 Z\" fill=\"#000000\" fill-rule=\"nonzero\" fill-opacity=\"1\" /><path clip-path=\"url(#clip590)\" d=\"M1829.88 1518.36 L1818.08 1536.81 L1829.88 1536.81 L1829.88 1518.36 M1828.66 1514.29 L1834.54 1514.29 L1834.54 1536.81 L1839.47 1536.81 L1839.47 1540.7 L1834.54 1540.7 L1834.54 1548.85 L1829.88 1548.85 L1829.88 1540.7 L1814.28 1540.7 L1814.28 1536.19 L1828.66 1514.29 Z\" fill=\"#000000\" fill-rule=\"nonzero\" fill-opacity=\"1\" /><path clip-path=\"url(#clip590)\" d=\"M1857.2 1517.37 Q1853.59 1517.37 1851.76 1520.93 Q1849.95 1524.47 1849.95 1531.6 Q1849.95 1538.71 1851.76 1542.27 Q1853.59 1545.82 1857.2 1545.82 Q1860.83 1545.82 1862.64 1542.27 Q1864.47 1538.71 1864.47 1531.6 Q1864.47 1524.47 1862.64 1520.93 Q1860.83 1517.37 1857.2 1517.37 M1857.2 1513.66 Q1863.01 1513.66 1866.06 1518.27 Q1869.14 1522.85 1869.14 1531.6 Q1869.14 1540.33 1866.06 1544.94 Q1863.01 1549.52 1857.2 1549.52 Q1851.39 1549.52 1848.31 1544.94 Q1845.25 1540.33 1845.25 1531.6 Q1845.25 1522.85 1848.31 1518.27 Q1851.39 1513.66 1857.2 1513.66 Z\" fill=\"#000000\" fill-rule=\"nonzero\" fill-opacity=\"1\" /><path clip-path=\"url(#clip590)\" d=\"M2225.25 1514.29 L2243.6 1514.29 L2243.6 1518.22 L2229.53 1518.22 L2229.53 1526.7 Q2230.55 1526.35 2231.57 1526.19 Q2232.58 1526 2233.6 1526 Q2239.39 1526 2242.77 1529.17 Q2246.15 1532.34 2246.15 1537.76 Q2246.15 1543.34 2242.68 1546.44 Q2239.2 1549.52 2232.89 1549.52 Q2230.71 1549.52 2228.44 1549.15 Q2226.2 1548.78 2223.79 1548.04 L2223.79 1543.34 Q2225.87 1544.47 2228.09 1545.03 Q2230.32 1545.58 2232.79 1545.58 Q2236.8 1545.58 2239.14 1543.48 Q2241.47 1541.37 2241.47 1537.76 Q2241.47 1534.15 2239.14 1532.04 Q2236.8 1529.94 2232.79 1529.94 Q2230.92 1529.94 2229.04 1530.35 Q2227.19 1530.77 2225.25 1531.65 L2225.25 1514.29 Z\" fill=\"#000000\" fill-rule=\"nonzero\" fill-opacity=\"1\" /><path clip-path=\"url(#clip590)\" d=\"M2265.36 1517.37 Q2261.75 1517.37 2259.92 1520.93 Q2258.12 1524.47 2258.12 1531.6 Q2258.12 1538.71 2259.92 1542.27 Q2261.75 1545.82 2265.36 1545.82 Q2269 1545.82 2270.8 1542.27 Q2272.63 1538.71 2272.63 1531.6 Q2272.63 1524.47 2270.8 1520.93 Q2269 1517.37 2265.36 1517.37 M2265.36 1513.66 Q2271.17 1513.66 2274.23 1518.27 Q2277.31 1522.85 2277.31 1531.6 Q2277.31 1540.33 2274.23 1544.94 Q2271.17 1549.52 2265.36 1549.52 Q2259.55 1549.52 2256.47 1544.94 Q2253.42 1540.33 2253.42 1531.6 Q2253.42 1522.85 2256.47 1518.27 Q2259.55 1513.66 2265.36 1513.66 Z\" fill=\"#000000\" fill-rule=\"nonzero\" fill-opacity=\"1\" /><polyline clip-path=\"url(#clip592)\" style=\"stroke:#000000; stroke-linecap:round; stroke-linejoin:round; stroke-width:2; stroke-opacity:0.1; fill:none\" points=\"185.927,1445.72 2352.76,1445.72 \"/>\n",
       "<polyline clip-path=\"url(#clip592)\" style=\"stroke:#000000; stroke-linecap:round; stroke-linejoin:round; stroke-width:2; stroke-opacity:0.1; fill:none\" points=\"185.927,1162.85 2352.76,1162.85 \"/>\n",
       "<polyline clip-path=\"url(#clip592)\" style=\"stroke:#000000; stroke-linecap:round; stroke-linejoin:round; stroke-width:2; stroke-opacity:0.1; fill:none\" points=\"185.927,879.991 2352.76,879.991 \"/>\n",
       "<polyline clip-path=\"url(#clip592)\" style=\"stroke:#000000; stroke-linecap:round; stroke-linejoin:round; stroke-width:2; stroke-opacity:0.1; fill:none\" points=\"185.927,597.129 2352.76,597.129 \"/>\n",
       "<polyline clip-path=\"url(#clip592)\" style=\"stroke:#000000; stroke-linecap:round; stroke-linejoin:round; stroke-width:2; stroke-opacity:0.1; fill:none\" points=\"185.927,314.266 2352.76,314.266 \"/>\n",
       "<polyline clip-path=\"url(#clip590)\" style=\"stroke:#000000; stroke-linecap:round; stroke-linejoin:round; stroke-width:4; stroke-opacity:1; fill:none\" points=\"185.927,1486.45 185.927,47.2441 \"/>\n",
       "<polyline clip-path=\"url(#clip590)\" style=\"stroke:#000000; stroke-linecap:round; stroke-linejoin:round; stroke-width:4; stroke-opacity:1; fill:none\" points=\"185.927,1445.72 204.824,1445.72 \"/>\n",
       "<polyline clip-path=\"url(#clip590)\" style=\"stroke:#000000; stroke-linecap:round; stroke-linejoin:round; stroke-width:4; stroke-opacity:1; fill:none\" points=\"185.927,1162.85 204.824,1162.85 \"/>\n",
       "<polyline clip-path=\"url(#clip590)\" style=\"stroke:#000000; stroke-linecap:round; stroke-linejoin:round; stroke-width:4; stroke-opacity:1; fill:none\" points=\"185.927,879.991 204.824,879.991 \"/>\n",
       "<polyline clip-path=\"url(#clip590)\" style=\"stroke:#000000; stroke-linecap:round; stroke-linejoin:round; stroke-width:4; stroke-opacity:1; fill:none\" points=\"185.927,597.129 204.824,597.129 \"/>\n",
       "<polyline clip-path=\"url(#clip590)\" style=\"stroke:#000000; stroke-linecap:round; stroke-linejoin:round; stroke-width:4; stroke-opacity:1; fill:none\" points=\"185.927,314.266 204.824,314.266 \"/>\n",
       "<path clip-path=\"url(#clip590)\" d=\"M56.6171 1459.06 L72.9365 1459.06 L72.9365 1463 L50.9921 1463 L50.9921 1459.06 Q53.6541 1456.31 58.2375 1451.68 Q62.8439 1447.02 64.0245 1445.68 Q66.2698 1443.16 67.1494 1441.42 Q68.0522 1439.66 68.0522 1437.97 Q68.0522 1435.22 66.1078 1433.48 Q64.1865 1431.75 61.0847 1431.75 Q58.8856 1431.75 56.4319 1432.51 Q54.0014 1433.27 51.2236 1434.82 L51.2236 1430.1 Q54.0477 1428.97 56.5014 1428.39 Q58.955 1427.81 60.9921 1427.81 Q66.3624 1427.81 69.5568 1430.5 Q72.7513 1433.18 72.7513 1437.67 Q72.7513 1439.8 71.9411 1441.72 Q71.1541 1443.62 69.0476 1446.21 Q68.4689 1446.88 65.367 1450.1 Q62.2652 1453.3 56.6171 1459.06 Z\" fill=\"#000000\" fill-rule=\"nonzero\" fill-opacity=\"1\" /><path clip-path=\"url(#clip590)\" d=\"M92.7512 1431.51 Q89.1401 1431.51 87.3114 1435.08 Q85.5058 1438.62 85.5058 1445.75 Q85.5058 1452.86 87.3114 1456.42 Q89.1401 1459.96 92.7512 1459.96 Q96.3854 1459.96 98.1909 1456.42 Q100.02 1452.86 100.02 1445.75 Q100.02 1438.62 98.1909 1435.08 Q96.3854 1431.51 92.7512 1431.51 M92.7512 1427.81 Q98.5613 1427.81 101.617 1432.42 Q104.696 1437 104.696 1445.75 Q104.696 1454.48 101.617 1459.08 Q98.5613 1463.67 92.7512 1463.67 Q86.941 1463.67 83.8623 1459.08 Q80.8068 1454.48 80.8068 1445.75 Q80.8068 1437 83.8623 1432.42 Q86.941 1427.81 92.7512 1427.81 Z\" fill=\"#000000\" fill-rule=\"nonzero\" fill-opacity=\"1\" /><path clip-path=\"url(#clip590)\" d=\"M112.913 1457.12 L117.797 1457.12 L117.797 1463 L112.913 1463 L112.913 1457.12 Z\" fill=\"#000000\" fill-rule=\"nonzero\" fill-opacity=\"1\" /><path clip-path=\"url(#clip590)\" d=\"M137.982 1431.51 Q134.371 1431.51 132.543 1435.08 Q130.737 1438.62 130.737 1445.75 Q130.737 1452.86 132.543 1456.42 Q134.371 1459.96 137.982 1459.96 Q141.617 1459.96 143.422 1456.42 Q145.251 1452.86 145.251 1445.75 Q145.251 1438.62 143.422 1435.08 Q141.617 1431.51 137.982 1431.51 M137.982 1427.81 Q143.793 1427.81 146.848 1432.42 Q149.927 1437 149.927 1445.75 Q149.927 1454.48 146.848 1459.08 Q143.793 1463.67 137.982 1463.67 Q132.172 1463.67 129.094 1459.08 Q126.038 1454.48 126.038 1445.75 Q126.038 1437 129.094 1432.42 Q132.172 1427.81 137.982 1427.81 Z\" fill=\"#000000\" fill-rule=\"nonzero\" fill-opacity=\"1\" /><path clip-path=\"url(#clip590)\" d=\"M57.6125 1176.2 L73.9318 1176.2 L73.9318 1180.13 L51.9875 1180.13 L51.9875 1176.2 Q54.6495 1173.44 59.2328 1168.81 Q63.8393 1164.16 65.0198 1162.82 Q67.2652 1160.3 68.1448 1158.56 Q69.0476 1156.8 69.0476 1155.11 Q69.0476 1152.36 67.1032 1150.62 Q65.1819 1148.88 62.08 1148.88 Q59.881 1148.88 57.4273 1149.65 Q54.9967 1150.41 52.219 1151.96 L52.219 1147.24 Q55.043 1146.11 57.4967 1145.53 Q59.9504 1144.95 61.9874 1144.95 Q67.3578 1144.95 70.5522 1147.63 Q73.7466 1150.32 73.7466 1154.81 Q73.7466 1156.94 72.9365 1158.86 Q72.1494 1160.76 70.0429 1163.35 Q69.4642 1164.02 66.3624 1167.24 Q63.2606 1170.43 57.6125 1176.2 Z\" fill=\"#000000\" fill-rule=\"nonzero\" fill-opacity=\"1\" /><path clip-path=\"url(#clip590)\" d=\"M87.7743 1176.2 L104.094 1176.2 L104.094 1180.13 L82.1494 1180.13 L82.1494 1176.2 Q84.8114 1173.44 89.3947 1168.81 Q94.0012 1164.16 95.1817 1162.82 Q97.4271 1160.3 98.3067 1158.56 Q99.2095 1156.8 99.2095 1155.11 Q99.2095 1152.36 97.265 1150.62 Q95.3437 1148.88 92.2419 1148.88 Q90.0428 1148.88 87.5892 1149.65 Q85.1586 1150.41 82.3808 1151.96 L82.3808 1147.24 Q85.2049 1146.11 87.6586 1145.53 Q90.1123 1144.95 92.1493 1144.95 Q97.5197 1144.95 100.714 1147.63 Q103.909 1150.32 103.909 1154.81 Q103.909 1156.94 103.098 1158.86 Q102.311 1160.76 100.205 1163.35 Q99.6261 1164.02 96.5243 1167.24 Q93.4225 1170.43 87.7743 1176.2 Z\" fill=\"#000000\" fill-rule=\"nonzero\" fill-opacity=\"1\" /><path clip-path=\"url(#clip590)\" d=\"M113.908 1174.25 L118.793 1174.25 L118.793 1180.13 L113.908 1180.13 L113.908 1174.25 Z\" fill=\"#000000\" fill-rule=\"nonzero\" fill-opacity=\"1\" /><path clip-path=\"url(#clip590)\" d=\"M129.024 1145.57 L147.38 1145.57 L147.38 1149.51 L133.306 1149.51 L133.306 1157.98 Q134.325 1157.63 135.344 1157.47 Q136.362 1157.29 137.381 1157.29 Q143.168 1157.29 146.547 1160.46 Q149.927 1163.63 149.927 1169.05 Q149.927 1174.62 146.455 1177.73 Q142.982 1180.8 136.663 1180.8 Q134.487 1180.8 132.219 1180.43 Q129.973 1180.06 127.566 1179.32 L127.566 1174.62 Q129.649 1175.76 131.871 1176.31 Q134.094 1176.87 136.57 1176.87 Q140.575 1176.87 142.913 1174.76 Q145.251 1172.66 145.251 1169.05 Q145.251 1165.43 142.913 1163.33 Q140.575 1161.22 136.57 1161.22 Q134.695 1161.22 132.82 1161.64 Q130.969 1162.05 129.024 1162.93 L129.024 1145.57 Z\" fill=\"#000000\" fill-rule=\"nonzero\" fill-opacity=\"1\" /><path clip-path=\"url(#clip590)\" d=\"M56.6171 893.336 L72.9365 893.336 L72.9365 897.271 L50.9921 897.271 L50.9921 893.336 Q53.6541 890.581 58.2375 885.952 Q62.8439 881.299 64.0245 879.956 Q66.2698 877.433 67.1494 875.697 Q68.0522 873.938 68.0522 872.248 Q68.0522 869.493 66.1078 867.757 Q64.1865 866.021 61.0847 866.021 Q58.8856 866.021 56.4319 866.785 Q54.0014 867.549 51.2236 869.1 L51.2236 864.378 Q54.0477 863.243 56.5014 862.665 Q58.955 862.086 60.9921 862.086 Q66.3624 862.086 69.5568 864.771 Q72.7513 867.456 72.7513 871.947 Q72.7513 874.077 71.9411 875.998 Q71.1541 877.896 69.0476 880.489 Q68.4689 881.16 65.367 884.377 Q62.2652 887.572 56.6171 893.336 Z\" fill=\"#000000\" fill-rule=\"nonzero\" fill-opacity=\"1\" /><path clip-path=\"url(#clip590)\" d=\"M82.7975 862.711 L101.154 862.711 L101.154 866.646 L87.0799 866.646 L87.0799 875.118 Q88.0984 874.771 89.1169 874.609 Q90.1354 874.424 91.1539 874.424 Q96.941 874.424 100.321 877.595 Q103.7 880.766 103.7 886.183 Q103.7 891.762 100.228 894.864 Q96.7558 897.942 90.4364 897.942 Q88.2604 897.942 85.9919 897.572 Q83.7466 897.201 81.3392 896.461 L81.3392 891.762 Q83.4225 892.896 85.6447 893.452 Q87.8669 894.007 90.3438 894.007 Q94.3484 894.007 96.6863 891.901 Q99.0243 889.794 99.0243 886.183 Q99.0243 882.572 96.6863 880.465 Q94.3484 878.359 90.3438 878.359 Q88.4688 878.359 86.5938 878.776 Q84.7419 879.192 82.7975 880.072 L82.7975 862.711 Z\" fill=\"#000000\" fill-rule=\"nonzero\" fill-opacity=\"1\" /><path clip-path=\"url(#clip590)\" d=\"M112.913 891.391 L117.797 891.391 L117.797 897.271 L112.913 897.271 L112.913 891.391 Z\" fill=\"#000000\" fill-rule=\"nonzero\" fill-opacity=\"1\" /><path clip-path=\"url(#clip590)\" d=\"M137.982 865.79 Q134.371 865.79 132.543 869.354 Q130.737 872.896 130.737 880.026 Q130.737 887.132 132.543 890.697 Q134.371 894.239 137.982 894.239 Q141.617 894.239 143.422 890.697 Q145.251 887.132 145.251 880.026 Q145.251 872.896 143.422 869.354 Q141.617 865.79 137.982 865.79 M137.982 862.086 Q143.793 862.086 146.848 866.692 Q149.927 871.276 149.927 880.026 Q149.927 888.752 146.848 893.359 Q143.793 897.942 137.982 897.942 Q132.172 897.942 129.094 893.359 Q126.038 888.752 126.038 880.026 Q126.038 871.276 129.094 866.692 Q132.172 862.086 137.982 862.086 Z\" fill=\"#000000\" fill-rule=\"nonzero\" fill-opacity=\"1\" /><path clip-path=\"url(#clip590)\" d=\"M57.6125 610.473 L73.9318 610.473 L73.9318 614.409 L51.9875 614.409 L51.9875 610.473 Q54.6495 607.719 59.2328 603.089 Q63.8393 598.436 65.0198 597.094 Q67.2652 594.571 68.1448 592.835 Q69.0476 591.075 69.0476 589.386 Q69.0476 586.631 67.1032 584.895 Q65.1819 583.159 62.08 583.159 Q59.881 583.159 57.4273 583.923 Q54.9967 584.686 52.219 586.237 L52.219 581.515 Q55.043 580.381 57.4967 579.802 Q59.9504 579.224 61.9874 579.224 Q67.3578 579.224 70.5522 581.909 Q73.7466 584.594 73.7466 589.085 Q73.7466 591.214 72.9365 593.136 Q72.1494 595.034 70.0429 597.626 Q69.4642 598.298 66.3624 601.515 Q63.2606 604.71 57.6125 610.473 Z\" fill=\"#000000\" fill-rule=\"nonzero\" fill-opacity=\"1\" /><path clip-path=\"url(#clip590)\" d=\"M82.566 579.849 L104.788 579.849 L104.788 581.839 L92.2419 614.409 L87.3577 614.409 L99.1632 583.784 L82.566 583.784 L82.566 579.849 Z\" fill=\"#000000\" fill-rule=\"nonzero\" fill-opacity=\"1\" /><path clip-path=\"url(#clip590)\" d=\"M113.908 608.529 L118.793 608.529 L118.793 614.409 L113.908 614.409 L113.908 608.529 Z\" fill=\"#000000\" fill-rule=\"nonzero\" fill-opacity=\"1\" /><path clip-path=\"url(#clip590)\" d=\"M129.024 579.849 L147.38 579.849 L147.38 583.784 L133.306 583.784 L133.306 592.256 Q134.325 591.909 135.344 591.747 Q136.362 591.561 137.381 591.561 Q143.168 591.561 146.547 594.733 Q149.927 597.904 149.927 603.321 Q149.927 608.899 146.455 612.001 Q142.982 615.08 136.663 615.08 Q134.487 615.08 132.219 614.709 Q129.973 614.339 127.566 613.598 L127.566 608.899 Q129.649 610.034 131.871 610.589 Q134.094 611.145 136.57 611.145 Q140.575 611.145 142.913 609.038 Q145.251 606.932 145.251 603.321 Q145.251 599.71 142.913 597.603 Q140.575 595.497 136.57 595.497 Q134.695 595.497 132.82 595.913 Q130.969 596.33 129.024 597.21 L129.024 579.849 Z\" fill=\"#000000\" fill-rule=\"nonzero\" fill-opacity=\"1\" /><path clip-path=\"url(#clip590)\" d=\"M66.7559 312.912 Q70.1124 313.63 71.9874 315.898 Q73.8855 318.167 73.8855 321.5 Q73.8855 326.616 70.367 329.417 Q66.8485 332.217 60.3671 332.217 Q58.1912 332.217 55.8764 331.778 Q53.5847 331.361 51.131 330.505 L51.131 325.991 Q53.0754 327.125 55.3903 327.704 Q57.7051 328.282 60.2282 328.282 Q64.6263 328.282 66.918 326.546 Q69.2328 324.81 69.2328 321.5 Q69.2328 318.444 67.08 316.731 Q64.9504 314.995 61.131 314.995 L57.1032 314.995 L57.1032 311.153 L61.3161 311.153 Q64.7652 311.153 66.5939 309.787 Q68.4226 308.398 68.4226 305.806 Q68.4226 303.144 66.5245 301.732 Q64.6495 300.296 61.131 300.296 Q59.2097 300.296 57.0106 300.713 Q54.8115 301.13 52.1727 302.009 L52.1727 297.843 Q54.8347 297.102 57.1495 296.732 Q59.4875 296.361 61.5476 296.361 Q66.8717 296.361 69.9735 298.792 Q73.0753 301.199 73.0753 305.319 Q73.0753 308.19 71.4318 310.181 Q69.7883 312.148 66.7559 312.912 Z\" fill=\"#000000\" fill-rule=\"nonzero\" fill-opacity=\"1\" /><path clip-path=\"url(#clip590)\" d=\"M92.7512 300.065 Q89.1401 300.065 87.3114 303.63 Q85.5058 307.171 85.5058 314.301 Q85.5058 321.407 87.3114 324.972 Q89.1401 328.514 92.7512 328.514 Q96.3854 328.514 98.1909 324.972 Q100.02 321.407 100.02 314.301 Q100.02 307.171 98.1909 303.63 Q96.3854 300.065 92.7512 300.065 M92.7512 296.361 Q98.5613 296.361 101.617 300.968 Q104.696 305.551 104.696 314.301 Q104.696 323.028 101.617 327.634 Q98.5613 332.217 92.7512 332.217 Q86.941 332.217 83.8623 327.634 Q80.8068 323.028 80.8068 314.301 Q80.8068 305.551 83.8623 300.968 Q86.941 296.361 92.7512 296.361 Z\" fill=\"#000000\" fill-rule=\"nonzero\" fill-opacity=\"1\" /><path clip-path=\"url(#clip590)\" d=\"M112.913 325.667 L117.797 325.667 L117.797 331.546 L112.913 331.546 L112.913 325.667 Z\" fill=\"#000000\" fill-rule=\"nonzero\" fill-opacity=\"1\" /><path clip-path=\"url(#clip590)\" d=\"M137.982 300.065 Q134.371 300.065 132.543 303.63 Q130.737 307.171 130.737 314.301 Q130.737 321.407 132.543 324.972 Q134.371 328.514 137.982 328.514 Q141.617 328.514 143.422 324.972 Q145.251 321.407 145.251 314.301 Q145.251 307.171 143.422 303.63 Q141.617 300.065 137.982 300.065 M137.982 296.361 Q143.793 296.361 146.848 300.968 Q149.927 305.551 149.927 314.301 Q149.927 323.028 146.848 327.634 Q143.793 332.217 137.982 332.217 Q132.172 332.217 129.094 327.634 Q126.038 323.028 126.038 314.301 Q126.038 305.551 129.094 300.968 Q132.172 296.361 137.982 296.361 Z\" fill=\"#000000\" fill-rule=\"nonzero\" fill-opacity=\"1\" /><polyline clip-path=\"url(#clip592)\" style=\"stroke:#009af9; stroke-linecap:round; stroke-linejoin:round; stroke-width:4; stroke-opacity:1; fill:none\" points=\"247.252,1445.72 288.136,1445.72 329.019,87.9763 369.903,87.9763 410.786,87.9763 451.67,87.9763 492.554,87.9763 533.437,87.9763 574.321,87.9763 615.204,87.9763 656.088,87.9763 696.971,87.9763 737.855,87.9763 778.739,87.9763 819.622,87.9763 860.506,87.9763 901.389,87.9763 942.273,87.9763 983.156,87.9763 1024.04,87.9763 1064.92,87.9763 1105.81,87.9763 1146.69,87.9763 1187.57,87.9763 1228.46,87.9763 1269.34,87.9763 1310.22,87.9763 1351.11,87.9763 1391.99,87.9763 1432.88,87.9763 1473.76,87.9763 1514.64,87.9763 1555.53,87.9763 1596.41,87.9763 1637.29,87.9763 1678.18,87.9763 1719.06,87.9763 1759.94,87.9763 1800.83,87.9763 1841.71,87.9763 1882.59,87.9763 1923.48,87.9763 1964.36,87.9763 2005.25,87.9763 2046.13,87.9763 2087.01,87.9763 2127.9,87.9763 2168.78,87.9763 2209.66,87.9763 2250.55,87.9763 2291.43,87.9763 \"/>\n",
       "<circle clip-path=\"url(#clip592)\" cx=\"247.252\" cy=\"1445.72\" r=\"14.4\" fill=\"#009af9\" fill-rule=\"evenodd\" fill-opacity=\"1\" stroke=\"#000000\" stroke-opacity=\"1\" stroke-width=\"3.2\"/>\n",
       "<circle clip-path=\"url(#clip592)\" cx=\"288.136\" cy=\"1445.72\" r=\"14.4\" fill=\"#009af9\" fill-rule=\"evenodd\" fill-opacity=\"1\" stroke=\"#000000\" stroke-opacity=\"1\" stroke-width=\"3.2\"/>\n",
       "<circle clip-path=\"url(#clip592)\" cx=\"329.019\" cy=\"87.9763\" r=\"14.4\" fill=\"#009af9\" fill-rule=\"evenodd\" fill-opacity=\"1\" stroke=\"#000000\" stroke-opacity=\"1\" stroke-width=\"3.2\"/>\n",
       "<circle clip-path=\"url(#clip592)\" cx=\"369.903\" cy=\"87.9763\" r=\"14.4\" fill=\"#009af9\" fill-rule=\"evenodd\" fill-opacity=\"1\" stroke=\"#000000\" stroke-opacity=\"1\" stroke-width=\"3.2\"/>\n",
       "<circle clip-path=\"url(#clip592)\" cx=\"410.786\" cy=\"87.9763\" r=\"14.4\" fill=\"#009af9\" fill-rule=\"evenodd\" fill-opacity=\"1\" stroke=\"#000000\" stroke-opacity=\"1\" stroke-width=\"3.2\"/>\n",
       "<circle clip-path=\"url(#clip592)\" cx=\"451.67\" cy=\"87.9763\" r=\"14.4\" fill=\"#009af9\" fill-rule=\"evenodd\" fill-opacity=\"1\" stroke=\"#000000\" stroke-opacity=\"1\" stroke-width=\"3.2\"/>\n",
       "<circle clip-path=\"url(#clip592)\" cx=\"492.554\" cy=\"87.9763\" r=\"14.4\" fill=\"#009af9\" fill-rule=\"evenodd\" fill-opacity=\"1\" stroke=\"#000000\" stroke-opacity=\"1\" stroke-width=\"3.2\"/>\n",
       "<circle clip-path=\"url(#clip592)\" cx=\"533.437\" cy=\"87.9763\" r=\"14.4\" fill=\"#009af9\" fill-rule=\"evenodd\" fill-opacity=\"1\" stroke=\"#000000\" stroke-opacity=\"1\" stroke-width=\"3.2\"/>\n",
       "<circle clip-path=\"url(#clip592)\" cx=\"574.321\" cy=\"87.9763\" r=\"14.4\" fill=\"#009af9\" fill-rule=\"evenodd\" fill-opacity=\"1\" stroke=\"#000000\" stroke-opacity=\"1\" stroke-width=\"3.2\"/>\n",
       "<circle clip-path=\"url(#clip592)\" cx=\"615.204\" cy=\"87.9763\" r=\"14.4\" fill=\"#009af9\" fill-rule=\"evenodd\" fill-opacity=\"1\" stroke=\"#000000\" stroke-opacity=\"1\" stroke-width=\"3.2\"/>\n",
       "<circle clip-path=\"url(#clip592)\" cx=\"656.088\" cy=\"87.9763\" r=\"14.4\" fill=\"#009af9\" fill-rule=\"evenodd\" fill-opacity=\"1\" stroke=\"#000000\" stroke-opacity=\"1\" stroke-width=\"3.2\"/>\n",
       "<circle clip-path=\"url(#clip592)\" cx=\"696.971\" cy=\"87.9763\" r=\"14.4\" fill=\"#009af9\" fill-rule=\"evenodd\" fill-opacity=\"1\" stroke=\"#000000\" stroke-opacity=\"1\" stroke-width=\"3.2\"/>\n",
       "<circle clip-path=\"url(#clip592)\" cx=\"737.855\" cy=\"87.9763\" r=\"14.4\" fill=\"#009af9\" fill-rule=\"evenodd\" fill-opacity=\"1\" stroke=\"#000000\" stroke-opacity=\"1\" stroke-width=\"3.2\"/>\n",
       "<circle clip-path=\"url(#clip592)\" cx=\"778.739\" cy=\"87.9763\" r=\"14.4\" fill=\"#009af9\" fill-rule=\"evenodd\" fill-opacity=\"1\" stroke=\"#000000\" stroke-opacity=\"1\" stroke-width=\"3.2\"/>\n",
       "<circle clip-path=\"url(#clip592)\" cx=\"819.622\" cy=\"87.9763\" r=\"14.4\" fill=\"#009af9\" fill-rule=\"evenodd\" fill-opacity=\"1\" stroke=\"#000000\" stroke-opacity=\"1\" stroke-width=\"3.2\"/>\n",
       "<circle clip-path=\"url(#clip592)\" cx=\"860.506\" cy=\"87.9763\" r=\"14.4\" fill=\"#009af9\" fill-rule=\"evenodd\" fill-opacity=\"1\" stroke=\"#000000\" stroke-opacity=\"1\" stroke-width=\"3.2\"/>\n",
       "<circle clip-path=\"url(#clip592)\" cx=\"901.389\" cy=\"87.9763\" r=\"14.4\" fill=\"#009af9\" fill-rule=\"evenodd\" fill-opacity=\"1\" stroke=\"#000000\" stroke-opacity=\"1\" stroke-width=\"3.2\"/>\n",
       "<circle clip-path=\"url(#clip592)\" cx=\"942.273\" cy=\"87.9763\" r=\"14.4\" fill=\"#009af9\" fill-rule=\"evenodd\" fill-opacity=\"1\" stroke=\"#000000\" stroke-opacity=\"1\" stroke-width=\"3.2\"/>\n",
       "<circle clip-path=\"url(#clip592)\" cx=\"983.156\" cy=\"87.9763\" r=\"14.4\" fill=\"#009af9\" fill-rule=\"evenodd\" fill-opacity=\"1\" stroke=\"#000000\" stroke-opacity=\"1\" stroke-width=\"3.2\"/>\n",
       "<circle clip-path=\"url(#clip592)\" cx=\"1024.04\" cy=\"87.9763\" r=\"14.4\" fill=\"#009af9\" fill-rule=\"evenodd\" fill-opacity=\"1\" stroke=\"#000000\" stroke-opacity=\"1\" stroke-width=\"3.2\"/>\n",
       "<circle clip-path=\"url(#clip592)\" cx=\"1064.92\" cy=\"87.9763\" r=\"14.4\" fill=\"#009af9\" fill-rule=\"evenodd\" fill-opacity=\"1\" stroke=\"#000000\" stroke-opacity=\"1\" stroke-width=\"3.2\"/>\n",
       "<circle clip-path=\"url(#clip592)\" cx=\"1105.81\" cy=\"87.9763\" r=\"14.4\" fill=\"#009af9\" fill-rule=\"evenodd\" fill-opacity=\"1\" stroke=\"#000000\" stroke-opacity=\"1\" stroke-width=\"3.2\"/>\n",
       "<circle clip-path=\"url(#clip592)\" cx=\"1146.69\" cy=\"87.9763\" r=\"14.4\" fill=\"#009af9\" fill-rule=\"evenodd\" fill-opacity=\"1\" stroke=\"#000000\" stroke-opacity=\"1\" stroke-width=\"3.2\"/>\n",
       "<circle clip-path=\"url(#clip592)\" cx=\"1187.57\" cy=\"87.9763\" r=\"14.4\" fill=\"#009af9\" fill-rule=\"evenodd\" fill-opacity=\"1\" stroke=\"#000000\" stroke-opacity=\"1\" stroke-width=\"3.2\"/>\n",
       "<circle clip-path=\"url(#clip592)\" cx=\"1228.46\" cy=\"87.9763\" r=\"14.4\" fill=\"#009af9\" fill-rule=\"evenodd\" fill-opacity=\"1\" stroke=\"#000000\" stroke-opacity=\"1\" stroke-width=\"3.2\"/>\n",
       "<circle clip-path=\"url(#clip592)\" cx=\"1269.34\" cy=\"87.9763\" r=\"14.4\" fill=\"#009af9\" fill-rule=\"evenodd\" fill-opacity=\"1\" stroke=\"#000000\" stroke-opacity=\"1\" stroke-width=\"3.2\"/>\n",
       "<circle clip-path=\"url(#clip592)\" cx=\"1310.22\" cy=\"87.9763\" r=\"14.4\" fill=\"#009af9\" fill-rule=\"evenodd\" fill-opacity=\"1\" stroke=\"#000000\" stroke-opacity=\"1\" stroke-width=\"3.2\"/>\n",
       "<circle clip-path=\"url(#clip592)\" cx=\"1351.11\" cy=\"87.9763\" r=\"14.4\" fill=\"#009af9\" fill-rule=\"evenodd\" fill-opacity=\"1\" stroke=\"#000000\" stroke-opacity=\"1\" stroke-width=\"3.2\"/>\n",
       "<circle clip-path=\"url(#clip592)\" cx=\"1391.99\" cy=\"87.9763\" r=\"14.4\" fill=\"#009af9\" fill-rule=\"evenodd\" fill-opacity=\"1\" stroke=\"#000000\" stroke-opacity=\"1\" stroke-width=\"3.2\"/>\n",
       "<circle clip-path=\"url(#clip592)\" cx=\"1432.88\" cy=\"87.9763\" r=\"14.4\" fill=\"#009af9\" fill-rule=\"evenodd\" fill-opacity=\"1\" stroke=\"#000000\" stroke-opacity=\"1\" stroke-width=\"3.2\"/>\n",
       "<circle clip-path=\"url(#clip592)\" cx=\"1473.76\" cy=\"87.9763\" r=\"14.4\" fill=\"#009af9\" fill-rule=\"evenodd\" fill-opacity=\"1\" stroke=\"#000000\" stroke-opacity=\"1\" stroke-width=\"3.2\"/>\n",
       "<circle clip-path=\"url(#clip592)\" cx=\"1514.64\" cy=\"87.9763\" r=\"14.4\" fill=\"#009af9\" fill-rule=\"evenodd\" fill-opacity=\"1\" stroke=\"#000000\" stroke-opacity=\"1\" stroke-width=\"3.2\"/>\n",
       "<circle clip-path=\"url(#clip592)\" cx=\"1555.53\" cy=\"87.9763\" r=\"14.4\" fill=\"#009af9\" fill-rule=\"evenodd\" fill-opacity=\"1\" stroke=\"#000000\" stroke-opacity=\"1\" stroke-width=\"3.2\"/>\n",
       "<circle clip-path=\"url(#clip592)\" cx=\"1596.41\" cy=\"87.9763\" r=\"14.4\" fill=\"#009af9\" fill-rule=\"evenodd\" fill-opacity=\"1\" stroke=\"#000000\" stroke-opacity=\"1\" stroke-width=\"3.2\"/>\n",
       "<circle clip-path=\"url(#clip592)\" cx=\"1637.29\" cy=\"87.9763\" r=\"14.4\" fill=\"#009af9\" fill-rule=\"evenodd\" fill-opacity=\"1\" stroke=\"#000000\" stroke-opacity=\"1\" stroke-width=\"3.2\"/>\n",
       "<circle clip-path=\"url(#clip592)\" cx=\"1678.18\" cy=\"87.9763\" r=\"14.4\" fill=\"#009af9\" fill-rule=\"evenodd\" fill-opacity=\"1\" stroke=\"#000000\" stroke-opacity=\"1\" stroke-width=\"3.2\"/>\n",
       "<circle clip-path=\"url(#clip592)\" cx=\"1719.06\" cy=\"87.9763\" r=\"14.4\" fill=\"#009af9\" fill-rule=\"evenodd\" fill-opacity=\"1\" stroke=\"#000000\" stroke-opacity=\"1\" stroke-width=\"3.2\"/>\n",
       "<circle clip-path=\"url(#clip592)\" cx=\"1759.94\" cy=\"87.9763\" r=\"14.4\" fill=\"#009af9\" fill-rule=\"evenodd\" fill-opacity=\"1\" stroke=\"#000000\" stroke-opacity=\"1\" stroke-width=\"3.2\"/>\n",
       "<circle clip-path=\"url(#clip592)\" cx=\"1800.83\" cy=\"87.9763\" r=\"14.4\" fill=\"#009af9\" fill-rule=\"evenodd\" fill-opacity=\"1\" stroke=\"#000000\" stroke-opacity=\"1\" stroke-width=\"3.2\"/>\n",
       "<circle clip-path=\"url(#clip592)\" cx=\"1841.71\" cy=\"87.9763\" r=\"14.4\" fill=\"#009af9\" fill-rule=\"evenodd\" fill-opacity=\"1\" stroke=\"#000000\" stroke-opacity=\"1\" stroke-width=\"3.2\"/>\n",
       "<circle clip-path=\"url(#clip592)\" cx=\"1882.59\" cy=\"87.9763\" r=\"14.4\" fill=\"#009af9\" fill-rule=\"evenodd\" fill-opacity=\"1\" stroke=\"#000000\" stroke-opacity=\"1\" stroke-width=\"3.2\"/>\n",
       "<circle clip-path=\"url(#clip592)\" cx=\"1923.48\" cy=\"87.9763\" r=\"14.4\" fill=\"#009af9\" fill-rule=\"evenodd\" fill-opacity=\"1\" stroke=\"#000000\" stroke-opacity=\"1\" stroke-width=\"3.2\"/>\n",
       "<circle clip-path=\"url(#clip592)\" cx=\"1964.36\" cy=\"87.9763\" r=\"14.4\" fill=\"#009af9\" fill-rule=\"evenodd\" fill-opacity=\"1\" stroke=\"#000000\" stroke-opacity=\"1\" stroke-width=\"3.2\"/>\n",
       "<circle clip-path=\"url(#clip592)\" cx=\"2005.25\" cy=\"87.9763\" r=\"14.4\" fill=\"#009af9\" fill-rule=\"evenodd\" fill-opacity=\"1\" stroke=\"#000000\" stroke-opacity=\"1\" stroke-width=\"3.2\"/>\n",
       "<circle clip-path=\"url(#clip592)\" cx=\"2046.13\" cy=\"87.9763\" r=\"14.4\" fill=\"#009af9\" fill-rule=\"evenodd\" fill-opacity=\"1\" stroke=\"#000000\" stroke-opacity=\"1\" stroke-width=\"3.2\"/>\n",
       "<circle clip-path=\"url(#clip592)\" cx=\"2087.01\" cy=\"87.9763\" r=\"14.4\" fill=\"#009af9\" fill-rule=\"evenodd\" fill-opacity=\"1\" stroke=\"#000000\" stroke-opacity=\"1\" stroke-width=\"3.2\"/>\n",
       "<circle clip-path=\"url(#clip592)\" cx=\"2127.9\" cy=\"87.9763\" r=\"14.4\" fill=\"#009af9\" fill-rule=\"evenodd\" fill-opacity=\"1\" stroke=\"#000000\" stroke-opacity=\"1\" stroke-width=\"3.2\"/>\n",
       "<circle clip-path=\"url(#clip592)\" cx=\"2168.78\" cy=\"87.9763\" r=\"14.4\" fill=\"#009af9\" fill-rule=\"evenodd\" fill-opacity=\"1\" stroke=\"#000000\" stroke-opacity=\"1\" stroke-width=\"3.2\"/>\n",
       "<circle clip-path=\"url(#clip592)\" cx=\"2209.66\" cy=\"87.9763\" r=\"14.4\" fill=\"#009af9\" fill-rule=\"evenodd\" fill-opacity=\"1\" stroke=\"#000000\" stroke-opacity=\"1\" stroke-width=\"3.2\"/>\n",
       "<circle clip-path=\"url(#clip592)\" cx=\"2250.55\" cy=\"87.9763\" r=\"14.4\" fill=\"#009af9\" fill-rule=\"evenodd\" fill-opacity=\"1\" stroke=\"#000000\" stroke-opacity=\"1\" stroke-width=\"3.2\"/>\n",
       "<circle clip-path=\"url(#clip592)\" cx=\"2291.43\" cy=\"87.9763\" r=\"14.4\" fill=\"#009af9\" fill-rule=\"evenodd\" fill-opacity=\"1\" stroke=\"#000000\" stroke-opacity=\"1\" stroke-width=\"3.2\"/>\n",
       "<path clip-path=\"url(#clip590)\" d=\"M1945.19 1438.47 L2280.53 1438.47 L2280.53 1334.79 L1945.19 1334.79  Z\" fill=\"#ffffff\" fill-rule=\"evenodd\" fill-opacity=\"1\"/>\n",
       "<polyline clip-path=\"url(#clip590)\" style=\"stroke:#000000; stroke-linecap:round; stroke-linejoin:round; stroke-width:4; stroke-opacity:1; fill:none\" points=\"1945.19,1438.47 2280.53,1438.47 2280.53,1334.79 1945.19,1334.79 1945.19,1438.47 \"/>\n",
       "<polyline clip-path=\"url(#clip590)\" style=\"stroke:#009af9; stroke-linecap:round; stroke-linejoin:round; stroke-width:4; stroke-opacity:1; fill:none\" points=\"1969.26,1386.63 2113.72,1386.63 \"/>\n",
       "<circle clip-path=\"url(#clip590)\" cx=\"2041.49\" cy=\"1386.63\" r=\"20.0632\" fill=\"#009af9\" fill-rule=\"evenodd\" fill-opacity=\"1\" stroke=\"#000000\" stroke-opacity=\"1\" stroke-width=\"4.55111\"/>\n",
       "<path clip-path=\"url(#clip590)\" d=\"M2137.8 1369.35 L2142.47 1369.35 L2142.47 1399.98 L2159.3 1399.98 L2159.3 1403.91 L2137.8 1403.91 L2137.8 1369.35 Z\" fill=\"#000000\" fill-rule=\"nonzero\" fill-opacity=\"1\" /><path clip-path=\"url(#clip590)\" d=\"M2164.58 1382.39 L2194.25 1382.39 L2194.25 1386.28 L2164.58 1386.28 L2164.58 1382.39 M2164.58 1391.83 L2194.25 1391.83 L2194.25 1395.77 L2164.58 1395.77 L2164.58 1391.83 Z\" fill=\"#000000\" fill-rule=\"nonzero\" fill-opacity=\"1\" /><path clip-path=\"url(#clip590)\" d=\"M2205.16 1399.98 L2212.8 1399.98 L2212.8 1373.61 L2204.49 1375.28 L2204.49 1371.02 L2212.75 1369.35 L2217.42 1369.35 L2217.42 1399.98 L2225.06 1399.98 L2225.06 1403.91 L2205.16 1403.91 L2205.16 1399.98 Z\" fill=\"#000000\" fill-rule=\"nonzero\" fill-opacity=\"1\" /><path clip-path=\"url(#clip590)\" d=\"M2244.51 1372.43 Q2240.9 1372.43 2239.07 1376 Q2237.26 1379.54 2237.26 1386.67 Q2237.26 1393.78 2239.07 1397.34 Q2240.9 1400.88 2244.51 1400.88 Q2248.14 1400.88 2249.95 1397.34 Q2251.78 1393.78 2251.78 1386.67 Q2251.78 1379.54 2249.95 1376 Q2248.14 1372.43 2244.51 1372.43 M2244.51 1368.73 Q2250.32 1368.73 2253.37 1373.34 Q2256.45 1377.92 2256.45 1386.67 Q2256.45 1395.4 2253.37 1400 Q2250.32 1404.59 2244.51 1404.59 Q2238.7 1404.59 2235.62 1400 Q2232.56 1395.4 2232.56 1386.67 Q2232.56 1377.92 2235.62 1373.34 Q2238.7 1368.73 2244.51 1368.73 Z\" fill=\"#000000\" fill-rule=\"nonzero\" fill-opacity=\"1\" /></svg>\n"
      ]
     },
     "metadata": {},
     "output_type": "display_data"
    }
   ],
   "source": [
    "plot(max_bond,marker=:circle,label=\"L=$(ct_f.L)\")"
   ]
  },
  {
   "cell_type": "code",
   "execution_count": 167,
   "metadata": {},
   "outputs": [
    {
     "data": {
      "text/plain": [
       "2"
      ]
     },
     "metadata": {},
     "output_type": "display_data"
    }
   ],
   "source": [
    "CT.random_control!(ct_f,1,0)"
   ]
  },
  {
   "cell_type": "code",
   "execution_count": 168,
   "metadata": {},
   "outputs": [
    {
     "ename": "InterruptException",
     "evalue": "InterruptException:",
     "output_type": "error",
     "traceback": [
      "InterruptException:\n",
      "\n",
      "Stacktrace:\n",
      "  [1] svd_catch_error(A::Matrix{ComplexF64}; kwargs::@Kwargs{alg::LinearAlgebra.DivideAndConquer})\n",
      "    @ NDTensors ~/.julia/packages/NDTensors/YyzwN/src/linearalgebra/linearalgebra.jl:39\n",
      "  [2] svd_catch_error\n",
      "    @ ~/.julia/packages/NDTensors/YyzwN/src/linearalgebra/linearalgebra.jl:33 [inlined]\n",
      "  [3] svd(T::NDTensors.DenseTensor{ComplexF64, 2, Tuple{Index{Int64}, Index{Int64}}, NDTensors.Dense{ComplexF64, Vector{ComplexF64}}}; mindim::Nothing, maxdim::Nothing, cutoff::Float64, use_absolute_cutoff::Nothing, use_relative_cutoff::Nothing, alg::Nothing, min_blockdim::Nothing)\n",
      "    @ NDTensors ~/.julia/packages/NDTensors/YyzwN/src/linearalgebra/linearalgebra.jl:88\n",
      "  [4] svd(A::ITensor, Linds::Vector{Index{Int64}}; leftdir::Nothing, rightdir::Nothing, lefttags::TagSet, righttags::Nothing, mindim::Nothing, maxdim::Nothing, cutoff::Float64, alg::Nothing, use_absolute_cutoff::Nothing, use_relative_cutoff::Nothing, min_blockdim::Nothing, utags::TagSet, vtags::Nothing)\n",
      "    @ ITensors ~/.julia/packages/ITensors/UHeB1/src/tensor_operations/matrix_decomposition.jl:162\n",
      "  [5] macro expansion\n",
      "    @ /mnt/d/Rutgers/control_transition/CT/src/CT.jl:136 [inlined]\n",
      "  [6] macro expansion\n",
      "    @ ~/.julia/packages/TimerOutputs/RsWnF/src/TimerOutput.jl:237 [inlined]\n",
      "  [7] apply_op!(mps::MPS, op::ITensor, cutoff::Float64)\n",
      "    @ CT /mnt/d/Rutgers/control_transition/CT/src/CT.jl:132\n",
      "  [8] S!(ct::CT.CT_MPS, i::Int64, rng::MersenneTwister)\n",
      "    @ CT /mnt/d/Rutgers/control_transition/CT/src/CT.jl:164\n",
      "  [9] Bernoulli_map!(ct::CT.CT_MPS, i::Int64)\n",
      "    @ CT /mnt/d/Rutgers/control_transition/CT/src/CT.jl:148\n",
      " [10] random_control!(ct::CT.CT_MPS, i::Int64, p_ctrl::Int64)\n",
      "    @ CT /mnt/d/Rutgers/control_transition/CT/src/CT.jl:314\n",
      " [11] macro expansion\n",
      "    @ show.jl:1181 [inlined]\n",
      " [12] top-level scope\n",
      "    @ /mnt/d/Rutgers/control_transition/test_ITensors.ipynb:2"
     ]
    }
   ],
   "source": [
    "reset_timer!(CT.to)\n",
    "@show i=CT.random_control!(ct_f,i,0)\n",
    "\n",
    "print_timer(CT.to)"
   ]
  },
  {
   "cell_type": "code",
   "execution_count": 169,
   "metadata": {},
   "outputs": [
    {
     "data": {
      "text/plain": [
       "0.07292763888835907"
      ]
     },
     "metadata": {},
     "output_type": "display_data"
    }
   ],
   "source": [
    "Base.summarysize(ct_f.mps)/1024^3"
   ]
  },
  {
   "cell_type": "code",
   "execution_count": 170,
   "metadata": {},
   "outputs": [],
   "source": [
    "using TimerOutputs"
   ]
  },
  {
   "cell_type": "code",
   "execution_count": 171,
   "metadata": {},
   "outputs": [
    {
     "data": {
      "text/plain": [
       "\u001b[0m\u001b[1m ────────────────────────────────────────────────────────────────────\u001b[22m\n",
       "\u001b[0m\u001b[1m                   \u001b[22m         Time                    Allocations      \n",
       "                   ───────────────────────   ────────────────────────\n",
       " Tot / % measured:      802ms /   0.0%           22.9MiB /   0.0%    \n",
       "\n",
       " Section   ncalls     time    %tot     avg     alloc    %tot      avg\n",
       " ────────────────────────────────────────────────────────────────────\n",
       "\u001b[0m\u001b[1m ────────────────────────────────────────────────────────────────────\u001b[22m"
      ]
     },
     "metadata": {},
     "output_type": "display_data"
    }
   ],
   "source": [
    "reset_timer!(CT.to)"
   ]
  },
  {
   "cell_type": "code",
   "execution_count": 172,
   "metadata": {},
   "outputs": [
    {
     "data": {
      "text/plain": [
       "\u001b[0m\u001b[1m ────────────────────────────────────────────────────────────────────\u001b[22m\n",
       "\u001b[0m\u001b[1m                   \u001b[22m         Time                    Allocations      \n",
       "                   ───────────────────────   ────────────────────────\n",
       " Tot / % measured:      844ms /   0.0%           23.3MiB /   0.0%    \n",
       "\n",
       " Section   ncalls     time    %tot     avg     alloc    %tot      avg\n",
       " ────────────────────────────────────────────────────────────────────\n",
       "\u001b[0m\u001b[1m ────────────────────────────────────────────────────────────────────\u001b[22m"
      ]
     },
     "metadata": {},
     "output_type": "display_data"
    }
   ],
   "source": [
    "CT.to"
   ]
  },
  {
   "cell_type": "code",
   "execution_count": 173,
   "metadata": {},
   "outputs": [
    {
     "ename": "MethodError",
     "evalue": "MethodError: no method matching inner_prob(::CT.CT_MPS, ::Vector{Int64})\n\nClosest candidates are:\n  inner_prob(::CT.CT_MPS, ::Vector{Int64}, !Matched::Vector{Int64})\n   @ CT /mnt/d/Rutgers/control_transition/CT/src/CT.jl:338\n",
     "output_type": "error",
     "traceback": [
      "MethodError: no method matching inner_prob(::CT.CT_MPS, ::Vector{Int64})\n",
      "\n",
      "Closest candidates are:\n",
      "  inner_prob(::CT.CT_MPS, ::Vector{Int64}, !Matched::Vector{Int64})\n",
      "   @ CT /mnt/d/Rutgers/control_transition/CT/src/CT.jl:338\n",
      "\n",
      "\n",
      "Stacktrace:\n",
      "  [1] var\"##core#441\"()\n",
      "    @ Main ~/.julia/packages/BenchmarkTools/QAv7m/src/execution.jl:547\n",
      "  [2] var\"##sample#442\"(::Tuple{}, __params::BenchmarkTools.Parameters)\n",
      "    @ Main ~/.julia/packages/BenchmarkTools/QAv7m/src/execution.jl:556\n",
      "  [3] _run(b::BenchmarkTools.Benchmark, p::BenchmarkTools.Parameters; verbose::Bool, pad::String, kwargs::@Kwargs{samples::Int64, evals::Int64, gctrial::Bool, gcsample::Bool})\n",
      "    @ BenchmarkTools ~/.julia/packages/BenchmarkTools/QAv7m/src/execution.jl:109\n",
      "  [4] #invokelatest#2\n",
      "    @ ./essentials.jl:889 [inlined]\n",
      "  [5] invokelatest\n",
      "    @ ./essentials.jl:884 [inlined]\n",
      "  [6] #run_result#45\n",
      "    @ ~/.julia/packages/BenchmarkTools/QAv7m/src/execution.jl:41 [inlined]\n",
      "  [7] run_result\n",
      "    @ ~/.julia/packages/BenchmarkTools/QAv7m/src/execution.jl:40 [inlined]\n",
      "  [8] run(b::BenchmarkTools.Benchmark, p::BenchmarkTools.Parameters; progressid::Nothing, nleaves::Float64, ndone::Float64, kwargs::@Kwargs{verbose::Bool, samples::Int64, evals::Int64, gctrial::Bool, gcsample::Bool})\n",
      "    @ BenchmarkTools ~/.julia/packages/BenchmarkTools/QAv7m/src/execution.jl:134\n",
      "  [9] run (repeats 2 times)\n",
      "    @ BenchmarkTools ~/.julia/packages/BenchmarkTools/QAv7m/src/execution.jl:126 [inlined]\n",
      " [10] #warmup#54\n",
      "    @ BenchmarkTools ~/.julia/packages/BenchmarkTools/QAv7m/src/execution.jl:189 [inlined]\n",
      " [11] warmup(item::BenchmarkTools.Benchmark)\n",
      "    @ BenchmarkTools ~/.julia/packages/BenchmarkTools/QAv7m/src/execution.jl:188\n",
      " [12] top-level scope\n",
      "    @ ~/.julia/packages/BenchmarkTools/QAv7m/src/execution.jl:652"
     ]
    }
   ],
   "source": [
    "@btime CT.inner_prob(ct_f,[0])"
   ]
  },
  {
   "cell_type": "code",
   "execution_count": 174,
   "metadata": {},
   "outputs": [],
   "source": [
    "@code_warntype CT.S!(ct_f,10,rng=ct_f.rng_C)"
   ]
  },
  {
   "cell_type": "code",
   "execution_count": null,
   "metadata": {},
   "outputs": [],
   "source": [
    "@code_warntype CT.projector(ct_f,[0],[10])"
   ]
  },
  {
   "cell_type": "code",
   "execution_count": null,
   "metadata": {},
   "outputs": [],
   "source": [
    "@code_warntype CT.inner_prob(ct_f,[0],[10])"
   ]
  },
  {
   "cell_type": "code",
   "execution_count": null,
   "metadata": {},
   "outputs": [],
   "source": [
    "ct_f.phy_ram"
   ]
  },
  {
   "cell_type": "code",
   "execution_count": null,
   "metadata": {},
   "outputs": [],
   "source": [
    "ct_f.phy_list"
   ]
  },
  {
   "cell_type": "code",
   "execution_count": null,
   "metadata": {},
   "outputs": [],
   "source": [
    "sort(ct.phy_ram[ct.phy_list])"
   ]
  },
  {
   "cell_type": "code",
   "execution_count": null,
   "metadata": {},
   "outputs": [],
   "source": [
    "(ct.phy_ram[ct.L+1])"
   ]
  },
  {
   "cell_type": "code",
   "execution_count": null,
   "metadata": {},
   "outputs": [],
   "source": [
    "(ct_f.phy_ram[[ct_f.L+1]])"
   ]
  },
  {
   "cell_type": "code",
   "execution_count": null,
   "metadata": {},
   "outputs": [],
   "source": [
    "ct_f.phy_ram[ct_f.phy_list]"
   ]
  },
  {
   "cell_type": "code",
   "execution_count": null,
   "metadata": {},
   "outputs": [],
   "source": [
    "ct_f.phy_ram"
   ]
  },
  {
   "cell_type": "code",
   "execution_count": null,
   "metadata": {},
   "outputs": [],
   "source": [
    "ct_f.mps"
   ]
  },
  {
   "cell_type": "code",
   "execution_count": null,
   "metadata": {},
   "outputs": [],
   "source": [
    "CT.ZZ(ct)"
   ]
  },
  {
   "cell_type": "code",
   "execution_count": null,
   "metadata": {},
   "outputs": [],
   "source": [
    "CT.ZZ(ct_f)"
   ]
  },
  {
   "cell_type": "code",
   "execution_count": null,
   "metadata": {},
   "outputs": [],
   "source": [
    "ct.mps"
   ]
  },
  {
   "cell_type": "code",
   "execution_count": null,
   "metadata": {},
   "outputs": [],
   "source": [
    "ct.ram_phy, ct.phy_ram, ct.phy_list"
   ]
  },
  {
   "cell_type": "code",
   "execution_count": null,
   "metadata": {},
   "outputs": [],
   "source": [
    "CT.mps_element(ct.mps,\"00000\")"
   ]
  },
  {
   "cell_type": "code",
   "execution_count": null,
   "metadata": {},
   "outputs": [],
   "source": [
    "v0=prod(ct.mps[1:5])* state(siteind(ct.mps,5),\"0\")\n",
    "v1=prod(ct.mps[1:5])* state(siteind(ct.mps,5),\"1\")"
   ]
  },
  {
   "cell_type": "code",
   "execution_count": null,
   "metadata": {},
   "outputs": [],
   "source": [
    "v0=prod(ct.mps[1:5])* state(siteind(ct.mps,1),\"0\")\n",
    "v1=prod(ct.mps[1:5])* state(siteind(ct.mps,1),\"1\")"
   ]
  },
  {
   "cell_type": "code",
   "execution_count": null,
   "metadata": {},
   "outputs": [],
   "source": [
    "norm(ct.mps)"
   ]
  },
  {
   "cell_type": "code",
   "execution_count": null,
   "metadata": {},
   "outputs": [],
   "source": [
    "print(conj(v0)*v1)"
   ]
  },
  {
   "cell_type": "code",
   "execution_count": null,
   "metadata": {},
   "outputs": [],
   "source": [
    "CT.Z(ct)"
   ]
  },
  {
   "cell_type": "code",
   "execution_count": null,
   "metadata": {},
   "outputs": [],
   "source": [
    "ct.phy_ram"
   ]
  },
  {
   "cell_type": "code",
   "execution_count": null,
   "metadata": {},
   "outputs": [],
   "source": [
    "ct.phy_list"
   ]
  },
  {
   "cell_type": "code",
   "execution_count": null,
   "metadata": {},
   "outputs": [],
   "source": [
    "CT.ZZ(ct)"
   ]
  },
  {
   "cell_type": "code",
   "execution_count": null,
   "metadata": {},
   "outputs": [],
   "source": [
    "ct.ram_phy"
   ]
  },
  {
   "cell_type": "code",
   "execution_count": null,
   "metadata": {},
   "outputs": [],
   "source": [
    "ct.qubit_site"
   ]
  },
  {
   "cell_type": "code",
   "execution_count": null,
   "metadata": {},
   "outputs": [],
   "source": [
    "CT.ZZ(ct)"
   ]
  },
  {
   "cell_type": "markdown",
   "metadata": {},
   "source": [
    "# Obs-del"
   ]
  },
  {
   "cell_type": "code",
   "execution_count": null,
   "metadata": {},
   "outputs": [],
   "source": []
  },
  {
   "cell_type": "code",
   "execution_count": null,
   "metadata": {},
   "outputs": [],
   "source": [
    "mutable struct CT\n",
    "    L::Int\n",
    "    store_vec::Bool\n",
    "    store_op::Bool\n",
    "    store_prob::Bool\n",
    "    seed::Union{Int, Nothing}\n",
    "    seed_vec::Union{Int, Nothing}\n",
    "    seed_C::Union{Int, Nothing}\n",
    "    x0::Union{Rational{Int}, Nothing}\n",
    "    xj::Set\n",
    "    _eps::Float64\n",
    "    ancilla::Bool\n",
    "    folded::Bool\n",
    "    rng::Random.AbstractRNG\n",
    "    rng_vec::Random.AbstractRNG\n",
    "    rng_C::Random.AbstractRNG\n",
    "    qubit_site::Vector{Index{Int64}}\n",
    "    phy_ram::Vector{Int}\n",
    "    ram_phy::Vector{Int}\n",
    "    _maxdim::Int\n",
    "    _cutoff::Float64\n",
    "    mps::Union{MPS,Nothing}\n",
    "end"
   ]
  },
  {
   "cell_type": "code",
   "execution_count": null,
   "metadata": {},
   "outputs": [],
   "source": [
    "function CT(; L::Int, store_vec::Bool=false, store_op::Bool=false, store_prob::Bool=false, seed::Union{Nothing,Int}=nothing, seed_vec::Union{Nothing,Int}=nothing, seed_C::Union{Nothing,Int}=nothing, x0::Union{Rational{Int},Nothing}=nothing, xj::Set=Set([1 // 3, 2 // 3]), _eps::Float64=1e-10, ancilla::Bool=false, folded::Bool=false, _maxdim::Int=10, _cutoff::Float64=1e-10)\n",
    "    rng = MersenneTwister(seed)\n",
    "    rng_vec = seed_vec === nothing ? rng : MersenneTwister(seed_vec)\n",
    "    rng_C = seed_C === nothing ? rng : MersenneTwister(seed_C)\n",
    "\n",
    "    ct = CT(L, store_vec, store_op, store_prob, seed, seed_vec, seed_C, x0, xj, _eps, ancilla, folded, rng, rng_vec, rng_C, [], [], [], _maxdim, _cutoff, nothing)\n",
    "\n",
    "\n",
    "    ct.qubit_site, ct.ram_phy, ct.phy_ram = _initialize_basis(ct)\n",
    "\n",
    "    ct.mps = _initialize_vector(ct)\n",
    "\n",
    "    return ct\n",
    "end\n"
   ]
  },
  {
   "cell_type": "code",
   "execution_count": null,
   "metadata": {},
   "outputs": [],
   "source": [
    "function _initialize_basis(ct::CT)\n",
    "\n",
    "    qubit_site = siteinds(\"Qubit\", ct.L)\n",
    "    # ram_phy[actual in ram] = physical \n",
    "    ram_phy = ct.folded ? [i for pairs in zip(1:(ct.L÷2), reverse((ct.L÷2+1):ct.L)) for i in pairs] : 1:ct.L    \n",
    "    \n",
    "    # phy_ram[physical] = actual in ram\n",
    "    phy_ram = fill(0, ct.L)\n",
    "    for (ram, phy) in enumerate(ram_phy)\n",
    "        phy_ram[phy] = ram\n",
    "    end\n",
    "    return qubit_site, ram_phy, phy_ram\n",
    "end"
   ]
  },
  {
   "cell_type": "code",
   "execution_count": null,
   "metadata": {},
   "outputs": [],
   "source": [
    "function _initialize_vector(ct::CT)\n",
    "    if !ct.ancilla\n",
    "        if ct.x0 !== nothing\n",
    "            vec_int = dec2bin(ct.x0, ct.L)\n",
    "            vec_int_pos =[string(s) for s in lpad(string(vec_int, base=2), ct.L, \"0\")] # physical index\n",
    "            return MPS(ct.qubit_site,[vec_int_pos[ct.ram_phy[i]] for i in 1:ct.L])\n",
    "        else\n",
    "            return randomMPS(ct.rng_C,ct.qubit_site,linkdims=10)\n",
    "        end\n",
    "    else\n",
    "        nothing\n",
    "    end\n",
    "    # return MPS(vec, ct.qubit_site; cutoff=ct._eps, maxdim=ct._maxdim)\n",
    "\n",
    "end"
   ]
  },
  {
   "cell_type": "code",
   "execution_count": null,
   "metadata": {},
   "outputs": [],
   "source": [
    "function dec2bin(x::Real, L::Int)\n",
    "    @assert 0 <= x < 1 \"$x is not in [0,1)\"\n",
    "    \n",
    "    return BigInt(floor(x * (BigInt(1) << L)))\n",
    "end"
   ]
  },
  {
   "cell_type": "code",
   "execution_count": null,
   "metadata": {},
   "outputs": [],
   "source": [
    "\"\"\"\n",
    "apply the operator `op` to `mps`, the `op` should have indices of (i,i+1,.. i',i+1',..)\n",
    "\"\"\"\n",
    "function apply_op!(mps::MPS, op::Union{ITensor};cutoff::Float64=1e-8)\n",
    "    i=parse(Int,replace(string(op.tensor.inds[1].tags),\"\\\"\"=>\"\",\"Site,n=\" => \"\"))\n",
    "    j=parse(Int,replace(string(op.tensor.inds[end].tags),\"\\\"\"=>\"\",\"Site,n=\" => \"\"))\n",
    "    orthogonalize!(mps,i)\n",
    "    mps_ij = mps[i]\n",
    "    for idx in i+1:j\n",
    "        mps_ij *= mps[idx]\n",
    "    end\n",
    "    mps_ij *= op\n",
    "    noprime!(mps_ij)\n",
    "\n",
    "    if i==j\n",
    "        mps[i]=mps_ij\n",
    "    else\n",
    "        for idx in i:j-1\n",
    "            inds1=uniqueinds(mps[i],mps[i+1])\n",
    "            U,S,V=svd(mps_ij,inds1,cutoff=cutoff)\n",
    "            mps[idx]=U\n",
    "            mps_ij=S*V\n",
    "        end\n",
    "        mps[j]=mps_ij\n",
    "    end\n",
    "    return \n",
    "end"
   ]
  },
  {
   "cell_type": "code",
   "execution_count": null,
   "metadata": {},
   "outputs": [],
   "source": [
    "\"\"\"\n",
    "compute the entanglement entropy of 1...i, i+1...L (ram sites)\n",
    "\"\"\"\n",
    "function von_Neumann_entropy(mps::MPS, i::Int)\n",
    "    mps_=orthogonalize(mps,i)\n",
    "    # _,S = svd(mps_[i], (linkind(mps_, i-1), siteind(mps_,i)))\n",
    "    _,S = svd(mps_[i], (linkind(mps_, i), ))\n",
    "    SvN=0.\n",
    "    print(S)\n",
    "    for n=1:dim(S,1)\n",
    "        p = S[n,n]^2\n",
    "        SvN-=p * log(p)\n",
    "    end\n",
    "    return SvN\n",
    "end"
   ]
  },
  {
   "cell_type": "code",
   "execution_count": null,
   "metadata": {},
   "outputs": [],
   "source": [
    "function mps_to_tensor(mps; array=false, vector=false, column_first=true)\n",
    "    # Start with the first tensor\n",
    "    psi = mps[1]\n",
    "    \n",
    "    # Sequentially contract the tensors\n",
    "    for i = 2:length(mps)\n",
    "        psi = psi * mps[i]\n",
    "    end\n",
    "    # Convert the resulting tensor to a dense array\n",
    "    # print(psi)\n",
    "    if array\n",
    "        psi=array(psi)\n",
    "        if vector\n",
    "            if column_first\n",
    "                return vec(psi)\n",
    "            else\n",
    "                return vec(permutedims(psi, reverse(1:ndims(psi))))\n",
    "            end\n",
    "        else\n",
    "            return psi\n",
    "        end\n",
    "    else\n",
    "        return psi\n",
    "    end\n",
    "end"
   ]
  },
  {
   "cell_type": "code",
   "execution_count": null,
   "metadata": {},
   "outputs": [],
   "source": [
    "function mps_element(mps::MPS, x::String)\n",
    "    @assert length(x) == length(mps)\n",
    "    x=[string(s) for s in x]\n",
    "    V=ITensor(1.)\n",
    "    for i = 1:length(mps)\n",
    "        V *= (mps[i] * state(siteind(mps,i),x[i]))\n",
    "    end\n",
    "    return scalar(V)\n",
    "end"
   ]
  },
  {
   "cell_type": "code",
   "execution_count": null,
   "metadata": {},
   "outputs": [],
   "source": [
    "randomMPS(ct.rng_C,ct.qubit_site,linkdims=10)"
   ]
  },
  {
   "cell_type": "code",
   "execution_count": null,
   "metadata": {},
   "outputs": [],
   "source": [
    "mps_element(ct.mps,\"00101010\")"
   ]
  },
  {
   "cell_type": "code",
   "execution_count": null,
   "metadata": {},
   "outputs": [],
   "source": [
    "ct.ram_phy"
   ]
  },
  {
   "cell_type": "code",
   "execution_count": null,
   "metadata": {},
   "outputs": [],
   "source": [
    "\"00101010\"[ct.ram_phy]"
   ]
  },
  {
   "cell_type": "code",
   "execution_count": null,
   "metadata": {},
   "outputs": [],
   "source": [
    "mps_element(ct.mps,\"00101010\"[ct.ram_phy])"
   ]
  },
  {
   "cell_type": "code",
   "execution_count": null,
   "metadata": {},
   "outputs": [],
   "source": [
    "state(ct.qubit_site[1],\"0\")"
   ]
  },
  {
   "cell_type": "code",
   "execution_count": null,
   "metadata": {},
   "outputs": [],
   "source": [
    "print(state(ct.qubit_site[1],\"0\"))"
   ]
  },
  {
   "cell_type": "code",
   "execution_count": null,
   "metadata": {},
   "outputs": [],
   "source": [
    "von_Neumann_entropy(M,N÷2)"
   ]
  },
  {
   "cell_type": "code",
   "execution_count": null,
   "metadata": {},
   "outputs": [],
   "source": [
    "ss=svdvals(reshape(Array(T,idx),(2^(N ÷ 2),2^(N ÷ 2))))"
   ]
  },
  {
   "cell_type": "code",
   "execution_count": null,
   "metadata": {},
   "outputs": [],
   "source": [
    "pp=ss.^2"
   ]
  },
  {
   "cell_type": "code",
   "execution_count": null,
   "metadata": {},
   "outputs": [],
   "source": [
    "sum(-pp.*log.(pp))"
   ]
  },
  {
   "cell_type": "code",
   "execution_count": null,
   "metadata": {},
   "outputs": [],
   "source": [
    "b=2\n",
    "orthogonalize!(M, b)\n",
    "(linkind(M, b-1), siteind(M,b))"
   ]
  },
  {
   "cell_type": "code",
   "execution_count": null,
   "metadata": {},
   "outputs": [],
   "source": [
    "using LinearAlgebra"
   ]
  },
  {
   "cell_type": "code",
   "execution_count": null,
   "metadata": {},
   "outputs": [],
   "source": [
    "svd"
   ]
  },
  {
   "cell_type": "code",
   "execution_count": null,
   "metadata": {},
   "outputs": [],
   "source": [
    "S"
   ]
  },
  {
   "cell_type": "code",
   "execution_count": null,
   "metadata": {},
   "outputs": [],
   "source": [
    "V"
   ]
  },
  {
   "cell_type": "code",
   "execution_count": null,
   "metadata": {},
   "outputs": [],
   "source": [
    "array(UU)"
   ]
  },
  {
   "cell_type": "code",
   "execution_count": null,
   "metadata": {},
   "outputs": [],
   "source": [
    "array(U)"
   ]
  },
  {
   "cell_type": "code",
   "execution_count": null,
   "metadata": {},
   "outputs": [],
   "source": [
    "UU,SS=svd(M[b], (linkind(M, b-1), siteind(M,b)),)"
   ]
  },
  {
   "cell_type": "code",
   "execution_count": null,
   "metadata": {},
   "outputs": [],
   "source": [
    "U,S,V=svd(M[b], (linkind(M, b-1), siteind(M,b)),)"
   ]
  },
  {
   "cell_type": "code",
   "execution_count": null,
   "metadata": {},
   "outputs": [],
   "source": [
    "linkind(M, b-1)"
   ]
  },
  {
   "cell_type": "code",
   "execution_count": null,
   "metadata": {},
   "outputs": [],
   "source": [
    "print(von_Neumann_entropy(M,2))"
   ]
  },
  {
   "cell_type": "code",
   "execution_count": null,
   "metadata": {},
   "outputs": [],
   "source": [
    "idx=siteinds(\"Qubit\", 5)"
   ]
  },
  {
   "cell_type": "code",
   "execution_count": null,
   "metadata": {},
   "outputs": [],
   "source": [
    "# U1=randomITensor([idx[2],idx[2]'])"
   ]
  },
  {
   "cell_type": "code",
   "execution_count": null,
   "metadata": {},
   "outputs": [],
   "source": [
    "U2=ITensor(reshape(collect(1:16.),(2,2,2,2)),idx[2],idx[4],idx[2]',idx[4]')\n",
    "# U2=randomITensor([idx[3],idx[4],idx[3]',idx[4]'])"
   ]
  },
  {
   "cell_type": "code",
   "execution_count": null,
   "metadata": {},
   "outputs": [],
   "source": [
    "U3=randomITensor([idx[1],idx[2],idx[3],idx[1]',idx[2]',idx[3]'])"
   ]
  },
  {
   "cell_type": "code",
   "execution_count": null,
   "metadata": {},
   "outputs": [],
   "source": [
    "# print(apply_op!(M,U1))\n",
    "# print(apply_op!(M,U2))\n",
    "print(apply_op!(M,U3))"
   ]
  },
  {
   "cell_type": "code",
   "execution_count": null,
   "metadata": {},
   "outputs": [],
   "source": [
    "mps_to_tensor(M)"
   ]
  },
  {
   "cell_type": "code",
   "execution_count": null,
   "metadata": {},
   "outputs": [],
   "source": [
    "T"
   ]
  },
  {
   "cell_type": "code",
   "execution_count": null,
   "metadata": {},
   "outputs": [],
   "source": [
    "T*U2"
   ]
  },
  {
   "cell_type": "code",
   "execution_count": null,
   "metadata": {},
   "outputs": [],
   "source": [
    "array(permute(noprime!(U2*T),idx)-mps_to_tensor(M))"
   ]
  },
  {
   "cell_type": "code",
   "execution_count": null,
   "metadata": {},
   "outputs": [],
   "source": [
    "noprime!(U1*T)"
   ]
  },
  {
   "cell_type": "code",
   "execution_count": null,
   "metadata": {},
   "outputs": [],
   "source": [
    "array(permute(noprime!(U3*T),idx)-mps_to_tensor(M))"
   ]
  },
  {
   "cell_type": "code",
   "execution_count": null,
   "metadata": {},
   "outputs": [],
   "source": [
    "permute(noprime!(U2*T),idx)≈ mps_to_tensor(M)"
   ]
  },
  {
   "cell_type": "code",
   "execution_count": null,
   "metadata": {},
   "outputs": [],
   "source": [
    "print(permute(noprime!(U2*T),idx))"
   ]
  },
  {
   "cell_type": "code",
   "execution_count": null,
   "metadata": {},
   "outputs": [],
   "source": [
    "T_arr=array(T)\n",
    "U2_arr=array(U2)\n",
    "r=zeros(2,2,2,2)\n",
    "for i in 1:2\n",
    "    for j in 1:2\n",
    "        for k in 1:2\n",
    "            for l in 1:2\n",
    "                # println([U2_arr[s1,s2,i,j] * T_arr[s1,s2,k,l] for s1 in 1:2 for s2 in 1:2])\n",
    "                r[i,j,k,l]=sum([U2_arr[s1,s2,i,j] * T_arr[s1,s2,k,l] for s1 in 1:2 for s2 in 1:2])\n",
    "            end\n",
    "        end\n",
    "    end\n",
    "end"
   ]
  },
  {
   "cell_type": "code",
   "execution_count": null,
   "metadata": {},
   "outputs": [],
   "source": [
    "r"
   ]
  },
  {
   "cell_type": "code",
   "execution_count": null,
   "metadata": {},
   "outputs": [],
   "source": [
    "mps_to_tensor(M)-r"
   ]
  },
  {
   "cell_type": "code",
   "execution_count": null,
   "metadata": {},
   "outputs": [],
   "source": [
    "_initialize_vector(ct)"
   ]
  },
  {
   "cell_type": "code",
   "execution_count": null,
   "metadata": {},
   "outputs": [],
   "source": []
  },
  {
   "cell_type": "code",
   "execution_count": null,
   "metadata": {},
   "outputs": [],
   "source": [
    "ct=CT(L=4,seed=0,folded=false,x0=1//3)"
   ]
  },
  {
   "cell_type": "code",
   "execution_count": null,
   "metadata": {},
   "outputs": [],
   "source": [
    "ct_f=CT(L=4,seed=0,folded=true,x0=1//3,)"
   ]
  },
  {
   "cell_type": "code",
   "execution_count": null,
   "metadata": {},
   "outputs": [],
   "source": [
    "ct.mps"
   ]
  },
  {
   "cell_type": "code",
   "execution_count": null,
   "metadata": {},
   "outputs": [],
   "source": [
    "zz=_initialize_vector(ct)"
   ]
  },
  {
   "cell_type": "code",
   "execution_count": null,
   "metadata": {},
   "outputs": [],
   "source": [
    "tt=mps_to_tensor(ct.mps)"
   ]
  },
  {
   "cell_type": "code",
   "execution_count": null,
   "metadata": {},
   "outputs": [],
   "source": [
    "size(tt)"
   ]
  },
  {
   "cell_type": "code",
   "execution_count": null,
   "metadata": {},
   "outputs": [],
   "source": [
    "tt[1,2,1,2]"
   ]
  },
  {
   "cell_type": "code",
   "execution_count": null,
   "metadata": {},
   "outputs": [],
   "source": [
    "tt_f=mps_to_tensor(ct_f.mps)"
   ]
  },
  {
   "cell_type": "code",
   "execution_count": null,
   "metadata": {},
   "outputs": [],
   "source": [
    "size(tt_f)"
   ]
  },
  {
   "cell_type": "code",
   "execution_count": null,
   "metadata": {},
   "outputs": [],
   "source": [
    "tt_f[1,2,2,1]"
   ]
  },
  {
   "cell_type": "code",
   "execution_count": null,
   "metadata": {},
   "outputs": [],
   "source": [
    "_initialize_basis(ct)"
   ]
  },
  {
   "cell_type": "code",
   "execution_count": null,
   "metadata": {},
   "outputs": [],
   "source": [
    "fill(0,10)"
   ]
  },
  {
   "cell_type": "code",
   "execution_count": null,
   "metadata": {},
   "outputs": [],
   "source": [
    "typeof(siteinds(2,2)[])"
   ]
  },
  {
   "cell_type": "code",
   "execution_count": null,
   "metadata": {},
   "outputs": [],
   "source": [
    "[0,1]"
   ]
  },
  {
   "cell_type": "code",
   "execution_count": null,
   "metadata": {},
   "outputs": [],
   "source": [
    "methods(state)"
   ]
  },
  {
   "cell_type": "code",
   "execution_count": null,
   "metadata": {},
   "outputs": [],
   "source": [
    "qubit_site=siteinds(\"Qubit\", 4)"
   ]
  },
  {
   "cell_type": "code",
   "execution_count": null,
   "metadata": {},
   "outputs": [],
   "source": [
    "split(\"0110\",\"\")"
   ]
  },
  {
   "cell_type": "code",
   "execution_count": null,
   "metadata": {},
   "outputs": [],
   "source": [
    "typeof(qubit_site)"
   ]
  },
  {
   "cell_type": "code",
   "execution_count": null,
   "metadata": {},
   "outputs": [],
   "source": [
    "MPS(qubit_site,[string(s) for s in \"0110\"])"
   ]
  },
  {
   "cell_type": "code",
   "execution_count": null,
   "metadata": {},
   "outputs": [],
   "source": [
    "typeof(ct.qubit_site)"
   ]
  },
  {
   "cell_type": "code",
   "execution_count": null,
   "metadata": {},
   "outputs": [],
   "source": [
    "typeof(siteinds(\"Qubit\", ct.L))"
   ]
  },
  {
   "cell_type": "code",
   "execution_count": null,
   "metadata": {},
   "outputs": [],
   "source": [
    "using ITensors"
   ]
  },
  {
   "cell_type": "code",
   "execution_count": null,
   "metadata": {},
   "outputs": [],
   "source": [
    "CT.greet()"
   ]
  },
  {
   "cell_type": "code",
   "execution_count": null,
   "metadata": {},
   "outputs": [],
   "source": [
    "ct.ram_phy"
   ]
  },
  {
   "cell_type": "code",
   "execution_count": null,
   "metadata": {},
   "outputs": [],
   "source": [
    "ct.phy_ram"
   ]
  },
  {
   "cell_type": "code",
   "execution_count": null,
   "metadata": {},
   "outputs": [],
   "source": [
    "ct.phy_list"
   ]
  },
  {
   "cell_type": "code",
   "execution_count": null,
   "metadata": {},
   "outputs": [],
   "source": [
    "CT.Z(ct)"
   ]
  },
  {
   "cell_type": "code",
   "execution_count": null,
   "metadata": {},
   "outputs": [],
   "source": [
    "ct."
   ]
  },
  {
   "cell_type": "code",
   "execution_count": null,
   "metadata": {},
   "outputs": [],
   "source": [
    "i=1\n",
    "for idx in 1:2*ct.L^2\n",
    "    i=CT.random_control!(ct,i,0.5,)\n",
    "end"
   ]
  },
  {
   "cell_type": "code",
   "execution_count": null,
   "metadata": {},
   "outputs": [],
   "source": [
    "CT.von_Neumann_entropy(ct.mps,2)"
   ]
  },
  {
   "cell_type": "code",
   "execution_count": null,
   "metadata": {},
   "outputs": [],
   "source": [
    "ct.ram_phy"
   ]
  },
  {
   "cell_type": "code",
   "execution_count": null,
   "metadata": {},
   "outputs": [],
   "source": [
    "function run_example(L,p,seed)\n",
    "    # ct=CT.CT_MPS(L=L,seed=seed,x0=0//32,folded=true,store_op=true,store_vec=true)\n",
    "    # ct=CT.CT_MPS(L=L,seed=seed,folded=true,store_op=true,store_vec=true,ancilla=0)\n",
    "    ct=CT.CT_MPS(L=L,seed=seed,folded=true,store_op=true,store_vec=true,ancilla=1,xj=Set([0]))\n",
    "    i=1\n",
    "    # println(ct.mps)\n",
    "    # for idx in 1:2*ct.L^2\n",
    "    for idx in 1:div(ct.L^2,2)\n",
    "        # println(\"Run:$idx\")\n",
    "        i=CT.random_control!(ct,i,p,)\n",
    "        # println(ct.mps)\n",
    "    end\n",
    "    O=CT.Z(ct)\n",
    "    # EE=CT.von_Neumann_entropy(ct.mps,ct.L÷2)\n",
    "    EE=CT.von_Neumann_entropy(ct.mps,1)\n",
    "    return O,EE\n",
    "end\n"
   ]
  },
  {
   "cell_type": "code",
   "execution_count": null,
   "metadata": {},
   "outputs": [],
   "source": [
    "run_example(8, 0.6,  10)"
   ]
  },
  {
   "cell_type": "code",
   "execution_count": null,
   "metadata": {},
   "outputs": [],
   "source": [
    "p_list=0:0.1:1\n",
    "seed_list=1:100\n",
    "L_list=[8,10]\n",
    "O_list=zeros(length(L_list),length(p_list),length(seed_list))\n",
    "EE_list=zeros(length(L_list),length(p_list),length(seed_list))\n",
    "last_p=0\n",
    "last_L=8\n",
    "last_seed=-1\n",
    "for (L_idx,L) in enumerate(L_list)\n",
    "    for (p_idx,p) in enumerate(p_list)\n",
    "        println(\"Now computing $p,$L\")\n",
    "        for (seed_idx,seed) in enumerate(seed_list)\n",
    "            O,EE=run_example(L,p,seed)\n",
    "            O_list[L_idx,p_idx,seed_idx]=O\n",
    "            EE_list[L_idx,p_idx,seed_idx]=EE\n",
    "            last_p=p\n",
    "            last_L=L\n",
    "            last_seed=seed\n",
    "        end\n",
    "    end\n",
    "end\n"
   ]
  },
  {
   "cell_type": "code",
   "execution_count": null,
   "metadata": {},
   "outputs": [],
   "source": [
    "mean(EE_list[1,:,:],dims=2)"
   ]
  },
  {
   "cell_type": "code",
   "execution_count": null,
   "metadata": {},
   "outputs": [],
   "source": [
    "mean(EE_list[2,:,:],dims=2)"
   ]
  },
  {
   "cell_type": "code",
   "execution_count": null,
   "metadata": {},
   "outputs": [],
   "source": [
    "plot()\n",
    "plot!(p_list,mean(O_list[1,:,:],dims=2))\n",
    "plot!(p_list,mean(O_list[2,:,:],dims=2))"
   ]
  },
  {
   "cell_type": "code",
   "execution_count": null,
   "metadata": {},
   "outputs": [],
   "source": [
    "plot()\n",
    "plot!(p_list,mean(EE_list[1,:,:],dims=2))\n",
    "plot!(p_list,mean(EE_list[2,:,:],dims=2))"
   ]
  },
  {
   "cell_type": "code",
   "execution_count": null,
   "metadata": {},
   "outputs": [],
   "source": [
    "using Profile\n"
   ]
  },
  {
   "cell_type": "code",
   "execution_count": null,
   "metadata": {},
   "outputs": [],
   "source": [
    "Profile.clear()\n",
    "@profile run_example(8, 1,  10)\n",
    "Profile.print()"
   ]
  },
  {
   "cell_type": "code",
   "execution_count": null,
   "metadata": {},
   "outputs": [],
   "source": [
    "using BenchmarkTools"
   ]
  },
  {
   "cell_type": "code",
   "execution_count": null,
   "metadata": {},
   "outputs": [],
   "source": [
    "@btime run_example(8, 1,  10)"
   ]
  },
  {
   "cell_type": "code",
   "execution_count": null,
   "metadata": {},
   "outputs": [],
   "source": []
  },
  {
   "cell_type": "code",
   "execution_count": null,
   "metadata": {},
   "outputs": [],
   "source": [
    "using ProgressMeter"
   ]
  },
  {
   "cell_type": "code",
   "execution_count": null,
   "metadata": {},
   "outputs": [],
   "source": [
    "size(O_list)"
   ]
  },
  {
   "cell_type": "code",
   "execution_count": null,
   "metadata": {},
   "outputs": [],
   "source": []
  },
  {
   "cell_type": "code",
   "execution_count": null,
   "metadata": {},
   "outputs": [],
   "source": [
    "mean(O_list,dims=2)"
   ]
  },
  {
   "cell_type": "code",
   "execution_count": null,
   "metadata": {},
   "outputs": [],
   "source": [
    "run_example(10,0.1,3)"
   ]
  },
  {
   "cell_type": "code",
   "execution_count": null,
   "metadata": {},
   "outputs": [],
   "source": [
    "CT.Z(ct)"
   ]
  },
  {
   "cell_type": "code",
   "execution_count": null,
   "metadata": {},
   "outputs": [],
   "source": [
    "for history in ct.op_history\n",
    "    println(history)\n",
    "end"
   ]
  },
  {
   "cell_type": "code",
   "execution_count": null,
   "metadata": {},
   "outputs": [],
   "source": [
    "CT.Z(ct)"
   ]
  },
  {
   "cell_type": "code",
   "execution_count": null,
   "metadata": {},
   "outputs": [],
   "source": [
    "CT.Z(ct)"
   ]
  },
  {
   "cell_type": "code",
   "execution_count": null,
   "metadata": {},
   "outputs": [],
   "source": [
    "keyword, parameter\n",
    "check folded?"
   ]
  },
  {
   "cell_type": "code",
   "execution_count": null,
   "metadata": {},
   "outputs": [],
   "source": [
    "CT.inner_prob(ct,[0,],[4])"
   ]
  },
  {
   "cell_type": "code",
   "execution_count": null,
   "metadata": {},
   "outputs": [],
   "source": [
    "expect(ct.mps,\"ProjUp\",sites=[3])"
   ]
  },
  {
   "cell_type": "code",
   "execution_count": null,
   "metadata": {},
   "outputs": [],
   "source": [
    "rand(ct.rng)"
   ]
  },
  {
   "cell_type": "code",
   "execution_count": null,
   "metadata": {},
   "outputs": [],
   "source": [
    "CT.R!(ct,[1],[1])"
   ]
  },
  {
   "cell_type": "code",
   "execution_count": null,
   "metadata": {},
   "outputs": [],
   "source": [
    "CT.Z(ct)"
   ]
  },
  {
   "cell_type": "code",
   "execution_count": null,
   "metadata": {},
   "outputs": [],
   "source": [
    "1 in [1,2,3]"
   ]
  },
  {
   "cell_type": "code",
   "execution_count": null,
   "metadata": {},
   "outputs": [],
   "source": [
    "ct.xj in [Set([1 // 3, 2 // 3]),Set([0])]"
   ]
  },
  {
   "cell_type": "code",
   "execution_count": null,
   "metadata": {},
   "outputs": [],
   "source": [
    "CT.Z(ct)"
   ]
  },
  {
   "cell_type": "code",
   "execution_count": null,
   "metadata": {},
   "outputs": [],
   "source": [
    "CT.X!(ct,1)"
   ]
  },
  {
   "cell_type": "code",
   "execution_count": null,
   "metadata": {},
   "outputs": [],
   "source": [
    "CT.Z(ct)"
   ]
  },
  {
   "cell_type": "code",
   "execution_count": null,
   "metadata": {},
   "outputs": [],
   "source": [
    "CT.P!(ct,[1],[2])"
   ]
  },
  {
   "cell_type": "code",
   "execution_count": null,
   "metadata": {},
   "outputs": [],
   "source": [
    "CT.Z(ct)"
   ]
  },
  {
   "cell_type": "code",
   "execution_count": null,
   "metadata": {},
   "outputs": [],
   "source": [
    "CT.X!(ct,2)"
   ]
  },
  {
   "cell_type": "code",
   "execution_count": null,
   "metadata": {},
   "outputs": [],
   "source": [
    "CT.Z(ct)"
   ]
  },
  {
   "cell_type": "code",
   "execution_count": null,
   "metadata": {},
   "outputs": [],
   "source": [
    "norm(ct.mps)"
   ]
  },
  {
   "cell_type": "code",
   "execution_count": null,
   "metadata": {},
   "outputs": [],
   "source": [
    "CT.P!(ct,[1],[2])"
   ]
  },
  {
   "cell_type": "code",
   "execution_count": null,
   "metadata": {},
   "outputs": [],
   "source": [
    "CT.Z(ct)"
   ]
  },
  {
   "cell_type": "code",
   "execution_count": null,
   "metadata": {},
   "outputs": [],
   "source": [
    "norm(ct.mps)"
   ]
  },
  {
   "cell_type": "code",
   "execution_count": null,
   "metadata": {},
   "outputs": [],
   "source": []
  },
  {
   "cell_type": "code",
   "execution_count": null,
   "metadata": {},
   "outputs": [],
   "source": [
    "Array(CT.mps_to_tensor(ct.mps),ct.qubit_site[ct.phy_ram])"
   ]
  },
  {
   "cell_type": "code",
   "execution_count": null,
   "metadata": {},
   "outputs": [],
   "source": [
    "ct.mps"
   ]
  },
  {
   "cell_type": "code",
   "execution_count": null,
   "metadata": {},
   "outputs": [],
   "source": [
    "CT.Z(ct)"
   ]
  },
  {
   "cell_type": "code",
   "execution_count": null,
   "metadata": {},
   "outputs": [],
   "source": [
    "CT.von_Neumann_entropy(ct.mps,2)"
   ]
  },
  {
   "cell_type": "code",
   "execution_count": null,
   "metadata": {},
   "outputs": [],
   "source": [
    "uniqueinds(ct.mps[2],ct.mps[3])"
   ]
  },
  {
   "cell_type": "code",
   "execution_count": null,
   "metadata": {},
   "outputs": [],
   "source": [
    "svd(mps_ij)"
   ]
  },
  {
   "cell_type": "code",
   "execution_count": null,
   "metadata": {},
   "outputs": [],
   "source": [
    "for i in 1:3\n",
    "    CT.S(ct,i;rng=ct.rng_C)\n",
    "end"
   ]
  },
  {
   "cell_type": "code",
   "execution_count": null,
   "metadata": {},
   "outputs": [],
   "source": [
    "norm(CT.mps_to_tensor(ct.mps))"
   ]
  },
  {
   "cell_type": "code",
   "execution_count": null,
   "metadata": {},
   "outputs": [],
   "source": [
    "ct.mps"
   ]
  },
  {
   "cell_type": "code",
   "execution_count": null,
   "metadata": {},
   "outputs": [],
   "source": [
    "ct.mps[2]"
   ]
  },
  {
   "cell_type": "code",
   "execution_count": null,
   "metadata": {},
   "outputs": [],
   "source": [
    "ct.mps"
   ]
  },
  {
   "cell_type": "code",
   "execution_count": null,
   "metadata": {},
   "outputs": [],
   "source": [
    "ct.qubit_site"
   ]
  },
  {
   "cell_type": "code",
   "execution_count": null,
   "metadata": {},
   "outputs": [],
   "source": [
    "inds(ct.mps)"
   ]
  },
  {
   "cell_type": "code",
   "execution_count": null,
   "metadata": {},
   "outputs": [],
   "source": [
    "linkind(ct.mps,1)"
   ]
  },
  {
   "cell_type": "code",
   "execution_count": null,
   "metadata": {},
   "outputs": [],
   "source": [
    "uniqueinds(ct.mps[1],ct.mps[2])"
   ]
  },
  {
   "cell_type": "code",
   "execution_count": null,
   "metadata": {},
   "outputs": [],
   "source": [
    "ct.mps"
   ]
  },
  {
   "cell_type": "code",
   "execution_count": null,
   "metadata": {},
   "outputs": [],
   "source": [
    "linkind(ct.mps,2)"
   ]
  },
  {
   "cell_type": "code",
   "execution_count": null,
   "metadata": {},
   "outputs": [],
   "source": [
    "linkind(ct.mps,2)"
   ]
  },
  {
   "cell_type": "code",
   "execution_count": null,
   "metadata": {},
   "outputs": [],
   "source": [
    "CT.von_Neumann_entropy(ct.mps,2)"
   ]
  },
  {
   "cell_type": "code",
   "execution_count": null,
   "metadata": {},
   "outputs": [],
   "source": [
    "ψ′=MPS(insert!(copy(ITensors.data(ψ)), b, ψb))"
   ]
  },
  {
   "cell_type": "code",
   "execution_count": null,
   "metadata": {},
   "outputs": [],
   "source": [
    "lb=(linkind(ψ,1))"
   ]
  },
  {
   "cell_type": "code",
   "execution_count": null,
   "metadata": {},
   "outputs": [],
   "source": [
    "l′b=sim(linkind(ψ,1))"
   ]
  },
  {
   "cell_type": "code",
   "execution_count": null,
   "metadata": {},
   "outputs": [],
   "source": [
    "δlb=δ(dag(lb), l′b)"
   ]
  },
  {
   "cell_type": "code",
   "execution_count": null,
   "metadata": {},
   "outputs": [],
   "source": [
    "ψ′[1]"
   ]
  },
  {
   "cell_type": "code",
   "execution_count": null,
   "metadata": {},
   "outputs": [],
   "source": [
    "ψ′[1]*δlb"
   ]
  },
  {
   "cell_type": "code",
   "execution_count": null,
   "metadata": {},
   "outputs": [],
   "source": [
    "ψ′[2]*(δlb)"
   ]
  },
  {
   "cell_type": "code",
   "execution_count": null,
   "metadata": {},
   "outputs": [],
   "source": [
    "ψ′[3]"
   ]
  },
  {
   "cell_type": "code",
   "execution_count": null,
   "metadata": {},
   "outputs": [],
   "source": [
    "state()"
   ]
  },
  {
   "cell_type": "code",
   "execution_count": null,
   "metadata": {},
   "outputs": [],
   "source": [
    "function insert(ψ::MPS, b::Integer, ψb::ITensor)\n",
    "    dataψ′ = insert!(copy(ITensors.data(ψ)), b, ψb)\n",
    "    # return dataψ′\n",
    "    ψ′ = MPS(dataψ′)\n",
    "    lb = linkind(ψ, b - 1)\n",
    "    l′b = sim(lb)\n",
    "    δlb = δ(dag(lb), l′b)\n",
    "    ψ′[b - 1] *= δlb\n",
    "    # ψ′[b] *= dag(δlb)\n",
    "    ψ′[b] *= (δlb)\n",
    "    return ψ′\n",
    "  end\n",
    "  \n",
    " "
   ]
  },
  {
   "cell_type": "code",
   "execution_count": null,
   "metadata": {},
   "outputs": [],
   "source": [
    "N = 4\n",
    "s = siteinds(\"S=1/2\", N; )\n",
    "ψ = randomMPS(s, n -> isodd(n) ? \"↑\" : \"↓\")"
   ]
  },
  {
   "cell_type": "code",
   "execution_count": null,
   "metadata": {},
   "outputs": [],
   "source": [
    "expect(ψ, \"Sz\",)"
   ]
  },
  {
   "cell_type": "code",
   "execution_count": null,
   "metadata": {},
   "outputs": [],
   "source": [
    "b = 2\n",
    "sb = siteind(\"S=1/2\"; )\n",
    "ψb = onehot(sb => 1)"
   ]
  },
  {
   "cell_type": "code",
   "execution_count": null,
   "metadata": {},
   "outputs": [],
   "source": [
    "\n",
    "ψ′ = insert(ψ, 2, ψb)\n"
   ]
  },
  {
   "cell_type": "code",
   "execution_count": null,
   "metadata": {},
   "outputs": [],
   "source": [
    "expect(ψ', \"Sz\",)"
   ]
  },
  {
   "cell_type": "code",
   "execution_count": null,
   "metadata": {},
   "outputs": [],
   "source": [
    "show norm(prod(ψ) * ψb - prod(ψ′))"
   ]
  },
  {
   "cell_type": "code",
   "execution_count": null,
   "metadata": {},
   "outputs": [],
   "source": []
  },
  {
   "cell_type": "code",
   "execution_count": null,
   "metadata": {},
   "outputs": [],
   "source": [
    "n=5\n",
    "s1 = siteinds(\"Qubit\", n)\n",
    "# s2 = siteinds(\"Qubit\", 1)\n",
    "psi1= randomMPS(MersenneTwister(1),ComplexF64,s1[1:n-1];linkdims=2)\n",
    "psi2= randomMPS(MersenneTwister(3),ComplexF64,s1[1:n-1];linkdims=2)\n",
    "psi3=psi2- inner(psi1,psi2)*psi1\n",
    "psi3=psi3/norm(psi3)\n",
    "\n",
    "anc_0=  MPS(s1[n:n], [\"0\",])\n",
    "anc_1=  MPS(s1[n:n], [\"1\",])\n",
    "\n",
    "# psi1 = MPS(s1, [\"0\", \"0\", \"0\", \"0\"])\n",
    "# psi2 = MPS(s1, [\"1\", \"1\", \"1\", \"1\"])"
   ]
  },
  {
   "cell_type": "code",
   "execution_count": null,
   "metadata": {},
   "outputs": [],
   "source": [
    "\n",
    "CT.attach_mps(anc_0,psi1)"
   ]
  },
  {
   "cell_type": "code",
   "execution_count": null,
   "metadata": {},
   "outputs": [],
   "source": [
    "psi1_new=CT.attach_mps(anc_0,psi1)"
   ]
  },
  {
   "cell_type": "code",
   "execution_count": null,
   "metadata": {},
   "outputs": [],
   "source": [
    "psi2_new=CT.attach_mps(anc_1,psi3)"
   ]
  },
  {
   "cell_type": "code",
   "execution_count": null,
   "metadata": {},
   "outputs": [],
   "source": [
    "psi2_new"
   ]
  },
  {
   "cell_type": "code",
   "execution_count": null,
   "metadata": {},
   "outputs": [],
   "source": [
    "CT.mps_element(psi2_new,\"10100\")"
   ]
  },
  {
   "cell_type": "code",
   "execution_count": null,
   "metadata": {},
   "outputs": [],
   "source": [
    "CT.mps_element(psi3,\"0100\")"
   ]
  },
  {
   "cell_type": "code",
   "execution_count": null,
   "metadata": {},
   "outputs": [],
   "source": [
    "psi_sum=(psi1_new+psi2_new)/sqrt(2)"
   ]
  },
  {
   "cell_type": "code",
   "execution_count": null,
   "metadata": {},
   "outputs": [],
   "source": [
    "inner(psi_sum',psi_sum)"
   ]
  },
  {
   "cell_type": "code",
   "execution_count": null,
   "metadata": {},
   "outputs": [],
   "source": [
    "zz=MPS([1 0 ; 0 im],s1[1:2])"
   ]
  },
  {
   "cell_type": "code",
   "execution_count": null,
   "metadata": {},
   "outputs": [],
   "source": [
    "inner(conj(zz),zz)"
   ]
  },
  {
   "cell_type": "code",
   "execution_count": null,
   "metadata": {},
   "outputs": [],
   "source": [
    "inner(psi1,psi1)"
   ]
  },
  {
   "cell_type": "code",
   "execution_count": null,
   "metadata": {},
   "outputs": [],
   "source": [
    "v0=prod(psi_sum[1:5])* state(siteind(psi_sum,5),\"0\")\n",
    "v1=prod(psi_sum[1:5])* state(siteind(psi_sum,5),\"1\")"
   ]
  },
  {
   "cell_type": "code",
   "execution_count": null,
   "metadata": {},
   "outputs": [],
   "source": [
    "print(conj(v0)*v1)"
   ]
  },
  {
   "cell_type": "code",
   "execution_count": null,
   "metadata": {},
   "outputs": [],
   "source": [
    "inds(mps1[4])"
   ]
  },
  {
   "cell_type": "code",
   "execution_count": null,
   "metadata": {},
   "outputs": [],
   "source": [
    "vcat(siteinds(psi1),siteinds(anc_0))"
   ]
  },
  {
   "cell_type": "code",
   "execution_count": null,
   "metadata": {},
   "outputs": [],
   "source": [
    "orthogonalize!(psi1,n-1)\n",
    "mps_=psi1[n-1]*anc_0[1]\n",
    "U,S,V=svd(mps_,inds(psi1[n-1]),cutoff=1e-10,lefttags=replace(string(tags((findinds(inds(mps_),\"Link\")[1]))),r\"l=[\\d]+\"=>\"l=$(n-1)\",'\"'=>\"\"))\n",
    "psi_new=MPS(s1,)\n",
    "for i in 1:n\n",
    "    if i < n-1\n",
    "        psi_new[i]=psi1[i]\n",
    "    elseif i==n-1\n",
    "        psi_new[i]=U\n",
    "    elseif i==n\n",
    "        psi_new[i]=S*V\n",
    "    end\n",
    "end"
   ]
  },
  {
   "cell_type": "code",
   "execution_count": null,
   "metadata": {},
   "outputs": [],
   "source": [
    "push!(psi1,S*V)"
   ]
  },
  {
   "cell_type": "code",
   "execution_count": null,
   "metadata": {},
   "outputs": [],
   "source": [
    "psi1[n]=S*V"
   ]
  },
  {
   "cell_type": "code",
   "execution_count": null,
   "metadata": {},
   "outputs": [],
   "source": [
    "print(S*V)"
   ]
  },
  {
   "cell_type": "code",
   "execution_count": null,
   "metadata": {},
   "outputs": [],
   "source": [
    "CT.mps_element(psi1,\"0000\")"
   ]
  },
  {
   "cell_type": "code",
   "execution_count": null,
   "metadata": {},
   "outputs": [],
   "source": [
    "print(state(s1[1],\"0\"))"
   ]
  },
  {
   "cell_type": "code",
   "execution_count": null,
   "metadata": {},
   "outputs": [],
   "source": [
    "print(array(S*V)[1,:,:])"
   ]
  },
  {
   "cell_type": "code",
   "execution_count": null,
   "metadata": {},
   "outputs": [],
   "source": [
    "print(psi1[1])"
   ]
  },
  {
   "cell_type": "code",
   "execution_count": null,
   "metadata": {},
   "outputs": [],
   "source": [
    "psi01=MPS(s1,\"0\")\n"
   ]
  },
  {
   "cell_type": "code",
   "execution_count": null,
   "metadata": {},
   "outputs": [],
   "source": [
    "vcat(s1,s2)"
   ]
  },
  {
   "cell_type": "code",
   "execution_count": null,
   "metadata": {},
   "outputs": [],
   "source": [
    "mps=MPS(vcat(s1,s2),\"0\")\n",
    "\n"
   ]
  },
  {
   "cell_type": "code",
   "execution_count": null,
   "metadata": {},
   "outputs": [],
   "source": [
    "s1=siteinds(\"Qubit\", 10)"
   ]
  },
  {
   "cell_type": "code",
   "execution_count": null,
   "metadata": {},
   "outputs": [],
   "source": [
    "mps=randomMPS(s1,linkdims=10)"
   ]
  },
  {
   "cell_type": "code",
   "execution_count": null,
   "metadata": {},
   "outputs": [],
   "source": [
    "truncate(mps,cutoff=1e-10)"
   ]
  },
  {
   "cell_type": "code",
   "execution_count": null,
   "metadata": {},
   "outputs": [],
   "source": [
    "mps=MPS(vcat(s1,s2),\"0\")\n",
    "\n",
    "for idx in 2:n\n",
    "    if idx == 2\n",
    "        arr=array(mps1[idx-1])\n",
    "\n",
    "        mps[idx] = ITensor(reshape(arr,(1,size(arr)...)),inds(mps[idx]))\n",
    "    else\n",
    "        mps[idx]=ITensor( array(psi1[idx-1]) , inds(mps[idx]))\n",
    "    end\n",
    "end"
   ]
  },
  {
   "cell_type": "code",
   "execution_count": null,
   "metadata": {},
   "outputs": [],
   "source": [
    "arr=array(psi1[1])"
   ]
  },
  {
   "cell_type": "code",
   "execution_count": null,
   "metadata": {},
   "outputs": [],
   "source": [
    "(reshape(arr,(1,size(arr)...)))"
   ]
  },
  {
   "cell_type": "code",
   "execution_count": null,
   "metadata": {},
   "outputs": [],
   "source": []
  },
  {
   "cell_type": "code",
   "execution_count": null,
   "metadata": {},
   "outputs": [],
   "source": [
    "storage(psi01[2])"
   ]
  },
  {
   "cell_type": "code",
   "execution_count": null,
   "metadata": {},
   "outputs": [],
   "source": [
    "ITensor(reshape(arr,(1,size(arr)...)),inds(psi01[2]))"
   ]
  },
  {
   "cell_type": "code",
   "execution_count": null,
   "metadata": {},
   "outputs": [],
   "source": [
    "inds(psi01[2])"
   ]
  },
  {
   "cell_type": "code",
   "execution_count": null,
   "metadata": {},
   "outputs": [],
   "source": [
    "pp=array(psi1[2-1])"
   ]
  },
  {
   "cell_type": "code",
   "execution_count": null,
   "metadata": {},
   "outputs": [],
   "source": [
    "reshape(pp,(1,size(pp)...))"
   ]
  },
  {
   "cell_type": "code",
   "execution_count": null,
   "metadata": {},
   "outputs": [],
   "source": [
    "ITensor(array(psi1[2-1]),inds(psi1[2]))"
   ]
  },
  {
   "cell_type": "code",
   "execution_count": null,
   "metadata": {},
   "outputs": [],
   "source": [
    "(linkind(psi01,1))"
   ]
  },
  {
   "cell_type": "code",
   "execution_count": null,
   "metadata": {},
   "outputs": [],
   "source": [
    "typeof(s[1])"
   ]
  },
  {
   "cell_type": "code",
   "execution_count": null,
   "metadata": {},
   "outputs": [],
   "source": [
    "s1=siteinds(\"Qubit\", 4)\n",
    "mps1= randomMPS(s;linkdims=3)\n",
    "\n",
    "s2=siteinds(\"Qubit\", 1)\n",
    "mps2 = MPS(s2, [\"0\"])   "
   ]
  },
  {
   "cell_type": "code",
   "execution_count": null,
   "metadata": {},
   "outputs": [],
   "source": [
    "# mps = kron(mps2, mps1) ?"
   ]
  },
  {
   "cell_type": "code",
   "execution_count": null,
   "metadata": {},
   "outputs": [],
   "source": [
    "N = 3\n",
    "\n",
    "s = siteinds(\"Qubit\", N; )\n",
    "\n",
    "states = [n<=2 ? \"Dn\" : \"Up\" for n=1:N-1]\n",
    "\n",
    "r = randomMPS(s[2:N], states; linkdims=2)\n",
    "psi_temp = MPS(s,\"0\")\n",
    "\n",
    "for i in 2:N\n",
    "   psi_temp[i]=r[i-1] \n",
    "end\n",
    "\n",
    "psi1 = psi_temp"
   ]
  },
  {
   "cell_type": "code",
   "execution_count": null,
   "metadata": {},
   "outputs": [],
   "source": [
    "psi1"
   ]
  },
  {
   "cell_type": "code",
   "execution_count": null,
   "metadata": {},
   "outputs": [],
   "source": []
  },
  {
   "cell_type": "code",
   "execution_count": null,
   "metadata": {},
   "outputs": [],
   "source": [
    "i = Index(3,\"index_i\")\n",
    "j = Index(2,\"index_j\")\n",
    "k = Index(4,\"index_k\")\n",
    "\n",
    "T = ITensor(i,j,k)"
   ]
  },
  {
   "cell_type": "code",
   "execution_count": null,
   "metadata": {},
   "outputs": [],
   "source": [
    "T[i=>2,j=>1,k=>3]=1."
   ]
  },
  {
   "cell_type": "code",
   "execution_count": null,
   "metadata": {},
   "outputs": [],
   "source": [
    "psi01[2]"
   ]
  },
  {
   "cell_type": "code",
   "execution_count": null,
   "metadata": {},
   "outputs": [],
   "source": [
    "print(psi01[1])"
   ]
  },
  {
   "cell_type": "code",
   "execution_count": null,
   "metadata": {},
   "outputs": [],
   "source": [
    "print(psi1[1])"
   ]
  },
  {
   "cell_type": "code",
   "execution_count": null,
   "metadata": {},
   "outputs": [],
   "source": [
    "Array(psi1[1],[site])"
   ]
  },
  {
   "cell_type": "code",
   "execution_count": null,
   "metadata": {},
   "outputs": [],
   "source": [
    "ITensor([psi[1]])"
   ]
  },
  {
   "cell_type": "code",
   "execution_count": null,
   "metadata": {},
   "outputs": [],
   "source": [
    "psi01[2]=ITensor([psi[1]])"
   ]
  },
  {
   "cell_type": "code",
   "execution_count": null,
   "metadata": {},
   "outputs": [],
   "source": [
    "print(psi01[2])"
   ]
  },
  {
   "cell_type": "code",
   "execution_count": null,
   "metadata": {},
   "outputs": [],
   "source": [
    "print(psi1[1])"
   ]
  },
  {
   "cell_type": "code",
   "execution_count": null,
   "metadata": {},
   "outputs": [],
   "source": [
    "psi01"
   ]
  },
  {
   "cell_type": "code",
   "execution_count": null,
   "metadata": {},
   "outputs": [],
   "source": [
    "CT.mps_to_tensor(psi01)"
   ]
  },
  {
   "cell_type": "code",
   "execution_count": null,
   "metadata": {},
   "outputs": [],
   "source": [
    "psi1"
   ]
  },
  {
   "cell_type": "code",
   "execution_count": null,
   "metadata": {},
   "outputs": [],
   "source": [
    "psi3"
   ]
  },
  {
   "cell_type": "code",
   "execution_count": null,
   "metadata": {},
   "outputs": [],
   "source": [
    "inner(psi1, psi3)"
   ]
  },
  {
   "cell_type": "code",
   "execution_count": null,
   "metadata": {},
   "outputs": [],
   "source": []
  },
  {
   "cell_type": "code",
   "execution_count": null,
   "metadata": {},
   "outputs": [],
   "source": [
    "psi0=add(psi1,psi2;cutoff=1e-10)"
   ]
  },
  {
   "cell_type": "code",
   "execution_count": null,
   "metadata": {},
   "outputs": [],
   "source": [
    "psi12=add(psi1,psi2;alg=\"directsum\")"
   ]
  },
  {
   "cell_type": "code",
   "execution_count": null,
   "metadata": {},
   "outputs": [],
   "source": [
    "Array(CT.mps_to_tensor(psi1),s1)"
   ]
  },
  {
   "cell_type": "code",
   "execution_count": null,
   "metadata": {},
   "outputs": [],
   "source": [
    "Array(CT.mps_to_tensor(psi2),s1)"
   ]
  },
  {
   "cell_type": "code",
   "execution_count": null,
   "metadata": {},
   "outputs": [],
   "source": [
    "Array(CT.mps_to_tensor(psi12),s1)"
   ]
  },
  {
   "cell_type": "code",
   "execution_count": null,
   "metadata": {},
   "outputs": [],
   "source": [
    "add(ψ1,ψ1) "
   ]
  },
  {
   "cell_type": "code",
   "execution_count": null,
   "metadata": {},
   "outputs": [],
   "source": [
    "[ψ[n] * ψ[n + 1] for n in 1:2:(n - 1)]"
   ]
  },
  {
   "cell_type": "code",
   "execution_count": null,
   "metadata": {},
   "outputs": [],
   "source": [
    "ψ2 = MPS([ψ[n] * ψ[n + 1] for n in 1:2:(n - 1)])\n"
   ]
  },
  {
   "cell_type": "code",
   "execution_count": null,
   "metadata": {},
   "outputs": [],
   "source": [
    "ct=CT.CT_MPS(L=4,seed=1,x0=0//16,folded=false)"
   ]
  },
  {
   "cell_type": "code",
   "execution_count": null,
   "metadata": {},
   "outputs": [],
   "source": [
    "ct.mps"
   ]
  },
  {
   "cell_type": "code",
   "execution_count": null,
   "metadata": {},
   "outputs": [],
   "source": []
  },
  {
   "cell_type": "code",
   "execution_count": null,
   "metadata": {},
   "outputs": [],
   "source": [
    "CT.S!(ct,4;rng=MersenneTwister(1))"
   ]
  },
  {
   "cell_type": "code",
   "execution_count": null,
   "metadata": {},
   "outputs": [],
   "source": [
    "ct.mps"
   ]
  },
  {
   "cell_type": "code",
   "execution_count": null,
   "metadata": {},
   "outputs": [],
   "source": [
    "inds(ct.mps[2])"
   ]
  },
  {
   "cell_type": "code",
   "execution_count": null,
   "metadata": {},
   "outputs": [],
   "source": [
    "Array(CT.mps_to_tensor(ct.mps),ct.qubit_site)"
   ]
  },
  {
   "cell_type": "code",
   "execution_count": null,
   "metadata": {},
   "outputs": [],
   "source": [
    "CT.Z(ct)"
   ]
  },
  {
   "cell_type": "code",
   "execution_count": null,
   "metadata": {},
   "outputs": [],
   "source": [
    "M_new=orthogonalize(M,2)"
   ]
  },
  {
   "cell_type": "code",
   "execution_count": null,
   "metadata": {},
   "outputs": [],
   "source": [
    "U2"
   ]
  },
  {
   "cell_type": "code",
   "execution_count": null,
   "metadata": {},
   "outputs": [],
   "source": [
    "mps_ij=(M_new[2]*M_new[3]*M_new[4])*U2"
   ]
  },
  {
   "cell_type": "code",
   "execution_count": null,
   "metadata": {},
   "outputs": [],
   "source": [
    "CT.apply_op!(M,U2)"
   ]
  },
  {
   "cell_type": "code",
   "execution_count": null,
   "metadata": {},
   "outputs": [],
   "source": [
    "ITensor(CT.U(4),ct.qubit_site[2],ct.qubit_site[4],ct.qubit_site[2]',ct.qubit_site[4]')"
   ]
  },
  {
   "cell_type": "code",
   "execution_count": null,
   "metadata": {},
   "outputs": [],
   "source": [
    "Array(CT.mps_to_tensor(M),idx)"
   ]
  },
  {
   "cell_type": "code",
   "execution_count": null,
   "metadata": {},
   "outputs": [],
   "source": [
    "isapprox(Array(noprime!(T*U2),idx),Array(CT.mps_to_tensor(M),idx))"
   ]
  },
  {
   "cell_type": "code",
   "execution_count": null,
   "metadata": {},
   "outputs": [],
   "source": []
  },
  {
   "cell_type": "markdown",
   "metadata": {},
   "source": []
  },
  {
   "cell_type": "code",
   "execution_count": null,
   "metadata": {},
   "outputs": [],
   "source": [
    "CT.mps_element(ct.mps,\"00001\")"
   ]
  },
  {
   "cell_type": "code",
   "execution_count": null,
   "metadata": {},
   "outputs": [],
   "source": [
    "Array(CT.mps_to_tensor(ct.mps),ct.qubit_site)[1,1,1,1,2]"
   ]
  },
  {
   "cell_type": "code",
   "execution_count": null,
   "metadata": {},
   "outputs": [],
   "source": []
  },
  {
   "cell_type": "code",
   "execution_count": null,
   "metadata": {},
   "outputs": [],
   "source": [
    "let i=4\n",
    "    ct.phy_ram[[ct.phy_list[i],ct.phy_list[(i)%ct.L+1]]]\n",
    "    \n",
    "end"
   ]
  },
  {
   "cell_type": "code",
   "execution_count": null,
   "metadata": {},
   "outputs": [],
   "source": [
    "CT.U(4,rng=ct.rng_C)"
   ]
  },
  {
   "cell_type": "code",
   "execution_count": null,
   "metadata": {},
   "outputs": [],
   "source": [
    "zz=CT.U(4)"
   ]
  },
  {
   "cell_type": "code",
   "execution_count": null,
   "metadata": {},
   "outputs": [],
   "source": [
    "reshape(zz,2,2,2,2)"
   ]
  },
  {
   "cell_type": "code",
   "execution_count": null,
   "metadata": {},
   "outputs": [],
   "source": [
    "CT.Z(ct)"
   ]
  },
  {
   "cell_type": "code",
   "execution_count": null,
   "metadata": {},
   "outputs": [],
   "source": [
    "CT.ZZ(ct)"
   ]
  },
  {
   "cell_type": "code",
   "execution_count": null,
   "metadata": {},
   "outputs": [],
   "source": [
    "CT.von_Neumann_entropy(ct.mps,div(ct.L,2))"
   ]
  },
  {
   "cell_type": "code",
   "execution_count": null,
   "metadata": {},
   "outputs": [],
   "source": [
    "expect(ct.mps,\"Sz\")[ct.phy_ram]"
   ]
  },
  {
   "cell_type": "code",
   "execution_count": null,
   "metadata": {},
   "outputs": [],
   "source": [
    "Q"
   ]
  },
  {
   "cell_type": "code",
   "execution_count": null,
   "metadata": {},
   "outputs": [],
   "source": [
    "function U(n;rng::Random.AbstractRNG=MersenneTwister(nothing))\n",
    "    z=randn(rng,4,4)+randn(rng,4,4)*im\n",
    "    Q,R=qr(z)\n",
    "    r_diag=diag(R)\n",
    "    Lambda=Diagonal(r_diag./abs.(r_diag))\n",
    "    Q*=Lambda\n",
    "    return Q\n",
    "end"
   ]
  },
  {
   "cell_type": "code",
   "execution_count": null,
   "metadata": {},
   "outputs": [],
   "source": [
    "U_map=zeros(Complex,100,4,4)\n",
    "for i in 1:100\n",
    "    U_map[i,:,:]=U(4)\n",
    "end"
   ]
  },
  {
   "cell_type": "code",
   "execution_count": null,
   "metadata": {},
   "outputs": [],
   "source": [
    "qq=U(4)"
   ]
  },
  {
   "cell_type": "code",
   "execution_count": null,
   "metadata": {},
   "outputs": [],
   "source": [
    "(qq[:,1])' * qq[:,1]"
   ]
  },
  {
   "cell_type": "code",
   "execution_count": null,
   "metadata": {},
   "outputs": [],
   "source": [
    "(U_map[1,:,1])' * U_map[1,:,2]"
   ]
  },
  {
   "cell_type": "code",
   "execution_count": null,
   "metadata": {},
   "outputs": [],
   "source": [
    "sum(abs.(U_map).^2,dims=[1,2])"
   ]
  },
  {
   "cell_type": "code",
   "execution_count": null,
   "metadata": {},
   "outputs": [],
   "source": [
    "ct.mps"
   ]
  },
  {
   "cell_type": "code",
   "execution_count": null,
   "metadata": {},
   "outputs": [],
   "source": []
  },
  {
   "cell_type": "code",
   "execution_count": null,
   "metadata": {},
   "outputs": [],
   "source": [
    "using Random"
   ]
  },
  {
   "cell_type": "code",
   "execution_count": null,
   "metadata": {},
   "outputs": [],
   "source": [
    "randn(4,4)+randn(4,4)*im"
   ]
  },
  {
   "cell_type": "code",
   "execution_count": null,
   "metadata": {},
   "outputs": [
    {
     "data": {
      "text/plain": [
       "4×4 Matrix{ComplexF64}:\n",
       "  0.241388-0.445579im  -0.378112+0.254543im   …   0.198841+0.0531314im\n",
       "   0.61911+0.232944im   0.514138+0.10812im       -0.160158+0.33377im\n",
       " 0.0630687+0.147585im   0.472232-0.0991936im      0.566715-0.555979im\n",
       "  0.238078+0.472432im  -0.529014-0.0592682im      0.419537-0.11957im"
      ]
     },
     "execution_count": 136,
     "metadata": {},
     "output_type": "execute_result"
    }
   ],
   "source": [
    "Q"
   ]
  },
  {
   "cell_type": "code",
   "execution_count": null,
   "metadata": {},
   "outputs": [],
   "source": [
    "using LinearAlgebra"
   ]
  },
  {
   "cell_type": "code",
   "execution_count": null,
   "metadata": {},
   "outputs": [
    {
     "data": {
      "text/plain": [
       "4-element Vector{ComplexF64}:\n",
       " -1.0 + 0.0im\n",
       "  1.0 + 0.0im\n",
       " -1.0 + 0.0im\n",
       "  1.0 + 0.0im"
      ]
     },
     "execution_count": 132,
     "metadata": {},
     "output_type": "execute_result"
    }
   ],
   "source": [
    "Lambda"
   ]
  },
  {
   "cell_type": "code",
   "execution_count": null,
   "metadata": {},
   "outputs": [
    {
     "data": {
      "text/plain": [
       "4×4 Diagonal{ComplexF64, Vector{ComplexF64}}:\n",
       " -1.0+0.0im      ⋅           ⋅          ⋅    \n",
       "      ⋅      1.0+0.0im       ⋅          ⋅    \n",
       "      ⋅          ⋅      -1.0+0.0im      ⋅    \n",
       "      ⋅          ⋅           ⋅      1.0+0.0im"
      ]
     },
     "execution_count": 131,
     "metadata": {},
     "output_type": "execute_result"
    }
   ],
   "source": [
    "Diagonal(Lambda)"
   ]
  },
  {
   "cell_type": "code",
   "execution_count": null,
   "metadata": {},
   "outputs": [
    {
     "data": {
      "text/plain": [
       "4-element Vector{ComplexF64}:\n",
       "   0.279558410221431 - 0.3205567810049119im\n",
       " -0.7417840765323529 + 0.5731761757664646im\n",
       "  1.1107684390167805 - 0.460624395867162im\n",
       "  0.7860659376728949 - 0.9361810098531589im"
      ]
     },
     "execution_count": 128,
     "metadata": {},
     "output_type": "execute_result"
    }
   ],
   "source": [
    "Q"
   ]
  },
  {
   "cell_type": "code",
   "execution_count": null,
   "metadata": {},
   "outputs": [
    {
     "ename": "LoadError",
     "evalue": "UndefVarError: `diagm` not defined",
     "output_type": "error",
     "traceback": [
      "UndefVarError: `diagm` not defined",
      "",
      "Stacktrace:",
      " [1] top-level scope",
      "   @ In[124]:1"
     ]
    }
   ],
   "source": [
    "diagm([1,3,])"
   ]
  },
  {
   "cell_type": "code",
   "execution_count": null,
   "metadata": {},
   "outputs": [
    {
     "data": {
      "text/plain": [
       "true"
      ]
     },
     "execution_count": 120,
     "metadata": {},
     "output_type": "execute_result"
    }
   ],
   "source": [
    "isapprox(Q*R,z)"
   ]
  },
  {
   "cell_type": "code",
   "execution_count": null,
   "metadata": {},
   "outputs": [
    {
     "data": {
      "text/plain": [
       "4×4 Matrix{ComplexF64}:\n",
       "  -0.649365+0.597974im  0.00396232+0.0927084im  …   0.170378-0.186357im\n",
       "   0.195642+0.225327im   -0.152302+0.285702im       0.122146+0.822459im\n",
       "  -0.171775+0.291146im   -0.146135-0.232503im       0.414225+0.219354im\n",
       " -0.0668647+0.113845im    0.891284+0.129489im      -0.114906+0.109461im"
      ]
     },
     "execution_count": 117,
     "metadata": {},
     "output_type": "execute_result"
    }
   ],
   "source": [
    "Matrix(\n",
    "Q\n",
    ")"
   ]
  },
  {
   "cell_type": "code",
   "execution_count": null,
   "metadata": {},
   "outputs": [
    {
     "data": {
      "text/plain": [
       "4-element Vector{ComplexF64}:\n",
       "  3.568613493742204 + 0.0im\n",
       "  2.303632184469375 + 0.0im\n",
       "  -2.64876097164952 + 0.0im\n",
       " -1.532561276392839 + 0.0im"
      ]
     },
     "execution_count": 115,
     "metadata": {},
     "output_type": "execute_result"
    }
   ],
   "source": [
    "diag(R)"
   ]
  },
  {
   "cell_type": "code",
   "execution_count": null,
   "metadata": {},
   "outputs": [
    {
     "data": {
      "text/plain": [
       "4-element Vector{Float64}:\n",
       " -1.0\n",
       "  1.0\n",
       " -1.0\n",
       "  1.0"
      ]
     },
     "execution_count": 72,
     "metadata": {},
     "output_type": "execute_result"
    }
   ],
   "source": [
    "expect(ct.mps,[1 0;0 -1])"
   ]
  },
  {
   "cell_type": "code",
   "execution_count": null,
   "metadata": {},
   "outputs": [
    {
     "data": {
      "text/plain": [
       "sum(\n",
       "  1.0 Sz(1,) Sz(2,)\n",
       "  1.0 Sz(2,) Sz(3,)\n",
       "  1.0 Sz(3,) Sz(4,)\n",
       "  1.0 Sz(4,) Sz(5,)\n",
       "  1.0 Sz(5,) Sz(6,)\n",
       "  1.0 Sz(6,) Sz(7,)\n",
       "  1.0 Sz(7,) Sz(8,)\n",
       "  1.0 Sz(8,) Sz(1,)\n",
       ")"
      ]
     },
     "execution_count": 79,
     "metadata": {},
     "output_type": "execute_result"
    }
   ],
   "source": [
    "os = OpSum()\n",
    "for j=1:ct.L-1\n",
    "os += \"Sz\",j,\"Sz\",j+1\n",
    "end\n",
    "os += \"Sz\",ct.L,\"Sz\",1"
   ]
  },
  {
   "cell_type": "code",
   "execution_count": null,
   "metadata": {},
   "outputs": [
    {
     "data": {
      "text/plain": [
       "7-element Vector{Int64}:\n",
       " 1\n",
       " 2\n",
       " 3\n",
       " 4\n",
       " 5\n",
       " 6\n",
       " 7"
      ]
     },
     "execution_count": 83,
     "metadata": {},
     "output_type": "execute_result"
    }
   ],
   "source": [
    "ct.phy_list[1:end-1]"
   ]
  },
  {
   "cell_type": "code",
   "execution_count": null,
   "metadata": {},
   "outputs": [
    {
     "data": {
      "text/plain": [
       "MPO\n",
       "[1] ((dim=3|id=585|\"Link,l=1\"), (dim=2|id=75|\"Qubit,Site,n=1\")', (dim=2|id=75|\"Qubit,Site,n=1\"))\n",
       "[2] ((dim=3|id=585|\"Link,l=1\"), (dim=4|id=23|\"Link,l=2\"), (dim=2|id=960|\"Qubit,Site,n=2\")', (dim=2|id=960|\"Qubit,Site,n=2\"))\n",
       "[3] ((dim=4|id=23|\"Link,l=2\"), (dim=4|id=962|\"Link,l=3\"), (dim=2|id=82|\"Qubit,Site,n=3\")', (dim=2|id=82|\"Qubit,Site,n=3\"))\n",
       "[4] ((dim=4|id=962|\"Link,l=3\"), (dim=4|id=136|\"Link,l=4\"), (dim=2|id=937|\"Qubit,Site,n=4\")', (dim=2|id=937|\"Qubit,Site,n=4\"))\n",
       "[5] ((dim=4|id=136|\"Link,l=4\"), (dim=4|id=349|\"Link,l=5\"), (dim=2|id=526|\"Qubit,Site,n=5\")', (dim=2|id=526|\"Qubit,Site,n=5\"))\n",
       "[6] ((dim=4|id=349|\"Link,l=5\"), (dim=4|id=868|\"Link,l=6\"), (dim=2|id=75|\"Qubit,Site,n=6\")', (dim=2|id=75|\"Qubit,Site,n=6\"))\n",
       "[7] ((dim=4|id=868|\"Link,l=6\"), (dim=3|id=824|\"Link,l=7\"), (dim=2|id=791|\"Qubit,Site,n=7\")', (dim=2|id=791|\"Qubit,Site,n=7\"))\n",
       "[8] ((dim=3|id=824|\"Link,l=7\"), (dim=2|id=244|\"Qubit,Site,n=8\")', (dim=2|id=244|\"Qubit,Site,n=8\"))\n"
      ]
     },
     "execution_count": 80,
     "metadata": {},
     "output_type": "execute_result"
    }
   ],
   "source": [
    "zz=MPO(os,ct.qubit_site)"
   ]
  },
  {
   "cell_type": "code",
   "execution_count": null,
   "metadata": {},
   "outputs": [
    {
     "data": {
      "text/plain": [
       "0.9999999999999998"
      ]
     },
     "execution_count": 81,
     "metadata": {},
     "output_type": "execute_result"
    }
   ],
   "source": [
    "-inner(ct.mps',zz,ct.mps)*4/ct.L"
   ]
  },
  {
   "cell_type": "code",
   "execution_count": null,
   "metadata": {},
   "outputs": [
    {
     "data": {
      "text/plain": [
       "true"
      ]
     },
     "execution_count": 12,
     "metadata": {},
     "output_type": "execute_result"
    }
   ],
   "source": [
    "ct.xj in [Set([1//3,2//3])]"
   ]
  },
  {
   "cell_type": "code",
   "execution_count": null,
   "metadata": {},
   "outputs": [],
   "source": [
    "using ITensors"
   ]
  },
  {
   "cell_type": "code",
   "execution_count": null,
   "metadata": {},
   "outputs": [
    {
     "data": {
      "text/plain": [
       "MersenneTwister(0xe9fd1d667ccf06752598584e16024d68)"
      ]
     },
     "execution_count": 36,
     "metadata": {},
     "output_type": "execute_result"
    }
   ],
   "source": [
    "rng = MersenneTwister(nothing)"
   ]
  },
  {
   "cell_type": "code",
   "execution_count": null,
   "metadata": {},
   "outputs": [
    {
     "data": {
      "text/plain": [
       "ITensor ord=2 (dim=2|id=262|\"Site,n=1\") (dim=2|id=253|\"Site,n=2\")\n",
       "NDTensors.Dense{Float64, Vector{Float64}}"
      ]
     },
     "execution_count": 37,
     "metadata": {},
     "output_type": "execute_result"
    }
   ],
   "source": [
    "zz=randomITensor(rng,siteinds(2,2))"
   ]
  },
  {
   "cell_type": "code",
   "execution_count": null,
   "metadata": {},
   "outputs": [],
   "source": [
    "T="
   ]
  },
  {
   "cell_type": "code",
   "execution_count": null,
   "metadata": {},
   "outputs": [
    {
     "name": "stdout",
     "output_type": "stream",
     "text": [
      "ITensor ord=2\n",
      "Dim 1: (dim=2|id=262|\"Site,n=1\")\n",
      "Dim 2: (dim=2|id=253|\"Site,n=2\")\n",
      "NDTensors.Dense{Float64, Vector{Float64}}\n",
      " 2×2\n",
      " -0.4529424277094967  1.9115524850366077\n",
      "  0.5052402424188795  0.1857076924423848"
     ]
    }
   ],
   "source": [
    "print(zz)"
   ]
  },
  {
   "cell_type": "code",
   "execution_count": null,
   "metadata": {},
   "outputs": [
    {
     "data": {
      "text/plain": [
       "4"
      ]
     },
     "execution_count": 16,
     "metadata": {},
     "output_type": "execute_result"
    }
   ],
   "source": [
    "ct.L"
   ]
  },
  {
   "cell_type": "code",
   "execution_count": null,
   "metadata": {},
   "outputs": [
    {
     "data": {
      "text/plain": [
       "Rational{Int64}"
      ]
     },
     "execution_count": 330,
     "metadata": {},
     "output_type": "execute_result"
    }
   ],
   "source": [
    "typeof(1//2)"
   ]
  },
  {
   "cell_type": "code",
   "execution_count": null,
   "metadata": {},
   "outputs": [
    {
     "data": {
      "text/plain": [
       "Set{Int64} with 2 elements:\n",
       "  2\n",
       "  1"
      ]
     },
     "execution_count": 328,
     "metadata": {},
     "output_type": "execute_result"
    }
   ],
   "source": [
    "Set([1,2])"
   ]
  },
  {
   "cell_type": "code",
   "execution_count": null,
   "metadata": {},
   "outputs": [],
   "source": [
    "function initialize(N::Int, d::Int)\n",
    "    sites = siteinds(d,N)\n",
    "    psi = randomMPS(sites, d)\n",
    "    return psi\n",
    "end"
   ]
  },
  {
   "cell_type": "code",
   "execution_count": null,
   "metadata": {},
   "outputs": [
    {
     "name": "stdout",
     "output_type": "stream",
     "text": [
      "ITensor ord=0\n",
      "NDTensors.Dense{Float64, Vector{Float64}}\n",
      " 0-dimensional\n",
      "4.226020188649009"
     ]
    }
   ],
   "source": [
    "print(sqrt.(T*conj(T)))"
   ]
  },
  {
   "cell_type": "code",
   "execution_count": null,
   "metadata": {},
   "outputs": [
    {
     "data": {
      "text/plain": [
       "MPS\n",
       "[1] ((dim=2|id=733|\"Site,n=1\"), (dim=2|id=130|\"Link,n=1\"))\n",
       "[2] ((dim=2|id=130|\"Link,n=1\"), (dim=2|id=411|\"Site,n=2\"), (dim=2|id=584|\"Link,n=2\"))\n",
       "[3] ((dim=2|id=584|\"Link,n=2\"), (dim=2|id=509|\"Site,n=3\"), (dim=2|id=217|\"Link,n=3\"))\n",
       "[4] ((dim=2|id=217|\"Link,n=3\"), (dim=2|id=312|\"Site,n=4\"))\n"
      ]
     },
     "execution_count": 274,
     "metadata": {},
     "output_type": "execute_result"
    }
   ],
   "source": [
    "N = 4  # number of sites\n",
    "d = 2   # local degree of freedom for each site\n",
    "idx = siteinds(d,N)\n",
    "# T=randomITensor(MersenneTwister(1),ComplexF64,idx)\n",
    "# T/=sqrt.(T*conj(T))\n",
    "T = emptyITensor(idx)\n",
    "# T[1,1,1,1,1]=1\n",
    "# T[fill(1,N)...]=1\n",
    "T[fill(1, N)...]=1/sqrt(2)\n",
    "T[fill(2, N)...]=1/sqrt(2)\n",
    "M=MPS(T,idx;cutoff=1e-10,maxdim=20)"
   ]
  },
  {
   "cell_type": "code",
   "execution_count": null,
   "metadata": {},
   "outputs": [
    {
     "name": "stdout",
     "output_type": "stream",
     "text": [
      "ITensor ord=2\n",
      "Dim 1: (dim=2|id=733|\"Site,n=1\")\n",
      "Dim 2: (dim=2|id=130|\"Link,n=1\")\n",
      "NDTensors.Dense{Float64, Vector{Float64}}\n",
      " 2×2\n",
      " -1.0  -0.0\n",
      " -0.0   1.0"
     ]
    }
   ],
   "source": [
    "print(M[1])"
   ]
  },
  {
   "cell_type": "code",
   "execution_count": null,
   "metadata": {},
   "outputs": [
    {
     "name": "stdout",
     "output_type": "stream",
     "text": [
      "ITensor ord=3\n",
      "Dim 1: (dim=2|id=130|\"Link,n=1\")\n",
      "Dim 2: (dim=2|id=411|\"Site,n=2\")\n",
      "Dim 3: (dim=2|id=584|\"Link,n=2\")\n",
      "NDTensors.Dense{Float64, Vector{Float64}}\n",
      " 2×2×2\n",
      "[:, :, 1] =\n",
      " 1.0  0.0\n",
      " 0.0  0.0\n",
      "\n",
      "[:, :, 2] =\n",
      " 0.0  0.0\n",
      " 0.0  1.0"
     ]
    }
   ],
   "source": [
    "print(M[2])"
   ]
  },
  {
   "cell_type": "code",
   "execution_count": null,
   "metadata": {},
   "outputs": [
    {
     "data": {
      "text/plain": [
       "ITensor ord=2 (dim=2|id=733|\"Site,n=1\") (dim=2|id=733|\"Site,n=1\")'\n",
       "NDTensors.Dense{Float64, Vector{Float64}}"
      ]
     },
     "execution_count": 277,
     "metadata": {},
     "output_type": "execute_result"
    }
   ],
   "source": [
    "proj_0 = ITensor([1 0;0 0],idx[1],idx[1]')"
   ]
  },
  {
   "cell_type": "code",
   "execution_count": null,
   "metadata": {},
   "outputs": [
    {
     "name": "stdout",
     "output_type": "stream",
     "text": [
      "[1]\n"
     ]
    }
   ],
   "source": [
    "CT.apply_op!(M,proj_0)"
   ]
  },
  {
   "cell_type": "code",
   "execution_count": null,
   "metadata": {},
   "outputs": [
    {
     "name": "stdout",
     "output_type": "stream",
     "text": [
      "ITensor ord=2\n",
      "Dim 1: (dim=2|id=835|\"Link,n=1\")\n",
      "Dim 2: (dim=2|id=733|\"Site,n=1\")\n",
      "NDTensors.Dense{Float64, Vector{Float64}}\n",
      " 2×2\n",
      " 0.7071067811865475  0.0\n",
      " 0.0                 0.0"
     ]
    }
   ],
   "source": [
    "print(M[1])"
   ]
  },
  {
   "cell_type": "code",
   "execution_count": null,
   "metadata": {},
   "outputs": [
    {
     "name": "stdout",
     "output_type": "stream",
     "text": [
      "ITensor ord=3\n",
      "Dim 1: (dim=2|id=411|\"Site,n=2\")\n",
      "Dim 2: (dim=2|id=506|\"Link,n=2\")\n",
      "Dim 3: (dim=2|id=835|\"Link,n=1\")\n",
      "NDTensors.Dense{Float64, Vector{Float64}}\n",
      " 2×2×2\n",
      "[:, :, 1] =\n",
      " 1.0  0.0\n",
      " 0.0  0.0\n",
      "\n",
      "[:, :, 2] =\n",
      " 0.0  0.0\n",
      " 0.0  1.0"
     ]
    }
   ],
   "source": [
    "print(M[2])"
   ]
  },
  {
   "cell_type": "code",
   "execution_count": null,
   "metadata": {},
   "outputs": [
    {
     "data": {
      "text/plain": [
       "MPS\n",
       "[1] ((dim=2|id=733|\"Site,n=1\"), (dim=1|id=653|\"Link,n=1\"))\n",
       "[2] ((dim=2|id=411|\"Site,n=2\"), (dim=1|id=720|\"Link,n=2\"), (dim=1|id=653|\"Link,n=1\"))\n",
       "[3] ((dim=2|id=509|\"Site,n=3\"), (dim=1|id=246|\"Link,n=3\"), (dim=1|id=720|\"Link,n=2\"))\n",
       "[4] ((dim=2|id=312|\"Site,n=4\"), (dim=1|id=246|\"Link,n=3\"))\n"
      ]
     },
     "execution_count": 281,
     "metadata": {},
     "output_type": "execute_result"
    }
   ],
   "source": [
    "truncate!(M,cutoff=1e-10)"
   ]
  },
  {
   "cell_type": "code",
   "execution_count": null,
   "metadata": {},
   "outputs": [
    {
     "name": "stdout",
     "output_type": "stream",
     "text": [
      "ITensor ord=2\n",
      "Dim 1: (dim=2|id=733|\"Site,n=1\")\n",
      "Dim 2: (dim=1|id=653|\"Link,n=1\")\n",
      "NDTensors.Dense{Float64, Vector{Float64}}\n",
      " 2×1\n",
      " 0.7071067811865475\n",
      " 0.0"
     ]
    }
   ],
   "source": [
    "print(M[1])"
   ]
  },
  {
   "cell_type": "code",
   "execution_count": null,
   "metadata": {},
   "outputs": [
    {
     "data": {
      "text/plain": [
       "ITensor ord=4 (dim=2|id=662|\"Site,n=6\") (dim=2|id=336|\"Site,n=1\") (dim=2|id=662|\"Site,n=6\")' (dim=2|id=336|\"Site,n=1\")'\n",
       "NDTensors.Dense{ComplexF64, Vector{ComplexF64}}"
      ]
     },
     "execution_count": 197,
     "metadata": {},
     "output_type": "execute_result"
    }
   ],
   "source": [
    "# U2=ITensor(reshape(collect(1:16.),(2,2,2,2)),idx[2],idx[4],idx[2]',idx[4]')\n",
    "# U2=randomITensor(MersenneTwister(1),ComplexF64,idx[3],idx[4],idx[3]',idx[4]')\n",
    "U2=ITensor(reshape(CT.U(4,rng=MersenneTwister(1)),2,2,2,2),idx[6],idx[1],idx[6]',idx[1]')\n",
    "# U2_array=reshape(CT.U(4,rng=MersenneTwister(1)),2,2,2,2)\n",
    "# idx[4],idx[1],idx[4]',idx[1]'"
   ]
  },
  {
   "cell_type": "code",
   "execution_count": null,
   "metadata": {},
   "outputs": [
    {
     "data": {
      "text/plain": [
       "2×2×2×2×2×2 Array{ComplexF64, 6}:\n",
       "[:, :, 1, 1, 1, 1] =\n",
       " 0.135578-0.316341im  0.0+0.0im\n",
       " 0.267593-0.193374im  0.0+0.0im\n",
       "\n",
       "[:, :, 2, 1, 1, 1] =\n",
       " 0.0+0.0im  0.0+0.0im\n",
       " 0.0+0.0im  0.0+0.0im\n",
       "\n",
       "[:, :, 1, 2, 1, 1] =\n",
       " 0.0+0.0im  0.0+0.0im\n",
       " 0.0+0.0im  0.0+0.0im\n",
       "\n",
       "[:, :, 2, 2, 1, 1] =\n",
       " 0.0+0.0im  0.0+0.0im\n",
       " 0.0+0.0im  0.0+0.0im\n",
       "\n",
       "[:, :, 1, 1, 2, 1] =\n",
       " 0.0+0.0im  0.0+0.0im\n",
       " 0.0+0.0im  0.0+0.0im\n",
       "\n",
       "[:, :, 2, 1, 2, 1] =\n",
       " 0.0+0.0im  0.0+0.0im\n",
       " 0.0+0.0im  0.0+0.0im\n",
       "\n",
       "[:, :, 1, 2, 2, 1] =\n",
       " 0.0+0.0im  0.0+0.0im\n",
       " 0.0+0.0im  0.0+0.0im\n",
       "\n",
       "[:, :, 2, 2, 2, 1] =\n",
       " 0.0+0.0im  0.0+0.0im\n",
       " 0.0+0.0im  0.0+0.0im\n",
       "\n",
       "[:, :, 1, 1, 1, 2] =\n",
       " -0.187246-0.641857im  0.0+0.0im\n",
       "  0.224307+0.524588im  0.0+0.0im\n",
       "\n",
       "[:, :, 2, 1, 1, 2] =\n",
       " 0.0+0.0im  0.0+0.0im\n",
       " 0.0+0.0im  0.0+0.0im\n",
       "\n",
       "[:, :, 1, 2, 1, 2] =\n",
       " 0.0+0.0im  0.0+0.0im\n",
       " 0.0+0.0im  0.0+0.0im\n",
       "\n",
       "[:, :, 2, 2, 1, 2] =\n",
       " 0.0+0.0im  0.0+0.0im\n",
       " 0.0+0.0im  0.0+0.0im\n",
       "\n",
       "[:, :, 1, 1, 2, 2] =\n",
       " 0.0+0.0im  0.0+0.0im\n",
       " 0.0+0.0im  0.0+0.0im\n",
       "\n",
       "[:, :, 2, 1, 2, 2] =\n",
       " 0.0+0.0im  0.0+0.0im\n",
       " 0.0+0.0im  0.0+0.0im\n",
       "\n",
       "[:, :, 1, 2, 2, 2] =\n",
       " 0.0+0.0im  0.0+0.0im\n",
       " 0.0+0.0im  0.0+0.0im\n",
       "\n",
       "[:, :, 2, 2, 2, 2] =\n",
       " 0.0+0.0im  0.0+0.0im\n",
       " 0.0+0.0im  0.0+0.0im"
      ]
     },
     "execution_count": 198,
     "metadata": {},
     "output_type": "execute_result"
    }
   ],
   "source": [
    "Array(noprime!(U2*T),idx)"
   ]
  },
  {
   "cell_type": "code",
   "execution_count": null,
   "metadata": {},
   "outputs": [],
   "source": [
    "ITensors.op(::OpName\"U2\",::SiteType\"Qubit\")=U_array"
   ]
  },
  {
   "cell_type": "code",
   "execution_count": null,
   "metadata": {},
   "outputs": [
    {
     "data": {
      "text/plain": [
       "sum(\n",
       "  1.0 U2(2, 3)\n",
       ")"
      ]
     },
     "execution_count": 403,
     "metadata": {},
     "output_type": "execute_result"
    }
   ],
   "source": [
    "os=OpSum()\n",
    "os+=\"U2\",2,3"
   ]
  },
  {
   "cell_type": "code",
   "execution_count": null,
   "metadata": {},
   "outputs": [
    {
     "ename": "LoadError",
     "evalue": "ArgumentError: Tuple contains 2 elements, must contain exactly 1 element",
     "output_type": "error",
     "traceback": [
      "ArgumentError: Tuple contains 2 elements, must contain exactly 1 element",
      "",
      "Stacktrace:",
      " [1] only(x::Tuple{Int64, Int64})",
      "   @ Base.Iterators ./iterators.jl:1537",
      " [2] site(o::Op)",
      "   @ ITensors.Ops ~/.julia/packages/ITensors/UHeB1/src/Ops/Ops.jl:67",
      " [3] sorteachterm(os::Sum{Scaled{ComplexF64, Prod{Op}}}, sites::Vector{Index{Int64}})",
      "   @ ITensors ~/.julia/packages/ITensors/UHeB1/src/physics/autompo/opsum_to_mpo_generic.jl:192",
      " [4] MPO(os::Sum{Scaled{ComplexF64, Prod{Op}}}, sites::Vector{Index{Int64}}; splitblocks::Bool, kwargs::@Kwargs{})",
      "   @ ITensors ~/.julia/packages/ITensors/UHeB1/src/physics/autompo/opsum_to_mpo_generic.jl:296",
      " [5] MPO(os::Sum{Scaled{ComplexF64, Prod{Op}}}, sites::Vector{Index{Int64}})",
      "   @ ITensors ~/.julia/packages/ITensors/UHeB1/src/physics/autompo/opsum_to_mpo_generic.jl:292",
      " [6] top-level scope",
      "   @ In[406]:1"
     ]
    }
   ],
   "source": [
    "MPO(os,idx)"
   ]
  },
  {
   "cell_type": "code",
   "execution_count": null,
   "metadata": {},
   "outputs": [
    {
     "data": {
      "text/plain": [
       "LinearAlgebra.SVD{ComplexF64, Float64, Matrix{ComplexF64}, Vector{Float64}}\n",
       "U factor:\n",
       "4×4 Matrix{ComplexF64}:\n",
       " 0.104526+0.212572im   0.757525-0.608312im   …   3.85223e-17+9.0885e-17im\n",
       "      0.0+0.0im             0.0+0.0im               0.179291-0.983796im\n",
       " 0.181988+0.954341im  -0.217436+0.0939914im     -4.50434e-17-2.35156e-17im\n",
       "      0.0+0.0im             0.0+0.0im                    0.0+0.0im\n",
       "singular values:\n",
       "4-element Vector{Float64}:\n",
       " 0.8983322669889429\n",
       " 0.43931667176025396\n",
       " 0.0\n",
       " 0.0\n",
       "Vt factor:\n",
       "4×4 Matrix{ComplexF64}:\n",
       " -0.778889+0.0im  0.588114-0.217839im  -0.0+0.0im  -0.0+0.0im\n",
       "  0.627162+0.0im  0.730394-0.27054im   -0.0+0.0im  -0.0+0.0im\n",
       "       0.0+0.0im       0.0+0.0im        0.0+0.0im   1.0+0.0im\n",
       "       0.0+0.0im       0.0+0.0im        1.0+0.0im   0.0+0.0im"
      ]
     },
     "execution_count": 368,
     "metadata": {},
     "output_type": "execute_result"
    }
   ],
   "source": [
    "_,SS=svd(reshape(Array(noprime!(T*U2),idx),4,4))"
   ]
  },
  {
   "cell_type": "code",
   "execution_count": null,
   "metadata": {},
   "outputs": [
    {
     "data": {
      "text/plain": [
       "4-element Vector{Float64}:\n",
       " 0.8983322669889429\n",
       " 0.43931667176025396\n",
       " 0.0\n",
       " 0.0"
      ]
     },
     "execution_count": 369,
     "metadata": {},
     "output_type": "execute_result"
    }
   ],
   "source": [
    "SS"
   ]
  },
  {
   "cell_type": "code",
   "execution_count": null,
   "metadata": {},
   "outputs": [
    {
     "data": {
      "text/plain": [
       "ITensor ord=4 (dim=2|id=733|\"Site,n=1\") (dim=2|id=411|\"Site,n=2\") (dim=2|id=509|\"Site,n=3\") (dim=2|id=312|\"Site,n=4\")\n",
       "NDTensors.EmptyStorage{NDTensors.EmptyNumber, NDTensors.Dense{NDTensors.EmptyNumber, Vector{NDTensors.EmptyNumber}}}"
      ]
     },
     "execution_count": 419,
     "metadata": {},
     "output_type": "execute_result"
    }
   ],
   "source": [
    "T=emptyITensor(idx,)\n",
    "# T[1,1]=1/sqrt(2)\n",
    "# T[2,2]=1im/sqrt(2)\n",
    "# T=ITensor([1 0; 0 im]/sqrt(2),idx)"
   ]
  },
  {
   "cell_type": "code",
   "execution_count": null,
   "metadata": {},
   "outputs": [
    {
     "data": {
      "text/plain": [
       "1"
      ]
     },
     "execution_count": 425,
     "metadata": {},
     "output_type": "execute_result"
    }
   ],
   "source": [
    "T[[1,2]...,[1,2]...]=1"
   ]
  },
  {
   "cell_type": "code",
   "execution_count": null,
   "metadata": {},
   "outputs": [
    {
     "data": {
      "text/plain": [
       "MPS\n",
       "[1] ((dim=2|id=626|\"Site,n=1\"), (dim=2|id=978|\"Link,n=1\"))\n",
       "[2] ((dim=2|id=978|\"Link,n=1\"), (dim=2|id=871|\"Site,n=2\"))\n"
      ]
     },
     "execution_count": 49,
     "metadata": {},
     "output_type": "execute_result"
    }
   ],
   "source": [
    "mm=MPS(T,idx)"
   ]
  },
  {
   "cell_type": "code",
   "execution_count": null,
   "metadata": {},
   "outputs": [
    {
     "name": "stdout",
     "output_type": "stream",
     "text": [
      "ITensor ord=2\n",
      "Dim 1: (dim=2|id=978|\"Link,n=1\")\n",
      "Dim 2: (dim=2|id=871|\"Site,n=2\")\n",
      "NDTensors.Dense{ComplexF64, Vector{ComplexF64}}\n",
      " 2×2\n",
      " 0.7071067811865475 + 0.0im                  0.0 + 0.0im\n",
      "                0.0 + 0.0im  -0.7071067811865475 + 0.0im0.7071067811865475 + 0.0im                  0.0 + 0.0im\n",
      "                0.0 + 0.0im  -0.7071067811865475 + 0.0im"
     ]
    }
   ],
   "source": [
    "print(mm[2])"
   ]
  },
  {
   "cell_type": "code",
   "execution_count": null,
   "metadata": {},
   "outputs": [
    {
     "name": "stdout",
     "output_type": "stream",
     "text": [
      "ITensor ord=2\n",
      "Dim 1: (dim=2|id=626|\"Site,n=1\")\n",
      "Dim 2: (dim=2|id=978|\"Link,n=1\")\n",
      "NDTensors.Dense{ComplexF64, Vector{ComplexF64}}\n",
      " 2×2\n",
      " 1.0 + 0.0im  0.0 + 0.0im\n",
      " 0.0 + 0.0im  0.0 - 1.0im"
     ]
    }
   ],
   "source": [
    "print(mm[1])"
   ]
  },
  {
   "cell_type": "code",
   "execution_count": null,
   "metadata": {},
   "outputs": [
    {
     "name": "stdout",
     "output_type": "stream",
     "text": [
      "ITensor ord=2\n",
      "Dim 1: (dim=2|id=108|\"Link,u\")\n",
      "Dim 2: (dim=2|id=796|\"Link,v\")\n",
      "NDTensors.Diag{Float64, Vector{Float64}}\n",
      " 2×2\n",
      " 0.7071067811865475  0.0\n",
      " 0.0                 0.7071067811865475"
     ]
    },
    {
     "data": {
      "text/plain": [
       "0.6931471805599454"
      ]
     },
     "execution_count": 55,
     "metadata": {},
     "output_type": "execute_result"
    }
   ],
   "source": [
    "CT.von_Neumann_entropy(mm,1)"
   ]
  },
  {
   "cell_type": "code",
   "execution_count": null,
   "metadata": {},
   "outputs": [
    {
     "data": {
      "text/plain": [
       "-1.7542505415619625"
      ]
     },
     "execution_count": 268,
     "metadata": {},
     "output_type": "execute_result"
    }
   ],
   "source": [
    "T[1,1,2,2]"
   ]
  },
  {
   "cell_type": "code",
   "execution_count": null,
   "metadata": {},
   "outputs": [
    {
     "data": {
      "text/plain": [
       "2×2 Matrix{Float64}:\n",
       " 1.0  3.0\n",
       " 2.0  4.0"
      ]
     },
     "execution_count": 32,
     "metadata": {},
     "output_type": "execute_result"
    }
   ],
   "source": [
    "U=reshape(collect(1:4.),(2,2))"
   ]
  },
  {
   "cell_type": "code",
   "execution_count": null,
   "metadata": {},
   "outputs": [
    {
     "data": {
      "text/plain": [
       "ITensor ord=2 (dim=2|id=159|\"Site,n=1\")' (dim=2|id=159|\"Site,n=1\")\n",
       "NDTensors.Dense{Float64, Vector{Float64}}"
      ]
     },
     "execution_count": 71,
     "metadata": {},
     "output_type": "execute_result"
    }
   ],
   "source": [
    "U=ITensor([1 2; 3 4],idx[1]',idx[1])"
   ]
  },
  {
   "cell_type": "code",
   "execution_count": null,
   "metadata": {},
   "outputs": [
    {
     "data": {
      "text/plain": [
       "MPS\n",
       "[1] ((dim=2|id=984|\"Site,n=1\"), (dim=2|id=56|\"Link,n=1\"))\n",
       "[2] ((dim=2|id=56|\"Link,n=1\"), (dim=2|id=984|\"Site,n=1\")')\n"
      ]
     },
     "execution_count": 33,
     "metadata": {},
     "output_type": "execute_result"
    }
   ],
   "source": [
    "U_mps=MPS(U,[idx[1],idx'[1]];cutoff=1e-8,maxdim=10)"
   ]
  },
  {
   "cell_type": "code",
   "execution_count": null,
   "metadata": {},
   "outputs": [
    {
     "data": {
      "text/plain": [
       "MPS\n",
       "[1] ((dim=2|id=984|\"Site,n=1\"), (dim=2|id=56|\"Link,n=1\"))\n",
       "[2] ((dim=2|id=56|\"Link,n=1\"), (dim=2|id=984|\"Site,n=1\")')\n"
      ]
     },
     "execution_count": 58,
     "metadata": {},
     "output_type": "execute_result"
    }
   ],
   "source": [
    "U_mps"
   ]
  },
  {
   "cell_type": "code",
   "execution_count": null,
   "metadata": {},
   "outputs": [],
   "source": []
  },
  {
   "cell_type": "code",
   "execution_count": null,
   "metadata": {},
   "outputs": [
    {
     "name": "stdout",
     "output_type": "stream",
     "text": [
      "ITensor ord=2\n",
      "Dim 1: (dim=2|id=984|\"Site,n=1\")\n",
      "Dim 2: (dim=2|id=984|\"Site,n=1\")'\n",
      "NDTensors.Dense{Float64, Vector{Float64}}\n",
      " 2×2\n",
      " 1.0  2.0\n",
      " 3.0  4.0"
     ]
    }
   ],
   "source": [
    "print(U)"
   ]
  },
  {
   "cell_type": "code",
   "execution_count": null,
   "metadata": {},
   "outputs": [
    {
     "data": {
      "text/plain": [
       "MPS\n",
       "[1] ((dim=2|id=159|\"Site,n=1\"), (dim=1|id=756|\"Link,n=1\"))\n",
       "[2] ((dim=1|id=756|\"Link,n=1\"), (dim=2|id=820|\"Site,n=2\"), (dim=1|id=859|\"Link,n=2\"))\n",
       "[3] ((dim=1|id=859|\"Link,n=2\"), (dim=2|id=944|\"Site,n=3\"), (dim=1|id=788|\"Link,n=3\"))\n",
       "[4] ((dim=1|id=788|\"Link,n=3\"), (dim=2|id=560|\"Site,n=4\"))\n"
      ]
     },
     "execution_count": 72,
     "metadata": {},
     "output_type": "execute_result"
    }
   ],
   "source": [
    "M"
   ]
  },
  {
   "cell_type": "code",
   "execution_count": null,
   "metadata": {},
   "outputs": [
    {
     "data": {
      "text/plain": [
       "ITensor ord=2 (dim=2|id=159|\"Site,n=1\")' (dim=1|id=756|\"Link,n=1\")\n",
       "NDTensors.Dense{Float64, Vector{Float64}}"
      ]
     },
     "execution_count": 73,
     "metadata": {},
     "output_type": "execute_result"
    }
   ],
   "source": [
    "M_=U*M[1]\n",
    "# noprime"
   ]
  },
  {
   "cell_type": "code",
   "execution_count": null,
   "metadata": {},
   "outputs": [
    {
     "name": "stdout",
     "output_type": "stream",
     "text": [
      "ITensor ord=2\n",
      "Dim 1: (dim=2|id=159|\"Site,n=1\")'\n",
      "Dim 2: (dim=1|id=756|\"Link,n=1\")\n",
      "NDTensors.Dense{Float64, Vector{Float64}}\n",
      " 2×1\n",
      " -1.0\n",
      " -3.0"
     ]
    }
   ],
   "source": [
    "print(M_)"
   ]
  },
  {
   "cell_type": "code",
   "execution_count": null,
   "metadata": {},
   "outputs": [
    {
     "data": {
      "text/plain": [
       "ITensor ord=2 (dim=2|id=159|\"Site,n=1\") (dim=1|id=756|\"Link,n=1\")\n",
       "NDTensors.Dense{Float64, Vector{Float64}}"
      ]
     },
     "execution_count": 75,
     "metadata": {},
     "output_type": "execute_result"
    }
   ],
   "source": [
    "noprime!(M_)"
   ]
  },
  {
   "cell_type": "code",
   "execution_count": null,
   "metadata": {},
   "outputs": [
    {
     "data": {
      "text/plain": [
       "ITensor ord=2 (dim=2|id=159|\"Site,n=1\") (dim=1|id=756|\"Link,n=1\")\n",
       "NDTensors.Dense{Float64, Vector{Float64}}"
      ]
     },
     "execution_count": 76,
     "metadata": {},
     "output_type": "execute_result"
    }
   ],
   "source": [
    "M[1]=M_"
   ]
  },
  {
   "cell_type": "code",
   "execution_count": null,
   "metadata": {},
   "outputs": [
    {
     "name": "stdout",
     "output_type": "stream",
     "text": [
      "MPS\n",
      "[1] ((dim=2|id=159|\"Site,n=1\"), (dim=1|id=756|\"Link,n=1\"))\n",
      "[2] ((dim=1|id=756|\"Link,n=1\"), (dim=2|id=820|\"Site,n=2\"), (dim=1|id=859|\"Link,n=2\"))\n",
      "[3] ((dim=1|id=859|\"Link,n=2\"), (dim=2|id=944|\"Site,n=3\"), (dim=1|id=788|\"Link,n=3\"))\n",
      "[4] ((dim=1|id=788|\"Link,n=3\"), (dim=2|id=560|\"Site,n=4\"))\n"
     ]
    }
   ],
   "source": [
    "print(M)"
   ]
  },
  {
   "cell_type": "code",
   "execution_count": null,
   "metadata": {},
   "outputs": [],
   "source": []
  },
  {
   "cell_type": "code",
   "execution_count": null,
   "metadata": {},
   "outputs": [
    {
     "data": {
      "text/plain": [
       "tensor_to_vector (generic function with 1 method)"
      ]
     },
     "execution_count": 286,
     "metadata": {},
     "output_type": "execute_result"
    }
   ],
   "source": [
    "function tensor_to_vector(T; column_first=true)\n",
    "    T=array(T)\n",
    "    if column_first\n",
    "        return vec(T)\n",
    "    else\n",
    "        return vec(permutedims(T, reverse(1:ndims(T))))\n",
    "    end\n",
    "end"
   ]
  },
  {
   "cell_type": "code",
   "execution_count": null,
   "metadata": {},
   "outputs": [
    {
     "data": {
      "text/plain": [
       "ITensor ord=1 (dim=16|id=560|\"CMB,Link\")\n",
       "NDTensors.Dense{Float64, Vector{Float64}}"
      ]
     },
     "execution_count": 310,
     "metadata": {},
     "output_type": "execute_result"
    }
   ],
   "source": [
    "T * C"
   ]
  },
  {
   "cell_type": "code",
   "execution_count": null,
   "metadata": {},
   "outputs": [
    {
     "data": {
      "text/plain": [
       "16-element Vector{Float64}:\n",
       "  2.626454673344112\n",
       "  0.6318633586241813\n",
       " -0.9146966779403515\n",
       " -0.6494897789717653\n",
       " -0.7905550510036554\n",
       " -0.2607660031611783\n",
       " -0.5696859455477894\n",
       " -0.7951319617634217\n",
       "  1.2206202922741127\n",
       "  0.13144861731863627\n",
       "  0.6343338110762631\n",
       "  0.7816893931786344\n",
       " -1.7542505415619636\n",
       " -0.8835602177260125\n",
       " -1.2210472457017596\n",
       " -1.5075951948789563"
      ]
     },
     "execution_count": 298,
     "metadata": {},
     "output_type": "execute_result"
    }
   ],
   "source": [
    "M_vec=mps_to_tensor(M;vector=true,)"
   ]
  },
  {
   "cell_type": "code",
   "execution_count": null,
   "metadata": {},
   "outputs": [
    {
     "name": "stdout",
     "output_type": "stream",
     "text": [
      "ITensor ord=4\n",
      "Dim 1: (dim=2|id=159|\"Site,n=1\")\n",
      "Dim 2: (dim=2|id=820|\"Site,n=2\")\n",
      "Dim 3: (dim=2|id=944|\"Site,n=3\")\n",
      "Dim 4: (dim=2|id=560|\"Site,n=4\")\n",
      "NDTensors.Dense{Float64, Vector{Float64}}\n",
      " 2×2×2×2\n",
      "[:, :, 1, 1] =\n",
      " 1.0  0.0\n",
      " 3.0  0.0\n",
      "\n",
      "[:, :, 2, 1] =\n",
      " 0.0  0.0\n",
      " 0.0  0.0\n",
      "\n",
      "[:, :, 1, 2] =\n",
      " 0.0  0.0\n",
      " 0.0  0.0\n",
      "\n",
      "[:, :, 2, 2] =\n",
      " 0.0  0.0\n",
      " 0.0  0.0"
     ]
    }
   ],
   "source": [
    "print(M_tensor)"
   ]
  },
  {
   "cell_type": "code",
   "execution_count": null,
   "metadata": {},
   "outputs": [
    {
     "data": {
      "text/plain": [
       "ITensor ord=4 (dim=2|id=159|\"Site,n=1\") (dim=2|id=820|\"Site,n=2\") (dim=2|id=944|\"Site,n=3\") (dim=2|id=560|\"Site,n=4\")\n",
       "NDTensors.Dense{Float64, Vector{Float64}}"
      ]
     },
     "execution_count": 90,
     "metadata": {},
     "output_type": "execute_result"
    }
   ],
   "source": [
    "M_tensor"
   ]
  },
  {
   "cell_type": "code",
   "execution_count": null,
   "metadata": {},
   "outputs": [
    {
     "data": {
      "text/plain": [
       "16-element Vector{Float64}:\n",
       " 1.0\n",
       " 3.0\n",
       " 0.0\n",
       " 0.0\n",
       " 0.0\n",
       " 0.0\n",
       " 0.0\n",
       " 0.0\n",
       " 0.0\n",
       " 0.0\n",
       " 0.0\n",
       " 0.0\n",
       " 0.0\n",
       " 0.0\n",
       " 0.0\n",
       " 0.0"
      ]
     },
     "execution_count": 125,
     "metadata": {},
     "output_type": "execute_result"
    }
   ],
   "source": [
    "vec(array(M_tensor,idx))"
   ]
  },
  {
   "cell_type": "code",
   "execution_count": null,
   "metadata": {},
   "outputs": [
    {
     "data": {
      "text/plain": [
       "2×2 Matrix{Float64}:\n",
       " 1.0  2.0\n",
       " 3.0  4.0"
      ]
     },
     "execution_count": 114,
     "metadata": {},
     "output_type": "execute_result"
    }
   ],
   "source": [
    "array(U)"
   ]
  },
  {
   "cell_type": "code",
   "execution_count": null,
   "metadata": {},
   "outputs": [
    {
     "data": {
      "text/plain": [
       "2×2×2×2 Array{Float64, 4}:\n",
       "[:, :, 1, 1] =\n",
       " 1.0  0.0\n",
       " 3.0  0.0\n",
       "\n",
       "[:, :, 2, 1] =\n",
       " 0.0  0.0\n",
       " 0.0  0.0\n",
       "\n",
       "[:, :, 1, 2] =\n",
       " 0.0  0.0\n",
       " 0.0  0.0\n",
       "\n",
       "[:, :, 2, 2] =\n",
       " 0.0  0.0\n",
       " 0.0  0.0"
      ]
     },
     "execution_count": 107,
     "metadata": {},
     "output_type": "execute_result"
    }
   ],
   "source": [
    "array(M_tensor)"
   ]
  },
  {
   "cell_type": "code",
   "execution_count": null,
   "metadata": {},
   "outputs": [],
   "source": [
    "(M_tensor)"
   ]
  },
  {
   "cell_type": "code",
   "execution_count": null,
   "metadata": {},
   "outputs": [
    {
     "data": {
      "text/plain": [
       "1.0000000000000002"
      ]
     },
     "execution_count": 23,
     "metadata": {},
     "output_type": "execute_result"
    }
   ],
   "source": [
    "M_tensor[1,1,1,1]^2+M_tensor[2,1,1,1]^2"
   ]
  },
  {
   "cell_type": "code",
   "execution_count": null,
   "metadata": {},
   "outputs": [
    {
     "name": "stdout",
     "output_type": "stream",
     "text": [
      "ITensor ord=4\n",
      "Dim 1: (dim=2|id=433|\"Link,n=1\")\n",
      "Dim 2: (dim=2|id=471|\"Site,n=2\")\n",
      "Dim 3: (dim=2|id=136|\"Site,n=3\")\n",
      "Dim 4: (dim=2|id=908|\"Site,n=4\")\n",
      "NDTensors.Dense{Float64, Vector{Float64}}\n",
      " 2×2×2×2\n",
      "[:, :, 1, 1] =\n",
      "  0.5760484367663208  0.0\n",
      " -0.8174155604703633  0.0\n",
      "\n",
      "[:, :, 2, 1] =\n",
      " 0.0  0.0\n",
      " 0.0  0.0\n",
      "\n",
      "[:, :, 1, 2] =\n",
      " 0.0  0.0\n",
      " 0.0  0.0\n",
      "\n",
      "[:, :, 2, 2] =\n",
      " 0.0  0.0\n",
      " 0.0  0.0"
     ]
    }
   ],
   "source": [
    "print(M_tensor)"
   ]
  },
  {
   "cell_type": "code",
   "execution_count": null,
   "metadata": {},
   "outputs": [
    {
     "data": {
      "text/plain": [
       "ITensor ord=4 (dim=2|id=457|\"Site,n=2\") (dim=2|id=506|\"Site,n=3\") (dim=2|id=457|\"Site,n=2\")' (dim=2|id=506|\"Site,n=3\")'\n",
       "NDTensors.Dense{Float64, Vector{Float64}}"
      ]
     },
     "execution_count": 255,
     "metadata": {},
     "output_type": "execute_result"
    }
   ],
   "source": [
    "U2=ITensor(reshape(collect(1:16.),(2,2,2,2)),idx[2],idx[3],idx[2]',idx[3]')"
   ]
  },
  {
   "cell_type": "code",
   "execution_count": null,
   "metadata": {},
   "outputs": [
    {
     "data": {
      "text/plain": [
       "ITensor ord=4 (dim=2|id=59|\"Site,n=3\") (dim=2|id=629|\"Site,n=4\") (dim=2|id=59|\"Site,n=3\")' (dim=2|id=629|\"Site,n=4\")'\n",
       "NDTensors.Dense{Float64, Vector{Float64}}"
      ]
     },
     "execution_count": 295,
     "metadata": {},
     "output_type": "execute_result"
    }
   ],
   "source": [
    "I2=ITensor(reshape(fill(1,16),(2,2,2,2)),idx[3],idx[4],idx[3]',idx[4]')"
   ]
  },
  {
   "cell_type": "code",
   "execution_count": null,
   "metadata": {},
   "outputs": [
    {
     "data": {
      "text/plain": [
       "ITensor ord=8 (dim=2|id=461|\"Site,n=1\") (dim=2|id=117|\"Site,n=2\") (dim=2|id=461|\"Site,n=1\")' (dim=2|id=117|\"Site,n=2\")' (dim=2|id=59|\"Site,n=3\") (dim=2|id=629|\"Site,n=4\") (dim=2|id=59|\"Site,n=3\")' (dim=2|id=629|\"Site,n=4\")'\n",
       "NDTensors.Dense{Float64, Vector{Float64}}"
      ]
     },
     "execution_count": 297,
     "metadata": {},
     "output_type": "execute_result"
    }
   ],
   "source": [
    "U2*I2"
   ]
  },
  {
   "cell_type": "code",
   "execution_count": null,
   "metadata": {},
   "outputs": [
    {
     "name": "stdout",
     "output_type": "stream",
     "text": [
      "ITensor ord=4\n",
      "Dim 1: (dim=2|id=461|\"Site,n=1\")\n",
      "Dim 2: (dim=2|id=117|\"Site,n=2\")\n",
      "Dim 3: (dim=2|id=461|\"Site,n=1\")'\n",
      "Dim 4: (dim=2|id=117|\"Site,n=2\")'\n",
      "NDTensors.Dense{Float64, Vector{Float64}}\n",
      " 2×2×2×2\n",
      "[:, :, 1, 1] =\n",
      " 1.0  3.0\n",
      " 2.0  4.0\n",
      "\n",
      "[:, :, 2, 1] =\n",
      " 5.0  7.0\n",
      " 6.0  8.0\n",
      "\n",
      "[:, :, 1, 2] =\n",
      "  9.0  11.0\n",
      " 10.0  12.0\n",
      "\n",
      "[:, :, 2, 2] =\n",
      " 13.0  15.0\n",
      " 14.0  16.0Vector{Float64}}\n",
      " 2×2×2×2\n",
      "[:, :, 1, 1] =\n",
      " 1.0  3.0\n",
      " 2.0  4.0\n",
      "\n",
      "[:, :, 2, 1] =\n",
      " 5.0  7.0\n",
      " 6.0  8.0\n",
      "\n",
      "[:, :, 1, 2] =\n",
      "  9.0  11.0\n",
      " 10.0  12.0\n",
      "\n",
      "[:, :, 2, 2] =\n",
      " 13.0  15.0\n",
      " 14.0  16.0"
     ]
    }
   ],
   "source": [
    "print(U2)"
   ]
  },
  {
   "cell_type": "code",
   "execution_count": null,
   "metadata": {},
   "outputs": [
    {
     "data": {
      "text/plain": [
       "ITensor ord=5 (dim=16|id=560|\"CMB,Link\") (dim=2|id=461|\"Site,n=1\") (dim=2|id=117|\"Site,n=2\") (dim=2|id=59|\"Site,n=3\") (dim=2|id=629|\"Site,n=4\")\n",
       "NDTensors.Combiner"
      ]
     },
     "execution_count": 299,
     "metadata": {},
     "output_type": "execute_result"
    }
   ],
   "source": [
    "C= combiner(idx[1],idx[2],idx[3],idx[4])"
   ]
  },
  {
   "cell_type": "code",
   "execution_count": null,
   "metadata": {},
   "outputs": [
    {
     "data": {
      "text/plain": [
       "ITensor ord=5 (dim=16|id=560|\"CMB,Link\")' (dim=2|id=461|\"Site,n=1\")' (dim=2|id=117|\"Site,n=2\")' (dim=2|id=59|\"Site,n=3\")' (dim=2|id=629|\"Site,n=4\")'\n",
       "NDTensors.Combiner"
      ]
     },
     "execution_count": 300,
     "metadata": {},
     "output_type": "execute_result"
    }
   ],
   "source": [
    "C'"
   ]
  },
  {
   "cell_type": "code",
   "execution_count": null,
   "metadata": {},
   "outputs": [
    {
     "data": {
      "text/plain": [
       "ITensor ord=2 (dim=16|id=560|\"CMB,Link\") (dim=16|id=560|\"CMB,Link\")'\n",
       "NDTensors.Dense{Float64, Vector{Float64}}"
      ]
     },
     "execution_count": 301,
     "metadata": {},
     "output_type": "execute_result"
    }
   ],
   "source": [
    "UT=C*(U2*I2)*C'"
   ]
  },
  {
   "cell_type": "code",
   "execution_count": null,
   "metadata": {},
   "outputs": [],
   "source": [
    "array(UT)"
   ]
  },
  {
   "cell_type": "code",
   "execution_count": null,
   "metadata": {},
   "outputs": [
    {
     "data": {
      "text/plain": [
       "ITensor ord=1 (dim=16|id=560|\"CMB,Link\")'\n",
       "NDTensors.Dense{Float64, Vector{Float64}}"
      ]
     },
     "execution_count": 313,
     "metadata": {},
     "output_type": "execute_result"
    }
   ],
   "source": [
    "vv=T * C * UT "
   ]
  },
  {
   "cell_type": "code",
   "execution_count": null,
   "metadata": {},
   "outputs": [
    {
     "data": {
      "text/plain": [
       "16-element Vector{Float64}:\n",
       " -14.355157460919086\n",
       " -27.63663135068273\n",
       " -40.918105240446366\n",
       " -54.199579130210026\n",
       " -14.355157460919086\n",
       " -27.63663135068273\n",
       " -40.918105240446366\n",
       " -54.199579130210026\n",
       " -14.355157460919086\n",
       " -27.63663135068273\n",
       " -40.918105240446366\n",
       " -54.199579130210026\n",
       " -14.355157460919086\n",
       " -27.63663135068273\n",
       " -40.918105240446366\n",
       " -54.199579130210026"
      ]
     },
     "execution_count": 314,
     "metadata": {},
     "output_type": "execute_result"
    }
   ],
   "source": [
    "array(vv)"
   ]
  },
  {
   "cell_type": "code",
   "execution_count": null,
   "metadata": {},
   "outputs": [
    {
     "name": "stdout",
     "output_type": "stream",
     "text": [
      "ITensor ord=2\n",
      "Dim 1: (dim=4|id=689|\"CMB,Link\")\n",
      "Dim 2: (dim=4|id=689|\"CMB,Link\")'\n",
      "NDTensors.Dense{Float64, Vector{Float64}}\n",
      " 4×4\n",
      " 1.0  5.0   9.0  13.0\n",
      " 2.0  6.0  10.0  14.0\n",
      " 3.0  7.0  11.0  15.0\n",
      " 4.0  8.0  12.0  16.0"
     ]
    }
   ],
   "source": [
    "print(UT)"
   ]
  },
  {
   "cell_type": "code",
   "execution_count": null,
   "metadata": {},
   "outputs": [
    {
     "data": {
      "text/plain": [
       "ITensor"
      ]
     },
     "execution_count": 95,
     "metadata": {},
     "output_type": "execute_result"
    }
   ],
   "source": [
    "typeof(U2)"
   ]
  },
  {
   "cell_type": "code",
   "execution_count": null,
   "metadata": {},
   "outputs": [
    {
     "data": {
      "text/plain": [
       "MPS\n",
       "[1] ((dim=2|id=944|\"Site,n=1\"), (dim=2|id=546|\"Link,n=1\"))\n",
       "[2] ((dim=2|id=546|\"Link,n=1\"), (dim=2|id=457|\"Site,n=2\"), (dim=4|id=729|\"Link,n=2\"))\n",
       "[3] ((dim=2|id=506|\"Site,n=3\"), (dim=2|id=767|\"Link,n=3\"), (dim=4|id=729|\"Link,n=2\"))\n",
       "[4] ((dim=2|id=108|\"Site,n=4\"), (dim=2|id=767|\"Link,n=3\"))\n"
      ]
     },
     "execution_count": 256,
     "metadata": {},
     "output_type": "execute_result"
    }
   ],
   "source": [
    "orthogonalize!(M,2)"
   ]
  },
  {
   "cell_type": "code",
   "execution_count": null,
   "metadata": {},
   "outputs": [],
   "source": [
    "using ITensors"
   ]
  },
  {
   "cell_type": "code",
   "execution_count": null,
   "metadata": {},
   "outputs": [
    {
     "data": {
      "text/plain": [
       "ITensor ord=4 (dim=2|id=301|\"Site,n=2\") (dim=2|id=18|\"Site,n=3\") (dim=2|id=301|\"Site,n=2\")' (dim=2|id=18|\"Site,n=3\")'\n",
       "NDTensors.Dense{Float64, Vector{Float64}}"
      ]
     },
     "execution_count": 251,
     "metadata": {},
     "output_type": "execute_result"
    }
   ],
   "source": [
    "U2"
   ]
  },
  {
   "cell_type": "code",
   "execution_count": null,
   "metadata": {},
   "outputs": [
    {
     "data": {
      "text/plain": [
       "ITensor ord=2 (dim=2|id=247|\"Site,n=1\") (dim=2|id=831|\"Link,n=1\")\n",
       "NDTensors.Dense{Float64, Vector{Float64}}"
      ]
     },
     "execution_count": 246,
     "metadata": {},
     "output_type": "execute_result"
    }
   ],
   "source": [
    "M[1]"
   ]
  },
  {
   "cell_type": "code",
   "execution_count": null,
   "metadata": {},
   "outputs": [
    {
     "data": {
      "text/plain": [
       "MPS\n",
       "[1] ((dim=2|id=944|\"Site,n=1\"), (dim=2|id=546|\"Link,n=1\"))\n",
       "[2] ((dim=2|id=546|\"Link,n=1\"), (dim=2|id=457|\"Site,n=2\"), (dim=4|id=729|\"Link,n=2\"))\n",
       "[3] ((dim=2|id=506|\"Site,n=3\"), (dim=2|id=767|\"Link,n=3\"), (dim=4|id=729|\"Link,n=2\"))\n",
       "[4] ((dim=2|id=108|\"Site,n=4\"), (dim=2|id=767|\"Link,n=3\"))\n"
      ]
     },
     "execution_count": 257,
     "metadata": {},
     "output_type": "execute_result"
    }
   ],
   "source": [
    "M"
   ]
  },
  {
   "cell_type": "code",
   "execution_count": null,
   "metadata": {},
   "outputs": [
    {
     "data": {
      "text/plain": [
       "ITensor ord=4 (dim=2|id=546|\"Link,n=1\") (dim=2|id=457|\"Site,n=2\") (dim=2|id=506|\"Site,n=3\") (dim=2|id=767|\"Link,n=3\")\n",
       "NDTensors.Dense{Float64, Vector{Float64}}"
      ]
     },
     "execution_count": 259,
     "metadata": {},
     "output_type": "execute_result"
    }
   ],
   "source": [
    "M[2]*M[3]"
   ]
  },
  {
   "cell_type": "code",
   "execution_count": null,
   "metadata": {},
   "outputs": [
    {
     "data": {
      "text/plain": [
       "ITensor ord=4 (dim=2|id=457|\"Site,n=2\") (dim=2|id=506|\"Site,n=3\") (dim=2|id=457|\"Site,n=2\")' (dim=2|id=506|\"Site,n=3\")'\n",
       "NDTensors.Dense{Float64, Vector{Float64}}"
      ]
     },
     "execution_count": 261,
     "metadata": {},
     "output_type": "execute_result"
    }
   ],
   "source": [
    "U2"
   ]
  },
  {
   "cell_type": "code",
   "execution_count": null,
   "metadata": {},
   "outputs": [
    {
     "data": {
      "text/plain": [
       "ITensor ord=4 (dim=2|id=546|\"Link,n=1\") (dim=2|id=767|\"Link,n=3\") (dim=2|id=457|\"Site,n=2\")' (dim=2|id=506|\"Site,n=3\")'\n",
       "NDTensors.Dense{Float64, Vector{Float64}}"
      ]
     },
     "execution_count": 262,
     "metadata": {},
     "output_type": "execute_result"
    }
   ],
   "source": [
    "M12=(M[2]*M[3])*U2"
   ]
  },
  {
   "cell_type": "code",
   "execution_count": null,
   "metadata": {},
   "outputs": [
    {
     "data": {
      "text/plain": [
       "ITensor ord=3 (dim=4|id=982|\"Link,n=2\") (dim=2|id=461|\"Site,n=1\") (dim=2|id=117|\"Site,n=2\")\n",
       "NDTensors.Dense{Float64, Vector{Float64}}"
      ]
     },
     "execution_count": 318,
     "metadata": {},
     "output_type": "execute_result"
    }
   ],
   "source": [
    "noprime!(M12)"
   ]
  },
  {
   "cell_type": "code",
   "execution_count": null,
   "metadata": {},
   "outputs": [
    {
     "data": {
      "text/plain": [
       "1-element Vector{Index{Int64}}:\n",
       " (dim=2|id=944|\"Site,n=1\")"
      ]
     },
     "execution_count": 282,
     "metadata": {},
     "output_type": "execute_result"
    }
   ],
   "source": [
    "uniqueinds(M[1],M[2])"
   ]
  },
  {
   "cell_type": "code",
   "execution_count": null,
   "metadata": {},
   "outputs": [
    {
     "data": {
      "text/plain": [
       "1-element Vector{Index{Int64}}:\n",
       " (dim=2|id=461|\"Site,n=1\")"
      ]
     },
     "execution_count": 319,
     "metadata": {},
     "output_type": "execute_result"
    }
   ],
   "source": [
    "inds1=uniqueinds(M[1],M[2])"
   ]
  },
  {
   "cell_type": "code",
   "execution_count": null,
   "metadata": {},
   "outputs": [
    {
     "data": {
      "text/plain": [
       "ITensors.TruncSVD(ITensor ord=2\n",
       "Dim 1: (dim=2|id=461|\"Site,n=1\")\n",
       "Dim 2: (dim=2|id=209|\"Link,u\")\n",
       "NDTensors.Dense{Float64, Vector{Float64}}\n",
       " 2×2\n",
       " -0.5574424161643299  -0.8302156061294405\n",
       " -0.8302156061294403   0.5574424161643298, ITensor ord=2\n",
       "Dim 1: (dim=2|id=209|\"Link,u\")\n",
       "Dim 2: (dim=2|id=349|\"Link,v\")\n",
       "NDTensors.Diag{Float64, Vector{Float64}}\n",
       " 2×2\n",
       " 126.0238246062552   0.0\n",
       "   0.0              11.70240173378359, ITensor ord=3\n",
       "Dim 1: (dim=4|id=982|\"Link,n=2\")\n",
       "Dim 2: (dim=2|id=117|\"Site,n=2\")\n",
       "Dim 3: (dim=2|id=349|\"Link,v\")\n",
       "NDTensors.Dense{Float64, Vector{Float64}}\n",
       " 4×2×2\n",
       "[:, :, 1] =\n",
       " -0.30221113453970927   -0.8585431864099768\n",
       "  0.1733708247491792     0.3750806976664458\n",
       " -0.009750924109032895  -0.027078095373318144\n",
       " -3.79905627430529e-5    0.0008656672327050867\n",
       "\n",
       "[:, :, 2] =\n",
       "  0.9159220523533731     -0.2617678897409614\n",
       " -0.19703423314645505     0.22996199645634108\n",
       "  0.027810289760299423   -0.008869306991845426\n",
       " -0.0026073140144209565  -0.0006943760608791726, Spectrum{Vector{Float64}, Float64}([15882.004368388174, 136.94620633886117], 0.0), (dim=2|id=209|\"Link,u\"), (dim=2|id=349|\"Link,v\"))"
      ]
     },
     "execution_count": 320,
     "metadata": {},
     "output_type": "execute_result"
    }
   ],
   "source": [
    "U,S,V=svd(M12,inds1,cutoff=1e-8)"
   ]
  },
  {
   "cell_type": "code",
   "execution_count": null,
   "metadata": {},
   "outputs": [
    {
     "data": {
      "text/plain": [
       "ITensor ord=3 (dim=1|id=626|\"Link,n=1\") (dim=2|id=451|\"Site,n=2\") (dim=2|id=246|\"Link,u\")\n",
       "NDTensors.Dense{Float64, Vector{Float64}}"
      ]
     },
     "execution_count": 242,
     "metadata": {},
     "output_type": "execute_result"
    }
   ],
   "source": [
    "U"
   ]
  },
  {
   "cell_type": "code",
   "execution_count": null,
   "metadata": {},
   "outputs": [
    {
     "data": {
      "text/plain": [
       "ITensor ord=3 (dim=2|id=246|\"Link,u\") (dim=1|id=840|\"Link,n=3\") (dim=2|id=375|\"Site,n=3\")\n",
       "NDTensors.Dense{Float64, Vector{Float64}}"
      ]
     },
     "execution_count": 243,
     "metadata": {},
     "output_type": "execute_result"
    }
   ],
   "source": [
    "S*V"
   ]
  },
  {
   "cell_type": "code",
   "execution_count": null,
   "metadata": {},
   "outputs": [
    {
     "data": {
      "text/plain": [
       "ITensor ord=3 (dim=2|id=209|\"Link,u\") (dim=4|id=982|\"Link,n=2\") (dim=2|id=117|\"Site,n=2\")\n",
       "NDTensors.Dense{Float64, Vector{Float64}}"
      ]
     },
     "execution_count": 321,
     "metadata": {},
     "output_type": "execute_result"
    }
   ],
   "source": [
    "M[1]=U\n",
    "M[2]=S*V"
   ]
  },
  {
   "cell_type": "code",
   "execution_count": null,
   "metadata": {},
   "outputs": [
    {
     "name": "stdout",
     "output_type": "stream",
     "text": [
      "ITensor ord=4\n",
      "Dim 1: (dim=2|id=461|\"Site,n=1\")\n",
      "Dim 2: (dim=2|id=117|\"Site,n=2\")\n",
      "Dim 3: (dim=2|id=461|\"Site,n=1\")'\n",
      "Dim 4: (dim=2|id=117|\"Site,n=2\")'\n",
      "NDTensors.Dense{Float64, Vector{Float64}}\n",
      " 2×2×2×2\n",
      "[:, :, 1, 1] =\n",
      " 1.0  3.0\n",
      " 2.0  4.0\n",
      "\n",
      "[:, :, 2, 1] =\n",
      " 5.0  7.0\n",
      " 6.0  8.0\n",
      "\n",
      "[:, :, 1, 2] =\n",
      "  9.0  11.0\n",
      " 10.0  12.0\n",
      "\n",
      "[:, :, 2, 2] =\n",
      " 13.0  15.0\n",
      " 14.0  16.0"
     ]
    }
   ],
   "source": [
    "print(U2)"
   ]
  },
  {
   "cell_type": "code",
   "execution_count": null,
   "metadata": {},
   "outputs": [
    {
     "data": {
      "text/plain": [
       "1.0"
      ]
     },
     "execution_count": 323,
     "metadata": {},
     "output_type": "execute_result"
    }
   ],
   "source": [
    "U2[1,1,1,1]"
   ]
  },
  {
   "cell_type": "code",
   "execution_count": null,
   "metadata": {},
   "outputs": [],
   "source": [
    "vec(permutedims(array(mps_to_tensor(M)),reverse(1:4)))"
   ]
  },
  {
   "cell_type": "code",
   "execution_count": null,
   "metadata": {},
   "outputs": [
    {
     "data": {
      "text/plain": [
       "16-element Vector{Float64}:\n",
       "  -1.4518677591156464\n",
       "   5.324658541109053\n",
       "  12.101184841333753\n",
       "  18.877711141558454\n",
       "  -6.2016727410230645\n",
       " -15.866228586927242\n",
       " -25.530784432831414\n",
       " -35.1953402787356\n",
       "   6.513276532854706\n",
       "  17.58564498824528\n",
       "  28.658013443635873\n",
       "  39.73038189902645\n",
       " -13.214893493635087\n",
       " -34.68070629310985\n",
       " -56.14651909258461\n",
       " -77.61233189205937"
      ]
     },
     "execution_count": 324,
     "metadata": {},
     "output_type": "execute_result"
    }
   ],
   "source": [
    "mps_to_tensor(M;vector=true,)"
   ]
  },
  {
   "cell_type": "code",
   "execution_count": null,
   "metadata": {},
   "outputs": [
    {
     "data": {
      "text/html": [
       "# 4 methods for generic function <b>vector</b> from \u001b[32mNDTensors\u001b[39m:<ul><li> vector(T::<b>ITensor</b>) in ITensors at <a href=\"file:///home/jake/.julia/packages/ITensors/UHeB1/src/tensor_operations/permutations.jl\" target=\"_blank\">/home/jake/.julia/packages/ITensors/UHeB1/src/tensor_operations/permutations.jl:218</a></li> <li> vector(T::<b>ITensor</b>, inds...) in ITensors at <a href=\"file:///home/jake/.julia/packages/ITensors/UHeB1/src/tensor_operations/permutations.jl\" target=\"_blank\">/home/jake/.julia/packages/ITensors/UHeB1/src/tensor_operations/permutations.jl:244</a></li> <li> vector(T::<b>NDTensors.DiagBlockSparseTensor{<:Number, 1}</b>) in NDTensors at <a href=\"file:///home/jake/.julia/packages/NDTensors/YyzwN/src/blocksparse/diagblocksparse.jl\" target=\"_blank\">/home/jake/.julia/packages/NDTensors/YyzwN/src/blocksparse/diagblocksparse.jl:368</a></li> <li> vector(T::<b>NDTensors.Tensor{<:Number, 1}</b>) in NDTensors at <a href=\"file:///home/jake/.julia/packages/NDTensors/YyzwN/src/tensor/tensor.jl\" target=\"_blank\">/home/jake/.julia/packages/NDTensors/YyzwN/src/tensor/tensor.jl:278</a></li> </ul>"
      ],
      "text/plain": [
       "# 4 methods for generic function \"vector\" from \u001b[32mNDTensors\u001b[39m:\n",
       " [1] vector(\u001b[90mT\u001b[39m::\u001b[1mITensor\u001b[22m)\n",
       "\u001b[90m     @\u001b[39m \u001b[35mITensors\u001b[39m \u001b[90m~/.julia/packages/ITensors/UHeB1/src/tensor_operations/\u001b[39m\u001b[90m\u001b[4mpermutations.jl:218\u001b[24m\u001b[39m\n",
       " [2] vector(\u001b[90mT\u001b[39m::\u001b[1mITensor\u001b[22m, \u001b[90minds...\u001b[39m)\n",
       "\u001b[90m     @\u001b[39m \u001b[35mITensors\u001b[39m \u001b[90m~/.julia/packages/ITensors/UHeB1/src/tensor_operations/\u001b[39m\u001b[90m\u001b[4mpermutations.jl:244\u001b[24m\u001b[39m\n",
       " [3] vector(\u001b[90mT\u001b[39m::\u001b[1mNDTensors.DiagBlockSparseTensor\u001b[22m\u001b[0m{<:Number, 1})\n",
       "\u001b[90m     @\u001b[39m \u001b[90m~/.julia/packages/NDTensors/YyzwN/src/blocksparse/\u001b[39m\u001b[90m\u001b[4mdiagblocksparse.jl:368\u001b[24m\u001b[39m\n",
       " [4] vector(\u001b[90mT\u001b[39m::\u001b[1mNDTensors.Tensor\u001b[22m\u001b[0m{<:Number, 1})\n",
       "\u001b[90m     @\u001b[39m \u001b[90m~/.julia/packages/NDTensors/YyzwN/src/tensor/\u001b[39m\u001b[90m\u001b[4mtensor.jl:278\u001b[24m\u001b[39m"
      ]
     },
     "execution_count": 327,
     "metadata": {},
     "output_type": "execute_result"
    }
   ],
   "source": [
    "methods(vector)"
   ]
  },
  {
   "cell_type": "code",
   "execution_count": null,
   "metadata": {},
   "outputs": [
    {
     "data": {
      "text/plain": [
       "test3"
      ]
     },
     "execution_count": 624,
     "metadata": {},
     "output_type": "execute_result"
    }
   ],
   "source": [
    "\"\"\"\n",
    "Returns x if x>0 else returns 0\n",
    "\"\"\"\n",
    "function test3(x)\n",
    "    if x>0\n",
    "        return x\n",
    "    else\n",
    "        return 0\n",
    "    end\n",
    "end"
   ]
  },
  {
   "cell_type": "code",
   "execution_count": null,
   "metadata": {},
   "outputs": [
    {
     "name": "stdout",
     "output_type": "stream",
     "text": [
      "MethodInstance for test3(::Float64)\n",
      "  from test3(\u001b[90mx\u001b[39m)\u001b[90m @\u001b[39m \u001b[90mMain\u001b[39m \u001b[90m\u001b[4mIn[624]:4\u001b[24m\u001b[39m\n",
      "Arguments\n",
      "  #self#\u001b[36m::Core.Const(test3)\u001b[39m\n",
      "  x\u001b[36m::Float64\u001b[39m\n",
      "Body\u001b[33m\u001b[1m::Union{Float64, Int64}\u001b[22m\u001b[39m\n",
      "\u001b[90m1 ─\u001b[39m %1 = (x > 0)\u001b[36m::Bool\u001b[39m\n",
      "\u001b[90m└──\u001b[39m      goto #3 if not %1\n",
      "\u001b[90m2 ─\u001b[39m      return x\n",
      "\u001b[90m3 ─\u001b[39m      return 0\n",
      "\n"
     ]
    }
   ],
   "source": [
    "@code_warntype test3(2.0)"
   ]
  },
  {
   "cell_type": "code",
   "execution_count": null,
   "metadata": {},
   "outputs": [
    {
     "name": "stdout",
     "output_type": "stream",
     "text": [
      "MethodInstance for test3(::Int64)\n",
      "  from test3(\u001b[90mx\u001b[39m)\u001b[90m @\u001b[39m \u001b[90mMain\u001b[39m \u001b[90m\u001b[4mIn[624]:4\u001b[24m\u001b[39m\n",
      "Arguments\n",
      "  #self#\u001b[36m::Core.Const(test3)\u001b[39m\n",
      "  x\u001b[36m::Int64\u001b[39m\n",
      "Body\u001b[36m::Int64\u001b[39m\n",
      "\u001b[90m1 ─\u001b[39m %1 = (x > 0)\u001b[36m::Bool\u001b[39m\n",
      "\u001b[90m└──\u001b[39m      goto #3 if not %1\n",
      "\u001b[90m2 ─\u001b[39m      return x\n",
      "\u001b[90m3 ─\u001b[39m      return 0\n",
      "\n"
     ]
    }
   ],
   "source": [
    "@code_warntype test3(2)"
   ]
  },
  {
   "cell_type": "code",
   "execution_count": null,
   "metadata": {},
   "outputs": [
    {
     "data": {
      "text/plain": [
       "test5 (generic function with 1 method)"
      ]
     },
     "execution_count": 640,
     "metadata": {},
     "output_type": "execute_result"
    }
   ],
   "source": [
    "function test5()\n",
    "    r=0.\n",
    "    for i in 1:10\n",
    "        r+=sin(i)\n",
    "    end\n",
    "    return r\n",
    "end"
   ]
  },
  {
   "cell_type": "code",
   "execution_count": null,
   "metadata": {},
   "outputs": [
    {
     "name": "stdout",
     "output_type": "stream",
     "text": [
      "MethodInstance for test5()\n",
      "  from test5()\u001b[90m @\u001b[39m \u001b[90mMain\u001b[39m \u001b[90m\u001b[4mIn[640]:1\u001b[24m\u001b[39m\n",
      "Arguments\n",
      "  #self#\u001b[36m::Core.Const(test5)\u001b[39m\n",
      "Locals\n",
      "  @_2\u001b[33m\u001b[1m::Union{Nothing, Tuple{Int64, Int64}}\u001b[22m\u001b[39m\n",
      "  r\u001b[36m::Float64\u001b[39m\n",
      "  i\u001b[36m::Int64\u001b[39m\n",
      "Body\u001b[36m::Float64\u001b[39m\n",
      "\u001b[90m1 ─\u001b[39m       (r = 0.0)\n",
      "\u001b[90m│  \u001b[39m %2  = (1:10)\u001b[36m::Core.Const(1:10)\u001b[39m\n",
      "\u001b[90m│  \u001b[39m       (@_2 = Base.iterate(%2))\n",
      "\u001b[90m│  \u001b[39m %4  = (@_2::Core.Const((1, 1)) === nothing)\u001b[36m::Core.Const(false)\u001b[39m\n",
      "\u001b[90m│  \u001b[39m %5  = Base.not_int(%4)\u001b[36m::Core.Const(true)\u001b[39m\n",
      "\u001b[90m└──\u001b[39m       goto #4 if not %5\n",
      "\u001b[90m2 ┄\u001b[39m %7  = @_2\u001b[36m::Tuple{Int64, Int64}\u001b[39m\n",
      "\u001b[90m│  \u001b[39m       (i = Core.getfield(%7, 1))\n",
      "\u001b[90m│  \u001b[39m %9  = Core.getfield(%7, 2)\u001b[36m::Int64\u001b[39m\n",
      "\u001b[90m│  \u001b[39m %10 = r\u001b[36m::Float64\u001b[39m\n",
      "\u001b[90m│  \u001b[39m %11 = Main.sin(i)\u001b[36m::Float64\u001b[39m\n",
      "\u001b[90m│  \u001b[39m       (r = %10 + %11)\n",
      "\u001b[90m│  \u001b[39m       (@_2 = Base.iterate(%2, %9))\n",
      "\u001b[90m│  \u001b[39m %14 = (@_2 === nothing)\u001b[36m::Bool\u001b[39m\n",
      "\u001b[90m│  \u001b[39m %15 = Base.not_int(%14)\u001b[36m::Bool\u001b[39m\n",
      "\u001b[90m└──\u001b[39m       goto #4 if not %15\n",
      "\u001b[90m3 ─\u001b[39m       goto #2\n",
      "\u001b[90m4 ┄\u001b[39m       return r\n",
      "\n"
     ]
    }
   ],
   "source": [
    "@code_warntype test5()"
   ]
  },
  {
   "cell_type": "code",
   "execution_count": null,
   "metadata": {},
   "outputs": [],
   "source": []
  }
 ],
 "metadata": {
  "kernelspec": {
   "display_name": "Julia 1.10.0",
   "language": "julia",
   "name": "julia-1.10"
  },
  "language_info": {
   "file_extension": ".jl",
   "mimetype": "application/julia",
   "name": "julia",
   "version": "1.10.0"
  }
 },
 "nbformat": 4,
 "nbformat_minor": 2
}
