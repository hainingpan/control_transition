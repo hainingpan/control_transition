{
 "cells": [
  {
   "cell_type": "code",
   "execution_count": 1,
   "metadata": {},
   "outputs": [],
   "source": [
    "%load_ext line_profiler"
   ]
  },
  {
   "cell_type": "code",
   "execution_count": 1,
   "metadata": {},
   "outputs": [],
   "source": [
    "from plot_utils import *\n",
    "from tqdm import tqdm"
   ]
  },
  {
   "cell_type": "code",
   "execution_count": 3,
   "metadata": {},
   "outputs": [],
   "source": [
    "sC_list=range(2000)\n",
    "sm_list=range(500)\n",
    "# p_m_list=[0.05,0.06,0.07,0.08,0.09,0.1,0.11,0.12,0.13,0.14,0.15]\n",
    "p_m_list=[0.07,0.08,0.085,0.087,0.089,0.09,0.091,0.093,0.095,0.1,0.105,0.11,]"
   ]
  },
  {
   "cell_type": "code",
   "execution_count": 27,
   "metadata": {},
   "outputs": [],
   "source": [
    "def trajvar(df,sC):\n",
    "    data=df.xs(sC,level='sC')\n",
    "    return data.var()\n",
    "    single = np.vstack(data)\n",
    "    return single.var(axis=0)"
   ]
  },
  {
   "cell_type": "code",
   "execution_count": 5,
   "metadata": {},
   "outputs": [],
   "source": [
    "sC_traj_var={}\n"
   ]
  },
  {
   "cell_type": "code",
   "execution_count": null,
   "metadata": {},
   "outputs": [],
   "source": []
  },
  {
   "cell_type": "code",
   "execution_count": 6,
   "metadata": {},
   "outputs": [],
   "source": [
    "data_APT_dict={'fn':set()}"
   ]
  },
  {
   "cell_type": "code",
   "execution_count": 7,
   "metadata": {},
   "outputs": [],
   "source": [
    "p_m = 0.07"
   ]
  },
  {
   "cell_type": "code",
   "execution_count": 8,
   "metadata": {},
   "outputs": [],
   "source": [
    "params_list=[\n",
    "    ({'L':12,'per_esC0':50},{'esC0':range(0,2000,50),'p_m':[p_m]}),\n",
    "    # ({'L':14,'per_esC0':25},{'esC0':range(0,2000,25),'p_m':[p_m]}),\n",
    "    # ({'L':16,'per_esC0':10},{'esC0':range(0,2000,10),'p_m':[p_m]}),\n",
    "    # ({'L':18,'per_esC0':5},{'esC0':range(0,2000,5),'p_m':[p_m]}),\n",
    "    # ({'L':20,'per_esC0':2},{'esC0':range(0,2000,2),'p_m':[p_m]}),\n",
    "    ]"
   ]
  },
  {
   "cell_type": "code",
   "execution_count": 29,
   "metadata": {},
   "outputs": [
    {
     "name": "stdout",
     "output_type": "stream",
     "text": [
      "12 0.07\n"
     ]
    },
    {
     "name": "stderr",
     "output_type": "stream",
     "text": [
      "generate_params:   0%|          | 0/40 [00:00<?, ?it/s]"
     ]
    },
    {
     "name": "stderr",
     "output_type": "stream",
     "text": [
      "generate_params: 100%|██████████| 40/40 [00:00<00:00, 39162.50it/s]\n"
     ]
    }
   ],
   "source": [
    "L=params_list[0][0]['L']\n",
    "print(L,p_m)\n",
    "for fixed_params,vary_params in params_list:\n",
    "    data_APT_dict=generate_params(\n",
    "        fixed_params=fixed_params,\n",
    "        vary_params=vary_params,\n",
    "        fn_template='APT_EnC({esC0},{esC0+per_esC0})_Enm(0,500)_pm({p_m:.3f},{p_m:.3f},1)_pf(1.000,1.000,1)_L{L}_Tf.pickle',\n",
    "        # fn_dir_template='APT_Tf',\n",
    "        fn_dir_template='/home/jake/Data/APT_Tf',\n",
    "        # fn_dir_template='/mnt/e/Control_Transition/APT/APT_Tf',\n",
    "        input_params_template='{p:.3f} {L} {seed} {ancilla}',\n",
    "        load_data=load_pickle,\n",
    "        filename=None,\n",
    "        filelist=None,\n",
    "        load=True,\n",
    "        data_dict=data_APT_dict,\n",
    "        # data_dict_file='APT_T.pickle', \n",
    "    )\n",
    "data_APT=convert_pd(data_APT_dict,names=['Metrics','L','p_m','p_f','sC','sm'])"
   ]
  },
  {
   "cell_type": "code",
   "execution_count": 30,
   "metadata": {},
   "outputs": [],
   "source": [
    "data_APT=data_APT.xs(L,level='L').xs(p_m,level='p_m').xs(1,level='p_f').xs('O',level='Metrics')['observations']"
   ]
  },
  {
   "cell_type": "code",
   "execution_count": 31,
   "metadata": {},
   "outputs": [
    {
     "data": {
      "text/plain": [
       "0.01292488106328423"
      ]
     },
     "execution_count": 31,
     "metadata": {},
     "output_type": "execute_result"
    }
   ],
   "source": [
    "trajvar(data_APT, sC=0)"
   ]
  },
  {
   "cell_type": "code",
   "execution_count": 32,
   "metadata": {},
   "outputs": [
    {
     "name": "stdout",
     "output_type": "stream",
     "text": [
      "Timer unit: 1e-09 s\n",
      "\n",
      "Total time: 0.000823628 s\n",
      "File: /tmp/ipykernel_1411998/3664970125.py\n",
      "Function: trajvar at line 1\n",
      "\n",
      "Line #      Hits         Time  Per Hit   % Time  Line Contents\n",
      "==============================================================\n",
      "     1                                           def trajvar(df,sC):\n",
      "     2         1     657793.0 657793.0     79.9      data=df.xs(sC,level='sC')\n",
      "     3         1     165835.0 165835.0     20.1      return data.var()\n",
      "     4                                               single = np.vstack(data)\n",
      "     5                                               return single.var(axis=0)"
     ]
    }
   ],
   "source": [
    "%lprun -f trajvar trajvar(data_APT, sC=0)"
   ]
  },
  {
   "cell_type": "code",
   "execution_count": 22,
   "metadata": {},
   "outputs": [],
   "source": [
    "zz=trajvar(data_APT, sC=0)"
   ]
  },
  {
   "cell_type": "code",
   "execution_count": 26,
   "metadata": {},
   "outputs": [
    {
     "data": {
      "text/plain": [
       "0.01292488106328423"
      ]
     },
     "execution_count": 26,
     "metadata": {},
     "output_type": "execute_result"
    }
   ],
   "source": [
    "(zz).var()"
   ]
  },
  {
   "cell_type": "code",
   "execution_count": 4,
   "metadata": {},
   "outputs": [],
   "source": [
    "import pickle"
   ]
  },
  {
   "cell_type": "code",
   "execution_count": 2,
   "metadata": {},
   "outputs": [],
   "source": [
    "L_list=[12,14,16,18,20]\n",
    "traj_var_C_m_Tf_APT_L={}"
   ]
  },
  {
   "cell_type": "code",
   "execution_count": 3,
   "metadata": {},
   "outputs": [],
   "source": [
    "for L in L_list:\n",
    "    with open(f'traj_var_C_m_Tf_APT_L{L}.pickle','rb') as f:\n",
    "        traj_var_C_m_Tf_APT_L[L]=pickle.load(f)"
   ]
  },
  {
   "cell_type": "code",
   "execution_count": 6,
   "metadata": {},
   "outputs": [],
   "source": [
    "import matplotlib.pyplot as plt"
   ]
  },
  {
   "cell_type": "code",
   "execution_count": 13,
   "metadata": {},
   "outputs": [
    {
     "ename": "NameError",
     "evalue": "name 'traj_var_C_m_Tf_APT_L12' is not defined",
     "output_type": "error",
     "traceback": [
      "\u001b[0;31m---------------------------------------------------------------------------\u001b[0m",
      "\u001b[0;31mNameError\u001b[0m                                 Traceback (most recent call last)",
      "Cell \u001b[0;32mIn[13], line 1\u001b[0m\n\u001b[0;32m----> 1\u001b[0m plt\u001b[38;5;241m.\u001b[39mhist(traj_var_C_m_Tf_APT_L12[\u001b[38;5;241m0.11\u001b[39m,\u001b[38;5;241m12\u001b[39m])\n",
      "\u001b[0;31mNameError\u001b[0m: name 'traj_var_C_m_Tf_APT_L12' is not defined"
     ]
    }
   ],
   "source": [
    "plt.hist(traj_var_C_m_Tf_APT_L12[0.11,12])"
   ]
  },
  {
   "cell_type": "code",
   "execution_count": 4,
   "metadata": {},
   "outputs": [],
   "source": [
    "p_m_list_1= [0.085,0.087,0.089,0.09,0.091,0.093,0.095]"
   ]
  },
  {
   "cell_type": "code",
   "execution_count": 7,
   "metadata": {},
   "outputs": [
    {
     "data": {
      "text/plain": [
       "Text(0, 0.5, 'Prob of zero variance')"
      ]
     },
     "execution_count": 7,
     "metadata": {},
     "output_type": "execute_result"
    },
    {
     "data": {
      "image/png": "[encoded data removed]",
      "text/plain": [
       "<Figure size 640x480 with 1 Axes>"
      ]
     },
     "metadata": {},
     "output_type": "display_data"
    }
   ],
   "source": [
    "fig,ax=plt.subplots()\n",
    "color= plt.cm.Blues(np.linspace(0.4,1,len(L_list)))\n",
    "for L in L_list:\n",
    "    ax.plot(p_m_list_1,[(traj_var_C_m_Tf_APT_L[L][p,L]<1e-7).sum()/len(traj_var_C_m_Tf_APT_L[L][p,L]) for p in p_m_list_1],'.-',label=f'L={L}',color=color[L_list.index(L)])\n",
    "ax.legend()\n",
    "# ax.set_yscale('log')\n",
    "ax.set_xlabel('p_m')\n",
    "ax.set_ylabel('Prob of zero variance')"
   ]
  },
  {
   "cell_type": "code",
   "execution_count": null,
   "metadata": {},
   "outputs": [],
   "source": []
  }
 ],
 "metadata": {
  "kernelspec": {
   "display_name": "base",
   "language": "python",
   "name": "python3"
  },
  "language_info": {
   "codemirror_mode": {
    "name": "ipython",
    "version": 3
   },
   "file_extension": ".py",
   "mimetype": "text/x-python",
   "name": "python",
   "nbconvert_exporter": "python",
   "pygments_lexer": "ipython3",
   "version": "3.11.4"
  }
 },
 "nbformat": 4,
 "nbformat_minor": 2
}
