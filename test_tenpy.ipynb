{
 "cells": [
  {
   "cell_type": "code",
   "execution_count": 4,
   "metadata": {},
   "outputs": [],
   "source": [
    "import tenpy\n",
    "from tenpy.networks.mps import MPS\n",
    "\n",
    "L = 10  # For example, the length of the chain\n",
    "site = tenpy.networks.site.SpinHalfSite(conserve=None)  # Example: spin-1/2 site\n",
    "\n",
    "\n"
   ]
  },
  {
   "cell_type": "code",
   "execution_count": 6,
   "metadata": {},
   "outputs": [
    {
     "ename": "AttributeError",
     "evalue": "'SpinHalfSite' object has no attribute 'state'",
     "output_type": "error",
     "traceback": [
      "\u001b[0;31m---------------------------------------------------------------------------\u001b[0m",
      "\u001b[0;31mAttributeError\u001b[0m                            Traceback (most recent call last)",
      "\u001b[0;32m/tmp/ipykernel_6841/3166374720.py\u001b[0m in \u001b[0;36m<module>\u001b[0;34m\u001b[0m\n\u001b[0;32m----> 1\u001b[0;31m \u001b[0msite\u001b[0m\u001b[0;34m.\u001b[0m\u001b[0mstate\u001b[0m\u001b[0;34m(\u001b[0m\u001b[0;34m'up'\u001b[0m\u001b[0;34m)\u001b[0m\u001b[0;34m\u001b[0m\u001b[0;34m\u001b[0m\u001b[0m\n\u001b[0m",
      "\u001b[0;31mAttributeError\u001b[0m: 'SpinHalfSite' object has no attribute 'state'"
     ]
    }
   ],
   "source": [
    "site.state('up')"
   ]
  },
  {
   "cell_type": "code",
   "execution_count": 8,
   "metadata": {},
   "outputs": [],
   "source": [
    "# Creating a random MPS\n",
    "psi = MPS.from_product_state([site]*L,['up']*L, bc='finite')"
   ]
  },
  {
   "cell_type": "code",
   "execution_count": 9,
   "metadata": {},
   "outputs": [
    {
     "data": {
      "text/plain": [
       "<tenpy.networks.mps.MPS at 0x7fd2db12e8b0>"
      ]
     },
     "execution_count": 9,
     "metadata": {},
     "output_type": "execute_result"
    }
   ],
   "source": [
    "psi"
   ]
  },
  {
   "cell_type": "code",
   "execution_count": 10,
   "metadata": {},
   "outputs": [
    {
     "data": {
      "text/plain": [
       "[<npc.Array shape=(1, 2, 1) labels=['vL', 'p', 'vR']>,\n",
       " <npc.Array shape=(1, 2, 1) labels=['vL', 'p', 'vR']>,\n",
       " <npc.Array shape=(1, 2, 1) labels=['vL', 'p', 'vR']>,\n",
       " <npc.Array shape=(1, 2, 1) labels=['vL', 'p', 'vR']>,\n",
       " <npc.Array shape=(1, 2, 1) labels=['vL', 'p', 'vR']>,\n",
       " <npc.Array shape=(1, 2, 1) labels=['vL', 'p', 'vR']>,\n",
       " <npc.Array shape=(1, 2, 1) labels=['vL', 'p', 'vR']>,\n",
       " <npc.Array shape=(1, 2, 1) labels=['vL', 'p', 'vR']>,\n",
       " <npc.Array shape=(1, 2, 1) labels=['vL', 'p', 'vR']>,\n",
       " <npc.Array shape=(1, 2, 1) labels=['vL', 'p', 'vR']>]"
      ]
     },
     "execution_count": 10,
     "metadata": {},
     "output_type": "execute_result"
    }
   ],
   "source": [
    "psi._B"
   ]
  },
  {
   "cell_type": "code",
   "execution_count": 18,
   "metadata": {},
   "outputs": [],
   "source": [
    "import numpy as np\n",
    "\n",
    "\n",
    "L = 3\n",
    "wavefunction = np.random.rand(*[2]*L)\n",
    "wavefunction = wavefunction / np.linalg.norm(wavefunction)  # Normalize\n"
   ]
  },
  {
   "cell_type": "code",
   "execution_count": 23,
   "metadata": {},
   "outputs": [],
   "source": [
    "from tenpy.linalg import np_conserved as npc\n",
    "\n",
    "# Convert the numpy array wavefunction to a TenPy array\n",
    "wavefunction_tenpy = npc.Array.from_ndarray(wavefunction, [qubit_site.leg] * L)\n"
   ]
  },
  {
   "cell_type": "code",
   "execution_count": 21,
   "metadata": {},
   "outputs": [
    {
     "ename": "KeyError",
     "evalue": "\"Label not found: 'p0', current labels: ['vL', None, None, None, 'vR']\"",
     "output_type": "error",
     "traceback": [
      "\u001b[0;31m---------------------------------------------------------------------------\u001b[0m",
      "\u001b[0;31mKeyError\u001b[0m                                  Traceback (most recent call last)",
      "\u001b[0;32m/tmp/ipykernel_6841/3765180573.py\u001b[0m in \u001b[0;36m<module>\u001b[0;34m\u001b[0m\n\u001b[1;32m      5\u001b[0m \u001b[0;34m\u001b[0m\u001b[0m\n\u001b[1;32m      6\u001b[0m \u001b[0;31m# Convert to MPS\u001b[0m\u001b[0;34m\u001b[0m\u001b[0;34m\u001b[0m\u001b[0;34m\u001b[0m\u001b[0m\n\u001b[0;32m----> 7\u001b[0;31m \u001b[0mpsi_mps\u001b[0m \u001b[0;34m=\u001b[0m \u001b[0mtenpy\u001b[0m\u001b[0;34m.\u001b[0m\u001b[0mnetworks\u001b[0m\u001b[0;34m.\u001b[0m\u001b[0mmps\u001b[0m\u001b[0;34m.\u001b[0m\u001b[0mMPS\u001b[0m\u001b[0;34m.\u001b[0m\u001b[0mfrom_full\u001b[0m\u001b[0;34m(\u001b[0m\u001b[0;34m[\u001b[0m\u001b[0mqubit_site\u001b[0m\u001b[0;34m]\u001b[0m\u001b[0;34m*\u001b[0m\u001b[0mL\u001b[0m\u001b[0;34m,\u001b[0m\u001b[0mwavefunction_tenpy\u001b[0m\u001b[0;34m,\u001b[0m \u001b[0mform\u001b[0m\u001b[0;34m=\u001b[0m\u001b[0;34m'B'\u001b[0m\u001b[0;34m)\u001b[0m\u001b[0;34m\u001b[0m\u001b[0;34m\u001b[0m\u001b[0m\n\u001b[0m",
      "\u001b[0;32m~/anaconda3/lib/python3.8/site-packages/tenpy/networks/mps.py\u001b[0m in \u001b[0;36mfrom_full\u001b[0;34m(cls, sites, psi, form, cutoff, normalize, bc, outer_S)\u001b[0m\n\u001b[1;32m    767\u001b[0m             \u001b[0;32mraise\u001b[0m \u001b[0mValueError\u001b[0m\u001b[0;34m(\u001b[0m\u001b[0;34m\"non-trivial left leg for 'finite' bc!\"\u001b[0m\u001b[0;34m)\u001b[0m\u001b[0;34m\u001b[0m\u001b[0;34m\u001b[0m\u001b[0m\n\u001b[1;32m    768\u001b[0m         \u001b[0mlabels\u001b[0m \u001b[0;34m=\u001b[0m \u001b[0;34m[\u001b[0m\u001b[0;34m'vL'\u001b[0m\u001b[0;34m]\u001b[0m \u001b[0;34m+\u001b[0m \u001b[0;34m[\u001b[0m\u001b[0;34m'p'\u001b[0m \u001b[0;34m+\u001b[0m \u001b[0mstr\u001b[0m\u001b[0;34m(\u001b[0m\u001b[0mi\u001b[0m\u001b[0;34m)\u001b[0m \u001b[0;32mfor\u001b[0m \u001b[0mi\u001b[0m \u001b[0;32min\u001b[0m \u001b[0mrange\u001b[0m\u001b[0;34m(\u001b[0m\u001b[0mL\u001b[0m\u001b[0;34m)\u001b[0m\u001b[0;34m]\u001b[0m \u001b[0;34m+\u001b[0m \u001b[0;34m[\u001b[0m\u001b[0;34m'vR'\u001b[0m\u001b[0;34m]\u001b[0m\u001b[0;34m\u001b[0m\u001b[0;34m\u001b[0m\u001b[0m\n\u001b[0;32m--> 769\u001b[0;31m         \u001b[0mpsi\u001b[0m\u001b[0;34m.\u001b[0m\u001b[0mitranspose\u001b[0m\u001b[0;34m(\u001b[0m\u001b[0mlabels\u001b[0m\u001b[0;34m)\u001b[0m\u001b[0;34m\u001b[0m\u001b[0;34m\u001b[0m\u001b[0m\n\u001b[0m\u001b[1;32m    770\u001b[0m         \u001b[0;31m# combine legs from left\u001b[0m\u001b[0;34m\u001b[0m\u001b[0;34m\u001b[0m\u001b[0;34m\u001b[0m\u001b[0m\n\u001b[1;32m    771\u001b[0m         \u001b[0;32mfor\u001b[0m \u001b[0mi\u001b[0m \u001b[0;32min\u001b[0m \u001b[0mrange\u001b[0m\u001b[0;34m(\u001b[0m\u001b[0;36m0\u001b[0m\u001b[0;34m,\u001b[0m \u001b[0mL\u001b[0m \u001b[0;34m-\u001b[0m \u001b[0;36m1\u001b[0m\u001b[0;34m)\u001b[0m\u001b[0;34m:\u001b[0m\u001b[0;34m\u001b[0m\u001b[0;34m\u001b[0m\u001b[0m\n",
      "\u001b[0;32mtenpy/linalg/_npc_helper.pyx\u001b[0m in \u001b[0;36mtenpy.linalg._npc_helper.Array_itranspose\u001b[0;34m()\u001b[0m\n",
      "\u001b[0;32m~/anaconda3/lib/python3.8/site-packages/tenpy/linalg/np_conserved.py\u001b[0m in \u001b[0;36mget_leg_indices\u001b[0;34m(self, labels)\u001b[0m\n\u001b[1;32m    712\u001b[0m         \u001b[0miset_leg_labels\u001b[0m \u001b[0;34m:\u001b[0m \u001b[0mset\u001b[0m \u001b[0mthe\u001b[0m \u001b[0mlabels\u001b[0m \u001b[0mof\u001b[0m \u001b[0mdifferent\u001b[0m \u001b[0mlegs\u001b[0m\u001b[0;34m.\u001b[0m\u001b[0;34m\u001b[0m\u001b[0;34m\u001b[0m\u001b[0m\n\u001b[1;32m    713\u001b[0m         \"\"\"\n\u001b[0;32m--> 714\u001b[0;31m         \u001b[0;32mreturn\u001b[0m \u001b[0;34m[\u001b[0m\u001b[0mself\u001b[0m\u001b[0;34m.\u001b[0m\u001b[0mget_leg_index\u001b[0m\u001b[0;34m(\u001b[0m\u001b[0ml\u001b[0m\u001b[0;34m)\u001b[0m \u001b[0;32mfor\u001b[0m \u001b[0ml\u001b[0m \u001b[0;32min\u001b[0m \u001b[0mlabels\u001b[0m\u001b[0;34m]\u001b[0m\u001b[0;34m\u001b[0m\u001b[0;34m\u001b[0m\u001b[0m\n\u001b[0m\u001b[1;32m    715\u001b[0m \u001b[0;34m\u001b[0m\u001b[0m\n\u001b[1;32m    716\u001b[0m     \u001b[0;32mdef\u001b[0m \u001b[0miset_leg_labels\u001b[0m\u001b[0;34m(\u001b[0m\u001b[0mself\u001b[0m\u001b[0;34m,\u001b[0m \u001b[0mlabels\u001b[0m\u001b[0;34m)\u001b[0m\u001b[0;34m:\u001b[0m\u001b[0;34m\u001b[0m\u001b[0;34m\u001b[0m\u001b[0m\n",
      "\u001b[0;32m~/anaconda3/lib/python3.8/site-packages/tenpy/linalg/np_conserved.py\u001b[0m in \u001b[0;36m<listcomp>\u001b[0;34m(.0)\u001b[0m\n\u001b[1;32m    712\u001b[0m         \u001b[0miset_leg_labels\u001b[0m \u001b[0;34m:\u001b[0m \u001b[0mset\u001b[0m \u001b[0mthe\u001b[0m \u001b[0mlabels\u001b[0m \u001b[0mof\u001b[0m \u001b[0mdifferent\u001b[0m \u001b[0mlegs\u001b[0m\u001b[0;34m.\u001b[0m\u001b[0;34m\u001b[0m\u001b[0;34m\u001b[0m\u001b[0m\n\u001b[1;32m    713\u001b[0m         \"\"\"\n\u001b[0;32m--> 714\u001b[0;31m         \u001b[0;32mreturn\u001b[0m \u001b[0;34m[\u001b[0m\u001b[0mself\u001b[0m\u001b[0;34m.\u001b[0m\u001b[0mget_leg_index\u001b[0m\u001b[0;34m(\u001b[0m\u001b[0ml\u001b[0m\u001b[0;34m)\u001b[0m \u001b[0;32mfor\u001b[0m \u001b[0ml\u001b[0m \u001b[0;32min\u001b[0m \u001b[0mlabels\u001b[0m\u001b[0;34m]\u001b[0m\u001b[0;34m\u001b[0m\u001b[0;34m\u001b[0m\u001b[0m\n\u001b[0m\u001b[1;32m    715\u001b[0m \u001b[0;34m\u001b[0m\u001b[0m\n\u001b[1;32m    716\u001b[0m     \u001b[0;32mdef\u001b[0m \u001b[0miset_leg_labels\u001b[0m\u001b[0;34m(\u001b[0m\u001b[0mself\u001b[0m\u001b[0;34m,\u001b[0m \u001b[0mlabels\u001b[0m\u001b[0;34m)\u001b[0m\u001b[0;34m:\u001b[0m\u001b[0;34m\u001b[0m\u001b[0;34m\u001b[0m\u001b[0m\n",
      "\u001b[0;32m~/anaconda3/lib/python3.8/site-packages/tenpy/linalg/np_conserved.py\u001b[0m in \u001b[0;36mget_leg_index\u001b[0;34m(self, label)\u001b[0m\n\u001b[1;32m    686\u001b[0m             \u001b[0;32mexcept\u001b[0m \u001b[0mValueError\u001b[0m\u001b[0;34m:\u001b[0m  \u001b[0;31m# not in List\u001b[0m\u001b[0;34m\u001b[0m\u001b[0;34m\u001b[0m\u001b[0m\n\u001b[1;32m    687\u001b[0m                 \u001b[0mmsg\u001b[0m \u001b[0;34m=\u001b[0m \u001b[0;34m\"Label not found: {0!r}, current labels: {1!r}\"\u001b[0m\u001b[0;34m.\u001b[0m\u001b[0mformat\u001b[0m\u001b[0;34m(\u001b[0m\u001b[0mlabel\u001b[0m\u001b[0;34m,\u001b[0m \u001b[0mself\u001b[0m\u001b[0;34m.\u001b[0m\u001b[0m_labels\u001b[0m\u001b[0;34m)\u001b[0m\u001b[0;34m\u001b[0m\u001b[0;34m\u001b[0m\u001b[0m\n\u001b[0;32m--> 688\u001b[0;31m                 \u001b[0;32mraise\u001b[0m \u001b[0mKeyError\u001b[0m\u001b[0;34m(\u001b[0m\u001b[0mmsg\u001b[0m\u001b[0;34m)\u001b[0m \u001b[0;32mfrom\u001b[0m \u001b[0;32mNone\u001b[0m\u001b[0;34m\u001b[0m\u001b[0;34m\u001b[0m\u001b[0m\n\u001b[0m\u001b[1;32m    689\u001b[0m         \u001b[0;32melse\u001b[0m\u001b[0;34m:\u001b[0m\u001b[0;34m\u001b[0m\u001b[0;34m\u001b[0m\u001b[0m\n\u001b[1;32m    690\u001b[0m             \u001b[0;32mif\u001b[0m \u001b[0mlabel\u001b[0m \u001b[0;34m<\u001b[0m \u001b[0;36m0\u001b[0m\u001b[0;34m:\u001b[0m\u001b[0;34m\u001b[0m\u001b[0;34m\u001b[0m\u001b[0m\n",
      "\u001b[0;31mKeyError\u001b[0m: \"Label not found: 'p0', current labels: ['vL', None, None, None, 'vR']\""
     ]
    }
   ],
   "source": [
    "import tenpy\n",
    "\n",
    "# Define the site (qubit)\n",
    "qubit_site = tenpy.networks.site.SpinHalfSite(conserve=None)\n",
    "\n",
    "# Convert to MPS\n",
    "psi_mps = tenpy.networks.mps.MPS.from_full([qubit_site]*L,wavefunction_tenpy, form='B')\n"
   ]
  },
  {
   "cell_type": "code",
   "execution_count": 76,
   "metadata": {},
   "outputs": [],
   "source": [
    "import numpy as np\n",
    "import tenpy\n",
    "from tenpy.networks.site import SpinHalfSite\n",
    "from tenpy.linalg import np_conserved as npc\n",
    "\n",
    "# Define the system size and qubit site\n",
    "L = 3\n",
    "qubit_site = SpinHalfSite(conserve=None)\n",
    "\n",
    "# Create a random, normalized wavefunction for a system of 3 qubits\n",
    "wavefunction = np.zeros((2,)*L)\n",
    "wavefunction[(0,)*L]=1/np.sqrt(2)\n",
    "wavefunction[(1,)*L]=1/np.sqrt(2)\n",
    "# wavefunction = wavefunction / np.linalg.norm(wavefunction)\n",
    "\n",
    "legs = [f\"p{i}\" for i in range(L)]\n",
    "\n",
    "# # Convert the numpy array wavefunction to a TenPy array\n",
    "wavefunction_tenpy = npc.Array.from_ndarray(wavefunction, [qubit_site.leg] * L,labels=legs)\n",
    "\n",
    "# # Convert the TenPy array to an MPS\n",
    "psi_mps = tenpy.networks.mps.MPS.from_full( [qubit_site]*L, wavefunction_tenpy,form='B',normalize=True)\n",
    "\n",
    "\n"
   ]
  },
  {
   "cell_type": "code",
   "execution_count": 77,
   "metadata": {},
   "outputs": [],
   "source": [
    "P=np.array([[1,0],[0,0]])\n",
    "P_npc = npc.Array.from_ndarray(P, [qubit_site.leg] *2,labels=['p', 'p*'])"
   ]
  },
  {
   "cell_type": "code",
   "execution_count": 79,
   "metadata": {},
   "outputs": [],
   "source": [
    "psi_mps.apply_local_op(1,P_npc)"
   ]
  },
  {
   "cell_type": "code",
   "execution_count": 60,
   "metadata": {},
   "outputs": [
    {
     "data": {
      "text/plain": [
       "[<npc.Array shape=(1, 2, 1) labels=['vL', 'p', 'vR']>,\n",
       " <npc.Array shape=(1, 2, 1) labels=['vL', 'p', 'vR']>,\n",
       " <npc.Array shape=(1, 2, 1) labels=['vL', 'p', 'vR']>]"
      ]
     },
     "execution_count": 60,
     "metadata": {},
     "output_type": "execute_result"
    }
   ],
   "source": [
    "psi_mps._B"
   ]
  },
  {
   "cell_type": "code",
   "execution_count": 74,
   "metadata": {},
   "outputs": [],
   "source": [
    "psi_mps.canonical_form()"
   ]
  },
  {
   "cell_type": "code",
   "execution_count": 69,
   "metadata": {},
   "outputs": [],
   "source": [
    "trunc_params = {\n",
    "    'chi_max': 100,  # maximum bond dimension\n",
    "    'svd_min': 1.e-10,  # discard singular values < svd_min\n",
    "    'trunc_cut': None,  # more advanced truncation (you can usually leave this as None)\n",
    "    'compression_method':'variational'\n",
    "}"
   ]
  },
  {
   "cell_type": "code",
   "execution_count": 70,
   "metadata": {},
   "outputs": [
    {
     "data": {
      "text/plain": [
       "TruncationError()"
      ]
     },
     "execution_count": 70,
     "metadata": {},
     "output_type": "execute_result"
    }
   ],
   "source": [
    "psi_mps.compress(trunc_params)"
   ]
  },
  {
   "cell_type": "code",
   "execution_count": 80,
   "metadata": {},
   "outputs": [
    {
     "data": {
      "text/plain": [
       "0.5000000000000001"
      ]
     },
     "execution_count": 80,
     "metadata": {},
     "output_type": "execute_result"
    }
   ],
   "source": [
    "psi_mps.overlap(psi_mps)"
   ]
  },
  {
   "cell_type": "code",
   "execution_count": 81,
   "metadata": {},
   "outputs": [
    {
     "ename": "AttributeError",
     "evalue": "'MPS' object has no attribute 'normalize'",
     "output_type": "error",
     "traceback": [
      "\u001b[0;31m---------------------------------------------------------------------------\u001b[0m",
      "\u001b[0;31mAttributeError\u001b[0m                            Traceback (most recent call last)",
      "\u001b[0;32m/tmp/ipykernel_6841/2853897706.py\u001b[0m in \u001b[0;36m<module>\u001b[0;34m\u001b[0m\n\u001b[0;32m----> 1\u001b[0;31m \u001b[0mpsi_mps\u001b[0m\u001b[0;34m.\u001b[0m\u001b[0mnormalize\u001b[0m\u001b[0;34m(\u001b[0m\u001b[0;34m)\u001b[0m\u001b[0;34m\u001b[0m\u001b[0;34m\u001b[0m\u001b[0m\n\u001b[0m",
      "\u001b[0;31mAttributeError\u001b[0m: 'MPS' object has no attribute 'normalize'"
     ]
    }
   ],
   "source": [
    "psi_mps.normalize()"
   ]
  },
  {
   "cell_type": "code",
   "execution_count": null,
   "metadata": {},
   "outputs": [
    {
     "name": "stdout",
     "output_type": "stream",
     "text": [
      "<npc.Array shape=(2, 2, 1) labels=['vL', 'p', 'vR']\n",
      "charge=ChargeInfo([], [])\n",
      " +1 | +1 | -1 \n",
      "0 []|0 []|0 []\n",
      "2   |2   |1   \n",
      "[[[ 1.]\n",
      "  [ 0.]]\n",
      "\n",
      " [[-0.]\n",
      "  [-1.]]]\n",
      ">\n"
     ]
    }
   ],
   "source": [
    "print(psi_mps._B[2])"
   ]
  },
  {
   "cell_type": "code",
   "execution_count": 103,
   "metadata": {},
   "outputs": [],
   "source": [
    "norm = np.sqrt(psi_mps.overlap(psi_mps))\n",
    "for i in range(len(psi_mps._B)):\n",
    "    psi_mps.set_B(i, psi_mps.get_B(i, form=None) / norm, form='B')\n"
   ]
  },
  {
   "cell_type": "code",
   "execution_count": 104,
   "metadata": {},
   "outputs": [],
   "source": [
    "psi_mps.canonical_form()"
   ]
  },
  {
   "cell_type": "code",
   "execution_count": 106,
   "metadata": {},
   "outputs": [
    {
     "data": {
      "text/plain": [
       "0.5000000000000001"
      ]
     },
     "execution_count": 106,
     "metadata": {},
     "output_type": "execute_result"
    }
   ],
   "source": [
    "psi_mps.overlap(psi_mps)"
   ]
  },
  {
   "cell_type": "code",
   "execution_count": null,
   "metadata": {},
   "outputs": [],
   "source": []
  },
  {
   "cell_type": "code",
   "execution_count": null,
   "metadata": {},
   "outputs": [],
   "source": [
    "# Print and inspect the MPS tensors\n",
    "for i, tensor in enumerate(psi_mps._B):\n",
    "    print(f\"Tensor at site {i}:\")\n",
    "    print(tensor)\n",
    "    print(\"----------\")"
   ]
  },
  {
   "cell_type": "code",
   "execution_count": null,
   "metadata": {},
   "outputs": [],
   "source": []
  },
  {
   "cell_type": "code",
   "execution_count": 42,
   "metadata": {},
   "outputs": [],
   "source": [
    "from sympy import Matrix, Symbol\n",
    "\n",
    "# Define noncommuting symbols\n",
    "X = [Symbol(f'X_{i}', commutative=False) for i in range(5)]\n",
    "Z = [Symbol(f'Z_{i}', commutative=False) for i in range(5)]\n",
    "h=Symbol('h')\n",
    "# B = Symbol('B', commutative=False)\n",
    "# C = Symbol('C', commutative=False)\n",
    "# D = Symbol('D', commutative=False)\n",
    "\n",
    "# Create a matrix with these noncommuting symbols\n",
    "# m = Matrix([[A, B], [C, D]])\n",
    "\n",
    "# Now matrix is a 2x2 symbolic matrix with noncommuting elements\n"
   ]
  },
  {
   "cell_type": "code",
   "execution_count": 43,
   "metadata": {},
   "outputs": [],
   "source": [
    "m=[Matrix([[1,0,0,0],[Z[i],0,0,0],[0,X[i],0,0],[-h*X[i],0,Z[i],1]]) for i in range(5)]\n",
    "vL=Matrix([[0,0,0,1]])\n",
    "vR=Matrix([[1,0,0,0]]).T"
   ]
  },
  {
   "cell_type": "code",
   "execution_count": 25,
   "metadata": {},
   "outputs": [
    {
     "data": {
      "text/latex": [
       "$\\displaystyle \\left[\\begin{matrix}1\\\\Z_{0}\\\\X_{0} Z_{1}\\\\0\\end{matrix}\\right]$"
      ],
      "text/plain": [
       "Matrix([\n",
       "[      1],\n",
       "[    Z_0],\n",
       "[X_0*Z_1],\n",
       "[      0]])"
      ]
     },
     "execution_count": 25,
     "metadata": {},
     "output_type": "execute_result"
    }
   ],
   "source": [
    "m[0]@m[1]@vR"
   ]
  },
  {
   "cell_type": "code",
   "execution_count": 44,
   "metadata": {},
   "outputs": [
    {
     "data": {
      "text/latex": [
       "$\\displaystyle \\left[\\begin{matrix}- h X_{0} - h X_{1} - h X_{2} - h X_{3} - h X_{4} + Z_{0} X_{1} Z_{2} + Z_{1} X_{2} Z_{3} + Z_{2} X_{3} Z_{4}\\end{matrix}\\right]$"
      ],
      "text/plain": [
       "Matrix([[-h*X_0 - h*X_1 - h*X_2 - h*X_3 - h*X_4 + Z_0*X_1*Z_2 + Z_1*X_2*Z_3 + Z_2*X_3*Z_4]])"
      ]
     },
     "execution_count": 44,
     "metadata": {},
     "output_type": "execute_result"
    }
   ],
   "source": [
    "vL@m[0]@m[1]@m[2]@m[3]@m[4]@vR"
   ]
  },
  {
   "cell_type": "code",
   "execution_count": 37,
   "metadata": {},
   "outputs": [
    {
     "data": {
      "text/latex": [
       "$\\displaystyle \\left[\\begin{matrix}1 & 0 & 0 & 0\\\\Z_{0} & 0 & 0 & 0\\\\X_{0} Z_{1} & 0 & 0 & 0\\\\0 & Z_{0} X_{1} & Z_{1} & 1\\end{matrix}\\right]$"
      ],
      "text/plain": [
       "Matrix([\n",
       "[      1,       0,   0, 0],\n",
       "[    Z_0,       0,   0, 0],\n",
       "[X_0*Z_1,       0,   0, 0],\n",
       "[      0, Z_0*X_1, Z_1, 1]])"
      ]
     },
     "execution_count": 37,
     "metadata": {},
     "output_type": "execute_result"
    }
   ],
   "source": [
    "m[0]@m[1]"
   ]
  },
  {
   "cell_type": "code",
   "execution_count": null,
   "metadata": {},
   "outputs": [],
   "source": []
  }
 ],
 "metadata": {
  "kernelspec": {
   "display_name": "base",
   "language": "python",
   "name": "python3"
  },
  "language_info": {
   "codemirror_mode": {
    "name": "ipython",
    "version": 3
   },
   "file_extension": ".py",
   "mimetype": "text/x-python",
   "name": "python",
   "nbconvert_exporter": "python",
   "pygments_lexer": "ipython3",
   "version": "3.8.11"
  },
  "orig_nbformat": 4
 },
 "nbformat": 4,
 "nbformat_minor": 2
}
